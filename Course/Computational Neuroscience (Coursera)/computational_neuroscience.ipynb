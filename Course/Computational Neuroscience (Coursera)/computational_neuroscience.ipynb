{
 "cells": [
  {
   "attachments": {},
   "cell_type": "markdown",
   "metadata": {},
   "source": [
    "Common import"
   ]
  },
  {
   "cell_type": "code",
   "execution_count": null,
   "metadata": {},
   "outputs": [],
   "source": [
    "from __future__ import division\n",
    "import numpy as np\n",
    "import matplotlib.pyplot as plt"
   ]
  },
  {
   "attachments": {},
   "cell_type": "markdown",
   "metadata": {},
   "source": [
    "Opening data files using pickle module"
   ]
  },
  {
   "cell_type": "code",
   "execution_count": null,
   "metadata": {},
   "outputs": [],
   "source": [
    "import pickle\n",
    "\n",
    "# create dictionary containing all your data\n",
    "data = {'stim': np.array([1, 2, 3]), 'response': np.array([6, 2, 0])}\n",
    "\n",
    "# save data in pickle format\n",
    "with open('my_data.pickle', 'wb') as f:\n",
    "    pickle.dump(data, f)\n",
    "\n",
    "# open data from file\n",
    "with open('my_data.pickle', 'rb') as f:\n",
    "    new_data_variable = pickle.load(f)\n",
    "\n",
    "# now new_data_variable is equal to the dict:\n",
    "# {'stim': np.array([1, 2, 3]), 'response': np.array([6, 2, 0])}"
   ]
  },
  {
   "attachments": {},
   "cell_type": "markdown",
   "metadata": {},
   "source": [
    "3 computational model of brain\n",
    "1. Descriptive model: neural encoode and decode\n",
    "2. Mechanistic model: simulate a single/network of neuron/s.\n",
    "3. Interpretive/Normative model: computational principles of brain operation."
   ]
  },
  {
   "attachments": {},
   "cell_type": "markdown",
   "metadata": {},
   "source": []
  }
 ],
 "metadata": {
  "language_info": {
   "name": "python"
  },
  "orig_nbformat": 4
 },
 "nbformat": 4,
 "nbformat_minor": 2
}
