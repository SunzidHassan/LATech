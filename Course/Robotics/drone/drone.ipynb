{
 "cells": [
  {
   "cell_type": "markdown",
   "metadata": {},
   "source": [
    "## Udemy: Make an Open Source Drone"
   ]
  },
  {
   "cell_type": "markdown",
   "metadata": {},
   "source": [
    "### 01. Introduction\n",
    "#### Parts\n",
    "- Quadcopter frame\n",
    "- 4 sets of motors, propellers and ESC\n",
    "- At least one LiPo battery\n",
    "- Flight controller (Pixhawk)\n",
    "- RC receiver-transmitter set\n",
    "- ESC battery bullet connector\n",
    "- Landing gear\n",
    "- Battery meter\n",
    "\n",
    "- Camera\n",
    "- VR monitor\n",
    "\n",
    "#### Tools\n",
    "- LiPo battery balance charger\n",
    "- Precision screwdrivers\n",
    "- Precision antistatic tweezers\n",
    "- Wire cutter\n",
    "- Wire stripper\n",
    "- Multimeter\n",
    "- Electrical tape\n",
    "- Soldering iron and solder\n",
    "- PCB holder\n",
    "- Solder pump\n",
    "- Thin single core wire\n",
    "- Heat shrink tubing\n",
    "- Cable ties\n",
    "- Double-sided tape or velcro\n",
    "- Scissors\n",
    "- Appropriate battery connector\n",
    "- 10 or 12 AWG wire for the battery\n",
    "- Teflon tape\n",
    "- Insulating electrical tape\n",
    "\n",
    "### 02. Multi-copter drone basics\n",
    "Drone classification: racing, photography, delivery, GPS, educational. Plus and X shaped quadcopter, hexa-x, octo-x.\n",
    "\n",
    "#### Roll, yaw, pitch\n",
    "![Roll-yaw-pitch](https://upload.wikimedia.org/wikipedia/commons/c/c1/Yaw_Axis_Corrected.svg)"
   ]
  },
  {
   "cell_type": "markdown",
   "metadata": {},
   "source": [
    "### 03. ESC and motors\n",
    "Electronic Speed Controller (ESC) controls motor speed by controlling power sent to motors. It's described with the highest amperage it can send to the motor.  \n",
    "Kv refers to constant velocity of a motor. It's measured by rpm when 1 volt is applied without any load. 1000 Kv motors are stable.  \n",
    "A2212 1000Kv is a brushless motor of 22 diameter, 12 can height, 1000 rpm when 1 volt is applied without load.\n",
    "\n",
    "Flight controllers receive input (e.g., from radio receiver), and tells ESC what power to send to the motors."
   ]
  },
  {
   "cell_type": "markdown",
   "metadata": {},
   "source": [
    "### 04. Power distribution board assembly"
   ]
  },
  {
   "cell_type": "markdown",
   "metadata": {},
   "source": [
    "### 05. Main body assembly"
   ]
  },
  {
   "cell_type": "markdown",
   "metadata": {},
   "source": [
    "## 06. Flight controller and peripherals"
   ]
  },
  {
   "cell_type": "markdown",
   "metadata": {},
   "source": [
    "### 07. Battery and charger"
   ]
  },
  {
   "cell_type": "markdown",
   "metadata": {},
   "source": [
    "### 08. The firmware"
   ]
  },
  {
   "cell_type": "markdown",
   "metadata": {},
   "source": [
    "### 09. The transmitter"
   ]
  },
  {
   "cell_type": "markdown",
   "metadata": {},
   "source": [
    "### 10. Mission planner"
   ]
  },
  {
   "cell_type": "markdown",
   "metadata": {},
   "source": [
    "### 11. Getting ready to fly"
   ]
  },
  {
   "cell_type": "markdown",
   "metadata": {},
   "source": [
    "### 12. Test flight"
   ]
  },
  {
   "cell_type": "markdown",
   "metadata": {},
   "source": [
    "### 13. Upgrade using the Pixhawk flight controller"
   ]
  },
  {
   "cell_type": "markdown",
   "metadata": {},
   "source": [
    "### 14. Upgrade using the MATEK flight controller"
   ]
  },
  {
   "cell_type": "markdown",
   "metadata": {},
   "source": [
    "### 15. Conclusion"
   ]
  }
 ],
 "metadata": {
  "language_info": {
   "name": "python"
  }
 },
 "nbformat": 4,
 "nbformat_minor": 2
}
