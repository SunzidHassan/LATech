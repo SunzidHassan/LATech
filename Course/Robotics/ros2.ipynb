{
 "cells": [
  {
   "cell_type": "markdown",
   "metadata": {},
   "source": [
    "gedit ~/.bashrc\n",
    "add: source /opt/ros/humble/setup.bash\n",
    "\n"
   ]
  }
 ],
 "metadata": {
  "language_info": {
   "name": "python"
  }
 },
 "nbformat": 4,
 "nbformat_minor": 2
}
