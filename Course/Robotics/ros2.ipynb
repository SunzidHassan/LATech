{
 "cells": [
  {
   "cell_type": "markdown",
   "metadata": {},
   "source": [
    "gedit ~/.bashrc\n",
    "add: source /opt/ros/humble/setup.bash\n",
    "source ~/.bashrc\n",
    "\n",
    "## Node\n",
    "ros2 run PACKAGE NODE\n",
    "ros2 run demo_nodes_cpp talker\n",
    "ros2 run demo_nodes_cpp listener\n",
    "\n",
    "Here, /talker node is publishing /chatter topic, and /listener node is subscribing to it.\n",
    "\n",
    "ros2 run turtlesim turtlesim_node\n",
    "\n",
    "## ROS2 workspace\n",
    "sudo apt install python3-colcon-common-extensions\n",
    "gedit ~/.bashrc\n",
    "add: source /usr/share/colcon_argcomplete/hook/colcon-argcomplete.bash\n",
    "source ~/.bashrc\n",
    "\n",
    "Create a workspace (folder):\n",
    "mkdir ros2_ws && cd ros2_ws && mkdir src\n",
    "colcon build\n",
    "\n",
    "Source the new package installation everytime you want to use the package with: source ~/ros2_ws/install/setup.bash\n",
    "Or,\n",
    "gedit ~/.bashrc\n",
    "add: source ~/ros2_ws/install/setup.bash\n",
    "source ~/.bashrc\n",
    "\n",
    "### Creating package\n",
    "cd src/\n",
    "ros2 pkg create PACKAGE_NAME --build-type ament_python --dependencies rclpy\n",
    "\n",
    "cd ..\n",
    "colcon build\n",
    "\n",
    "## Creating ROS2 Node with Python and OOP\n",
    "cd ros2_ws/ros2_ws/src/my_robot_controller/my_robot_controller$\n",
    "touch my_first_node.py\n",
    "chmod +x my_first_node.py\n",
    "\n",
    "My First Node:\n",
    "#!/usr/bin/env python3\n",
    "import rclpy\n",
    "\n"
   ]
  },
  {
   "cell_type": "code",
   "execution_count": null,
   "metadata": {
    "vscode": {
     "languageId": "plaintext"
    }
   },
   "outputs": [],
   "source": [
    "#!/usr/bin/env python3\n",
    "import rclpy\n",
    "from rclpy.node import Node\n",
    "\n",
    "# We create a Node class and inherit from rclpy.node object\n",
    "class MyNode(Node):\n",
    "    # Initiatize the node by proving a node name\n",
    "    def __init__(self):\n",
    "        super().__init__(\"first_node\")\n",
    "\n",
    "\n",
    "def main(args=None):\n",
    "    # Initiate ros2 communication\n",
    "    rclpy.init(args=args)\n",
    "\n",
    "    # Create node\n",
    "    node = MyNode()\n",
    "\n",
    "    # Stop ros2 communication\n",
    "    rclpy.shutdown()\n",
    "\n",
    "if __name__ == '__main__':\n",
    "    main ()"
   ]
  },
  {
   "cell_type": "code",
   "execution_count": null,
   "metadata": {
    "vscode": {
     "languageId": "plaintext"
    }
   },
   "outputs": [],
   "source": [
    "#!/usr/bin/env python3\n",
    "import rclpy\n",
    "from rclpy.node import Node\n",
    "\n",
    "# We create a Node class and inherit from rclpy.node object\n",
    "class MyNode(Node):\n",
    "    # Initiatize the node by proving a node name\n",
    "    def __init__(self):\n",
    "        super().__init__(\"first_node\")\n",
    "        self.counter_ = 0\n",
    "        self.create_timer(1.0, self.timer_callback)\n",
    "\n",
    "    def timer_callback(self):\n",
    "        self.get_logger().info(\"Hello\" + str(self.counter_))\n",
    "        self.counter_ += 1\n",
    "\n",
    "def main(args=None):\n",
    "    # Initiate ros2 communication\n",
    "    rclpy.init(args=args)\n",
    "\n",
    "    # Create node\n",
    "    node = MyNode()\n",
    "\n",
    "    # Keep the node alive\n",
    "    rclpy.spin(node)\n",
    "\n",
    "    # Stop ros2 communication\n",
    "    rclpy.shutdown()\n",
    "\n",
    "if __name__ == '__main__':\n",
    "    main ()"
   ]
  },
  {
   "cell_type": "markdown",
   "metadata": {},
   "source": [
    "To add the node to ros2 run:\n",
    "src/my_robot_controller/setup.py\n",
    "    entry_points={\n",
    "        'console_scripts': [\n",
    "            # \"ExecutableName = PackageName.FileName:main\"\n",
    "            \"test_node = my_robot_controller.my_first_node:main\"\n",
    "        ],\n",
    "\n",
    "Then go to workspace folder and execute:\n",
    "colcon build  --symlink-install\n",
    "source install/setup.bash [from ros2_ws/ directory]\n",
    "ros2 run my_robot_controller test_node\n",
    "\n",
    "ros2 node list\n",
    "ros2 node info /first_node"
   ]
  }
 ],
 "metadata": {
  "language_info": {
   "name": "python"
  }
 },
 "nbformat": 4,
 "nbformat_minor": 2
}
