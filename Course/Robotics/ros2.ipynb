{
 "cells": [
  {
   "cell_type": "markdown",
   "metadata": {},
   "source": [
    "gedit ~/.bashrc\n",
    "add: source /opt/ros/humble/setup.bash\n",
    "source ~/.bashrc\n",
    "\n",
    "## Node\n",
    "ros2 run PACKAGE NODE\n",
    "ros2 run demo_nodes_cpp talker\n",
    "ros2 run demo_nodes_cpp listener\n",
    "\n",
    "Here, /talker node is publishing /chatter topic, and /listener node is subscribing to it.\n",
    "\n",
    "ros2 run turtlesim turtlesim_node\n",
    "\n",
    "## ROS2 workspace\n",
    "sudo apt install python3-colcon-common-extensions\n",
    "gedit ~/.bashrc\n",
    "add: source /usr/share/colcon_argcomplete/hook/colcon-argcomplete.bash\n",
    "source ~/.bashrc\n",
    "\n",
    "Create a workspace (folder):\n",
    "mkdir ros2_ws && cd ros2_ws && mkdir src\n",
    "colcon build\n",
    "\n",
    "Source the new package installation everytime you want to use the package with: source ~/ros2_ws/install/setup.bash\n",
    "Or,\n",
    "gedit ~/.bashrc\n",
    "add: source ~/ros2_ws/install/setup.bash\n",
    "source ~/.bashrc\n",
    "\n",
    "### Creating package\n",
    "cd src/\n",
    "ros2 pkg create PACKAGE_NAME --build-type ament_python --dependencies rclpy\n",
    "\n",
    "cd ..\n",
    "colcon build"
   ]
  }
 ],
 "metadata": {
  "language_info": {
   "name": "python"
  }
 },
 "nbformat": 4,
 "nbformat_minor": 2
}
