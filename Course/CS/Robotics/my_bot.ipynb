{
 "cells": [
  {
   "cell_type": "markdown",
   "metadata": {},
   "source": [
    "Differential Drive: robot with two wheels driving it. \n",
    "\n",
    "Base link: main coordinate system: x-pointing forward, y-pointing left, z-pointing up.\n",
    "\n",
    "![Robot State Publisher](./images/Robot_state_publisher.png)"
   ]
  },
  {
   "cell_type": "markdown",
   "metadata": {},
   "source": [
    "Everytime we add a new file: colcon build --symlink-install\n",
    "Robot state publisher:\n",
    "source install/setup.bash\n",
    "ros2 launch my_bot rsp.launch.py\n",
    "ros2 launch my_bot rsp.launch.py use_sim_time:=true\n",
    "\n",
    "#### Gazebo simulation\n",
    "ros2 launch gazebo_ros gazebo.launch.py\n",
    "ros2 launch my_bot launch_sim.launch.py\n",
    "\n",
    "#### Running GUI\n",
    "xhost +local:\n",
    "\n",
    "#### Rviz load view\n",
    "rviz2 -d src/my_bot/config/view_bot.rviz"
   ]
  },
  {
   "cell_type": "markdown",
   "metadata": {},
   "source": [
    "### Driving virtural robot\n",
    "\n",
    "ros2 launch my_bot launch_sim.launch.py world:=./src/my_bot/worlds/obstacles.world "
   ]
  },
  {
   "cell_type": "markdown",
   "metadata": {},
   "source": [
    "![Robot Control](.images/robot_control_1.png)"
   ]
  },
  {
   "cell_type": "markdown",
   "metadata": {},
   "source": [
    "## Camera\n",
    "ros2 run rqt_image_view rqt_image_view\n",
    "\n",
    "ros2 run image_transport republish compressed raw --ros-args -r in/compressed:=/camera/image_raw/compressed -r out:=/camera/image_raw/uncompressed"
   ]
  },
  {
   "cell_type": "markdown",
   "metadata": {},
   "source": [
    "## Depth camera"
   ]
  }
 ],
 "metadata": {
  "language_info": {
   "name": "python"
  }
 },
 "nbformat": 4,
 "nbformat_minor": 2
}
