{
 "cells": [
  {
   "cell_type": "markdown",
   "metadata": {},
   "source": [
    "Differential Drive: robot with two wheels driving it. \n",
    "\n",
    "Base link: main coordinate system: x-pointing forward, y-pointing left, z-pointing up.\n",
    "\n",
    "![Robot State Publisher](./images/Robot_state_publisher.png)"
   ]
  },
  {
   "cell_type": "markdown",
   "metadata": {},
   "source": [
    "#### Running GUI\n",
    "xhost +local:  \n",
    "In terminal, and rebuilding container.\n",
    "\n",
    "#### Building Xacro robot description\n",
    "Everytime we add a new file:  \n",
    "colcon build --symlink-install\n",
    "\n",
    "#### State publisher\n",
    "Then we need to source the updated install in state publisher, gazebo, etc.:  \n",
    "source install/setup.bash\n",
    "\n",
    "State publisher: \n",
    "ros2 launch my_bot rsp.launch.py use_sim_time:=true\n",
    "\n",
    "#### Install Gazebo\n",
    "sudo apt-get update\n",
    "sudo apt install ros-humble-gazebo-ros-pkgs\n",
    "\n",
    "\n",
    "#### Gazebo simulation\n",
    "Gazebo launch:  \n",
    "ros2 launch gazebo_ros gazebo.launch.py  \n",
    "\n",
    "Launching with launcher file:  \n",
    "ros2 launch my_bot launch_sim.launch.py\n",
    "\n",
    "Launching with launcher in custom simulation environment:  \n",
    "ros2 launch my_bot launch_sim.launch.py world:=./src/my_bot/worlds/obstacles.world \n",
    "\n",
    "#### Rviz load view\n",
    "rviz2 -d src/my_bot/config/view_bot.rviz\n",
    "\n",
    "#### Teleop\n",
    "ros2 run teleop_twist_keyboard teleop_twist_keyboard"
   ]
  },
  {
   "cell_type": "markdown",
   "metadata": {},
   "source": [
    "![Robot Control](.images/robot_control_1.png)"
   ]
  },
  {
   "cell_type": "markdown",
   "metadata": {},
   "source": [
    "## Camera\n",
    "ros2 run rqt_image_view rqt_image_view\n",
    "\n",
    "ros2 run image_transport republish compressed raw --ros-args -r in/compressed:=/camera/image_raw/compressed -r out:=/camera/image_raw/uncompressed"
   ]
  },
  {
   "cell_type": "markdown",
   "metadata": {},
   "source": [
    "## Depth camera"
   ]
  }
 ],
 "metadata": {
  "language_info": {
   "name": "python"
  }
 },
 "nbformat": 4,
 "nbformat_minor": 2
}
