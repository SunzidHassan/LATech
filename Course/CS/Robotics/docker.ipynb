{
 "cells": [
  {
   "cell_type": "markdown",
   "metadata": {},
   "source": [
    "Image is like OS image - a system that can be replicated. It's layered like onion (Ubuntu image, ROS image, custom layer). We can take an existing docker image, add our docker file that contains extra change to create a new docker image.\n",
    "\n",
    "Docker image can be run to create a container. We can start/stop container to keep our changes, or run the image again to flash the container."
   ]
  },
  {
   "cell_type": "markdown",
   "metadata": {},
   "source": [
    "'docker image ls' or 'docker images' for the list of docker images.\n",
    "'docker image pull' for downloading docker images.\n",
    "'docker image rm -f <image-name>' for deleting image.\n",
    "'docker run ros:humble' for running image.\n",
    "'docker run -it ros:humble' for interactive in terminal image running.\n",
    "'docker container ls' or 'docker ps' for list of running containers.\n",
    "'docker ps -a' for all containers that were ran.\n",
    "'docker container stop CONTAINER_NAME' or CTRL+D for stopping container.\n",
    "'docker container start -i CONTAINER_NAME' for starting container.\n",
    "\n",
    "If we run docker image again, it'll create a fresh container.\n",
    "'docker container rm CONTAINER_NAME' for deleting CONTAINER_NAME.\n",
    "'docker container prune' for deleting all containers.\n",
    "\n",
    "'docker run --rm --name <container_name> <image_name>' will create a container with container_name, and remove it once stopped.\n",
    "\n",
    "'docker exec -it <container_name> /bin/bash' for opening a new terminal of a running container.\n",
    "'docker exec -it <container_name> <command_name>' for executing a single command in a new terminal.\n",
    "\n",
    "Create a folder, open it in VSCODE, add a Dockerfile.\n",
    "FROM ros:humble #base of the image\n",
    "RUN will run terminal commands (installing packages)\n",
    "COPY can copy configs or files in stated directory.\n",
    "\n",
    "cd to the docker project > 'docker image build -t <image_name> .' the . at the end specifies where I want to build the image, . indicating current directory.\n",
    "\n",
    "Shared files among many containers: volumes and mounts.\n",
    "\n",
    "docker run -it -v <absol_path_on_host>:<absol_path_in_cont>\n",
    "\n",
    "Change directory to my_code, type: 'docker run -it -v $PWD/source:/my_source_code my_image', where $PWD is print working directory/source folder (copy all inside) to /my_source_code directory inside the my_image container."
   ]
  }
 ],
 "metadata": {
  "language_info": {
   "name": "python"
  }
 },
 "nbformat": 4,
 "nbformat_minor": 2
}
