{
 "cells": [
  {
   "cell_type": "markdown",
   "metadata": {},
   "source": [
    "# Basics"
   ]
  },
  {
   "cell_type": "markdown",
   "metadata": {},
   "source": [
    "## Quickstart\n",
    "### Working with data\n",
    "PyTorch has two primitives to work with data: `torch.utils.data.DataLoader` and `torch.utils.data.Dataset`. `Dataset` stores the samples and their corresponding labels, and `DataLoader` wraps an iterable around the `Dataset`."
   ]
  },
  {
   "cell_type": "code",
   "execution_count": 1,
   "metadata": {},
   "outputs": [],
   "source": [
    "import torch\n",
    "from torch import nn\n",
    "from torch.utils.data import DataLoader\n",
    "from torchvision import datasets\n",
    "from torchvision.transforms import ToTensor"
   ]
  },
  {
   "cell_type": "markdown",
   "metadata": {},
   "source": [
    "PyTorch offers domain-specific libraries such as\n",
    "[TorchText](https://pytorch.org/text/stable/index.html),\n",
    "[TorchVision](https://pytorch.org/vision/stable/index.html), and\n",
    "[TorchAudio](https://pytorch.org/audio/stable/index.html), all of which\n",
    "include datasets. For this tutorial, we will be using a TorchVision\n",
    "dataset.\n",
    "\n",
    "The `torchvision.datasets` module contains `Dataset` objects for many\n",
    "real-world vision data like CIFAR, COCO ([full list\n",
    "here](https://pytorch.org/vision/stable/datasets.html)). In this\n",
    "tutorial, we use the FashionMNIST dataset. Every TorchVision `Dataset`\n",
    "includes two arguments: `transform` and `target_transform` to modify the\n",
    "samples and labels respectively."
   ]
  },
  {
   "cell_type": "code",
   "execution_count": null,
   "metadata": {},
   "outputs": [
    {
     "name": "stdout",
     "output_type": "stream",
     "text": [
      "Downloading http://fashion-mnist.s3-website.eu-central-1.amazonaws.com/train-images-idx3-ubyte.gz\n",
      "Downloading http://fashion-mnist.s3-website.eu-central-1.amazonaws.com/train-images-idx3-ubyte.gz to data/FashionMNIST/raw/train-images-idx3-ubyte.gz\n"
     ]
    },
    {
     "name": "stderr",
     "output_type": "stream",
     "text": [
      "100%|██████████| 26421880/26421880 [00:03<00:00, 7967741.55it/s] \n"
     ]
    },
    {
     "name": "stdout",
     "output_type": "stream",
     "text": [
      "Extracting data/FashionMNIST/raw/train-images-idx3-ubyte.gz to data/FashionMNIST/raw\n",
      "\n",
      "Downloading http://fashion-mnist.s3-website.eu-central-1.amazonaws.com/train-labels-idx1-ubyte.gz\n",
      "Downloading http://fashion-mnist.s3-website.eu-central-1.amazonaws.com/train-labels-idx1-ubyte.gz to data/FashionMNIST/raw/train-labels-idx1-ubyte.gz\n"
     ]
    },
    {
     "name": "stderr",
     "output_type": "stream",
     "text": [
      "100%|██████████| 29515/29515 [00:00<00:00, 209638.13it/s]\n"
     ]
    },
    {
     "name": "stdout",
     "output_type": "stream",
     "text": [
      "Extracting data/FashionMNIST/raw/train-labels-idx1-ubyte.gz to data/FashionMNIST/raw\n",
      "\n",
      "Downloading http://fashion-mnist.s3-website.eu-central-1.amazonaws.com/t10k-images-idx3-ubyte.gz\n",
      "Downloading http://fashion-mnist.s3-website.eu-central-1.amazonaws.com/t10k-images-idx3-ubyte.gz to data/FashionMNIST/raw/t10k-images-idx3-ubyte.gz\n"
     ]
    },
    {
     "name": "stderr",
     "output_type": "stream",
     "text": [
      "100%|██████████| 4422102/4422102 [00:06<00:00, 681541.68it/s] \n"
     ]
    },
    {
     "name": "stdout",
     "output_type": "stream",
     "text": [
      "Extracting data/FashionMNIST/raw/t10k-images-idx3-ubyte.gz to data/FashionMNIST/raw\n",
      "\n",
      "Downloading http://fashion-mnist.s3-website.eu-central-1.amazonaws.com/t10k-labels-idx1-ubyte.gz\n",
      "Downloading http://fashion-mnist.s3-website.eu-central-1.amazonaws.com/t10k-labels-idx1-ubyte.gz to data/FashionMNIST/raw/t10k-labels-idx1-ubyte.gz\n"
     ]
    },
    {
     "name": "stderr",
     "output_type": "stream",
     "text": [
      "100%|██████████| 5148/5148 [00:00<00:00, 5331426.42it/s]"
     ]
    },
    {
     "name": "stdout",
     "output_type": "stream",
     "text": [
      "Extracting data/FashionMNIST/raw/t10k-labels-idx1-ubyte.gz to data/FashionMNIST/raw\n",
      "\n"
     ]
    },
    {
     "name": "stderr",
     "output_type": "stream",
     "text": [
      "\n"
     ]
    }
   ],
   "source": [
    "# Download training data\n",
    "training_data = datasets.FashionMNIST(\n",
    "    root=\"data\",\n",
    "    train=True,\n",
    "    download=True,\n",
    "    transform=ToTensor(),\n",
    ")\n",
    "\n",
    "# Download test data\n",
    "test_data = datasets.FashionMNIST(\n",
    "    root=\"data\",\n",
    "    train=False,\n",
    "    download=True,\n",
    "    transform=ToTensor(),\n",
    ")"
   ]
  },
  {
   "cell_type": "markdown",
   "metadata": {},
   "source": [
    "We pass the `Dataset` as an argument to `DataLoader`. This wraps an\n",
    "iterable over our dataset, and supports automatic batching, sampling,\n",
    "shuffling and multiprocess data loading. Here we define a batch size of 64, i.e. each element in the dataloader iterable will return a batch of 64 features and labels.\n"
   ]
  },
  {
   "cell_type": "code",
   "execution_count": null,
   "metadata": {},
   "outputs": [
    {
     "name": "stdout",
     "output_type": "stream",
     "text": [
      "Shape of X [N, C, H, W]: torch.Size([64, 1, 28, 28])\n",
      "Shape of y: torch.Size([64]) torch.int64\n"
     ]
    }
   ],
   "source": [
    "batch_size = 64\n",
    "\n",
    "# create data loaders.\n",
    "train_dataloader = DataLoader(training_data, batch_size=batch_size)\n",
    "test_dataloader = DataLoader(test_data, batch_size=batch_size)\n",
    "\n",
    "for X, y in test_dataloader:\n",
    "    print(f\"Shape of X [N, C, H, W]: {X.shape}\")\n",
    "    print(f\"Shape of y: {y.shape} {y.dtype}\")\n",
    "    break"
   ]
  },
  {
   "cell_type": "markdown",
   "metadata": {},
   "source": [
    "### Creating Models\n",
    "\n",
    "To define a neural network in PyTorch, we create a class that inherits from [nn.Module](https://pytorch.org/docs/stable/generated/torch.nn.Module.html).\n",
    "We define the layers of the network in the `__init__` function and\n",
    "specify how data will pass through the network in the `forward`\n",
    "function. To accelerate operations in the neural network, we move it to the GPU or MPS if available.\n"
   ]
  },
  {
   "cell_type": "code",
   "execution_count": null,
   "metadata": {},
   "outputs": [
    {
     "name": "stdout",
     "output_type": "stream",
     "text": [
      "Using cuda device\n",
      "NeuralNetwork(\n",
      "  (flatten): Flatten(start_dim=1, end_dim=-1)\n",
      "  (linear_relu_stak): Sequential(\n",
      "    (0): Linear(in_features=784, out_features=512, bias=True)\n",
      "    (1): ReLU()\n",
      "    (2): Linear(in_features=512, out_features=512, bias=True)\n",
      "    (3): ReLU()\n",
      "    (4): Linear(in_features=512, out_features=10, bias=True)\n",
      "  )\n",
      ")\n"
     ]
    }
   ],
   "source": [
    "# Get cpu, gpu or mps device for training\n",
    "device = (\"cuda\" if torch.cuda.is_available()\n",
    "          else \"cpu\")\n",
    "print(f\"Using {device} device\")\n",
    "\n",
    "# Define model\n",
    "class NeuralNetwork(nn.Module):\n",
    "    def __init__(self) -> None:\n",
    "        super().__init__()\n",
    "        self.flatten = nn.Flatten()\n",
    "        self.linear_relu_stak = nn.Sequential(\n",
    "            nn.Linear(28*28, 512),\n",
    "            nn.ReLU(),\n",
    "            nn.Linear(512, 512),\n",
    "            nn.ReLU(),\n",
    "            nn.Linear(512, 10)\n",
    "        )\n",
    "    def forward(self, x):\n",
    "        x = self.flatten(x)\n",
    "        logits = self.linear_relu_stak(x)\n",
    "        return logits\n",
    "\n",
    "model = NeuralNetwork().to(device)\n",
    "print(model)"
   ]
  },
  {
   "cell_type": "markdown",
   "metadata": {},
   "source": [
    "### Optimizing the Model Parameters\n",
    "To train a model, we need a [loss function](https://pytorch.org/docs/stable/nn.html#loss-functions) and an [optimizer](https://pytorch.org/docs/stable/optim.html).\n"
   ]
  },
  {
   "cell_type": "code",
   "execution_count": null,
   "metadata": {},
   "outputs": [],
   "source": [
    "loss_fn = nn.CrossEntropyLoss()\n",
    "optimizer = torch.optim.SGD(model.parameters(), lr=1e-3)"
   ]
  },
  {
   "cell_type": "markdown",
   "metadata": {},
   "source": [
    "In a single training loop, the model makes predictions on the training dataset (fed to it in batches), and backpropagates the prediction error to adjust the model\\'s parameters."
   ]
  },
  {
   "cell_type": "code",
   "execution_count": null,
   "metadata": {},
   "outputs": [],
   "source": [
    "def train(dataloader, model, loss_fn, optimizer):\n",
    "    size = len(dataloader.dataset)\n",
    "    model.train()\n",
    "    for batch, (X, y) in enumerate(dataloader):\n",
    "        X, y = X.to(device), y.to(device)\n",
    "\n",
    "        # compute prediction error\n",
    "        pred = model(X)\n",
    "        loss = loss_fn(pred, y)\n",
    "\n",
    "        # Backpropagation\n",
    "        loss.backward()\n",
    "        optimizer.step()\n",
    "        optimizer.zero_grad()\n",
    "\n",
    "        if batch % 100 == 0:\n",
    "            loss, current = loss.item(), (batch + 1) * len(X)\n",
    "            print(f\"loss: {loss:>7f} [{current:>5d}/{size:>5d}]\")"
   ]
  },
  {
   "cell_type": "markdown",
   "metadata": {},
   "source": [
    "We also check the model\\'s performance against the test dataset to\n",
    "ensure it is learning."
   ]
  },
  {
   "cell_type": "code",
   "execution_count": null,
   "metadata": {},
   "outputs": [],
   "source": [
    "def test(dataloader, model, loss_fn):\n",
    "    size = len(dataloader.dataset)\n",
    "    num_batches = len(dataloader)\n",
    "    model.eval()\n",
    "    test_loss, correct = 0, 0\n",
    "    with torch.no_grad():\n",
    "        for X, y in dataloader:\n",
    "            X, y = X.to(device), y.to(device)\n",
    "            pred = model(X)\n",
    "            test_loss += loss_fn(pred, y).item()\n",
    "            correct += (pred.argmax(1) == y).type(torch.float).sum().item()\n",
    "        test_loss /= num_batches\n",
    "        correct /= size\n",
    "        print(f\"Test Error: \\n Accuracy: {(100*correct):>0.1f}%, Avg loss: {test_loss:>8f} \\n\")"
   ]
  },
  {
   "cell_type": "markdown",
   "metadata": {},
   "source": [
    "The training process is conducted over several iterations (*epochs*).\n",
    "During each epoch, the model learns parameters to make better\n",
    "predictions. We print the model\\'s accuracy and loss at each epoch;\n",
    "we\\'d like to see the accuracy increase and the loss decrease with every\n",
    "epoch.\n"
   ]
  },
  {
   "cell_type": "code",
   "execution_count": null,
   "metadata": {},
   "outputs": [
    {
     "name": "stdout",
     "output_type": "stream",
     "text": [
      "Epoch 1\n",
      "-------------------------------\n",
      "loss: 2.312702 [   64/60000]\n",
      "loss: 2.302686 [ 6464/60000]\n",
      "loss: 2.273867 [12864/60000]\n",
      "loss: 2.261350 [19264/60000]\n",
      "loss: 2.255846 [25664/60000]\n",
      "loss: 2.224161 [32064/60000]\n",
      "loss: 2.225834 [38464/60000]\n",
      "loss: 2.197489 [44864/60000]\n",
      "loss: 2.193152 [51264/60000]\n",
      "loss: 2.153397 [57664/60000]\n",
      "Test Error: \n",
      " Accuracy: 35.4%, Avg loss: 2.156094 \n",
      "\n",
      "Epoch 2\n",
      "-------------------------------\n",
      "loss: 2.177377 [   64/60000]\n",
      "loss: 2.168272 [ 6464/60000]\n",
      "loss: 2.102842 [12864/60000]\n",
      "loss: 2.112488 [19264/60000]\n",
      "loss: 2.071274 [25664/60000]\n",
      "loss: 2.012736 [32064/60000]\n",
      "loss: 2.037289 [38464/60000]\n",
      "loss: 1.961162 [44864/60000]\n",
      "loss: 1.961603 [51264/60000]\n",
      "loss: 1.890148 [57664/60000]\n",
      "Test Error: \n",
      " Accuracy: 49.2%, Avg loss: 1.888956 \n",
      "\n",
      "Epoch 3\n",
      "-------------------------------\n",
      "loss: 1.933108 [   64/60000]\n",
      "loss: 1.903405 [ 6464/60000]\n",
      "loss: 1.777747 [12864/60000]\n",
      "loss: 1.816611 [19264/60000]\n",
      "loss: 1.707883 [25664/60000]\n",
      "loss: 1.663428 [32064/60000]\n",
      "loss: 1.687826 [38464/60000]\n",
      "loss: 1.583306 [44864/60000]\n",
      "loss: 1.600447 [51264/60000]\n",
      "loss: 1.512663 [57664/60000]\n",
      "Test Error: \n",
      " Accuracy: 56.4%, Avg loss: 1.520416 \n",
      "\n",
      "Epoch 4\n",
      "-------------------------------\n",
      "loss: 1.592987 [   64/60000]\n",
      "loss: 1.558250 [ 6464/60000]\n",
      "loss: 1.399751 [12864/60000]\n",
      "loss: 1.478368 [19264/60000]\n",
      "loss: 1.357630 [25664/60000]\n",
      "loss: 1.355151 [32064/60000]\n",
      "loss: 1.377433 [38464/60000]\n",
      "loss: 1.292554 [44864/60000]\n",
      "loss: 1.316011 [51264/60000]\n",
      "loss: 1.243372 [57664/60000]\n",
      "Test Error: \n",
      " Accuracy: 61.5%, Avg loss: 1.257951 \n",
      "\n",
      "Epoch 5\n",
      "-------------------------------\n",
      "loss: 1.335883 [   64/60000]\n",
      "loss: 1.318885 [ 6464/60000]\n",
      "loss: 1.147334 [12864/60000]\n",
      "loss: 1.260105 [19264/60000]\n",
      "loss: 1.136152 [25664/60000]\n",
      "loss: 1.160153 [32064/60000]\n",
      "loss: 1.187607 [38464/60000]\n",
      "loss: 1.116233 [44864/60000]\n",
      "loss: 1.141249 [51264/60000]\n",
      "loss: 1.084426 [57664/60000]\n",
      "Test Error: \n",
      " Accuracy: 63.8%, Avg loss: 1.095398 \n",
      "\n",
      "Done!\n"
     ]
    }
   ],
   "source": [
    "epochs = 5\n",
    "for t in range(epochs):\n",
    "    print(f\"Epoch {t+1}\\n-------------------------------\")\n",
    "    train(train_dataloader, model, loss_fn, optimizer)\n",
    "    test(test_dataloader, model, loss_fn)\n",
    "print(\"Done!\")"
   ]
  },
  {
   "cell_type": "markdown",
   "metadata": {},
   "source": [
    "### Saving Models\n",
    "A common way to save a model is to serialize the internal state\n",
    "dictionary (containing the model parameters)."
   ]
  },
  {
   "cell_type": "code",
   "execution_count": null,
   "metadata": {},
   "outputs": [],
   "source": [
    "torch.save(model.state_dict(), \"model.pth\")\n",
    "print(\"Saved PyTorch Model State to model.pth\")"
   ]
  },
  {
   "cell_type": "markdown",
   "metadata": {},
   "source": [
    "### Loading models\n",
    "The process for loading a model includes re-creating the model structure and loading the state dictionary into it.\n"
   ]
  },
  {
   "cell_type": "code",
   "execution_count": null,
   "metadata": {},
   "outputs": [],
   "source": [
    "model = NeuralNetwork().to(device)\n",
    "model.load_state_dict(torch.load(\"model.pth\"))"
   ]
  },
  {
   "cell_type": "markdown",
   "metadata": {},
   "source": [
    "This model can now be used to make predictions."
   ]
  },
  {
   "cell_type": "code",
   "execution_count": null,
   "metadata": {},
   "outputs": [],
   "source": [
    "classes = [\n",
    "    \"T-shirt/top\",\n",
    "    \"Trouser\",\n",
    "    \"Pullover\",\n",
    "    \"Dress\",\n",
    "    \"Coat\",\n",
    "    \"Sandal\",\n",
    "    \"Shirt\",\n",
    "    \"Sneaker\",\n",
    "    \"Bag\",\n",
    "    \"Ankle boot\",\n",
    "]\n",
    "\n",
    "model.eval()\n",
    "x, y = test_data[0][0], test_data[0][1]\n",
    "with torch.no_grad():\n",
    "    x = x.to(device)\n",
    "    pred = model(x)\n",
    "    predicted, actual = classes[pred[0].argmax(0)], classes[y]\n",
    "    print(f'Predicted: \"{predicted}\", Actual: \"{actual}\"')"
   ]
  },
  {
   "cell_type": "markdown",
   "metadata": {},
   "source": [
    "## Tensors\n",
    "Like array, but can run on GPU."
   ]
  },
  {
   "cell_type": "code",
   "execution_count": null,
   "metadata": {},
   "outputs": [],
   "source": [
    "import torch\n",
    "import numpy as np"
   ]
  },
  {
   "cell_type": "markdown",
   "metadata": {},
   "source": [
    "### Initializing Tensor\n",
    "Directly from data"
   ]
  },
  {
   "cell_type": "code",
   "execution_count": null,
   "metadata": {},
   "outputs": [
    {
     "name": "stdout",
     "output_type": "stream",
     "text": [
      "[[1, 2], [3, 4]]\n",
      "tensor([[1, 2],\n",
      "        [3, 4]])\n"
     ]
    }
   ],
   "source": [
    "data = [[1, 2], [3, 4]]\n",
    "print(data)\n",
    "x_data = torch.tensor(data)\n",
    "print(x_data)"
   ]
  },
  {
   "cell_type": "markdown",
   "metadata": {},
   "source": [
    "**From numpy array.**"
   ]
  },
  {
   "cell_type": "code",
   "execution_count": null,
   "metadata": {},
   "outputs": [],
   "source": [
    "np_array = np.array(data)\n",
    "x_np = torch.from_numpy(np_array)"
   ]
  },
  {
   "cell_type": "markdown",
   "metadata": {},
   "source": [
    "**From another tensor**, new tensor keep shape and datatype of old tensor."
   ]
  },
  {
   "cell_type": "code",
   "execution_count": null,
   "metadata": {},
   "outputs": [
    {
     "name": "stdout",
     "output_type": "stream",
     "text": [
      "Ones Tensor: \n",
      " tensor([[1, 1],\n",
      "        [1, 1]]) \n",
      "\n",
      "Ones Tensor: \n",
      " tensor([[0.2128, 0.8975],\n",
      "        [0.8850, 0.3905]]) \n",
      "\n"
     ]
    }
   ],
   "source": [
    "x_ones = torch.ones_like(x_data) # retains properties of x_data\n",
    "print(f\"Ones Tensor: \\n {x_ones} \\n\")\n",
    "\n",
    "x_rand = torch.rand_like(x_data, dtype=torch.float) # overrides dtype\n",
    "print(f\"Ones Tensor: \\n {x_rand} \\n\")"
   ]
  },
  {
   "cell_type": "markdown",
   "metadata": {},
   "source": [
    "**With random or constant values:**\n",
    "\n",
    "`shape` is a tuple of tensor dimensions. In the functions below, it\n",
    "determines the dimensionality of the output tensor."
   ]
  },
  {
   "cell_type": "code",
   "execution_count": null,
   "metadata": {},
   "outputs": [
    {
     "name": "stdout",
     "output_type": "stream",
     "text": [
      "Random Tensor: \n",
      " tensor([[0.5674, 0.6799, 0.2115],\n",
      "        [0.6086, 0.1519, 0.2078]]) \n",
      "\n",
      "Ones Tensor: \n",
      " tensor([[1., 1., 1.],\n",
      "        [1., 1., 1.]]) \n",
      "\n",
      "Zeros Tensor: \n",
      " tensor([[0., 0., 0.],\n",
      "        [0., 0., 0.]])\n"
     ]
    }
   ],
   "source": [
    "shape = (2,3,)\n",
    "rand_tensor = torch.rand(shape)\n",
    "ones_tensor = torch.ones(shape)\n",
    "zeros_tensor = torch.zeros(shape)\n",
    "\n",
    "print(f\"Random Tensor: \\n {rand_tensor} \\n\")\n",
    "print(f\"Ones Tensor: \\n {ones_tensor} \\n\")\n",
    "print(f\"Zeros Tensor: \\n {zeros_tensor}\")"
   ]
  },
  {
   "cell_type": "markdown",
   "metadata": {},
   "source": [
    "### Attributes of a Tensor\n",
    "\n",
    "Tensor attributes describe their shape, datatype, and the device on\n",
    "which they are stored."
   ]
  },
  {
   "cell_type": "code",
   "execution_count": null,
   "metadata": {},
   "outputs": [
    {
     "name": "stdout",
     "output_type": "stream",
     "text": [
      "Shape of tensor: torch.Size([3, 4])\n",
      "Datatype of tensor: torch.float32\n",
      "Device tensor is stored on: cpu\n"
     ]
    }
   ],
   "source": [
    "tensor = torch.rand(3,4)\n",
    "\n",
    "print(f\"Shape of tensor: {tensor.shape}\")\n",
    "print(f\"Datatype of tensor: {tensor.dtype}\")\n",
    "print(f\"Device tensor is stored on: {tensor.device}\")"
   ]
  },
  {
   "cell_type": "markdown",
   "metadata": {},
   "source": [
    "### Tensor operations"
   ]
  },
  {
   "cell_type": "code",
   "execution_count": null,
   "metadata": {},
   "outputs": [],
   "source": [
    "# We move our tensor to the GPU if available\n",
    "if torch.cuda.is_available():\n",
    "    tensor = tensor.to(\"cuda\")"
   ]
  },
  {
   "cell_type": "code",
   "execution_count": null,
   "metadata": {},
   "outputs": [
    {
     "name": "stdout",
     "output_type": "stream",
     "text": [
      "First row: tensor([0.8542, 0.7970, 0.1524, 0.4318])\n",
      "First column: tensor([0.8542, 0.9904, 0.2437, 0.6107])\n",
      "Last column: tensor([0.4318, 0.7757, 0.8978, 0.2656])\n",
      "tensor([[0.8542, 0.0000, 0.1524, 0.4318],\n",
      "        [0.9904, 0.0000, 0.5376, 0.7757],\n",
      "        [0.2437, 0.0000, 0.2167, 0.8978],\n",
      "        [0.6107, 0.0000, 0.6186, 0.2656]])\n"
     ]
    }
   ],
   "source": [
    "tensor = torch.rand(4, 4)\n",
    "print(f\"First row: {tensor[0, :]}\")\n",
    "print(f\"First column: {tensor[:,0]}\")\n",
    "print(f\"Last column: {tensor[...,-1]}\")\n",
    "tensor[:,1] = 0\n",
    "print(tensor)"
   ]
  },
  {
   "cell_type": "markdown",
   "metadata": {},
   "source": [
    "**Joining tensors** `torch.cat` to concatenate tensors."
   ]
  },
  {
   "cell_type": "code",
   "execution_count": null,
   "metadata": {},
   "outputs": [
    {
     "name": "stdout",
     "output_type": "stream",
     "text": [
      "tensor([[0.8542, 0.0000, 0.1524, 0.4318, 0.8542, 0.0000, 0.1524, 0.4318, 0.8542,\n",
      "         0.0000, 0.1524, 0.4318],\n",
      "        [0.9904, 0.0000, 0.5376, 0.7757, 0.9904, 0.0000, 0.5376, 0.7757, 0.9904,\n",
      "         0.0000, 0.5376, 0.7757],\n",
      "        [0.2437, 0.0000, 0.2167, 0.8978, 0.2437, 0.0000, 0.2167, 0.8978, 0.2437,\n",
      "         0.0000, 0.2167, 0.8978],\n",
      "        [0.6107, 0.0000, 0.6186, 0.2656, 0.6107, 0.0000, 0.6186, 0.2656, 0.6107,\n",
      "         0.0000, 0.6186, 0.2656]])\n"
     ]
    }
   ],
   "source": [
    "t1 = torch.cat([tensor, tensor, tensor], dim=1)\n",
    "print(t1)"
   ]
  },
  {
   "cell_type": "markdown",
   "metadata": {},
   "source": [
    "**Arithmatic operations**"
   ]
  },
  {
   "cell_type": "code",
   "execution_count": null,
   "metadata": {},
   "outputs": [],
   "source": [
    "# This computes the matrix multiplication between two tensors. y1, y2, y3 will have the same value\n",
    "# ``tensor.T`` returns the transpose of a tensor\n",
    "y1 = tensor @ tensor.T\n",
    "y2 = tensor.matmul(tensor.T)\n",
    "\n",
    "y3 = torch.rand_like(y1)\n",
    "torch.matmul(tensor, tensor.T, out=y3)\n",
    "\n",
    "\n",
    "# This computes the element-wise product. z1, z2, z3 will have the same value\n",
    "z1 = tensor * tensor\n",
    "z2 = tensor.mul(tensor)\n",
    "\n",
    "z3 = torch.rand_like(tensor)\n",
    "torch.mul(tensor, tensor, out=z3)"
   ]
  },
  {
   "cell_type": "markdown",
   "metadata": {},
   "source": [
    "**Single-element tensors** If you have a one-element tensor, for example\n",
    "by aggregating all values of a tensor into one value, you can convert it\n",
    "to a Python numerical value using `item()`:\n"
   ]
  },
  {
   "cell_type": "code",
   "execution_count": null,
   "metadata": {},
   "outputs": [],
   "source": [
    "agg = tensor.sum()\n",
    "agg_item = agg.item()\n",
    "print(agg_item, type(agg_item))"
   ]
  },
  {
   "cell_type": "markdown",
   "metadata": {},
   "source": [
    "**In-place operations** Operations that store the result into the\n",
    "operand are called in-place. They are denoted by a `_` suffix. For\n",
    "example: `x.copy_(y)`, `x.t_()`, will change `x`.\n"
   ]
  },
  {
   "cell_type": "code",
   "execution_count": null,
   "metadata": {},
   "outputs": [],
   "source": [
    "print(f\"{tensor} \\n\")\n",
    "tensor.add_(5)\n",
    "print(tensor)"
   ]
  },
  {
   "cell_type": "markdown",
   "metadata": {},
   "source": [
    "### Bridge with numpy\n",
    "Tensors on the CPU and NumPy arrays can share their underlying memory\n",
    "locations, and changing one will change the other.\n"
   ]
  },
  {
   "cell_type": "markdown",
   "metadata": {},
   "source": [
    "**Tensor to NumPy array**"
   ]
  },
  {
   "cell_type": "code",
   "execution_count": null,
   "metadata": {},
   "outputs": [],
   "source": [
    "t = torch.ones(5)\n",
    "print(f\"t: {t}\")\n",
    "n = t.numpy()\n",
    "print(f\"n: {n}\")\n",
    "\n",
    "n = np.ones(5)\n",
    "t = torch.from_numpy(n)"
   ]
  },
  {
   "cell_type": "markdown",
   "metadata": {},
   "source": [
    "## Datasets and Dataloaders\n",
    "\n",
    "Code for processing data samples can get messy and hard to maintain; we\n",
    "ideally want our dataset code to be decoupled from our model training\n",
    "code for better readability and modularity. PyTorch provides two data\n",
    "primitives: `torch.utils.data.DataLoader` and `torch.utils.data.Dataset`\n",
    "that allow you to use pre-loaded datasets as well as your own data.\n",
    "`Dataset` stores the samples and their corresponding labels, and\n",
    "`DataLoader` wraps an iterable around the `Dataset` to enable easy\n",
    "access to the samples.\n",
    "\n",
    "PyTorch domain libraries provide a number of pre-loaded datasets (such\n",
    "as FashionMNIST) that subclass `torch.utils.data.Dataset` and implement\n",
    "functions specific to the particular data. They can be used to prototype\n",
    "and benchmark your model. You can find them here: [Image\n",
    "Datasets](https://pytorch.org/vision/stable/datasets.html), [Text\n",
    "Datasets](https://pytorch.org/text/stable/datasets.html), and [Audio\n",
    "Datasets](https://pytorch.org/audio/stable/datasets.html)\n",
    "\n",
    "### Loading a Dataset\n",
    "Here is an example of how to load the\n",
    "[Fashion-MNIST](https://research.zalando.com/project/fashion_mnist/fashion_mnist/)\n",
    "dataset from TorchVision. Fashion-MNIST is a dataset of Zalando's\n",
    "article images consisting of 60,000 training examples and 10,000 test\n",
    "examples. Each example comprises a 28×28 grayscale image and an\n",
    "associated label from one of 10 classes.\n",
    "\n",
    "We load the [FashionMNIST Dataset](https://pytorch.org/vision/stable/datasets.html#fashion-mnist) with the following parameters:\n",
    "\n",
    ":   -   `root` is the path where the train/test data is stored,\n",
    "    -   `train` specifies training or test dataset,\n",
    "    -   `download=True` downloads the data from the internet if it\\'s\n",
    "        not available at `root`.\n",
    "    -   `transform` and `target_transform` specify the feature and label\n",
    "        transformations\n"
   ]
  },
  {
   "cell_type": "code",
   "execution_count": null,
   "metadata": {},
   "outputs": [],
   "source": [
    "%matplotlib inline"
   ]
  },
  {
   "cell_type": "code",
   "execution_count": null,
   "metadata": {},
   "outputs": [],
   "source": [
    "import torch\n",
    "from torch.utils.data import Dataset\n",
    "from torchvision import datasets\n",
    "from torchvision.transforms import ToTensor\n",
    "import matplotlib.pyplot as plt\n",
    "\n",
    "\n",
    "training_data = datasets.FashionMNIST(\n",
    "    root=\"data\",\n",
    "    train=True,\n",
    "    download=True,\n",
    "    transform=ToTensor()\n",
    ")\n",
    "\n",
    "test_data = datasets.FashionMNIST(\n",
    "    root=\"data\",\n",
    "    train=False,\n",
    "    download=True,\n",
    "    transform=ToTensor()\n",
    ")"
   ]
  },
  {
   "cell_type": "markdown",
   "metadata": {},
   "source": [
    "### Iterating and Visualizing the Dataset\n",
    "\n",
    "We can index `Datasets` manually like a list: `training_data[index]`. We\n",
    "use `matplotlib` to visualize some samples in our training data.\n"
   ]
  },
  {
   "cell_type": "code",
   "execution_count": null,
   "metadata": {},
   "outputs": [
    {
     "data": {
      "image/png": "[encoded data removed]",
      "text/plain": [
       "<Figure size 800x800 with 9 Axes>"
      ]
     },
     "metadata": {},
     "output_type": "display_data"
    }
   ],
   "source": [
    "labels_map = {\n",
    "    0: \"T-Shirt\",\n",
    "    1: \"Trouser\",\n",
    "    2: \"Pullover\",\n",
    "    3: \"Dress\",\n",
    "    4: \"Coat\",\n",
    "    5: \"Sandal\",\n",
    "    6: \"Shirt\",\n",
    "    7: \"Sneaker\",\n",
    "    8: \"Bag\",\n",
    "    9: \"Ankle Boot\",\n",
    "}\n",
    "figure = plt.figure(figsize=(8, 8))\n",
    "cols, rows = 3, 3\n",
    "for i in range(1, cols * rows + 1):\n",
    "    sample_idx = torch.randint(len(training_data), size=(1,)).item()\n",
    "    img, label = training_data[sample_idx]\n",
    "    figure.add_subplot(rows, cols, i)\n",
    "    plt.title(labels_map[label])\n",
    "    plt.axis(\"off\")\n",
    "    plt.imshow(img.squeeze(), cmap=\"gray\")\n",
    "plt.show()"
   ]
  },
  {
   "cell_type": "markdown",
   "metadata": {},
   "source": [
    "### Creating a Custom Dataset for your files\n",
    "\n",
    "A custom Dataset class must implement three functions:\n",
    "[\\_\\_init\\_\\_]{.title-ref}, [\\_\\_len\\_\\_]{.title-ref}, and\n",
    "[\\_\\_getitem\\_\\_]{.title-ref}. Take a look at this implementation; the\n",
    "FashionMNIST images are stored in a directory `img_dir`, and their\n",
    "labels are stored separately in a CSV file `annotations_file`.\n",
    "\n",
    "In the next sections, we\\'ll break down what\\'s happening in each of\n",
    "these functions.\n"
   ]
  },
  {
   "cell_type": "code",
   "execution_count": null,
   "metadata": {},
   "outputs": [],
   "source": [
    "import os\n",
    "import pandas as pd\n",
    "from torchvision.io import read_image\n",
    "\n",
    "class CustomImageDataset(Dataset):\n",
    "    def __init__(self, annotations_file, img_dir, transform=None, target_transform=None):\n",
    "        self.img_labels = pd.read_csv(annotations_file)\n",
    "        self.img_dir = img_dir\n",
    "        self.transform = transform\n",
    "        self.target_transform = target_transform\n",
    "\n",
    "    def __len__(self):\n",
    "        return len(self.img_labels)\n",
    "\n",
    "    def __getitem__(self, idx):\n",
    "        img_path = os.path.join(self.img_dir, self.img_labels.iloc[idx, 0])\n",
    "        image = read_image(img_path)\n",
    "        label = self.img_labels.iloc[idx, 1]\n",
    "        if self.transform:\n",
    "            image = self.transform(image)\n",
    "        if self.target_transform:\n",
    "            label = self.target_transform(label)\n",
    "        return image, label"
   ]
  },
  {
   "cell_type": "markdown",
   "metadata": {},
   "source": [
    "`__init__`\n",
    "\n",
    "The \\_\\_[init]() function is run once when instantiating the Dataset\n",
    "object. We initialize the directory containing the images, the\n",
    "annotations file, and both transforms (covered in more detail in the\n",
    "next section).\n",
    "\n",
    "The labels.csv file looks like: :\n",
    "\n",
    "    tshirt1.jpg, 0\n",
    "    tshirt2.jpg, 0\n",
    "    ......\n",
    "    ankleboot999.jpg, 9\n",
    "\n",
    "`__len__`\n",
    "\n",
    "The \\_\\_[len]() function returns the number of samples in our dataset.\n",
    "\n",
    "`__getitem__`\n",
    "\n",
    "The \\_\\_[getitem]() function loads and returns a sample from the dataset\n",
    "at the given index `idx`. Based on the index, it identifies the image\\'s\n",
    "location on disk, converts that to a tensor using `read_image`,\n",
    "retrieves the corresponding label from the csv data in\n",
    "`self.img_labels`, calls the transform functions on them (if\n",
    "applicable), and returns the tensor image and corresponding label in a\n",
    "tuple.\n"
   ]
  },
  {
   "cell_type": "markdown",
   "metadata": {},
   "source": [
    "### Preparing your data for training with DataLoaders\n",
    "\n",
    "The `Dataset` retrieves our dataset\\'s features and labels one sample at\n",
    "a time. While training a model, we typically want to pass samples in\n",
    "\\\"minibatches\\\", reshuffle the data at every epoch to reduce model\n",
    "overfitting, and use Python\\'s `multiprocessing` to speed up data\n",
    "retrieval.\n",
    "\n",
    "`DataLoader` is an iterable that abstracts this complexity for us in an\n",
    "easy API.\n"
   ]
  },
  {
   "cell_type": "code",
   "execution_count": null,
   "metadata": {},
   "outputs": [],
   "source": [
    "from torch.utils.data import DataLoader\n",
    "\n",
    "train_dataloader = DataLoader(training_data, batch_size=64, shuffle=True)\n",
    "test_dataloader = DataLoader(test_data, batch_size=64, shuffle=True)"
   ]
  },
  {
   "cell_type": "markdown",
   "metadata": {},
   "source": [
    "### Iterate through the DataLoader\n",
    "\n",
    "We have loaded that dataset into the `DataLoader` and can iterate\n",
    "through the dataset as needed. Each iteration below returns a batch of\n",
    "`train_features` and `train_labels` (containing `batch_size=64` features\n",
    "and labels respectively). Because we specified `shuffle=True`, after we\n",
    "iterate over all batches the data is shuffled (for finer-grained control\n",
    "over the data loading order, take a look at\n",
    "[Samplers](https://pytorch.org/docs/stable/data.html#data-loading-order-and-sampler)).\n"
   ]
  },
  {
   "cell_type": "code",
   "execution_count": null,
   "metadata": {},
   "outputs": [
    {
     "name": "stdout",
     "output_type": "stream",
     "text": [
      "Feature batch shape: torch.Size([64, 1, 28, 28])\n",
      "Labels batch shape: torch.Size([64])\n"
     ]
    },
    {
     "data": {
      "image/png": "[encoded data removed]",
      "text/plain": [
       "<Figure size 640x480 with 1 Axes>"
      ]
     },
     "metadata": {},
     "output_type": "display_data"
    },
    {
     "name": "stdout",
     "output_type": "stream",
     "text": [
      "Label: 8\n"
     ]
    }
   ],
   "source": [
    "# Display image and label.\n",
    "\n",
    "train_features, train_labels = next(iter(train_dataloader))\n",
    "print(f\"Feature batch shape: {train_features.size()}\")\n",
    "print(f\"Labels batch shape: {train_labels.size()}\")\n",
    "img = train_features[0].squeeze()\n",
    "label = train_labels[0]\n",
    "plt.imshow(img, cmap=\"gray\")\n",
    "plt.show()\n",
    "print(f\"Label: {label}\")"
   ]
  },
  {
   "cell_type": "markdown",
   "metadata": {},
   "source": [
    "## Transforms\n",
    "\n",
    "Data does not always come in its final processed form that is required\n",
    "for training machine learning algorithms. We use **transforms** to\n",
    "perform some manipulation of the data and make it suitable for training.\n",
    "\n",
    "All TorchVision datasets have two parameters -`transform` to modify the\n",
    "features and `target_transform` to modify the labels - that accept\n",
    "callables containing the transformation logic. The\n",
    "[torchvision.transforms](https://pytorch.org/vision/stable/transforms.html)\n",
    "module offers several commonly-used transforms out of the box.\n",
    "\n",
    "The FashionMNIST features are in PIL Image format, and the labels are\n",
    "integers. For training, we need the features as normalized tensors, and\n",
    "the labels as one-hot encoded tensors. To make these transformations, we\n",
    "use `ToTensor` and `Lambda`.\n",
    "\n",
    "### ToTensor()\n",
    "\n",
    "[ToTensor](https://pytorch.org/vision/stable/transforms.html#torchvision.transforms.ToTensor)\n",
    "converts a PIL image or NumPy `ndarray` into a `FloatTensor`. and scales\n",
    "the image\\'s pixel intensity values in the range \\[0., 1.\\]\n",
    "\n",
    "### Lambda Transforms\n",
    "\n",
    "Lambda transforms apply any user-defined lambda function. Here, we\n",
    "define a function to turn the integer into a one-hot encoded tensor. It\n",
    "first creates a zero tensor of size 10 (the number of labels in our\n",
    "dataset) and calls\n",
    "[scatter\\_](https://pytorch.org/docs/stable/generated/torch.Tensor.scatter_.html)\n",
    "which assigns a `value=1` on the index as given by the label `y`.\n"
   ]
  },
  {
   "cell_type": "code",
   "execution_count": null,
   "metadata": {},
   "outputs": [],
   "source": [
    "%matplotlib inline"
   ]
  },
  {
   "cell_type": "code",
   "execution_count": null,
   "metadata": {},
   "outputs": [],
   "source": [
    "import torch\n",
    "from torchvision import datasets\n",
    "from torchvision.transforms import ToTensor, Lambda\n",
    "\n",
    "ds = datasets.FashionMNIST(\n",
    "    root=\"data\",\n",
    "    train=True,\n",
    "    download=True,\n",
    "    transform=ToTensor(),\n",
    "    target_transform=Lambda(lambda y: torch.zeros(10, dtype=torch.float).scatter_(0, torch.tensor(y), value=1))\n",
    ")"
   ]
  },
  {
   "cell_type": "markdown",
   "metadata": {},
   "source": [
    "## Build Model\n",
    "### Build the Neural Network\n",
    "\n",
    "Neural networks comprise of layers/modules that perform operations on\n",
    "data. The [torch.nn](https://pytorch.org/docs/stable/nn.html) namespace\n",
    "provides all the building blocks you need to build your own neural\n",
    "network. Every module in PyTorch subclasses the\n",
    "[nn.Module](https://pytorch.org/docs/stable/generated/torch.nn.Module.html).\n",
    "A neural network is a module itself that consists of other modules\n",
    "(layers). This nested structure allows for building and managing complex\n",
    "architectures easily.\n",
    "\n",
    "In the following sections, we\\'ll build a neural network to classify\n",
    "images in the FashionMNIST dataset.\n"
   ]
  },
  {
   "cell_type": "code",
   "execution_count": null,
   "metadata": {},
   "outputs": [],
   "source": [
    "import os\n",
    "import torch\n",
    "from torch import nn\n",
    "from torch.utils.data import DataLoader\n",
    "from torchvision import datasets, transforms"
   ]
  },
  {
   "cell_type": "code",
   "execution_count": null,
   "metadata": {},
   "outputs": [
    {
     "name": "stdout",
     "output_type": "stream",
     "text": [
      "Using cuda device\n"
     ]
    }
   ],
   "source": [
    "device = (\n",
    "    \"cuda\"\n",
    "    if torch.cuda.is_available()\n",
    "    else \"mps\"\n",
    "    if torch.backends.mps.is_available()\n",
    "    else \"cpu\"\n",
    ")\n",
    "print(f\"Using {device} device\")"
   ]
  },
  {
   "cell_type": "markdown",
   "metadata": {},
   "source": [
    "### Define the Class\n",
    "\n",
    "We define our neural network by subclassing `nn.Module`, and initialize\n",
    "the neural network layers in `__init__`. Every `nn.Module` subclass\n",
    "implements the operations on input data in the `forward` method.\n"
   ]
  },
  {
   "cell_type": "code",
   "execution_count": null,
   "metadata": {},
   "outputs": [],
   "source": [
    "class NeuralNetwork(nn.Module):\n",
    "    def __init__(self):\n",
    "        super().__init__()\n",
    "        self.flatten = nn.Flatten()\n",
    "        self.linear_relu_stack = nn.Sequential(\n",
    "            nn.Linear(28*28, 512),\n",
    "            nn.ReLU(),\n",
    "            nn.Linear(512, 512),\n",
    "            nn.ReLU(),\n",
    "            nn.Linear(512, 10),\n",
    "        )\n",
    "\n",
    "    def forward(self, x):\n",
    "        x = self.flatten(x)\n",
    "        logits = self.linear_relu_stack(x)\n",
    "        return logits"
   ]
  },
  {
   "cell_type": "code",
   "execution_count": null,
   "metadata": {},
   "outputs": [
    {
     "name": "stdout",
     "output_type": "stream",
     "text": [
      "NeuralNetwork(\n",
      "  (flatten): Flatten(start_dim=1, end_dim=-1)\n",
      "  (linear_relu_stack): Sequential(\n",
      "    (0): Linear(in_features=784, out_features=512, bias=True)\n",
      "    (1): ReLU()\n",
      "    (2): Linear(in_features=512, out_features=512, bias=True)\n",
      "    (3): ReLU()\n",
      "    (4): Linear(in_features=512, out_features=10, bias=True)\n",
      "  )\n",
      ")\n"
     ]
    }
   ],
   "source": [
    "model = NeuralNetwork().to(device)\n",
    "print(model)"
   ]
  },
  {
   "cell_type": "markdown",
   "metadata": {},
   "source": [
    "To use the model, we pass it the input data. This executes the model\\'s\n",
    "`forward`, along with some [background\n",
    "operations](https://github.com/pytorch/pytorch/blob/270111b7b611d174967ed204776985cefca9c144/torch/nn/modules/module.py#L866).\n",
    "Do not call `model.forward()` directly!\n",
    "\n",
    "Calling the model on the input returns a 2-dimensional tensor with dim=0\n",
    "corresponding to each output of 10 raw predicted values for each class,\n",
    "and dim=1 corresponding to the individual values of each output. We get\n",
    "the prediction probabilities by passing it through an instance of the\n",
    "`nn.Softmax` module.\n"
   ]
  },
  {
   "cell_type": "code",
   "execution_count": null,
   "metadata": {},
   "outputs": [
    {
     "name": "stdout",
     "output_type": "stream",
     "text": [
      "Predicted class: tensor([4], device='cuda:0')\n"
     ]
    }
   ],
   "source": [
    "X = torch.rand(1, 28, 28, device=device)\n",
    "logits = model(X)\n",
    "pred_probab = nn.Softmax(dim=1)(logits)\n",
    "y_pred = pred_probab.argmax(1)\n",
    "print(f\"Predicted class: {y_pred}\")"
   ]
  },
  {
   "cell_type": "markdown",
   "metadata": {},
   "source": [
    "### Model Layers\n",
    "\n",
    "Let\\'s break down the layers in the FashionMNIST model. To illustrate\n",
    "it, we will take a sample minibatch of 3 images of size 28x28 and see\n",
    "what happens to it as we pass it through the network.\n"
   ]
  },
  {
   "cell_type": "code",
   "execution_count": null,
   "metadata": {},
   "outputs": [
    {
     "name": "stdout",
     "output_type": "stream",
     "text": [
      "torch.Size([3, 28, 28])\n"
     ]
    }
   ],
   "source": [
    "input_image = torch.rand(3,28,28)\n",
    "print(input_image.size())"
   ]
  },
  {
   "cell_type": "markdown",
   "metadata": {},
   "source": [
    "### nn.Flatten\n",
    "\n",
    "We initialize the\n",
    "[nn.Flatten](https://pytorch.org/docs/stable/generated/torch.nn.Flatten.html)\n",
    "layer to convert each 2D 28x28 image into a contiguous array of 784\n",
    "pixel values ( the minibatch dimension (at dim=0) is maintained).\n"
   ]
  },
  {
   "cell_type": "code",
   "execution_count": null,
   "metadata": {},
   "outputs": [
    {
     "name": "stdout",
     "output_type": "stream",
     "text": [
      "torch.Size([3, 784])\n"
     ]
    }
   ],
   "source": [
    "flatten = nn.Flatten()\n",
    "flat_image = flatten(input_image)\n",
    "print(flat_image.size())"
   ]
  },
  {
   "cell_type": "markdown",
   "metadata": {},
   "source": [
    "### nn.Linear\n",
    "\n",
    "The [linear\n",
    "layer](https://pytorch.org/docs/stable/generated/torch.nn.Linear.html)\n",
    "is a module that applies a linear transformation on the input using its\n",
    "stored weights and biases.\n"
   ]
  },
  {
   "cell_type": "code",
   "execution_count": null,
   "metadata": {},
   "outputs": [
    {
     "name": "stdout",
     "output_type": "stream",
     "text": [
      "torch.Size([3, 20])\n"
     ]
    }
   ],
   "source": [
    "layer1 = nn.Linear(in_features=28*28, out_features=20)\n",
    "hidden1 = layer1(flat_image)\n",
    "print(hidden1.size())"
   ]
  },
  {
   "cell_type": "markdown",
   "metadata": {},
   "source": [
    "### nn.ReLU\n",
    "\n",
    "Non-linear activations are what create the complex mappings between the\n",
    "model\\'s inputs and outputs. They are applied after linear\n",
    "transformations to introduce *nonlinearity*, helping neural networks\n",
    "learn a wide variety of phenomena.\n",
    "\n",
    "In this model, we use\n",
    "[nn.ReLU](https://pytorch.org/docs/stable/generated/torch.nn.ReLU.html)\n",
    "between our linear layers, but there\\'s other activations to introduce\n",
    "non-linearity in your model.\n"
   ]
  },
  {
   "cell_type": "code",
   "execution_count": null,
   "metadata": {},
   "outputs": [
    {
     "name": "stdout",
     "output_type": "stream",
     "text": [
      "Before ReLU: tensor([[-3.1540e-02, -1.5555e-01, -4.0794e-01, -1.6999e-01, -6.4646e-02,\n",
      "         -1.9358e-01, -2.2942e-01, -3.8007e-02, -3.2575e-01, -3.3794e-01,\n",
      "         -2.9540e-01, -1.9502e-01, -1.8220e-01,  4.0613e-02,  2.2113e-02,\n",
      "          5.2996e-02, -3.3352e-02,  3.4086e-01, -3.0559e-02, -2.6503e-01],\n",
      "        [-3.4629e-01,  6.6547e-02, -7.7879e-01, -2.7901e-01, -4.9018e-02,\n",
      "         -4.3725e-01,  1.1751e-01, -3.2069e-01, -4.1478e-01,  7.1298e-02,\n",
      "          3.0193e-01, -6.1575e-02, -2.5639e-01,  6.4421e-02, -2.6663e-01,\n",
      "         -1.1187e-04, -2.1553e-01,  2.7886e-01,  1.7046e-01, -3.3301e-01],\n",
      "        [-3.1233e-01,  4.5994e-01, -4.7507e-01, -2.7212e-02, -6.2979e-02,\n",
      "         -2.8331e-01, -2.6563e-01, -2.7401e-01, -9.3969e-02,  2.5433e-01,\n",
      "         -1.8697e-01,  1.0256e-02, -3.3530e-01,  8.3531e-03,  2.2403e-01,\n",
      "         -1.7757e-01,  1.4530e-01,  4.5996e-01,  6.1837e-02, -4.3811e-01]],\n",
      "       grad_fn=<AddmmBackward0>)\n",
      "\n",
      "\n",
      "After ReLU: tensor([[0.0000, 0.0000, 0.0000, 0.0000, 0.0000, 0.0000, 0.0000, 0.0000, 0.0000,\n",
      "         0.0000, 0.0000, 0.0000, 0.0000, 0.0406, 0.0221, 0.0530, 0.0000, 0.3409,\n",
      "         0.0000, 0.0000],\n",
      "        [0.0000, 0.0665, 0.0000, 0.0000, 0.0000, 0.0000, 0.1175, 0.0000, 0.0000,\n",
      "         0.0713, 0.3019, 0.0000, 0.0000, 0.0644, 0.0000, 0.0000, 0.0000, 0.2789,\n",
      "         0.1705, 0.0000],\n",
      "        [0.0000, 0.4599, 0.0000, 0.0000, 0.0000, 0.0000, 0.0000, 0.0000, 0.0000,\n",
      "         0.2543, 0.0000, 0.0103, 0.0000, 0.0084, 0.2240, 0.0000, 0.1453, 0.4600,\n",
      "         0.0618, 0.0000]], grad_fn=<ReluBackward0>)\n"
     ]
    }
   ],
   "source": [
    "print(f\"Before ReLU: {hidden1}\\n\\n\")\n",
    "hidden1 = nn.ReLU()(hidden1)\n",
    "print(f\"After ReLU: {hidden1}\")"
   ]
  },
  {
   "cell_type": "markdown",
   "metadata": {},
   "source": [
    "### nn.Sequential\n",
    "\n",
    "[nn.Sequential](https://pytorch.org/docs/stable/generated/torch.nn.Sequential.html)\n",
    "is an ordered container of modules. The data is passed through all the\n",
    "modules in the same order as defined. You can use sequential containers\n",
    "to put together a quick network like `seq_modules`.\n"
   ]
  },
  {
   "cell_type": "code",
   "execution_count": null,
   "metadata": {},
   "outputs": [],
   "source": [
    "seq_modules = nn.Sequential(\n",
    "    flatten,\n",
    "    layer1,\n",
    "    nn.ReLU(),\n",
    "    nn.Linear(20, 10)\n",
    ")\n",
    "input_image = torch.rand(3,28,28)\n",
    "logits = seq_modules(input_image)"
   ]
  },
  {
   "cell_type": "markdown",
   "metadata": {},
   "source": [
    "### nn.Softmax\n",
    "\n",
    "The last linear layer of the neural network returns [logits]{.title-ref}\n",
    "- raw values in \\[-infty, infty\\] - which are passed to the\n",
    "[nn.Softmax](https://pytorch.org/docs/stable/generated/torch.nn.Softmax.html)\n",
    "module. The logits are scaled to values \\[0, 1\\] representing the\n",
    "model\\'s predicted probabilities for each class. `dim` parameter\n",
    "indicates the dimension along which the values must sum to 1.\n"
   ]
  },
  {
   "cell_type": "code",
   "execution_count": null,
   "metadata": {},
   "outputs": [],
   "source": [
    "softmax = nn.Softmax(dim=1)\n",
    "pred_probab = softmax(logits)"
   ]
  },
  {
   "cell_type": "markdown",
   "metadata": {},
   "source": [
    "### Model Parameters\n",
    "\n",
    "Many layers inside a neural network are *parameterized*, i.e. have\n",
    "associated weights and biases that are optimized during training.\n",
    "Subclassing `nn.Module` automatically tracks all fields defined inside\n",
    "your model object, and makes all parameters accessible using your\n",
    "model\\'s `parameters()` or `named_parameters()` methods.\n",
    "\n",
    "In this example, we iterate over each parameter, and print its size and\n",
    "a preview of its values.\n"
   ]
  },
  {
   "cell_type": "code",
   "execution_count": null,
   "metadata": {},
   "outputs": [
    {
     "name": "stdout",
     "output_type": "stream",
     "text": [
      "Model structure: NeuralNetwork(\n",
      "  (flatten): Flatten(start_dim=1, end_dim=-1)\n",
      "  (linear_relu_stack): Sequential(\n",
      "    (0): Linear(in_features=784, out_features=512, bias=True)\n",
      "    (1): ReLU()\n",
      "    (2): Linear(in_features=512, out_features=512, bias=True)\n",
      "    (3): ReLU()\n",
      "    (4): Linear(in_features=512, out_features=10, bias=True)\n",
      "  )\n",
      ")\n",
      "\n",
      "\n",
      "Layer: linear_relu_stack.0.weight | Size: torch.Size([512, 784]) | Values : tensor([[-0.0348, -0.0308, -0.0048,  ...,  0.0120,  0.0327,  0.0125],\n",
      "        [ 0.0046,  0.0287,  0.0287,  ...,  0.0183, -0.0086,  0.0185]],\n",
      "       device='cuda:0', grad_fn=<SliceBackward0>) \n",
      "\n",
      "Layer: linear_relu_stack.0.bias | Size: torch.Size([512]) | Values : tensor([ 0.0026, -0.0231], device='cuda:0', grad_fn=<SliceBackward0>) \n",
      "\n",
      "Layer: linear_relu_stack.2.weight | Size: torch.Size([512, 512]) | Values : tensor([[ 0.0196, -0.0005, -0.0050,  ...,  0.0310, -0.0013, -0.0398],\n",
      "        [-0.0090,  0.0228, -0.0256,  ..., -0.0274,  0.0072, -0.0119]],\n",
      "       device='cuda:0', grad_fn=<SliceBackward0>) \n",
      "\n",
      "Layer: linear_relu_stack.2.bias | Size: torch.Size([512]) | Values : tensor([-0.0207,  0.0053], device='cuda:0', grad_fn=<SliceBackward0>) \n",
      "\n",
      "Layer: linear_relu_stack.4.weight | Size: torch.Size([10, 512]) | Values : tensor([[-0.0372, -0.0298,  0.0270,  ..., -0.0034, -0.0417,  0.0033],\n",
      "        [-0.0422, -0.0344, -0.0141,  ...,  0.0089, -0.0129, -0.0345]],\n",
      "       device='cuda:0', grad_fn=<SliceBackward0>) \n",
      "\n",
      "Layer: linear_relu_stack.4.bias | Size: torch.Size([10]) | Values : tensor([-0.0293,  0.0076], device='cuda:0', grad_fn=<SliceBackward0>) \n",
      "\n"
     ]
    }
   ],
   "source": [
    "print(f\"Model structure: {model}\\n\\n\")\n",
    "\n",
    "for name, param in model.named_parameters():\n",
    "    print(f\"Layer: {name} | Size: {param.size()} | Values : {param[:2]} \\n\")"
   ]
  },
  {
   "cell_type": "markdown",
   "metadata": {},
   "source": [
    "## Automatic Differentiation with `torch.autograd`\n",
    "\n",
    "When training neural networks, the most frequently used algorithm is\n",
    "**back propagation**. In this algorithm, parameters (model weights) are\n",
    "adjusted according to the **gradient** of the loss function with respect\n",
    "to the given parameter.\n",
    "\n",
    "To compute those gradients, PyTorch has a built-in differentiation\n",
    "engine called `torch.autograd`. It supports automatic computation of\n",
    "gradient for any computational graph.\n",
    "\n",
    "Consider the simplest one-layer neural network, with input `x`,\n",
    "parameters `w` and `b`, and some loss function. It can be defined in\n",
    "PyTorch in the following manner:\n"
   ]
  },
  {
   "cell_type": "code",
   "execution_count": null,
   "metadata": {},
   "outputs": [],
   "source": [
    "import torch\n",
    "\n",
    "x = torch.ones(5)  # input tensor\n",
    "y = torch.zeros(3)  # expected output\n",
    "w = torch.randn(5, 3, requires_grad=True)\n",
    "b = torch.randn(3, requires_grad=True)\n",
    "z = torch.matmul(x, w)+b\n",
    "loss = torch.nn.functional.binary_cross_entropy_with_logits(z, y)"
   ]
  },
  {
   "cell_type": "markdown",
   "metadata": {},
   "source": [
    "### Tensors, Functions and Computational graph\n",
    "\n",
    "This code defines the following **computational graph**:\n",
    "\n",
    "![](https://pytorch.org/tutorials/_static/img/basics/comp-graph.png)\n",
    "\n",
    "In this network, `w` and `b` are **parameters**, which we need to\n",
    "optimize. Thus, we need to be able to compute the gradients of loss\n",
    "function with respect to those variables. In order to do that, we set\n",
    "the `requires_grad` property of those tensors.\n"
   ]
  },
  {
   "cell_type": "markdown",
   "metadata": {},
   "source": [
    "A function that we apply to tensors to construct computational graph is\n",
    "in fact an object of class `Function`. This object knows how to compute\n",
    "the function in the *forward* direction, and also how to compute its\n",
    "derivative during the *backward propagation* step. A reference to the\n",
    "backward propagation function is stored in `grad_fn` property of a\n",
    "tensor. You can find more information of `Function` [in the\n",
    "documentation](https://pytorch.org/docs/stable/autograd.html#function).\n"
   ]
  },
  {
   "cell_type": "code",
   "execution_count": null,
   "metadata": {},
   "outputs": [
    {
     "name": "stdout",
     "output_type": "stream",
     "text": [
      "Gradient function for z = <AddBackward0 object at 0x7a3bec6c97e0>\n",
      "Gradient function for loss = <BinaryCrossEntropyWithLogitsBackward0 object at 0x7a3bec6c9600>\n"
     ]
    }
   ],
   "source": [
    "print(f\"Gradient function for z = {z.grad_fn}\")\n",
    "print(f\"Gradient function for loss = {loss.grad_fn}\")"
   ]
  },
  {
   "cell_type": "markdown",
   "metadata": {},
   "source": [
    "### Computing Gradients\n",
    "\n",
    "To optimize weights of parameters in the neural network, we need to\n",
    "compute the derivatives of our loss function with respect to parameters,\n",
    "namely, we need $\\frac{\\partial loss}{\\partial w}$ and\n",
    "$\\frac{\\partial loss}{\\partial b}$ under some fixed values of `x` and\n",
    "`y`. To compute those derivatives, we call `loss.backward()`, and then\n",
    "retrieve the values from `w.grad` and `b.grad`:\n"
   ]
  },
  {
   "cell_type": "code",
   "execution_count": null,
   "metadata": {},
   "outputs": [
    {
     "name": "stdout",
     "output_type": "stream",
     "text": [
      "tensor([[0.3007, 0.3030, 0.2859],\n",
      "        [0.3007, 0.3030, 0.2859],\n",
      "        [0.3007, 0.3030, 0.2859],\n",
      "        [0.3007, 0.3030, 0.2859],\n",
      "        [0.3007, 0.3030, 0.2859]])\n",
      "tensor([0.3007, 0.3030, 0.2859])\n"
     ]
    }
   ],
   "source": [
    "loss.backward()\n",
    "print(w.grad)\n",
    "print(b.grad)"
   ]
  },
  {
   "cell_type": "markdown",
   "metadata": {},
   "source": [
    "<div style=\"background-color: #54c7ec; color: #fff; font-weight: 700; padding-left: 10px; padding-top: 5px; padding-bottom: 5px\"><strong>NOTE:</strong></div>\n",
    "<div style=\"background-color: #f3f4f7; padding-left: 10px; padding-top: 10px; padding-bottom: 10px; padding-right: 10px\">\n",
    "<ul>\n",
    "<li>We can only obtain the <code>grad</code> properties for the leafnodes of the computational graph, which have <code>requires_grad</code> propertyset to <code>True</code>. For all other nodes in our graph, gradients will not beavailable.- We can only perform gradient calculations using<code>backward</code> once on a given graph, for performance reasons. If we needto do several <code>backward</code> calls on the same graph, we need to pass<code>retain_graph=True</code> to the <code>backward</code> call.</li>\n",
    "</ul>\n",
    "</div>\n",
    "\n",
    "\n",
    "### Disabling Gradient Tracking\n",
    "\n",
    "By default, all tensors with `requires_grad=True` are tracking their\n",
    "computational history and support gradient computation. However, there\n",
    "are some cases when we do not need to do that, for example, when we have\n",
    "trained the model and just want to apply it to some input data, i.e. we\n",
    "only want to do *forward* computations through the network. We can stop\n",
    "tracking computations by surrounding our computation code with\n",
    "`torch.no_grad()` block:\n"
   ]
  },
  {
   "cell_type": "code",
   "execution_count": null,
   "metadata": {},
   "outputs": [
    {
     "name": "stdout",
     "output_type": "stream",
     "text": [
      "True\n",
      "False\n"
     ]
    }
   ],
   "source": [
    "z = torch.matmul(x, w)+b\n",
    "print(z.requires_grad)\n",
    "\n",
    "with torch.no_grad():\n",
    "    z = torch.matmul(x, w)+b\n",
    "print(z.requires_grad)"
   ]
  },
  {
   "cell_type": "markdown",
   "metadata": {},
   "source": [
    "Another way to achieve the same result is to use the `detach()` method\n",
    "on the tensor:\n"
   ]
  },
  {
   "cell_type": "code",
   "execution_count": null,
   "metadata": {},
   "outputs": [
    {
     "name": "stdout",
     "output_type": "stream",
     "text": [
      "False\n"
     ]
    }
   ],
   "source": [
    "z = torch.matmul(x, w)+b\n",
    "z_det = z.detach()\n",
    "print(z_det.requires_grad)"
   ]
  },
  {
   "cell_type": "markdown",
   "metadata": {},
   "source": [
    "There are reasons you might want to disable gradient tracking:\n",
    "\n",
    ":   -   To mark some parameters in your neural network as **frozen\n",
    "        parameters**.\n",
    "    -   To **speed up computations** when you are only doing forward\n",
    "        pass, because computations on tensors that do not track\n",
    "        gradients would be more efficient.\n"
   ]
  },
  {
   "cell_type": "markdown",
   "metadata": {},
   "source": [
    "### More on Computational Graphs\n",
    "\n",
    "Conceptually, autograd keeps a record of data (tensors) and all executed\n",
    "operations (along with the resulting new tensors) in a directed acyclic\n",
    "graph (DAG) consisting of\n",
    "[Function](https://pytorch.org/docs/stable/autograd.html#torch.autograd.Function)\n",
    "objects. In this DAG, leaves are the input tensors, roots are the output\n",
    "tensors. By tracing this graph from roots to leaves, you can\n",
    "automatically compute the gradients using the chain rule.\n",
    "\n",
    "In a forward pass, autograd does two things simultaneously:\n",
    "\n",
    "-   run the requested operation to compute a resulting tensor\n",
    "-   maintain the operation's *gradient function* in the DAG.\n",
    "\n",
    "The backward pass kicks off when `.backward()` is called on the DAG\n",
    "root. `autograd` then:\n",
    "\n",
    "-   computes the gradients from each `.grad_fn`,\n",
    "-   accumulates them in the respective tensor's `.grad` attribute\n",
    "-   using the chain rule, propagates all the way to the leaf tensors.\n",
    "\n",
    "<div style=\"background-color: #54c7ec; color: #fff; font-weight: 700; padding-left: 10px; padding-top: 5px; padding-bottom: 5px\"><strong>NOTE:</strong></div>\n",
    "<div style=\"background-color: #f3f4f7; padding-left: 10px; padding-top: 10px; padding-bottom: 10px; padding-right: 10px\">\n",
    "<p>An important thing to note is that the graph is recreated from scratch; after each<code>.backward()</code> call, autograd starts populating a new graph. This isexactly what allows you to use control flow statements in your model;you can change the shape, size and operations at every iteration ifneeded.</p>\n",
    "</div>\n"
   ]
  },
  {
   "cell_type": "markdown",
   "metadata": {},
   "source": [
    "### Optional Reading: Tensor Gradients and Jacobian Products\n",
    "\n",
    "In many cases, we have a scalar loss function, and we need to compute\n",
    "the gradient with respect to some parameters. However, there are cases\n",
    "when the output function is an arbitrary tensor. In this case, PyTorch\n",
    "allows you to compute so-called **Jacobian product**, and not the actual\n",
    "gradient.\n",
    "\n",
    "For a vector function $\\vec{y}=f(\\vec{x})$, where\n",
    "$\\vec{x}=\\langle x_1,\\dots,x_n\\rangle$ and\n",
    "$\\vec{y}=\\langle y_1,\\dots,y_m\\rangle$, a gradient of $\\vec{y}$ with\n",
    "respect to $\\vec{x}$ is given by **Jacobian matrix**:\n",
    "\n",
    "$$\\begin{aligned}\n",
    "J=\\left(\\begin{array}{ccc}\n",
    "   \\frac{\\partial y_{1}}{\\partial x_{1}} & \\cdots & \\frac{\\partial y_{1}}{\\partial x_{n}}\\\\\n",
    "   \\vdots & \\ddots & \\vdots\\\\\n",
    "   \\frac{\\partial y_{m}}{\\partial x_{1}} & \\cdots & \\frac{\\partial y_{m}}{\\partial x_{n}}\n",
    "   \\end{array}\\right)\n",
    "\\end{aligned}$$\n",
    "\n",
    "Instead of computing the Jacobian matrix itself, PyTorch allows you to\n",
    "compute **Jacobian Product** $v^T\\cdot J$ for a given input vector\n",
    "$v=(v_1 \\dots v_m)$. This is achieved by calling `backward` with $v$ as\n",
    "an argument. The size of $v$ should be the same as the size of the\n",
    "original tensor, with respect to which we want to compute the product:\n"
   ]
  },
  {
   "cell_type": "code",
   "execution_count": null,
   "metadata": {},
   "outputs": [
    {
     "name": "stdout",
     "output_type": "stream",
     "text": [
      "First call\n",
      "tensor([[4., 2., 2., 2., 2.],\n",
      "        [2., 4., 2., 2., 2.],\n",
      "        [2., 2., 4., 2., 2.],\n",
      "        [2., 2., 2., 4., 2.]])\n",
      "\n",
      "Second call\n",
      "tensor([[8., 4., 4., 4., 4.],\n",
      "        [4., 8., 4., 4., 4.],\n",
      "        [4., 4., 8., 4., 4.],\n",
      "        [4., 4., 4., 8., 4.]])\n",
      "\n",
      "Call after zeroing gradients\n",
      "tensor([[4., 2., 2., 2., 2.],\n",
      "        [2., 4., 2., 2., 2.],\n",
      "        [2., 2., 4., 2., 2.],\n",
      "        [2., 2., 2., 4., 2.]])\n"
     ]
    }
   ],
   "source": [
    "inp = torch.eye(4, 5, requires_grad=True)\n",
    "out = (inp+1).pow(2).t()\n",
    "out.backward(torch.ones_like(out), retain_graph=True)\n",
    "print(f\"First call\\n{inp.grad}\")\n",
    "out.backward(torch.ones_like(out), retain_graph=True)\n",
    "print(f\"\\nSecond call\\n{inp.grad}\")\n",
    "inp.grad.zero_()\n",
    "out.backward(torch.ones_like(out), retain_graph=True)\n",
    "print(f\"\\nCall after zeroing gradients\\n{inp.grad}\")"
   ]
  },
  {
   "cell_type": "markdown",
   "metadata": {},
   "source": [
    "Notice that when we call `backward` for the second time with the same\n",
    "argument, the value of the gradient is different. This happens because\n",
    "when doing `backward` propagation, PyTorch **accumulates the\n",
    "gradients**, i.e. the value of computed gradients is added to the `grad`\n",
    "property of all leaf nodes of computational graph. If you want to\n",
    "compute the proper gradients, you need to zero out the `grad` property\n",
    "before. In real-life training an *optimizer* helps us to do this.\n"
   ]
  },
  {
   "cell_type": "markdown",
   "metadata": {},
   "source": [
    "<div style=\"background-color: #54c7ec; color: #fff; font-weight: 700; padding-left: 10px; padding-top: 5px; padding-bottom: 5px\"><strong>NOTE:</strong></div>\n",
    "<div style=\"background-color: #f3f4f7; padding-left: 10px; padding-top: 10px; padding-bottom: 10px; padding-right: 10px\">\n",
    "<p>Previously we were calling <code>backward()</code> function withoutparameters. This is essentially equivalent to calling<code>backward(torch.tensor(1.0))</code>, which is a useful way to compute thegradients in case of a scalar-valued function, such as loss duringneural network training.</p>\n",
    "</div>\n"
   ]
  },
  {
   "cell_type": "markdown",
   "metadata": {},
   "source": [
    "## Optimization Loop\n",
    "\n",
    "### Optimizing Model Parameters\n",
    "\n",
    "Now that we have a model and data it\\'s time to train, validate and test\n",
    "our model by optimizing its parameters on our data. Training a model is\n",
    "an iterative process; in each iteration the model makes a guess about\n",
    "the output, calculates the error in its guess (*loss*), collects the\n",
    "derivatives of the error with respect to its parameters (as we saw in\n",
    "the [previous section](autograd_tutorial.html)), and **optimizes** these\n",
    "parameters using gradient descent. For a more detailed walkthrough of\n",
    "this process, check out this video on [backpropagation from\n",
    "3Blue1Brown](https://www.youtube.com/watch?v=tIeHLnjs5U8).\n",
    "\n",
    "Prerequisite Code\n",
    "-----------------\n",
    "\n",
    "We load the code from the previous sections on [Datasets &\n",
    "DataLoaders](data_tutorial.html) and [Build\n",
    "Model](buildmodel_tutorial.html).\n"
   ]
  },
  {
   "cell_type": "code",
   "execution_count": null,
   "metadata": {},
   "outputs": [],
   "source": [
    "import torch\n",
    "from torch import nn\n",
    "from torch.utils.data import DataLoader\n",
    "from torchvision import datasets\n",
    "from torchvision.transforms import ToTensor\n",
    "\n",
    "training_data = datasets.FashionMNIST(\n",
    "    root=\"data\",\n",
    "    train=True,\n",
    "    download=True,\n",
    "    transform=ToTensor()\n",
    ")\n",
    "\n",
    "test_data = datasets.FashionMNIST(\n",
    "    root=\"data\",\n",
    "    train=False,\n",
    "    download=True,\n",
    "    transform=ToTensor()\n",
    ")\n",
    "\n",
    "train_dataloader = DataLoader(training_data, batch_size=64)\n",
    "test_dataloader = DataLoader(test_data, batch_size=64)\n",
    "\n",
    "class NeuralNetwork(nn.Module):\n",
    "    def __init__(self):\n",
    "        super().__init__()\n",
    "        self.flatten = nn.Flatten()\n",
    "        self.linear_relu_stack = nn.Sequential(\n",
    "            nn.Linear(28*28, 512),\n",
    "            nn.ReLU(),\n",
    "            nn.Linear(512, 512),\n",
    "            nn.ReLU(),\n",
    "            nn.Linear(512, 10),\n",
    "        )\n",
    "\n",
    "    def forward(self, x):\n",
    "        x = self.flatten(x)\n",
    "        logits = self.linear_relu_stack(x)\n",
    "        return logits\n",
    "\n",
    "model = NeuralNetwork()"
   ]
  },
  {
   "cell_type": "markdown",
   "metadata": {},
   "source": [
    "### Hyperparameters\n",
    "\n",
    "Hyperparameters are adjustable parameters that let you control the model\n",
    "optimization process. Different hyperparameter values can impact model\n",
    "training and convergence rates ([read\n",
    "more](https://pytorch.org/tutorials/beginner/hyperparameter_tuning_tutorial.html)\n",
    "about hyperparameter tuning)\n",
    "\n",
    "We define the following hyperparameters for training:\n",
    "\n",
    ":   -   **Number of Epochs** - the number times to iterate over the\n",
    "        dataset\n",
    "    -   **Batch Size** - the number of data samples propagated through\n",
    "        the network before the parameters are updated\n",
    "    -   **Learning Rate** - how much to update models parameters at each\n",
    "        batch/epoch. Smaller values yield slow learning speed, while\n",
    "        large values may result in unpredictable behavior during\n",
    "        training.\n"
   ]
  },
  {
   "cell_type": "code",
   "execution_count": null,
   "metadata": {},
   "outputs": [],
   "source": [
    "learning_rate = 1e-3\n",
    "batch_size = 64\n",
    "epochs = 5"
   ]
  },
  {
   "cell_type": "markdown",
   "metadata": {},
   "source": [
    "### Optimization Loop\n",
    "\n",
    "Once we set our hyperparameters, we can then train and optimize our\n",
    "model with an optimization loop. Each iteration of the optimization loop\n",
    "is called an **epoch**.\n",
    "\n",
    "Each epoch consists of two main parts:\n",
    "\n",
    ":   -   **The Train Loop** - iterate over the training dataset and try\n",
    "        to converge to optimal parameters.\n",
    "    -   **The Validation/Test Loop** - iterate over the test dataset to\n",
    "        check if model performance is improving.\n",
    "\n",
    "Let\\'s briefly familiarize ourselves with some of the concepts used in\n",
    "the training loop. Jump ahead to see the\n",
    "`full-impl-label`{.interpreted-text role=\"ref\"} of the optimization\n",
    "loop.\n",
    "\n",
    "#### Loss Function\n",
    "\n",
    "When presented with some training data, our untrained network is likely\n",
    "not to give the correct answer. **Loss function** measures the degree of\n",
    "dissimilarity of obtained result to the target value, and it is the loss\n",
    "function that we want to minimize during training. To calculate the loss\n",
    "we make a prediction using the inputs of our given data sample and\n",
    "compare it against the true data label value.\n",
    "\n",
    "Common loss functions include\n",
    "[nn.MSELoss](https://pytorch.org/docs/stable/generated/torch.nn.MSELoss.html#torch.nn.MSELoss)\n",
    "(Mean Square Error) for regression tasks, and\n",
    "[nn.NLLLoss](https://pytorch.org/docs/stable/generated/torch.nn.NLLLoss.html#torch.nn.NLLLoss)\n",
    "(Negative Log Likelihood) for classification.\n",
    "[nn.CrossEntropyLoss](https://pytorch.org/docs/stable/generated/torch.nn.CrossEntropyLoss.html#torch.nn.CrossEntropyLoss)\n",
    "combines `nn.LogSoftmax` and `nn.NLLLoss`.\n",
    "\n",
    "We pass our model\\'s output logits to `nn.CrossEntropyLoss`, which will\n",
    "normalize the logits and compute the prediction error.\n"
   ]
  },
  {
   "cell_type": "code",
   "execution_count": null,
   "metadata": {},
   "outputs": [],
   "source": [
    "# Initialize the loss function\n",
    "loss_fn = nn.CrossEntropyLoss()"
   ]
  },
  {
   "cell_type": "markdown",
   "metadata": {},
   "source": [
    "### Optimizer\n",
    "\n",
    "Optimization is the process of adjusting model parameters to reduce\n",
    "model error in each training step. **Optimization algorithms** define\n",
    "how this process is performed (in this example we use Stochastic\n",
    "Gradient Descent). All optimization logic is encapsulated in the\n",
    "`optimizer` object. Here, we use the SGD optimizer; additionally, there\n",
    "are many [different\n",
    "optimizers](https://pytorch.org/docs/stable/optim.html) available in\n",
    "PyTorch such as ADAM and RMSProp, that work better for different kinds\n",
    "of models and data.\n",
    "\n",
    "We initialize the optimizer by registering the model\\'s parameters that\n",
    "need to be trained, and passing in the learning rate hyperparameter.\n"
   ]
  },
  {
   "cell_type": "code",
   "execution_count": null,
   "metadata": {},
   "outputs": [],
   "source": [
    "optimizer = torch.optim.SGD(model.parameters(), lr=learning_rate)"
   ]
  },
  {
   "cell_type": "markdown",
   "metadata": {},
   "source": [
    "Inside the training loop, optimization happens in three steps:\n",
    "\n",
    ":   -   Call `optimizer.zero_grad()` to reset the gradients of model\n",
    "        parameters. Gradients by default add up; to prevent\n",
    "        double-counting, we explicitly zero them at each iteration.\n",
    "    -   Backpropagate the prediction loss with a call to\n",
    "        `loss.backward()`. PyTorch deposits the gradients of the loss\n",
    "        w.r.t. each parameter.\n",
    "    -   Once we have our gradients, we call `optimizer.step()` to adjust\n",
    "        the parameters by the gradients collected in the backward pass.\n"
   ]
  },
  {
   "cell_type": "code",
   "execution_count": null,
   "metadata": {},
   "outputs": [],
   "source": [
    "def train_loop(dataloader, model, loss_fn, optimizer):\n",
    "    size = len(dataloader.dataset)\n",
    "    # Set the model to training mode - important for batch normalization and dropout layers\n",
    "    # Unnecessary in this situation but added for best practices\n",
    "    model.train()\n",
    "    for batch, (X, y) in enumerate(dataloader):\n",
    "        # Compute prediction and loss\n",
    "        pred = model(X)\n",
    "        loss = loss_fn(pred, y)\n",
    "\n",
    "        # Backpropagation\n",
    "        loss.backward()\n",
    "        optimizer.step()\n",
    "        optimizer.zero_grad()\n",
    "\n",
    "        if batch % 100 == 0:\n",
    "            loss, current = loss.item(), batch * batch_size + len(X)\n",
    "            print(f\"loss: {loss:>7f}  [{current:>5d}/{size:>5d}]\")\n",
    "\n",
    "\n",
    "def test_loop(dataloader, model, loss_fn):\n",
    "    # Set the model to evaluation mode - important for batch normalization and dropout layers\n",
    "    # Unnecessary in this situation but added for best practices\n",
    "    model.eval()\n",
    "    size = len(dataloader.dataset)\n",
    "    num_batches = len(dataloader)\n",
    "    test_loss, correct = 0, 0\n",
    "\n",
    "    # Evaluating the model with torch.no_grad() ensures that no gradients are computed during test mode\n",
    "    # also serves to reduce unnecessary gradient computations and memory usage for tensors with requires_grad=True\n",
    "    with torch.no_grad():\n",
    "        for X, y in dataloader:\n",
    "            pred = model(X)\n",
    "            test_loss += loss_fn(pred, y).item()\n",
    "            correct += (pred.argmax(1) == y).type(torch.float).sum().item()\n",
    "\n",
    "    test_loss /= num_batches\n",
    "    correct /= size\n",
    "    print(f\"Test Error: \\n Accuracy: {(100*correct):>0.1f}%, Avg loss: {test_loss:>8f} \\n\")"
   ]
  },
  {
   "cell_type": "code",
   "execution_count": null,
   "metadata": {},
   "outputs": [
    {
     "name": "stdout",
     "output_type": "stream",
     "text": [
      "Epoch 1\n",
      "-------------------------------\n",
      "loss: 2.295837  [   64/60000]\n",
      "loss: 2.293579  [ 6464/60000]\n",
      "loss: 2.272922  [12864/60000]\n",
      "loss: 2.270849  [19264/60000]\n",
      "loss: 2.263756  [25664/60000]\n",
      "loss: 2.222189  [32064/60000]\n",
      "loss: 2.237807  [38464/60000]\n",
      "loss: 2.196224  [44864/60000]\n",
      "loss: 2.189372  [51264/60000]\n",
      "loss: 2.169547  [57664/60000]\n",
      "Test Error: \n",
      " Accuracy: 37.8%, Avg loss: 2.157363 \n",
      "\n",
      "Epoch 2\n",
      "-------------------------------\n",
      "loss: 2.157923  [   64/60000]\n",
      "loss: 2.159187  [ 6464/60000]\n",
      "loss: 2.095220  [12864/60000]\n",
      "loss: 2.115452  [19264/60000]\n",
      "loss: 2.085444  [25664/60000]\n",
      "loss: 2.005141  [32064/60000]\n",
      "loss: 2.042828  [38464/60000]\n",
      "loss: 1.950053  [44864/60000]\n",
      "loss: 1.950055  [51264/60000]\n",
      "loss: 1.900573  [57664/60000]\n",
      "Test Error: \n",
      " Accuracy: 60.7%, Avg loss: 1.886302 \n",
      "\n",
      "Epoch 3\n",
      "-------------------------------\n",
      "loss: 1.903745  [   64/60000]\n",
      "loss: 1.892251  [ 6464/60000]\n",
      "loss: 1.762474  [12864/60000]\n",
      "loss: 1.813374  [19264/60000]\n",
      "loss: 1.737207  [25664/60000]\n",
      "loss: 1.656015  [32064/60000]\n",
      "loss: 1.694675  [38464/60000]\n",
      "loss: 1.577439  [44864/60000]\n",
      "loss: 1.606302  [51264/60000]\n",
      "loss: 1.516862  [57664/60000]\n",
      "Test Error: \n",
      " Accuracy: 63.5%, Avg loss: 1.522544 \n",
      "\n",
      "Epoch 4\n",
      "-------------------------------\n",
      "loss: 1.575289  [   64/60000]\n",
      "loss: 1.557392  [ 6464/60000]\n",
      "loss: 1.393409  [12864/60000]\n",
      "loss: 1.478146  [19264/60000]\n",
      "loss: 1.389225  [25664/60000]\n",
      "loss: 1.351302  [32064/60000]\n",
      "loss: 1.382229  [38464/60000]\n",
      "loss: 1.290686  [44864/60000]\n",
      "loss: 1.336439  [51264/60000]\n",
      "loss: 1.240304  [57664/60000]\n",
      "Test Error: \n",
      " Accuracy: 64.3%, Avg loss: 1.259260 \n",
      "\n",
      "Epoch 5\n",
      "-------------------------------\n",
      "loss: 1.324633  [   64/60000]\n",
      "loss: 1.321722  [ 6464/60000]\n",
      "loss: 1.143631  [12864/60000]\n",
      "loss: 1.256708  [19264/60000]\n",
      "loss: 1.156322  [25664/60000]\n",
      "loss: 1.153968  [32064/60000]\n",
      "loss: 1.185743  [38464/60000]\n",
      "loss: 1.111929  [44864/60000]\n",
      "loss: 1.160879  [51264/60000]\n",
      "loss: 1.076737  [57664/60000]\n",
      "Test Error: \n",
      " Accuracy: 65.2%, Avg loss: 1.092271 \n",
      "\n",
      "Epoch 6\n",
      "-------------------------------\n",
      "loss: 1.151437  [   64/60000]\n",
      "loss: 1.170216  [ 6464/60000]\n",
      "loss: 0.976610  [12864/60000]\n",
      "loss: 1.115719  [19264/60000]\n",
      "loss: 1.010082  [25664/60000]\n",
      "loss: 1.019818  [32064/60000]\n",
      "loss: 1.063249  [38464/60000]\n",
      "loss: 0.997670  [44864/60000]\n",
      "loss: 1.045142  [51264/60000]\n",
      "loss: 0.974185  [57664/60000]\n",
      "Test Error: \n",
      " Accuracy: 66.1%, Avg loss: 0.984158 \n",
      "\n",
      "Epoch 7\n",
      "-------------------------------\n",
      "loss: 1.030561  [   64/60000]\n",
      "loss: 1.072613  [ 6464/60000]\n",
      "loss: 0.862243  [12864/60000]\n",
      "loss: 1.021772  [19264/60000]\n",
      "loss: 0.918092  [25664/60000]\n",
      "loss: 0.925213  [32064/60000]\n",
      "loss: 0.983691  [38464/60000]\n",
      "loss: 0.923599  [44864/60000]\n",
      "loss: 0.965144  [51264/60000]\n",
      "loss: 0.906066  [57664/60000]\n",
      "Test Error: \n",
      " Accuracy: 67.3%, Avg loss: 0.910887 \n",
      "\n",
      "Epoch 8\n",
      "-------------------------------\n",
      "loss: 0.942412  [   64/60000]\n",
      "loss: 1.005313  [ 6464/60000]\n",
      "loss: 0.780685  [12864/60000]\n",
      "loss: 0.956048  [19264/60000]\n",
      "loss: 0.857182  [25664/60000]\n",
      "loss: 0.855978  [32064/60000]\n",
      "loss: 0.928625  [38464/60000]\n",
      "loss: 0.874305  [44864/60000]\n",
      "loss: 0.908068  [51264/60000]\n",
      "loss: 0.857662  [57664/60000]\n",
      "Test Error: \n",
      " Accuracy: 68.4%, Avg loss: 0.858548 \n",
      "\n",
      "Epoch 9\n",
      "-------------------------------\n",
      "loss: 0.875719  [   64/60000]\n",
      "loss: 0.955345  [ 6464/60000]\n",
      "loss: 0.720101  [12864/60000]\n",
      "loss: 0.907416  [19264/60000]\n",
      "loss: 0.814186  [25664/60000]\n",
      "loss: 0.803904  [32064/60000]\n",
      "loss: 0.887385  [38464/60000]\n",
      "loss: 0.840226  [44864/60000]\n",
      "loss: 0.865861  [51264/60000]\n",
      "loss: 0.820980  [57664/60000]\n",
      "Test Error: \n",
      " Accuracy: 69.5%, Avg loss: 0.819209 \n",
      "\n",
      "Epoch 10\n",
      "-------------------------------\n",
      "loss: 0.823296  [   64/60000]\n",
      "loss: 0.915483  [ 6464/60000]\n",
      "loss: 0.673277  [12864/60000]\n",
      "loss: 0.870154  [19264/60000]\n",
      "loss: 0.781714  [25664/60000]\n",
      "loss: 0.763809  [32064/60000]\n",
      "loss: 0.854279  [38464/60000]\n",
      "loss: 0.815579  [44864/60000]\n",
      "loss: 0.833453  [51264/60000]\n",
      "loss: 0.791488  [57664/60000]\n",
      "Test Error: \n",
      " Accuracy: 70.6%, Avg loss: 0.788145 \n",
      "\n",
      "Done!\n"
     ]
    }
   ],
   "source": [
    "loss_fn = nn.CrossEntropyLoss()\n",
    "optimizer = torch.optim.SGD(model.parameters(), lr=learning_rate)\n",
    "\n",
    "epochs = 10\n",
    "for t in range(epochs):\n",
    "    print(f\"Epoch {t+1}\\n-------------------------------\")\n",
    "    train_loop(train_dataloader, model, loss_fn, optimizer)\n",
    "    test_loop(test_dataloader, model, loss_fn)\n",
    "print(\"Done!\")"
   ]
  },
  {
   "cell_type": "markdown",
   "metadata": {},
   "source": [
    "## Save, Load and Use Model"
   ]
  },
  {
   "cell_type": "code",
   "execution_count": null,
   "metadata": {},
   "outputs": [],
   "source": [
    "import torch\n",
    "import torchvision.models as models"
   ]
  },
  {
   "cell_type": "markdown",
   "metadata": {},
   "source": [
    "### Saving and Loading Model Weights\n",
    "\n",
    "PyTorch models store the learned parameters in an internal state\n",
    "dictionary, called `state_dict`. These can be persisted via the\n",
    "`torch.save` method:"
   ]
  },
  {
   "cell_type": "code",
   "execution_count": null,
   "metadata": {},
   "outputs": [
    {
     "name": "stderr",
     "output_type": "stream",
     "text": [
      "Downloading: \"https://download.pytorch.org/models/vgg16-397923af.pth\" to /home/sunzid/.cache/torch/hub/checkpoints/vgg16-397923af.pth\n",
      "100%|██████████| 528M/528M [00:15<00:00, 35.8MB/s] \n"
     ]
    }
   ],
   "source": [
    "model = models.vgg16(weights='IMAGENET1K_V1')\n",
    "torch.save(model.state_dict(), 'model_weights.pth')"
   ]
  },
  {
   "cell_type": "markdown",
   "metadata": {},
   "source": [
    "To load model weights, you need to create an instance of the same model\n",
    "first, and then load the parameters using `load_state_dict()` method.\n"
   ]
  },
  {
   "cell_type": "code",
   "execution_count": null,
   "metadata": {},
   "outputs": [
    {
     "data": {
      "text/plain": [
       "VGG(\n",
       "  (features): Sequential(\n",
       "    (0): Conv2d(3, 64, kernel_size=(3, 3), stride=(1, 1), padding=(1, 1))\n",
       "    (1): ReLU(inplace=True)\n",
       "    (2): Conv2d(64, 64, kernel_size=(3, 3), stride=(1, 1), padding=(1, 1))\n",
       "    (3): ReLU(inplace=True)\n",
       "    (4): MaxPool2d(kernel_size=2, stride=2, padding=0, dilation=1, ceil_mode=False)\n",
       "    (5): Conv2d(64, 128, kernel_size=(3, 3), stride=(1, 1), padding=(1, 1))\n",
       "    (6): ReLU(inplace=True)\n",
       "    (7): Conv2d(128, 128, kernel_size=(3, 3), stride=(1, 1), padding=(1, 1))\n",
       "    (8): ReLU(inplace=True)\n",
       "    (9): MaxPool2d(kernel_size=2, stride=2, padding=0, dilation=1, ceil_mode=False)\n",
       "    (10): Conv2d(128, 256, kernel_size=(3, 3), stride=(1, 1), padding=(1, 1))\n",
       "    (11): ReLU(inplace=True)\n",
       "    (12): Conv2d(256, 256, kernel_size=(3, 3), stride=(1, 1), padding=(1, 1))\n",
       "    (13): ReLU(inplace=True)\n",
       "    (14): Conv2d(256, 256, kernel_size=(3, 3), stride=(1, 1), padding=(1, 1))\n",
       "    (15): ReLU(inplace=True)\n",
       "    (16): MaxPool2d(kernel_size=2, stride=2, padding=0, dilation=1, ceil_mode=False)\n",
       "    (17): Conv2d(256, 512, kernel_size=(3, 3), stride=(1, 1), padding=(1, 1))\n",
       "    (18): ReLU(inplace=True)\n",
       "    (19): Conv2d(512, 512, kernel_size=(3, 3), stride=(1, 1), padding=(1, 1))\n",
       "    (20): ReLU(inplace=True)\n",
       "    (21): Conv2d(512, 512, kernel_size=(3, 3), stride=(1, 1), padding=(1, 1))\n",
       "    (22): ReLU(inplace=True)\n",
       "    (23): MaxPool2d(kernel_size=2, stride=2, padding=0, dilation=1, ceil_mode=False)\n",
       "    (24): Conv2d(512, 512, kernel_size=(3, 3), stride=(1, 1), padding=(1, 1))\n",
       "    (25): ReLU(inplace=True)\n",
       "    (26): Conv2d(512, 512, kernel_size=(3, 3), stride=(1, 1), padding=(1, 1))\n",
       "    (27): ReLU(inplace=True)\n",
       "    (28): Conv2d(512, 512, kernel_size=(3, 3), stride=(1, 1), padding=(1, 1))\n",
       "    (29): ReLU(inplace=True)\n",
       "    (30): MaxPool2d(kernel_size=2, stride=2, padding=0, dilation=1, ceil_mode=False)\n",
       "  )\n",
       "  (avgpool): AdaptiveAvgPool2d(output_size=(7, 7))\n",
       "  (classifier): Sequential(\n",
       "    (0): Linear(in_features=25088, out_features=4096, bias=True)\n",
       "    (1): ReLU(inplace=True)\n",
       "    (2): Dropout(p=0.5, inplace=False)\n",
       "    (3): Linear(in_features=4096, out_features=4096, bias=True)\n",
       "    (4): ReLU(inplace=True)\n",
       "    (5): Dropout(p=0.5, inplace=False)\n",
       "    (6): Linear(in_features=4096, out_features=1000, bias=True)\n",
       "  )\n",
       ")"
      ]
     },
     "execution_count": 16,
     "metadata": {},
     "output_type": "execute_result"
    }
   ],
   "source": [
    "model = models.vgg16() # we do not specify ``weights``, i.e. create untrained model\n",
    "model.load_state_dict(torch.load('model_weights.pth'))\n",
    "model.eval()"
   ]
  },
  {
   "cell_type": "markdown",
   "metadata": {},
   "source": [
    "<div style=\"background-color: #54c7ec; color: #fff; font-weight: 700; padding-left: 10px; padding-top: 5px; padding-bottom: 5px\"><strong>NOTE:</strong></div>\n",
    "<div style=\"background-color: #f3f4f7; padding-left: 10px; padding-top: 10px; padding-bottom: 10px; padding-right: 10px\">\n",
    "<p>be sure to call <code>model.eval()</code> method before inferencing to set the dropout and batch normalization layers to evaluation mode. Failing to do this will yield inconsistent inference results.</p>\n",
    "</div>\n"
   ]
  },
  {
   "cell_type": "markdown",
   "metadata": {},
   "source": [
    "### Saving and Loading Models with Shapes\n",
    "\n",
    "When loading model weights, we needed to instantiate the model class\n",
    "first, because the class defines the structure of a network. We might\n",
    "want to save the structure of this class together with the model, in\n",
    "which case we can pass `model` (and not `model.state_dict()`) to the\n",
    "saving function:\n"
   ]
  },
  {
   "cell_type": "code",
   "execution_count": null,
   "metadata": {},
   "outputs": [],
   "source": [
    "torch.save(model, 'model.pth')"
   ]
  },
  {
   "cell_type": "code",
   "execution_count": null,
   "metadata": {},
   "outputs": [],
   "source": [
    "model = torch.load('model.pth')"
   ]
  },
  {
   "cell_type": "markdown",
   "metadata": {},
   "source": [
    "<div style=\"background-color: #54c7ec; color: #fff; font-weight: 700; padding-left: 10px; padding-top: 5px; padding-bottom: 5px\"><strong>NOTE:</strong></div>\n",
    "<div style=\"background-color: #f3f4f7; padding-left: 10px; padding-top: 10px; padding-bottom: 10px; padding-right: 10px\">\n",
    "<p>This approach uses Python <a href=\"https://docs.python.org/3/library/pickle.html\">pickle</a> module when serializing the model, thus it relies on the actual class definition to be available when loading the model.</p>\n",
    "</div>\n"
   ]
  },
  {
   "cell_type": "markdown",
   "metadata": {},
   "source": [
    "# Freecodecamp Tutorial"
   ]
  },
  {
   "cell_type": "markdown",
   "metadata": {},
   "source": [
    "## Basics\n",
    "### Machine Learning\n",
    "Turning things (data) into numbers, and finding patterns in those numbers.\n",
    "\n",
    "Machine learning for structured data:\n",
    "- Random forest\n",
    "- Gradient boosted models\n",
    "- Naive Bayes\n",
    "- Nearest neighbour\n",
    "- Support vector machine\n",
    "- XGBoost, etc.\n",
    "\n",
    "\n",
    "### Deep Learning\n",
    "Deep learning for unstructured data:\n",
    "- Neural networks.\n",
    "- Fully connected neural networks\n",
    "- Convolutional neural network\n",
    "- Recurrent neural network\n",
    "- Transformer, etc.\n",
    "\n",
    "### Neural Networks\n",
    "Input > numeric encoding > neural network (input layer > hidden layer(s) > ourput layer) to learn representation (patterns/embeddings/features/weights) > learned representation > prediction probabilities.\n",
    "\n",
    "Each layer is combination of linear/non-linear functions, and it's like what patterns we can draw using many lines. \n",
    "\n",
    "### Types of learning\n",
    "Supervised (we have data-label), unsupervised and self-supervised (unlabelled data), transfer learning, reinforcement learning.\n",
    "\n",
    "### Pytorch\n",
    "Research deep learning framework.\n",
    "\n",
    "### Tensor\n",
    "Input data is converted to numeric tensor. NN output is also tensor of learned representation.\n",
    "\n",
    "Vectors can represent area - the length of the vector is equal to the area of the surface, and the direction is perpendicular to the surface.\n",
    "A vector can be $4\\hat{i}+3\\hat{j}+0\\hat{k}$ in Cartesian coordinate system is expressed using basis vectors $\\hat{i}$, $\\hat{j}$ and $\\hat{k}$ for $x$, $y$ and $z$, and components 4, 3, and 0. The components can be used to express it as column vector $\\left[\\begin{array}{c}4\\\\3\\\\0\\end{array}\\right]$.\n",
    "\n",
    "The column vector is rank 1, since it requires one index or basis vector per component $\\mathbf{A}=\\left[\\begin{array}{c}A_x\\\\ A_y\\\\ A_z\\end{array}\\right]$. \n",
    "Scalers can be considered tensors of rank 0, as they have no directional indicators.\n",
    "\n",
    "In a rank 2 tensor, we have 9 components, and 9 sets of 2 basis vectors. Each components has two indices. For example:\n",
    "$$\\mathbf{A}=\n",
    "\\left[\\begin{array}{ccc}\n",
    "A_{xx} & A_{xy} & A_{xz}\\\\\n",
    "A_{yx} & A_{yy} & A_{yz}\\\\\n",
    "A_{zx} & A_{zy} & A_{zz}\n",
    "\\end{array}\\right]$$\n",
    "\n",
    "\n",
    "In a rank 3 tensor, there are 27 components, each pertaining to one of 27 sets of 3 basis vectors.\n",
    "\n",
    "Now for different reference frames, the basis vectors and components can differ, but the combination of those basis vectors and components give us same ending result."
   ]
  },
  {
   "cell_type": "markdown",
   "metadata": {},
   "source": [
    "## Course contents\n",
    "- Pytorch basics & fundamentals (dealing with tensors and tensor operations)\n",
    "- Preprocessing data (getting it into tensors)\n",
    "-  Building and using pretrained deep learning models\n",
    "- Fitting a model to the data (learning patterns)\n",
    "- Making predictions with a model (using patterns)\n",
    "- Evaluating model predictions\n",
    "- Saving and loading models\n",
    "- Using a trained model to make predictions on custom data\n",
    "\n",
    "### PyTorch workflow\n",
    "Getting data ready > Build or pick a pretrained model (pick a loss function and optimizer > build a training loop) > Fit the model to the data and make a prediction > Evaluate the model > Improve through experimentation > Save and reload the trained model.\n",
    "\n",
    "### How to approach the course\n",
    "1. Code along\n",
    "2. Explore and experiment\n",
    "3. Visualize what you don't understand\n",
    "4. Ask questions\n",
    "5. Do the exercises\n",
    "6. Share your work\n",
    "\n",
    "### Course resources\n",
    "https://github.com/mrdbourke/pytorch-deep-learning  \n",
    "Q&A: https://github.com/mrdbourke/pytorch-deep-learning/discussions  \n",
    "Online book: learnpytorch.io\n",
    "\n",
    "pytorch.org\n",
    "PyTorch forum"
   ]
  },
  {
   "cell_type": "markdown",
   "metadata": {},
   "source": [
    "## 00_pytorch_fundamentals"
   ]
  },
  {
   "cell_type": "code",
   "execution_count": 2,
   "metadata": {},
   "outputs": [
    {
     "name": "stdout",
     "output_type": "stream",
     "text": [
      "NVIDIA-SMI has failed because it couldn't communicate with the NVIDIA driver. Make sure that the latest NVIDIA driver is installed and running.\n",
      "\n"
     ]
    }
   ],
   "source": [
    "!nvidia-smi"
   ]
  },
  {
   "cell_type": "code",
   "execution_count": 1,
   "metadata": {},
   "outputs": [
    {
     "name": "stdout",
     "output_type": "stream",
     "text": [
      "2.2.1+cu121\n"
     ]
    }
   ],
   "source": [
    "import torch\n",
    "import pandas as pd\n",
    "import numpy as np\n",
    "import matplotlib.pyplot as plt\n",
    "\n",
    "print(torch.__version__)"
   ]
  },
  {
   "cell_type": "code",
   "execution_count": 4,
   "metadata": {},
   "outputs": [
    {
     "name": "stdout",
     "output_type": "stream",
     "text": [
      "<function is_available at 0x7ae5e01afa60>\n"
     ]
    }
   ],
   "source": [
    "print(torch.cuda.is_available)"
   ]
  },
  {
   "cell_type": "markdown",
   "metadata": {},
   "source": [
    "### Tensors\n",
    "\n",
    "Scalars are 0-dim - just a value, typically written with lowercase variable name.\n",
    "Vectors are 1-dim - value with a direction, typically written with lowercase variable name.\n",
    "MATRIX are 2-dim - set of vectors, typically written with uppercase variable name.\n",
    "TENSOR are n-dim - set of n-1 dim TENSORS, typically written with uppercase variable name.\n",
    "\n",
    "#### Creating tensors\n",
    "PyTorch tensors are created using torch.tensor()"
   ]
  },
  {
   "cell_type": "code",
   "execution_count": 41,
   "metadata": {},
   "outputs": [
    {
     "name": "stdout",
     "output_type": "stream",
     "text": [
      "tensor(7)\n",
      "0\n",
      "7\n",
      "torch.Size([])\n"
     ]
    }
   ],
   "source": [
    "# Scalar\n",
    "scalar = torch.tensor(7)\n",
    "print(scalar)\n",
    "\n",
    "# scalar has 0 dim\n",
    "print(scalar.ndim)\n",
    "\n",
    "# get value of the scalar\n",
    "print(scalar.item())\n",
    "\n",
    "# scalar has no shape\n",
    "print(scalar.shape)"
   ]
  },
  {
   "cell_type": "code",
   "execution_count": 15,
   "metadata": {},
   "outputs": [
    {
     "name": "stdout",
     "output_type": "stream",
     "text": [
      "tensor([7, 7])\n",
      "1\n",
      "torch.Size([2])\n"
     ]
    }
   ],
   "source": [
    "# Vector - has magnitude and direction\n",
    "vector = torch.tensor([7,7])\n",
    "print(vector)\n",
    "\n",
    "# vector dim: 1 as there are 1 pair of square brackets\n",
    "print(vector.ndim)\n",
    "\n",
    "# vector shape: is 2 as there are 2*1 elements\n",
    "print(vector.shape)"
   ]
  },
  {
   "cell_type": "code",
   "execution_count": 4,
   "metadata": {},
   "outputs": [
    {
     "name": "stdout",
     "output_type": "stream",
     "text": [
      "Matrix 1: tensor([[7, 8],\n",
      "        [8, 9]])\n",
      "Matrix dim: 2\n",
      "Matrix dim 1: tensor([7, 8])\n",
      "Matrix dim 2: tensor([8, 9])\n",
      "Matrix shape:  torch.Size([2, 2])\n",
      "\n",
      "Matrix dim: 2\n",
      "Matrix shape: torch.Size([3, 1])\n"
     ]
    }
   ],
   "source": [
    "# MATRIX\n",
    "MATRIX = torch.tensor([[7, 8],\n",
    "                        [8, 9]])\n",
    "print('Matrix 1:', MATRIX)\n",
    "\n",
    "# MATRIX dimensions - 2 given 2 paris of square brackets outside\n",
    "print('Matrix dim:', MATRIX.ndim)\n",
    "\n",
    "# Accessessing different dimensions - each dimensions of the n-dim matrix has n-1 dim vectors\n",
    "print('Matrix dim 1:', MATRIX[0])\n",
    "print('Matrix dim 2:', MATRIX[1])\n",
    "\n",
    "# MATRIX shape - 2 final square-bracket packets by 2 elements in each final square bracket packets\n",
    "print('Matrix shape: ', MATRIX.shape)\n",
    "print()\n",
    "\n",
    "# the MATRIX has the same dim of 2, but the shape is 3 by 1 in this case\n",
    "MATRIX2 = torch.tensor([[7],\n",
    "                        [8],\n",
    "                        [0]])\n",
    "print('Matrix dim:', MATRIX2.ndim)\n",
    "print('Matrix shape:', MATRIX2.shape)"
   ]
  },
  {
   "cell_type": "code",
   "execution_count": 10,
   "metadata": {},
   "outputs": [
    {
     "name": "stdout",
     "output_type": "stream",
     "text": [
      "TENSOR:\n",
      " tensor([[[1, 2, 3],\n",
      "         [3, 6, 9],\n",
      "         [2, 5, 4]]])\n",
      "TENSOR dim: 3\n",
      "TENSOR shape: torch.Size([1, 3, 3])\n",
      "\n",
      "1/1 3X3 MATRIX in TENSOR:\n",
      " tensor([[1, 2, 3],\n",
      "        [3, 6, 9],\n",
      "        [2, 5, 4]])\n",
      "1/1 3X3 MATRIX dim in TENSOR: 2\n",
      "1/1 3X3 MATRIX shape in TENSOR: torch.Size([3, 3])\n",
      "\n",
      "2/3 1X3 vector of MATRIX 1/1 in TENSOR:\n",
      " tensor([3, 6, 9])\n",
      "2/3 1X3 vector dim in MATRIX 1/1 in TENSOR: 1\n",
      "2/3 1X3 vector shape in MATRIX 1/1 in TENSOR: torch.Size([3])\n",
      "\n",
      "1/3 scalar in vector 1/3 in MATRIX 1/1 in TENSOR: 1 or 1\n",
      "1/3 scalar dim in vector 1/3 in MATRIX 1/1 in TENSOR 0 or 0\n",
      "1/3 scalar shape in vector 1/3 in MATRIX 1/1 in TENSOR torch.Size([]) or torch.Size([])\n",
      "\n",
      "TENSOR2:\n",
      " tensor([[[1, 2],\n",
      "         [3, 4]]])\n",
      "TENSOR2 different shape: torch.Size([1, 2, 2])\n",
      "TENSOR2 same dim: 3\n",
      "\n",
      "1/1 2X2 MATRIX in TENSOR2:\n",
      " tensor([[1, 2],\n",
      "        [3, 4]])\n",
      "1/1 2X2 MATRIX dim in TENSOR2: 2\n",
      "1/1 2X2 MATRIX shape in TENSOR2: torch.Size([2, 2])\n",
      "\n",
      "TENSOR3:\n",
      " tensor([[[ 1,  2,  3],\n",
      "         [ 4,  5,  6],\n",
      "         [ 7,  8,  9]],\n",
      "\n",
      "        [[10, 11, 12],\n",
      "         [13, 14, 15],\n",
      "         [16, 17, 18]],\n",
      "\n",
      "        [[19, 20, 21],\n",
      "         [22, 23, 24],\n",
      "         [25, 26, 27]]])\n",
      "TENSOR3 dim: 3\n",
      "TENSOR3 shape: torch.Size([3, 3, 3])\n",
      "\n",
      "1/3 3X3 MATRIX in TENSOR3:\n",
      " tensor([[1, 2, 3],\n",
      "        [4, 5, 6],\n",
      "        [7, 8, 9]])\n",
      "1/3 3X3 MATRIX dim in TENSOR3: 2\n",
      "1/3 3X3 MATRIX shape in TENSOR3: torch.Size([3, 3])\n",
      "\n",
      "1/3 1X3 vector in 1/3 3X3 MATRIX in TENSOR3:\n",
      " tensor([1, 2, 3]) or tensor([1, 2, 3])\n",
      "1/3 1X3 vector dim in 1/3 3X3 MATRIX in TENSOR3: 1 or 1\n",
      "1/3 1X3 vector shape in 1/3 3X3 MATRIX in TENSOR3: torch.Size([3]) or torch.Size([3])\n",
      "\n",
      "1/3 scalar in 1/3 1X3 vector in 1/3 3X3 MATRIX in TENSOR3:\n",
      " tensor(1) or tensor(1)\n",
      "1/3 scalar dim in 1/3 1X3 vector in 1/3 3X3 MATRIX in TENSOR3: 0 or 0\n",
      "1/3 scalar shape in 1/3 1X3 vector in 1/3 3X3 MATRIX in TENSOR3: torch.Size([]) or torch.Size([])\n"
     ]
    }
   ],
   "source": [
    "\"\"\"\n",
    "If we consider the elements inside the rightmost square-bracket at start,\n",
    "there is a 3-element vector. So dim of TENSOR[0,0] is 1 and shape is 3.\n",
    "\n",
    "Inside the second-rightmost square bracket, there are 3 vectors each with 3 elements.\n",
    "So it's a 3 by 3 matrix. So the dim of TENSOR[0] is 2 and shape is 3 by 3.\n",
    "\n",
    "Inside the leftmost square bracket, there is one set of 3 by 3 matrix.\n",
    "So the dim of TENSOR is 3, and the shape is 1 by 3 by 3.\n",
    "\"\"\"\n",
    "\n",
    "# TENSOR\n",
    "TENSOR = torch.tensor([[[1, 2, 3],\n",
    "                        [3, 6, 9],\n",
    "                        [2, 5, 4]]])\n",
    "print('TENSOR:\\n', TENSOR)\n",
    "\n",
    "# TENSOR ndim is 3 - given 3 square-brackets at start\n",
    "print('TENSOR dim:', TENSOR.ndim)\n",
    "\n",
    "# Shape of this TENOSR is 3 by 3 - 3 final square-bracket packets, 3 elements in each\n",
    "print('TENSOR shape:', TENSOR.shape)\n",
    "print()\n",
    "\n",
    "# accessing dimensions of the TENSOR - the entire data is in the 0-th dimension\n",
    "print('1/1 3X3 MATRIX in TENSOR:\\n', TENSOR[0])\n",
    "\n",
    "# There is a 3 by 3 matrix with ndim of 2 in the first dim of the tensor\n",
    "print('1/1 3X3 MATRIX dim in TENSOR:', TENSOR[0].ndim)\n",
    "print('1/1 3X3 MATRIX shape in TENSOR:', TENSOR[0].shape)\n",
    "print()\n",
    "\n",
    "# this returns the second element in first element - the second vector inside the first matrix of the tensor\n",
    "print('2/3 1X3 vector of MATRIX 1/1 in TENSOR:\\n', TENSOR[0,1])\n",
    "\n",
    "# the dim of the vector is 1\n",
    "print('2/3 1X3 vector dim in MATRIX 1/1 in TENSOR:', TENSOR[0,1].ndim)\n",
    "\n",
    "# the shape of the vector is 3\n",
    "print('2/3 1X3 vector shape in MATRIX 1/1 in TENSOR:', TENSOR[0,1].shape)\n",
    "print()\n",
    "\n",
    "# Further down the rabbit hole, we can select scalars\n",
    "print('1/3 scalar in vector 1/3 in MATRIX 1/1 in TENSOR:', TENSOR[0,0,0].item(), 'or', TENSOR[0][0][0].item()) # number\n",
    "print('1/3 scalar dim in vector 1/3 in MATRIX 1/1 in TENSOR', TENSOR[0,0,0].ndim, 'or', TENSOR[0][0][0].ndim) # 0\n",
    "print('1/3 scalar shape in vector 1/3 in MATRIX 1/1 in TENSOR', TENSOR[0,0,0].shape, 'or', TENSOR[0][0][0].shape) # none\n",
    "print()\n",
    "\n",
    "# 1 by 2 by 2 TENSOR\n",
    "TENSOR2 = torch.tensor([[[1, 2],\n",
    "                         [3, 4]]])\n",
    "print('TENSOR2:\\n', TENSOR2)\n",
    "print('TENSOR2 different shape:', TENSOR2.shape)\n",
    "print('TENSOR2 same dim:', TENSOR2.ndim)\n",
    "print()\n",
    "print('1/1 2X2 MATRIX in TENSOR2:\\n', TENSOR2[0])\n",
    "print('1/1 2X2 MATRIX dim in TENSOR2:', TENSOR2[0].ndim)\n",
    "print('1/1 2X2 MATRIX shape in TENSOR2:', TENSOR2[0].shape)\n",
    "print()\n",
    "\n",
    "# 3 by 3 by 3 TENSOR\n",
    "TENSOR3 = torch.tensor([[[1, 2, 3],\n",
    "                        [4, 5, 6],\n",
    "                        [7, 8, 9]],\n",
    "                        \n",
    "                        [[10, 11, 12],\n",
    "                        [13, 14, 15],\n",
    "                        [16, 17, 18]],\n",
    "                        \n",
    "                        [[19, 20, 21],\n",
    "                        [22, 23, 24],\n",
    "                        [25, 26, 27]]])\n",
    "\n",
    "print('TENSOR3:\\n', TENSOR3)\n",
    "print('TENSOR3 dim:', TENSOR3.ndim)\n",
    "print('TENSOR3 shape:', TENSOR3.shape)\n",
    "print()\n",
    "print('1/3 3X3 MATRIX in TENSOR3:\\n', TENSOR3[0])\n",
    "print('1/3 3X3 MATRIX dim in TENSOR3:', TENSOR3[0].ndim)\n",
    "print('1/3 3X3 MATRIX shape in TENSOR3:', TENSOR3[0].shape)\n",
    "print()\n",
    "print('1/3 1X3 vector in 1/3 3X3 MATRIX in TENSOR3:\\n', TENSOR3[0][0], 'or', TENSOR3[0,0])\n",
    "print('1/3 1X3 vector dim in 1/3 3X3 MATRIX in TENSOR3:', TENSOR3[0][0].ndim, 'or', TENSOR3[0,0].ndim)\n",
    "print('1/3 1X3 vector shape in 1/3 3X3 MATRIX in TENSOR3:', TENSOR3[0][0].shape, 'or', TENSOR3[0,0].shape)\n",
    "print()\n",
    "print('1/3 scalar in 1/3 1X3 vector in 1/3 3X3 MATRIX in TENSOR3:\\n', TENSOR3[0][0][0], 'or', TENSOR3[0,0,0])\n",
    "print('1/3 scalar dim in 1/3 1X3 vector in 1/3 3X3 MATRIX in TENSOR3:', TENSOR3[0][0][0].ndim, 'or', TENSOR3[0,0,0].ndim)\n",
    "print('1/3 scalar shape in 1/3 1X3 vector in 1/3 3X3 MATRIX in TENSOR3:', TENSOR3[0][0][0].shape, 'or', TENSOR3[0,0,0].shape)\n"
   ]
  },
  {
   "cell_type": "markdown",
   "metadata": {},
   "source": [
    "#### Random Tensor\n",
    "Often the neural networks start with random tensors, and then optimize for the data."
   ]
  },
  {
   "cell_type": "code",
   "execution_count": 11,
   "metadata": {},
   "outputs": [
    {
     "name": "stdout",
     "output_type": "stream",
     "text": [
      "tensor([[0.2507, 0.3661, 0.3353, 0.2925],\n",
      "        [0.5979, 0.8056, 0.9331, 0.5823],\n",
      "        [0.2719, 0.6658, 0.0074, 0.1885]])\n",
      "tensor([[[0.1789, 0.5387],\n",
      "         [0.3346, 0.7273]],\n",
      "\n",
      "        [[0.4494, 0.5846],\n",
      "         [0.1323, 0.3171]]])\n"
     ]
    },
    {
     "data": {
      "text/plain": [
       "(torch.Size([3, 64, 64]), 3)"
      ]
     },
     "execution_count": 11,
     "metadata": {},
     "output_type": "execute_result"
    }
   ],
   "source": [
    "# create a random sensor of specific size\n",
    "\n",
    "RANDOM_TENSOR = torch.rand(3,4) # a matrix with 3 vectors of size 4, with values of 0-1\n",
    "print(RANDOM_TENSOR)\n",
    "\n",
    "RANDOM_TENSOR_2 = torch.rand(2,2,2)\n",
    "print(RANDOM_TENSOR_2)\n",
    "\n",
    "RANDOM_IMAGE_SIZE_TENSOR = torch.rand(size=(3, 64, 64)) # RGB color channels by height by weight\n",
    "RANDOM_IMAGE_SIZE_TENSOR.shape, RANDOM_IMAGE_SIZE_TENSOR.ndim"
   ]
  },
  {
   "cell_type": "markdown",
   "metadata": {},
   "source": [
    "#### Zeros and Ones Tensors\n",
    "Often used for masking purpose."
   ]
  },
  {
   "cell_type": "code",
   "execution_count": 61,
   "metadata": {},
   "outputs": [
    {
     "name": "stdout",
     "output_type": "stream",
     "text": [
      "tensor([[0., 0., 0.],\n",
      "        [0., 0., 0.],\n",
      "        [0., 0., 0.]])\n",
      "tensor([[1., 1., 1.],\n",
      "        [1., 1., 1.],\n",
      "        [1., 1., 1.]])\n",
      "torch.float32\n"
     ]
    }
   ],
   "source": [
    "# Tensor of zeros\n",
    "ZEROS = torch.zeros(size=(3,3))\n",
    "print(ZEROS)\n",
    "\n",
    "# Tensor of ones\n",
    "ONES = torch.ones(size=(3,3))\n",
    "print(ONES)\n",
    "\n",
    "# default scalar values are torch.float32\n",
    "print(ONES.dtype)"
   ]
  },
  {
   "cell_type": "markdown",
   "metadata": {},
   "source": [
    "#### Tensor Range and Tensor-like"
   ]
  },
  {
   "cell_type": "code",
   "execution_count": 68,
   "metadata": {},
   "outputs": [
    {
     "name": "stdout",
     "output_type": "stream",
     "text": [
      "tensor([ 0,  1,  2,  3,  4,  5,  6,  7,  8,  9, 10])\n",
      "tensor([  0,  99, 198, 297, 396, 495, 594, 693, 792, 891, 990])\n",
      "tensor([0, 0, 0, 0, 0, 0, 0, 0, 0, 0, 0])\n"
     ]
    }
   ],
   "source": [
    "RANGED_TENSOR1 = torch.arange(start=0, end=11, step=1)\n",
    "print(RANGED_TENSOR1)\n",
    "\n",
    "RANGED_TENSOR2 = torch.arange(start=0, end=1000, step=99)\n",
    "print(RANGED_TENSOR2)\n",
    "\n",
    "TEN_ZEROS = torch.zeros_like(input=RANGED_TENSOR1)\n",
    "print(TEN_ZEROS)"
   ]
  },
  {
   "cell_type": "markdown",
   "metadata": {},
   "source": [
    "### Important Tensor Parameters: datatype\n",
    "The default datatype is torch.float32 or single precision floating point. A number is stored using 32-bits in memory.\n",
    "Half precision is 16-bits floating point. This is less precise, but takes less storage and calculates faster.\n",
    "\n",
    "**Note:**\n",
    "3 big error sources in PyTorch and deep learning:\n",
    "1. Tensors not right datatype\n",
    "2. Tensors of incorrect shape\n",
    "3. Tensors not on the right device.\n",
    "\n",
    "Default device is \"cpu\", it can be set \"cuda\".\n",
    "\n",
    "Whether or not to track gradients with tensor operations."
   ]
  },
  {
   "cell_type": "code",
   "execution_count": 85,
   "metadata": {},
   "outputs": [
    {
     "name": "stdout",
     "output_type": "stream",
     "text": [
      "torch.float32\n",
      "torch.float16\n",
      "torch.float16\n",
      "torch.float16\n",
      "torch.float32\n",
      "torch.float32\n",
      "torch.float32\n"
     ]
    }
   ],
   "source": [
    "# Default float32 tensor\n",
    "TENSOR32 = torch.tensor([3.0, 6.0, 9.0],\n",
    "                       dtype=None,\n",
    "                       device=None,\n",
    "                       requires_grad=False)\n",
    "print(TENSOR32.dtype)\n",
    "\n",
    "TENSOR16_1 = torch.tensor([3.0, 6.0, 9.0],\n",
    "                       dtype=torch.float16,\n",
    "                       device=None,\n",
    "                       requires_grad=False)\n",
    "print(TENSOR16_1.dtype)\n",
    "\n",
    "TENSOR16_2 = TENSOR32.type(dtype=torch.float16)\n",
    "print(TENSOR16_2.dtype)\n",
    "\n",
    "# Some operations (not the ones below)\n",
    "# will run into datatype error\n",
    "print((TENSOR16_2 * TENSOR16_1).dtype)\n",
    "print((TENSOR32 * TENSOR16_1).dtype)\n",
    "print((TENSOR32 + TENSOR16_1).dtype)\n",
    "\n",
    "# multiplying int with float\n",
    "TENSOR_int32 = TENSOR32.type(dtype=torch.int32)\n",
    "\n",
    "print((TENSOR_int32 * TENSOR32).dtype)"
   ]
  },
  {
   "cell_type": "code",
   "execution_count": 95,
   "metadata": {},
   "outputs": [
    {
     "name": "stdout",
     "output_type": "stream",
     "text": [
      "tensor:tensor([[0.4799, 0.2873, 0.0282],\n",
      "        [0.1052, 0.1439, 0.6174],\n",
      "        [0.3207, 0.0260, 0.8427]])\n",
      "tensor datatype: torch.float32\n",
      "tensor shape: torch.Size([3, 3])\n",
      "tensor shape: torch.Size([3, 3])\n",
      "tensor device: cpu\n",
      "tensor:tensor([[0, 0, 0],\n",
      "        [0, 0, 0],\n",
      "        [0, 0, 0]], dtype=torch.int16)\n",
      "tensor datatype: torch.int16\n"
     ]
    }
   ],
   "source": [
    "rand_tensor = torch.rand(size=(3,3))\n",
    "print(f\"tensor\\n:{rand_tensor}\")\n",
    "print(f\"\\ntensor datatype: {rand_tensor.dtype}\")\n",
    "print(f\"tensor device: {rand_tensor.device}\")\n",
    "\n",
    "# tensor.shape is tensor attribute, tensor.size() is a function\n",
    "print(f\"tensor shape: {rand_tensor.shape}\")\n",
    "print(f\"tensor shape: {rand_tensor.size()}\")\n",
    "\n",
    "# changing datatype\n",
    "rand_int_tensor = rand_tensor.type(dtype=torch.int16)\n",
    "print(f\"tensor:{rand_int_tensor}\")\n",
    "print(f\"tensor datatype: {rand_int_tensor.dtype}\")\n"
   ]
  },
  {
   "cell_type": "markdown",
   "metadata": {},
   "source": [
    "### Manipulating tensors (tensor operations)\n",
    "* Addition\n",
    "* Subtraction\n",
    "* Multiplication (element-wise)\n",
    "* Division\n",
    "* Matrix multiplication (dot product) - torch.matmul, torch.mm, @"
   ]
  },
  {
   "cell_type": "code",
   "execution_count": 14,
   "metadata": {},
   "outputs": [
    {
     "name": "stdout",
     "output_type": "stream",
     "text": [
      "Addition: tensor([11, 12, 13]) or tensor([11, 12, 13])\n",
      "Subtraction: tensor([-9, -8, -7]) or tensor([-9, -8, -7])\n",
      "Division: tensor([0.1000, 0.2000, 0.3000]) or tensor([0.1000, 0.2000, 0.3000])\n",
      "Element-wise multiplication: tensor([10, 20, 30]) or tensor([10, 20, 30])\n",
      "tensor([1, 2, 3]) element-wise multiplication tensor([1, 2, 3]) = tensor([1, 4, 9])\n"
     ]
    }
   ],
   "source": [
    "TENSOR = torch.tensor([1, 2, 3])\n",
    "print(f\"Addition: {TENSOR + 10} or {torch.add(TENSOR, 10)}\")\n",
    "print(f\"Subtraction: {TENSOR - 10} or {torch.sub(TENSOR, 10)}\")\n",
    "print(f\"Division: {TENSOR / 10} or {torch.div(TENSOR, 10)}\")\n",
    "print(f\"Element-wise multiplication: {TENSOR * 10} or {torch.mul(TENSOR, 10)}\")\n",
    "\n",
    "print(f\"{TENSOR} element-wise multiplication {TENSOR} = {torch.mul(TENSOR,TENSOR)}\")"
   ]
  },
  {
   "cell_type": "code",
   "execution_count": 15,
   "metadata": {},
   "outputs": [
    {
     "name": "stdout",
     "output_type": "stream",
     "text": [
      "tensor([1, 2, 3]) @ tensor([1, 2, 3]) = 14\n",
      "CPU times: user 2.14 ms, sys: 1.54 ms, total: 3.67 ms\n",
      "Wall time: 2.21 ms\n"
     ]
    }
   ],
   "source": [
    "%%time\n",
    "print(f\"{TENSOR} @ {TENSOR} = {torch.matmul(TENSOR,TENSOR)}\")\n",
    "# print(f\"{TENSOR} @ {TENSOR} = {TENSOR @ TENSOR}\")"
   ]
  },
  {
   "cell_type": "code",
   "execution_count": 16,
   "metadata": {},
   "outputs": [
    {
     "name": "stdout",
     "output_type": "stream",
     "text": [
      "tensor([1, 2, 3]) @ tensor([1, 2, 3]) = 14\n",
      "CPU times: user 3.27 ms, sys: 1.38 ms, total: 4.65 ms\n",
      "Wall time: 3.13 ms\n"
     ]
    }
   ],
   "source": [
    "%%time\n",
    "print(f\"{TENSOR} @ {TENSOR} = {TENSOR[0]*TENSOR[0] + TENSOR[1]*TENSOR[1] + TENSOR[2]*TENSOR[2]}\")"
   ]
  },
  {
   "cell_type": "markdown",
   "metadata": {},
   "source": [
    "#### Matrix multiplication\n",
    "1. The inner dimensions must match\n",
    "2. The resulting matrix has the shape of outer dimensions.\n",
    "\n",
    "$x_{a\\times b}@ y_{b\\times c}=z_{a\\times c}$"
   ]
  },
  {
   "cell_type": "code",
   "execution_count": 129,
   "metadata": {},
   "outputs": [
    {
     "name": "stdout",
     "output_type": "stream",
     "text": [
      "tensor([[0.1786, 0.1478],\n",
      "        [0.0466, 0.5815],\n",
      "        [0.1001, 0.4391]])\n",
      "tensor([[0.1883, 0.2070, 0.2092],\n",
      "        [0.0405, 0.5596, 0.3829]])\n"
     ]
    }
   ],
   "source": [
    "TENSOR_3by2 = torch.rand(size=(3,2))\n",
    "TENSOR_2by2 = torch.rand(size=(2,2))\n",
    "\n",
    "print(TENSOR_3by2 @ TENSOR_2by2) # will work\n",
    "# print(TENSOR_2by2 @ TENSOR_3by2) # won't work\n",
    "print(torch.mm(TENSOR_2by2, TENSOR_3by2.T)) # will work after transposing\n"
   ]
  },
  {
   "cell_type": "code",
   "execution_count": 126,
   "metadata": {},
   "outputs": [
    {
     "data": {
      "text/plain": [
       "torch.Size([3, 2])"
      ]
     },
     "execution_count": 126,
     "metadata": {},
     "output_type": "execute_result"
    }
   ],
   "source": [
    "TENSOR_A = torch.tensor([[1, 2],\n",
    "                         [3, 4],\n",
    "                         [5, 6]])\n",
    "\n",
    "TENSOR_A.shape"
   ]
  },
  {
   "cell_type": "markdown",
   "metadata": {},
   "source": [
    "#### Tensor aggregation: min, max, mean, sum, argmin, argmax"
   ]
  },
  {
   "cell_type": "code",
   "execution_count": 9,
   "metadata": {},
   "outputs": [
    {
     "name": "stdout",
     "output_type": "stream",
     "text": [
      "tensor(0) or tensor(0)\n",
      "tensor(90) or tensor(90)\n",
      "tensor(45.) or tensor(45.)\n",
      "tensor(450) or tensor(450)\n",
      "tensor(0) or tensor(0)\n",
      "tensor(9) or tensor(9)\n"
     ]
    }
   ],
   "source": [
    "AGG_TENSOR = torch.arange(start=0, end=100, step=10)\n",
    "\n",
    "# Min\n",
    "print(torch.min(AGG_TENSOR), \"or\", AGG_TENSOR.min())\n",
    "\n",
    "# Max\n",
    "print(torch.max(AGG_TENSOR), \"or\", AGG_TENSOR.max())\n",
    "\n",
    "# Mean - requires float or complex datatype\n",
    "print(torch.mean(AGG_TENSOR.type(dtype=torch.float32)), \"or\", AGG_TENSOR.type(dtype=torch.float32).mean())\n",
    "\n",
    "# Sum\n",
    "print(torch.sum(AGG_TENSOR), \"or\", AGG_TENSOR.sum())\n",
    "\n",
    "# Argmin - position of min\n",
    "print(torch.argmin(AGG_TENSOR), \"or\", AGG_TENSOR.argmin())\n",
    "\n",
    "# Argmax - position of max\n",
    "print(torch.argmax(AGG_TENSOR), \"or\", AGG_TENSOR.argmax())\n",
    "\n"
   ]
  },
  {
   "cell_type": "markdown",
   "metadata": {},
   "source": [
    "#### Reshaping, stacking, squeezing and unsqeezing tensors\n",
    "* Reshaping - reshapes an input tensor to a defined shape.\n",
    "* View - return view of an input tensor of certain shape without chaning memory.\n",
    "* Stacking - combine multiple tensors.\n",
    "* Squeeze - removes all `1` dimensions from a tensor\n",
    "* Unsqueeze - adds a `1` dimension to a target tensor\n",
    "* Permute - return a view of the input with dimensions permuted (swapped) in a certain way"
   ]
  },
  {
   "cell_type": "code",
   "execution_count": 18,
   "metadata": {},
   "outputs": [
    {
     "name": "stdout",
     "output_type": "stream",
     "text": [
      "torch.Size([9])\n",
      "tensor([[1, 2, 3, 4, 5, 6, 7, 8, 9]]) torch.Size([1, 9])\n",
      "tensor([[1],\n",
      "        [2],\n",
      "        [3],\n",
      "        [4],\n",
      "        [5],\n",
      "        [6],\n",
      "        [7],\n",
      "        [8],\n",
      "        [9]]) torch.Size([9, 1])\n",
      "tensor([[1, 2, 3],\n",
      "        [4, 5, 6],\n",
      "        [7, 8, 9]]) torch.Size([3, 3])\n"
     ]
    }
   ],
   "source": [
    "TENSOR = torch.arange(start=1, end=10, step=1)\n",
    "print(TENSOR.shape)\n",
    "\n",
    "# Reshape\n",
    "# TENSOR_RESHAPED = TENSOR.reshape(1, 7) # won't work on 9 element vector\n",
    "TENSOR_RESHAPED_1 = TENSOR.reshape(1, 9) # will add a dimension\n",
    "print(TENSOR_RESHAPED_1, TENSOR_RESHAPED_1.shape)\n",
    "\n",
    "TENSOR_RESHAPED_2 = TENSOR.reshape(9, 1) # will add a dimension and create column vector\n",
    "print(TENSOR_RESHAPED_2, TENSOR_RESHAPED_2.shape)\n",
    "\n",
    "# TENSOR_RESHAPED_2 = TENSOR.reshape(2, 9) # won't work\n",
    "TENSOR_RESHAPED_3 = TENSOR.reshape(3, 3) # will distribute the vector in a 3 by 3 matrix\n",
    "print(TENSOR_RESHAPED_3, TENSOR_RESHAPED_3.shape)"
   ]
  },
  {
   "cell_type": "code",
   "execution_count": 56,
   "metadata": {},
   "outputs": [
    {
     "name": "stdout",
     "output_type": "stream",
     "text": [
      "tensor([5, 2, 3, 5, 5, 6, 5, 8, 9]) \n",
      " tensor([[5, 2, 3],\n",
      "        [5, 5, 6],\n",
      "        [5, 8, 9]]) \n",
      " torch.Size([3, 3])\n",
      "\n",
      " tensor([5, 2, 3, 5, 5, 6, 5, 8, 9]) \n",
      " tensor([[5, 2, 3],\n",
      "        [5, 5, 6],\n",
      "        [5, 8, 9]]) \n",
      " torch.Size([3, 3])\n"
     ]
    }
   ],
   "source": [
    "# Change view\n",
    "TENSOR_VIEW_1 = TENSOR.view(3,3)\n",
    "# change view preserves the original tensor\n",
    "print(TENSOR, '\\n', TENSOR_VIEW_1, '\\n', TENSOR_VIEW_1.shape)\n",
    "\n",
    "# but the view tensor shares the same memory,\n",
    "# so changing element in view will update the original tensor\n",
    "\n",
    "TENSOR_VIEW_1[:,0] = 5\n",
    "print('\\n', TENSOR, '\\n', TENSOR_VIEW_1, '\\n', TENSOR_VIEW_1.shape)\n",
    "\n",
    "TENSOR_VIEW_1[:,0] = 1\n"
   ]
  },
  {
   "cell_type": "code",
   "execution_count": 37,
   "metadata": {},
   "outputs": [
    {
     "name": "stdout",
     "output_type": "stream",
     "text": [
      "\n",
      " tensor([[5, 2, 3, 5, 5, 6, 5, 8, 9],\n",
      "        [5, 2, 3, 5, 5, 6, 5, 8, 9]]) torch.Size([2, 9])\n",
      "\n",
      " tensor([[5, 5],\n",
      "        [2, 2],\n",
      "        [3, 3],\n",
      "        [5, 5],\n",
      "        [5, 5],\n",
      "        [6, 6],\n",
      "        [5, 5],\n",
      "        [8, 8],\n",
      "        [9, 9]]) torch.Size([9, 2])\n",
      "\n",
      " tensor([[[5, 2, 3],\n",
      "         [5, 5, 6],\n",
      "         [5, 8, 9]],\n",
      "\n",
      "        [[5, 2, 3],\n",
      "         [5, 5, 6],\n",
      "         [5, 8, 9]]]) torch.Size([2, 3, 3])\n",
      "\n",
      " tensor([[[5, 2, 3],\n",
      "         [5, 2, 3]],\n",
      "\n",
      "        [[5, 5, 6],\n",
      "         [5, 5, 6]],\n",
      "\n",
      "        [[5, 8, 9],\n",
      "         [5, 8, 9]]]) torch.Size([3, 2, 3])\n",
      "\n",
      " tensor([[[5, 5],\n",
      "         [2, 2],\n",
      "         [3, 3]],\n",
      "\n",
      "        [[5, 5],\n",
      "         [5, 5],\n",
      "         [6, 6]],\n",
      "\n",
      "        [[5, 5],\n",
      "         [8, 8],\n",
      "         [9, 9]]]) torch.Size([3, 3, 2])\n"
     ]
    }
   ],
   "source": [
    "# Stack\n",
    "TENSOR_STACK_1 = torch.stack([TENSOR, TENSOR], dim=0) # default dim is 0 (vertical stack)\n",
    "print('\\n', TENSOR_STACK_1, TENSOR_STACK_1.shape)\n",
    "\n",
    "TENSOR_STACK_2 = torch.stack([TENSOR, TENSOR], dim=1)\n",
    "print('\\n', TENSOR_STACK_2, TENSOR_STACK_2.shape)\n",
    "\n",
    "# dim 2 doesn't work for vectors\n",
    "TENSOR_STACK_3 = torch.stack([TENSOR_RESHAPED_3, TENSOR_RESHAPED_3], dim=0)\n",
    "print('\\n', TENSOR_STACK_3, TENSOR_STACK_3.shape)\n",
    "\n",
    "TENSOR_STACK_4 = torch.stack([TENSOR_RESHAPED_3, TENSOR_RESHAPED_3], dim=1)\n",
    "print('\\n', TENSOR_STACK_4, TENSOR_STACK_4.shape)\n",
    "\n",
    "TENSOR_STACK_5 = torch.stack([TENSOR_RESHAPED_3, TENSOR_RESHAPED_3], dim=2)\n",
    "print('\\n', TENSOR_STACK_5, TENSOR_STACK_5.shape)"
   ]
  },
  {
   "cell_type": "code",
   "execution_count": 59,
   "metadata": {},
   "outputs": [
    {
     "name": "stdout",
     "output_type": "stream",
     "text": [
      "tensor([[1, 2, 3, 1, 5, 6, 1, 8, 9]]) > squeezed > tensor([1, 2, 3, 1, 5, 6, 1, 8, 9])\n",
      "torch.Size([1, 9]) > squeezed > torch.Size([9])\n",
      "\n",
      "tensor([1, 2, 3, 1, 5, 6, 1, 8, 9]) > unsqueezed (dim=0) > tensor([[1, 2, 3, 1, 5, 6, 1, 8, 9]])\n",
      "torch.Size([9]) > unsqueezed (dim=0) > torch.Size([1, 9])\n",
      "\n",
      "tensor([1, 2, 3, 1, 5, 6, 1, 8, 9]) > unsqueezed (dim=1) >\n",
      " tensor([[1],\n",
      "        [2],\n",
      "        [3],\n",
      "        [1],\n",
      "        [5],\n",
      "        [6],\n",
      "        [1],\n",
      "        [8],\n",
      "        [9]])\n",
      "torch.Size([9]) > unsqueezed (dim=1) > torch.Size([9, 1])\n"
     ]
    }
   ],
   "source": [
    "# torch.squeeze - remove all single dimension from tensor\n",
    "TENSOR_SQUEEZED_1 = TENSOR_RESHAPED_1.squeeze()\n",
    "print(TENSOR_RESHAPED_1, '> squeezed >', TENSOR_SQUEEZED_1)\n",
    "print(TENSOR_RESHAPED_1.shape, '> squeezed >', TENSOR_SQUEEZED_1.shape)\n",
    "print()\n",
    "\n",
    "# torch.unsqueeze - add a single dimension to a target tensor at a specific dim\n",
    "TENSOR_UNSQUEEZED_1 = TENSOR_SQUEEZED_1.unsqueeze(dim=0)\n",
    "print(TENSOR_SQUEEZED_1, '> unsqueezed (dim=0) >', TENSOR_UNSQUEEZED_1)\n",
    "print(TENSOR_SQUEEZED_1.shape, '> unsqueezed (dim=0) >', TENSOR_UNSQUEEZED_1.shape)\n",
    "print()\n",
    "\n",
    "TENSOR_UNSQUEEZED_2 = TENSOR_SQUEEZED_1.unsqueeze(dim=1)\n",
    "print(TENSOR_SQUEEZED_1, '> unsqueezed (dim=1) >\\n', TENSOR_UNSQUEEZED_2)\n",
    "print(TENSOR_SQUEEZED_1.shape, '> unsqueezed (dim=1) >', TENSOR_UNSQUEEZED_2.shape)\n"
   ]
  },
  {
   "cell_type": "code",
   "execution_count": 80,
   "metadata": {},
   "outputs": [
    {
     "name": "stdout",
     "output_type": "stream",
     "text": [
      "torch.Size([16, 16, 3]) >permute> torch.Size([3, 16, 16])\n",
      "\n",
      "tensor([[0.2954, 0.9076, 0.9560],\n",
      "        [0.4031, 0.1653, 0.4413]]) >permute>\n",
      " tensor([[0.2954, 0.4031],\n",
      "        [0.9076, 0.1653],\n",
      "        [0.9560, 0.4413]])\n",
      "torch.Size([2, 3]) >permute>\n",
      " torch.Size([3, 2])\n",
      "\n",
      "tensor([[0.2954, 0.4031],\n",
      "        [0.9076, 0.0000],\n",
      "        [0.9560, 0.4413]]) \n",
      " tensor([[0.2954, 0.9076, 0.9560],\n",
      "        [0.4031, 0.0000, 0.4413]])\n"
     ]
    }
   ],
   "source": [
    "# torch.permute - is a 'view'\n",
    "TENSOR_2 = torch.rand(size=(16, 16, 3)) # height, width, color channels\n",
    "\n",
    "TENSOR_2_permute = TENSOR_2.permute(2,0,1) # color channels, height, width\n",
    "# print(TENSOR_2, '>permute>\\n', TENSOR_2_permute)\n",
    "print(TENSOR_2.shape, '>permute>', TENSOR_2_permute.shape)\n",
    "print()\n",
    "\n",
    "TENSOR_3 = torch.rand(size=(2,3))\n",
    "TENSOR_3_permute = TENSOR_3.permute(1,0) # like transpose\n",
    "print(TENSOR_3, '>permute>\\n', TENSOR_3_permute)\n",
    "print(TENSOR_3.shape, '>permute>\\n', TENSOR_3_permute.shape)\n",
    "print()\n",
    "\n",
    "TENSOR_3_permute[1,1] = 0\n",
    "print(TENSOR_3_permute,'\\n', TENSOR_3)"
   ]
  },
  {
   "cell_type": "markdown",
   "metadata": {},
   "source": [
    "#### Indexing - selecting data from tensors\n"
   ]
  },
  {
   "cell_type": "code",
   "execution_count": 1,
   "metadata": {},
   "outputs": [],
   "source": [
    "import torch\n"
   ]
  },
  {
   "cell_type": "code",
   "execution_count": 18,
   "metadata": {},
   "outputs": [
    {
     "name": "stdout",
     "output_type": "stream",
     "text": [
      "tensor([[[1, 2, 3],\n",
      "         [4, 5, 6],\n",
      "         [7, 8, 9]]]) torch.Size([1, 3, 3])\n",
      "\n"
     ]
    },
    {
     "data": {
      "text/plain": [
       "tensor([[1, 2, 3]])"
      ]
     },
     "execution_count": 18,
     "metadata": {},
     "output_type": "execute_result"
    }
   ],
   "source": [
    "TENSOR = torch.arange(start=1, end=10, step=1).reshape(shape=(1,3,3))\n",
    "print(TENSOR, TENSOR.shape)\n",
    "print()\n",
    "\n",
    "TENSOR[:][0][0][0]\n",
    "TENSOR[:,0]"
   ]
  },
  {
   "cell_type": "code",
   "execution_count": 54,
   "metadata": {},
   "outputs": [
    {
     "name": "stdout",
     "output_type": "stream",
     "text": [
      "tensor([[1, 2, 3],\n",
      "        [4, 5, 6],\n",
      "        [7, 8, 9]])\n",
      "\n",
      "tensor([1, 2, 3]) or tensor([1, 2, 3])\n",
      "\n",
      "tensor(1) or tensor(1)\n",
      "tensor(5) or tensor(5)\n",
      "\n",
      "tensor([4, 5, 6]) 1\n",
      "\n",
      "tensor([[[1, 2, 3],\n",
      "         [4, 5, 6],\n",
      "         [7, 8, 9]]]) 3\n",
      "\n",
      "tensor([[2, 5, 8]]) 2\n",
      "\n",
      "tensor([5])\n",
      "\n",
      "0 vs 1\n",
      "tensor([1, 2, 3]) or tensor([1, 2, 3])\n",
      "\n",
      "tensor(9)\n",
      "tensor([3, 6, 9])\n"
     ]
    }
   ],
   "source": [
    "# indexing 0-th dim\n",
    "print(TENSOR[0])\n",
    "print()\n",
    "\n",
    "# selecting from dim 1\n",
    "print(TENSOR[0,0], 'or', TENSOR[0][0])\n",
    "print()\n",
    "\n",
    "# selecting from dim 2\n",
    "print(TENSOR[0,0,0], 'or', TENSOR[0][0][0])\n",
    "print(TENSOR[0,1,1], 'or', TENSOR[0][1][1])\n",
    "print()\n",
    "\n",
    "# Get all values of 0th and 1st dim, but only index 1 of 2nd dim\n",
    "print(TENSOR[0,1], TENSOR[0,1].ndim)\n",
    "print()\n",
    "print(TENSOR[:,:], TENSOR[:,:].ndim)\n",
    "print()\n",
    "print(TENSOR[:,:,1], TENSOR[:,:,1].ndim) # returns 2nd (idx 1) element of all 3 vectors of all (1) matrix\n",
    "print()\n",
    "\n",
    "# Get all values of the 0 dim, but only 1 index value of 1st and 2nd dim\n",
    "print(TENSOR[:,1,1])\n",
    "print()\n",
    "print(TENSOR[0,0,0].ndim, 'vs', TENSOR[:,0,0].ndim)\n",
    "\n",
    "# Get index 0 of the 0th and 1st dim and all values of 2nd dim\n",
    "print(TENSOR[0,0,:], 'or', TENSOR[0][0])\n",
    "print()\n",
    "\n",
    "# Return 9\n",
    "print(TENSOR[0,2,2])\n",
    "\n",
    "# Return 3, 6, 9\n",
    "print(TENSOR[0,:,2])"
   ]
  },
  {
   "cell_type": "markdown",
   "metadata": {},
   "source": [
    "### PyTorch tensors and NumPy\n",
    "\n",
    "* Data in NumPy, want in PyTorch tensor -> `torch.from_numpy(ndarray)`\n",
    "* PyTorch tensor -> NumPy -> `torch.tensor.numpy()`"
   ]
  },
  {
   "cell_type": "code",
   "execution_count": 5,
   "metadata": {},
   "outputs": [
    {
     "name": "stdout",
     "output_type": "stream",
     "text": [
      "[1. 2. 3. 4. 5. 6. 7.] tensor([1., 2., 3., 4., 5., 6., 7.])\n",
      "[2. 3. 4. 5. 6. 7. 8.] tensor([1., 2., 3., 4., 5., 6., 7.])\n"
     ]
    }
   ],
   "source": [
    "# NumPy array to tensor\n",
    "import torch\n",
    "import numpy as np\n",
    "\n",
    "array = np.arange(1.0, 8.0)\n",
    "tensor = torch.from_numpy(array).type(torch.float32) # numpy default data is float64\n",
    "\n",
    "print(array, tensor)\n",
    "print()\n",
    "\n",
    "array = array + 1\n",
    "print(array, tensor) # array and tensor memory is different\n"
   ]
  },
  {
   "cell_type": "code",
   "execution_count": 8,
   "metadata": {},
   "outputs": [
    {
     "name": "stdout",
     "output_type": "stream",
     "text": [
      "tensor([1., 1., 1., 1., 1., 1., 1.]) [1. 1. 1. 1. 1. 1. 1.]\n",
      "tensor([2., 2., 2., 2., 2., 2., 2.]) [1. 1. 1. 1. 1. 1. 1.]\n"
     ]
    }
   ],
   "source": [
    "# Tensor to NumPy array\n",
    "tensor = torch.ones(7)\n",
    "numpy_tensor = tensor.numpy()\n",
    "\n",
    "print(tensor, numpy_tensor)\n",
    "print()\n",
    "\n",
    "tensor = tensor+1\n",
    "print(tensor, numpy_tensor)"
   ]
  },
  {
   "cell_type": "markdown",
   "metadata": {},
   "source": [
    "### Reproducibility\n",
    "\n",
    "Random seed 'flavor' the randomness."
   ]
  },
  {
   "cell_type": "code",
   "execution_count": 9,
   "metadata": {},
   "outputs": [
    {
     "name": "stdout",
     "output_type": "stream",
     "text": [
      "tensor([[0.5016, 0.2345, 0.5710, 0.9420],\n",
      "        [0.3708, 0.5965, 0.8651, 0.0831],\n",
      "        [0.9843, 0.7405, 0.6642, 0.2349]])\n",
      "tensor([[0.8908, 0.1632, 0.7116, 0.9543],\n",
      "        [0.7581, 0.0166, 0.8252, 0.5189],\n",
      "        [0.4797, 0.1901, 0.8787, 0.0078]])\n",
      "tensor([[False, False, False, False],\n",
      "        [False, False, False, False],\n",
      "        [False, False, False, False]])\n"
     ]
    }
   ],
   "source": [
    "random_tensor_A = torch.rand(3, 4)\n",
    "random_tensor_B = torch.rand(3, 4)\n",
    "\n",
    "print(random_tensor_A)\n",
    "print(random_tensor_B)\n",
    "print(random_tensor_A == random_tensor_B)"
   ]
  },
  {
   "cell_type": "code",
   "execution_count": 11,
   "metadata": {},
   "outputs": [
    {
     "name": "stdout",
     "output_type": "stream",
     "text": [
      "tensor([[0.8823, 0.9150, 0.3829, 0.9593],\n",
      "        [0.3904, 0.6009, 0.2566, 0.7936],\n",
      "        [0.9408, 0.1332, 0.9346, 0.5936]])\n",
      "tensor([[0.8823, 0.9150, 0.3829, 0.9593],\n",
      "        [0.3904, 0.6009, 0.2566, 0.7936],\n",
      "        [0.9408, 0.1332, 0.9346, 0.5936]])\n",
      "tensor([[True, True, True, True],\n",
      "        [True, True, True, True],\n",
      "        [True, True, True, True]])\n"
     ]
    }
   ],
   "source": [
    "RANDOM_SEED = 42\n",
    "\n",
    "torch.manual_seed(RANDOM_SEED)\n",
    "random_tensor_C = torch.rand(3, 4)\n",
    "\n",
    "torch.manual_seed(RANDOM_SEED)\n",
    "random_tensor_D = torch.rand(3, 4)\n",
    "\n",
    "print(random_tensor_C)\n",
    "print(random_tensor_D)\n",
    "print(random_tensor_C == random_tensor_D)"
   ]
  },
  {
   "cell_type": "markdown",
   "metadata": {},
   "source": [
    "### Running on GPUs"
   ]
  },
  {
   "cell_type": "code",
   "execution_count": 4,
   "metadata": {},
   "outputs": [
    {
     "name": "stdout",
     "output_type": "stream",
     "text": [
      "Fri Sep  6 17:57:43 2024       \n",
      "+-----------------------------------------------------------------------------------------+\n",
      "| NVIDIA-SMI 550.107.02             Driver Version: 550.107.02     CUDA Version: 12.4     |\n",
      "|-----------------------------------------+------------------------+----------------------+\n",
      "| GPU  Name                 Persistence-M | Bus-Id          Disp.A | Volatile Uncorr. ECC |\n",
      "| Fan  Temp   Perf          Pwr:Usage/Cap |           Memory-Usage | GPU-Util  Compute M. |\n",
      "|                                         |                        |               MIG M. |\n",
      "|=========================================+========================+======================|\n",
      "|   0  NVIDIA GeForce RTX 2060        Off |   00000000:01:00.0 Off |                  N/A |\n",
      "| N/A   43C    P8              1W /   90W |       9MiB /   6144MiB |      0%      Default |\n",
      "|                                         |                        |                  N/A |\n",
      "+-----------------------------------------+------------------------+----------------------+\n",
      "                                                                                         \n",
      "+-----------------------------------------------------------------------------------------+\n",
      "| Processes:                                                                              |\n",
      "|  GPU   GI   CI        PID   Type   Process name                              GPU Memory |\n",
      "|        ID   ID                                                               Usage      |\n",
      "|=========================================================================================|\n",
      "|    0   N/A  N/A      2142      G   /usr/lib/xorg/Xorg                              4MiB |\n",
      "+-----------------------------------------------------------------------------------------+\n"
     ]
    }
   ],
   "source": [
    "!nvidia-smi"
   ]
  },
  {
   "cell_type": "code",
   "execution_count": 3,
   "metadata": {},
   "outputs": [
    {
     "data": {
      "text/plain": [
       "True"
      ]
     },
     "execution_count": 3,
     "metadata": {},
     "output_type": "execute_result"
    }
   ],
   "source": [
    "# Check for GPU access\n",
    "import torch\n",
    "torch.cuda.is_available()"
   ]
  },
  {
   "cell_type": "code",
   "execution_count": 6,
   "metadata": {},
   "outputs": [
    {
     "data": {
      "text/plain": [
       "1"
      ]
     },
     "execution_count": 6,
     "metadata": {},
     "output_type": "execute_result"
    }
   ],
   "source": [
    "# count number of devices\n",
    "torch.cuda.device_count()"
   ]
  },
  {
   "cell_type": "code",
   "execution_count": 5,
   "metadata": {},
   "outputs": [
    {
     "data": {
      "text/plain": [
       "'cuda'"
      ]
     },
     "execution_count": 5,
     "metadata": {},
     "output_type": "execute_result"
    }
   ],
   "source": [
    "# Setup device agnostic code - check documentation\n",
    "device = \"cuda\" if torch.cuda.is_available() else \"cpu\"\n",
    "device"
   ]
  },
  {
   "cell_type": "code",
   "execution_count": 13,
   "metadata": {},
   "outputs": [
    {
     "name": "stdout",
     "output_type": "stream",
     "text": [
      "tensor([1, 2, 3]) cpu\n",
      "[1 2 3]\n"
     ]
    }
   ],
   "source": [
    "TENSOR = torch.tensor([1,2,3])\n",
    "print(TENSOR, TENSOR.device)\n",
    "\n",
    "# Move tensor to GPU if available\n",
    "TENSOR_ON_GPU = TENSOR.to(device)\n",
    "TENSOR_ON_GPU # idx 0 for 1 GPU\n",
    "\n",
    "# Move tensor back to cpu (for NumPy computation)\n",
    "# TENSOR_ON_GPU.numpy() #Error\n",
    "TENSOR_ON_CPU = TENSOR_ON_GPU.cpu()\n",
    "numpy_array = TENSOR_ON_CPU.numpy()\n",
    "print(numpy_array)"
   ]
  },
  {
   "cell_type": "markdown",
   "metadata": {},
   "source": [
    "### Exercises"
   ]
  },
  {
   "cell_type": "markdown",
   "metadata": {},
   "source": [
    "#### 1. Documentation reading \n",
    "\n",
    "A big part of deep learning (and learning to code in general) is getting familiar with the documentation of a certain framework you're using. We'll be using the PyTorch documentation a lot throughout the rest of this course. So I'd recommend spending 10-minutes reading the following (it's okay if you don't get some things for now, the focus is not yet full understanding, it's awareness):\n",
    "  * The documentation on [`torch.Tensor`](https://pytorch.org/docs/stable/tensors.html#torch-tensor).\n",
    "  * The documentation on [`torch.cuda`](https://pytorch.org/docs/master/notes/cuda.html#cuda-semantics)."
   ]
  },
  {
   "cell_type": "markdown",
   "metadata": {},
   "source": [
    "#### 2. Create a random tensor with shape `(7, 7)`.\n"
   ]
  },
  {
   "cell_type": "code",
   "execution_count": 16,
   "metadata": {},
   "outputs": [
    {
     "data": {
      "text/plain": [
       "(tensor([[0.7975, 0.0749, 0.8914, 0.2802, 0.9212, 0.3994, 0.4123],\n",
       "         [0.6694, 0.9117, 0.5413, 0.1572, 0.2498, 0.3746, 0.7381],\n",
       "         [0.6459, 0.5039, 0.9077, 0.8540, 0.1286, 0.7855, 0.7885],\n",
       "         [0.0760, 0.6839, 0.4041, 0.0595, 0.9598, 0.5727, 0.6322],\n",
       "         [0.5102, 0.9625, 0.6476, 0.8617, 0.8106, 0.1424, 0.2852],\n",
       "         [0.0341, 0.2842, 0.2379, 0.8384, 0.6609, 0.8833, 0.6362],\n",
       "         [0.0506, 0.5451, 0.4282, 0.8626, 0.3333, 0.8517, 0.7206]]),\n",
       " 2)"
      ]
     },
     "execution_count": 16,
     "metadata": {},
     "output_type": "execute_result"
    }
   ],
   "source": [
    "# Import torch\n",
    "\n",
    "\n",
    "# Create random tensor\n",
    "RANDOM_TENSOR = torch.rand(7,7)\n",
    "RANDOM_TENSOR, RANDOM_TENSOR.ndim"
   ]
  },
  {
   "cell_type": "markdown",
   "metadata": {},
   "source": [
    "#### 3. Perform a matrix multiplication on the tensor from 2 with another random tensor with shape `(1, 7)`"
   ]
  },
  {
   "cell_type": "code",
   "execution_count": 17,
   "metadata": {},
   "outputs": [
    {
     "data": {
      "text/plain": [
       "tensor([[1.9970],\n",
       "        [2.2436],\n",
       "        [2.3643],\n",
       "        [2.4695],\n",
       "        [2.6495],\n",
       "        [2.2710],\n",
       "        [2.3152]])"
      ]
     },
     "execution_count": 17,
     "metadata": {},
     "output_type": "execute_result"
    }
   ],
   "source": [
    "# Create another random tensor\n",
    "TENSOR2 = torch.rand(1,7)\n",
    "# Perform matrix multiplication \n",
    "torch.matmul(RANDOM_TENSOR, TENSOR2.T)"
   ]
  },
  {
   "cell_type": "markdown",
   "metadata": {},
   "source": [
    "#### 4. Set the random seed to `0` and do 2 & 3 over again.\n",
    "\n",
    "The output should be:\n",
    "```\n",
    "(tensor([[1.8542],\n",
    "         [1.9611],\n",
    "         [2.2884],\n",
    "         [3.0481],\n",
    "         [1.7067],\n",
    "         [2.5290],\n",
    "         [1.7989]]), torch.Size([7, 1]))\n",
    "```"
   ]
  },
  {
   "cell_type": "code",
   "execution_count": 19,
   "metadata": {},
   "outputs": [
    {
     "data": {
      "text/plain": [
       "tensor([[1.5985],\n",
       "        [1.1173],\n",
       "        [1.2741],\n",
       "        [1.6838],\n",
       "        [0.8279],\n",
       "        [1.0347],\n",
       "        [1.2498]])"
      ]
     },
     "execution_count": 19,
     "metadata": {},
     "output_type": "execute_result"
    }
   ],
   "source": [
    "# Set manual seed\n",
    "SEED = 0\n",
    "# Create two random tensors\n",
    "torch.manual_seed(SEED)\n",
    "TENSOR1 = torch.rand(7,7)\n",
    "torch.manual_seed(SEED)\n",
    "TENSOR2 = torch.rand(1,7)\n",
    "\n",
    "# Matrix multiply tensors\n",
    "torch.matmul(TENSOR1, TENSOR2.T)"
   ]
  },
  {
   "cell_type": "markdown",
   "metadata": {},
   "source": [
    "#### 5. Speaking of random seeds, we saw how to set it with `torch.manual_seed()` but is there a GPU equivalent? (hint: you'll need to look into the documentation for `torch.cuda` for this one)\n",
    "  * If there is, set the GPU random seed to `1234`."
   ]
  },
  {
   "cell_type": "code",
   "execution_count": 20,
   "metadata": {},
   "outputs": [],
   "source": [
    "SEED = 1234\n",
    "# Set random seed on the GPU\n",
    "torch.cuda.manual_seed(SEED)"
   ]
  },
  {
   "cell_type": "markdown",
   "metadata": {},
   "source": [
    "#### 6. Create two random tensors of shape `(2, 3)` and send them both to the GPU (you'll need access to a GPU for this). Set `torch.manual_seed(1234)` when creating the tensors (this doesn't have to be the GPU random seed). The output should be something like:\n",
    "\n",
    "```\n",
    "Device: cuda\n",
    "(tensor([[0.0290, 0.4019, 0.2598],\n",
    "         [0.3666, 0.0583, 0.7006]], device='cuda:0'),\n",
    " tensor([[0.0518, 0.4681, 0.6738],\n",
    "         [0.3315, 0.7837, 0.5631]], device='cuda:0'))\n",
    "```"
   ]
  },
  {
   "cell_type": "code",
   "execution_count": 28,
   "metadata": {},
   "outputs": [
    {
     "name": "stdout",
     "output_type": "stream",
     "text": [
      "cuda cuda:0 cuda:0\n"
     ]
    }
   ],
   "source": [
    "# Set random seed\n",
    "\n",
    "# Check for access to GPU\n",
    "device = \"cuda\" if torch.cuda.is_available() else \"cpu\"\n",
    "\n",
    "# Create two random tensors on GPU\n",
    "torch.manual_seed(SEED)\n",
    "rand_tensor_3 = torch.rand(size=(2,3))\n",
    "torch.manual_seed(SEED)\n",
    "rand_tensor_4 = torch.rand(size=(2,3))\n",
    "\n",
    "rand_cuda_tensor_3 = rand_tensor_3.to(device)\n",
    "rand_cuda_tensor_4 = rand_tensor_4.to(device)\n",
    "\n",
    "print(device, rand_cuda_tensor_3.device, rand_cuda_tensor_4.device)"
   ]
  },
  {
   "cell_type": "markdown",
   "metadata": {},
   "source": [
    "#### 7. Perform a matrix multiplication on the tensors you created in 6 (again, you may have to adjust the shapes of one of the tensors).\n",
    "\n",
    "The output should look like:\n",
    "```\n",
    "(tensor([[0.3647, 0.4709],\n",
    "         [0.5184, 0.5617]], device='cuda:0'), torch.Size([2, 2]))\n",
    "```"
   ]
  },
  {
   "cell_type": "code",
   "execution_count": 30,
   "metadata": {},
   "outputs": [
    {
     "data": {
      "text/plain": [
       "(tensor([[0.2299, 0.2161],\n",
       "         [0.2161, 0.6287]], device='cuda:0'),\n",
       " torch.Size([2, 2]))"
      ]
     },
     "execution_count": 30,
     "metadata": {},
     "output_type": "execute_result"
    }
   ],
   "source": [
    "# Perform matmul on tensor_A and tensor_B\n",
    "mm = torch.mm(rand_cuda_tensor_3, rand_cuda_tensor_4.T)\n",
    "mm, mm.shape"
   ]
  },
  {
   "cell_type": "markdown",
   "metadata": {},
   "source": [
    "#### 8. Find the maximum and minimum values of the output of 7."
   ]
  },
  {
   "cell_type": "code",
   "execution_count": 31,
   "metadata": {},
   "outputs": [
    {
     "data": {
      "text/plain": [
       "tensor(0.6287, device='cuda:0')"
      ]
     },
     "execution_count": 31,
     "metadata": {},
     "output_type": "execute_result"
    }
   ],
   "source": [
    "# Find max\n",
    "mm.max()\n",
    "# Find min\n",
    "mm.min()"
   ]
  },
  {
   "cell_type": "markdown",
   "metadata": {},
   "source": [
    "#### 9. Find the maximum and minimum index values of the output of 7."
   ]
  },
  {
   "cell_type": "code",
   "execution_count": 35,
   "metadata": {},
   "outputs": [
    {
     "data": {
      "text/plain": [
       "3"
      ]
     },
     "execution_count": 35,
     "metadata": {},
     "output_type": "execute_result"
    }
   ],
   "source": [
    "# Find arg max\n",
    "mm.argmax().item()\n",
    "\n",
    "# Find arg min\n",
    "mm.argmin()"
   ]
  },
  {
   "cell_type": "markdown",
   "metadata": {},
   "source": [
    "#### 10. Make a random tensor with shape `(1, 1, 1, 10)` and then create a new tensor with all the `1` dimensions removed to be left with a tensor of shape `(10)`. Set the seed to `7` when you create it and print out the first tensor and it's shape as well as the second tensor and it's shape.\n",
    "\n",
    "The output should look like:\n",
    "\n",
    "```\n",
    "tensor([[[[0.5349, 0.1988, 0.6592, 0.6569, 0.2328, 0.4251, 0.2071, 0.6297,\n",
    "           0.3653, 0.8513]]]]) torch.Size([1, 1, 1, 10])\n",
    "tensor([0.5349, 0.1988, 0.6592, 0.6569, 0.2328, 0.4251, 0.2071, 0.6297, 0.3653,\n",
    "        0.8513]) torch.Size([10])\n",
    "```"
   ]
  },
  {
   "cell_type": "code",
   "execution_count": 38,
   "metadata": {},
   "outputs": [
    {
     "name": "stdout",
     "output_type": "stream",
     "text": [
      "tensor([[[[0.4517, 0.4757, 0.7842, 0.1525, 0.6662, 0.3343, 0.7893, 0.3216,\n",
      "           0.5247, 0.6688]]]]) torch.Size([1, 1, 1, 10]) \n",
      " tensor([0.4517, 0.4757, 0.7842, 0.1525, 0.6662, 0.3343, 0.7893, 0.3216, 0.5247,\n",
      "        0.6688]) torch.Size([10])\n"
     ]
    }
   ],
   "source": [
    "# Set seed\n",
    "SEED = 7\n",
    "\n",
    "# Create random tensor\n",
    "rand_tensor_5 = torch.rand(1,1,1,10)\n",
    "\n",
    "# Remove single dimensions\n",
    "rand_tensor_5_squeezed = rand_tensor_5.squeeze()\n",
    "\n",
    "# Print out tensors and their shapes\n",
    "print(rand_tensor_5, rand_tensor_5.shape, '\\n', rand_tensor_5_squeezed, rand_tensor_5_squeezed.shape)"
   ]
  },
  {
   "cell_type": "markdown",
   "metadata": {},
   "source": [
    "## 01_pytorch_workflow\n",
    "\n",
    "1. Get data ready (turn into tensors)\n",
    "2. Build or pick a pretrained model.\n",
    "    - Pick a loss function and optimizer.\n",
    "    - Build a training loop.\n",
    "3. Fit the model to the data and make a prediction.\n",
    "4. Evaluate the model.\n",
    "5. Improve through experimentation.\n",
    "6. Save and reload the trained model."
   ]
  },
  {
   "cell_type": "code",
   "execution_count": 3,
   "metadata": {},
   "outputs": [],
   "source": [
    "import torch\n",
    "from torch import nn # contains all nn building blocks\n",
    "import matplotlib.pyplot as plt"
   ]
  },
  {
   "cell_type": "markdown",
   "metadata": {},
   "source": [
    "### Data (preparing and loading)\n",
    "\n",
    "In machine learning, data can be almost anything.\n",
    "\n",
    "Machine learning is a game of two parts:\n",
    "1. Convert data into numerical encoding (tensors).\n",
    "2. Fit a model to learn patterns in the numerical encoding."
   ]
  },
  {
   "cell_type": "code",
   "execution_count": 10,
   "metadata": {},
   "outputs": [
    {
     "data": {
      "text/plain": [
       "(tensor([0.0000, 0.0200, 0.0400, 0.0600, 0.0800, 0.1000, 0.1200, 0.1400, 0.1600,\n",
       "         0.1800]),\n",
       " tensor([0.3000, 0.3140, 0.3280, 0.3420, 0.3560, 0.3700, 0.3840, 0.3980, 0.4120,\n",
       "         0.4260]))"
      ]
     },
     "execution_count": 10,
     "metadata": {},
     "output_type": "execute_result"
    }
   ],
   "source": [
    "# Create *known* parameters\n",
    "weight = 0.7\n",
    "bias = 0.3\n",
    "\n",
    "start = 0\n",
    "end = 1\n",
    "step = 0.02\n",
    "\n",
    "X = torch.arange(start, end, step) # X is often a tensor, so is capitalized\n",
    "y = weight * X + bias # y is often vector, so lower\n",
    "\n",
    "X[:10], y[:10]"
   ]
  },
  {
   "cell_type": "markdown",
   "metadata": {},
   "source": [
    "#### Train and Test data\n",
    "\n",
    "- Train set (course materials) - about 70%\n",
    "- Validation set (practice exam) - about 15%\n",
    "- Test set (final exam) - about 15%\n",
    "\n",
    "Goal: generalization."
   ]
  },
  {
   "cell_type": "code",
   "execution_count": 11,
   "metadata": {},
   "outputs": [
    {
     "data": {
      "text/plain": [
       "(40, 40, 10, 10)"
      ]
     },
     "execution_count": 11,
     "metadata": {},
     "output_type": "execute_result"
    }
   ],
   "source": [
    "train_split = int(0.8*len(X))\n",
    "X_train, y_train = X[:train_split],y[:train_split]\n",
    "X_test, y_test = X[train_split:],y[train_split:]\n",
    "\n",
    "len(X_train),len(y_train), len(X_test),len(y_test)\n"
   ]
  },
  {
   "cell_type": "code",
   "execution_count": 12,
   "metadata": {},
   "outputs": [],
   "source": [
    "# Visualize\n",
    "def plot_predictions(train_data = X_train,\n",
    "                    train_labels = y_train,\n",
    "                    test_data = X_test,\n",
    "                    test_labels = y_test,\n",
    "                    predictions = None):\n",
    "    \"\"\"\n",
    "    Plots training data, testing data and compares predictions.\n",
    "    \"\"\"\n",
    "    plt.figure(figsize=(10,7))\n",
    "\n",
    "    # plot training data in blue\n",
    "    plt.scatter(train_data, train_labels, c=\"b\", s=4, label=\"Training data\")\n",
    "\n",
    "    # plot testing data in green\n",
    "    plt.scatter(test_data, test_labels, c=\"g\", s=4, label=\"Training data\")\n",
    "\n",
    "    # are there predictions?\n",
    "    if predictions is not None:\n",
    "        plt.scatter(test_data, predictions, c=\"r\", s=4, label=\"Predictions\")\n",
    "    \n",
    "    # Show the legend\n",
    "    plt.legend(prop={\"size\": 14});\n",
    "\n"
   ]
  },
  {
   "cell_type": "code",
   "execution_count": 231,
   "metadata": {},
   "outputs": [
    {
     "data": {
      "image/png": "[encoded data removed]",
      "text/plain": [
       "<Figure size 1000x700 with 1 Axes>"
      ]
     },
     "metadata": {},
     "output_type": "display_data"
    }
   ],
   "source": [
    "plot_predictions()"
   ]
  },
  {
   "cell_type": "markdown",
   "metadata": {},
   "source": [
    "### Model\n",
    "Resource for object oriented programming: https://realpython.com/python3-object-oriented-programming/\n",
    "\n",
    "How the model learns:\n",
    "* Initialize parameters (weights and bias) with random values\n",
    "* Look at training data and adjust the parameters to better represent the data through two main algorithms.\n",
    "    1. Gradient descent (we set requires_grad = True for this).\n",
    "    2. Back propagation.\n",
    "\n",
    "#### Model essentials\n",
    "Data:\n",
    "* torch.utils.data.Dataset - represents a map between key (label) and sample (features) pairs of data.\n",
    "* torch.utils.data.DataLoader - creates a python iterable over a torch Dataset.\n",
    "\n",
    "Building model:\n",
    "* torch.nn - contains all of the building blocks for computational graphs (neural networks is a type of computational graph)\n",
    "* torch.nn.Module - the base class for all neural network modules. If it is subclassed, it'll overwrite forward().\n",
    "* torch.nn.Parameter - what parameters should our model try and learn. Often a PyTorch layer from torch.nn will set these for us.\n",
    "* def forward() - all nn.Module subclasses requires forward() overwriting. This method defines what happens in the forward computation, or what computations are performed on input data.\n",
    "\n",
    "Optimize model:\n",
    "* torch.optim - PyTorch optimizers, like gradient descent.\n",
    "\n",
    "Evaluate model:\n",
    "* torchmetrics\n",
    "\n",
    "Improve through experimentation:\n",
    "* torch.utils.tensorboard"
   ]
  },
  {
   "cell_type": "code",
   "execution_count": 4,
   "metadata": {},
   "outputs": [],
   "source": [
    "class LinearRegressionModel(nn.Module):\n",
    "    def __init__(self):\n",
    "        super().__init__()\n",
    "        self.weight = nn.Parameter(torch.randn(1,\n",
    "                                                requires_grad=True,\n",
    "                                                dtype=torch.float))\n",
    "        self.bias = nn.Parameter(torch.randn(1,\n",
    "                                             requires_grad=True,\n",
    "                                             dtype=torch.float))\n",
    "    # Forward method to define the what computation is happening in the model\n",
    "    def forward(self, x:torch.Tensor) -> torch.Tensor: # x is the input data (of type Tensor)\n",
    "        return self.weight * x + self.bias # linear regression output of type Tensor\n",
    "    "
   ]
  },
  {
   "cell_type": "code",
   "execution_count": 13,
   "metadata": {},
   "outputs": [
    {
     "name": "stdout",
     "output_type": "stream",
     "text": [
      "[Parameter containing:\n",
      "tensor([0.3367], requires_grad=True), Parameter containing:\n",
      "tensor([0.1288], requires_grad=True)]\n",
      "\n",
      "OrderedDict([('weight', tensor([0.3367])), ('bias', tensor([0.1288]))])\n"
     ]
    }
   ],
   "source": [
    "# create a random seed\n",
    "torch.manual_seed(42)\n",
    "\n",
    "# create an instance of the model (a subclass of nn.Module)\n",
    "model_0 = LinearRegressionModel()\n",
    "\n",
    "# checking the parameters\n",
    "print(list(model_0.parameters()))\n",
    "print()\n",
    "\n",
    "# named parameters\n",
    "print(model_0.state_dict())"
   ]
  },
  {
   "cell_type": "markdown",
   "metadata": {},
   "source": [
    "#### Making prediction using `torch.inference_mode()`\n",
    "\n",
    "To test our model's predictive power, we can see how well it predicts `y_test` based on `X_test`.\n",
    "When we pass data through our model, it's going to run it through the `forward()` method."
   ]
  },
  {
   "cell_type": "code",
   "execution_count": 14,
   "metadata": {},
   "outputs": [
    {
     "data": {
      "image/png": "[encoded data removed]",
      "text/plain": [
       "<Figure size 1000x700 with 1 Axes>"
      ]
     },
     "metadata": {},
     "output_type": "display_data"
    }
   ],
   "source": [
    "with torch.inference_mode(): # turns off gradient tracking to save computation, which is not needed for prediction here\n",
    "    y_preds = model_0(X_test)\n",
    "\n",
    "plot_predictions(predictions=y_preds)"
   ]
  },
  {
   "cell_type": "markdown",
   "metadata": {},
   "source": [
    "### Train model\n",
    "To go from poor representation of the data to good representation of the data.\n",
    "\n",
    "One way to measure model prediction performance is to use *loss function* or *cost function* or *criterion*.\n",
    "\n",
    "**Loss function:** difference of model's prediction from ideal outputs - lower is better. Example: mean squared error.\n",
    "\n",
    "**Optimizer:** adjusts model parameters (e.g., weights and biases) to reduce loss.\n",
    "\n",
    "For PyTorch, we'll need -\n",
    "* a training loop\n",
    "* a testing loop\n",
    "\n",
    "Hyperparameter: parameters that we define."
   ]
  },
  {
   "cell_type": "code",
   "execution_count": 15,
   "metadata": {},
   "outputs": [],
   "source": [
    "# Setup a loss function: mean absolute error\n",
    "loss_fn = nn.L1Loss()\n",
    "\n",
    "# Setup an optimizer: stochastic gradient descent\n",
    "optimizer = torch.optim.SGD(params=model_0.parameters(),\n",
    "                            lr=0.01) # one of the most important hyperparameter"
   ]
  },
  {
   "cell_type": "markdown",
   "metadata": {},
   "source": [
    "Recap:\n",
    "- We need to decide: hyperparameters (learning rate), loss function, optimizer. All of these depend on the nature of problem.\n",
    "\n",
    "#### Training loop\n",
    "0. Loop through the data and do...\n",
    "1. Forward pass or forward propagation (data moving through model's `forward()` functions, from input to output layer, to make predictions on the batch of input data).\n",
    "2. Calculate the loss (compare forward pass predictions to ground truth labels).\n",
    "3. Optimizer zero grad\n",
    "4. Backpropagation - loss backward - move backwards through the network to calculate the gradients of each of the parameters of our model with respect to loss.\n",
    "5. Gradient descent - optimizer step - use the optimizer to adjust our model's parameters to try and improve the loss."
   ]
  },
  {
   "cell_type": "code",
   "execution_count": 16,
   "metadata": {},
   "outputs": [
    {
     "name": "stdout",
     "output_type": "stream",
     "text": [
      "Epoch: 0 | Loss: 0.313 | Test loss: 0.481\n",
      "OrderedDict([('weight', tensor([0.3406])), ('bias', tensor([0.1388]))])\n",
      "\n",
      "Epoch: 10 | Loss: 0.198 | Test loss: 0.346\n",
      "OrderedDict([('weight', tensor([0.3796])), ('bias', tensor([0.2388]))])\n",
      "\n",
      "Epoch: 20 | Loss: 0.089 | Test loss: 0.217\n",
      "OrderedDict([('weight', tensor([0.4184])), ('bias', tensor([0.3333]))])\n",
      "\n",
      "Epoch: 30 | Loss: 0.053 | Test loss: 0.145\n",
      "OrderedDict([('weight', tensor([0.4512])), ('bias', tensor([0.3768]))])\n",
      "\n",
      "Epoch: 40 | Loss: 0.045 | Test loss: 0.114\n",
      "OrderedDict([('weight', tensor([0.4748])), ('bias', tensor([0.3868]))])\n",
      "\n",
      "Epoch: 50 | Loss: 0.042 | Test loss: 0.099\n",
      "OrderedDict([('weight', tensor([0.4938])), ('bias', tensor([0.3843]))])\n",
      "\n",
      "Epoch: 60 | Loss: 0.038 | Test loss: 0.089\n",
      "OrderedDict([('weight', tensor([0.5116])), ('bias', tensor([0.3788]))])\n",
      "\n",
      "Epoch: 70 | Loss: 0.035 | Test loss: 0.081\n",
      "OrderedDict([('weight', tensor([0.5288])), ('bias', tensor([0.3718]))])\n",
      "\n",
      "Epoch: 80 | Loss: 0.031 | Test loss: 0.072\n",
      "OrderedDict([('weight', tensor([0.5459])), ('bias', tensor([0.3648]))])\n",
      "\n",
      "Epoch: 90 | Loss: 0.028 | Test loss: 0.065\n",
      "OrderedDict([('weight', tensor([0.5629])), ('bias', tensor([0.3573]))])\n",
      "\n",
      "Epoch: 100 | Loss: 0.024 | Test loss: 0.056\n",
      "OrderedDict([('weight', tensor([0.5800])), ('bias', tensor([0.3503]))])\n",
      "\n",
      "Epoch: 110 | Loss: 0.021 | Test loss: 0.048\n",
      "OrderedDict([('weight', tensor([0.5972])), ('bias', tensor([0.3433]))])\n",
      "\n",
      "Epoch: 120 | Loss: 0.018 | Test loss: 0.041\n",
      "OrderedDict([('weight', tensor([0.6141])), ('bias', tensor([0.3358]))])\n",
      "\n",
      "Epoch: 130 | Loss: 0.014 | Test loss: 0.032\n",
      "OrderedDict([('weight', tensor([0.6313])), ('bias', tensor([0.3288]))])\n",
      "\n",
      "Epoch: 140 | Loss: 0.011 | Test loss: 0.024\n",
      "OrderedDict([('weight', tensor([0.6485])), ('bias', tensor([0.3218]))])\n",
      "\n",
      "Epoch: 150 | Loss: 0.007 | Test loss: 0.016\n",
      "OrderedDict([('weight', tensor([0.6654])), ('bias', tensor([0.3143]))])\n",
      "\n",
      "Epoch: 160 | Loss: 0.004 | Test loss: 0.008\n",
      "OrderedDict([('weight', tensor([0.6826])), ('bias', tensor([0.3073]))])\n",
      "\n",
      "Epoch: 170 | Loss: 0.009 | Test loss: 0.005\n",
      "OrderedDict([('weight', tensor([0.6951])), ('bias', tensor([0.2993]))])\n",
      "\n",
      "Epoch: 180 | Loss: 0.009 | Test loss: 0.005\n",
      "OrderedDict([('weight', tensor([0.6951])), ('bias', tensor([0.2993]))])\n",
      "\n",
      "Epoch: 190 | Loss: 0.009 | Test loss: 0.005\n",
      "OrderedDict([('weight', tensor([0.6951])), ('bias', tensor([0.2993]))])\n",
      "\n"
     ]
    }
   ],
   "source": [
    "# An epoch is one loop through the data. It's set by us, so is a hyperparameter.\n",
    "epochs = 200\n",
    "\n",
    "# Track values\n",
    "epoch_count = []\n",
    "train_loss_values = []\n",
    "test_loss_values = []\n",
    "\n",
    "# 0. Loop through the data\n",
    "for epoch in range(epochs):\n",
    "    # set the model to training mode\n",
    "    model_0.train() # train mode sets parameter 'requires_grad' to True\n",
    "\n",
    "    # 1. Forward pass\n",
    "    # In the training loop the model learns patterns on training data.\n",
    "    # In testing loop, the model evaluates those patterns on unseen data.\n",
    "    y_pred = model_0(X_train)\n",
    "\n",
    "    # 2. Calculate loss\n",
    "    loss = loss_fn(y_pred, y_train)\n",
    "    # print(f\"Loss: {round(loss.item(),2)}\")\n",
    "\n",
    "    # 3. Optimizer zero grad\n",
    "    # By default the optimizer changes accumulate \n",
    "    # through loop, so we zero them in zero_grad()\n",
    "    optimizer.zero_grad()\n",
    "\n",
    "    # 4. Backpropagation - gradient of each of the parameters \n",
    "    # with respect to final loss through chain rule\n",
    "    loss.backward()\n",
    "\n",
    "    # 5. Take an optimizer step down the loss curve\n",
    "    # (perform a step of gradient descent).\n",
    "    optimizer.step()\n",
    "\n",
    "    # model evaluation mode (in contrast to model.train())\n",
    "    # turns off dropout, batch norm, etc. note needed for evaluation/testing\n",
    "    model_0.eval()\n",
    "    with torch.inference_mode(): # turns of parameter gradient tracking, etc.\n",
    "        # 1. Forward pass\n",
    "        test_pred = model_0(X_test)\n",
    "\n",
    "        # 2. Test loss\n",
    "        test_loss = loss_fn(test_pred, y_test)\n",
    "    \n",
    "    if epoch % 10 == 0:\n",
    "        epoch_count.append(epoch)\n",
    "        train_loss_values.append(loss.item())\n",
    "        test_loss_values.append(test_loss.item())\n",
    "        \n",
    "        # print update\n",
    "        print(f\"Epoch: {epoch} | Loss: {round(loss.item(),3)} | Test loss: {round(test_loss.item(),3)}\")\n",
    "\n",
    "        # Print state dict\n",
    "        print(model_0.state_dict())\n",
    "        print()"
   ]
  },
  {
   "cell_type": "code",
   "execution_count": 17,
   "metadata": {},
   "outputs": [
    {
     "data": {
      "image/png": "[encoded data removed]",
      "text/plain": [
       "<Figure size 640x480 with 1 Axes>"
      ]
     },
     "metadata": {},
     "output_type": "display_data"
    }
   ],
   "source": [
    "# Plot the loss curves\n",
    "plt.plot(epoch_count, train_loss_values, label=\"Train loss\")\n",
    "plt.plot(epoch_count, test_loss_values, label=\"Test loss\")\n",
    "plt.title(\"Training and test loss curves\")\n",
    "plt.ylabel(\"Loss\")\n",
    "plt.xlabel(\"Epochs\")\n",
    "plt.legend();"
   ]
  },
  {
   "cell_type": "code",
   "execution_count": 18,
   "metadata": {},
   "outputs": [
    {
     "data": {
      "image/png": "[encoded data removed]",
      "text/plain": [
       "<Figure size 1000x700 with 1 Axes>"
      ]
     },
     "metadata": {},
     "output_type": "display_data"
    }
   ],
   "source": [
    "with torch.inference_mode():\n",
    "    y_preds_new = model_0(X_test)\n",
    "\n",
    "plot_predictions(predictions=y_preds_new)"
   ]
  },
  {
   "cell_type": "markdown",
   "metadata": {},
   "source": [
    "### Saving and Loading Model\n",
    "\n",
    "Three main methods for saving and loading PyTorch models.\n",
    "1. `torch.save()` - save PyTorch object in Python's pickle format. Serializing (saving) and de-serializing (loading).\n",
    "2. `torch.load()` - load a saved PyTorch object.\n",
    "3. `torch.nn.Module.load_state_dict()` - recommended - load model's saved state dictionary."
   ]
  },
  {
   "cell_type": "markdown",
   "metadata": {},
   "source": [
    "#### Saving model state.dict()"
   ]
  },
  {
   "cell_type": "code",
   "execution_count": 19,
   "metadata": {},
   "outputs": [
    {
     "name": "stdout",
     "output_type": "stream",
     "text": [
      "Saving model to: /mnt/74D825B5D8257710/Study/Course/CS/ML/PyTorch/models/01_pytorch_workflow_model_0.pth\n"
     ]
    }
   ],
   "source": [
    "from pathlib import Path\n",
    "\n",
    "# 1. Create model directory\n",
    "MODEL_PATH = Path(\"/mnt/74D825B5D8257710/Study/Course/CS/ML/PyTorch/models\")\n",
    "MODEL_PATH.mkdir(parents=True, exist_ok=True)\n",
    "\n",
    "# 2. Create model save path\n",
    "MODEL_NAME = \"01_pytorch_workflow_model_0.pth\"\n",
    "MODEL_SAVE_PATH = MODEL_PATH / MODEL_NAME\n",
    "\n",
    "# 3. Save model state_dict()\n",
    "print(f\"Saving model to: {MODEL_SAVE_PATH}\")\n",
    "\n",
    "torch.save(obj=model_0.state_dict(),\n",
    "           f=MODEL_SAVE_PATH)"
   ]
  },
  {
   "cell_type": "code",
   "execution_count": 287,
   "metadata": {},
   "outputs": [
    {
     "name": "stdout",
     "output_type": "stream",
     "text": [
      "total 4\n",
      "-rwxrwxrwx 1 root root 1680 Sep 14 11:29 01_pytorch_workflow_model_0.pth\n"
     ]
    }
   ],
   "source": [
    "!ls -l models/"
   ]
  },
  {
   "cell_type": "markdown",
   "metadata": {},
   "source": [
    "#### Loading a model state.dict()\n",
    "We saved model's `state_dict()` rather the entire model, so we'll have to create a new instance of our model class and load the saved `state_dict()` into that."
   ]
  },
  {
   "cell_type": "code",
   "execution_count": 20,
   "metadata": {},
   "outputs": [
    {
     "name": "stdout",
     "output_type": "stream",
     "text": [
      "OrderedDict([('weight', tensor([0.2345])), ('bias', tensor([0.2303]))])\n"
     ]
    },
    {
     "data": {
      "text/plain": [
       "<All keys matched successfully>"
      ]
     },
     "execution_count": 20,
     "metadata": {},
     "output_type": "execute_result"
    }
   ],
   "source": [
    "# Instantiate a new instance of our model class\n",
    "loaded_model_0 = LinearRegressionModel()\n",
    "print(loaded_model_0.state_dict())\n",
    "\n",
    "# Load the saved sate_dict() of model_0\n",
    "# torch.nn.Module.load_state_dict(), since our defined\n",
    "#  LinearRegressionModel() is a subclass of torch.nn.Module,\n",
    "#  we can directly run loaded_model_0.load_state_dict()\n",
    "loaded_model_0.load_state_dict(torch.load(f=MODEL_SAVE_PATH))"
   ]
  },
  {
   "cell_type": "code",
   "execution_count": 23,
   "metadata": {},
   "outputs": [
    {
     "data": {
      "text/plain": [
       "tensor([True, True, True, True, True, True, True, True, True, True])"
      ]
     },
     "execution_count": 23,
     "metadata": {},
     "output_type": "execute_result"
    }
   ],
   "source": [
    "# Make some prediction with the loaded model\n",
    "loaded_model_0.eval()\n",
    "with torch.inference_mode():\n",
    "    loaded_model_preds = loaded_model_0(X_test)\n",
    "\n",
    "loaded_model_0.eval()\n",
    "with torch.inference_mode():\n",
    "    model_preds = model_0(X_test)\n",
    "\n",
    "loaded_model_preds == model_preds"
   ]
  },
  {
   "cell_type": "markdown",
   "metadata": {},
   "source": [
    "### Putting all together\n"
   ]
  },
  {
   "cell_type": "code",
   "execution_count": 9,
   "metadata": {},
   "outputs": [],
   "source": [
    "import torch\n",
    "from torch import nn\n",
    "import matplotlib.pyplot as plt\n",
    "import numpy as np"
   ]
  },
  {
   "cell_type": "code",
   "execution_count": 2,
   "metadata": {},
   "outputs": [
    {
     "name": "stdout",
     "output_type": "stream",
     "text": [
      "Device: cuda\n"
     ]
    }
   ],
   "source": [
    "# Setup device agnostic code\n",
    "device = \"cuda\" if torch.cuda.is_available() else \"cpu\"\n",
    "print(f\"Device: {device}\")"
   ]
  },
  {
   "cell_type": "code",
   "execution_count": 3,
   "metadata": {},
   "outputs": [
    {
     "name": "stdout",
     "output_type": "stream",
     "text": [
      "Thu Sep 26 07:06:18 2024       \n",
      "+-----------------------------------------------------------------------------------------+\n",
      "| NVIDIA-SMI 550.107.02             Driver Version: 550.107.02     CUDA Version: 12.4     |\n",
      "|-----------------------------------------+------------------------+----------------------+\n",
      "| GPU  Name                 Persistence-M | Bus-Id          Disp.A | Volatile Uncorr. ECC |\n",
      "| Fan  Temp   Perf          Pwr:Usage/Cap |           Memory-Usage | GPU-Util  Compute M. |\n",
      "|                                         |                        |               MIG M. |\n",
      "|=========================================+========================+======================|\n",
      "|   0  NVIDIA GeForce RTX 2060        Off |   00000000:01:00.0 Off |                  N/A |\n",
      "| N/A   36C    P8              2W /   30W |       9MiB /   6144MiB |      0%      Default |\n",
      "|                                         |                        |                  N/A |\n",
      "+-----------------------------------------+------------------------+----------------------+\n",
      "                                                                                         \n",
      "+-----------------------------------------------------------------------------------------+\n",
      "| Processes:                                                                              |\n",
      "|  GPU   GI   CI        PID   Type   Process name                              GPU Memory |\n",
      "|        ID   ID                                                               Usage      |\n",
      "|=========================================================================================|\n",
      "|    0   N/A  N/A      2832      G   /usr/lib/xorg/Xorg                              4MiB |\n",
      "+-----------------------------------------------------------------------------------------+\n"
     ]
    }
   ],
   "source": [
    "!nvidia-smi"
   ]
  },
  {
   "cell_type": "code",
   "execution_count": 4,
   "metadata": {},
   "outputs": [
    {
     "data": {
      "text/plain": [
       "(40, 40, 10, 10)"
      ]
     },
     "execution_count": 4,
     "metadata": {},
     "output_type": "execute_result"
    }
   ],
   "source": [
    "# 0. Data\n",
    "weight = 0.7\n",
    "bias = 0.3\n",
    "\n",
    "start = 0\n",
    "end = 1\n",
    "step = 0.02\n",
    "\n",
    "# Data\n",
    "X = torch.arange(start=start, end=end, step=step).unsqueeze(dim=1)\n",
    "y = bias + weight * X\n",
    "\n",
    "# Train-test split\n",
    "train_split = int(0.8*len(X))\n",
    "\n",
    "X_train, y_train = X[:train_split].to(device), y[:train_split].to(device)\n",
    "X_test, y_test = X[train_split:].to(device), y[train_split:].to(device)\n",
    "\n",
    "len(X_train), len(y_train), len(X_test), len(y_test)"
   ]
  },
  {
   "cell_type": "code",
   "execution_count": 5,
   "metadata": {},
   "outputs": [
    {
     "data": {
      "text/plain": [
       "(LinearRegressionModelv2(\n",
       "   (linear_layer): Linear(in_features=1, out_features=1, bias=True)\n",
       " ),\n",
       " OrderedDict([('linear_layer.weight', tensor([[0.7645]], device='cuda:0')),\n",
       "              ('linear_layer.bias', tensor([0.8300], device='cuda:0'))]),\n",
       " device(type='cuda', index=0))"
      ]
     },
     "execution_count": 5,
     "metadata": {},
     "output_type": "execute_result"
    }
   ],
   "source": [
    "# 1. Define model\n",
    "class LinearRegressionModelv2(nn.Module):\n",
    "    def __init__(self):\n",
    "        super().__init__()\n",
    "        # Generally, we won't be initializing indivicual parameters, but layers\n",
    "        # nn.Linear() layer that auto creates model parameters\n",
    "        # also called linear transform, probing layer, fully connected layer, dense layer\n",
    "        # in our data, one value of X is related to one value of y\n",
    "        self.linear_layer = nn.Linear(in_features=1,\n",
    "                                     out_features=1)\n",
    "    \n",
    "    # since we've subclassed nn.Module, we'll have to define forward()\n",
    "    def forward(self, x:torch.Tensor) -> torch.Tensor:\n",
    "        return self.linear_layer(x)\n",
    "\n",
    "# Instantiate model\n",
    "torch.manual_seed(42)\n",
    "model_1 = LinearRegressionModelv2().to(device)\n",
    "model_1, model_1.state_dict(), next(model_1.parameters()).device"
   ]
  },
  {
   "cell_type": "code",
   "execution_count": null,
   "metadata": {},
   "outputs": [],
   "source": [
    "# Visualize\n",
    "def plot_predictions(train_data = X_train,\n",
    "                    train_labels = y_train,\n",
    "                    test_data = X_test,\n",
    "                    test_labels = y_test,\n",
    "                    predictions = None):\n",
    "    \"\"\"\n",
    "    Plots training data, testing data and compares predictions.\n",
    "    \"\"\"\n",
    "    plt.figure(figsize=(10,7))\n",
    "\n",
    "    # plot training data in blue\n",
    "    plt.scatter(train_data, train_labels, c=\"b\", s=4, label=\"Training data\")\n",
    "\n",
    "    # plot testing data in green\n",
    "    plt.scatter(test_data, test_labels, c=\"g\", s=4, label=\"Training data\")\n",
    "\n",
    "    # are there predictions?\n",
    "    if predictions is not None:\n",
    "        plt.scatter(test_data, predictions, c=\"r\", s=4, label=\"Predictions\")\n",
    "    \n",
    "    # Show the legend\n",
    "    plt.legend(prop={\"size\": 14});"
   ]
  },
  {
   "cell_type": "code",
   "execution_count": null,
   "metadata": {},
   "outputs": [],
   "source": [
    "with torch.inference_mode():\n",
    "    y_preds = model_1(X_test).cpu() # numpy requires data in cpu\n",
    "\n",
    "plot_predictions(predictions=y_preds)"
   ]
  },
  {
   "cell_type": "code",
   "execution_count": 12,
   "metadata": {},
   "outputs": [],
   "source": [
    "# Training the model: we need loss function, optimizer, training loop, testing loop\n",
    "\n",
    "loss_fn = nn.L1Loss()\n",
    "\n",
    "optimizer = torch.optim.SGD(params=model_1.parameters(),\n",
    "                            lr=0.01)"
   ]
  },
  {
   "cell_type": "code",
   "execution_count": 13,
   "metadata": {},
   "outputs": [
    {
     "name": "stdout",
     "output_type": "stream",
     "text": [
      "Epoch: 0 | Train loss: 0.5552 | Test loss: 0.574\n",
      "Epoch: 20 | Train loss: 0.3248 | Test loss: 0.3046\n",
      "Epoch: 40 | Train loss: 0.0943 | Test loss: 0.0351\n",
      "Epoch: 60 | Train loss: 0.02 | Test loss: 0.0458\n",
      "Epoch: 80 | Train loss: 0.0131 | Test loss: 0.0299\n",
      "OrderedDict({'linear_layer.weight': tensor([[0.6691]], device='cuda:0'), 'linear_layer.bias': tensor([0.3130], device='cuda:0')})\n"
     ]
    }
   ],
   "source": [
    "# Training loop\n",
    "\n",
    "torch.manual_seed(42)\n",
    "\n",
    "epochs = 100\n",
    "\n",
    "epoch_count = []\n",
    "train_loss_values = []\n",
    "test_loss_values = []\n",
    "\n",
    "# 0. iterate over data\n",
    "for epoch in range(epochs):\n",
    "    model_1.train()\n",
    "    # 1. forward pass\n",
    "    y_pred = model_1(X_train)\n",
    "    \n",
    "    # 2. Calculate loss\n",
    "    train_loss = loss_fn(y_pred, y_train)\n",
    "\n",
    "    ## optimizer grad clear\n",
    "    optimizer.zero_grad()\n",
    "\n",
    "    # 3. Backpropage loss\n",
    "    train_loss.backward()\n",
    "    \n",
    "    # 4. Optimization step\n",
    "    optimizer.step()\n",
    "\n",
    "    # 5. evaluate\n",
    "    model_1.eval()\n",
    "    with torch.inference_mode():\n",
    "        test_pred = model_1(X_test)\n",
    "        test_loss = loss_fn(test_pred, y_test)\n",
    "    \n",
    "    # print update\n",
    "    if epoch % 20 == 0:\n",
    "        epoch_count.append(epoch)\n",
    "        train_loss_values.append(train_loss.item())\n",
    "        test_loss_values.append(test_loss.item())\n",
    "\n",
    "        #print update\n",
    "        print(f\"Epoch: {epoch} | Train loss: {round(train_loss.item(),4)} | Test loss: {round(test_loss.item(),4)}\")\n",
    "\n",
    "print(model_1.state_dict())\n"
   ]
  },
  {
   "cell_type": "code",
   "execution_count": null,
   "metadata": {},
   "outputs": [],
   "source": [
    "# Evaluate learned model performance\n",
    "\n",
    "model_1.eval()\n",
    "with torch.inference_mode():\n",
    "    y_preds = model_1(X_test).cpu()\n",
    "\n",
    "plot_predictions(predictions=y_preds)"
   ]
  },
  {
   "cell_type": "code",
   "execution_count": 15,
   "metadata": {},
   "outputs": [
    {
     "data": {
      "image/png": "[encoded data removed]",
      "text/plain": [
       "<Figure size 640x480 with 1 Axes>"
      ]
     },
     "metadata": {},
     "output_type": "display_data"
    }
   ],
   "source": [
    "plt.plot(epoch_count, train_loss_values, label=\"Train loss\")\n",
    "plt.plot(epoch_count, test_loss_values, label=\"Test loss\")\n",
    "plt.title(\"Train and Test lost curves\")\n",
    "plt.xlabel(\"Epochs\")\n",
    "plt.ylabel(\"Loss\")\n",
    "plt.legend();"
   ]
  },
  {
   "cell_type": "code",
   "execution_count": 79,
   "metadata": {},
   "outputs": [
    {
     "name": "stdout",
     "output_type": "stream",
     "text": [
      "Saving model to: /mnt/74D825B5D8257710/Study/Course/CS/ML/PyTorch/models/01_pytorch_workflow_model_1.pth\n"
     ]
    }
   ],
   "source": [
    "# Saving and loading model\n",
    "from pathlib import Path\n",
    "\n",
    "# 1. Create model directory\n",
    "MODEL_PATH = Path(\"\")\n",
    "MODEL_PATH.mkdir(parents=True, exist_ok=True)\n",
    "\n",
    "MODEL_NAME_2 = \"01_pytorch_workflow_model_1.pth\"\n",
    "MODEL_SAVE_PATH_2 = MODEL_PATH / MODEL_NAME_2\n",
    "\n",
    "# save model state_dict()\n",
    "print(f\"Saving model to: {MODEL_SAVE_PATH_2}\")\n",
    "torch.save(obj=model_1.state_dict(),\n",
    "           f=MODEL_SAVE_PATH_2)"
   ]
  },
  {
   "cell_type": "code",
   "execution_count": 83,
   "metadata": {},
   "outputs": [
    {
     "data": {
      "text/plain": [
       "LinearRegressionModelv2(\n",
       "  (linear_layer): Linear(in_features=1, out_features=1, bias=True)\n",
       ")"
      ]
     },
     "execution_count": 83,
     "metadata": {},
     "output_type": "execute_result"
    }
   ],
   "source": [
    "# Loading model state_dict()\n",
    "loaded_model_1 = LinearRegressionModelv2()\n",
    "loaded_model_1.load_state_dict(torch.load(f=MODEL_SAVE_PATH_2))\n",
    "loaded_model_1.to(device)"
   ]
  },
  {
   "cell_type": "code",
   "execution_count": 87,
   "metadata": {},
   "outputs": [
    {
     "data": {
      "text/plain": [
       "tensor([[True],\n",
       "        [True],\n",
       "        [True],\n",
       "        [True],\n",
       "        [True],\n",
       "        [True],\n",
       "        [True],\n",
       "        [True],\n",
       "        [True],\n",
       "        [True]], device='cuda:0')"
      ]
     },
     "execution_count": 87,
     "metadata": {},
     "output_type": "execute_result"
    }
   ],
   "source": [
    "# Comparing loaded model with initial model\n",
    "\n",
    "model_1.eval()\n",
    "with torch.inference_mode():\n",
    "    test_preds = model_1(X_test)\n",
    "\n",
    "loaded_model_1.eval()\n",
    "with torch.inference_mode():\n",
    "    loaded_test_preds = loaded_model_1(X_test)\n",
    "\n",
    "test_preds == loaded_test_preds"
   ]
  },
  {
   "cell_type": "markdown",
   "metadata": {},
   "source": [
    "## 02_pytorch_classification\n",
    "\n",
    "Binary Vs. Multiclass Vs. Multilabel classification.\n",
    "\n",
    "### Input and Output\n",
    "Image > tensor (batch_size, color_channel, width, height) > ML Algorithm > Output (prediction probabilities)\n",
    "\n",
    "### Architecture of a dlassification model\n",
    "\n",
    "| **Hyperparameter** | **Binary Classification** | **Multiclass classification** |\n",
    "| --- | --- | --- |\n",
    "| **Input layer shape** (`in_features`) | Same as number of features (e.g. 5 for age, sex, height, weight, smoking status in heart disease prediction) | Same as binary classification |\n",
    "| **Hidden layer(s)** | Problem specific, minimum = 1, maximum = unlimited | Same as binary classification |\n",
    "| **Neurons per hidden layer** | Problem specific, generally 10 to 512 | Same as binary classification |\n",
    "| **Output layer shape** (`out_features`) | 1 (one class or the other) | 1 per class (e.g. 3 for food, person or dog photo) |\n",
    "| **Hidden layer activation** | Usually [ReLU](https://pytorch.org/docs/stable/generated/torch.nn.ReLU.html#torch.nn.ReLU) (rectified linear unit) but [can be many others](https://en.wikipedia.org/wiki/Activation_function#Table_of_activation_functions) | Same as binary classification |\n",
    "| **Output activation** | [Sigmoid](https://en.wikipedia.org/wiki/Sigmoid_function) ([`torch.sigmoid`](https://pytorch.org/docs/stable/generated/torch.sigmoid.html) in PyTorch)| [Softmax](https://en.wikipedia.org/wiki/Softmax_function) ([`torch.softmax`](https://pytorch.org/docs/stable/generated/torch.nn.Softmax.html) in PyTorch) |\n",
    "| **Loss function** | [Binary crossentropy](https://en.wikipedia.org/wiki/Cross_entropy#Cross-entropy_loss_function_and_logistic_regression) ([`torch.nn.BCELoss`](https://pytorch.org/docs/stable/generated/torch.nn.BCELoss.html) in PyTorch) | Cross entropy ([`torch.nn.CrossEntropyLoss`](https://pytorch.org/docs/stable/generated/torch.nn.CrossEntropyLoss.html) in PyTorch) |\n",
    "| **Optimizer** | [SGD](https://pytorch.org/docs/stable/generated/torch.optim.SGD.html) (stochastic gradient descent), [Adam](https://pytorch.org/docs/stable/generated/torch.optim.Adam.html) (see [`torch.optim`](https://pytorch.org/docs/stable/optim.html) for more options) | Same as binary classification |\n"
   ]
  },
  {
   "cell_type": "code",
   "execution_count": 1,
   "metadata": {},
   "outputs": [],
   "source": [
    "import sklearn\n",
    "from sklearn.datasets import make_circles\n",
    "\n",
    "# Make 1000 samples\n",
    "n_samples = 1000\n",
    "\n",
    "# Create circles\n",
    "X, y = make_circles(n_samples,\n",
    "                    noise=0.03,\n",
    "                    random_state=42)\n"
   ]
  },
  {
   "cell_type": "code",
   "execution_count": 2,
   "metadata": {},
   "outputs": [
    {
     "data": {
      "text/plain": [
       "(1000, 1000)"
      ]
     },
     "execution_count": 2,
     "metadata": {},
     "output_type": "execute_result"
    }
   ],
   "source": [
    "len(X), len(y)"
   ]
  },
  {
   "cell_type": "code",
   "execution_count": 5,
   "metadata": {},
   "outputs": [
    {
     "name": "stdout",
     "output_type": "stream",
     "text": [
      "First 5 samples of X: \n",
      "[[ 0.75424625  0.23148074]\n",
      " [-0.75615888  0.15325888]\n",
      " [-0.81539193  0.17328203]\n",
      " [-0.39373073  0.69288277]\n",
      " [ 0.44220765 -0.89672343]]\n",
      "\n",
      "First 5 samples of y: \n",
      "[1 1 1 1 0]\n"
     ]
    }
   ],
   "source": [
    "print(f\"First 5 samples of X: \\n{X[:5]}\\n\")\n",
    "print(f\"First 5 samples of y: \\n{y[:5]}\") # Binary classification"
   ]
  },
  {
   "cell_type": "code",
   "execution_count": 7,
   "metadata": {},
   "outputs": [
    {
     "data": {
      "text/html": [
       "<div>\n",
       "<style scoped>\n",
       "    .dataframe tbody tr th:only-of-type {\n",
       "        vertical-align: middle;\n",
       "    }\n",
       "\n",
       "    .dataframe tbody tr th {\n",
       "        vertical-align: top;\n",
       "    }\n",
       "\n",
       "    .dataframe thead th {\n",
       "        text-align: right;\n",
       "    }\n",
       "</style>\n",
       "<table border=\"1\" class=\"dataframe\">\n",
       "  <thead>\n",
       "    <tr style=\"text-align: right;\">\n",
       "      <th></th>\n",
       "      <th>X1</th>\n",
       "      <th>X2</th>\n",
       "      <th>label</th>\n",
       "    </tr>\n",
       "  </thead>\n",
       "  <tbody>\n",
       "    <tr>\n",
       "      <th>0</th>\n",
       "      <td>0.754246</td>\n",
       "      <td>0.231481</td>\n",
       "      <td>1</td>\n",
       "    </tr>\n",
       "    <tr>\n",
       "      <th>1</th>\n",
       "      <td>-0.756159</td>\n",
       "      <td>0.153259</td>\n",
       "      <td>1</td>\n",
       "    </tr>\n",
       "    <tr>\n",
       "      <th>2</th>\n",
       "      <td>-0.815392</td>\n",
       "      <td>0.173282</td>\n",
       "      <td>1</td>\n",
       "    </tr>\n",
       "    <tr>\n",
       "      <th>3</th>\n",
       "      <td>-0.393731</td>\n",
       "      <td>0.692883</td>\n",
       "      <td>1</td>\n",
       "    </tr>\n",
       "    <tr>\n",
       "      <th>4</th>\n",
       "      <td>0.442208</td>\n",
       "      <td>-0.896723</td>\n",
       "      <td>0</td>\n",
       "    </tr>\n",
       "    <tr>\n",
       "      <th>5</th>\n",
       "      <td>-0.479646</td>\n",
       "      <td>0.676435</td>\n",
       "      <td>1</td>\n",
       "    </tr>\n",
       "    <tr>\n",
       "      <th>6</th>\n",
       "      <td>-0.013648</td>\n",
       "      <td>0.803349</td>\n",
       "      <td>1</td>\n",
       "    </tr>\n",
       "    <tr>\n",
       "      <th>7</th>\n",
       "      <td>0.771513</td>\n",
       "      <td>0.147760</td>\n",
       "      <td>1</td>\n",
       "    </tr>\n",
       "    <tr>\n",
       "      <th>8</th>\n",
       "      <td>-0.169322</td>\n",
       "      <td>-0.793456</td>\n",
       "      <td>1</td>\n",
       "    </tr>\n",
       "    <tr>\n",
       "      <th>9</th>\n",
       "      <td>-0.121486</td>\n",
       "      <td>1.021509</td>\n",
       "      <td>0</td>\n",
       "    </tr>\n",
       "  </tbody>\n",
       "</table>\n",
       "</div>"
      ],
      "text/plain": [
       "         X1        X2  label\n",
       "0  0.754246  0.231481      1\n",
       "1 -0.756159  0.153259      1\n",
       "2 -0.815392  0.173282      1\n",
       "3 -0.393731  0.692883      1\n",
       "4  0.442208 -0.896723      0\n",
       "5 -0.479646  0.676435      1\n",
       "6 -0.013648  0.803349      1\n",
       "7  0.771513  0.147760      1\n",
       "8 -0.169322 -0.793456      1\n",
       "9 -0.121486  1.021509      0"
      ]
     },
     "execution_count": 7,
     "metadata": {},
     "output_type": "execute_result"
    }
   ],
   "source": [
    "import pandas as pd\n",
    "\n",
    "circles = pd.DataFrame({\"X1\": X[:,0],\n",
    "                        \"X2\": X[:,1],\n",
    "                        \"label\": y})\n",
    "\n",
    "circles[:10]"
   ]
  },
  {
   "cell_type": "code",
   "execution_count": 11,
   "metadata": {},
   "outputs": [
    {
     "data": {
      "image/png": "[encoded data removed]",
      "text/plain": [
       "<Figure size 640x480 with 1 Axes>"
      ]
     },
     "metadata": {},
     "output_type": "display_data"
    }
   ],
   "source": [
    "import matplotlib.pyplot as plt\n",
    "\n",
    "plt.scatter(x=X[:,0],\n",
    "            y=X[:,1],\n",
    "            c=y,\n",
    "            cmap=plt.cm.RdYlBu); # c for color, cmap for colormap"
   ]
  },
  {
   "cell_type": "markdown",
   "metadata": {},
   "source": [
    "Toy dataset: dataset that is small enough to experiment, but still sizeable enough to practice the fundamentals."
   ]
  }
 ],
 "metadata": {
  "kernelspec": {
   "display_name": "base",
   "language": "python",
   "name": "python3"
  },
  "language_info": {
   "codemirror_mode": {
    "name": "ipython",
    "version": 3
   },
   "file_extension": ".py",
   "mimetype": "text/x-python",
   "name": "python",
   "nbconvert_exporter": "python",
   "pygments_lexer": "ipython3",
   "version": "3.12.4"
  }
 },
 "nbformat": 4,
 "nbformat_minor": 2
}
