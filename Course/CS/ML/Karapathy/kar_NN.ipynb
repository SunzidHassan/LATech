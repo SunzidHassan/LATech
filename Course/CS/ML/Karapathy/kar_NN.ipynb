{
 "cells": [
  {
   "cell_type": "markdown",
   "metadata": {},
   "source": [
    "## Micrograd\n",
    "**Micrograd** is an Autograd (automatic gradient) engine that implements backpropagation.\n",
    "\n",
    "**Backpropagation** evaluates gradient of a loss function with respect to the weights of a neural network. So we can update the weights of the neural network to minimize the loss function, to increase performance.\n",
    "\n"
   ]
  },
  {
   "cell_type": "code",
   "execution_count": null,
   "metadata": {},
   "outputs": [],
   "source": []
  }
 ],
 "metadata": {
  "language_info": {
   "name": "python"
  }
 },
 "nbformat": 4,
 "nbformat_minor": 2
}
