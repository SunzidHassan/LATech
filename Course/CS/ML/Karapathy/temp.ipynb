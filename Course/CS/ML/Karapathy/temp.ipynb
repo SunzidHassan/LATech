{
 "cells": [
  {
   "cell_type": "code",
   "execution_count": null,
   "metadata": {},
   "outputs": [],
   "source": [
    "\n",
    "\n",
    "import matplotlib.pyplot as plt\n",
    "import openpyxl\n",
    "\n",
    "\n",
    "wb = openpyxl.load_workbook('input.xlsx')\n",
    "ws = wb.active\n",
    "\n",
    "img = openpyxl.drawing.image.Image('myplot.png')\n",
    "img.anchor(ws.cell('A1'))\n",
    "\n",
    "ws.add_image(img)\n",
    "wb.save('output.xlsx')"
   ]
  }
 ],
 "metadata": {
  "kernelspec": {
   "display_name": "temp",
   "language": "python",
   "name": "python3"
  },
  "language_info": {
   "name": "python",
   "version": "3.11.7"
  }
 },
 "nbformat": 4,
 "nbformat_minor": 2
}
