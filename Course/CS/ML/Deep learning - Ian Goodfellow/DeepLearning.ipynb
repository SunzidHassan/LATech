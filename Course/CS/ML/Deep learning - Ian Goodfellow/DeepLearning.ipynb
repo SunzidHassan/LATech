{
 "cells": [
  {
   "cell_type": "markdown",
   "metadata": {},
   "source": [
    "# Deep Learning Book\n",
    "\n",
    "## I Applied Math and Machine Learning Basics\n",
    "### 2. Linear Algebra\n",
    "\n",
    "\n",
    "### 3. Probability and Information Theory\n",
    "\n",
    "\n",
    "### 4. Numeric Computation\n",
    "\n",
    "\n",
    "### 5. Machine Learning Basics\n",
    "\n",
    "\n"
   ]
  },
  {
   "cell_type": "markdown",
   "metadata": {},
   "source": [
    "## II Deep Networks\n",
    "### 6. Deep Feedforward Networks\n",
    "\n",
    "\n",
    "### 7. Regularization for Deep Learning\n",
    "\n",
    "\n",
    "### 8. Optimization for Training Deep Models\n",
    "\n",
    "\n",
    "### 9. Convolutional Networks\n",
    "\n",
    "\n",
    "### 10. Sequence Modeling: Recurrent and Recursive Nets\n",
    "\n",
    "\n",
    "### 11. Practical Methodology\n",
    "\n",
    "\n",
    "### 12. Applications\n",
    "\n",
    "\n"
   ]
  },
  {
   "cell_type": "markdown",
   "metadata": {},
   "source": [
    "## III Deep Learning Research\n",
    "### 13. Linear Factor Models\n",
    "\n",
    "\n",
    "### 14. Autoencoders\n",
    "\n",
    "\n",
    "### 15. Representation Learning\n",
    "\n",
    "\n",
    "### 16. Structured Probabilistic Models for Deep Learning\n",
    "\n",
    "\n",
    "### 17. Monte Carlo Methods\n",
    "\n",
    "\n",
    "### 18. Confronting the Partition Function\n",
    "\n",
    "\n",
    "### 19. Approximate Inference\n",
    "\n",
    "\n",
    "### 20. Deep Generative Models\n",
    "\n",
    "## "
   ]
  }
 ],
 "metadata": {
  "language_info": {
   "name": "python"
  },
  "orig_nbformat": 4
 },
 "nbformat": 4,
 "nbformat_minor": 2
}
