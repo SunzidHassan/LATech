{
 "cells": [
  {
   "cell_type": "markdown",
   "metadata": {
    "vscode": {
     "languageId": "bat"
    }
   },
   "source": [
    "## 0. Limits\n",
    "**Right-hand limit**: $\\lim_{x \\to a^+}f(x)=R$\n",
    "\n",
    "**Left-hand limit**: $\\lim_{x \\to a^-}f(x)=L$\n",
    "\n",
    "- $L$ or $R$ may not exist.\n",
    "- $L$ may not be equal to $R$.\n",
    "- R may not be equal to $f(a)$\n",
    "- If $f(a)$ exists, R may not exist.\n",
    "\n",
    "- If $\\lim_{x \\to a^+}f(x)=\\lim_{x \\to a^-}f(x)$, then $\\lim_{x \\to a}f(x)$\n",
    "\n",
    "- If $\\lim_{x \\to a}f(x)=L$ and $\\lim_{x \\to a}g(x)=M$, then\n",
    "    - $\\lim_{x \\to a}[f(x)+g(x)]=L+M$\n",
    "    - $\\lim_{x \\to a}[f(x)-g(x)]=L-M$\n",
    "    - $\\lim_{x \\to a}[f(x).g(x)]=L.M$\n",
    "    - $\\lim_{x \\to a}{[f(x)\\over g(x)]}={L\\over M}$, if $M\\neq 0$"
   ]
  },
  {
   "cell_type": "code",
   "execution_count": 10,
   "metadata": {},
   "outputs": [
    {
     "name": "stdout",
     "output_type": "stream",
     "text": [
      "1.841\n",
      "3.918\n",
      "19.983\n",
      "199.998\n",
      "2000.0\n",
      "20000.0\n",
      "0.42\n",
      "-0.93\n",
      "-0.581\n",
      "0.089\n",
      "0.781\n",
      "0.448\n",
      "0.998\n",
      "-0.598\n",
      "0.122\n",
      "0.94\n"
     ]
    }
   ],
   "source": [
    "import math\n",
    "# Lim goes to +inf\n",
    "def lim1(x):\n",
    "    return round((abs(x)+math.sin(x))/x**2,3)\n",
    "\n",
    "# Lim doesn't go to inf, but doesn't converge to a number\n",
    "def lim2(x):\n",
    "    return round(math.sin(13/x), 3)\n",
    "    \n",
    "x = [1, .5, .1, .01, .001, .0001]\n",
    "\n",
    "for vals in x:\n",
    "    print(lim1(vals))\n",
    "\n",
    "for i in range(10):\n",
    "    print(lim2(10**-i))\n"
   ]
  },
  {
   "cell_type": "markdown",
   "metadata": {},
   "source": [
    "## 1. The Derivative\n"
   ]
  },
  {
   "cell_type": "markdown",
   "metadata": {},
   "source": [
    "## 2. Differentiation\n"
   ]
  },
  {
   "cell_type": "markdown",
   "metadata": {},
   "source": [
    "## 3. Approximations\n"
   ]
  },
  {
   "cell_type": "markdown",
   "metadata": {},
   "source": [
    "## 4. Applications"
   ]
  }
 ],
 "metadata": {
  "kernelspec": {
   "display_name": "base",
   "language": "python",
   "name": "python3"
  },
  "language_info": {
   "codemirror_mode": {
    "name": "ipython",
    "version": 3
   },
   "file_extension": ".py",
   "mimetype": "text/x-python",
   "name": "python",
   "nbconvert_exporter": "python",
   "pygments_lexer": "ipython3",
   "version": "3.11.7"
  }
 },
 "nbformat": 4,
 "nbformat_minor": 2
}
