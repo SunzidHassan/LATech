{
 "cells": [
  {
   "cell_type": "markdown",
   "metadata": {},
   "source": [
    "**Objectives**\n",
    "Upon completion of 6.042J, students will be able to explain and apply basic methods of discrete (noncontinuous) mathematics in computer science. They will be able to use these methods in subsequent courses in the design and analysis of algorithms, computability theory, software engineering, and computer systems.\n",
    "\n",
    "In particular, students will be able to:\n",
    "\n",
    "- Reason mathematically about basic data types and structures (such as numbers, sets, graphs, and trees) used in computer algorithms and systems; distinguish rigorous definitions and conclusions from merely plausible ones; synthesize elementary proofs, especially proofs by induction.\n",
    "- Model and analyze computational processes using analytic and combinatorial methods.\n",
    "- Apply principles of discrete probability to calculate probabilities and expectations of simple random processes.\n",
    "\n",
    "**Learning Outcomes**\n",
    "At the end of this course, students will be able to:\n",
    "- Use logical notation to define and reason about fundamental mathematical concepts such as sets, relations, functions, and integers.\n",
    "- Evaluate elementary mathematical arguments and identify fallacious reasoning (not just fallacious conclusions).\n",
    "- Synthesize induction hypotheses and simple induction proofs.\n",
    "- Prove elementary properties of modular arithmetic and explain their applications in computer science, for example, in cryptography and hashing algorithms.\n",
    "- Apply graph-theoretic models of data structures and state machines to solve problems of connectivity and constraint satisfaction (e.g. scheduling).\n",
    "- Apply the method of invariants and well-founded ordering to prove correctness and termination of processes and state machines.\n",
    "- Derive closed-form and asymptotic expressions from series and recurrences for growth rates of processes.\n",
    "- Calculate numbers of possible outcomes of elementary combinatorial processes such as permutations and combinations.\n",
    "- Calculate probabilities and discrete distributions for simple combinatorial processes; calculate expectations."
   ]
  },
  {
   "cell_type": "markdown",
   "metadata": {},
   "source": [
    "## Intro to proof\n",
    "### Proof\n",
    "#### Proposition\n",
    "A statement that is either T/F.\n",
    "∀  N: p.n/ is prime:\n",
    "\n",
    "#### Predicate\n",
    "A proposition whose truth depends on the value of one or more variables. P(n)::=\"n is a perfect square\".\n",
    "\n",
    "#### Axioms\n",
    "**Proof:** series of logical deduction from axioms and previously proved statements that concludes with the proposition in question.\n",
    "\n",
    "**Theorem:** important true propositions.\n",
    "**Lemma:** preliminary proposition useful for proving later proposition.\n",
    "**Corollary:** proposition that follows in just a few logical steps from a theorem.\n",
    "\n",
    "ZFC axioms.\n",
    "\n",
    "#### Proving an implication\n",
    "**Implication** if P, then Q or P implies Q.\n",
    "\n",
    "Proofs begin with the word 'Proof' and end with some delimiter like 'QED'.\n",
    "Prove by Contrapositive: NOT(Q) IMPLIES NOT(P).\n",
    "\n",
    "IFF: P IMPLIES Q AND Q IMPLIES P."
   ]
  }
 ],
 "metadata": {
  "language_info": {
   "name": "python"
  },
  "orig_nbformat": 4
 },
 "nbformat": 4,
 "nbformat_minor": 2
}
