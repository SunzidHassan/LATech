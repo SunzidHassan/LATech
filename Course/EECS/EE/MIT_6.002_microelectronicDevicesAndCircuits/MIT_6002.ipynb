{
 "cells": [
  {
   "cell_type": "markdown",
   "metadata": {},
   "source": [
    "## Layers of abstraction in 6.002\n",
    "\n",
    "| Nature                      | Physics law/abstraction             | Lumped Circuit Abstraction (LCA)                                            | Amplifier |\n",
    "|-----------------------------|-------------------------------------|-----------------------------------------------------------------------------|-----------|\n",
    "| Observations of $V$ and $I$ | Ohm's law: $V=RI$ Maxwell law, etc. | Considering an object as just a resistors  voltage source, capacitors, etc. | --\\|>--   |\n",
    "\n",
    "\n",
    "After amplifier there are two paths: digital and analog\n",
    "\n",
    "Path 1: Digital\n",
    "| Digital    | Computer Logic | Clocked Digital Abstraction | Instruction Set Abstraction (ISA) | Language | Software systems |\n",
    "|------------|----------------|-----------------------------|-----------------------------------|----------|------------------|\n",
    "| -\\|>o- =D- | =[f]-          | =[f]-                       | X86                               | C, Java  | Windows, Linux   |\n",
    "\n",
    "Path 2: Analog\n",
    "| opamp   | Analog System Components              | System   |\n",
    "|---------|---------------------------------------|----------|\n",
    "| =\\|-+>- | Oscillators, filters, power supplies. | Toasters |"
   ]
  },
  {
   "cell_type": "markdown",
   "metadata": {},
   "source": [
    "## Lumped Circuit Abstraction:\n",
    "\n",
    "In physics, we do Point Mass discretization to assume $F=ma$, considering the entire mass of an object is in a point. Similarly, we can consider a light bulb as a resistance, and get $I=\\frac{V}{R}$ for current flow in the light. \n",
    "\n",
    "For the light bulb filament, considering "
   ]
  }
 ],
 "metadata": {
  "language_info": {
   "name": "python"
  }
 },
 "nbformat": 4,
 "nbformat_minor": 2
}
