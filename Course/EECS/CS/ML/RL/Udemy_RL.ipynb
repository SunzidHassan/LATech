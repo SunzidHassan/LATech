{
 "cells": [
  {
   "cell_type": "code",
   "execution_count": 2,
   "metadata": {},
   "outputs": [],
   "source": [
    "import numpy as np\n",
    "import random as rand"
   ]
  },
  {
   "cell_type": "code",
   "execution_count": null,
   "metadata": {},
   "outputs": [],
   "source": [
    "\n",
    "class Agent():\n",
    "    def __init__(self, lr, gamma, n_actions, n_states, eps_max, eps_min, eps_dec):\n",
    "        self.lr = lr\n",
    "        self.gamma = gamma\n",
    "        self.epsilon = eps_max\n",
    "        self.eps_min = eps_min\n",
    "        self.eps_dec = eps_dec\n",
    "        self.num_actions = n_actions\n",
    "        self.num_states = n_states\n",
    "\n",
    "        self.Q = {}\n",
    "\n",
    "        self.init_q()\n",
    "    \n",
    "    def init_Q(self):\n",
    "        for state in range(self.num_sates):\n",
    "            for action in range(self.num_actions):\n",
    "                self.Q[(state, action)] = 0.0\n",
    "\n",
    "    def choose_action(self, state):\n",
    "        if np.random.random() < self.epsilon:\n",
    "            action = np.random.choice([i for i in range(self.num_actions)])\n",
    "        else:\n",
    "            actions = np.array([self.Q[(state, a)] for a in range(self.num_actions)])\n",
    "            action = np.argmax(actions)\n",
    "        return action\n",
    "    \n",
    "    def decrement_epsilon(self):\n",
    "        self.epsilon = self.epsilon*self.eps_dec if self.epsilon>self.eps_min\\\n",
    "                       else self.eps_min\n",
    "    \n",
    "    def learn(self, state, action, reward, state_):\n",
    "        actions = np.array([self.Q[(state_, a)] for a in range(self.num_actions)])\n",
    "        a_max = np.argmax(actions)\n",
    "\n",
    "        self.Q[(state, action)] += self.lr*((reward +\n",
    "                                             self.gamma*self.Q[state_, a_max]) -\n",
    "                                             self.Q[(state, action)])\n"
   ]
  }
 ],
 "metadata": {
  "kernelspec": {
   "display_name": "base",
   "language": "python",
   "name": "python3"
  },
  "language_info": {
   "codemirror_mode": {
    "name": "ipython",
    "version": 3
   },
   "file_extension": ".py",
   "mimetype": "text/x-python",
   "name": "python",
   "nbconvert_exporter": "python",
   "pygments_lexer": "ipython3",
   "version": "3.11.7"
  }
 },
 "nbformat": 4,
 "nbformat_minor": 2
}
