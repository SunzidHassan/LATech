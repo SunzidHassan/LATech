{
 "cells": [
  {
   "cell_type": "code",
   "execution_count": 39,
   "metadata": {},
   "outputs": [
    {
     "data": {
      "text/plain": [
       "[1, 3, 6, 10]"
      ]
     },
     "execution_count": 39,
     "metadata": {},
     "output_type": "execute_result"
    }
   ],
   "source": [
    "# Given an array nums. We define a running sum of an array as runningSum[i] = sum(nums[0]…nums[i]). Return the running sum of nums.\n",
    "nums = [1,2,3,4]\n",
    "\n",
    "#Method 1\n",
    "answer=[0]*len(nums)\n",
    "for i in range(len(nums)):\n",
    "    j = 0\n",
    "    k = 0\n",
    "    while j <= i:\n",
    "        k += nums[j]\n",
    "        # print(\"j=\",j)\n",
    "        # print(\"x[j]=\",x[j])\n",
    "        # print(\"k=\",k)\n",
    "        j += 1\n",
    "    answer[i] = k\n",
    "    # print(\"> x[i]=\",k)\n",
    "    # print(\"\")\n",
    "\n",
    "#Method 2\n",
    "answer = []\n",
    "runningSum = 0\n",
    "\n",
    "for i in range(len(nums)):\n",
    "    runningSum += nums[i]\n",
    "    answer.append(runningSum)\n",
    "answer"
   ]
  },
  {
   "cell_type": "code",
   "execution_count": null,
   "metadata": {},
   "outputs": [],
   "source": [
    "# Given an integer n, return a string array answer (1-indexed) where:\n",
    "\n",
    "# answer[i] == \"FizzBuzz\" if i is divisible by 3 and 5.\n",
    "# answer[i] == \"Fizz\" if i is divisible by 3.\n",
    "# answer[i] == \"Buzz\" if i is divisible by 5.\n",
    "# answer[i] == i (as a string) if none of the above conditions are true.\n",
    "\n",
    "def temp(n):\n",
    "    i = 1\n",
    "    while i <= n:\n",
    "        if i%3 == 0 & i%5 != 0:\n",
    "            return \"Fizz\"\n",
    "        elif i%5 == 0 & i%3 != 0:\n",
    "            return \"Buzz\"\n",
    "        elif i%3 == 0 & i%5 == 0:\n",
    "            return \"FizzBuzz\"\n",
    "        else:\n",
    "            return i\n",
    "        i += 1\n",
    "\n",
    "temp(3)"
   ]
  }
 ],
 "metadata": {
  "kernelspec": {
   "display_name": "Python 3",
   "language": "python",
   "name": "python3"
  },
  "language_info": {
   "codemirror_mode": {
    "name": "ipython",
    "version": 3
   },
   "file_extension": ".py",
   "mimetype": "text/x-python",
   "name": "python",
   "nbconvert_exporter": "python",
   "pygments_lexer": "ipython3",
   "version": "3.11.3"
  },
  "orig_nbformat": 4
 },
 "nbformat": 4,
 "nbformat_minor": 2
}
