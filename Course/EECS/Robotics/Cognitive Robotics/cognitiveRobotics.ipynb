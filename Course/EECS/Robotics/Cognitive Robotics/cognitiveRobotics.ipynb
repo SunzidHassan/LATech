{
 "cells": [
  {
   "cell_type": "markdown",
   "metadata": {},
   "source": [
    "An AGI is what can both play Go, and drive to it. For in my last project, I made a program that was meant to generate language 'do things', and studied how good/bad it is in doing so.\n",
    "\n",
    "Intelligence:\n",
    "- Pattern recognition (source of recent progress)\n",
    "- Modelling the world - understand and explain what one sees\n",
    "    - Understand and explain\n",
    "    - Imagine what is not yet, setting goals\n",
    "    - Communicating models\n",
    "\n",
    "Research roadmap:\n",
    "- Consciousness\n",
    "- Meaning\n",
    "- Learning\n",
    "- Culture\n",
    "- Creativity\n",
    "\n",
    "Courses you have taken.\n",
    "\n",
    "\n",
    "Publish the paper, finish the book, ask to take a course on neuroscience."
   ]
  },
  {
   "cell_type": "markdown",
   "metadata": {},
   "source": [
    "instead of introducing value, norms and morality in post-training, I want them to be a foundation for learning approach.\n",
    "\n",
    "Bayesian approach to cognition, probabilistic programming\n",
    "\n",
    "LOR Deepak: statistical analysis, now he is studying WCGNA... This is a groundworks - capture many new concepts, that could be used for subsequent learning.\n",
    "\n",
    "LOR Raqib: in my work he designs experimentation, writes navigation algorithm for executing in mobile robot - separate computer vision research, he took the learned vision model to engineer how it can be used in robot navigation, how the benefit of vision addition can be contrasted to olfactory-only approaches. \n",
    "\n",
    "Gpt implementation in dilu, he implemented it with on-device hugging-face model. Prior to his thesis he learned RoboFlow and applied it to train YOLOv9."
   ]
  }
 ],
 "metadata": {
  "language_info": {
   "name": "python"
  }
 },
 "nbformat": 4,
 "nbformat_minor": 2
}
