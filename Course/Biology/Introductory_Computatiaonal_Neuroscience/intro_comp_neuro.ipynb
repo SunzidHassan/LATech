{
 "cells": [
  {
   "cell_type": "markdown",
   "metadata": {},
   "source": [
    "Parameters: A property of the system that is fixed during an experiment or simulation.\n",
    "\n",
    "Leak potential: resting potential.\n",
    "\n",
    "Leak conductance, G_L: leakiness of charge, inverse of membrane resistance. It increases with surface area of the cell.\n",
    "\n",
    "Membrane capacitance, C_m: charge storage capacity of cell membrane. Increases with the surface area."
   ]
  }
 ],
 "metadata": {
  "language_info": {
   "name": "python"
  }
 },
 "nbformat": 4,
 "nbformat_minor": 2
}
