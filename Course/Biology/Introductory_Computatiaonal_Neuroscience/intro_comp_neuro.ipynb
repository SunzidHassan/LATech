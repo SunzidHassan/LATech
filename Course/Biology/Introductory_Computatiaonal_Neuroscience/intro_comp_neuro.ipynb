{
 "cells": [
  {
   "cell_type": "markdown",
   "metadata": {},
   "source": [
    "### 1.1 Introduction\n",
    "#### 1.1.1 Mathematical Preliminaries\n",
    "**Parameters**: A property of the system that is fixed during an experiment or simulation.\n",
    "\n",
    "**Leak potential**: resting potential.\n",
    "\n",
    "**Leak conductance, $G_L$**: leakiness of charge, inverse of membrane resistance. It increases with surface area of the cell.\n",
    "\n",
    "**Membrane capacitance, $C_m$**: charge storage capacity of cell membrane. Increases with the surface area."
   ]
  },
  {
   "cell_type": "markdown",
   "metadata": {},
   "source": [
    "### 1.2 The Neuron, the Circuit, and the Brain\n",
    "#### 1.2.1 The Cellular Level\n",
    "**Soma**: the main body of the cell, containing the nucleus.\n",
    "\n",
    "**Process**: part of the cell that's elongated, extending far from the soma.\n",
    "\n",
    "**Dendrites (den)**: input receiver - transfers to soma.\n",
    "\n",
    "**Axon (go on)**: convey neural activity to other neurons.\n",
    "\n",
    "**Vesicle**: a spherical container of neurotransmitters.\n",
    "\n",
    "Spike at terminal causes voltage-gated Ca channels to open. Incoming Ca activates proteins that lead to release of vesicles. The defuses to neighboring neuron receptors. It causes neighbor neuron to open its ion channels.\n",
    "\n",
    "**Glial cells**: non-neuron brain cells. Einstein had same neurons, but more glial cells.\n",
    "\n",
    "#### 1.2.2 The Circuit Level\n",
    "\n",
    "**Connectome**: the complete circuit diagram, in terms of neurons and connections, of entirity or a region of a CNS. Connectome of simple creatures like lobsters have been mapped.\n",
    "\n",
    "**CNS**: areas with significant neural processing: brain, spinal cord, retina.\n",
    "\n",
    "#### 1.2.3 The Regional Level\n",
    "\n",
    "**Cerebral cortex**: upper, outer surface of mammalian brains, that is highly folded in humans.\n",
    "\n",
    "**Topographic map**: brain area where neurons are organized and directly related to the arrangement of different stimulus features to which they respond.\n"
   ]
  },
  {
   "cell_type": "markdown",
   "metadata": {},
   "source": [
    "### 1.3 Physics of Electrical Circuits\n"
   ]
  },
  {
   "cell_type": "markdown",
   "metadata": {},
   "source": [
    "### 1.4 "
   ]
  },
  {
   "cell_type": "markdown",
   "metadata": {},
   "source": [
    "### 1.5 Computing and Matlab"
   ]
  },
  {
   "cell_type": "code",
   "execution_count": 4,
   "metadata": {
    "vscode": {
     "languageId": "plaintext"
    }
   },
   "outputs": [
    {
     "data": {
      "text/html": [
       "<html><body><pre>c = 7</pre></body></html>"
      ],
      "text/plain": [
       "c = 7"
      ]
     },
     "execution_count": 4,
     "metadata": {},
     "output_type": "execute_result"
    },
    {
     "data": {
      "text/html": [
       "<html><body><pre>ans = 6</pre></body></html>"
      ],
      "text/plain": [
       "ans = 6"
      ]
     },
     "execution_count": 4,
     "metadata": {},
     "output_type": "execute_result"
    },
    {
     "data": {
      "text/html": [
       "<html><body><pre>MP = 5x2 double\n",
       "     1     2\n",
       "     3     4\n",
       "     5     6\n",
       "     7     8\n",
       "     9    10\n",
       "</pre></body></html>"
      ],
      "text/plain": [
       "MP = 5x2 double\n",
       "     1     2\n",
       "     3     4\n",
       "     5     6\n",
       "     7     8\n",
       "     9    10\n"
      ]
     },
     "execution_count": 4,
     "metadata": {},
     "output_type": "execute_result"
    }
   ],
   "source": [
    "a = [1 3 5 7 9];\n",
    "b = 2 * a;\n",
    "c = a(4)\n",
    "\n",
    "M = [1 3 5 7 9; 2 4 6 8 10];\n",
    "M(2,3)\n",
    "\n",
    "MP = M'"
   ]
  },
  {
   "cell_type": "markdown",
   "metadata": {},
   "source": [
    "#### 1.5.3 Allocation of Memory"
   ]
  },
  {
   "cell_type": "code",
   "execution_count": 39,
   "metadata": {},
   "outputs": [
    {
     "data": {
      "text/html": [
       "<html><body><pre>A = 5x5 double\n",
       "     0     0     0     0     0\n",
       "     0     0     0     0     0\n",
       "     0     0     0     0     0\n",
       "     0     0     0     0     0\n",
       "     0     0     0     0     0\n",
       "</pre></body></html>"
      ],
      "text/plain": [
       "A = 5x5 double\n",
       "     0     0     0     0     0\n",
       "     0     0     0     0     0\n",
       "     0     0     0     0     0\n",
       "     0     0     0     0     0\n",
       "     0     0     0     0     0\n"
      ]
     },
     "execution_count": 39,
     "metadata": {},
     "output_type": "execute_result"
    },
    {
     "data": {
      "text/html": [
       "<html><body><pre>B = 4x2 double\n",
       "    0.2499    0.2968\n",
       "    0.8503    0.4017\n",
       "    0.0569    0.3732\n",
       "    0.0774    0.7373\n",
       "</pre></body></html>"
      ],
      "text/plain": [
       "B = 4x2 double\n",
       "    0.2499    0.2968\n",
       "    0.8503    0.4017\n",
       "    0.0569    0.3732\n",
       "    0.0774    0.7373\n"
      ]
     },
     "execution_count": 39,
     "metadata": {},
     "output_type": "execute_result"
    },
    {
     "data": {
      "text/html": [
       "<html><body><pre>C = 3x3 double\n",
       "     1     0     0\n",
       "     0     1     0\n",
       "     0     0     1\n",
       "</pre></body></html>"
      ],
      "text/plain": [
       "C = 3x3 double\n",
       "     1     0     0\n",
       "     0     1     0\n",
       "     0     0     1\n"
      ]
     },
     "execution_count": 39,
     "metadata": {},
     "output_type": "execute_result"
    },
    {
     "data": {
      "text/html": [
       "<html><body><pre>D = 2x5 double\n",
       "     1     1     1     1     1\n",
       "     1     1     1     1     1\n",
       "</pre></body></html>"
      ],
      "text/plain": [
       "D = 2x5 double\n",
       "     1     1     1     1     1\n",
       "     1     1     1     1     1\n"
      ]
     },
     "execution_count": 39,
     "metadata": {},
     "output_type": "execute_result"
    },
    {
     "data": {
      "text/html": [
       "<html><body><pre>E = 1</pre></body></html>"
      ],
      "text/plain": [
       "E = 1"
      ]
     },
     "execution_count": 39,
     "metadata": {},
     "output_type": "execute_result"
    },
    {
     "data": {
      "text/html": [
       "<html><body><pre>E = 1x3 double\n",
       "     1     0     2\n",
       "</pre></body></html>"
      ],
      "text/plain": [
       "E = 1x3 double\n",
       "     1     0     2\n"
      ]
     },
     "execution_count": 39,
     "metadata": {},
     "output_type": "execute_result"
    }
   ],
   "source": [
    "A = zeros(5) %Creates square\n",
    "B = rand(4, 2)\n",
    "C = eye(3)\n",
    "D = ones(2,5)\n",
    "\n",
    "% Add element later\n",
    "E = [];\n",
    "E(end+1) = 1\n",
    "E(end+2) = 2"
   ]
  },
  {
   "cell_type": "markdown",
   "metadata": {},
   "source": [
    "#### 1.5.4 Using Colon (:)"
   ]
  },
  {
   "cell_type": "code",
   "execution_count": 41,
   "metadata": {},
   "outputs": [
    {
     "data": {
      "text/html": [
       "<html><body><pre>y = 1x5 double\n",
       "     1     2     3     4     5\n",
       "</pre></body></html>"
      ],
      "text/plain": [
       "y = 1x5 double\n",
       "     1     2     3     4     5\n"
      ]
     },
     "execution_count": 41,
     "metadata": {},
     "output_type": "execute_result"
    },
    {
     "data": {
      "text/html": [
       "<html><body><pre>z = 1x5 double\n",
       "     1     3     5     7     9\n",
       "</pre></body></html>"
      ],
      "text/plain": [
       "z = 1x5 double\n",
       "     1     3     5     7     9\n"
      ]
     },
     "execution_count": 41,
     "metadata": {},
     "output_type": "execute_result"
    },
    {
     "data": {
      "text/html": [
       "<html><body><pre>x = 1x3 double\n",
       "     3     5     7\n",
       "</pre></body></html>"
      ],
      "text/plain": [
       "x = 1x3 double\n",
       "     3     5     7\n"
      ]
     },
     "execution_count": 41,
     "metadata": {},
     "output_type": "execute_result"
    },
    {
     "data": {
      "text/html": [
       "<html><body><pre>F = 3x5 double\n",
       "     1     2     3     4     5\n",
       "     6     7     8     9    10\n",
       "    11    12    13    14    15\n",
       "</pre></body></html>"
      ],
      "text/plain": [
       "F = 3x5 double\n",
       "     1     2     3     4     5\n",
       "     6     7     8     9    10\n",
       "    11    12    13    14    15\n"
      ]
     },
     "execution_count": 41,
     "metadata": {},
     "output_type": "execute_result"
    },
    {
     "data": {
      "text/html": [
       "<html><body><pre>G = 2x3 double\n",
       "     7     8     9\n",
       "    12    13    14\n",
       "</pre></body></html>"
      ],
      "text/plain": [
       "G = 2x3 double\n",
       "     7     8     9\n",
       "    12    13    14\n"
      ]
     },
     "execution_count": 41,
     "metadata": {},
     "output_type": "execute_result"
    },
    {
     "data": {
      "text/html": [
       "<html><body><pre>H = 1x5 double\n",
       "     6     7     8     9    10\n",
       "</pre></body></html>"
      ],
      "text/plain": [
       "H = 1x5 double\n",
       "     6     7     8     9    10\n"
      ]
     },
     "execution_count": 41,
     "metadata": {},
     "output_type": "execute_result"
    }
   ],
   "source": [
    "y = 1:5    % unlike python, matlab lists are inclusive\n",
    "z = 1:2:10\n",
    "x = z(2:4)\n",
    "F = [1:5;6:10;11:15]\n",
    "G = F(2:3,2:4)\n",
    "H = F(2,:)\n"
   ]
  },
  {
   "cell_type": "code",
   "execution_count": 44,
   "metadata": {},
   "outputs": [
    {
     "data": {
      "text/html": [
       "<html><body><pre>A = 1x100 double\n",
       "   100    99    98    97    96    95    94    93    92    91    90    89    88    87    86    85    84    83    82    81    80    79    78    77    76    75    74    73    72    71\n",
       "...</pre></body></html>"
      ],
      "text/plain": [
       "A = 1x100 double\n",
       "   100    99    98    97    96    95    94    93    92    91    90    89    88    87    86    85    84    83    82    81    80    79    78    77    76    75    74    73    72    71\n",
       "..."
      ]
     },
     "execution_count": 44,
     "metadata": {},
     "output_type": "execute_result"
    },
    {
     "data": {
      "text/html": [
       "<html><body><pre>B = 10x10 double\n",
       "     5    -3    -3    -3    -3    -3    -3    -3    -3    -3\n",
       "    -3     5    -3    -3    -3    -3    -3    -3    -3    -3\n",
       "    -3    -3     5    -3    -3    -3    -3    -3    -3    -3\n",
       "    -3    -3    -3     5    -3    -3    -3    -3    -3    -3\n",
       "    -3    -3    -3    -3     5    -3    -3    -3    -3    -3\n",
       "    -3    -3    -3    -3    -3     5    -3    -3    -3    -3\n",
       "    -3    -3    -3    -3    -3    -3     5    -3    -3    -3\n",
       "    -3    -3    -3    -3    -3    -3    -3     5    -3    -3\n",
       "    -3    -3    -3    -3    -3    -3    -3    -3     5    -3\n",
       "    -3    -3    -3    -3    -3    -3    -3    -3    -3     5\n",
       "</pre></body></html>"
      ],
      "text/plain": [
       "B = 10x10 double\n",
       "     5    -3    -3    -3    -3    -3    -3    -3    -3    -3\n",
       "    -3     5    -3    -3    -3    -3    -3    -3    -3    -3\n",
       "    -3    -3     5    -3    -3    -3    -3    -3    -3    -3\n",
       "    -3    -3    -3     5    -3    -3    -3    -3    -3    -3\n",
       "    -3    -3    -3    -3     5    -3    -3    -3    -3    -3\n",
       "    -3    -3    -3    -3    -3     5    -3    -3    -3    -3\n",
       "    -3    -3    -3    -3    -3    -3     5    -3    -3    -3\n",
       "    -3    -3    -3    -3    -3    -3    -3     5    -3    -3\n",
       "    -3    -3    -3    -3    -3    -3    -3    -3     5    -3\n",
       "    -3    -3    -3    -3    -3    -3    -3    -3    -3     5\n"
      ]
     },
     "execution_count": 44,
     "metadata": {},
     "output_type": "execute_result"
    },
    {
     "data": {
      "text/html": [
       "<html><body><pre>C = 5x3 double\n",
       "   12.5709   19.8374   19.2119\n",
       "   11.9259   12.3780   13.5237\n",
       "   17.8184   15.1704   16.4291\n",
       "   10.8928   13.5566   17.8017\n",
       "   15.2794   13.1238   19.2649\n",
       "</pre></body></html>"
      ],
      "text/plain": [
       "C = 5x3 double\n",
       "   12.5709   19.8374   19.2119\n",
       "   11.9259   12.3780   13.5237\n",
       "   17.8184   15.1704   16.4291\n",
       "   10.8928   13.5566   17.8017\n",
       "   15.2794   13.1238   19.2649\n"
      ]
     },
     "execution_count": 44,
     "metadata": {},
     "output_type": "execute_result"
    },
    {
     "data": {
      "text/html": [
       "<html><body><pre>D = 1x20 double\n",
       "    2.3684    2.5807    2.1734    2.5606    2.9449    2.6075    2.0306    2.4110    2.6012    2.2564    2.7488    2.2295    2.5872    2.6654    2.7374   -1.8673   -1.8815   -1.9972   -1.0831   -1.9267\n",
       "</pre></body></html>"
      ],
      "text/plain": [
       "D = 1x20 double\n",
       "    2.3684    2.5807    2.1734    2.5606    2.9449    2.6075    2.0306    2.4110    2.6012    2.2564    2.7488    2.2295    2.5872    2.6654    2.7374   -1.8673   -1.8815   -1.9972   -1.0831   -1.9267\n"
      ]
     },
     "execution_count": 44,
     "metadata": {},
     "output_type": "execute_result"
    }
   ],
   "source": [
    "% Create a row vector of 1-100 in reverse order\n",
    "A = [100:-1:1]\n",
    "\n",
    "% Create a 10X10 matrix with the number 5 for all diagonal entries and the number -3 for all off-diagonal entries\n",
    "B = 8*eye(10)-3\n",
    "\n",
    "% Create a 5X3 matrix comprising random numbers selected uniformly from the range 10 to 20.\n",
    "C = 10*rand(5,3)+10\n",
    "\n",
    "% Create a vector of length 20, whose first 15 numbers are randomly chosen between 2 and 3, and whose last 5 numbers are randomly chosen between -1 and -2.\n",
    "D = rand(1,20);\n",
    "D(1:15) = D(1:15)+2;\n",
    "D(16:20) = D(16:20)-2;\n",
    "D"
   ]
  },
  {
   "cell_type": "markdown",
   "metadata": {},
   "source": [
    "#### 1.5.5 Saving Work"
   ]
  },
  {
   "cell_type": "code",
   "execution_count": 50,
   "metadata": {},
   "outputs": [
    {
     "name": "stdout",
     "output_type": "stream",
     "text": [
      "/home/sunzid/Study/Course/Biology/Introductory_Computatiaonal_Neuroscience\n"
     ]
    }
   ],
   "source": [
    "cd ~/Study/Course/Biology/Introductory_Computatiaonal_Neuroscience\n",
    "disp(pwd)\n",
    "save data_1_5_6\n",
    "load data_1_5_6"
   ]
  },
  {
   "cell_type": "markdown",
   "metadata": {},
   "source": [
    "#### 1.5.6 Plotting Graphs\n",
    "Minimum: title, xlabel, ylabel."
   ]
  },
  {
   "cell_type": "code",
   "execution_count": 1,
   "metadata": {
    "scrolled": true
   },
   "outputs": [
    {
     "data": {
      "image/png": "[encoded data removed]"
     },
     "execution_count": 1,
     "metadata": {},
     "output_type": "execute_result"
    },
    {
     "data": {
      "image/png": "[encoded data removed]"
     },
     "execution_count": 1,
     "metadata": {},
     "output_type": "execute_result"
    }
   ],
   "source": [
    "g = [0:4];\n",
    "h = [0:4].^2;\n",
    "\n",
    "plot(g,h)\n",
    "\n",
    "plot(g,h,'x')"
   ]
  },
  {
   "cell_type": "code",
   "execution_count": 2,
   "metadata": {},
   "outputs": [
    {
     "data": {
      "image/png": "[encoded data removed]"
     },
     "execution_count": 2,
     "metadata": {},
     "output_type": "execute_result"
    }
   ],
   "source": [
    "plot(g,h)\n",
    "hold on\n",
    "plot(g,h,'x')"
   ]
  },
  {
   "cell_type": "code",
   "execution_count": 8,
   "metadata": {},
   "outputs": [
    {
     "data": {
      "image/png": "[encoded data removed]"
     },
     "execution_count": 8,
     "metadata": {},
     "output_type": "execute_result"
    }
   ],
   "source": [
    "% Plot y=3x for x from -5 to +5 with steps of 0.1. Plot y=4x on the same graph. Add axes labels and legend.\n",
    "x = -5:0.1:5;\n",
    "y = 3*x;\n",
    "plot(x,y);\n",
    "\n",
    "hold on\n",
    "y = 4 * x;\n",
    "plot(x,y);\n",
    "\n",
    "xlabel('x');\n",
    "ylabel('y');\n",
    "legend('x','y');\n"
   ]
  },
  {
   "cell_type": "code",
   "execution_count": null,
   "metadata": {},
   "outputs": [],
   "source": [
    "x = -3:0.1:3;\n",
    "y = x.^2-3;\n",
    "\n",
    "plot(x,y)"
   ]
  },
  {
   "cell_type": "markdown",
   "metadata": {},
   "source": [
    "#### 1.5.7 Vector and Matrix Operations in Matlab"
   ]
  },
  {
   "cell_type": "code",
   "execution_count": 1,
   "metadata": {},
   "outputs": [
    {
     "data": {
      "text/html": [
       "<html><body><pre>b = 1x5 double\n",
       "     6     7     8     9    10\n",
       "</pre></body></html>"
      ],
      "text/plain": [
       "b = 1x5 double\n",
       "     6     7     8     9    10\n"
      ]
     },
     "execution_count": 1,
     "metadata": {},
     "output_type": "execute_result"
    },
    {
     "data": {
      "text/html": [
       "<html><body><pre>c = 1x5 double\n",
       "     7     9    11    13    15\n",
       "</pre></body></html>"
      ],
      "text/plain": [
       "c = 1x5 double\n",
       "     7     9    11    13    15\n"
      ]
     },
     "execution_count": 1,
     "metadata": {},
     "output_type": "execute_result"
    },
    {
     "data": {
      "text/html": [
       "<html><body><pre>d = 1x5 double\n",
       "     5     5     5     5     5\n",
       "</pre></body></html>"
      ],
      "text/plain": [
       "d = 1x5 double\n",
       "     5     5     5     5     5\n"
      ]
     },
     "execution_count": 1,
     "metadata": {},
     "output_type": "execute_result"
    },
    {
     "data": {
      "text/html": [
       "<html><body><pre>e = 1x5 double\n",
       "     6    14    24    36    50\n",
       "</pre></body></html>"
      ],
      "text/plain": [
       "e = 1x5 double\n",
       "     6    14    24    36    50\n"
      ]
     },
     "execution_count": 1,
     "metadata": {},
     "output_type": "execute_result"
    },
    {
     "data": {
      "text/html": [
       "<html><body><pre>f = 1x5 double\n",
       "    6.0000    3.5000    2.6667    2.2500    2.0000\n",
       "</pre></body></html>"
      ],
      "text/plain": [
       "f = 1x5 double\n",
       "    6.0000    3.5000    2.6667    2.2500    2.0000\n"
      ]
     },
     "execution_count": 1,
     "metadata": {},
     "output_type": "execute_result"
    },
    {
     "data": {
      "text/html": [
       "<html><body><pre>g = 1x5 double\n",
       "     1     4     9    16    25\n",
       "</pre></body></html>"
      ],
      "text/plain": [
       "g = 1x5 double\n",
       "     1     4     9    16    25\n"
      ]
     },
     "execution_count": 1,
     "metadata": {},
     "output_type": "execute_result"
    },
    {
     "data": {
      "text/html": [
       "<html><body><pre>ans = 130</pre></body></html>"
      ],
      "text/plain": [
       "ans = 130"
      ]
     },
     "execution_count": 1,
     "metadata": {},
     "output_type": "execute_result"
    },
    {
     "data": {
      "text/html": [
       "<html><body><pre>ans = 5x5 double\n",
       "     6     7     8     9    10\n",
       "    12    14    16    18    20\n",
       "    18    21    24    27    30\n",
       "    24    28    32    36    40\n",
       "    30    35    40    45    50\n",
       "</pre></body></html>"
      ],
      "text/plain": [
       "ans = 5x5 double\n",
       "     6     7     8     9    10\n",
       "    12    14    16    18    20\n",
       "    18    21    24    27    30\n",
       "    24    28    32    36    40\n",
       "    30    35    40    45    50\n"
      ]
     },
     "execution_count": 1,
     "metadata": {},
     "output_type": "execute_result"
    }
   ],
   "source": [
    "a = [1 2 3 4 5];\n",
    "b = [6 7 8 9 10]\n",
    "c = a+b\n",
    "d = b-a\n",
    "\n",
    "e = a.*b\n",
    "f = b./a\n",
    "g = a.^2\n",
    "\n",
    "a*b'\n",
    "a'*b"
   ]
  },
  {
   "cell_type": "markdown",
   "metadata": {},
   "source": [
    "#### 1.5.8 Conditionals"
   ]
  },
  {
   "cell_type": "code",
   "execution_count": 3,
   "metadata": {},
   "outputs": [
    {
     "name": "stdout",
     "output_type": "stream",
     "text": [
      "    -1\n",
      "\n",
      "     2\n",
      "\n",
      "     2\n",
      "\n",
      "     2\n",
      "\n"
     ]
    }
   ],
   "source": [
    "b = tan(27);\n",
    "if (b > 1)\n",
    " b = 1;\n",
    " d = 1;\n",
    " e = 1;\n",
    "else\n",
    " if (b < -1)\n",
    " b = -1;\n",
    " e = 2;\n",
    " else\n",
    " b = b*b;\n",
    " e = 3;\n",
    " end\n",
    " d = 2;\n",
    "end\n",
    "c = 2;\n",
    "\n",
    "disp(b)\n",
    "disp(c)\n",
    "disp(d)\n",
    "disp(e)"
   ]
  },
  {
   "cell_type": "code",
   "execution_count": 17,
   "metadata": {},
   "outputs": [
    {
     "data": {
      "image/png": "[encoded data removed]"
     },
     "execution_count": 17,
     "metadata": {},
     "output_type": "execute_result"
    },
    {
     "name": "stdout",
     "output_type": "stream",
     "text": [
      "6^(1/3) > 3^(1/2\n"
     ]
    }
   ],
   "source": [
    "% plot rectified sine wave from -pi to pi.\n",
    "x = -pi:0.1:pi;\n",
    "y = (sin(x).^2).^.5;\n",
    "plot(x,y)\n",
    "\n",
    "% 6 is greater than square root of 3\n",
    "if (6^(1/3) > 3^(1/2))\n",
    " disp(\"6^(1/3) > 3^(1/2\");\n",
    " end"
   ]
  },
  {
   "cell_type": "markdown",
   "metadata": {},
   "source": [
    "#### 1.5.9 Loops"
   ]
  },
  {
   "cell_type": "code",
   "execution_count": 23,
   "metadata": {},
   "outputs": [
    {
     "data": {
      "text/html": [
       "<html><body><pre>ans = 1</pre></body></html>"
      ],
      "text/plain": [
       "ans = 1"
      ]
     },
     "execution_count": 23,
     "metadata": {},
     "output_type": "execute_result"
    },
    {
     "data": {
      "text/html": [
       "<html><body><pre>ans = 4</pre></body></html>"
      ],
      "text/plain": [
       "ans = 4"
      ]
     },
     "execution_count": 23,
     "metadata": {},
     "output_type": "execute_result"
    },
    {
     "data": {
      "text/html": [
       "<html><body><pre>ans = 9</pre></body></html>"
      ],
      "text/plain": [
       "ans = 9"
      ]
     },
     "execution_count": 23,
     "metadata": {},
     "output_type": "execute_result"
    },
    {
     "data": {
      "text/html": [
       "<html><body><pre>ans = 16</pre></body></html>"
      ],
      "text/plain": [
       "ans = 16"
      ]
     },
     "execution_count": 23,
     "metadata": {},
     "output_type": "execute_result"
    },
    {
     "data": {
      "text/html": [
       "<html><body><pre>ans = 25</pre></body></html>"
      ],
      "text/plain": [
       "ans = 25"
      ]
     },
     "execution_count": 23,
     "metadata": {},
     "output_type": "execute_result"
    },
    {
     "data": {
      "text/html": [
       "<html><body><pre>ans = 1</pre></body></html>"
      ],
      "text/plain": [
       "ans = 1"
      ]
     },
     "execution_count": 23,
     "metadata": {},
     "output_type": "execute_result"
    },
    {
     "data": {
      "text/html": [
       "<html><body><pre>ans = 4</pre></body></html>"
      ],
      "text/plain": [
       "ans = 4"
      ]
     },
     "execution_count": 23,
     "metadata": {},
     "output_type": "execute_result"
    },
    {
     "data": {
      "text/html": [
       "<html><body><pre>ans = 9</pre></body></html>"
      ],
      "text/plain": [
       "ans = 9"
      ]
     },
     "execution_count": 23,
     "metadata": {},
     "output_type": "execute_result"
    },
    {
     "data": {
      "text/html": [
       "<html><body><pre>ans = 16</pre></body></html>"
      ],
      "text/plain": [
       "ans = 16"
      ]
     },
     "execution_count": 23,
     "metadata": {},
     "output_type": "execute_result"
    },
    {
     "data": {
      "text/html": [
       "<html><body><pre>ans = 25</pre></body></html>"
      ],
      "text/plain": [
       "ans = 25"
      ]
     },
     "execution_count": 23,
     "metadata": {},
     "output_type": "execute_result"
    },
    {
     "data": {
      "text/html": [
       "<html><body><pre>i = 32</pre></body></html>"
      ],
      "text/plain": [
       "i = 32"
      ]
     },
     "execution_count": 23,
     "metadata": {},
     "output_type": "execute_result"
    }
   ],
   "source": [
    "for A = [1 2 3 4 5],\n",
    "  A*A,\n",
    "end;\n",
    "\n",
    "for A = 1:5,\n",
    "  A*A,\n",
    "end;\n",
    "\n",
    "% min value with square greater than 1000\n",
    "i = 1;\n",
    "while (i*i < 1000),\n",
    "  i = i + 1;\n",
    "end;\n",
    "display(i);"
   ]
  },
  {
   "cell_type": "code",
   "execution_count": 32,
   "metadata": {},
   "outputs": [
    {
     "name": "stdout",
     "output_type": "stream",
     "text": [
      "       14400\n",
      "\n",
      "    17\n",
      "\n",
      "       88740\n",
      "\n"
     ]
    }
   ],
   "source": [
    "% Sum all cubed positive integers up to 15^3\n",
    "B = 0;\n",
    "for A = 1:15,\n",
    "  B = B + A^3;\n",
    "end;\n",
    "disp(B);\n",
    "\n",
    "% Find n such that n + n^2 + n^3 + n^4 == 88740\n",
    "\n",
    "n = 1;\n",
    "while (n + n^2 + n^3 + n^4 < 88740),\n",
    " n = n + 1;\n",
    "end;\n",
    "disp(n);\n",
    "disp(n + n^2 + n^3 + n^4);"
   ]
  },
  {
   "cell_type": "markdown",
   "metadata": {},
   "source": [
    "#### 1.5.10 Function"
   ]
  },
  {
   "cell_type": "code",
   "execution_count": 34,
   "metadata": {},
   "outputs": [],
   "source": [
    "function y = square_cube_sum(x)\n",
    "  y = x^2 + x^3;\n",
    "end"
   ]
  },
  {
   "cell_type": "code",
   "execution_count": 39,
   "metadata": {},
   "outputs": [
    {
     "data": {
      "text/html": [
       "<html><body><pre>c = 537</pre></body></html>"
      ],
      "text/plain": [
       "c = 537"
      ]
     },
     "execution_count": 39,
     "metadata": {},
     "output_type": "execute_result"
    },
    {
     "data": {
      "text/html": [
       "<html><body><pre>d = 487</pre></body></html>"
      ],
      "text/plain": [
       "d = 487"
      ]
     },
     "execution_count": 39,
     "metadata": {},
     "output_type": "execute_result"
    }
   ],
   "source": [
    "addpath('~/Study/Course/Biology/Introductory_Computatiaonal_Neuroscience/Functions')\n",
    "\n",
    "[c d] = square_cube_sum2(5,8)"
   ]
  },
  {
   "cell_type": "code",
   "execution_count": 1,
   "metadata": {
    "editable": true,
    "slideshow": {
     "slide_type": ""
    },
    "tags": []
   },
   "outputs": [
    {
     "data": {
      "text/html": [
       "<html><body><pre>sum = 11374</pre></body></html>"
      ],
      "text/plain": [
       "sum = 11374"
      ]
     },
     "execution_count": 1,
     "metadata": {},
     "output_type": "execute_result"
    },
    {
     "data": {
      "text/html": [
       "<html><body><pre>mean = 32</pre></body></html>"
      ],
      "text/plain": [
       "mean = 32"
      ]
     },
     "execution_count": 1,
     "metadata": {},
     "output_type": "execute_result"
    },
    {
     "data": {
      "text/html": [
       "<html><body><pre>mode = 27</pre></body></html>"
      ],
      "text/plain": [
       "mode = 27"
      ]
     },
     "execution_count": 1,
     "metadata": {},
     "output_type": "execute_result"
    },
    {
     "data": {
      "text/html": [
       "<html><body><pre>median = 32</pre></body></html>"
      ],
      "text/plain": [
       "median = 32"
      ]
     },
     "execution_count": 1,
     "metadata": {},
     "output_type": "execute_result"
    }
   ],
   "source": [
    "% function that takes vector, outputs sum of square of its elements.\n",
    "addpath('~/Study/Course/Biology/Introductory_Computatiaonal_Neuroscience/Functions')\n",
    "\n",
    "x = 27:37;\n",
    "\n",
    "[sum] = sol_14a_vector_square_sum(x)\n",
    "\n",
    "[mean mode median] = sol_14b_vector_MeanModeMedian(x)"
   ]
  },
  {
   "cell_type": "markdown",
   "metadata": {},
   "source": [
    "#### 1.5.11 Some Operations Useful for Modeling Neurons"
   ]
  },
  {
   "cell_type": "code",
   "execution_count": null,
   "metadata": {},
   "outputs": [],
   "source": [
    "% threshold_find.m\n",
    "clear\n",
    "thres = 2;\n",
    "tmax = 10;\n",
    "tvector = 0:0.001:tmax;\n",
    "Nt = length(tvector);\n",
    "tanval = zeros(size(tvector));        % to store tan of tvector\n",
    "findhigh = zeros(size(tvector));      % stores when tan > thres\n",
    "\n",
    "for i=1:Nt                            % for all values of tvector\n",
    "  tanval(i) = tan(2*pi*tvector(i));    % set tangent of t\n",
    "  if (tanval(i) > thresh)                % if tan is high\n",
    "  findhigh(i) = 1;                      % store value of t\n",
    "  end\n",
    "end\n",
    "\n",
    "%% Now plot the results\n",
    "figure(1);\n",
    "subplot(2,1,1);\n",
    "plot(tvector, tanval);                % plot tan(2.pi.t) vs t\n",
    "axis([0 tmax -5 5]);\n",
    "subplot(2,1,2);\n",
    "plot(tvector,findhigh);               % plot t where tan(2.pi.t) > 2\n",
    "axis(0 tmax -0.5 1.5]);\n",
    "\n",
    "%% We can color the portions corresponding to findhigh = 1 using MATLAB's find command, which extracts the indices of he non-zero entries of a matrix:\n",
    "highindices = find(findhigh);         % indices above threshold\n",
    "subplot(2,1,1);\n",
    "hold on\n",
    "plot(tvector(highindices), tanval(highindices, 'r.');"
   ]
  },
  {
   "cell_type": "code",
   "execution_count": null,
   "metadata": {},
   "outputs": [],
   "source": [
    "% threshold_find2.m\n",
    "clear\n",
    "thresh = 2;\n",
    "tmax = 10;\n",
    "tvector = 0:0.001:tmax;\n",
    "Nt = length(tvector);\n",
    "tanval = tan(tvector);     % operates on all values at once\n",
    "findhigh = tanval>thresh;  % gives 1 or 0 for all entries\n",
    "\n",
    "%% Now plot the results\n",
    "figure(1);\n",
    "clf                        % clears figure for a new plot\n",
    "subplot(2,1,1);\n",
    "plot(tvector,tanval);\n",
    "axis([0 tmax -5 5]);\n",
    "subplot(2,1,2);\n",
    "plot(tvector,findhigh);\n",
    "axis([0 tmax -0.1 1.1]);"
   ]
  },
  {
   "cell_type": "markdown",
   "metadata": {},
   "source": [
    "#### 1.5.12 Good Coding Practice"
   ]
  },
  {
   "cell_type": "markdown",
   "metadata": {},
   "source": [
    "If the algorithm, seed for random number generator is saved, same input will generate same output after simulation.\n",
    "\n",
    "1. Whenever you change a code, always assume you will want to run the prior version.\n",
    "2. Whenever you run a code, assume you'll want to obtain that result again one day. Save specific code, parameters, results in a directory. For\n",
    "example, if $G_L$, $V^th$, and $V_reset$ are the parameters that get altered different times a code is run, one could create a filename:\n",
    "\n",
    "filename = strcat(LIF_GL',num2str(G_L),'_Vth',num2str(V_th), …'_Vreset',num2str(V_reset),'.mat');\n",
    "save(filename)\n",
    "\n",
    "3. Always write a code assuming it contains bugs that need to be found. Modularize code with functions. Test function outputs to check if it behaves as intended.\n",
    "4. Always write code assuming that ohters will need to understand how it operates. Even if you come back to the code later, you'll forget the intention behind decisions. Use intention revealing variable names."
   ]
  },
  {
   "cell_type": "markdown",
   "metadata": {},
   "source": [
    "#### 1.6 Solving Ordinary Differential Equations (ODE)"
   ]
  },
  {
   "cell_type": "markdown",
   "metadata": {},
   "source": [
    "#### 1.6.2 Simulating ODEs with MATLAB"
   ]
  },
  {
   "cell_type": "code",
   "execution_count": null,
   "metadata": {},
   "outputs": [],
   "source": [
    "% test_euler.m\n",
    "clear\n",
    "x0 = 2;                     % the first value of x, the variable\n",
    "t0 = 0;                     % the first value of time to be used\n",
    "dt = 0.001;                 % the time step for simulations\n",
    "tmax = 20;                  % the maximum time used\n",
    "tvec = t0:dt:tmax;          % creates a vector of time points\n",
    "xvec = zeros(size(tvec));   % creates vector of same size\n",
    "x(1) = x0;                  % value of x at t=0, as\n",
    "tvec(1)=0\n",
    "for i = 2:length(tvec)      % loop through time points\n",
    " tval = tvec(i);             % value of time\n",
    " dxdt = 2*sin(0.1*tval*tval); % rate of change of x,\n",
    " dx/dt\n",
    " x(i) = x(i-1) + dt*dxdt;   % update of x (Forward Euler)\n",
    " end\n",
    "plot(tvec,x);               % plot x against t"
   ]
  }
 ],
 "metadata": {
  "kernelspec": {
   "display_name": "MATLAB Kernel",
   "language": "matlab",
   "name": "jupyter_matlab_kernel"
  },
  "language_info": {
   "file_extension": ".m",
   "mimetype": "text/x-matlab",
   "name": "matlab"
  }
 },
 "nbformat": 4,
 "nbformat_minor": 4
}
