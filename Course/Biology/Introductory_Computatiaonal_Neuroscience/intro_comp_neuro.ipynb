{
 "cells": [
  {
   "cell_type": "markdown",
   "metadata": {},
   "source": [
    "### 1.1 Introduction\n",
    "#### 1.1.1 Mathematical Preliminaries\n",
    "**Parameters**: A property of the system that is fixed during an experiment or simulation.\n",
    "\n",
    "**Leak potential**: resting potential.\n",
    "\n",
    "**Leak conductance, $G_L$**: leakiness of charge, inverse of membrane resistance. It increases with surface area of the cell.\n",
    "\n",
    "**Membrane capacitance, $C_m$**: charge storage capacity of cell membrane. Increases with the surface area.\n",
    "\n",
    "### 1.2 The Neuron, the Circuit, and the Brain\n",
    "#### 1.2.1 The Cellular Level\n",
    "**Soma**: the main body of the cell, containing the nucleus.\n",
    "\n",
    "**Process**: part of the cell that's elongated, extending far from the soma.\n",
    "\n",
    "**Dendrites (den)**: input receiver - transfers to soma.\n",
    "\n",
    "**Axon (go on)**: convey neural activity to other neurons.\n",
    "\n",
    "**Vesicle**: a spherical container of neurotransmitters.\n",
    "\n",
    "Spike at terminal causes voltage-gated Ca channels to open. Incoming Ca activates proteins that lead to release of vesicles. The defuses to neighboring neuron receptors. It causes neighbor neuron to open its ion channels.\n",
    "\n",
    "**Glial cells**: non-neuron brain cells. Einstein had same neurons, but more glial cells.\n",
    "\n",
    "#### 1.2.2 The Circuit Level\n",
    "\n",
    "**Connectome**: the complete circuit diagram, in terms of neurons and connections, of entirity or a region of a CNS. Connectome of simple creatures like lobsters have been mapped.\n",
    "\n",
    "**CNS**: areas with significant neural processing: brain, spinal cord, retina.\n",
    "\n",
    "#### 1.2.3 The Regional Level\n",
    "\n",
    "**Cerebral cortex**: upper, outer surface of mammalian brains, that is highly folded in humans.\n",
    "\n",
    "**Topographic map**: brain area where neurons are organized and directly related to the arrangement of different stimulus features to which they respond.\n",
    "\n",
    "### 1.3 Physics of Electrical Circuits\n"
   ]
  },
  {
   "cell_type": "code",
   "execution_count": null,
   "metadata": {
    "vscode": {
     "languageId": "plaintext"
    }
   },
   "outputs": [],
   "source": []
  }
 ],
 "metadata": {
  "kernelspec": {
   "display_name": "Python 3 (ipykernel)",
   "language": "python",
   "name": "python3"
  },
  "language_info": {
   "codemirror_mode": {
    "name": "ipython",
    "version": 3
   },
   "file_extension": ".py",
   "mimetype": "text/x-python",
   "name": "python",
   "nbconvert_exporter": "python",
   "pygments_lexer": "ipython3",
   "version": "3.11.7"
  }
 },
 "nbformat": 4,
 "nbformat_minor": 4
}
