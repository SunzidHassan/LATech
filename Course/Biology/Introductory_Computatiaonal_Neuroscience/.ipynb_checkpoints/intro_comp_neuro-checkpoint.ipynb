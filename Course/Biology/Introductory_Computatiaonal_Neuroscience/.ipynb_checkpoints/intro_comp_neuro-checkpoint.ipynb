{
 "cells": [
  {
   "cell_type": "markdown",
   "metadata": {},
   "source": [
    "### 1.1 Introduction\n",
    "#### 1.1.1 Mathematical Preliminaries\n",
    "**Parameters**: A property of the system that is fixed during an experiment or simulation.\n",
    "\n",
    "**Leak potential**: resting potential.\n",
    "\n",
    "**Leak conductance, $G_L$**: leakiness of charge, inverse of membrane resistance. It increases with surface area of the cell.\n",
    "\n",
    "**Membrane capacitance, $C_m$**: charge storage capacity of cell membrane. Increases with the surface area."
   ]
  },
  {
   "cell_type": "markdown",
   "metadata": {},
   "source": [
    "### 1.2 The Neuron, the Circuit, and the Brain\n",
    "#### 1.2.1 The Cellular Level\n",
    "**Soma**: the main body of the cell, containing the nucleus.\n",
    "\n",
    "**Process**: part of the cell that's elongated, extending far from the soma.\n",
    "\n",
    "**Dendrites (den)**: input receiver - transfers to soma.\n",
    "\n",
    "**Axon (go on)**: convey neural activity to other neurons.\n",
    "\n",
    "**Vesicle**: a spherical container of neurotransmitters.\n",
    "\n",
    "Spike at terminal causes voltage-gated Ca channels to open. Incoming Ca activates proteins that lead to release of vesicles. The defuses to neighboring neuron receptors. It causes neighbor neuron to open its ion channels.\n",
    "\n",
    "**Glial cells**: non-neuron brain cells. Einstein had same neurons, but more glial cells.\n",
    "\n",
    "#### 1.2.2 The Circuit Level\n",
    "\n",
    "**Connectome**: the complete circuit diagram, in terms of neurons and connections, of entirity or a region of a CNS. Connectome of simple creatures like lobsters have been mapped.\n",
    "\n",
    "**CNS**: areas with significant neural processing: brain, spinal cord, retina.\n",
    "\n",
    "#### 1.2.3 The Regional Level\n",
    "\n",
    "**Cerebral cortex**: upper, outer surface of mammalian brains, that is highly folded in humans.\n",
    "\n",
    "**Topographic map**: brain area where neurons are organized and directly related to the arrangement of different stimulus features to which they respond.\n"
   ]
  },
  {
   "cell_type": "markdown",
   "metadata": {},
   "source": [
    "### 1.3 Physics of Electrical Circuits\n"
   ]
  },
  {
   "cell_type": "markdown",
   "metadata": {},
   "source": [
    "### 1.4 "
   ]
  },
  {
   "cell_type": "markdown",
   "metadata": {},
   "source": [
    "### 1.5 Computing and Matlab"
   ]
  },
  {
   "cell_type": "code",
   "execution_count": 4,
   "metadata": {
    "vscode": {
     "languageId": "plaintext"
    }
   },
   "outputs": [
    {
     "data": {
      "text/html": [
       "<html><body><pre>c = 7</pre></body></html>"
      ],
      "text/plain": [
       "c = 7"
      ]
     },
     "execution_count": 4,
     "metadata": {},
     "output_type": "execute_result"
    },
    {
     "data": {
      "text/html": [
       "<html><body><pre>ans = 6</pre></body></html>"
      ],
      "text/plain": [
       "ans = 6"
      ]
     },
     "execution_count": 4,
     "metadata": {},
     "output_type": "execute_result"
    },
    {
     "data": {
      "text/html": [
       "<html><body><pre>MP = 5x2 double\n",
       "     1     2\n",
       "     3     4\n",
       "     5     6\n",
       "     7     8\n",
       "     9    10\n",
       "</pre></body></html>"
      ],
      "text/plain": [
       "MP = 5x2 double\n",
       "     1     2\n",
       "     3     4\n",
       "     5     6\n",
       "     7     8\n",
       "     9    10\n"
      ]
     },
     "execution_count": 4,
     "metadata": {},
     "output_type": "execute_result"
    }
   ],
   "source": [
    "a = [1 3 5 7 9];\n",
    "b = 2 * a;\n",
    "c = a(4)\n",
    "\n",
    "M = [1 3 5 7 9; 2 4 6 8 10];\n",
    "M(2,3)\n",
    "\n",
    "MP = M'"
   ]
  },
  {
   "cell_type": "markdown",
   "metadata": {},
   "source": [
    "#### 1.5.3 Allocation of Memory"
   ]
  },
  {
   "cell_type": "code",
   "execution_count": 3,
   "metadata": {},
   "outputs": [
    {
     "data": {
      "text/html": [
       "<html><body><pre>E = 1</pre></body></html>"
      ],
      "text/plain": [
       "E = 1"
      ]
     },
     "execution_count": 3,
     "metadata": {},
     "output_type": "execute_result"
    },
    {
     "data": {
      "text/html": [
       "<html><body><pre>E = 1x3 double\n",
       "     1     0     2\n",
       "</pre></body></html>"
      ],
      "text/plain": [
       "E = 1x3 double\n",
       "     1     0     2\n"
      ]
     },
     "execution_count": 3,
     "metadata": {},
     "output_type": "execute_result"
    }
   ],
   "source": [
    "A = zeros(5); %Creates square\n",
    "B = rand(4, 2);\n",
    "C = eye(3);\n",
    "D = ones(2,5);\n",
    "\n",
    "% Add element later\n",
    "E = [];\n",
    "E(end+1) = 1\n",
    "E(end+2) = 2"
   ]
  },
  {
   "cell_type": "markdown",
   "metadata": {},
   "source": [
    "#### 1.5.4 Using Colon (:)"
   ]
  }
 ],
 "metadata": {
  "kernelspec": {
   "display_name": "MATLAB Kernel",
   "language": "matlab",
   "name": "jupyter_matlab_kernel"
  },
  "language_info": {
   "file_extension": ".m",
   "mimetype": "text/x-matlab",
   "name": "matlab"
  }
 },
 "nbformat": 4,
 "nbformat_minor": 4
}
