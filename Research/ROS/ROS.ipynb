{
 "cells": [
  {
   "cell_type": "code",
   "execution_count": null,
   "metadata": {
    "vscode": {
     "languageId": "shellscript"
    }
   },
   "outputs": [],
   "source": [
    "# setup environment\n",
    "source /opt/ros/noetic/setup.bash # to source setup.bash\n",
    "roscore # to initialize ros master in order to run any node\n",
    "\n",
    "# if we don't want to source setup.bash every time, we can use\n",
    "echo \"source /opt/ros/noetic/setup.bash\" >> ~/.bashrc\n",
    "gedit ~/.bashrc # for checking"
   ]
  },
  {
   "attachments": {},
   "cell_type": "markdown",
   "metadata": {},
   "source": [
    "ROS Nodes\n",
    "Any program that you can create, that do stuff (e.g., print stuff at terminal, etc.), communicate among each other, etc.\n",
    "You can't run same node parallelly"
   ]
  },
  {
   "cell_type": "code",
   "execution_count": null,
   "metadata": {
    "vscode": {
     "languageId": "shellscript"
    }
   },
   "outputs": [],
   "source": [
    "# Nodes are inside packages\n",
    "\n",
    "rosrun rospy_tutorials talker # talker node in rospy_tutorial package\n",
    "rosrun rospy_tutorials listener\n",
    "\n",
    "# in a different terminal for graph\n",
    "rqt_graph"
   ]
  },
  {
   "cell_type": "code",
   "execution_count": null,
   "metadata": {
    "vscode": {
     "languageId": "shellscript"
    }
   },
   "outputs": [],
   "source": [
    "rosrun turtlesim turtlesim_node  # double tap to get the nodes\n",
    "rosrun rospy_tutorials turtle_teleop_key\n",
    "\n",
    "# in a different terminal\n",
    "rqt_graph"
   ]
  },
  {
   "attachments": {},
   "cell_type": "markdown",
   "metadata": {},
   "source": [
    "Catkin workspace for organizing code\n"
   ]
  },
  {
   "cell_type": "code",
   "execution_count": null,
   "metadata": {
    "vscode": {
     "languageId": "shellscript"
    }
   },
   "outputs": [],
   "source": [
    "mkdir catkin_ws # to create the workspace\n",
    "cd catkin_ws #goto the workspace directory\n",
    "mkdir src # create src folder\n",
    "catkin_make #compiling # make sure to do it in the catkin_ws directory, and not in the source directory\n",
    "\n",
    "# sourcing setup.bash of catkin_ws\n",
    "cd # to return to home directory\n",
    "source ~/catkin_ws/devel/setup.bash # everytime we want to work with workspace\n",
    "\n",
    "# auto calling workspace setup.bash\n",
    "gedit ~/.bashrc # and add the catkin_ws setup.bash after the global setup.bash"
   ]
  },
  {
   "attachments": {},
   "cell_type": "markdown",
   "metadata": {},
   "source": [
    "Adding custom nodes in packages"
   ]
  },
  {
   "cell_type": "code",
   "execution_count": null,
   "metadata": {
    "vscode": {
     "languageId": "shellscript"
    }
   },
   "outputs": [],
   "source": [
    "cd ~/catkin_ws/src/\n",
    "catkin_create_pkg my_robot_controller rospy turtlesim geometry_msgs sensor_msgs actionlib move_base_msgs # catkin_create_pkg package_name dependency1 dependency2\n",
    "\n",
    "# from ~/catkin_ws/src/ directory\n",
    "code . # to launch vscode in this folder. You can edit the package.xml to add details before publishing your package.\n",
    "\n",
    "cd .. #return to catkin_ws\n",
    "catkin_make"
   ]
  },
  {
   "cell_type": "code",
   "execution_count": null,
   "metadata": {
    "vscode": {
     "languageId": "shellscript"
    }
   },
   "outputs": [],
   "source": [
    "cd ~/catkin_ws/src/my_robot_controller/ # set directory to my package\n",
    "mkdir scripts # make a script for python code\n",
    "cd scripts/ # set directory to scripts\n",
    "touch my_first_node.py # make the node\n",
    "chmod +x my_first_node.py # make the file executable\n",
    "\n",
    "cd ~/catkin_ws/src/\n",
    "code ."
   ]
  },
  {
   "cell_type": "code",
   "execution_count": null,
   "metadata": {},
   "outputs": [],
   "source": [
    "#!/usr/bin/env python3\n",
    "import rospy\n",
    "\n",
    "if __name__ == '__main__':\n",
    "    rospy.init_node(\"test_node\")\n",
    "\n",
    "    rospy.loginfo(\"Hello from the test node\")\n",
    "    rospy.logwarn(\"This is a warning\")\n",
    "    rospy.logerr(\"This is an error\")\n",
    "    rospy.sleep(1.0)\n",
    "    rospy.loginfo(\"End of program\")"
   ]
  },
  {
   "cell_type": "code",
   "execution_count": null,
   "metadata": {
    "vscode": {
     "languageId": "shellscript"
    }
   },
   "outputs": [],
   "source": [
    "cd catkin_ws/src/my_robot_controller/scripts\n",
    "python3 my_first_node.py\n",
    "\n",
    "#or\n",
    "./my_first_node.py\n",
    "\n",
    "#or\n",
    "cd #goto home directory\n",
    "rosrun my_robot_controller my_first_node.py #rosrun packageName executableName"
   ]
  },
  {
   "cell_type": "code",
   "execution_count": null,
   "metadata": {},
   "outputs": [],
   "source": [
    "#!/usr/bin/env python3\n",
    "import rospy\n",
    "\n",
    "def main():\n",
    "    rospy.init_node(\"test_node\")\n",
    "    rospy.loginfo(\"Test node has been started\")\n",
    "\n",
    "    rate = rospy.Rate(10)\n",
    "\n",
    "    while not rospy.is_shutdown():\n",
    "        rospy.loginfo(\"Hello\")\n",
    "        rate.sleep()\n",
    "\n",
    "if __name__ == '__main__':\n",
    "    try:\n",
    "        main()\n",
    "    except rospy.ROSInterruptException:\n",
    "        pass"
   ]
  },
  {
   "cell_type": "code",
   "execution_count": null,
   "metadata": {
    "vscode": {
     "languageId": "shellscript"
    }
   },
   "outputs": [],
   "source": [
    "rosnode list # to list nodes that are currenly running\n",
    "rosnode kill /test_node # to kill a specific node\n"
   ]
  },
  {
   "attachments": {},
   "cell_type": "markdown",
   "metadata": {},
   "source": [
    "ROS Topic"
   ]
  },
  {
   "cell_type": "code",
   "execution_count": null,
   "metadata": {
    "vscode": {
     "languageId": "shellscript"
    }
   },
   "outputs": [],
   "source": [
    "rosrun rospy_tutorials talker\n",
    "rosrun rospy_tutorials listener # in a different terminal\n",
    "\n",
    "rostopic info /chatter # in a different terminal; to get chatter data type, publisher, subscriber\n",
    "rosmsg show std_msgs/String # \"std_msgs/String\" is the Type output of info /chatter\n",
    "rostopic echo /chatter # gives the topic\n"
   ]
  },
  {
   "cell_type": "code",
   "execution_count": null,
   "metadata": {
    "vscode": {
     "languageId": "shellscript"
    }
   },
   "outputs": [],
   "source": [
    "rosrun turtlesim turtlesim_node\n",
    "rusrun turtlesim draw_square # on a different terminal, the turtle draws square\n",
    "\n",
    "rqt_graph # shows that turtlesim node is publishing its position topic, draw_square is subscribing to it and publishing cmd_vel topic, turtlesim is subscribing it and moving\n",
    "\n",
    "rostopic info /\"Topic_Name\"\n",
    "rosmsg show \"Topic_Type\"\n",
    "rostopic echo /\"TOPIC_NAME\""
   ]
  },
  {
   "attachments": {},
   "cell_type": "markdown",
   "metadata": {},
   "source": [
    "Writing ROS Publisher"
   ]
  },
  {
   "cell_type": "code",
   "execution_count": null,
   "metadata": {},
   "outputs": [],
   "source": [
    "#!/usr/bin/env python3\n",
    "import rospy\n",
    "from geometry_msgs.msg import Twist # import Twist from msg folder of geometry_msgs package\n",
    "# geometry_msgs is a new dependency, that'll have to be added in the package.xml\n",
    "\n",
    "def main():\n",
    "    rospy.init_node(\"draw_circle\")\n",
    "    rospy.loginfo(\"Node has started\")\n",
    "\n",
    "    pub = rospy.Publisher(\"/turtle1/cmd_vel\", Twist, queue_size=10)\n",
    "    # exact name of topic we want to publish. In this case, we can launch turtlesim, run rostopic list, and get /turtle/cmd_vel\n",
    "    # type of topic: rostopic info /turtle1/cmd_vel will output type: geometry_msgs/Twist in this case.\n",
    "    # rosmsg show geometry_msgs/Twist\n",
    "    # queue_size will help msg reception\n",
    "\n",
    "    rate = rospy.Rate(2)\n",
    "\n",
    "    while not rospy.is_shutdown():\n",
    "        msg = Twist()\n",
    "        msg.linear.x = 2.0 # it'll move forward towards x axis with 2 velocity\n",
    "        msg.angular.z = 1.0 # go right\n",
    "\n",
    "        pub.publish(msg) #publish the msg\n",
    "\n",
    "        #publish cmd.vel at 2hz rate\n",
    "        rate.sleep()\n",
    "\n",
    "if __name__ == '__main__':\n",
    "    try:\n",
    "        main()\n",
    "    except rospy.ROSInterruptException:\n",
    "        pass"
   ]
  },
  {
   "cell_type": "code",
   "execution_count": null,
   "metadata": {
    "vscode": {
     "languageId": "shellscript"
    }
   },
   "outputs": [],
   "source": [
    "#make the draw.circle.py executable\n",
    "rosrun my_robot_controller draw_circle.py"
   ]
  },
  {
   "attachments": {},
   "cell_type": "markdown",
   "metadata": {},
   "source": [
    "Writing ROS Subscriber"
   ]
  },
  {
   "cell_type": "code",
   "execution_count": null,
   "metadata": {
    "vscode": {
     "languageId": "shellscript"
    }
   },
   "outputs": [],
   "source": [
    "rosrun turtlesim turtlesim_node\n",
    "\n",
    "# on a new terminal\n",
    "rostopic list # get /turtle1/pose output\n",
    "rostopic info /turtle1/pose\n",
    "\n",
    "# on a new terminal\n",
    "cd catkin_ws/src/my_robot_controller/scripts\n",
    "touch pose_subscribe.py # creates new file\n",
    "chmod +x pose_subscribe.py\n",
    "cd ../.. #go back two files to catkin_ws/src\n",
    "code . # run vscode from here"
   ]
  },
  {
   "cell_type": "code",
   "execution_count": null,
   "metadata": {},
   "outputs": [],
   "source": [
    "#!/usr/bin/env python3\n",
    "import rospy\n",
    "from turtlesim.msg import Pose\n",
    "\n",
    "def pose_callback(msg: Pose):\n",
    "    rospy.loginfo(\"(\" + str(msg.x) + \", \" + str(msg.y) + \")\")\n",
    "\n",
    "def main():\n",
    "    rospy.init_node(\"turtle_pose_subscriber\")\n",
    "    sub = rospy.Subscriber(\"/turtle1/pose\", Pose, callback=pose_callback) # use the defined callback\n",
    "    \n",
    "    rospy.loginfo(\"Node has started\")\n",
    "    rospy.spin() # like an infinite loop that continues receiving callback; usually the last line of code\n",
    "\n",
    "\n",
    "if __name__ == '__main__':\n",
    "    try:\n",
    "        main()\n",
    "    except rospy.ROSInterruptException:\n",
    "        pass"
   ]
  },
  {
   "cell_type": "code",
   "execution_count": null,
   "metadata": {
    "vscode": {
     "languageId": "shellscript"
    }
   },
   "outputs": [],
   "source": [
    "rosrun my_robot_controller pose_subscribe.py\n",
    "rqt_graph"
   ]
  },
  {
   "attachments": {},
   "cell_type": "markdown",
   "metadata": {},
   "source": [
<<<<<<< HEAD
    "Combined publisher and subscriber"
=======
    "Turtlebot obstacle avoidance"
>>>>>>> 306f097d31f0b735c6d988261bfd01b2ace26125
   ]
  },
  {
   "cell_type": "code",
   "execution_count": null,
<<<<<<< HEAD
   "metadata": {
    "vscode": {
     "languageId": "shellscript"
    }
   },
   "outputs": [],
   "source": []
=======
   "metadata": {},
   "outputs": [],
   "source": [
    "#!/usr/bin/env python3\n",
    "import rospy\n",
    "from sensor_msgs.msg import LaserScan\n",
    "from geometry_msgs.msg import Twist\n",
    "\n",
    "def callback(dt):\n",
    "    move = Twist() # Creates a Twist message type object\n",
    "    rate = rospy.Rate(10)\n",
    "    d1, d2, d3, d4, d5, d6 = 0, 6, 60, 120, 180, 234\n",
    "    \n",
    "    print('-------------------------------------------')\n",
    "    print('Range data at 0 deg:  {}'.format(dt.ranges[d1]))\n",
    "    print('Range data at 6 deg:  {}'.format(dt.ranges[d2]))\n",
    "    print('Range data at 60 deg:  {}'.format(dt.ranges[d3]))\n",
    "    print('Range data at 120 deg:  {}'.format(dt.ranges[d4]))\n",
    "    print('Range data at 180 deg:  {}'.format(dt.ranges[d5]))\n",
    "    print('Range data at 234 deg:  {}'.format(dt.ranges[d6]))\n",
    "    print('-------------------------------------------')\n",
    "    \n",
    "    thr1 = 0.8 # Laser scan range threshold\n",
    "    thr2 = 0.8\n",
    "    \n",
    "    if dt.ranges[d1]>thr1 and dt.ranges[d2]>thr2 and dt.ranges[d3]>thr2 and dt.ranges[d5]>thr2 and dt.ranges[d6]>thr2: # Checks if there are obstacles in front and 15 degrees left and right\n",
    "        move.linear.x = 0.1 # go forward (linear velocity)\n",
    "        move.angular.z = 0.0 # do not rotate (angular velocity)\n",
    "    else:\n",
    "        move.linear.x = 0.0 # stop\n",
    "        move.angular.z = 0.5 # rotate counter-clockwise\n",
    "        if dt.ranges[d1]>thr1 and dt.ranges[d2]>thr2 and dt.ranges[d3]>thr2 and dt.ranges[d5]>thr2 and dt.ranges[d6]>thr2:\n",
    "            move.linear.x = 0.5\n",
    "            move.angular.z = 0.0\n",
    "    pub.publish(move) # publish the move object\n",
    "    rate.sleep()\n",
    "\n",
    "def main():\n",
    "    rospy.init_node('obstacle_avoidance_node') # Initializes a node\n",
    "    sub = rospy.Subscriber(\"/scan\", LaserScan, callback)\n",
    "    rospy.spin() # Loops infinitely until someone stops the program execution\n",
    "\n",
    "if __name__ == '__main__':\n",
    "    try:\n",
    "        pub = rospy.Publisher(\"/cmd_vel\", Twist, queue_size=10)\n",
    "        main()\n",
    "    except rospy.ROSInterruptException:\n",
    "        pass"
   ]
  },
  {
   "attachments": {},
   "cell_type": "markdown",
   "metadata": {},
   "source": [
    "Chemical sensor"
   ]
  },
  {
   "cell_type": "code",
   "execution_count": null,
   "metadata": {},
   "outputs": [],
   "source": [
    "#!/usr/bin/env python3\n",
    "import rospy\n",
    "from turtlebot3_msgs.msg import SensorState #add turtlebot3_msgs in package.xml\n",
    "\n",
    "def chemical_callback(msg: SensorState):\n",
    "    rospy.loginfo(\"chemical reading: \" + \"(\" + str(msg.illumination) + \")\")\n",
    "\n",
    "def main():\n",
    "    rospy.init_node(\"chemical_sensor_subscriber\")\n",
    "    sub = rospy.Subscriber(\"/sensor_state\", SensorState, callback=chemical_callback) # use the defined callback\n",
    "    \n",
    "    rospy.loginfo(\"Node has started\")\n",
    "    rospy.spin() # like an infinite loop that continues receiving callback; usually the last line of code\n",
    "\n",
    "\n",
    "if __name__ == '__main__':\n",
    "    try:\n",
    "        main()\n",
    "    except rospy.ROSInterruptException:\n",
    "        pass"
   ]
  },
  {
   "attachments": {},
   "cell_type": "markdown",
   "metadata": {},
   "source": [
    "Turtlebot simple navigation"
   ]
  },
  {
   "cell_type": "code",
   "execution_count": null,
   "metadata": {},
   "outputs": [],
   "source": [
    "#!/usr/bin/env python3\n",
    "\n",
    "import rospy\n",
    "from sensor_msgs.msg import LaserScan\n",
    "from turtlebot3_msgs.msg import SensorState\n",
    "from geometry_msgs.msg import Twist\n",
    "# import torch\n",
    "\n",
    "class Server:\n",
    "    def __init__(self) -> None:\n",
    "        self.chemical = None\n",
    "        self.airFlow = None\n",
    "        self.windDir = None\n",
    "        self.laser = None\n",
    "    \n",
    "    def sensorCallback(self, msg):\n",
    "        self.chemical = msg.illumination\n",
    "        self.airFlow = msg.cliff\n",
    "        self.windDir = msg.sonar\n",
    "        self.navigate()\n",
    "        \n",
    "    def laserCallback(self, msg):\n",
    "        self.laser = msg\n",
    "        self.navigate()\n",
    "\n",
    "    def navigate(self):\n",
    "        move = Twist() # Creates a Twist message type object\n",
    "        rate = rospy.Rate(50)\n",
    "\n",
    "        # Laser scan range threshold\n",
    "        laserAngleThr1 = 1.0\n",
    "        laserAngleThr2 = 0.75\n",
    "        laserAngleThr3 = 0.5\n",
    "\n",
    "        # laserAngle1, laserAngle2, laserAngle3, laserAngle4, laserAngle5, laserAngle6 = 0, 6, 60, 120, 180, 234\n",
    "        laserAngle0, laserAngle2, laserAngle3, laserAngle4, laserAngle5, laserAngle6 = 0, 30, 60, 120, 180, 210\n",
    "\n",
    "        # chemical sensor threshold\n",
    "        chmThr = 600\n",
    "\n",
    "        if self.chemical is not None and self.airFlow is not None and self.windDir is not None and self.laser is not None:\n",
    "            print('-------------------------------------------')\n",
    "            # print('Range data at 0 deg:   {}'.format(self.laser.ranges[laserAngle0]))\n",
    "            # # print('Range data at 6 deg:  {}'.format(dt.ranges[laserAngle2]))\n",
    "            # print('Range data at 30 deg:  {}'.format(self.laser.ranges[laserAngle2]))\n",
    "            # print('Range data at 60 deg:  {}'.format(self.laser.ranges[laserAngle3]))\n",
    "            # print('Range data at 120 deg:  {}'.format(self.laser.ranges[laserAngle4]))\n",
    "            # print('Range data at 180 deg:  {}'.format(self.laser.ranges[laserAngle5]))\n",
    "            # print('Range data at 210 deg: {}'.format(self.laser.ranges[laserAngle6]))\n",
    "            # print('Range data at 234 deg: {}'.format(dt.ranges[laserAngle6]))\n",
    "            \n",
    "            print('Chemical Sensor: {} ppm'.format(self.chemical))\n",
    "            print('Airflow Speed: {} m/s'.format(self.airFlow))\n",
    "            print('Airflow Direction: {} degrees'.format(self.windDir))\n",
    "            print('-------------------------------------------')\n",
    "\n",
    "            ## navigate\n",
    "            # check for obstacle: True -> no obstacle; False -> obstacle\n",
    "            obstacle_bool = self.laser.ranges[laserAngle0] > laserAngleThr1 and (self.laser.ranges[laserAngle2] or self.laser.ranges[laserAngle6]) > laserAngleThr2 and (self.laser.ranges[laserAngle3] or self.laser.ranges[laserAngle5]) > laserAngleThr3\n",
    "\n",
    "\n",
    "            # if there is no obstacle    \n",
    "            if obstacle_bool:\n",
    "                \n",
    "                # check for chemical reading and wind direction\n",
    "                if self.chemical > chmThr:\n",
    "                    \n",
    "                    if self.windDir > 357 and self.windDir < 3:\n",
    "                        move.linear.x = 0.1\n",
    "                    \n",
    "                    # rotate if not facing wind direction\n",
    "                    else:\n",
    "                        move.linear.x = 0.0\n",
    "                        move.angular.z = 0.5\n",
    "\n",
    "                # rotate if chemical reading is not greater than 600\n",
    "                else:\n",
    "                    if (self.windDir > 87 and self.windDir < 93) or (self.windDir > 177 and self.windDir < 183):\n",
    "                        move.linear.x = 0.1\n",
    "                    \n",
    "                    # rotate if not facing wind direction\n",
    "                    else:\n",
    "                        move.linear.x = 0.0\n",
    "                        move.angular.z = 0.5\n",
    "            \n",
    "            # rotate if there is obstacle\n",
    "            else:\n",
    "                move.linear.x = 0.0 # stop\n",
    "                move.angular.z = 0.5 # rotate counter-clockwise\n",
    "            \n",
    "        pub.publish(move) # publish the move object\n",
    "        rate.sleep()\n",
    "\n",
    "def main():\n",
    "    rospy.init_node('simple_navigation_node') # Initializes a node\n",
    "\n",
    "    server = Server()\n",
    "\n",
    "    rospy.Subscriber(\"/sensor_state\", SensorState, callback=server.sensorCallback)\n",
    "    rospy.Subscriber(\"/scan\", LaserScan, server.laserCallback)\n",
    "\n",
    "    rospy.spin() # Loops infinitely until someone stops the program execution\n",
    "\n",
    "if __name__ == '__main__':\n",
    "    try:\n",
    "        pub = rospy.Publisher(\"/cmd_vel\", Twist, queue_size=10)\n",
    "        main()\n",
    "        \n",
    "    except rospy.ROSInterruptException:\n",
    "        pass"
   ]
>>>>>>> 306f097d31f0b735c6d988261bfd01b2ace26125
  }
 ],
 "metadata": {
  "kernelspec": {
   "display_name": "Python 3",
   "language": "python",
   "name": "python3"
  },
  "language_info": {
   "codemirror_mode": {
    "name": "ipython",
    "version": 3
   },
   "file_extension": ".py",
   "mimetype": "text/x-python",
   "name": "python",
   "nbconvert_exporter": "python",
   "pygments_lexer": "ipython3",
   "version": "3.11.3"
  },
  "orig_nbformat": 4
 },
 "nbformat": 4,
 "nbformat_minor": 2
}
