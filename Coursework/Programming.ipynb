{
 "cells": [
  {
   "cell_type": "markdown",
   "metadata": {},
   "source": [
    "**Machine language** is a set of specific instructions that can be executed directly by a computer. This language is typically made up of binary digits (1s and 0s).\n",
    "**Assembly language** is a mapping to machine language that is more readable.\n",
    "\n",
    "A **compiler** is a tool used to translate an algorithm expressed in a programming language to machine language. The process by which this conversion from programming language to machine language is done is called compilation."
   ]
  }
 ],
 "metadata": {
  "language_info": {
   "name": "python"
  },
  "orig_nbformat": 4
 },
 "nbformat": 4,
 "nbformat_minor": 2
}
