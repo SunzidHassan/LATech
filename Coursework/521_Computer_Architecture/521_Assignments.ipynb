{
 "cells": [
  {
   "attachments": {},
   "cell_type": "markdown",
   "metadata": {},
   "source": [
    "# Assignments"
   ]
  },
  {
   "cell_type": "code",
   "execution_count": null,
   "metadata": {},
   "outputs": [],
   "source": [
    "from bcpu import *"
   ]
  },
  {
   "attachments": {},
   "cell_type": "markdown",
   "metadata": {},
   "source": [
    "## Seting high and negative values"
   ]
  },
  {
   "attachments": {},
   "cell_type": "markdown",
   "metadata": {},
   "source": [
    "### Put -12345 into r3"
   ]
  },
  {
   "cell_type": "code",
   "execution_count": null,
   "metadata": {},
   "outputs": [],
   "source": [
    "Set(r3, 12345%256)\n",
    "Seth(r3, 12345//256)\n",
    "Not(r3, r3)\n",
    "Addi(r3, r3, 1)"
   ]
  },
  {
   "attachments": {},
   "cell_type": "markdown",
   "metadata": {},
   "source": [
    "## Masking and conditionals"
   ]
  },
  {
   "attachments": {},
   "cell_type": "markdown",
   "metadata": {},
   "source": [
    "### Make 4th digit 0 with mask"
   ]
  },
  {
   "cell_type": "code",
   "execution_count": null,
   "metadata": {},
   "outputs": [],
   "source": [
    "# r1 = 0b1100_1111_1100_0111\n",
    "Set(r1, 0b1100_0111)\n",
    "Seth(r1, 0b1100_1111)\n",
    "printrb(1)\n",
    "\n",
    "#Put your code here to set r1 bit 4 to 1 using Mask\n",
    "Set(r2, 0b0001_0000)\n",
    "Or(r1, r1, r2)\n",
    "printrb(r1)"
   ]
  },
  {
   "attachments": {},
   "cell_type": "markdown",
   "metadata": {},
   "source": [
    "### Make 2 bit 0 with mask"
   ]
  },
  {
   "cell_type": "code",
   "execution_count": null,
   "metadata": {},
   "outputs": [],
   "source": [
    "# r1 = 0b1100_1111_1100_0111\n",
    "Set(r1, 0b1100_0111)\n",
    "Seth(r1, 0b1100_1111)\n",
    "printrb(1)\n",
    "\n",
    "# clear r1 bit 8 and bit 10 to 0\n",
    "Set(r2, 0b1100_0111)\n",
    "Seth(r2, 0b1100_1010)\n",
    "\n",
    "# put your code here\n",
    "And(r1, r1, r2)\n",
    "printrb(1)"
   ]
  },
  {
   "attachments": {},
   "cell_type": "markdown",
   "metadata": {},
   "source": [
    "## Data structures"
   ]
  },
  {
   "attachments": {},
   "cell_type": "markdown",
   "metadata": {},
   "source": [
    "### Stack"
   ]
  },
  {
   "cell_type": "code",
   "execution_count": null,
   "metadata": {},
   "outputs": [],
   "source": [
    "# Push 11\n",
    "Set(cr, 11) # the value to be stored\n",
    "Addi(st, st, 1) #store 1 index above the existing stack\n",
    "Store(st, cr)\n",
    "\n",
    "# push 22\n",
    "Set(cr, 22) # the value to be stored\n",
    "Addi(st, st, 1) #store 1 index above the existing stack\n",
    "Store(st, cr)\n",
    "\n",
    "# push 33\n",
    "Set(cr, 33) # the value to be stored\n",
    "Addi(st, st, 1) #store 1 index above the existing stack\n",
    "Store(st, cr)\n",
    "\n",
    "# push 44\n",
    "Set(cr, 44) # the value to be stored\n",
    "Addi(st, st, 1) #store 1 index above the existing stack\n",
    "Store(st, cr)\n",
    "printd()\n",
    "\n",
    "# pop into r1\n",
    "Load(r1, st) # get the top stack and put it into r1\n",
    "Subi(st, st, 1) # Pop the topmost value out\n",
    "printr(1)\n",
    "printd()\n",
    "\n",
    "# pop into r2\n",
    "Load(r2, st) # get the top stack and put it into r1\n",
    "Subi(st, st, 1) # Pop the topmost value out\n",
    "printr(2)\n",
    "printd()\n"
   ]
  },
  {
   "attachments": {},
   "cell_type": "markdown",
   "metadata": {},
   "source": [
    "## Python to Assembly programs"
   ]
  },
  {
   "attachments": {},
   "cell_type": "markdown",
   "metadata": {},
   "source": [
    "### Program for less than 0"
   ]
  },
  {
   "cell_type": "code",
   "execution_count": null,
   "metadata": {},
   "outputs": [],
   "source": [
    "# py program\n",
    "inx = 0\n",
    "outy = 0\n",
    "if inx < 0: #negative number\n",
    "    outy = 1\n",
    "print(outy)\n",
    "\n",
    "# turn this python code into assempty function\n",
    "\n",
    "# if less than or equals to 0\n",
    "iflt0then = \"\"\"\n",
    "#: inx = r1 # we're going to use r1 for inx\n",
    "#: outy = r2 # use r2 for outy\n",
    "\n",
    "Set(outy, 0) # outy = 0\n",
    "\n",
    "#if inx < 0: (if inx >= 0 goto endif)\n",
    "Addi(ar, pc, ?endif) # put address of endif into ar\n",
    "Movep(pc, ar, inx) # if inx the number is positive (including 0), move pc\n",
    "    Set(outy, 1) # change output from default based on condition: outy = 1\n",
    "#> endif\n",
    "Move(outy, outy) #print(outy)\n",
    "\"\"\"\n",
    "\n",
    "# testing\n",
    "print(\"\\nRunning the program\")\n",
    "\n",
    "#testing negative number\n",
    "setr(r1, 0) #os command, not assembly code\n",
    "start(iflt0then)"
   ]
  }
 ],
 "metadata": {
  "language_info": {
   "name": "python"
  },
  "orig_nbformat": 4
 },
 "nbformat": 4,
 "nbformat_minor": 2
}
