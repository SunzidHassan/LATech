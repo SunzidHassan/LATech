{
 "cells": [
  {
   "attachments": {},
   "cell_type": "markdown",
   "metadata": {},
   "source": [
    "# Assignments"
   ]
  },
  {
   "cell_type": "code",
   "execution_count": 2,
   "metadata": {},
   "outputs": [
    {
     "name": "stdout",
     "output_type": "stream",
     "text": [
      "*** BCPU 5.3.0 startup completed ***\n"
     ]
    }
   ],
   "source": [
    "from bcpu import *"
   ]
  },
  {
   "attachments": {},
   "cell_type": "markdown",
   "metadata": {},
   "source": [
    "## Seting high and negative values"
   ]
  },
  {
   "attachments": {},
   "cell_type": "markdown",
   "metadata": {},
   "source": [
    "### Put -12345 into r3"
   ]
  },
  {
   "cell_type": "code",
   "execution_count": null,
   "metadata": {},
   "outputs": [],
   "source": [
    "Set(r3, 12345%256)\n",
    "Seth(r3, 12345//256)\n",
    "Not(r3, r3)\n",
    "Addi(r3, r3, 1)"
   ]
  },
  {
   "attachments": {},
   "cell_type": "markdown",
   "metadata": {},
   "source": [
    "## Masking and conditionals"
   ]
  },
  {
   "attachments": {},
   "cell_type": "markdown",
   "metadata": {},
   "source": [
    "### Make 4th digit 0 with mask"
   ]
  },
  {
   "cell_type": "code",
   "execution_count": null,
   "metadata": {},
   "outputs": [],
   "source": [
    "# r1 = 0b1100_1111_1100_0111\n",
    "Set(r1, 0b1100_0111)\n",
    "Seth(r1, 0b1100_1111)\n",
    "printrb(1)\n",
    "\n",
    "#Put your code here to set r1 bit 4 to 1 using Mask\n",
    "Set(r2, 0b0001_0000)\n",
    "Or(r1, r1, r2)\n",
    "printrb(r1)"
   ]
  },
  {
   "attachments": {},
   "cell_type": "markdown",
   "metadata": {},
   "source": [
    "### Make 2 bit 0 with mask"
   ]
  },
  {
   "cell_type": "code",
   "execution_count": null,
   "metadata": {},
   "outputs": [],
   "source": [
    "# r1 = 0b1100_1111_1100_0111\n",
    "Set(r1, 0b1100_0111)\n",
    "Seth(r1, 0b1100_1111)\n",
    "printrb(1)\n",
    "\n",
    "# clear r1 bit 8 and bit 10 to 0\n",
    "Set(r2, 0b1100_0111)\n",
    "Seth(r2, 0b1100_1010)\n",
    "\n",
    "# put your code here\n",
    "And(r1, r1, r2)\n",
    "printrb(1)"
   ]
  },
  {
   "attachments": {},
   "cell_type": "markdown",
   "metadata": {},
   "source": [
    "## Data structures"
   ]
  },
  {
   "attachments": {},
   "cell_type": "markdown",
   "metadata": {},
   "source": [
    "### Stack"
   ]
  },
  {
   "cell_type": "code",
   "execution_count": null,
   "metadata": {},
   "outputs": [],
   "source": [
    "# Push 11\n",
    "Set(cr, 11) # the value to be stored\n",
    "Addi(st, st, 1) #store 1 index above the existing stack\n",
    "Store(st, cr)\n",
    "\n",
    "# push 22\n",
    "Set(cr, 22) # the value to be stored\n",
    "Addi(st, st, 1) #store 1 index above the existing stack\n",
    "Store(st, cr)\n",
    "\n",
    "# push 33\n",
    "Set(cr, 33) # the value to be stored\n",
    "Addi(st, st, 1) #store 1 index above the existing stack\n",
    "Store(st, cr)\n",
    "\n",
    "# push 44\n",
    "Set(cr, 44) # the value to be stored\n",
    "Addi(st, st, 1) #store 1 index above the existing stack\n",
    "Store(st, cr)\n",
    "printd()\n",
    "\n",
    "# pop into r1\n",
    "Load(r1, st) # get the top stack and put it into r1\n",
    "Subi(st, st, 1) # Pop the topmost value out\n",
    "printr(1)\n",
    "printd()\n",
    "\n",
    "# pop into r2\n",
    "Load(r2, st) # get the top stack and put it into r1\n",
    "Subi(st, st, 1) # Pop the topmost value out\n",
    "printr(2)\n",
    "printd()\n"
   ]
  },
  {
   "attachments": {},
   "cell_type": "markdown",
   "metadata": {},
   "source": [
    "## Python to Assembly programs"
   ]
  },
  {
   "attachments": {},
   "cell_type": "markdown",
   "metadata": {},
   "source": [
    "### Less than 0"
   ]
  },
  {
   "cell_type": "code",
   "execution_count": null,
   "metadata": {},
   "outputs": [],
   "source": [
    "# if less than or equals to 0\n",
    "# py program\n",
    "inx = 0\n",
    "outy = 0\n",
    "if inx < 0: #negative number\n",
    "    outy = 1\n",
    "print(outy)\n",
    "\n",
    "# turn this python code into assempty function\n",
    "iflt0then = \"\"\"\n",
    "#: inx = r1 # we're going to use r1 for inx\n",
    "#: outy = r2 # use r2 for outy\n",
    "\n",
    "Set(outy, 0) # outy = 0\n",
    "\n",
    "#if inx < 0: (if inx >= 0 goto endif)\n",
    "Addi(ar, pc, ?endif) # put address of endif into ar\n",
    "Movep(pc, ar, inx) # if inx the number is positive (including 0), move pc\n",
    "    Set(outy, 1) # change output from default based on condition: outy = 1\n",
    "#> endif\n",
    "Move(outy, outy) #print(outy)\n",
    "\"\"\"\n",
    "\n",
    "# testing\n",
    "print(\"\\nRunning the program\")\n",
    "\n",
    "#testing negative number\n",
    "setr(r1, 0) #os command, not assembly code\n",
    "start(iflt0then)"
   ]
  },
  {
   "attachments": {},
   "cell_type": "markdown",
   "metadata": {},
   "source": [
    "### Input == 11"
   ]
  },
  {
   "cell_type": "code",
   "execution_count": 4,
   "metadata": {},
   "outputs": [
    {
     "name": "stdout",
     "output_type": "stream",
     "text": [
      "\n",
      "Running the program\n",
      "R1: 12  \n",
      "*Replacing memory with new code: main\n",
      "*** Loaded in memory: (100, 106)\n",
      "  * Function name is: main\n",
      "Set(r2, 0) # outy = 0 [100]\n",
      "0 0 \n",
      "Subi(r1, r1, 11) [101]\n",
      "1 12 11\n",
      "Addi(ar, pc, 3) # ar = address of endif [102]\n",
      "105 102 3\n",
      "Movex(pc, ar, r1) # if inx != 11, go to endif [103]\n",
      "105 105 1\n",
      "Move(r2, r2) #print(outy) [105]\n",
      "0 0 \n",
      "R2: 0  \n"
     ]
    }
   ],
   "source": [
    "# if equals to 11\n",
    "# # py program\n",
    "# inx = 0\n",
    "# outy = 0\n",
    "# if inx == 11:\n",
    "#     outy = 1\n",
    "# print(outy)\n",
    "\n",
    "# turn this python code into assembly function\n",
    "ifeqal11then = \"\"\"\n",
    "#: inx = r1 # r1 for input\n",
    "#: outy = r2 # r2 for output\n",
    "\n",
    "Set(outy, 0) # outy = 0\n",
    "Subi(r1, r1, 11)\n",
    "# if inx == 11: # (if inx != 11 goto endif)\n",
    "Addi(ar, pc, ?endif) # ar = address of endif\n",
    "Movex(pc, ar, inx) # if inx != 11, go to endif\n",
    "    Set(outy, 1) # else, change outy to 1\n",
    "#> endif\n",
    "Move(outy, outy) #print(outy)\n",
    "\"\"\"\n",
    "\n",
    "# testing\n",
    "print(\"\\nRunning the program\")\n",
    "setr(r1, 12) # input\n",
    "start(ifeqal11then)\n",
    "printr(r2)"
   ]
  },
  {
   "attachments": {},
   "cell_type": "markdown",
   "metadata": {},
   "source": [
    "### Input != 11"
   ]
  },
  {
   "cell_type": "code",
   "execution_count": 6,
   "metadata": {},
   "outputs": [
    {
     "name": "stdout",
     "output_type": "stream",
     "text": [
      "\n",
      "Running the program\n",
      "R1: 11  \n",
      "*Replacing memory with new code: main\n",
      "*** Loaded in memory: (100, 106)\n",
      "  * Function name is: main\n",
      "Set(r2, 0) # outy = 0 [100]\n",
      "0 0 \n",
      "Subi(r1, r1, 11) [101]\n",
      "0 11 11\n",
      "Addi(ar, pc, 3) # ar = address of endif [102]\n",
      "105 102 3\n",
      "Movez(pc, ar, r1) # if inx == 11, go to endif [103]\n",
      "105 105 0\n",
      "Move(r2, r2) #print(outy) [105]\n",
      "0 0 \n",
      "R2: 0  \n"
     ]
    }
   ],
   "source": [
    "# if not equals to 11\n",
    "# # py program\n",
    "# inx = 0\n",
    "# outy = 0\n",
    "# if inx != 11:\n",
    "#     outy = 1\n",
    "# print(outy)\n",
    "\n",
    "# turn this python code into assembly function\n",
    "ifneqal11then = \"\"\"\n",
    "#: inx = r1 # r1 for input\n",
    "#: outy = r2 # r2 for output\n",
    "\n",
    "Set(outy, 0) # outy = 0\n",
    "# if inx != 11: # (if inx == 11 goto endif)\n",
    "Subi(r1, r1, 11)\n",
    "Addi(ar, pc, ?endif) # ar = address of endif\n",
    "Movez(pc, ar, inx) # if inx == 11, go to endif\n",
    "    Set(outy, 1) # else, change outy to 1\n",
    "#> endif\n",
    "Move(outy, outy) #print(outy)\n",
    "\"\"\"\n",
    "\n",
    "# testing\n",
    "print(\"\\nRunning the program\")\n",
    "setr(r1, 11) # input\n",
    "start(ifneqal11then)\n",
    "printr(r2)"
   ]
  },
  {
   "attachments": {},
   "cell_type": "markdown",
   "metadata": {},
   "source": [
    "### Input < 11"
   ]
  },
  {
   "cell_type": "code",
   "execution_count": 13,
   "metadata": {},
   "outputs": [
    {
     "name": "stdout",
     "output_type": "stream",
     "text": [
      "\n",
      "Running the program\n",
      "R1: 10  \n",
      "*Replacing memory with new code: main\n",
      "*** Loaded in memory: (100, 106)\n",
      "  * Function name is: main\n",
      "Set(r2, 0) # outy = 0 [100]\n",
      "0 0 \n",
      "Subi(cr, r1, 11) [101]\n",
      "-1 10 11\n",
      "Addi(ar, pc, 3) # ar = address of endif [102]\n",
      "105 102 3\n",
      "Movep(pc, ar, cr) # if inx >= 11, go to endif [103]\n",
      "104 105 -1\n",
      "Set(r2, 1) # else, change outy to 1 [104]\n",
      "1 1 \n",
      "Move(r2, r2) #print(outy) [105]\n",
      "1 1 \n",
      "R2: 1  \n"
     ]
    }
   ],
   "source": [
    "# if less than 11\n",
    "# # py program\n",
    "# inx = 0\n",
    "# outy = 0\n",
    "# if inx < 11:\n",
    "#     outy = 1\n",
    "# print(outy)\n",
    "\n",
    "# turn this python code into assembly function\n",
    "ifless11then = \"\"\"\n",
    "#: inx = r1 # r1 for input\n",
    "#: outy = r2 # r2 for output\n",
    "\n",
    "Set(outy, 0) # outy = 0\n",
    "# if inx < 11: # (if inx >= 11 goto endif)\n",
    "Subi(cr, inx, 11)\n",
    "Addi(ar, pc, ?endif) # ar = address of endif\n",
    "Movep(pc, ar, cr) # if inx >= 11, go to endif\n",
    "    Set(outy, 1) # else, change outy to 1\n",
    "#> endif\n",
    "Move(outy, outy) #print(outy)\n",
    "\"\"\"\n",
    "\n",
    "# testing\n",
    "print(\"\\nRunning the program\")\n",
    "setr(r1, 10) # input\n",
    "start(ifless11then)\n",
    "printr(r2)"
   ]
  },
  {
   "attachments": {},
   "cell_type": "markdown",
   "metadata": {},
   "source": [
    "### Input > 11"
   ]
  },
  {
   "cell_type": "code",
   "execution_count": 11,
   "metadata": {},
   "outputs": [
    {
     "name": "stdout",
     "output_type": "stream",
     "text": [
      "\n",
      "Running the program\n",
      "R1: 12  \n",
      "*Replacing memory with new code: main\n",
      "*** Loaded in memory: (100, 107)\n",
      "  * Function name is: main\n",
      "Set(r2, 0) # outy = 0 [100]\n",
      "0 0 \n",
      "Set(cr, 11) [101]\n",
      "11 11 \n",
      "Sub(cr, cr, r1) [102]\n",
      "-1 11 12\n",
      "Addi(ar, pc, 3) # ar = address of endif [103]\n",
      "106 103 3\n",
      "Movep(pc, ar, cr) # if inx < 0, go to endif # use movep every time we have greater/less than or equal to, otherwise moven [104]\n",
      "105 106 -1\n",
      "Set(r2, 1) # else, change outy to 1 [105]\n",
      "1 1 \n",
      "Move(r2, r2) #print(outy) [106]\n",
      "1 1 \n",
      "R2: 1  \n"
     ]
    }
   ],
   "source": [
    "# if greater than 11\n",
    "# # py program\n",
    "# inx = 0\n",
    "# outy = 0\n",
    "# if inx > 11:\n",
    "#     outy = 1\n",
    "# print(outy)\n",
    "\n",
    "# turn this python code into assembly function\n",
    "ifgt11then = \"\"\"\n",
    "#: inx = r1 # r1 for input\n",
    "#: outy = r2 # r2 for output\n",
    "\n",
    "Set(outy, 0) # outy = 0\n",
    "# if inx > 11: # (if inx <= 11 goto endif)\n",
    "Set(cr, 11)\n",
    "Sub(cr, cr, inx)\n",
    "Addi(ar, pc, ?endif) # ar = address of endif\n",
    "Movep(pc, ar, cr) # if inx < 0, go to endif # use movep every time we have greater/less than or equal to, otherwise moven\n",
    "    Set(outy, 1) # else, change outy to 1\n",
    "#> endif\n",
    "Move(outy, outy) #print(outy)\n",
    "\"\"\"\n",
    "\n",
    "# testing\n",
    "print(\"\\nRunning the program\")\n",
    "setr(r1, 12) # input\n",
    "start(ifgt11then)\n",
    "printr(r2)"
   ]
  },
  {
   "attachments": {},
   "cell_type": "markdown",
   "metadata": {},
   "source": [
    "### Input >= 11"
   ]
  },
  {
   "cell_type": "code",
   "execution_count": 16,
   "metadata": {},
   "outputs": [
    {
     "name": "stdout",
     "output_type": "stream",
     "text": [
      "\n",
      "Running the program\n",
      "R1: 12  \n",
      "*Replacing memory with new code: main\n",
      "*** Loaded in memory: (100, 106)\n",
      "  * Function name is: main\n",
      "Set(r2, 0) # outy = 0 [100]\n",
      "0 0 \n",
      "Subi(cr, r1, 11) [101]\n",
      "1 12 11\n",
      "Addi(ar, pc, 3) # ar = address of endif [102]\n",
      "105 102 3\n",
      "Moven(pc, ar, cr) # if inx < 11, go to endif [103]\n",
      "104 105 1\n",
      "Set(r2, 1) # else, change outy to 1 [104]\n",
      "1 1 \n",
      "Move(r2, r2) #print(outy) [105]\n",
      "1 1 \n",
      "R2: 1  \n"
     ]
    }
   ],
   "source": [
    "# if greater than or equal to 11\n",
    "# # py program\n",
    "# inx = 0\n",
    "# outy = 0\n",
    "# if inx >= 11:\n",
    "#     outy = 1\n",
    "# print(outy)\n",
    "\n",
    "# turn this python code into assembly function\n",
    "ifgeq11then = \"\"\"\n",
    "#: inx = r1 # r1 for input\n",
    "#: outy = r2 # r2 for output\n",
    "\n",
    "Set(outy, 0) # outy = 0\n",
    "# if inx >= 11: # (if inx < 11 goto endif)\n",
    "Subi(cr, inx, 11)\n",
    "Addi(ar, pc, ?endif) # ar = address of endif\n",
    "Moven(pc, ar, cr) # if inx < 11, go to endif\n",
    "    Set(outy, 1) # else, change outy to 1\n",
    "#> endif\n",
    "Move(outy, outy) #print(outy)\n",
    "\"\"\"\n",
    "\n",
    "# testing\n",
    "print(\"\\nRunning the program\")\n",
    "setr(r1, 12) # input\n",
    "start(ifgeq11then)\n",
    "printr(r2)"
   ]
  },
  {
   "attachments": {},
   "cell_type": "markdown",
   "metadata": {},
   "source": [
    "### Input <= to 11"
   ]
  },
  {
   "cell_type": "code",
   "execution_count": 19,
   "metadata": {},
   "outputs": [
    {
     "name": "stdout",
     "output_type": "stream",
     "text": [
      "\n",
      "Running the program\n",
      "R1: 12  \n",
      "*Replacing memory with new code: main\n",
      "*** Loaded in memory: (100, 107)\n",
      "  * Function name is: main\n",
      "Set(r2, 0) # outy = 0 [100]\n",
      "0 0 \n",
      "Set(cr, 11) [101]\n",
      "11 11 \n",
      "Sub(cr, cr, r1) [102]\n",
      "-1 11 12\n",
      "Addi(ar, pc, 3) # ar = address of endif [103]\n",
      "106 103 3\n",
      "Moven(pc, ar, cr) # if inx > 11, go to endif [104]\n",
      "106 106 -1\n",
      "Move(r2, r2) #print(outy) [106]\n",
      "0 0 \n",
      "R2: 0  \n"
     ]
    }
   ],
   "source": [
    "# if less than or equal to 11\n",
    "# # py program\n",
    "# inx = 0\n",
    "# outy = 0\n",
    "# if inx <= 11:\n",
    "#     outy = 1\n",
    "# print(outy)\n",
    "\n",
    "# turn this python code into assembly function\n",
    "ifleq11then = \"\"\"\n",
    "#: inx = r1 # r1 for input\n",
    "#: outy = r2 # r2 for output\n",
    "\n",
    "Set(outy, 0) # outy = 0\n",
    "# if inx <= 11: # (if inx > 11 goto endif)\n",
    "Set(cr, 11)\n",
    "Sub(cr, cr, inx)\n",
    "Addi(ar, pc, ?endif) # ar = address of endif\n",
    "Moven(pc, ar, cr) # if inx > 11, go to endif\n",
    "    Set(outy, 1) # else, change outy to 1\n",
    "#> endif\n",
    "Move(outy, outy) #print(outy)\n",
    "\"\"\"\n",
    "\n",
    "# testing\n",
    "print(\"\\nRunning the program\")\n",
    "setr(r1, 12) # input\n",
    "start(ifleq11then)\n",
    "printr(r2)"
   ]
  },
  {
   "cell_type": "code",
   "execution_count": null,
   "metadata": {},
   "outputs": [],
   "source": []
  }
 ],
 "metadata": {
  "kernelspec": {
   "display_name": "Python 3",
   "language": "python",
   "name": "python3"
  },
  "language_info": {
   "codemirror_mode": {
    "name": "ipython",
    "version": 3
   },
   "file_extension": ".py",
   "mimetype": "text/x-python",
   "name": "python",
   "nbconvert_exporter": "python",
   "pygments_lexer": "ipython3",
   "version": "3.11.2"
  },
  "orig_nbformat": 4
 },
 "nbformat": 4,
 "nbformat_minor": 2
}
