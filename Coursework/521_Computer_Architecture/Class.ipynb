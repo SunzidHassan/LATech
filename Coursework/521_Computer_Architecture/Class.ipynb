{
 "cells": [
  {
   "attachments": {},
   "cell_type": "markdown",
   "metadata": {},
   "source": [
    "## Class 2"
   ]
  },
  {
   "cell_type": "code",
   "execution_count": 2,
   "metadata": {},
   "outputs": [
    {
     "name": "stdout",
     "output_type": "stream",
     "text": [
      "*** BCPU 5.2.5 startup completed ***\n"
     ]
    }
   ],
   "source": [
    "from bcpu import *"
   ]
  },
  {
   "attachments": {},
   "cell_type": "markdown",
   "metadata": {},
   "source": [
    "## Class 3"
   ]
  },
  {
   "cell_type": "code",
   "execution_count": null,
   "metadata": {},
   "outputs": [],
   "source": [
    "# Put -12345 into r3\n",
    "\n",
    "Set(r3, 12345%256)\n",
    "Seth(r3, 12345//256)\n",
    "Not(r3, r3)\n",
    "Addi(r3, r3, 1)"
   ]
  },
  {
   "cell_type": "code",
   "execution_count": 3,
   "metadata": {},
   "outputs": [
    {
     "name": "stdout",
     "output_type": "stream",
     "text": [
      "R0: -999  \n",
      "R1: -999  \n",
      "R2: -999  \n",
      "R3: -999  \n",
      "R4: -999  \n",
      "R5: -999  \n",
      "R6: -999  \n",
      "R7: -999  \n",
      "R8: -999  \n",
      "R9: -999  \n",
      "R10: -999  \n",
      "R11: -999  \n",
      "R12: -999  \n",
      "R13: -999  \n",
      "R14: 0  \n",
      "PC: 0\n",
      "R1: 0000 0b11 1110 0111\n"
     ]
    }
   ],
   "source": [
    "printr() #prints all 16 variables\n",
    "\n",
    "printrb(1)"
   ]
  },
  {
   "attachments": {},
   "cell_type": "markdown",
   "metadata": {},
   "source": [
    "### Dealing with binary numbers"
   ]
  },
  {
   "cell_type": "code",
   "execution_count": 5,
   "metadata": {},
   "outputs": [
    {
     "name": "stdout",
     "output_type": "stream",
     "text": [
      "111 111 \n",
      "199 199 \n",
      "-12345 207 \n"
     ]
    }
   ],
   "source": [
    "Set(r1, 111)\n",
    "\n",
    "# r2 = -1234\n",
    "Set(r2, 0b1100_0111) #set last 8 bits (0b1100_0111 = 199)\n",
    "\n",
    "Seth(r2, 0b1100_1111) #set high 8 bits (0b1100_1111 = 207)"
   ]
  },
  {
   "cell_type": "code",
   "execution_count": 10,
   "metadata": {},
   "outputs": [
    {
     "name": "stdout",
     "output_type": "stream",
     "text": [
      "199 199 \n",
      "-12345 207 \n"
     ]
    }
   ],
   "source": [
    "# Storing 16bit number with hexadecimal\n",
    "\n",
    "# hex(199) = 0xc7\n",
    "# hex(207) = 0xcf\n",
    "\n",
    "Set(r3, 0xc7)\n",
    "Seth(r3, 0xcf)"
   ]
  },
  {
   "attachments": {},
   "cell_type": "markdown",
   "metadata": {},
   "source": [
    "### Assigning 16 bit values\n",
    "\n",
    "Each variables can hold 16 bit number, but Set() can only assign value to last 8 bits (as Set and variable name takes 8 bits).\n",
    "Thus, there is another Seth() function that assigns value to the first 8 bits.\n",
    "\n",
    "As it happens, storing modulus in 8 bits and storing remainder in the 8 bits returns the whole number"
   ]
  },
  {
   "cell_type": "code",
   "execution_count": 12,
   "metadata": {},
   "outputs": [
    {
     "name": "stdout",
     "output_type": "stream",
     "text": [
      "R0: 0000 0b11 1110 0111\n",
      "R1: 0000 0000 0110 1111\n",
      "R2: 1100 1111 1100 0111\n",
      "R3: 1100 1111 1100 0111\n",
      "R4: 0000 0b11 1110 0111\n",
      "R5: 0000 0b11 1110 0111\n",
      "R6: 0000 0b11 1110 0111\n",
      "R7: 0000 0b11 1110 0111\n",
      "R8: 0000 0b11 1110 0111\n",
      "R9: 0000 0b11 1110 0111\n",
      "R10: 0000 0b11 1110 0111\n",
      "R11: 0000 0b11 1110 0111\n",
      "R12: 0000 0b11 1110 0111\n",
      "R13: 0000 0b11 1110 0111\n",
      "R14: 0000 0000 0000 0000\n",
      "PC: 0000 0000 0000 1001\n"
     ]
    }
   ],
   "source": [
    "printrb()"
   ]
  },
  {
   "attachments": {},
   "cell_type": "markdown",
   "metadata": {},
   "source": [
    "Changing just 1 digit in the binary value using mask.\n",
    "But index is assigned from left to right starting from 0."
   ]
  },
  {
   "cell_type": "code",
   "execution_count": null,
   "metadata": {},
   "outputs": [],
   "source": [
    "Set(r9, 0)\n",
    "printrb()"
   ]
  },
  {
   "cell_type": "code",
   "execution_count": 16,
   "metadata": {},
   "outputs": [
    {
     "name": "stdout",
     "output_type": "stream",
     "text": [
      "256 1 \n",
      "R0: 0000 0b11 1110 0111\n",
      "R1: 0000 0000 0110 1111\n",
      "R2: 1100 1111 1100 0111\n",
      "R3: 1100 1111 1100 0111\n",
      "R4: 0000 0b11 1110 0111\n",
      "R5: 0000 0b11 1110 0111\n",
      "R6: 0000 0b11 1110 0111\n",
      "R7: 0000 0b11 1110 0111\n",
      "R8: 0000 0b11 1110 0111\n",
      "R9: 0000 0001 0000 0000\n",
      "R10: 0000 0b11 1110 0111\n",
      "R11: 0000 0b11 1110 0111\n",
      "R12: 0000 0b11 1110 0111\n",
      "R13: 0000 0b11 1110 0111\n",
      "R14: 0000 0000 0000 0000\n",
      "PC: 0000 0000 0000 1111\n"
     ]
    }
   ],
   "source": [
    "Seth(r9, 0b0000_0001)\n",
    "printrb()"
   ]
  },
  {
   "cell_type": "code",
   "execution_count": 17,
   "metadata": {},
   "outputs": [
    {
     "name": "stdout",
     "output_type": "stream",
     "text": [
      "0 0 \n",
      "1 1 \n",
      "R0: 0000 0b11 1110 0111\n",
      "R1: 0000 0000 0110 1111\n",
      "R2: 1100 1111 1100 0111\n",
      "R3: 1100 1111 1100 0111\n",
      "R4: 0000 0b11 1110 0111\n",
      "R5: 0000 0b11 1110 0111\n",
      "R6: 0000 0b11 1110 0111\n",
      "R7: 0000 0b11 1110 0111\n",
      "R8: 0000 0b11 1110 0111\n",
      "R9: 0000 0001 0000 0000\n",
      "R10: 0000 0000 0000 0001\n",
      "R11: 0000 0b11 1110 0111\n",
      "R12: 0000 0b11 1110 0111\n",
      "R13: 0000 0b11 1110 0111\n",
      "R14: 0000 0000 0000 0000\n",
      "PC: 0000 0000 0001 0001\n"
     ]
    }
   ],
   "source": [
    "Set(r10, 0)\n",
    "Set(r10, 0b0000_0001)\n",
    "printrb()"
   ]
  },
  {
   "cell_type": "code",
   "execution_count": 18,
   "metadata": {},
   "outputs": [
    {
     "name": "stdout",
     "output_type": "stream",
     "text": [
      "2 2 \n",
      "R0: 0000 0b11 1110 0111\n",
      "R1: 0000 0000 0110 1111\n",
      "R2: 1100 1111 1100 0111\n",
      "R3: 1100 1111 1100 0111\n",
      "R4: 0000 0b11 1110 0111\n",
      "R5: 0000 0b11 1110 0111\n",
      "R6: 0000 0b11 1110 0111\n",
      "R7: 0000 0b11 1110 0111\n",
      "R8: 0000 0b11 1110 0111\n",
      "R9: 0000 0000 0000 0010\n",
      "R10: 0000 0000 0000 0001\n",
      "R11: 0000 0b11 1110 0111\n",
      "R12: 0000 0b11 1110 0111\n",
      "R13: 0000 0b11 1110 0111\n",
      "R14: 0000 0000 0000 0000\n",
      "PC: 0000 0000 0001 0010\n"
     ]
    }
   ],
   "source": [
    "Set(r9, 0b10)\n",
    "printrb()"
   ]
  },
  {
   "cell_type": "code",
   "execution_count": 21,
   "metadata": {},
   "outputs": [
    {
     "name": "stdout",
     "output_type": "stream",
     "text": [
      "-3 2 \n",
      "R0: 0000 0b11 1110 0111\n",
      "R1: 0000 0000 0110 1111\n",
      "R2: 1100 1111 1100 0111\n",
      "R3: 1100 1111 1100 0111\n",
      "R4: 0000 0b11 1110 0111\n",
      "R5: 0000 0b11 1110 0111\n",
      "R6: 0000 0b11 1110 0111\n",
      "R7: 0000 0b11 1110 0111\n",
      "R8: 0000 0b11 1110 0111\n",
      "R9: 1111 1111 1111 1101\n",
      "R10: 0000 0000 0000 0001\n",
      "R11: 0000 0b11 1110 0111\n",
      "R12: 0000 0b11 1110 0111\n",
      "R13: 0000 0b11 1110 0111\n",
      "R14: 0000 0000 0000 0000\n",
      "PC: 0000 0000 0001 0101\n"
     ]
    }
   ],
   "source": [
    "# Not reverses 0s into 1s and vice versa\n",
    "Not(r9, r9)\n",
    "printrb()"
   ]
  },
  {
   "cell_type": "code",
   "execution_count": 22,
   "metadata": {},
   "outputs": [
    {
     "name": "stdout",
     "output_type": "stream",
     "text": [
      "109 111 -3\n"
     ]
    }
   ],
   "source": [
    "# And does what?\n",
    "And(r1, r1, r9)"
   ]
  },
  {
   "cell_type": "code",
   "execution_count": 23,
   "metadata": {},
   "outputs": [
    {
     "name": "stdout",
     "output_type": "stream",
     "text": [
      "R0: 0000 0b11 1110 0111\n",
      "R1: 0000 0000 0110 1101\n",
      "R2: 1100 1111 1100 0111\n",
      "R3: 1100 1111 1100 0111\n",
      "R4: 0000 0b11 1110 0111\n",
      "R5: 0000 0b11 1110 0111\n",
      "R6: 0000 0b11 1110 0111\n",
      "R7: 0000 0b11 1110 0111\n",
      "R8: 0000 0b11 1110 0111\n",
      "R9: 1111 1111 1111 1101\n",
      "R10: 0000 0000 0000 0001\n",
      "R11: 0000 0b11 1110 0111\n",
      "R12: 0000 0b11 1110 0111\n",
      "R13: 0000 0b11 1110 0111\n",
      "R14: 0000 0000 0000 0000\n",
      "PC: 0000 0000 0001 0110\n"
     ]
    }
   ],
   "source": [
    "printrb()"
   ]
  },
  {
   "cell_type": "code",
   "execution_count": 32,
   "metadata": {},
   "outputs": [
    {
     "name": "stdout",
     "output_type": "stream",
     "text": [
      "199 199 \n",
      "-12345 207 \n",
      "R1: 1100 1111 1100 0111\n",
      "215 215 \n",
      "R1: 0000 0000 1101 0111\n"
     ]
    }
   ],
   "source": [
    "# r1 = 0b1100_1111_1100_0111\n",
    "Set(r1, 0b1100_0111)\n",
    "Seth(r1, 0b1100_1111)\n",
    "printrb(1)\n",
    "\n",
    "#Put your code here to set r1 bit 4 to 1 using Mask\n",
    "\n",
    "\n",
    "printrb(1)"
   ]
  },
  {
   "cell_type": "code",
   "execution_count": 67,
   "metadata": {},
   "outputs": [
    {
     "name": "stdout",
     "output_type": "stream",
     "text": [
      "199 199 \n",
      "-12345 207 \n",
      "R1: 1100 1111 1100 0111\n",
      "16 16 \n",
      "-12329 -12345 16\n",
      "R1: 1100 1111 1101 0111\n"
     ]
    }
   ],
   "source": [
    "# r1 = 0b1100_1111_1100_0111\n",
    "Set(r1, 0b1100_0111)\n",
    "Seth(r1, 0b1100_1111)\n",
    "printrb(1)\n",
    "\n",
    "#Put your code here to set r1 bit 4 to 1 using Mask\n",
    "Set(r2, 0b0001_0000)\n",
    "Or(r1, r1, r2)\n",
    "printrb(r1)"
   ]
  },
  {
   "attachments": {},
   "cell_type": "markdown",
   "metadata": {},
   "source": [
    "### Check if a specific bit is 0 or 1\n",
    "Using mask - 0 and 0 is 0, 1 and 1 will be 1, 0 and 1 will be 0"
   ]
  },
  {
   "cell_type": "code",
   "execution_count": 36,
   "metadata": {},
   "outputs": [
    {
     "name": "stdout",
     "output_type": "stream",
     "text": [
      "199 199 \n",
      "-12345 207 \n",
      "R1: 1100 1111 1100 0111\n"
     ]
    }
   ],
   "source": [
    "Set(r1, 0b1100_0111)\n",
    "Seth(r1, 0b1100_1111)\n",
    "printrb(1)"
   ]
  },
  {
   "cell_type": "code",
   "execution_count": 38,
   "metadata": {},
   "outputs": [
    {
     "name": "stdout",
     "output_type": "stream",
     "text": [
      "64 64 \n",
      "R9: 0000 0000 0100 0000\n"
     ]
    }
   ],
   "source": [
    "# Mask\n",
    "Set(r9, 0b0100_0000)\n",
    "printrb(9)"
   ]
  },
  {
   "cell_type": "code",
   "execution_count": 39,
   "metadata": {},
   "outputs": [
    {
     "name": "stdout",
     "output_type": "stream",
     "text": [
      "64 -12345 64\n"
     ]
    }
   ],
   "source": [
    "And(r10, r1, r9)\n",
    "# Since r10 is not equals to 0, that means bit 6 was 1"
   ]
  },
  {
   "cell_type": "code",
   "execution_count": 40,
   "metadata": {},
   "outputs": [
    {
     "name": "stdout",
     "output_type": "stream",
     "text": [
      "32 32 \n",
      "0 -12345 32\n"
     ]
    }
   ],
   "source": [
    "# Check a 0 bit\n",
    "Set(r9, 0b0010_0000)\n",
    "And(r10, r1, r9)\n",
    "\n",
    "# Since r10 is 0, so bit 5 was 0"
   ]
  },
  {
   "attachments": {},
   "cell_type": "markdown",
   "metadata": {},
   "source": [
    "### Shift left\n",
    "By adding the number twice\n",
    "Add a 0 in lower left, all bits will shifts to 1 left, the last bit is gone."
   ]
  },
  {
   "cell_type": "code",
   "execution_count": 41,
   "metadata": {},
   "outputs": [
    {
     "name": "stdout",
     "output_type": "stream",
     "text": [
      "-24690 -12345 -12345\n"
     ]
    }
   ],
   "source": [
    "Add(r2, r1, r1)"
   ]
  },
  {
   "cell_type": "code",
   "execution_count": 42,
   "metadata": {},
   "outputs": [
    {
     "name": "stdout",
     "output_type": "stream",
     "text": [
      "R0: 0000 0b11 1110 0111\n",
      "R1: 1100 1111 1100 0111\n",
      "R2: 1001 1111 1000 1110\n",
      "R3: 1100 1111 1100 0111\n",
      "R4: 0000 0b11 1110 0111\n",
      "R5: 0000 0b11 1110 0111\n",
      "R6: 0000 0b11 1110 0111\n",
      "R7: 0000 0b11 1110 0111\n",
      "R8: 0000 0b11 1110 0111\n",
      "R9: 0000 0000 0010 0000\n",
      "R10: 0000 0000 0000 0000\n",
      "R11: 0000 0b11 1110 0111\n",
      "R12: 0000 0b11 1110 0111\n",
      "R13: 0000 0b11 1110 0111\n",
      "R14: 0000 0000 0000 0000\n",
      "PC: 0000 0000 0100 0000\n"
     ]
    }
   ],
   "source": [
    "printrb()"
   ]
  },
  {
   "attachments": {},
   "cell_type": "markdown",
   "metadata": {},
   "source": [
    "### Load() and Store()\n",
    "The 16 variables are called register.\n",
    "We have additional 16bit (256) storage [0:256] - starting with 0, ending with but not including 256."
   ]
  },
  {
   "cell_type": "code",
   "execution_count": 44,
   "metadata": {},
   "outputs": [
    {
     "name": "stdout",
     "output_type": "stream",
     "text": [
      "D[0:256]: 0, 0, 0, 0, 0, 0, 0, 0, 0, 0, 0, 0, 0, 0, 0, 0, 0, 0, 0, 0, 0, 0, 0, 0, 0, 0, 0, 0, 0, 0, 0, 0, 0, 0, 0, 0, 0, 0, 0, 0, 0, 0, 0, 0, 0, 0, 0, 0, 0, 0, 0, 0, 0, 0, 0, 0, 0, 0, 0, 0, 0, 0, 0, 0, 0, 0, 0, 0, 0, 0, 0, 0, 0, 0, 0, 0, 0, 0, 0, 0, 0, 0, 0, 0, 0, 0, 0, 0, 0, 0, 0, 0, 0, 0, 0, 0, 0, 0, 0, 0, 0, 0, 0, 0, 0, 0, 0, 0, 0, 0, 0, 0, 0, 0, 0, 0, 0, 0, 0, 0, 0, 0, 0, 0, 0, 0, 0, 0, 0, 0, 0, 0, 0, 0, 0, 0, 0, 0, 0, 0, 0, 0, 0, 0, 0, 0, 0, 0, 0, 0, 0, 0, 0, 0, 0, 0, 0, 0, 0, 0, 0, 0, 0, 0, 0, 0, 0, 0, 0, 0, 0, 0, 0, 0, 0, 0, 0, 0, 0, 0, 0, 0, 0, 0, 0, 0, 0, 0, 0, 0, 0, 0, 0, 0, 0, 0, 0, 0, 0, 0, 0, 0, 0, 0, 0, 0, 0, 0, 0, 0, 0, 0, 0, 0, 0, 0, 0, 0, 0, 0, 0, 0, 0, 0, 0, 0, 0, 0, 0, 0, 0, 0, 0, 0, 0, 0, 0, 0, 0, 0, 0, 0, 0, 0, 0, 0, 0, 0, 0, 0, 0, 0, 0, 0, 0, 0, \n"
     ]
    }
   ],
   "source": [
    "printd() # shows 256 locations to store data"
   ]
  },
  {
   "cell_type": "code",
   "execution_count": 45,
   "metadata": {},
   "outputs": [
    {
     "name": "stdout",
     "output_type": "stream",
     "text": [
      "111 111 \n",
      "100 100 \n",
      "100 111 \n",
      "D[100]: 111\n"
     ]
    }
   ],
   "source": [
    "# Store r1 to data storage location 100 using index (address)\n",
    "\n",
    "Set(r1, 111) # the value we want to store\n",
    "\n",
    "# ar is address register 13 - stores adress\n",
    "# cr is conditional register or check register 12 - stores condition\n",
    "Set(ar, 100) # address of where to put the data\n",
    "\n",
    "Store(ar, r1) # first position is of address, second position is of data\n",
    "\n",
    "printd(100) #print 100 index data"
   ]
  },
  {
   "cell_type": "code",
   "execution_count": 47,
   "metadata": {},
   "outputs": [
    {
     "name": "stdout",
     "output_type": "stream",
     "text": [
      "111 100 \n",
      "R0: -999  \n",
      "R1: 111  \n",
      "R2: 111  \n",
      "R3: -12345  \n",
      "R4: -999  \n",
      "R5: -999  \n",
      "R6: -999  \n",
      "R7: -999  \n",
      "R8: -999  \n",
      "R9: 32  \n",
      "R10: 0  \n",
      "R11: -999  \n",
      "R12: -999  \n",
      "R13: 100  \n",
      "R14: 0  \n",
      "PC: 69\n"
     ]
    }
   ],
   "source": [
    "# Get the data back from storage using Load()\n",
    "\n",
    "Load(r2, ar)\n",
    "\n",
    "printr()"
   ]
  },
  {
   "attachments": {},
   "cell_type": "markdown",
   "metadata": {},
   "source": [
    "### Data strucutre\n",
    "Array: they have base address and index"
   ]
  },
  {
   "cell_type": "code",
   "execution_count": 52,
   "metadata": {},
   "outputs": [
    {
     "name": "stdout",
     "output_type": "stream",
     "text": [
      "100 100 \n",
      "0 0 \n",
      "100 100 0\n",
      "111 100 \n",
      "123 123 \n",
      "1 1 \n",
      "101 100 1\n",
      "101 123 \n"
     ]
    }
   ],
   "source": [
    "Set(r10, 100) # base of our array\n",
    "\n",
    "Set(r11, 0) # index of our array\n",
    "\n",
    "Add(ar, r10, r11) # final address of \n",
    "\n",
    "Load(r3, ar)\n",
    "\n",
    "Set(r1, 123) # now we'll put it in index 1\n",
    "\n",
    "Set(r11, 1)\n",
    "\n",
    "Add(ar, r10, r11) # R10 is base, r11 is index - ar to adress final location\n",
    "\n",
    "Store(ar, r1)"
   ]
  },
  {
   "attachments": {},
   "cell_type": "markdown",
   "metadata": {},
   "source": [
    "### Implementing stack\n",
    "LIFO - all for top element (push, pop)\n",
    "\n",
    "Here, index 1 to 100 is for stack, the later are for data structures.\n",
    "\n",
    "The 0th storage is kept empty for easy checking of empty"
   ]
  },
  {
   "cell_type": "code",
   "execution_count": 53,
   "metadata": {},
   "outputs": [
    {
     "data": {
      "text/plain": [
       "14"
      ]
     },
     "execution_count": 53,
     "metadata": {},
     "output_type": "execute_result"
    }
   ],
   "source": [
    "st # st stands for stack top, has register 14. When we start PC, bios resets stack to 0. If st is 0, there is nothing in stack. If st is 2, there is 2 things in stack.\n"
   ]
  },
  {
   "cell_type": "code",
   "execution_count": 54,
   "metadata": {},
   "outputs": [
    {
     "name": "stdout",
     "output_type": "stream",
     "text": [
      "1 0 1\n",
      "66 66 \n",
      "1 66 \n",
      "D[0:256]: 0, 66, 0, 0, 0, 0, 0, 0, 0, 0, 0, 0, 0, 0, 0, 0, 0, 0, 0, 0, 0, 0, 0, 0, 0, 0, 0, 0, 0, 0, 0, 0, 0, 0, 0, 0, 0, 0, 0, 0, 0, 0, 0, 0, 0, 0, 0, 0, 0, 0, 0, 0, 0, 0, 0, 0, 0, 0, 0, 0, 0, 0, 0, 0, 0, 0, 0, 0, 0, 0, 0, 0, 0, 0, 0, 0, 0, 0, 0, 0, 0, 0, 0, 0, 0, 0, 0, 0, 0, 0, 0, 0, 0, 0, 0, 0, 0, 0, 0, 0, 111, 123, 0, 0, 0, 0, 0, 0, 0, 0, 0, 0, 0, 0, 0, 0, 0, 0, 0, 0, 0, 0, 0, 0, 0, 0, 0, 0, 0, 0, 0, 0, 0, 0, 0, 0, 0, 0, 0, 0, 0, 0, 0, 0, 0, 0, 0, 0, 0, 0, 0, 0, 0, 0, 0, 0, 0, 0, 0, 0, 0, 0, 0, 0, 0, 0, 0, 0, 0, 0, 0, 0, 0, 0, 0, 0, 0, 0, 0, 0, 0, 0, 0, 0, 0, 0, 0, 0, 0, 0, 0, 0, 0, 0, 0, 0, 0, 0, 0, 0, 0, 0, 0, 0, 0, 0, 0, 0, 0, 0, 0, 0, 0, 0, 0, 0, 0, 0, 0, 0, 0, 0, 0, 0, 0, 0, 0, 0, 0, 0, 0, 0, 0, 0, 0, 0, 0, 0, 0, 0, 0, 0, 0, 0, 0, 0, 0, 0, 0, 0, 0, 0, 0, 0, 0, 0, \n"
     ]
    }
   ],
   "source": [
    "# Push 66 in a stack\n",
    "Addi(st, st, 1) # get a new top space for push\n",
    "Set(cr, 66) # push 66 in conditional array which is temporary - cr and ar can be messed up\n",
    "Store(st, cr) # now 66 is \n",
    "printd()"
   ]
  },
  {
   "cell_type": "code",
   "execution_count": 55,
   "metadata": {},
   "outputs": [
    {
     "name": "stdout",
     "output_type": "stream",
     "text": [
      "77 77 \n",
      "2 1 1\n",
      "2 77 \n",
      "D[0:256]: 0, 66, 77, 0, 0, 0, 0, 0, 0, 0, 0, 0, 0, 0, 0, 0, 0, 0, 0, 0, 0, 0, 0, 0, 0, 0, 0, 0, 0, 0, 0, 0, 0, 0, 0, 0, 0, 0, 0, 0, 0, 0, 0, 0, 0, 0, 0, 0, 0, 0, 0, 0, 0, 0, 0, 0, 0, 0, 0, 0, 0, 0, 0, 0, 0, 0, 0, 0, 0, 0, 0, 0, 0, 0, 0, 0, 0, 0, 0, 0, 0, 0, 0, 0, 0, 0, 0, 0, 0, 0, 0, 0, 0, 0, 0, 0, 0, 0, 0, 0, 111, 123, 0, 0, 0, 0, 0, 0, 0, 0, 0, 0, 0, 0, 0, 0, 0, 0, 0, 0, 0, 0, 0, 0, 0, 0, 0, 0, 0, 0, 0, 0, 0, 0, 0, 0, 0, 0, 0, 0, 0, 0, 0, 0, 0, 0, 0, 0, 0, 0, 0, 0, 0, 0, 0, 0, 0, 0, 0, 0, 0, 0, 0, 0, 0, 0, 0, 0, 0, 0, 0, 0, 0, 0, 0, 0, 0, 0, 0, 0, 0, 0, 0, 0, 0, 0, 0, 0, 0, 0, 0, 0, 0, 0, 0, 0, 0, 0, 0, 0, 0, 0, 0, 0, 0, 0, 0, 0, 0, 0, 0, 0, 0, 0, 0, 0, 0, 0, 0, 0, 0, 0, 0, 0, 0, 0, 0, 0, 0, 0, 0, 0, 0, 0, 0, 0, 0, 0, 0, 0, 0, 0, 0, 0, 0, 0, 0, 0, 0, 0, 0, 0, 0, 0, 0, 0, \n"
     ]
    }
   ],
   "source": [
    "# Push 77 in the stack\n",
    "Set(cr, 77)\n",
    "Addi(st, st, 1)\n",
    "Store(st, cr)\n",
    "printd() # 77 will be on top of 66"
   ]
  },
  {
   "cell_type": "code",
   "execution_count": 56,
   "metadata": {},
   "outputs": [
    {
     "name": "stdout",
     "output_type": "stream",
     "text": [
      "77 2 \n",
      "1 2 1\n",
      "R0: -999  \n",
      "R1: 123  \n",
      "R2: 111  \n",
      "R3: 77  \n",
      "R4: -999  \n",
      "R5: -999  \n",
      "R6: -999  \n",
      "R7: -999  \n",
      "R8: -999  \n",
      "R9: 32  \n",
      "R10: 100  \n",
      "R11: 1  \n",
      "R12: 77  \n",
      "R13: 101  \n",
      "R14: 1  \n",
      "PC: 97\n",
      "D[0:256]: 0, 66, 77, 0, 0, 0, 0, 0, 0, 0, 0, 0, 0, 0, 0, 0, 0, 0, 0, 0, 0, 0, 0, 0, 0, 0, 0, 0, 0, 0, 0, 0, 0, 0, 0, 0, 0, 0, 0, 0, 0, 0, 0, 0, 0, 0, 0, 0, 0, 0, 0, 0, 0, 0, 0, 0, 0, 0, 0, 0, 0, 0, 0, 0, 0, 0, 0, 0, 0, 0, 0, 0, 0, 0, 0, 0, 0, 0, 0, 0, 0, 0, 0, 0, 0, 0, 0, 0, 0, 0, 0, 0, 0, 0, 0, 0, 0, 0, 0, 0, 111, 123, 0, 0, 0, 0, 0, 0, 0, 0, 0, 0, 0, 0, 0, 0, 0, 0, 0, 0, 0, 0, 0, 0, 0, 0, 0, 0, 0, 0, 0, 0, 0, 0, 0, 0, 0, 0, 0, 0, 0, 0, 0, 0, 0, 0, 0, 0, 0, 0, 0, 0, 0, 0, 0, 0, 0, 0, 0, 0, 0, 0, 0, 0, 0, 0, 0, 0, 0, 0, 0, 0, 0, 0, 0, 0, 0, 0, 0, 0, 0, 0, 0, 0, 0, 0, 0, 0, 0, 0, 0, 0, 0, 0, 0, 0, 0, 0, 0, 0, 0, 0, 0, 0, 0, 0, 0, 0, 0, 0, 0, 0, 0, 0, 0, 0, 0, 0, 0, 0, 0, 0, 0, 0, 0, 0, 0, 0, 0, 0, 0, 0, 0, 0, 0, 0, 0, 0, 0, 0, 0, 0, 0, 0, 0, 0, 0, 0, 0, 0, 0, 0, 0, 0, 0, 0, \n"
     ]
    }
   ],
   "source": [
    "# Pop\n",
    "Load(r3, st) # get the top stack and put it into r3 - this byitself is like pick\n",
    "Subi(st, st, 1) # together it's pop\n",
    "printr() # in r14, it'll show 1, as we've popped 1 value out\n",
    "printd() #it'll still show 77, but if we push a value, it'll overwrite 77"
   ]
  },
  {
   "cell_type": "code",
   "execution_count": null,
   "metadata": {},
   "outputs": [],
   "source": []
  }
 ],
 "metadata": {
  "kernelspec": {
   "display_name": "Python 3",
   "language": "python",
   "name": "python3"
  },
  "language_info": {
   "codemirror_mode": {
    "name": "ipython",
    "version": 3
   },
   "file_extension": ".py",
   "mimetype": "text/x-python",
   "name": "python",
   "nbconvert_exporter": "python",
   "pygments_lexer": "ipython3",
   "version": "3.11.2"
  },
  "orig_nbformat": 4
 },
 "nbformat": 4,
 "nbformat_minor": 2
}
