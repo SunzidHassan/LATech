{
 "cells": [
  {
   "attachments": {},
   "cell_type": "markdown",
   "metadata": {},
   "source": [
    "# Practice"
   ]
  },
  {
   "cell_type": "code",
   "execution_count": 1,
   "metadata": {},
   "outputs": [
    {
     "name": "stdout",
     "output_type": "stream",
     "text": [
      "*** BCPU 5.3.0 startup completed ***\n"
     ]
    }
   ],
   "source": [
    "from bcpu import *"
   ]
  },
  {
   "cell_type": "code",
   "execution_count": null,
   "metadata": {},
   "outputs": [],
   "source": [
    "# Convert binary to decimal\n",
    "int(str(1100000001),base=2)\n"
   ]
  },
  {
   "attachments": {},
   "cell_type": "markdown",
   "metadata": {},
   "source": [
    "# Classes"
   ]
  },
  {
   "attachments": {},
   "cell_type": "markdown",
   "metadata": {},
   "source": [
    "## Class 2"
   ]
  },
  {
   "attachments": {},
   "cell_type": "markdown",
   "metadata": {},
   "source": [
    "### BCPU Instructions\n",
    "\n",
    "- Move(rd, ra) # rd = ra\n",
    "Not(rd, ra) # rd = bitwise not ra\n",
    "And(rd, ra, rb) # rd = ra bitwise and rb\n",
    "Or(rd, ra, rb) # rd = ra bitwise or rb\n",
    "Add(rd, ra, rb) # rd = ra + rb (ra and rb 4 bit)\n",
    "Sub(rd, ra, rb) # rd = ra - rb (ra and rb 4 bit)\n",
    "Addi(rd, ra, v4) # rd = ra + v4 (ra and v4 4 bit)\n",
    "Subi(rd, ra, v4) # rd = ra - v4 (ra and v4 4 bit)\n",
    "Set(rd, v8) # rd = 8 bit var v8 (8 0s followed by v8)\n",
    "Seth(rd, v8) # 8 bit v8 followed by 8 digits. The high values indicate multiples of 256 (0 0000 0001 is 1), (1 0000 0001 is 256+1), (10 0000 0001 is 256*2 + 1), (10 0000 0002 is 256*2 + 2)\n",
    "Store(rd, ra) # DataStorage[rd] = ra, rd is address\n",
    "Load(rd, ra) #DataStorage[ra] = rd, where ra is address\n",
    "\n",
    "There are 16 registers, last one is PC which means program counter."
   ]
  },
  {
   "attachments": {},
   "cell_type": "markdown",
   "metadata": {},
   "source": [
    "### Set(), Seth(), Move()"
   ]
  },
  {
   "cell_type": "code",
   "execution_count": null,
   "metadata": {},
   "outputs": [],
   "source": [
    "Set(r1, 10) # r1 = 10\n",
    "Move(r2, r1) # copy r2 into r1\n"
   ]
  },
  {
   "attachments": {},
   "cell_type": "markdown",
   "metadata": {},
   "source": [
    "#### Storing binary"
   ]
  },
  {
   "cell_type": "code",
   "execution_count": null,
   "metadata": {},
   "outputs": [],
   "source": [
    "print(int(str(11000111),base=2))\n",
    "print(int(str(11001111),base=2))\n",
    "print(int(str(111000111),base=2)) # First 8 bit is bin 1 (dec 1), last 8 bit is dec 199: 256*1+199 = 455\n",
    "print(int(str(1011000111),base=2)) # First 8 bit is bin 10 (dec 2), last 8 bit is dec 199: 256*2+199 = 711\n",
    "print(int(str(1100111111000111),base=2)) # First 8 bit is bin 11001111 (dec 207), last 8 bit is dec 199: but it's not 207*256+199 = 53191, it's -12345.\n",
    "\"\"\"\n",
    "Because the max positive value is 32767 (2^16 = 65536: -32768 to 32767). So after 32767, it counts from -32768 upwards to -12345.\n",
    "\"\"\"\n",
    "\n",
    "print()\n",
    "Set(r2, 0b1100_0111) #set last 8 bits (0b1100_0111 = 199)\n",
    "Seth(r2, 0b1100_1111) #set high 8 bits (0b1100_1111 = 207) 207*256\n",
    "printrb(r2)"
   ]
  },
  {
   "cell_type": "markdown",
   "metadata": {},
   "source": [
    "#### Storing large value"
   ]
  },
  {
   "cell_type": "code",
   "execution_count": null,
   "metadata": {},
   "outputs": [],
   "source": [
    "Set(r2, 260%256) # the remainder of 256 - setting in the lower 8 bits\n",
    "Seth(r2, 260//256) # the multiple of 256 - setting higher 8 bits\n",
    "printrb(r2) # overall - multiple of 256 + remainder"
   ]
  },
  {
   "attachments": {},
   "cell_type": "markdown",
   "metadata": {},
   "source": [
    "## Class 3"
   ]
  },
  {
   "attachments": {},
   "cell_type": "markdown",
   "metadata": {},
   "source": [
    "### Conditionals: Not(), And(), Or(), printrb() and binary numbers\n",
    "Binary index is assigned from left to right starting from 0: 0b 15 14 13 12 _ 11 10 9 8 _ 7 6 5 4 _ 3 2 1 0"
   ]
  },
  {
   "cell_type": "code",
   "execution_count": null,
   "metadata": {},
   "outputs": [],
   "source": [
    "Set(r1, 1) # r1 = 10\n",
    "Set(r2, 10) # copy r2 into r1\n",
    "Set(r3, 100)\n",
    "\n",
    "# Bitwise NOT r2\n",
    "Not(r3, r2)\n",
    "printrb(2)\n",
    "printrb(3)\n",
    "\n",
    "# bitwise r2 and r3\n",
    "And(r4, r2, r3)\n",
    "printrb(2)\n",
    "printrb(3)\n",
    "printrb(4)\n",
    "\n",
    "# bitwise r2 or r3\n",
    "Or(r5, r2, r3)\n",
    "printrb(2)\n",
    "printrb(3)\n",
    "printrb(5)"
   ]
  },
  {
   "attachments": {},
   "cell_type": "markdown",
   "metadata": {},
   "source": [
    "#### Storing negative value"
   ]
  },
  {
   "cell_type": "code",
   "execution_count": null,
   "metadata": {},
   "outputs": [],
   "source": [
    "Set(r5, 1)\n",
    "printrb(r5)\n",
    "print()\n",
    "\n",
    "Not(r5, r5)\n",
    "printrb(r5)\n",
    "print()\n",
    "\n",
    "Addi(r5, r5, 1)\n",
    "printrb(r5)\n",
    "print()\n",
    "\n",
    "# It makes decimal negative. When do bitwise NOT is 65534. So it's 32767 + 1 = -32768 + (65534-32768 or 32766) > = -2. We add 1 to get -1.\n",
    "print(int(str(1),base=2))\n",
    "print(int(str(1111111111111110),base=2))\n",
    "print(int(str(1111111100000001),base=2))"
   ]
  },
  {
   "cell_type": "code",
   "execution_count": null,
   "metadata": {},
   "outputs": [],
   "source": [
    "#### Storing 16bit number with hexadecimal\n",
    "\n",
    "# hex(199) = 0xc7\n",
    "# hex(207) = 0xcf\n",
    "\n",
    "Set(r3, 0xc7)\n",
    "Seth(r3, 0xcf)"
   ]
  },
  {
   "attachments": {},
   "cell_type": "markdown",
   "metadata": {},
   "source": [
    "#### Assignment: Changing just 1 digit in the binary value using mask.\n",
    "Using mask - 0 and 0 is 0, 1 and 1 will be 1, 0 and 1 will be 0"
   ]
  },
  {
   "cell_type": "code",
   "execution_count": 6,
   "metadata": {},
   "outputs": [
    {
     "name": "stdout",
     "output_type": "stream",
     "text": [
      "199 199 \n",
      "-12345 207 \n",
      "R1: 1100 1111 1100 0111\n",
      "16 16 \n",
      "-12329 -12345 16\n",
      "R1: 1100 1111 1101 0111\n"
     ]
    }
   ],
   "source": [
    "# r1 = 0b1100_1111_1100_0111\n",
    "Set(r1, 0b1100_0111)\n",
    "Seth(r1, 0b1100_1111)\n",
    "printrb(1)\n",
    "\n",
    "#Put your code here to set r1 bit 4 to 1 using Mask\n",
    "Set(r2, 0b0001_0000)\n",
    "Or(r1, r1, r2)\n",
    "printrb(r1)"
   ]
  },
  {
   "attachments": {},
   "cell_type": "markdown",
   "metadata": {},
   "source": [
    "#### Assignment: Changing 2 digits in the binary value using mask."
   ]
  },
  {
   "cell_type": "code",
   "execution_count": 15,
   "metadata": {},
   "outputs": [
    {
     "name": "stdout",
     "output_type": "stream",
     "text": [
      "199 199 \n",
      "-12345 207 \n",
      "R1: 1100 1111 1100 0111\n",
      "199 199 \n",
      "-13625 202 \n",
      "-13625 -12345 -13625\n",
      "R1: 1100 1010 1100 0111\n"
     ]
    }
   ],
   "source": [
    "# r1 = 0b1100_1111_1100_0111\n",
    "Set(r1, 0b1100_0111)\n",
    "Seth(r1, 0b1100_1111)\n",
    "printrb(1)\n",
    "\n",
    "# clear r1 bit 8 and bit 10 to 0\n",
    "Set(r2, 0b1100_0111)\n",
    "Seth(r2, 0b1100_1010)\n",
    "\n",
    "# put your code here\n",
    "And(r1, r1, r2)\n",
    "printrb(1)"
   ]
  },
  {
   "attachments": {},
   "cell_type": "markdown",
   "metadata": {},
   "source": [
    "#### Check if a specific bit is 0 or 1"
   ]
  },
  {
   "cell_type": "code",
   "execution_count": 20,
   "metadata": {},
   "outputs": [
    {
     "name": "stdout",
     "output_type": "stream",
     "text": [
      "199 199 \n",
      "-12345 207 \n",
      "R1: 1100 1111 1100 0111\n",
      "64 64 \n",
      "R9: 0000 0000 0100 0000\n",
      "64 -12345 64\n",
      "R10: 0000 0000 0100 0000\n"
     ]
    }
   ],
   "source": [
    "Set(r1, 0b1100_0111)\n",
    "Seth(r1, 0b1100_1111)\n",
    "printrb(1)\n",
    "\n",
    "# Check if bit 6 is 0\n",
    "# Mask\n",
    "Set(r9, 0b0100_0000)\n",
    "printrb(9)\n",
    "\n",
    "And(r10, r1, r9)\n",
    "printrb(10)\n",
    "# Since r10 does not equals to 0, that means bit 6 was 1\n"
   ]
  },
  {
   "attachments": {},
   "cell_type": "markdown",
   "metadata": {},
   "source": [
    "### Addition"
   ]
  },
  {
   "attachments": {},
   "cell_type": "markdown",
   "metadata": {},
   "source": [
    "#### Shift left\n",
    "By adding a number twice, all digits gets shifted to 1 left. A 0 gets added at the rightmost, and the last bit is lost."
   ]
  },
  {
   "cell_type": "code",
   "execution_count": 26,
   "metadata": {},
   "outputs": [
    {
     "name": "stdout",
     "output_type": "stream",
     "text": [
      "R1: 1100 1111 1100 0111\n",
      "-24690 -12345 -12345\n",
      "R2: 1001 1111 1000 1110\n"
     ]
    }
   ],
   "source": [
    "printrb(1)\n",
    "Add(r1, r1, r1)\n",
    "printrb(2)"
   ]
  },
  {
   "attachments": {},
   "cell_type": "markdown",
   "metadata": {},
   "source": [
    "### Store() and Load()\n",
    "We have 16 instructions.\n",
    "The 16 variables are called register.\n",
    "We have additional 16bit (256) storage [0:256] - starting with 0, ending with but not including 256."
   ]
  },
  {
   "cell_type": "code",
   "execution_count": 27,
   "metadata": {},
   "outputs": [
    {
     "name": "stdout",
     "output_type": "stream",
     "text": [
      "D[0:256]: 0, 0, 0, 0, 0, 0, 0, 0, 0, 0, 0, 0, 0, 0, 0, 0, 0, 0, 0, 0, 0, 0, 0, 0, 0, 0, 0, 0, 0, 0, 0, 0, 0, 0, 0, 0, 0, 0, 0, 0, 0, 0, 0, 0, 0, 0, 0, 0, 0, 0, 0, 0, 0, 0, 0, 0, 0, 0, 0, 0, 0, 0, 0, 0, 0, 0, 0, 0, 0, 0, 0, 0, 0, 0, 0, 0, 0, 0, 0, 0, 0, 0, 0, 0, 0, 0, 0, 0, 0, 0, 0, 0, 0, 0, 0, 0, 0, 0, 0, 0, 0, 0, 0, 0, 0, 0, 0, 0, 0, 0, 0, 0, 0, 0, 0, 0, 0, 0, 0, 0, 0, 0, 0, 0, 0, 0, 0, 0, 0, 0, 0, 0, 0, 0, 0, 0, 0, 0, 0, 0, 0, 0, 0, 0, 0, 0, 0, 0, 0, 0, 0, 0, 0, 0, 0, 0, 0, 0, 0, 0, 0, 0, 0, 0, 0, 0, 0, 0, 0, 0, 0, 0, 0, 0, 0, 0, 0, 0, 0, 0, 0, 0, 0, 0, 0, 0, 0, 0, 0, 0, 0, 0, 0, 0, 0, 0, 0, 0, 0, 0, 0, 0, 0, 0, 0, 0, 0, 0, 0, 0, 0, 0, 0, 0, 0, 0, 0, 0, 0, 0, 0, 0, 0, 0, 0, 0, 0, 0, 0, 0, 0, 0, 0, 0, 0, 0, 0, 0, 0, 0, 0, 0, 0, 0, 0, 0, 0, 0, 0, 0, 0, 0, 0, 0, 0, 0, \n"
     ]
    }
   ],
   "source": [
    "printd() # shows 256 locations to store data"
   ]
  },
  {
   "cell_type": "code",
   "execution_count": 28,
   "metadata": {},
   "outputs": [
    {
     "name": "stdout",
     "output_type": "stream",
     "text": [
      "111 111 \n",
      "100 100 \n",
      "100 111 \n",
      "D[100]: 111\n"
     ]
    }
   ],
   "source": [
    "# Store r1 to data storage location 100 using index (address)\n",
    "\n",
    "Set(r1, 111) # the value we want to store\n",
    "\n",
    "# ar is address register 13 - stores address\n",
    "# cr is conditional register or check register 12 - stores condition\n",
    "Set(ar, 100) # address of where to put the data\n",
    "\n",
    "Store(ar, r1) # first position is of address, second position is of data\n",
    "\n",
    "printd(100) #print 100 index data"
   ]
  },
  {
   "cell_type": "code",
   "execution_count": 33,
   "metadata": {},
   "outputs": [
    {
     "name": "stdout",
     "output_type": "stream",
     "text": [
      "123 101 \n",
      "R0: -999  \n",
      "R1: 123  \n",
      "R2: 123  \n",
      "R3: 111  \n",
      "R4: -999  \n",
      "R5: -999  \n",
      "R6: -999  \n",
      "R7: -999  \n",
      "R8: -999  \n",
      "R9: 32  \n",
      "R10: 100  \n",
      "R11: 1  \n",
      "R12: -999  \n",
      "R13: 101  \n",
      "R14: 0  \n",
      "PC: 152\n"
     ]
    }
   ],
   "source": [
    "# Get the data back from storage using Load()\n",
    "Load(r2, ar)\n",
    "printr()"
   ]
  },
  {
   "attachments": {},
   "cell_type": "markdown",
   "metadata": {},
   "source": [
    "### Data strucutre"
   ]
  },
  {
   "attachments": {},
   "cell_type": "markdown",
   "metadata": {},
   "source": [
    "#### Array: they have base address and index"
   ]
  },
  {
   "cell_type": "code",
   "execution_count": 35,
   "metadata": {},
   "outputs": [
    {
     "name": "stdout",
     "output_type": "stream",
     "text": [
      "100 100 \n",
      "0 0 \n",
      "100 100 0\n",
      "111 100 \n",
      "123 123 \n",
      "1 1 \n",
      "101 100 1\n",
      "101 123 \n"
     ]
    }
   ],
   "source": [
    "Set(r10, 100) # base of our array (first 100 is kept for stacks)\n",
    "Set(r11, 0) # index of our array\n",
    "Add(ar, r10, r11) # final address of \n",
    "\n",
    "Load(r3, ar) # load data from the given array address\n",
    "\n",
    "Set(r1, 123) # now we'll put it in index 1\n",
    "Addi(ar, r10, 1) # R10 is base, r11 is index - ar is address of the final location\n",
    "\n",
    "Store(ar, r1) # store data in the given address"
   ]
  },
  {
   "attachments": {},
   "cell_type": "markdown",
   "metadata": {},
   "source": [
    "#### Stack\n",
    "LIFO - Last in first out. Push and Pop for topmost element\n",
    "Here, index 1 to 100 is for stack.\n",
    "The 0th storage is kept empty for easy checking of empty, as first element is added from index 1.\n",
    "\n",
    "When we start PC, bios resets stack to 0. If st is 0, there is nothing in stack."
   ]
  },
  {
   "cell_type": "code",
   "execution_count": 36,
   "metadata": {},
   "outputs": [
    {
     "data": {
      "text/plain": [
       "14"
      ]
     },
     "execution_count": 36,
     "metadata": {},
     "output_type": "execute_result"
    }
   ],
   "source": [
    "st # st stands for stack top, has register 14. If st is 2, there is 2 things in stack."
   ]
  },
  {
   "attachments": {},
   "cell_type": "markdown",
   "metadata": {},
   "source": [
    "##### Push"
   ]
  },
  {
   "cell_type": "code",
   "execution_count": 41,
   "metadata": {},
   "outputs": [
    {
     "name": "stdout",
     "output_type": "stream",
     "text": [
      "1 0 1\n",
      "66 66 \n",
      "1 66 \n",
      "D[0:256]: 0, 66, 77, 0, 0, 0, 0, 0, 0, 0, 0, 0, 0, 0, 0, 0, 0, 0, 0, 0, 0, 0, 0, 0, 0, 0, 0, 0, 0, 0, 0, 0, 0, 0, 0, 0, 0, 0, 0, 0, 0, 0, 0, 0, 0, 0, 0, 0, 0, 0, 0, 0, 0, 0, 0, 0, 0, 0, 0, 0, 0, 0, 0, 0, 0, 0, 0, 0, 0, 0, 0, 0, 0, 0, 0, 0, 0, 0, 0, 0, 0, 0, 0, 0, 0, 0, 0, 0, 0, 0, 0, 0, 0, 0, 0, 0, 0, 0, 0, 0, 111, 123, 0, 0, 0, 0, 0, 0, 0, 0, 0, 0, 0, 0, 0, 0, 0, 0, 0, 0, 0, 0, 0, 0, 0, 0, 0, 0, 0, 0, 0, 0, 0, 0, 0, 0, 0, 0, 0, 0, 0, 0, 0, 0, 0, 0, 0, 0, 0, 0, 0, 0, 0, 0, 0, 0, 0, 0, 0, 0, 0, 0, 0, 0, 0, 0, 0, 0, 0, 0, 0, 0, 0, 0, 0, 0, 0, 0, 0, 0, 0, 0, 0, 0, 0, 0, 0, 0, 0, 0, 0, 0, 0, 0, 0, 0, 0, 0, 0, 0, 0, 0, 0, 0, 0, 0, 0, 0, 0, 0, 0, 0, 0, 0, 0, 0, 0, 0, 0, 0, 0, 0, 0, 0, 0, 0, 0, 0, 0, 0, 0, 0, 0, 0, 0, 0, 0, 0, 0, 0, 0, 0, 0, 0, 0, 0, 0, 0, 0, 0, 0, 0, 0, 0, 0, 0, \n"
     ]
    }
   ],
   "source": [
    "# Push 66 in a stack\n",
    "Addi(st, st, 1) # get a new top space for push\n",
    "Set(cr, 66) # push 66 in conditional array which is temporary - cr and ar can be messed up\n",
    "Store(st, cr) # now 66 is \n",
    "printd()"
   ]
  },
  {
   "cell_type": "code",
   "execution_count": 42,
   "metadata": {},
   "outputs": [
    {
     "name": "stdout",
     "output_type": "stream",
     "text": [
      "77 77 \n",
      "2 1 1\n",
      "2 77 \n",
      "D[0:256]: 0, 66, 77, 0, 0, 0, 0, 0, 0, 0, 0, 0, 0, 0, 0, 0, 0, 0, 0, 0, 0, 0, 0, 0, 0, 0, 0, 0, 0, 0, 0, 0, 0, 0, 0, 0, 0, 0, 0, 0, 0, 0, 0, 0, 0, 0, 0, 0, 0, 0, 0, 0, 0, 0, 0, 0, 0, 0, 0, 0, 0, 0, 0, 0, 0, 0, 0, 0, 0, 0, 0, 0, 0, 0, 0, 0, 0, 0, 0, 0, 0, 0, 0, 0, 0, 0, 0, 0, 0, 0, 0, 0, 0, 0, 0, 0, 0, 0, 0, 0, 111, 123, 0, 0, 0, 0, 0, 0, 0, 0, 0, 0, 0, 0, 0, 0, 0, 0, 0, 0, 0, 0, 0, 0, 0, 0, 0, 0, 0, 0, 0, 0, 0, 0, 0, 0, 0, 0, 0, 0, 0, 0, 0, 0, 0, 0, 0, 0, 0, 0, 0, 0, 0, 0, 0, 0, 0, 0, 0, 0, 0, 0, 0, 0, 0, 0, 0, 0, 0, 0, 0, 0, 0, 0, 0, 0, 0, 0, 0, 0, 0, 0, 0, 0, 0, 0, 0, 0, 0, 0, 0, 0, 0, 0, 0, 0, 0, 0, 0, 0, 0, 0, 0, 0, 0, 0, 0, 0, 0, 0, 0, 0, 0, 0, 0, 0, 0, 0, 0, 0, 0, 0, 0, 0, 0, 0, 0, 0, 0, 0, 0, 0, 0, 0, 0, 0, 0, 0, 0, 0, 0, 0, 0, 0, 0, 0, 0, 0, 0, 0, 0, 0, 0, 0, 0, 0, \n"
     ]
    }
   ],
   "source": [
    "# Push 77 in the stack\n",
    "Set(cr, 77) # the value to be stored\n",
    "Addi(st, st, 1) #store 1 index above the existing stack\n",
    "Store(st, cr)\n",
    "printd() # 77 will be on top of 66"
   ]
  },
  {
   "attachments": {},
   "cell_type": "markdown",
   "metadata": {},
   "source": [
    "##### Pop"
   ]
  },
  {
   "cell_type": "code",
   "execution_count": 44,
   "metadata": {},
   "outputs": [
    {
     "name": "stdout",
     "output_type": "stream",
     "text": [
      "66 1 \n",
      "0 1 1\n",
      "R3: 66  \n",
      "D[0:256]: 0, 66, 77, 0, 0, 0, 0, 0, 0, 0, 0, 0, 0, 0, 0, 0, 0, 0, 0, 0, 0, 0, 0, 0, 0, 0, 0, 0, 0, 0, 0, 0, 0, 0, 0, 0, 0, 0, 0, 0, 0, 0, 0, 0, 0, 0, 0, 0, 0, 0, 0, 0, 0, 0, 0, 0, 0, 0, 0, 0, 0, 0, 0, 0, 0, 0, 0, 0, 0, 0, 0, 0, 0, 0, 0, 0, 0, 0, 0, 0, 0, 0, 0, 0, 0, 0, 0, 0, 0, 0, 0, 0, 0, 0, 0, 0, 0, 0, 0, 0, 111, 123, 0, 0, 0, 0, 0, 0, 0, 0, 0, 0, 0, 0, 0, 0, 0, 0, 0, 0, 0, 0, 0, 0, 0, 0, 0, 0, 0, 0, 0, 0, 0, 0, 0, 0, 0, 0, 0, 0, 0, 0, 0, 0, 0, 0, 0, 0, 0, 0, 0, 0, 0, 0, 0, 0, 0, 0, 0, 0, 0, 0, 0, 0, 0, 0, 0, 0, 0, 0, 0, 0, 0, 0, 0, 0, 0, 0, 0, 0, 0, 0, 0, 0, 0, 0, 0, 0, 0, 0, 0, 0, 0, 0, 0, 0, 0, 0, 0, 0, 0, 0, 0, 0, 0, 0, 0, 0, 0, 0, 0, 0, 0, 0, 0, 0, 0, 0, 0, 0, 0, 0, 0, 0, 0, 0, 0, 0, 0, 0, 0, 0, 0, 0, 0, 0, 0, 0, 0, 0, 0, 0, 0, 0, 0, 0, 0, 0, 0, 0, 0, 0, 0, 0, 0, 0, \n"
     ]
    }
   ],
   "source": [
    "# Pop\n",
    "Load(r3, st) # get the top stack and put it into r3 - this byitself is like pick\n",
    "Subi(st, st, 1) # together it's pop\n",
    "printr(3) # in r14, it'll show 1, as we've popped 1 value out\n",
    "printd() #it'll still show 77, but if we push a value, it'll overwrite 77"
   ]
  },
  {
   "attachments": {},
   "cell_type": "markdown",
   "metadata": {},
   "source": [
    "#### Assignment: Push-Pop"
   ]
  },
  {
   "cell_type": "code",
   "execution_count": 47,
   "metadata": {},
   "outputs": [
    {
     "name": "stdout",
     "output_type": "stream",
     "text": [
      "11 11 \n",
      "8 7 1\n",
      "8 11 \n",
      "22 22 \n",
      "9 8 1\n",
      "9 22 \n",
      "33 33 \n",
      "10 9 1\n",
      "10 33 \n",
      "44 44 \n",
      "11 10 1\n",
      "11 44 \n",
      "D[0:256]: 0, 11, 22, 33, 44, 11, 22, 33, 11, 22, 33, 44, 0, 0, 0, 0, 0, 0, 0, 0, 0, 0, 0, 0, 0, 0, 0, 0, 0, 0, 0, 0, 0, 0, 0, 0, 0, 0, 0, 0, 0, 0, 0, 0, 0, 0, 0, 0, 0, 0, 0, 0, 0, 0, 0, 0, 0, 0, 0, 0, 0, 0, 0, 0, 0, 0, 0, 0, 0, 0, 0, 0, 0, 0, 0, 0, 0, 0, 0, 0, 0, 0, 0, 0, 0, 0, 0, 0, 0, 0, 0, 0, 0, 0, 0, 0, 0, 0, 0, 0, 111, 123, 0, 0, 0, 0, 0, 0, 0, 0, 0, 0, 0, 0, 0, 0, 0, 0, 0, 0, 0, 0, 0, 0, 0, 0, 0, 0, 0, 0, 0, 0, 0, 0, 0, 0, 0, 0, 0, 0, 0, 0, 0, 0, 0, 0, 0, 0, 0, 0, 0, 0, 0, 0, 0, 0, 0, 0, 0, 0, 0, 0, 0, 0, 0, 0, 0, 0, 0, 0, 0, 0, 0, 0, 0, 0, 0, 0, 0, 0, 0, 0, 0, 0, 0, 0, 0, 0, 0, 0, 0, 0, 0, 0, 0, 0, 0, 0, 0, 0, 0, 0, 0, 0, 0, 0, 0, 0, 0, 0, 0, 0, 0, 0, 0, 0, 0, 0, 0, 0, 0, 0, 0, 0, 0, 0, 0, 0, 0, 0, 0, 0, 0, 0, 0, 0, 0, 0, 0, 0, 0, 0, 0, 0, 0, 0, 0, 0, 0, 0, 0, 0, 0, 0, 0, 0, \n",
      "44 11 \n",
      "10 11 1\n",
      "R1: 44  \n",
      "D[0:256]: 0, 11, 22, 33, 44, 11, 22, 33, 11, 22, 33, 44, 0, 0, 0, 0, 0, 0, 0, 0, 0, 0, 0, 0, 0, 0, 0, 0, 0, 0, 0, 0, 0, 0, 0, 0, 0, 0, 0, 0, 0, 0, 0, 0, 0, 0, 0, 0, 0, 0, 0, 0, 0, 0, 0, 0, 0, 0, 0, 0, 0, 0, 0, 0, 0, 0, 0, 0, 0, 0, 0, 0, 0, 0, 0, 0, 0, 0, 0, 0, 0, 0, 0, 0, 0, 0, 0, 0, 0, 0, 0, 0, 0, 0, 0, 0, 0, 0, 0, 0, 111, 123, 0, 0, 0, 0, 0, 0, 0, 0, 0, 0, 0, 0, 0, 0, 0, 0, 0, 0, 0, 0, 0, 0, 0, 0, 0, 0, 0, 0, 0, 0, 0, 0, 0, 0, 0, 0, 0, 0, 0, 0, 0, 0, 0, 0, 0, 0, 0, 0, 0, 0, 0, 0, 0, 0, 0, 0, 0, 0, 0, 0, 0, 0, 0, 0, 0, 0, 0, 0, 0, 0, 0, 0, 0, 0, 0, 0, 0, 0, 0, 0, 0, 0, 0, 0, 0, 0, 0, 0, 0, 0, 0, 0, 0, 0, 0, 0, 0, 0, 0, 0, 0, 0, 0, 0, 0, 0, 0, 0, 0, 0, 0, 0, 0, 0, 0, 0, 0, 0, 0, 0, 0, 0, 0, 0, 0, 0, 0, 0, 0, 0, 0, 0, 0, 0, 0, 0, 0, 0, 0, 0, 0, 0, 0, 0, 0, 0, 0, 0, 0, 0, 0, 0, 0, 0, \n",
      "33 10 \n",
      "9 10 1\n",
      "R2: 33  \n",
      "D[0:256]: 0, 11, 22, 33, 44, 11, 22, 33, 11, 22, 33, 44, 0, 0, 0, 0, 0, 0, 0, 0, 0, 0, 0, 0, 0, 0, 0, 0, 0, 0, 0, 0, 0, 0, 0, 0, 0, 0, 0, 0, 0, 0, 0, 0, 0, 0, 0, 0, 0, 0, 0, 0, 0, 0, 0, 0, 0, 0, 0, 0, 0, 0, 0, 0, 0, 0, 0, 0, 0, 0, 0, 0, 0, 0, 0, 0, 0, 0, 0, 0, 0, 0, 0, 0, 0, 0, 0, 0, 0, 0, 0, 0, 0, 0, 0, 0, 0, 0, 0, 0, 111, 123, 0, 0, 0, 0, 0, 0, 0, 0, 0, 0, 0, 0, 0, 0, 0, 0, 0, 0, 0, 0, 0, 0, 0, 0, 0, 0, 0, 0, 0, 0, 0, 0, 0, 0, 0, 0, 0, 0, 0, 0, 0, 0, 0, 0, 0, 0, 0, 0, 0, 0, 0, 0, 0, 0, 0, 0, 0, 0, 0, 0, 0, 0, 0, 0, 0, 0, 0, 0, 0, 0, 0, 0, 0, 0, 0, 0, 0, 0, 0, 0, 0, 0, 0, 0, 0, 0, 0, 0, 0, 0, 0, 0, 0, 0, 0, 0, 0, 0, 0, 0, 0, 0, 0, 0, 0, 0, 0, 0, 0, 0, 0, 0, 0, 0, 0, 0, 0, 0, 0, 0, 0, 0, 0, 0, 0, 0, 0, 0, 0, 0, 0, 0, 0, 0, 0, 0, 0, 0, 0, 0, 0, 0, 0, 0, 0, 0, 0, 0, 0, 0, 0, 0, 0, 0, \n"
     ]
    }
   ],
   "source": [
    "# Push 11\n",
    "Set(cr, 11) # the value to be stored\n",
    "Addi(st, st, 1) #store 1 index above the existing stack\n",
    "Store(st, cr)\n",
    "\n",
    "# push 22\n",
    "Set(cr, 22) # the value to be stored\n",
    "Addi(st, st, 1) #store 1 index above the existing stack\n",
    "Store(st, cr)\n",
    "\n",
    "# push 33\n",
    "Set(cr, 33) # the value to be stored\n",
    "Addi(st, st, 1) #store 1 index above the existing stack\n",
    "Store(st, cr)\n",
    "\n",
    "# push 44\n",
    "Set(cr, 44) # the value to be stored\n",
    "Addi(st, st, 1) #store 1 index above the existing stack\n",
    "Store(st, cr)\n",
    "printd()\n",
    "\n",
    "# pop into r1\n",
    "Load(r1, st) # get the top stack and put it into r1\n",
    "Subi(st, st, 1) # Pop the topmost value out\n",
    "printr(1)\n",
    "printd()\n",
    "\n",
    "# pop into r2\n",
    "Load(r2, st) # get the top stack and put it into r1\n",
    "Subi(st, st, 1) # Pop the topmost value out\n",
    "printr(2)\n",
    "printd()\n"
   ]
  },
  {
   "attachments": {},
   "cell_type": "markdown",
   "metadata": {},
   "source": [
    "## Class 4"
   ]
  },
  {
   "cell_type": "markdown",
   "metadata": {},
   "source": [
    "### Architecture diagram\n",
    "Long term memory only takes store and load.\n",
    "\n",
    "16 bits are passing to F (fetch).\n",
    "Fetch takes instruction memory.\n",
    "\n",
    "Instructions pass through instruction control."
   ]
  },
  {
   "attachments": {},
   "cell_type": "markdown",
   "metadata": {},
   "source": [
    "### Making program"
   ]
  },
  {
   "cell_type": "code",
   "execution_count": 7,
   "metadata": {},
   "outputs": [
    {
     "name": "stdout",
     "output_type": "stream",
     "text": [
      "*Replacing memory with new code: main\n",
      "*** Loaded in memory: (100, 105)\n",
      "  * Function name is: main\n",
      "Set(r1, 0b1100_0111) [100]\n",
      "199 199 \n",
      "Seth(r1, 0b1100_1111) [101]\n",
      "-12345 207 \n",
      "Set(r2, 0b1100_0111) [102]\n",
      "199 199 \n",
      "Seth(r2, 0b1100_1010) [103]\n",
      "-13625 202 \n",
      "And(r1, r1, r2) [104]\n",
      "-13625 -12345 -13625\n"
     ]
    }
   ],
   "source": [
    "clearbit = \"\"\"\n",
    "Set(r1, 0b1100_0111)\n",
    "Seth(r1, 0b1100_1111)\n",
    "\n",
    "Set(r2, 0b1100_0111)\n",
    "Seth(r2, 0b1100_1010)\n",
    "And(r1, r1, r2)\n",
    "\"\"\"\n",
    "# OS Instructions\n",
    "start(clearbit)\n",
    "printrb(1)"
   ]
  },
  {
   "cell_type": "code",
   "execution_count": 57,
   "metadata": {},
   "outputs": [
    {
     "name": "stdout",
     "output_type": "stream",
     "text": [
      "199 199 \n",
      "-12345 207 \n",
      "*Replacing memory with new code: main\n",
      "*** Loaded in memory: (100, 103)\n",
      "  * Function name is: main\n",
      "Set(r9, 0b1111_1111) [100]\n",
      "255 255 \n",
      "Seth(r9, 0b1111_1010) [101]\n",
      "-1281 250 \n",
      "And(r1, r1, r9) [102]\n",
      "-13625 -12345 -1281\n",
      "R1: 1100 1010 1100 0111\n"
     ]
    }
   ],
   "source": [
    "clearbit = \"\"\"\n",
    "#: inr = r1 # declare var inr = r1 using compiler directive that gives instruction to compiler\n",
    "#: mask = r9 # using r9 for mask\n",
    "#: bitlow = 0b1111_1111\n",
    "#: bithigh = 0b1111_1010\n",
    "\n",
    "# put your code here to set r1 bit 4 to 1\n",
    "Set(mask, bitlow)\n",
    "Seth(mask, bithigh)\n",
    "And(inr, inr, mask)\n",
    "\"\"\"\n",
    "\n",
    "# OS Instructions\n",
    "Set(r1, 0b1100_0111)\n",
    "Seth(r1, 0b1100_1111)\n",
    "start(clearbit)\n",
    "printrb(1)\n"
   ]
  },
  {
   "cell_type": "code",
   "execution_count": 56,
   "metadata": {},
   "outputs": [
    {
     "name": "stdout",
     "output_type": "stream",
     "text": [
      "R1: -12345  \n",
      "*Replacing memory with new code: main\n",
      "*** Loaded in memory: (100, 103)\n",
      "  * Function name is: main\n",
      "Set(r9, 0b1111_1111) [100]\n",
      "255 255 \n",
      "Seth(r9, 0b1111_1010) [101]\n",
      "-1281 250 \n",
      "And(r1, r1, r9) [102]\n",
      "-13625 -12345 -1281\n",
      "R1: 1100 1010 1100 0111\n"
     ]
    }
   ],
   "source": [
    "clearbit = \"\"\"\n",
    "#: inr = r1 # declare var inr = r1 using compiler directive that gives instruction to compiler\n",
    "#: mask = r9 # using r9 for mask\n",
    "#: bitlow = 0b1111_1111\n",
    "#: bithigh = 0b1111_1010\n",
    "\n",
    "# put your code here to set r1 bit 4 to 1\n",
    "Set(mask, bitlow)\n",
    "Seth(mask, bithigh)\n",
    "And(inr, inr, mask)\n",
    "\"\"\"\n",
    "\n",
    "# OS Instructions\n",
    "setr(r1, 0b1100_1111_1100_0111) # os function that allows 16 bit\n",
    "printrb(1)\n",
    "start(clearbit)\n",
    "printrb(1)\n"
   ]
  },
  {
   "cell_type": "code",
   "execution_count": 63,
   "metadata": {},
   "outputs": [
    {
     "name": "stdout",
     "output_type": "stream",
     "text": [
      "1\n",
      "*Replacing memory with new code: main\n",
      "*** Loaded in memory: (100, 106)\n",
      "  * Function name is: main\n",
      "Set(r1, 0) # inx = 0 [100]\n",
      "Set(r2, 0) # outy = 0 [101]\n",
      "Addi(ar, pc, 3) # put address of endif into ar [102]\n",
      "Movex(pc, ar, r1) # goto endif if inx != 0 (Movex stands for != 0). If it's not equals to 0, just skip over it. [103]\n",
      "Set(r2, 1) # outy = 1 [104]\n",
      "Move(r2, r2) #print(outy) [105]\n",
      "\n",
      "Running the program\n",
      "Set(r1, 0) # inx = 0 [100]\n",
      "0 0 \n",
      "Set(r2, 0) # outy = 0 [101]\n",
      "0 0 \n",
      "Addi(ar, pc, 3) # put address of endif into ar [102]\n",
      "105 102 3\n",
      "Movex(pc, ar, r1) # goto endif if inx != 0 (Movex stands for != 0). If it's not equals to 0, just skip over it. [103]\n",
      "104 105 0\n",
      "Set(r2, 1) # outy = 1 [104]\n",
      "1 1 \n",
      "Move(r2, r2) #print(outy) [105]\n",
      "1 1 \n"
     ]
    }
   ],
   "source": [
    "from bcpu import *\n",
    "\n",
    "# py program\n",
    "inx = 0\n",
    "outy = 0\n",
    "if inx == 0:\n",
    "    outy = 1\n",
    "print(outy)\n",
    "\n",
    "# turn this python code into assempty function\n",
    "\n",
    "if0then = \"\"\"\n",
    "#: inx = r1 # we're going to use r1 for inx\n",
    "#: outy = r2 # use r2 for outy\n",
    "\n",
    "Set(inx, 0) # inx = 0\n",
    "Set(outy, 0) # outy = 0\n",
    "\n",
    "#if inx == 0: (if inx!= 0 goto endif)\n",
    "Addi(ar, pc, ?endif) # put address of endif into ar\n",
    "Movex(pc, ar, inx) # goto endif if inx != 0 (Movex stands for != 0). If it's not equals to 0, just skip over it.\n",
    "    Set(outy, 1) # outy = 1\n",
    "#> endif # pound arrow key means 'entry point' for defining label, which is a place we can go to. In order to use the label, we need to find address of the label and put it in ar.\n",
    "Move(outy, outy) #print(outy)\n",
    "\n",
    "\"\"\"\n",
    "\n",
    "# testing\n",
    "\n",
    "load(if0then) #load takes assembly language file and loads it in memory, auto memory start 100. Default function name is main.\n",
    "printm() #it's loaded in memory, the question mark became 3 for relative address as we're using pc.\n",
    "print(\"\\nRunning the program\")\n",
    "run()"
   ]
  },
  {
   "attachments": {},
   "cell_type": "markdown",
   "metadata": {},
   "source": [
    "Bringing input outside"
   ]
  },
  {
   "cell_type": "code",
   "execution_count": 65,
   "metadata": {},
   "outputs": [
    {
     "name": "stdout",
     "output_type": "stream",
     "text": [
      "1\n",
      "*Replacing memory with new code: main\n",
      "*** Loaded in memory: (100, 105)\n",
      "  * Function name is: main\n",
      "Set(r2, 0) # outy = 0 [100]\n",
      "Addi(ar, pc, 3) # put address of endif into ar [101]\n",
      "Movex(pc, ar, r1) # goto endif if inx != 0 (Movex stands for != 0). If it's not equals to 0, just skip over it. [102]\n",
      "Set(r2, 1) # outy = 1 [103]\n",
      "Move(r2, r2) #print(outy) [104]\n",
      "\n",
      "Running the program\n",
      "11 11 \n",
      "Set(r2, 0) # outy = 0 [100]\n",
      "0 0 \n",
      "Addi(ar, pc, 3) # put address of endif into ar [101]\n",
      "104 101 3\n",
      "Movex(pc, ar, r1) # goto endif if inx != 0 (Movex stands for != 0). If it's not equals to 0, just skip over it. [102]\n",
      "104 104 11\n",
      "Move(r2, r2) #print(outy) [104]\n",
      "0 0 \n"
     ]
    }
   ],
   "source": [
    "from bcpu import *\n",
    "\n",
    "# py program\n",
    "inx = 0\n",
    "outy = 0\n",
    "if inx == 0:\n",
    "    outy = 1\n",
    "print(outy)\n",
    "\n",
    "# turn this python code into assempty function\n",
    "\n",
    "if0then = \"\"\"\n",
    "#: inx = r1 # we're going to use r1 for inx\n",
    "#: outy = r2 # use r2 for outy\n",
    "\n",
    "Set(outy, 0) # outy = 0\n",
    "\n",
    "#if inx == 0: (if inx!= 0 goto endif)\n",
    "Addi(ar, pc, ?endif) # put address of endif into ar\n",
    "Movex(pc, ar, inx) # goto endif if inx != 0 (Movex stands for != 0). If it's not equals to 0, just skip over it.\n",
    "    Set(outy, 1) # outy = 1\n",
    "#> endif # pound arrow key means 'entry point' for defining label, which is a place we can go to. In order to use the label, we need to find address of the label and put it in ar.\n",
    "Move(outy, outy) #print(outy)\n",
    "\n",
    "\"\"\"\n",
    "\n",
    "# testing\n",
    "\n",
    "load(if0then) #load takes assembly language file and loads it in memory, auto memory start 100. Default function name is main.\n",
    "printm() #it's loaded in memory, the question mark became 3 for relative address as we're using pc.\n",
    "print(\"\\nRunning the program\")\n",
    "Set(r1, 11) # bring input outside\n",
    "run()"
   ]
  },
  {
   "attachments": {},
   "cell_type": "markdown",
   "metadata": {},
   "source": [
    "Running usign start"
   ]
  },
  {
   "cell_type": "code",
   "execution_count": 67,
   "metadata": {},
   "outputs": [
    {
     "name": "stdout",
     "output_type": "stream",
     "text": [
      "1\n",
      "\n",
      "Running the program\n",
      "11 11 \n",
      "*Replacing memory with new code: main\n",
      "*** Loaded in memory: (100, 105)\n",
      "  * Function name is: main\n",
      "Set(r2, 0) # outy = 0 [100]\n",
      "0 0 \n",
      "Addi(ar, pc, 3) # put address of endif into ar [101]\n",
      "104 101 3\n",
      "Movex(pc, ar, r1) # goto endif if inx != 0 (Movex stands for != 0). If it's not equals to 0, just skip over it. [102]\n",
      "104 104 11\n",
      "Move(r2, r2) #print(outy) [104]\n",
      "0 0 \n"
     ]
    }
   ],
   "source": [
    "from bcpu import *\n",
    "\n",
    "# py program\n",
    "inx = 0\n",
    "outy = 0\n",
    "if inx == 0:\n",
    "    outy = 1\n",
    "print(outy)\n",
    "\n",
    "# turn this python code into assempty function\n",
    "\n",
    "if0then = \"\"\"\n",
    "#: inx = r1 # we're going to use r1 for inx\n",
    "#: outy = r2 # use r2 for outy\n",
    "\n",
    "Set(outy, 0) # outy = 0\n",
    "\n",
    "#if inx == 0: (if inx!= 0 goto endif)\n",
    "Addi(ar, pc, ?endif) # put address of endif into ar\n",
    "Movex(pc, ar, inx) # goto endif if inx != 0 (Movex stands for != 0). If it's not equals to 0, just skip over it.\n",
    "    Set(outy, 1) # outy = 1\n",
    "#> endif # pound arrow key means 'entry point' for defining label, which is a place we can go to. In order to use the label, we need to find address of the label and put it in ar.\n",
    "Move(outy, outy) #print(outy)\n",
    "\n",
    "\"\"\"\n",
    "\n",
    "# testing\n",
    "\n",
    "print(\"\\nRunning the program\")\n",
    "Set(r1, 11) # bring input outside\n",
    "start(if0then)"
   ]
  },
  {
   "attachments": {},
   "cell_type": "markdown",
   "metadata": {},
   "source": [
    "If not 0 function"
   ]
  },
  {
   "cell_type": "code",
   "execution_count": 70,
   "metadata": {},
   "outputs": [
    {
     "name": "stdout",
     "output_type": "stream",
     "text": [
      "\n",
      "Running the program\n",
      "11 11 \n",
      "*Replacing memory with new code: main\n",
      "*** Loaded in memory: (100, 105)\n",
      "  * Function name is: main\n",
      "Set(r2, 0) # outy = 0 [100]\n",
      "0 0 \n",
      "Addi(ar, pc, 3) # put address of endif into ar [101]\n",
      "104 101 3\n",
      "Movez(pc, ar, r1) # goto endif if inx != 0 (Movex stands for != 0). If it's not equals to 0, just skip over it. [102]\n",
      "103 104 11\n",
      "Set(r2, 1) # outy = 1 [103]\n",
      "1 1 \n",
      "Move(r2, r2) #print(outy) [104]\n",
      "1 1 \n",
      "R2: 1  \n"
     ]
    }
   ],
   "source": [
    "from bcpu import *\n",
    "\n",
    "# turn this python code into assempty function\n",
    "\n",
    "ifn0then = \"\"\"\n",
    "#: inx = r1 # we're going to use r1 for inx\n",
    "#: outy = r2 # use r2 for outy\n",
    "\n",
    "Set(outy, 0) # outy = 0\n",
    "\n",
    "#if inx != 0: (if inx== 0 goto endif)\n",
    "Addi(ar, pc, ?endif) # put address of endif into ar\n",
    "Movez(pc, ar, inx) # goto endif if inx != 0 (Movex stands for != 0). If it's not equals to 0, just skip over it.\n",
    "    Set(outy, 1) # change output from default based on condition: outy = 1\n",
    "#> endif # pound arrow key means 'entry point' for defining label, which is a place we can go to. In order to use the label, we need to find address of the label and put it in ar.\n",
    "Move(outy, outy) #print(outy)\n",
    "\"\"\"\n",
    "\n",
    "\n",
    "# testing\n",
    "\n",
    "print(\"\\nRunning the program\")\n",
    "Set(r1, 11) # when r1 doesn't equal to 0, result is 1. Otherwise it's 0.\n",
    "# Set(r1, 0) # returns 0.\n",
    "start(ifn0then)\n",
    "printr(r2)"
   ]
  },
  {
   "attachments": {},
   "cell_type": "markdown",
   "metadata": {},
   "source": [
    "If positive number"
   ]
  },
  {
   "cell_type": "code",
   "execution_count": 73,
   "metadata": {},
   "outputs": [
    {
     "name": "stdout",
     "output_type": "stream",
     "text": [
      "1\n",
      "\n",
      "Running the program\n",
      "11 11 \n",
      "-12 11 \n",
      "-11 -12 1\n",
      "*Replacing memory with new code: main\n",
      "*** Loaded in memory: (100, 105)\n",
      "  * Function name is: main\n",
      "Set(r2, 0) # outy = 0 [100]\n",
      "0 0 \n",
      "Addi(ar, pc, 3) # put address of endif into ar [101]\n",
      "104 101 3\n",
      "Moven(pc, ar, r1) # goto endif if inx != 0 (Movex stands for != 0). If it's not equals to 0, just skip over it. [102]\n",
      "104 104 -11\n",
      "Move(r2, r2) #print(outy) [104]\n",
      "0 0 \n",
      "R2: 0  \n"
     ]
    }
   ],
   "source": [
    "# py program\n",
    "inx = 0\n",
    "outy = 0\n",
    "if inx >= 0: #positive number\n",
    "    outy = 1\n",
    "print(outy)\n",
    "\n",
    "# turn this python code into assempty function\n",
    "\n",
    "# if greater than or equals to 0\n",
    "ifge0then = \"\"\"\n",
    "#: inx = r1 # we're going to use r1 for inx\n",
    "#: outy = r2 # use r2 for outy\n",
    "\n",
    "Set(outy, 0) # outy = 0\n",
    "\n",
    "#if inx >= 0: (if inx < 0 goto endif) - the 2 lines below translate this line\n",
    "Addi(ar, pc, ?endif) # put address of endif into ar\n",
    "Moven(pc, ar, inx) # goto endif if inx != 0 (Movex stands for != 0). If it's not equals to 0, just skip over it.\n",
    "    Set(outy, 1) # change output from default based on condition: outy = 1\n",
    "#> endif # pound arrow key means 'entry point' for defining label, which is a place we can go to. In order to use the label, we need to find address of the label and put it in ar.\n",
    "Move(outy, outy) #print(outy)\n",
    "\"\"\"\n",
    "\n",
    "# testing\n",
    "print(\"\\nRunning the program\")\n",
    "\n",
    "#testing negative number\n",
    "Set(r1, 11)\n",
    "Not(r1, r1)\n",
    "Addi(r1, r1, 1)\n",
    "\n",
    "start(ifge0then)\n",
    "printr(r2)\n"
   ]
  },
  {
   "attachments": {},
   "cell_type": "markdown",
   "metadata": {},
   "source": [
    "Using setr for easier testing"
   ]
  },
  {
   "cell_type": "code",
   "execution_count": 75,
   "metadata": {},
   "outputs": [
    {
     "name": "stdout",
     "output_type": "stream",
     "text": [
      "1\n",
      "\n",
      "Running the program\n",
      "R1: -11  \n",
      "*Replacing memory with new code: main\n",
      "*** Loaded in memory: (100, 105)\n",
      "  * Function name is: main\n",
      "Set(r2, 0) # outy = 0 [100]\n",
      "0 0 \n",
      "Addi(ar, pc, 3) # put address of endif into ar [101]\n",
      "104 101 3\n",
      "Moven(pc, ar, r1) # goto endif if inx != 0 (Movex stands for != 0). If it's not equals to 0, just skip over it. [102]\n",
      "104 104 -11\n",
      "Move(r2, r2) #print(outy) [104]\n",
      "0 0 \n",
      "R2: 0  \n"
     ]
    }
   ],
   "source": [
    "# py program\n",
    "inx = 0\n",
    "outy = 0\n",
    "if inx >= 0: #positive number\n",
    "    outy = 1\n",
    "print(outy)\n",
    "\n",
    "# turn this python code into assempty function\n",
    "\n",
    "# if greater than or equals to 0\n",
    "ifge0then = \"\"\"\n",
    "#: inx = r1 # we're going to use r1 for inx\n",
    "#: outy = r2 # use r2 for outy\n",
    "\n",
    "Set(outy, 0) # outy = 0\n",
    "\n",
    "#if inx >= 0: (if inx < 0 goto endif) - the 2 lines below translate this line\n",
    "Addi(ar, pc, ?endif) # put address of endif into ar\n",
    "Moven(pc, ar, inx) # goto endif if inx != 0 (Movex stands for != 0). If it's not equals to 0, just skip over it.\n",
    "    Set(outy, 1) # change output from default based on condition: outy = 1\n",
    "#> endif # pound arrow key means 'entry point' for defining label, which is a place we can go to. In order to use the label, we need to find address of the label and put it in ar.\n",
    "Move(outy, outy) #print(outy)\n",
    "\"\"\"\n",
    "\n",
    "# testing\n",
    "print(\"\\nRunning the program\")\n",
    "\n",
    "#testing negative number\n",
    "# Set(r1, 2)\n",
    "setr(r1, -11) #os command, not assembly code\n",
    "start(ifge0then)\n",
    "printr(r2)\n"
   ]
  },
  {
   "attachments": {},
   "cell_type": "markdown",
   "metadata": {},
   "source": [
    "Negative number"
   ]
  },
  {
   "cell_type": "code",
   "execution_count": 92,
   "metadata": {},
   "outputs": [
    {
     "name": "stdout",
     "output_type": "stream",
     "text": [
      "0\n",
      "\n",
      "Running the program\n",
      "R1: 0  \n",
      "*Replacing memory with new code: main\n",
      "*** Loaded in memory: (100, 105)\n",
      "  * Function name is: main\n",
      "Set(r2, 0) # outy = 0 [100]\n",
      "0 0 \n",
      "Addi(ar, pc, 3) # put address of endif into ar [101]\n",
      "104 101 3\n",
      "Movep(pc, ar, r1) # if inx is positive (including 0), move address into pc (jump to endif?) [102]\n",
      "104 104 0\n",
      "Move(r2, r2) #print(outy) [104]\n",
      "0 0 \n"
     ]
    }
   ],
   "source": [
    "# py program\n",
    "inx = 0\n",
    "outy = 0\n",
    "if inx < 0: #negative number\n",
    "    outy = 1\n",
    "print(outy)\n",
    "\n",
    "# turn this python code into assembly function\n",
    "\n",
    "# if less than or equals to 0\n",
    "iflt0then = \"\"\"\n",
    "#: inx = r1 # we're going to use r1 for inx\n",
    "#: outy = r2 # use r2 for outy\n",
    "\n",
    "Set(outy, 0) # outy = 0\n",
    "\n",
    "#if inx < 0: (if inx >= 0 goto endif)\n",
    "Addi(ar, pc, ?endif) # take the pc value, add relative address of endif to get endif address in ar\n",
    "Movep(pc, ar, inx) # if inx is positive (including 0), move ar address into pc (jump to endif?)\n",
    "    Set(outy, 1) # if inx was negative, change output from default 0 to 1\n",
    "#> endif\n",
    "Move(outy, outy) #copy new or old value of outy\n",
    "\"\"\"\n",
    "\n",
    "# testing\n",
    "print(\"\\nRunning the program\")\n",
    "\n",
    "#testing negative number\n",
    "setr(r1, 0) #os command, not assembly code\n",
    "start(iflt0then)\n",
    "\n",
    "\n",
    "# py program\n",
    "inx = 0\n",
    "outy = 0\n",
    "if inx < 0: #negative number\n",
    "    outy = 1\n",
    "print(outy)"
   ]
  },
  {
   "cell_type": "code",
   "execution_count": 14,
   "metadata": {},
   "outputs": [
    {
     "name": "stdout",
     "output_type": "stream",
     "text": [
      "0\n",
      "\n",
      "Running the program\n",
      "R1: 0  \n",
      "*Replacing memory with new code: main\n",
      "*** Loaded in memory: (100, 105)\n",
      "  * Function name is: main\n",
      "Set(r2, 0) # outy = 0 [100]\n",
      "0 0 \n",
      "Addi(ar, pc, 3) # take the pc value, add relative address of endif to get endif address in ar [101]\n",
      "104 101 3\n",
      "Movep(pc, ar, r1) # if inx is positive (including 0), move ar address into pc (jump to endif?) [102]\n",
      "104 104 0\n",
      "Move(r2, r2) #copy new or old value of outy [104]\n",
      "0 0 \n"
     ]
    }
   ],
   "source": [
    "# py program\n",
    "inx = 0\n",
    "outy = 0\n",
    "if inx < 0: #negative number\n",
    "    outy = 1\n",
    "print(outy)\n",
    "\n",
    "# turn this python code into assempty function\n",
    "\n",
    "# if less than or equals to 0\n",
    "iflt0then = \"\"\"\n",
    "#: inx = r1 # we're going to use r1 for inx\n",
    "#: outy = r2 # use r2 for outy\n",
    "\n",
    "Set(outy, 0) # outy = 0\n",
    "\n",
    "#if inx < 0: (if inx >= 0 goto endif)\n",
    "Addi(ar, pc, ?endif) # take the pc value, add relative address of endif to get endif address in ar\n",
    "Movep(pc, ar, inx) # if inx is positive (including 0), move ar address into pc (jump to endif?)\n",
    "    Set(outy, 1) # if inx was negative, change output from default 0 to 1\n",
    "#> endif\n",
    "Move(outy, outy) #copy new or old value of outy\n",
    "\"\"\"\n",
    "\n",
    "# testing\n",
    "print(\"\\nRunning the program\")\n",
    "\n",
    "#testing negative number\n",
    "setr(r1, 0) #os command, not assembly code\n",
    "start(iflt0then)"
   ]
  },
  {
   "attachments": {},
   "cell_type": "markdown",
   "metadata": {},
   "source": [
    "#### Assignment: Comparing to 11\n",
    "\n",
    "r1 == 11\n",
    "\n",
    "r1 != 11\n",
    "\n",
    "r1 > 11 #using subi() to minus 11 to get if it's 0\n",
    "\n",
    "r1 < 11\n",
    "\n",
    "r1 >= 11\n",
    "\n",
    "r1 <= 11"
   ]
  },
  {
   "attachments": {},
   "cell_type": "markdown",
   "metadata": {},
   "source": [
    "##### Input == 11"
   ]
  },
  {
   "cell_type": "code",
   "execution_count": null,
   "metadata": {},
   "outputs": [],
   "source": [
    "# if equals to 11\n",
    "# # py program\n",
    "# inx = 0\n",
    "# outy = 0\n",
    "# if inx == 11:\n",
    "#     outy = 1\n",
    "# print(outy)\n",
    "\n",
    "# turn this python code into assembly function\n",
    "ifeqal11then = \"\"\"\n",
    "#: inx = r1 # r1 for input\n",
    "#: outy = r2 # r2 for output\n",
    "\n",
    "Set(outy, 0) # outy = 0\n",
    "Subi(r1, r1, 11)\n",
    "# if inx == 11: # (if inx != 11 goto endif)\n",
    "Addi(ar, pc, ?endif) # ar = address of endif\n",
    "Movex(pc, ar, inx) # if inx != 11, go to endif\n",
    "    Set(outy, 1) # else, change outy to 1\n",
    "#> endif\n",
    "Move(outy, outy) #print(outy)\n",
    "\"\"\"\n",
    "\n",
    "# testing\n",
    "print(\"\\nRunning the program\")\n",
    "setr(r1, 12) # input\n",
    "start(ifeqal11then)\n",
    "printr(r2)"
   ]
  },
  {
   "attachments": {},
   "cell_type": "markdown",
   "metadata": {},
   "source": [
    "##### Input != 11"
   ]
  },
  {
   "cell_type": "code",
   "execution_count": null,
   "metadata": {},
   "outputs": [
    {
     "name": "stdout",
     "output_type": "stream",
     "text": [
      "\n",
      "Running the program\n",
      "R1: 11  \n",
      "*Replacing memory with new code: main\n",
      "*** Loaded in memory: (100, 106)\n",
      "  * Function name is: main\n",
      "Set(r2, 0) # outy = 0 [100]\n",
      "0 0 \n",
      "Subi(r1, r1, 11) [101]\n",
      "0 11 11\n",
      "Addi(ar, pc, 3) # ar = address of endif [102]\n",
      "105 102 3\n",
      "Movez(pc, ar, r1) # if inx == 11, go to endif [103]\n",
      "105 105 0\n",
      "Move(r2, r2) #print(outy) [105]\n",
      "0 0 \n",
      "R2: 0  \n"
     ]
    }
   ],
   "source": [
    "# if not equals to 11\n",
    "# # py program\n",
    "# inx = 0\n",
    "# outy = 0\n",
    "# if inx != 11:\n",
    "#     outy = 1\n",
    "# print(outy)\n",
    "\n",
    "# turn this python code into assembly function\n",
    "ifneqal11then = \"\"\"\n",
    "#: inx = r1 # r1 for input\n",
    "#: outy = r2 # r2 for output\n",
    "\n",
    "Set(outy, 0) # outy = 0\n",
    "# if inx != 11: # (if inx == 11 goto endif)\n",
    "Subi(r1, r1, 11)\n",
    "Addi(ar, pc, ?endif) # ar = address of endif\n",
    "Movez(pc, ar, inx) # if inx == 11, go to endif\n",
    "    Set(outy, 1) # else, change outy to 1\n",
    "#> endif\n",
    "Move(outy, outy) #print(outy)\n",
    "\"\"\"\n",
    "\n",
    "# testing\n",
    "print(\"\\nRunning the program\")\n",
    "setr(r1, 11) # input\n",
    "start(ifneqal11then)\n",
    "printr(r2)"
   ]
  },
  {
   "attachments": {},
   "cell_type": "markdown",
   "metadata": {},
   "source": [
    "##### Input < 11\n",
    "Use movep every time we have greater/less than or equal to condition, otherwise moven"
   ]
  },
  {
   "cell_type": "code",
   "execution_count": null,
   "metadata": {},
   "outputs": [
    {
     "name": "stdout",
     "output_type": "stream",
     "text": [
      "\n",
      "Running the program\n",
      "R1: 10  \n",
      "*Replacing memory with new code: main\n",
      "*** Loaded in memory: (100, 106)\n",
      "  * Function name is: main\n",
      "Set(r2, 0) # outy = 0 [100]\n",
      "0 0 \n",
      "Subi(cr, r1, 11) [101]\n",
      "-1 10 11\n",
      "Addi(ar, pc, 3) # ar = address of endif [102]\n",
      "105 102 3\n",
      "Movep(pc, ar, cr) # if inx >= 11, go to endif [103]\n",
      "104 105 -1\n",
      "Set(r2, 1) # else, change outy to 1 [104]\n",
      "1 1 \n",
      "Move(r2, r2) #print(outy) [105]\n",
      "1 1 \n",
      "R2: 1  \n"
     ]
    }
   ],
   "source": [
    "# if less than 11\n",
    "# # py program\n",
    "# inx = 0\n",
    "# outy = 0\n",
    "# if inx < 11:\n",
    "#     outy = 1\n",
    "# print(outy)\n",
    "\n",
    "# turn this python code into assembly function\n",
    "ifless11then = \"\"\"\n",
    "#: inx = r1 # r1 for input\n",
    "#: outy = r2 # r2 for output\n",
    "\n",
    "Set(outy, 0) # outy = 0\n",
    "# if inx < 11: # (if inx >= 11 goto endif)\n",
    "Subi(cr, inx, 11)\n",
    "Addi(ar, pc, ?endif) # ar = address of endif\n",
    "Movep(pc, ar, cr) # if inx >= 11, go to endif\n",
    "    Set(outy, 1) # else, change outy to 1\n",
    "#> endif\n",
    "Move(outy, outy) #print(outy)\n",
    "\"\"\"\n",
    "\n",
    "# testing\n",
    "print(\"\\nRunning the program\")\n",
    "setr(r1, 10) # input\n",
    "start(ifless11then)\n",
    "printr(r2)"
   ]
  },
  {
   "attachments": {},
   "cell_type": "markdown",
   "metadata": {},
   "source": [
    "##### Input > 11\n",
    "Use movep every time we have greater/less than or equal to condition, otherwise moven"
   ]
  },
  {
   "cell_type": "code",
   "execution_count": null,
   "metadata": {},
   "outputs": [
    {
     "name": "stdout",
     "output_type": "stream",
     "text": [
      "\n",
      "Running the program\n",
      "R1: 12  \n",
      "*Replacing memory with new code: main\n",
      "*** Loaded in memory: (100, 107)\n",
      "  * Function name is: main\n",
      "Set(r2, 0) # outy = 0 [100]\n",
      "0 0 \n",
      "Set(cr, 11) [101]\n",
      "11 11 \n",
      "Sub(cr, cr, r1) [102]\n",
      "-1 11 12\n",
      "Addi(ar, pc, 3) # ar = address of endif [103]\n",
      "106 103 3\n",
      "Movep(pc, ar, cr) # if inx < 0, go to endif # use movep every time we have greater/less than or equal to, otherwise moven [104]\n",
      "105 106 -1\n",
      "Set(r2, 1) # else, change outy to 1 [105]\n",
      "1 1 \n",
      "Move(r2, r2) #print(outy) [106]\n",
      "1 1 \n",
      "R2: 1  \n"
     ]
    }
   ],
   "source": [
    "# if greater than 11\n",
    "# # py program\n",
    "# inx = 0\n",
    "# outy = 0\n",
    "# if inx > 11:\n",
    "#     outy = 1\n",
    "# print(outy)\n",
    "\n",
    "# turn this python code into assembly function\n",
    "ifgt11then = \"\"\"\n",
    "#: inx = r1 # r1 for input\n",
    "#: outy = r2 # r2 for output\n",
    "\n",
    "Set(outy, 0) # outy = 0\n",
    "# if inx > 11: # (if inx <= 11 goto endif)\n",
    "Set(cr, 11)\n",
    "Sub(cr, cr, inx)\n",
    "Addi(ar, pc, ?endif) # ar = address of endif\n",
    "Movep(pc, ar, cr) # if inx < 0, go to endif\n",
    "    Set(outy, 1) # else, change outy to 1\n",
    "#> endif\n",
    "Move(outy, outy) #print(outy)\n",
    "\"\"\"\n",
    "\n",
    "# testing\n",
    "print(\"\\nRunning the program\")\n",
    "setr(r1, 12) # input\n",
    "start(ifgt11then)\n",
    "printr(r2)"
   ]
  },
  {
   "attachments": {},
   "cell_type": "markdown",
   "metadata": {},
   "source": [
    "##### Input >= 11\n",
    "Use movep every time we have greater/less than or equal to condition, otherwise moven"
   ]
  },
  {
   "cell_type": "code",
   "execution_count": null,
   "metadata": {},
   "outputs": [
    {
     "name": "stdout",
     "output_type": "stream",
     "text": [
      "\n",
      "Running the program\n",
      "R1: 12  \n",
      "*Replacing memory with new code: main\n",
      "*** Loaded in memory: (100, 106)\n",
      "  * Function name is: main\n",
      "Set(r2, 0) # outy = 0 [100]\n",
      "0 0 \n",
      "Subi(cr, r1, 11) [101]\n",
      "1 12 11\n",
      "Addi(ar, pc, 3) # ar = address of endif [102]\n",
      "105 102 3\n",
      "Moven(pc, ar, cr) # if inx < 11, go to endif [103]\n",
      "104 105 1\n",
      "Set(r2, 1) # else, change outy to 1 [104]\n",
      "1 1 \n",
      "Move(r2, r2) #print(outy) [105]\n",
      "1 1 \n",
      "R2: 1  \n"
     ]
    }
   ],
   "source": [
    "# if greater than or equal to 11\n",
    "# # py program\n",
    "# inx = 0\n",
    "# outy = 0\n",
    "# if inx >= 11:\n",
    "#     outy = 1\n",
    "# print(outy)\n",
    "\n",
    "# if inx >= 11: # (if inx < 11 goto endif)\n",
    "# inx:    10    11    12\n",
    "# outy:    0     1     1\n",
    "# func:endif  cont  cont\n",
    "\n",
    "# -11:    -1     0     1\n",
    "# moven:move   nmv   nmv\n",
    "\n",
    "# turn this python code into assembly function\n",
    "\n",
    "ifgeq11then = \"\"\"\n",
    "#: inx = r1 # r1 for input\n",
    "#: outy = r2 # r2 for output\n",
    "\n",
    "Set(outy, 0) # outy = 0\n",
    "# if inx >= 11: # (if inx < 11 goto endif)\n",
    "Subi(cr, inx, 11)\n",
    "Addi(ar, pc, ?endif) # ar = address of endif\n",
    "Moven(pc, ar, cr) # if inx < 11, go to endif\n",
    "    Set(outy, 1) # else, change outy to 1\n",
    "#> endif\n",
    "Move(outy, outy) #print(outy)\n",
    "\"\"\"\n",
    "\n",
    "# testing\n",
    "print(\"\\nRunning the program\")\n",
    "setr(r1, 12) # input\n",
    "start(ifgeq11then)\n",
    "printr(r2)"
   ]
  },
  {
   "attachments": {},
   "cell_type": "markdown",
   "metadata": {},
   "source": [
    "##### Input <= to 11"
   ]
  },
  {
   "cell_type": "code",
   "execution_count": null,
   "metadata": {},
   "outputs": [
    {
     "name": "stdout",
     "output_type": "stream",
     "text": [
      "\n",
      "Running the program\n",
      "R1: 12  \n",
      "*Replacing memory with new code: main\n",
      "*** Loaded in memory: (100, 107)\n",
      "  * Function name is: main\n",
      "Set(r2, 0) # outy = 0 [100]\n",
      "0 0 \n",
      "Set(cr, 11) [101]\n",
      "11 11 \n",
      "Sub(cr, cr, r1) [102]\n",
      "-1 11 12\n",
      "Addi(ar, pc, 3) # ar = address of endif [103]\n",
      "106 103 3\n",
      "Moven(pc, ar, cr) # if inx > 11, go to endif [104]\n",
      "106 106 -1\n",
      "Move(r2, r2) #print(outy) [106]\n",
      "0 0 \n",
      "R2: 0  \n"
     ]
    }
   ],
   "source": [
    "# if less than or equal to 11\n",
    "# # py program\n",
    "# inx = 0\n",
    "# outy = 0\n",
    "# if inx <= 11:\n",
    "#     outy = 1\n",
    "# print(outy)\n",
    "\n",
    "# if inx >= 11: # (if inx < 11 goto endif)\n",
    "# inx:    10    11    12\n",
    "# outy:    1     1     0\n",
    "# func: cont  cont endif\n",
    "\n",
    "# 11-inx:  1     0    -1\n",
    "# moven: nmv   nmv  move\n",
    "\n",
    "\n",
    "# turn this python code into assembly function\n",
    "ifleq11then = \"\"\"\n",
    "#: inx = r1 # r1 for input\n",
    "#: outy = r2 # r2 for output\n",
    "\n",
    "Set(outy, 0) # outy = 0\n",
    "# if inx <= 11: # (if inx > 11 goto endif)\n",
    "Set(cr, 11)\n",
    "Sub(cr, cr, inx)\n",
    "Addi(ar, pc, ?endif) # ar = address of endif\n",
    "Moven(pc, ar, cr) # if inx > 11, go to endif\n",
    "    Set(outy, 1) # else, change outy to 1\n",
    "#> endif\n",
    "Move(outy, outy) #print(outy)\n",
    "\"\"\"\n",
    "\n",
    "# testing\n",
    "print(\"\\nRunning the program\")\n",
    "setr(r1, 12) # input\n",
    "start(ifleq11then)\n",
    "printr(r2)"
   ]
  },
  {
   "attachments": {},
   "cell_type": "markdown",
   "metadata": {},
   "source": [
    "## Class 5"
   ]
  },
  {
   "attachments": {},
   "cell_type": "markdown",
   "metadata": {},
   "source": [
    "### Return absolute value"
   ]
  },
  {
   "cell_type": "code",
   "execution_count": 13,
   "metadata": {},
   "outputs": [],
   "source": [
    "def Abs(inx:r1)->r2:\n",
    "    outy:r2 = inx\n",
    "    if inx < 0:\n",
    "        outy = -inx\n",
    "    return outy # asm will get the return value from r2"
   ]
  },
  {
   "cell_type": "code",
   "execution_count": 10,
   "metadata": {},
   "outputs": [
    {
     "name": "stdout",
     "output_type": "stream",
     "text": [
      "py out:  5\n",
      "R1: -5  \n",
      "*** Loaded in memory: (106, 111)\n",
      "  * Function name is: Abs\n",
      "Move(r2, r1) # outy:r2 = inx [106]\n",
      "-5 -5 \n",
      "Addi(ar, pc, 4) # endif address [107]\n",
      "111 107 4\n",
      "Movep(pc, ar, r1) # if positive, do nothing (send to endif) [108]\n",
      "109 111 -5\n",
      "Not(r2, r1) # otherwise: invert+1 for neg [109]\n",
      "4 -5 \n",
      "Addi(r2, r2, 1) [110]\n",
      "5 4 1\n",
      "asm out: 5\n",
      "py our:  5\n",
      "R1: 5  \n",
      "*Replacing memory with new code: Abs\n",
      "*** Loaded in memory: (106, 111)\n",
      "  * Function name is: Abs\n",
      "Move(r2, r1) # outy:r2 = inx [106]\n",
      "5 5 \n",
      "Addi(ar, pc, 4) # endif address [107]\n",
      "111 107 4\n",
      "Movep(pc, ar, r1) # if positive, do nothing (send to endif) [108]\n",
      "111 111 5\n",
      "asm out: 5\n",
      "test grade:  10\n"
     ]
    }
   ],
   "source": [
    "def Abs(inx:r1)->r2:\n",
    "    outy:r2 = inx\n",
    "    if inx < 0:\n",
    "        outy = -inx\n",
    "    return outy # asm will get the return value from r2\n",
    "\n",
    "absf = \"\"\"\n",
    "#> Abs(inx:r1)->r2: # pound-greater than sign for def\n",
    "    #: inx = r1\n",
    "    #: outy = r2\n",
    "    \n",
    "    Move(outy, inx) # outy:r2 = inx\n",
    "    # if inx < 0: (if inx >= goto endif)\n",
    "    Addi(ar, pc, ?endif) # endif address\n",
    "    Movep(pc, ar, inx) # if positive, do nothing (send to endif)\n",
    "        # outy = -inx\n",
    "        Not(outy, inx) # otherwise: invert+1 for neg\n",
    "        Addi(outy, outy, 1)\n",
    "    #> endif\n",
    "    # return outy # asm will get the return value from r2\n",
    "\"\"\"\n",
    "\n",
    "# testing\n",
    "if __name__ == '__main__': # put all your testing code in main()\n",
    "    \n",
    "    ## test case 1\n",
    "    tot = 0\n",
    "    testcase = -5\n",
    "\n",
    "    # python output\n",
    "    outp = Abs(testcase) #python output\n",
    "    print(\"py out: \", outp)\n",
    "\n",
    "    # assembly output\n",
    "    setr(r1, testcase) # r1 = testcase\n",
    "    start(absf) #assembly function\n",
    "    outa = getr(r2) #OS function getr and put it in python\n",
    "    print(\"asm out:\", outa) # assembly out\n",
    "    \n",
    "    # compare assembly to python\n",
    "    tot = (tot+5) if outp == outa else tot # if out python == out assembly, increase total, else don't.\n",
    "    \n",
    "    ## test case 2\n",
    "    testcase = 5\n",
    "    outp = Abs(testcase)\n",
    "    print(\"py out: \", outp)\n",
    "    \n",
    "    # assembly output\n",
    "    setr(r1, testcase)\n",
    "    start(absf)\n",
    "    outa = getr(r2) #OS function getr and put it in python\n",
    "    print(\"asm out:\", outa)\n",
    "    \n",
    "    # compare assembly to python\n",
    "    tot = (tot+5) if outp == outa else tot\n",
    "    \n",
    "    print(\"test grade: \", tot)\n",
    "    "
   ]
  },
  {
   "attachments": {},
   "cell_type": "markdown",
   "metadata": {},
   "source": [
    "### Assignment: else"
   ]
  },
  {
   "cell_type": "code",
   "execution_count": null,
   "metadata": {},
   "outputs": [],
   "source": [
    "def Abs(inx:r1)->r2:\n",
    "    if inx < 0:\n",
    "        outy = -inx\n",
    "    else:\n",
    "        outy:r2 = inx\n",
    "    return outy # asm will get the return value from r2\n"
   ]
  }
 ],
 "metadata": {
  "kernelspec": {
   "display_name": "Python 3",
   "language": "python",
   "name": "python3"
  },
  "language_info": {
   "codemirror_mode": {
    "name": "ipython",
    "version": 3
   },
   "file_extension": ".py",
   "mimetype": "text/x-python",
   "name": "python",
   "nbconvert_exporter": "python",
   "pygments_lexer": "ipython3",
   "version": "3.11.2"
  },
  "orig_nbformat": 4
 },
 "nbformat": 4,
 "nbformat_minor": 2
}
