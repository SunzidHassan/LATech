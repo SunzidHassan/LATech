{
 "cells": [
  {
   "attachments": {},
   "cell_type": "markdown",
   "metadata": {},
   "source": [
    "# Practice"
   ]
  },
  {
   "cell_type": "code",
   "execution_count": null,
   "metadata": {},
   "outputs": [],
   "source": [
    "from bcpu import *"
   ]
  },
  {
   "cell_type": "code",
   "execution_count": null,
   "metadata": {},
   "outputs": [],
   "source": [
    "# Convert binary to decimal\n",
    "int(str(1100000001),base=2)\n"
   ]
  },
  {
   "attachments": {},
   "cell_type": "markdown",
   "metadata": {},
   "source": [
    "# Classes"
   ]
  },
  {
   "attachments": {},
   "cell_type": "markdown",
   "metadata": {},
   "source": [
    "## Class 2"
   ]
  },
  {
   "cell_type": "markdown",
   "metadata": {},
   "source": [
    "### BCPU Instructions\n",
    "\n",
    "Move(rd, ra) # rd = ra\n",
    "Not(rd, ra) # rd = bitwise not ra\n",
    "And(rd, ra, rb) # rd = ra bitwise and rb\n",
    "Or(rd, ra, rb) # rd = ra bitwise or rb\n",
    "Add(rd, ra, rb) # rd = ra + rb (ra and rb 4 bit)\n",
    "Sub(rd, ra, rb) # rd = ra - rb (ra and rb 4 bit)\n",
    "Addi(rd, ra, v4) # rd = ra + v4 (ra and v4 4 bit)\n",
    "Subi(rd, ra, v4) # rd = ra - v4 (ra and v4 4 bit)\n",
    "Set(rd, v8) # rd = 8 bit var v8 (8 0s followed by v8)\n",
    "Seth(rd, v8) # 8 bit v8 followed by 8 digits. The high values indicate multiples of 256 (0 0000 0001 is 1), (1 0000 0001 is 256+1), (10 0000 0001 is 256*2 + 1), (10 0000 0002 is 256*2 + 2)\n",
    "Store(rd, ra) # DataStorage[rd] = ra, rd is address\n",
    "Load(rd, ra) #DataStorage[ra] = rd, where ra is address"
   ]
  },
  {
   "attachments": {},
   "cell_type": "markdown",
   "metadata": {},
   "source": [
    "### Set(), Seth(), Move()"
   ]
  },
  {
   "cell_type": "code",
   "execution_count": null,
   "metadata": {},
   "outputs": [],
   "source": [
    "Set(r1, 10) # r1 = 10\n",
    "Move(r2, r1) # copy r2 into r1\n"
   ]
  },
  {
   "attachments": {},
   "cell_type": "markdown",
   "metadata": {},
   "source": [
    "#### Storing binary"
   ]
  },
  {
   "cell_type": "code",
   "execution_count": null,
   "metadata": {},
   "outputs": [],
   "source": [
    "print(int(str(11000111),base=2))\n",
    "print(int(str(11001111),base=2))\n",
    "print(int(str(111000111),base=2)) # First 8 bit is bin 1 (dec 1), last 8 bit is dec 199: 256*1+199 = 455\n",
    "print(int(str(1011000111),base=2)) # First 8 bit is bin 10 (dec 2), last 8 bit is dec 199: 256*2+199 = 711\n",
    "print(int(str(1100111111000111),base=2)) # First 8 bit is bin 11001111 (dec 207), last 8 bit is dec 199: but it's not 207*256+199 = 53191, it's -12345.\n",
    "\"\"\"\n",
    "Because the max positive value is 32767 (2^16 = 65536: -32768 to 32767). So after 32767, it counts from -32768 upwards to -12345.\n",
    "\"\"\"\n",
    "\n",
    "print()\n",
    "Set(r2, 0b1100_0111) #set last 8 bits (0b1100_0111 = 199)\n",
    "Seth(r2, 0b1100_1111) #set high 8 bits (0b1100_1111 = 207) 207*256\n",
    "printrb(r2)"
   ]
  },
  {
   "cell_type": "markdown",
   "metadata": {},
   "source": [
    "#### Storing large value"
   ]
  },
  {
   "cell_type": "code",
   "execution_count": null,
   "metadata": {},
   "outputs": [],
   "source": [
    "Set(r2, 260%256) # the remainder of 256 - setting in the lower 8 bits\n",
    "Seth(r2, 260//256) # the multiple of 256 - setting higher 8 bits\n",
    "printrb(r2) # overall - multiple of 256 + remainder"
   ]
  },
  {
   "attachments": {},
   "cell_type": "markdown",
   "metadata": {},
   "source": [
    "## Class 3"
   ]
  },
  {
   "attachments": {},
   "cell_type": "markdown",
   "metadata": {},
   "source": [
    "### Conditionals: Not(), And(), Or(), printrb() and binary numbers\n",
    "Binary index is assigned from left to right starting from 0: 0b 15 14 13 12 _ 11 10 9 8 _ 7 6 5 4 _ 3 2 1 0"
   ]
  },
  {
   "cell_type": "code",
   "execution_count": null,
   "metadata": {},
   "outputs": [],
   "source": [
    "Set(r1, 1) # r1 = 10\n",
    "Set(r2, 10) # copy r2 into r1\n",
    "Set(r3, 100)\n",
    "\n",
    "# Bitwise NOT r2\n",
    "Not(r3, r2)\n",
    "printrb(2)\n",
    "printrb(3)\n",
    "\n",
    "# bitwise r2 and r3\n",
    "And(r4, r2, r3)\n",
    "printrb(2)\n",
    "printrb(3)\n",
    "printrb(4)\n",
    "\n",
    "# bitwise r2 or r3\n",
    "Or(r5, r2, r3)\n",
    "printrb(2)\n",
    "printrb(3)\n",
    "printrb(5)"
   ]
  },
  {
   "attachments": {},
   "cell_type": "markdown",
   "metadata": {},
   "source": [
    "#### Storing negative value"
   ]
  },
  {
   "cell_type": "code",
   "execution_count": null,
   "metadata": {},
   "outputs": [],
   "source": [
    "Set(r5, 1)\n",
    "printrb(r5)\n",
    "print()\n",
    "\n",
    "Not(r5, r5)\n",
    "printrb(r5)\n",
    "print()\n",
    "\n",
    "Addi(r5, r5, 1)\n",
    "printrb(r5)\n",
    "print()\n",
    "\n",
    "# It makes decimal negative. When do bitwise NOT is 65534. So it's 32767 + 1 = -32768 + (65534-32768 or 32766) > = -2. We add 1 to get -1.\n",
    "print(int(str(1),base=2))\n",
    "print(int(str(1111111111111110),base=2))\n",
    "print(int(str(1111111100000001),base=2))"
   ]
  },
  {
   "cell_type": "code",
   "execution_count": null,
   "metadata": {},
   "outputs": [],
   "source": [
    "#### Storing 16bit number with hexadecimal\n",
    "\n",
    "# hex(199) = 0xc7\n",
    "# hex(207) = 0xcf\n",
    "\n",
    "Set(r3, 0xc7)\n",
    "Seth(r3, 0xcf)"
   ]
  },
  {
   "attachments": {},
   "cell_type": "markdown",
   "metadata": {},
   "source": [
    "#### Assignment: Changing just 1 digit in the binary value using mask.\n",
    "Using mask - 0 and 0 is 0, 1 and 1 will be 1, 0 and 1 will be 0"
   ]
  },
  {
   "cell_type": "code",
   "execution_count": 6,
   "metadata": {},
   "outputs": [
    {
     "name": "stdout",
     "output_type": "stream",
     "text": [
      "199 199 \n",
      "-12345 207 \n",
      "R1: 1100 1111 1100 0111\n",
      "16 16 \n",
      "-12329 -12345 16\n",
      "R1: 1100 1111 1101 0111\n"
     ]
    }
   ],
   "source": [
    "# r1 = 0b1100_1111_1100_0111\n",
    "Set(r1, 0b1100_0111)\n",
    "Seth(r1, 0b1100_1111)\n",
    "printrb(1)\n",
    "\n",
    "#Put your code here to set r1 bit 4 to 1 using Mask\n",
    "Set(r2, 0b0001_0000)\n",
    "Or(r1, r1, r2)\n",
    "printrb(r1)"
   ]
  },
  {
   "attachments": {},
   "cell_type": "markdown",
   "metadata": {},
   "source": [
    "#### Assignment: Changing 2 digits in the binary value using mask."
   ]
  },
  {
   "cell_type": "code",
   "execution_count": 15,
   "metadata": {},
   "outputs": [
    {
     "name": "stdout",
     "output_type": "stream",
     "text": [
      "199 199 \n",
      "-12345 207 \n",
      "R1: 1100 1111 1100 0111\n",
      "199 199 \n",
      "-13625 202 \n",
      "-13625 -12345 -13625\n",
      "R1: 1100 1010 1100 0111\n"
     ]
    }
   ],
   "source": [
    "# r1 = 0b1100_1111_1100_0111\n",
    "Set(r1, 0b1100_0111)\n",
    "Seth(r1, 0b1100_1111)\n",
    "printrb(1)\n",
    "\n",
    "# clear r1 bit 8 and bit 10 to 0\n",
    "# put your code here\n",
    "Set(r2, 0b1100_0111)\n",
    "Seth(r2, 0b1100_1010)\n",
    "\n",
    "And(r1, r1, r2)\n",
    "printrb(1)"
   ]
  },
  {
   "attachments": {},
   "cell_type": "markdown",
   "metadata": {},
   "source": [
    "#### Check if a specific bit is 0 or 1"
   ]
  },
  {
   "cell_type": "code",
   "execution_count": 20,
   "metadata": {},
   "outputs": [
    {
     "name": "stdout",
     "output_type": "stream",
     "text": [
      "199 199 \n",
      "-12345 207 \n",
      "R1: 1100 1111 1100 0111\n",
      "64 64 \n",
      "R9: 0000 0000 0100 0000\n",
      "64 -12345 64\n",
      "R10: 0000 0000 0100 0000\n"
     ]
    }
   ],
   "source": [
    "Set(r1, 0b1100_0111)\n",
    "Seth(r1, 0b1100_1111)\n",
    "printrb(1)\n",
    "\n",
    "# Check if bit 6 is 0\n",
    "# Mask\n",
    "Set(r9, 0b0100_0000)\n",
    "printrb(9)\n",
    "\n",
    "And(r10, r1, r9)\n",
    "printrb(10)\n",
    "# Since r10 does not equals to 0, that means bit 6 was 1\n"
   ]
  },
  {
   "attachments": {},
   "cell_type": "markdown",
   "metadata": {},
   "source": [
    "### Addition"
   ]
  },
  {
   "attachments": {},
   "cell_type": "markdown",
   "metadata": {},
   "source": [
    "#### Shift left\n",
    "By adding a number twice, all digits gets shifted to 1 left. A 0 gets added at the rightmost, and the last bit is lost."
   ]
  },
  {
   "cell_type": "code",
   "execution_count": 26,
   "metadata": {},
   "outputs": [
    {
     "name": "stdout",
     "output_type": "stream",
     "text": [
      "R1: 1100 1111 1100 0111\n",
      "-24690 -12345 -12345\n",
      "R2: 1001 1111 1000 1110\n"
     ]
    }
   ],
   "source": [
    "printrb(1)\n",
    "Add(r1, r1, r1)\n",
    "printrb(2)"
   ]
  },
  {
   "attachments": {},
   "cell_type": "markdown",
   "metadata": {},
   "source": [
    "### Store() and Load()\n",
    "We have 16 instructions.\n",
    "The 16 variables are called register.\n",
    "We have additional 16bit (256) storage [0:256] - starting with 0, ending with but not including 256."
   ]
  },
  {
   "cell_type": "code",
   "execution_count": 27,
   "metadata": {},
   "outputs": [
    {
     "name": "stdout",
     "output_type": "stream",
     "text": [
      "D[0:256]: 0, 0, 0, 0, 0, 0, 0, 0, 0, 0, 0, 0, 0, 0, 0, 0, 0, 0, 0, 0, 0, 0, 0, 0, 0, 0, 0, 0, 0, 0, 0, 0, 0, 0, 0, 0, 0, 0, 0, 0, 0, 0, 0, 0, 0, 0, 0, 0, 0, 0, 0, 0, 0, 0, 0, 0, 0, 0, 0, 0, 0, 0, 0, 0, 0, 0, 0, 0, 0, 0, 0, 0, 0, 0, 0, 0, 0, 0, 0, 0, 0, 0, 0, 0, 0, 0, 0, 0, 0, 0, 0, 0, 0, 0, 0, 0, 0, 0, 0, 0, 0, 0, 0, 0, 0, 0, 0, 0, 0, 0, 0, 0, 0, 0, 0, 0, 0, 0, 0, 0, 0, 0, 0, 0, 0, 0, 0, 0, 0, 0, 0, 0, 0, 0, 0, 0, 0, 0, 0, 0, 0, 0, 0, 0, 0, 0, 0, 0, 0, 0, 0, 0, 0, 0, 0, 0, 0, 0, 0, 0, 0, 0, 0, 0, 0, 0, 0, 0, 0, 0, 0, 0, 0, 0, 0, 0, 0, 0, 0, 0, 0, 0, 0, 0, 0, 0, 0, 0, 0, 0, 0, 0, 0, 0, 0, 0, 0, 0, 0, 0, 0, 0, 0, 0, 0, 0, 0, 0, 0, 0, 0, 0, 0, 0, 0, 0, 0, 0, 0, 0, 0, 0, 0, 0, 0, 0, 0, 0, 0, 0, 0, 0, 0, 0, 0, 0, 0, 0, 0, 0, 0, 0, 0, 0, 0, 0, 0, 0, 0, 0, 0, 0, 0, 0, 0, 0, \n"
     ]
    }
   ],
   "source": [
    "printd() # shows 256 locations to store data"
   ]
  },
  {
   "cell_type": "code",
   "execution_count": 28,
   "metadata": {},
   "outputs": [
    {
     "name": "stdout",
     "output_type": "stream",
     "text": [
      "111 111 \n",
      "100 100 \n",
      "100 111 \n",
      "D[100]: 111\n"
     ]
    }
   ],
   "source": [
    "# Store r1 to data storage location 100 using index (address)\n",
    "\n",
    "Set(r1, 111) # the value we want to store\n",
    "\n",
    "# ar is address register 13 - stores address\n",
    "# cr is conditional register or check register 12 - stores condition\n",
    "Set(ar, 100) # address of where to put the data\n",
    "\n",
    "Store(ar, r1) # first position is of address, second position is of data\n",
    "\n",
    "printd(100) #print 100 index data"
   ]
  },
  {
   "cell_type": "code",
   "execution_count": 33,
   "metadata": {},
   "outputs": [
    {
     "name": "stdout",
     "output_type": "stream",
     "text": [
      "123 101 \n",
      "R0: -999  \n",
      "R1: 123  \n",
      "R2: 123  \n",
      "R3: 111  \n",
      "R4: -999  \n",
      "R5: -999  \n",
      "R6: -999  \n",
      "R7: -999  \n",
      "R8: -999  \n",
      "R9: 32  \n",
      "R10: 100  \n",
      "R11: 1  \n",
      "R12: -999  \n",
      "R13: 101  \n",
      "R14: 0  \n",
      "PC: 152\n"
     ]
    }
   ],
   "source": [
    "# Get the data back from storage using Load()\n",
    "Load(r2, ar)\n",
    "printr()"
   ]
  },
  {
   "attachments": {},
   "cell_type": "markdown",
   "metadata": {},
   "source": [
    "### Data strucutre"
   ]
  },
  {
   "attachments": {},
   "cell_type": "markdown",
   "metadata": {},
   "source": [
    "#### Array: they have base address and index"
   ]
  },
  {
   "cell_type": "code",
   "execution_count": 35,
   "metadata": {},
   "outputs": [
    {
     "name": "stdout",
     "output_type": "stream",
     "text": [
      "100 100 \n",
      "0 0 \n",
      "100 100 0\n",
      "111 100 \n",
      "123 123 \n",
      "1 1 \n",
      "101 100 1\n",
      "101 123 \n"
     ]
    }
   ],
   "source": [
    "Set(r10, 100) # base of our array (first 100 is kept for stacks)\n",
    "Set(r11, 0) # index of our array\n",
    "Add(ar, r10, r11) # final address of \n",
    "\n",
    "Load(r3, ar) # load data from the given array address\n",
    "\n",
    "Set(r1, 123) # now we'll put it in index 1\n",
    "Addi(ar, r10, 1) # R10 is base, r11 is index - ar is address of the final location\n",
    "\n",
    "Store(ar, r1) # store data in the given address"
   ]
  },
  {
   "attachments": {},
   "cell_type": "markdown",
   "metadata": {},
   "source": [
    "#### Stack\n",
    "LIFO - Last in first out. Push and Pop for topmost element\n",
    "Here, index 1 to 100 is for stack.\n",
    "The 0th storage is kept empty for easy checking of empty, as first element is added from index 1.\n",
    "\n",
    "When we start PC, bios resets stack to 0. If st is 0, there is nothing in stack."
   ]
  },
  {
   "cell_type": "code",
   "execution_count": 36,
   "metadata": {},
   "outputs": [
    {
     "data": {
      "text/plain": [
       "14"
      ]
     },
     "execution_count": 36,
     "metadata": {},
     "output_type": "execute_result"
    }
   ],
   "source": [
    "st # st stands for stack top, has register 14. If st is 2, there is 2 things in stack."
   ]
  },
  {
   "attachments": {},
   "cell_type": "markdown",
   "metadata": {},
   "source": [
    "##### Push"
   ]
  },
  {
   "cell_type": "code",
   "execution_count": 41,
   "metadata": {},
   "outputs": [
    {
     "name": "stdout",
     "output_type": "stream",
     "text": [
      "1 0 1\n",
      "66 66 \n",
      "1 66 \n",
      "D[0:256]: 0, 66, 77, 0, 0, 0, 0, 0, 0, 0, 0, 0, 0, 0, 0, 0, 0, 0, 0, 0, 0, 0, 0, 0, 0, 0, 0, 0, 0, 0, 0, 0, 0, 0, 0, 0, 0, 0, 0, 0, 0, 0, 0, 0, 0, 0, 0, 0, 0, 0, 0, 0, 0, 0, 0, 0, 0, 0, 0, 0, 0, 0, 0, 0, 0, 0, 0, 0, 0, 0, 0, 0, 0, 0, 0, 0, 0, 0, 0, 0, 0, 0, 0, 0, 0, 0, 0, 0, 0, 0, 0, 0, 0, 0, 0, 0, 0, 0, 0, 0, 111, 123, 0, 0, 0, 0, 0, 0, 0, 0, 0, 0, 0, 0, 0, 0, 0, 0, 0, 0, 0, 0, 0, 0, 0, 0, 0, 0, 0, 0, 0, 0, 0, 0, 0, 0, 0, 0, 0, 0, 0, 0, 0, 0, 0, 0, 0, 0, 0, 0, 0, 0, 0, 0, 0, 0, 0, 0, 0, 0, 0, 0, 0, 0, 0, 0, 0, 0, 0, 0, 0, 0, 0, 0, 0, 0, 0, 0, 0, 0, 0, 0, 0, 0, 0, 0, 0, 0, 0, 0, 0, 0, 0, 0, 0, 0, 0, 0, 0, 0, 0, 0, 0, 0, 0, 0, 0, 0, 0, 0, 0, 0, 0, 0, 0, 0, 0, 0, 0, 0, 0, 0, 0, 0, 0, 0, 0, 0, 0, 0, 0, 0, 0, 0, 0, 0, 0, 0, 0, 0, 0, 0, 0, 0, 0, 0, 0, 0, 0, 0, 0, 0, 0, 0, 0, 0, \n"
     ]
    }
   ],
   "source": [
    "# Push 66 in a stack\n",
    "Addi(st, st, 1) # get a new top space for push\n",
    "Set(cr, 66) # push 66 in conditional array which is temporary - cr and ar can be messed up\n",
    "Store(st, cr) # now 66 is \n",
    "printd()"
   ]
  },
  {
   "cell_type": "code",
   "execution_count": 42,
   "metadata": {},
   "outputs": [
    {
     "name": "stdout",
     "output_type": "stream",
     "text": [
      "77 77 \n",
      "2 1 1\n",
      "2 77 \n",
      "D[0:256]: 0, 66, 77, 0, 0, 0, 0, 0, 0, 0, 0, 0, 0, 0, 0, 0, 0, 0, 0, 0, 0, 0, 0, 0, 0, 0, 0, 0, 0, 0, 0, 0, 0, 0, 0, 0, 0, 0, 0, 0, 0, 0, 0, 0, 0, 0, 0, 0, 0, 0, 0, 0, 0, 0, 0, 0, 0, 0, 0, 0, 0, 0, 0, 0, 0, 0, 0, 0, 0, 0, 0, 0, 0, 0, 0, 0, 0, 0, 0, 0, 0, 0, 0, 0, 0, 0, 0, 0, 0, 0, 0, 0, 0, 0, 0, 0, 0, 0, 0, 0, 111, 123, 0, 0, 0, 0, 0, 0, 0, 0, 0, 0, 0, 0, 0, 0, 0, 0, 0, 0, 0, 0, 0, 0, 0, 0, 0, 0, 0, 0, 0, 0, 0, 0, 0, 0, 0, 0, 0, 0, 0, 0, 0, 0, 0, 0, 0, 0, 0, 0, 0, 0, 0, 0, 0, 0, 0, 0, 0, 0, 0, 0, 0, 0, 0, 0, 0, 0, 0, 0, 0, 0, 0, 0, 0, 0, 0, 0, 0, 0, 0, 0, 0, 0, 0, 0, 0, 0, 0, 0, 0, 0, 0, 0, 0, 0, 0, 0, 0, 0, 0, 0, 0, 0, 0, 0, 0, 0, 0, 0, 0, 0, 0, 0, 0, 0, 0, 0, 0, 0, 0, 0, 0, 0, 0, 0, 0, 0, 0, 0, 0, 0, 0, 0, 0, 0, 0, 0, 0, 0, 0, 0, 0, 0, 0, 0, 0, 0, 0, 0, 0, 0, 0, 0, 0, 0, \n"
     ]
    }
   ],
   "source": [
    "# Push 77 in the stack\n",
    "Set(cr, 77) # the value to be stored\n",
    "Addi(st, st, 1) #store 1 index above the existing stack\n",
    "Store(st, cr)\n",
    "printd() # 77 will be on top of 66"
   ]
  },
  {
   "attachments": {},
   "cell_type": "markdown",
   "metadata": {},
   "source": [
    "##### Pop"
   ]
  },
  {
   "cell_type": "code",
   "execution_count": 44,
   "metadata": {},
   "outputs": [
    {
     "name": "stdout",
     "output_type": "stream",
     "text": [
      "66 1 \n",
      "0 1 1\n",
      "R3: 66  \n",
      "D[0:256]: 0, 66, 77, 0, 0, 0, 0, 0, 0, 0, 0, 0, 0, 0, 0, 0, 0, 0, 0, 0, 0, 0, 0, 0, 0, 0, 0, 0, 0, 0, 0, 0, 0, 0, 0, 0, 0, 0, 0, 0, 0, 0, 0, 0, 0, 0, 0, 0, 0, 0, 0, 0, 0, 0, 0, 0, 0, 0, 0, 0, 0, 0, 0, 0, 0, 0, 0, 0, 0, 0, 0, 0, 0, 0, 0, 0, 0, 0, 0, 0, 0, 0, 0, 0, 0, 0, 0, 0, 0, 0, 0, 0, 0, 0, 0, 0, 0, 0, 0, 0, 111, 123, 0, 0, 0, 0, 0, 0, 0, 0, 0, 0, 0, 0, 0, 0, 0, 0, 0, 0, 0, 0, 0, 0, 0, 0, 0, 0, 0, 0, 0, 0, 0, 0, 0, 0, 0, 0, 0, 0, 0, 0, 0, 0, 0, 0, 0, 0, 0, 0, 0, 0, 0, 0, 0, 0, 0, 0, 0, 0, 0, 0, 0, 0, 0, 0, 0, 0, 0, 0, 0, 0, 0, 0, 0, 0, 0, 0, 0, 0, 0, 0, 0, 0, 0, 0, 0, 0, 0, 0, 0, 0, 0, 0, 0, 0, 0, 0, 0, 0, 0, 0, 0, 0, 0, 0, 0, 0, 0, 0, 0, 0, 0, 0, 0, 0, 0, 0, 0, 0, 0, 0, 0, 0, 0, 0, 0, 0, 0, 0, 0, 0, 0, 0, 0, 0, 0, 0, 0, 0, 0, 0, 0, 0, 0, 0, 0, 0, 0, 0, 0, 0, 0, 0, 0, 0, \n"
     ]
    }
   ],
   "source": [
    "# Pop\n",
    "Load(r3, st) # get the top stack and put it into r3 - this byitself is like pick\n",
    "Subi(st, st, 1) # together it's pop\n",
    "printr(3) # in r14, it'll show 1, as we've popped 1 value out\n",
    "printd() #it'll still show 77, but if we push a value, it'll overwrite 77"
   ]
  },
  {
   "attachments": {},
   "cell_type": "markdown",
   "metadata": {},
   "source": [
    "#### Assignment: Push-Pop"
   ]
  },
  {
   "cell_type": "code",
   "execution_count": 47,
   "metadata": {},
   "outputs": [
    {
     "name": "stdout",
     "output_type": "stream",
     "text": [
      "11 11 \n",
      "8 7 1\n",
      "8 11 \n",
      "22 22 \n",
      "9 8 1\n",
      "9 22 \n",
      "33 33 \n",
      "10 9 1\n",
      "10 33 \n",
      "44 44 \n",
      "11 10 1\n",
      "11 44 \n",
      "D[0:256]: 0, 11, 22, 33, 44, 11, 22, 33, 11, 22, 33, 44, 0, 0, 0, 0, 0, 0, 0, 0, 0, 0, 0, 0, 0, 0, 0, 0, 0, 0, 0, 0, 0, 0, 0, 0, 0, 0, 0, 0, 0, 0, 0, 0, 0, 0, 0, 0, 0, 0, 0, 0, 0, 0, 0, 0, 0, 0, 0, 0, 0, 0, 0, 0, 0, 0, 0, 0, 0, 0, 0, 0, 0, 0, 0, 0, 0, 0, 0, 0, 0, 0, 0, 0, 0, 0, 0, 0, 0, 0, 0, 0, 0, 0, 0, 0, 0, 0, 0, 0, 111, 123, 0, 0, 0, 0, 0, 0, 0, 0, 0, 0, 0, 0, 0, 0, 0, 0, 0, 0, 0, 0, 0, 0, 0, 0, 0, 0, 0, 0, 0, 0, 0, 0, 0, 0, 0, 0, 0, 0, 0, 0, 0, 0, 0, 0, 0, 0, 0, 0, 0, 0, 0, 0, 0, 0, 0, 0, 0, 0, 0, 0, 0, 0, 0, 0, 0, 0, 0, 0, 0, 0, 0, 0, 0, 0, 0, 0, 0, 0, 0, 0, 0, 0, 0, 0, 0, 0, 0, 0, 0, 0, 0, 0, 0, 0, 0, 0, 0, 0, 0, 0, 0, 0, 0, 0, 0, 0, 0, 0, 0, 0, 0, 0, 0, 0, 0, 0, 0, 0, 0, 0, 0, 0, 0, 0, 0, 0, 0, 0, 0, 0, 0, 0, 0, 0, 0, 0, 0, 0, 0, 0, 0, 0, 0, 0, 0, 0, 0, 0, 0, 0, 0, 0, 0, 0, \n",
      "44 11 \n",
      "10 11 1\n",
      "R1: 44  \n",
      "D[0:256]: 0, 11, 22, 33, 44, 11, 22, 33, 11, 22, 33, 44, 0, 0, 0, 0, 0, 0, 0, 0, 0, 0, 0, 0, 0, 0, 0, 0, 0, 0, 0, 0, 0, 0, 0, 0, 0, 0, 0, 0, 0, 0, 0, 0, 0, 0, 0, 0, 0, 0, 0, 0, 0, 0, 0, 0, 0, 0, 0, 0, 0, 0, 0, 0, 0, 0, 0, 0, 0, 0, 0, 0, 0, 0, 0, 0, 0, 0, 0, 0, 0, 0, 0, 0, 0, 0, 0, 0, 0, 0, 0, 0, 0, 0, 0, 0, 0, 0, 0, 0, 111, 123, 0, 0, 0, 0, 0, 0, 0, 0, 0, 0, 0, 0, 0, 0, 0, 0, 0, 0, 0, 0, 0, 0, 0, 0, 0, 0, 0, 0, 0, 0, 0, 0, 0, 0, 0, 0, 0, 0, 0, 0, 0, 0, 0, 0, 0, 0, 0, 0, 0, 0, 0, 0, 0, 0, 0, 0, 0, 0, 0, 0, 0, 0, 0, 0, 0, 0, 0, 0, 0, 0, 0, 0, 0, 0, 0, 0, 0, 0, 0, 0, 0, 0, 0, 0, 0, 0, 0, 0, 0, 0, 0, 0, 0, 0, 0, 0, 0, 0, 0, 0, 0, 0, 0, 0, 0, 0, 0, 0, 0, 0, 0, 0, 0, 0, 0, 0, 0, 0, 0, 0, 0, 0, 0, 0, 0, 0, 0, 0, 0, 0, 0, 0, 0, 0, 0, 0, 0, 0, 0, 0, 0, 0, 0, 0, 0, 0, 0, 0, 0, 0, 0, 0, 0, 0, \n",
      "33 10 \n",
      "9 10 1\n",
      "R2: 33  \n",
      "D[0:256]: 0, 11, 22, 33, 44, 11, 22, 33, 11, 22, 33, 44, 0, 0, 0, 0, 0, 0, 0, 0, 0, 0, 0, 0, 0, 0, 0, 0, 0, 0, 0, 0, 0, 0, 0, 0, 0, 0, 0, 0, 0, 0, 0, 0, 0, 0, 0, 0, 0, 0, 0, 0, 0, 0, 0, 0, 0, 0, 0, 0, 0, 0, 0, 0, 0, 0, 0, 0, 0, 0, 0, 0, 0, 0, 0, 0, 0, 0, 0, 0, 0, 0, 0, 0, 0, 0, 0, 0, 0, 0, 0, 0, 0, 0, 0, 0, 0, 0, 0, 0, 111, 123, 0, 0, 0, 0, 0, 0, 0, 0, 0, 0, 0, 0, 0, 0, 0, 0, 0, 0, 0, 0, 0, 0, 0, 0, 0, 0, 0, 0, 0, 0, 0, 0, 0, 0, 0, 0, 0, 0, 0, 0, 0, 0, 0, 0, 0, 0, 0, 0, 0, 0, 0, 0, 0, 0, 0, 0, 0, 0, 0, 0, 0, 0, 0, 0, 0, 0, 0, 0, 0, 0, 0, 0, 0, 0, 0, 0, 0, 0, 0, 0, 0, 0, 0, 0, 0, 0, 0, 0, 0, 0, 0, 0, 0, 0, 0, 0, 0, 0, 0, 0, 0, 0, 0, 0, 0, 0, 0, 0, 0, 0, 0, 0, 0, 0, 0, 0, 0, 0, 0, 0, 0, 0, 0, 0, 0, 0, 0, 0, 0, 0, 0, 0, 0, 0, 0, 0, 0, 0, 0, 0, 0, 0, 0, 0, 0, 0, 0, 0, 0, 0, 0, 0, 0, 0, \n"
     ]
    }
   ],
   "source": [
    "# Push 11\n",
    "Set(cr, 11) # the value to be stored\n",
    "Addi(st, st, 1) #store 1 index above the existing stack\n",
    "Store(st, cr)\n",
    "\n",
    "# push 22\n",
    "Set(cr, 22) # the value to be stored\n",
    "Addi(st, st, 1) #store 1 index above the existing stack\n",
    "Store(st, cr)\n",
    "\n",
    "# push 33\n",
    "Set(cr, 33) # the value to be stored\n",
    "Addi(st, st, 1) #store 1 index above the existing stack\n",
    "Store(st, cr)\n",
    "\n",
    "# push 44\n",
    "Set(cr, 44) # the value to be stored\n",
    "Addi(st, st, 1) #store 1 index above the existing stack\n",
    "Store(st, cr)\n",
    "printd()\n",
    "\n",
    "# pop into r1\n",
    "Load(r1, st) # get the top stack and put it into r1\n",
    "Subi(st, st, 1) # Pop the topmost value out\n",
    "printr(1)\n",
    "printd()\n",
    "\n",
    "# pop into r2\n",
    "Load(r2, st) # get the top stack and put it into r1\n",
    "Subi(st, st, 1) # Pop the topmost value out\n",
    "printr(2)\n",
    "printd()\n"
   ]
  },
  {
   "cell_type": "code",
   "execution_count": null,
   "metadata": {},
   "outputs": [],
   "source": []
  }
 ],
 "metadata": {
  "kernelspec": {
   "display_name": "Python 3",
   "language": "python",
   "name": "python3"
  },
  "language_info": {
   "codemirror_mode": {
    "name": "ipython",
    "version": 3
   },
   "file_extension": ".py",
   "mimetype": "text/x-python",
   "name": "python",
   "nbconvert_exporter": "python",
   "pygments_lexer": "ipython3",
   "version": "3.11.2"
  },
  "orig_nbformat": 4
 },
 "nbformat": 4,
 "nbformat_minor": 2
}
