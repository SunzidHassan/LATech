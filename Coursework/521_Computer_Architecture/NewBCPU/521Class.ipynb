{
 "cells": [
  {
   "cell_type": "code",
   "execution_count": 1,
   "metadata": {},
   "outputs": [
    {
     "name": "stdout",
     "output_type": "stream",
     "text": [
      "*** BCPU 5.3.0 startup completed ***\n"
     ]
    }
   ],
   "source": [
    "from bcpu import *"
   ]
  },
  {
   "cell_type": "code",
   "execution_count": null,
   "metadata": {},
   "outputs": [],
   "source": [
    "# py program\n",
    "inx = 0\n",
    "outy = 0\n",
    "if inx < 0: #negative number\n",
    "    outy = 1\n",
    "print(outy)\n",
    "\n",
    "# turn this python code into assempty function\n",
    "\n",
    "# if less than or equals to 0\n",
    "iflt0then = \"\"\"\n",
    "#: inx = r1 # we're going to use r1 for inx\n",
    "#: outy = r2 # use r2 for outy\n",
    "\n",
    "Set(outy, 0) # outy = 0\n",
    "\n",
    "#if inx < 0: (if inx >= 0 goto endif)\n",
    "Addi(ar, pc, ?endif) # take the pc value, add relative address of endif to get endif address in ar\n",
    "Movep(pc, ar, inx) # if inx is positive (including 0), move ar address into pc (jump to endif?)\n",
    "    Set(outy, 1) # if inx was negative, change output from default 0 to 1\n",
    "#> endif\n",
    "Move(outy, outy) #copy new or old value of outy\n",
    "\"\"\"\n",
    "\n",
    "# testing\n",
    "print(\"\\nRunning the program\")\n",
    "\n",
    "#testing negative number\n",
    "setr(r1, 0) #os command, not assembly code\n",
    "start(iflt0then)"
   ]
  },
  {
   "attachments": {},
   "cell_type": "markdown",
   "metadata": {},
   "source": [
    "r1 == 11\n",
    "\n",
    "r1 != 11\n",
    "\n",
    "r1 > 11 #using subi()\n",
    "\n",
    "r1 < 11\n",
    "\n",
    "r1 >= 11\n",
    "\n",
    "r1 <= 11\n",
    "\n"
   ]
  },
  {
   "cell_type": "code",
   "execution_count": null,
   "metadata": {},
   "outputs": [],
   "source": [
    "# py program\n",
    "inx = 0\n",
    "outy = 0\n",
    "if inx < 0: #negative number\n",
    "    outy = 1\n",
    "print(outy)\n",
    "\n",
    "# turn this python code into assempty function\n",
    "\n",
    "# if less than or equals to 0\n",
    "iflt0then = \"\"\"\n",
    "#: inx = r1 # we're going to use r1 for inx\n",
    "#: outy = r2 # use r2 for outy\n",
    "\n",
    "Set(outy, 0) # outy = 0\n",
    "\n",
    "#if inx < 0: (if inx >= 0 goto endif)\n",
    "Addi(ar, pc, ?endif) # take the pc value, add relative address of endif to get endif address in ar\n",
    "Movep(pc, ar, inx) # if inx is positive (including 0), move ar address into pc (jump to endif?)\n",
    "    Set(outy, 1) # if inx was negative, change output from default 0 to 1\n",
    "#> endif\n",
    "Move(outy, outy) #copy new or old value of outy\n",
    "\"\"\"\n",
    "\n",
    "# testing\n",
    "print(\"\\nRunning the program\")\n",
    "\n",
    "#testing negative number\n",
    "setr(r1, 0) #os command, not assembly code\n",
    "start(iflt0then)"
   ]
  }
 ],
 "metadata": {
  "kernelspec": {
   "display_name": "Python 3",
   "language": "python",
   "name": "python3"
  },
  "language_info": {
   "codemirror_mode": {
    "name": "ipython",
    "version": 3
   },
   "file_extension": ".py",
   "mimetype": "text/x-python",
   "name": "python",
   "nbconvert_exporter": "python",
   "pygments_lexer": "ipython3",
   "version": "3.11.2"
  },
  "orig_nbformat": 4
 },
 "nbformat": 4,
 "nbformat_minor": 2
}
