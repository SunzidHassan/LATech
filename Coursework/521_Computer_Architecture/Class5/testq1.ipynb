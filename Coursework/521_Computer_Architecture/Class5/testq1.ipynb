{
 "cells": [
  {
   "cell_type": "code",
   "execution_count": 3,
   "metadata": {},
   "outputs": [
    {
     "name": "stdout",
     "output_type": "stream",
     "text": [
      "*** BCPU 5.3.0 startup completed ***\n"
     ]
    }
   ],
   "source": [
    "from bcpu import *\n",
    "absf = \"\"\"\n",
    "#> Abs(inx:r1)->r2: # change def to pound greater than sign\n",
    "    #: inx = r1\n",
    "    #: outy = r2\n",
    "    Move(outy, inx) # outy:r2 = inx\n",
    "    # if inx < 0: (if inx >= goto endif)\n",
    "    Addi(ar, pc, ?endif)\n",
    "    Movep(pc, ar, inx)\n",
    "        Not(outy, inx)\n",
    "        Addi(outy, outy, 1)\n",
    "        #outy = -inx\n",
    "    #> endif\n",
    "    # return outy # asm will get the return value from r2\n",
    "\"\"\""
   ]
  }
 ],
 "metadata": {
  "kernelspec": {
   "display_name": "Python 3",
   "language": "python",
   "name": "python3"
  },
  "language_info": {
   "codemirror_mode": {
    "name": "ipython",
    "version": 3
   },
   "file_extension": ".py",
   "mimetype": "text/x-python",
   "name": "python",
   "nbconvert_exporter": "python",
   "pygments_lexer": "ipython3",
   "version": "3.11.2"
  },
  "orig_nbformat": 4
 },
 "nbformat": 4,
 "nbformat_minor": 2
}
