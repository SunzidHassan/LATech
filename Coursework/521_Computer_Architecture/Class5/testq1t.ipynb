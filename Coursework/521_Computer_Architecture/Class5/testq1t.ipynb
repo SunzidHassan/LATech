{
 "cells": [
  {
   "cell_type": "code",
   "execution_count": 9,
   "metadata": {},
   "outputs": [
    {
     "name": "stdout",
     "output_type": "stream",
     "text": [
      "R0: -5  \n",
      "*Replacing memory with new code: Abs\n",
      "*** Loaded in memory: (100, 105)\n",
      "  * Function name is: Abs\n",
      "Move(r2, r1) # outy:r2 = inx [100]\n",
      "0 0 \n",
      "Addi(ar, pc, 4) [101]\n",
      "105 101 4\n",
      "Movep(pc, ar, r1) [102]\n",
      "105 105 0\n",
      "\n",
      "Test Case 1: -5\n",
      "Python out: 5\n",
      "Assembly out-5\n",
      "Test Grade: 0\n",
      "\n",
      "R0: 5  \n",
      "*Replacing memory with new code: Abs\n",
      "*** Loaded in memory: (100, 105)\n",
      "  * Function name is: Abs\n",
      "Move(r2, r1) # outy:r2 = inx [100]\n",
      "0 0 \n",
      "Addi(ar, pc, 4) [101]\n",
      "105 101 4\n",
      "Movep(pc, ar, r1) [102]\n",
      "105 105 0\n",
      "\n",
      "Test Case 2: 5\n",
      "Python out: 5\n",
      "Assembly out: 5\n",
      "Test Grade: 5\n",
      "\n"
     ]
    }
   ],
   "source": [
    "from bcpu import *\n",
    "\n",
    "r1 = 0\n",
    "r2 = 0\n",
    "# python function\n",
    "def Abs(inx:r1)->r2:\n",
    "    outy:r2 = inx\n",
    "    if inx < 0:\n",
    "        outy = -inx\n",
    "    return outy # asm will get the return value from r2\n",
    "\n",
    "# assembly function\n",
    "from testq1 import absf\n",
    "\n",
    "# testing assembly to python\n",
    "if __name__ == '__main__': # put all your testing code in main()\n",
    "    \n",
    "    ## test case 1\n",
    "    tot = 0\n",
    "    testcase = -5\n",
    "    \n",
    "    # python output\n",
    "    outp = Abs(testcase) #python output\n",
    "    \n",
    "    # assembly output\n",
    "    setr(r1, testcase) # r1 = testcase\n",
    "    start(absf) #assembly function\n",
    "    outa = getr(r2) #OS function getr and put it in python\n",
    "    \n",
    "    # compare assembly to python\n",
    "    print(\"\\nTest Case 1: {}\\nPython out: {}\\nAssembly out: {}\\nTest Grade: {}\\n\".format(testcase, outp, outa, tot))\n",
    "    tot = (tot+5) if outp == outa else tot # if out python == out assembly, increase total, else don't.\n",
    "    \n",
    "    ## test case 2\n",
    "    testcase = 5\n",
    "    outp = Abs(testcase)\n",
    "    \n",
    "    # assembly output\n",
    "    setr(r1, testcase)\n",
    "    start(absf)\n",
    "    outa = getr(r2) #OS function getr and put it in python\n",
    "    \n",
    "    # compare assembly to python\n",
    "    tot = (tot+5) if outp == outa else tot\n",
    "    print(\"\\nTest Case 2: {}\\nPython out: {}\\nAssembly out: {}\\nTest Grade: {}\\n\".format(testcase, outp, outa, tot))"
   ]
  },
  {
   "cell_type": "code",
   "execution_count": null,
   "metadata": {},
   "outputs": [],
   "source": []
  }
 ],
 "metadata": {
  "kernelspec": {
   "display_name": "Python 3",
   "language": "python",
   "name": "python3"
  },
  "language_info": {
   "codemirror_mode": {
    "name": "ipython",
    "version": 3
   },
   "file_extension": ".py",
   "mimetype": "text/x-python",
   "name": "python",
   "nbconvert_exporter": "python",
   "pygments_lexer": "ipython3",
   "version": "3.11.2"
  },
  "orig_nbformat": 4
 },
 "nbformat": 4,
 "nbformat_minor": 2
}
