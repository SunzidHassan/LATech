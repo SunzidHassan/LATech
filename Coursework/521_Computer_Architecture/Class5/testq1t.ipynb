{
 "cells": [
  {
   "cell_type": "code",
   "execution_count": 3,
   "metadata": {},
   "outputs": [
    {
     "ename": "ModuleNotFoundError",
     "evalue": "No module named 'testq1'",
     "output_type": "error",
     "traceback": [
      "\u001b[1;31m---------------------------------------------------------------------------\u001b[0m",
      "\u001b[1;31mModuleNotFoundError\u001b[0m                       Traceback (most recent call last)",
      "Cell \u001b[1;32mIn[3], line 13\u001b[0m\n\u001b[0;32m     10\u001b[0m     \u001b[39mreturn\u001b[39;00m outy \u001b[39m# asm will get the return value from r2\u001b[39;00m\n\u001b[0;32m     12\u001b[0m \u001b[39m# assembly function\u001b[39;00m\n\u001b[1;32m---> 13\u001b[0m \u001b[39mfrom\u001b[39;00m \u001b[39mtestq1\u001b[39;00m \u001b[39mimport\u001b[39;00m absf\n\u001b[0;32m     15\u001b[0m \u001b[39m# testing assembly to python\u001b[39;00m\n\u001b[0;32m     16\u001b[0m \u001b[39mif\u001b[39;00m \u001b[39m__name__\u001b[39m \u001b[39m==\u001b[39m \u001b[39m'\u001b[39m\u001b[39m__main__\u001b[39m\u001b[39m'\u001b[39m: \u001b[39m# put all your testing code in main()\u001b[39;00m\n\u001b[0;32m     17\u001b[0m     \n\u001b[0;32m     18\u001b[0m     \u001b[39m## test case 1\u001b[39;00m\n",
      "\u001b[1;31mModuleNotFoundError\u001b[0m: No module named 'testq1'"
     ]
    }
   ],
   "source": [
    "from bcpu import *\n",
    "\n",
    "r1 = 0\n",
    "r2 = 0\n",
    "# python function\n",
    "def Abs(inx:r1)->r2:\n",
    "    outy:r2 = inx\n",
    "    if inx < 0:\n",
    "        outy = -inx\n",
    "    return outy # asm will get the return value from r2\n",
    "\n",
    "# assembly function\n",
    "from testq1 import absf\n",
    "\n",
    "# testing assembly to python\n",
    "if __name__ == '__main__': # put all your testing code in main()\n",
    "    \n",
    "    ## test case 1\n",
    "    tot = 0\n",
    "    testcase = -5\n",
    "    \n",
    "    # python output\n",
    "    outp = Abs(testcase) #python output\n",
    "    \n",
    "    # assembly output\n",
    "    setr(r1, testcase) # r1 = testcase\n",
    "    start(absf) #assembly function\n",
    "    outa = getr(r2) #OS function getr and put it in python\n",
    "    \n",
    "    # compare assembly to python\n",
    "    print(\"\\nTest Case 1: {}\\nPython out: {}\\nAssembly out: {}\\nTest Grade: {}\\n\".format(testcase, outp, outa, tot))\n",
    "    tot = (tot+5) if outp == outa else tot # if out python == out assembly, increase total, else don't.\n",
    "    \n",
    "    ## test case 2\n",
    "    testcase = 5\n",
    "    outp = Abs(testcase)\n",
    "    \n",
    "    # assembly output\n",
    "    setr(r1, testcase)\n",
    "    start(absf)\n",
    "    outa = getr(r2) #OS function getr and put it in python\n",
    "    \n",
    "    # compare assembly to python\n",
    "    tot = (tot+5) if outp == outa else tot\n",
    "    print(\"\\nTest Case 2: {}\\nPython out: {}\\nAssembly out: {}\\nTest Grade: {}\\n\".format(testcase, outp, outa, tot))"
   ]
  },
  {
   "cell_type": "code",
   "execution_count": null,
   "metadata": {},
   "outputs": [],
   "source": []
  },
  {
   "cell_type": "code",
   "execution_count": null,
   "metadata": {},
   "outputs": [],
   "source": []
  }
 ],
 "metadata": {
  "kernelspec": {
   "display_name": "Python 3",
   "language": "python",
   "name": "python3"
  },
  "language_info": {
   "codemirror_mode": {
    "name": "ipython",
    "version": 3
   },
   "file_extension": ".py",
   "mimetype": "text/x-python",
   "name": "python",
   "nbconvert_exporter": "python",
   "pygments_lexer": "ipython3",
   "version": "3.11.2"
  },
  "orig_nbformat": 4
 },
 "nbformat": 4,
 "nbformat_minor": 2
}
