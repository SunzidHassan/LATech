{
 "cells": [
  {
   "cell_type": "markdown",
   "metadata": {},
   "source": []
  },
  {
   "attachments": {},
   "cell_type": "markdown",
   "metadata": {},
   "source": [
    "Hashing: \n",
    "\n",
    "\n",
    "Magic functions are invoked automatically when an object of that class is used."
   ]
  },
  {
   "cell_type": "code",
   "execution_count": 1,
   "metadata": {},
   "outputs": [
    {
     "data": {
      "text/plain": [
       "3"
      ]
     },
     "execution_count": 1,
     "metadata": {},
     "output_type": "execute_result"
    }
   ],
   "source": [
    "hash(3)"
   ]
  },
  {
   "cell_type": "code",
   "execution_count": 2,
   "metadata": {},
   "outputs": [
    {
     "data": {
      "text/plain": [
       "5688788956667111595"
      ]
     },
     "execution_count": 2,
     "metadata": {},
     "output_type": "execute_result"
    }
   ],
   "source": [
    "hash(\"cat\")"
   ]
  },
  {
   "cell_type": "code",
   "execution_count": 3,
   "metadata": {},
   "outputs": [
    {
     "data": {
      "text/plain": [
       "5"
      ]
     },
     "execution_count": 3,
     "metadata": {},
     "output_type": "execute_result"
    }
   ],
   "source": [
    "hash(\"cat\") % 10 # 10 is the number of elements in list"
   ]
  },
  {
   "cell_type": "code",
   "execution_count": 6,
   "metadata": {},
   "outputs": [
    {
     "data": {
      "text/plain": [
       "-2325843229467157243"
      ]
     },
     "execution_count": 6,
     "metadata": {},
     "output_type": "execute_result"
    }
   ],
   "source": [
    "hash(\"dog\")"
   ]
  },
  {
   "attachments": {},
   "cell_type": "markdown",
   "metadata": {},
   "source": [
    "Hash values are not unique, there can be collisions.\n",
    "Avoiding collision - linear probing - if collision, advance to next empty location.\n",
    "\n",
    "After linear probing, we might have to look through next index if there was collision\n",
    "\n",
    "Adding: hashing, collision, load factor..."
   ]
  },
  {
   "cell_type": "markdown",
   "metadata": {},
   "source": []
  },
  {
   "cell_type": "code",
   "execution_count": 3,
   "metadata": {},
   "outputs": [],
   "source": [
    "class HashSet:\n",
    "    def __init__(self, contents = []): # a = HashSet() - __init__ will be invoked\n",
    "        self.items = [None] * 10 # we'll start with list of arbitary 10 elements - it can be changed later based on load factor\n",
    "        self.numItems = 0 # initially 0, it'll increase as we add elements\n",
    "\n",
    "        for item in contents:\n",
    "            self.add(item)  # we'll define add function later - hashing, linear probing, rehashing... in modular parts\n",
    "\n",
    "\n",
    "    def __add(item, items): #helper/private function - this add function will be a private/intenral function - won't be used outside of the class\n",
    "        idx = hash(item) % len(items) # get a non-ridiculous hash > now we'll have to detect collision and do linear probing\n",
    "\n",
    "        loc = -1 # check for collision case, not a storage location\n",
    "\n",
    "        # in the while loop we'll update location by linear probing\n",
    "        while items[idx] != None: #initially it'll be None, if there is already data there we'll have to do linear probing\n",
    "            if items[idx] == item: #if it's duplicate, discard\n",
    "                return False\n",
    "            \n",
    "            if (loc < 0) and (type(items[idx]) == HashSet.__Placeholder):\n",
    "                loc = idx\n",
    "\n",
    "            idx = (idx + 1) % len(items) # continue the while loop\n",
    "        \n",
    "        if loc < 0:\n",
    "            loc = idx\n",
    "\n",
    "        items[loc] = item\n",
    "\n",
    "        return True\n",
    "    \n",
    "    # in order to keep constant time, we need to keep quarter of the list empty. if the length of list changes, the indeces will change, and we'll have to rehash the indices\n",
    "\n",
    "    def __rehash(oldList, newList): # we'll take the old and new list\n",
    "        for x in oldList: # for every elements in our old list\n",
    "            if (x != None) and (type(x) != HashSet.__Placeholder):\n",
    "                HashSet.__add(x, newList)\n",
    "        return newList\n",
    "    \n",
    "    def add(self, item):\n",
    "        if HashSet.__add(item, self.items): # check if an unique element was added to the lsit. If it returns false, we just move on, otherwise we check load factor\n",
    "            self.numItems += 1\n",
    "            load = self.numItems / len(self.items)\n",
    "            if load >= 0.75:\n",
    "                self.items = HashSet.__rehash(self.items, [None]*2*len(self.items)) # returns new empty list twice the length of old list\n",
    "\n",
    "    # Removing or discarding elements - we can add None before a None, but not in the middle of a chain - and add placeholder instead\n",
    "    # iterate over items to find value, check if it's the next element is None, replace with None or Placeholder\n",
    "\n",
    "\n",
    "    class __Placeholder:\n",
    "        def __init__(self): # defining constructors for objects\n",
    "            pass\n",
    "\n",
    "        def __eq__(self, other):\n",
    "            return False\n",
    "        \n",
    "    def __remove(item, items): # since it's a private function, we won't have to call self\n",
    "        # where is the item located - hashing and linear probing\n",
    "        idx = hash(item) % len(items)\n",
    "\n",
    "        while items[idx] != None: # if items under that hash is not None\n",
    "            if items[idx] == item: # if item equals to  item\n",
    "                nextIdx = (idx + 1) % len(items)\n",
    "\n",
    "                if items[nextIdx] == None: # if the next element is None, then we're at the end of the list\n",
    "                    items[idx] = None # set to None\n",
    "                else:\n",
    "                    items[idx] = HashSet.__Placeholder()\n",
    "                return True\n",
    "            idx = (idx+1) %len(items)\n",
    "        return False\n",
    "    \n",
    "    def remove(self, item):\n",
    "        if HashSet.__remove(item, self.items): # check if we have removed item from the list self.items is True\n",
    "            self.numItems -= 1\n",
    "\n",
    "            load = max(self.numItems, 10) / len(self.items) # we'll not shrink list beyond 10\n",
    "            \n",
    "            if load <= 0.25:\n",
    "                self.items = HashSet.__rehash(self.items, [None] * len(self.items)//2)\n",
    "\n",
    "        else: # __remove returned False as the value is not in the list\n",
    "            raise KeyError(\"Item: {} not in HashSet\".format(item))\n",
    "\n",
    "    def discard(self, item): # without the key error\n",
    "        if HashSet.__remove(item, self.items): # check if we have removed item from the list self.items is True\n",
    "            self.numItems -= 1\n",
    "\n",
    "            load = max(self.numItems, 10) / len(self.items) # we'll not shrink list beyond 10\n",
    "            \n",
    "            if load <= 0.25:\n",
    "                self.items = HashSet.__rehash(self.items, [None] * len(self.items)//2)\n"
   ]
  },
  {
   "cell_type": "code",
   "execution_count": 4,
   "metadata": {},
   "outputs": [],
   "source": [
    "# test before getting more complex\n",
    "s = HashSet([1, 2, 2, 3, 4, 4, 5])\n"
   ]
  },
  {
   "cell_type": "code",
   "execution_count": 5,
   "metadata": {},
   "outputs": [],
   "source": [
    "s.remove(2)"
   ]
  },
  {
   "cell_type": "code",
   "execution_count": 7,
   "metadata": {},
   "outputs": [
    {
     "ename": "KeyError",
     "evalue": "'Item: 2 not in HashSet'",
     "output_type": "error",
     "traceback": [
      "\u001b[1;31m---------------------------------------------------------------------------\u001b[0m",
      "\u001b[1;31mKeyError\u001b[0m                                  Traceback (most recent call last)",
      "Cell \u001b[1;32mIn[7], line 1\u001b[0m\n\u001b[1;32m----> 1\u001b[0m s\u001b[39m.\u001b[39;49mremove(\u001b[39m2\u001b[39;49m)\n",
      "Cell \u001b[1;32mIn[3], line 84\u001b[0m, in \u001b[0;36mHashSet.remove\u001b[1;34m(self, item)\u001b[0m\n\u001b[0;32m     81\u001b[0m         \u001b[39mself\u001b[39m\u001b[39m.\u001b[39mitems \u001b[39m=\u001b[39m HashSet\u001b[39m.\u001b[39m__rehash(\u001b[39mself\u001b[39m\u001b[39m.\u001b[39mitems, [\u001b[39mNone\u001b[39;00m] \u001b[39m*\u001b[39m \u001b[39mlen\u001b[39m(\u001b[39mself\u001b[39m\u001b[39m.\u001b[39mitems)\u001b[39m/\u001b[39m\u001b[39m/\u001b[39m\u001b[39m2\u001b[39m)\n\u001b[0;32m     83\u001b[0m \u001b[39melse\u001b[39;00m: \u001b[39m# __remove returned False as the value is not in the list\u001b[39;00m\n\u001b[1;32m---> 84\u001b[0m     \u001b[39mraise\u001b[39;00m \u001b[39mKeyError\u001b[39;00m(\u001b[39m\"\u001b[39m\u001b[39mItem: \u001b[39m\u001b[39m{}\u001b[39;00m\u001b[39m not in HashSet\u001b[39m\u001b[39m\"\u001b[39m\u001b[39m.\u001b[39mformat(item))\n",
      "\u001b[1;31mKeyError\u001b[0m: 'Item: 2 not in HashSet'"
     ]
    }
   ],
   "source": [
    "s.remove(2)"
   ]
  },
  {
   "cell_type": "code",
   "execution_count": null,
   "metadata": {},
   "outputs": [],
   "source": [
    "for y in range(y+1, 0, -1):\n",
    "    print(1)"
   ]
  }
 ],
 "metadata": {
  "kernelspec": {
   "display_name": "Python 3",
   "language": "python",
   "name": "python3"
  },
  "language_info": {
   "codemirror_mode": {
    "name": "ipython",
    "version": 3
   },
   "file_extension": ".py",
   "mimetype": "text/x-python",
   "name": "python",
   "nbconvert_exporter": "python",
   "pygments_lexer": "ipython3",
   "version": "3.11.2"
  },
  "orig_nbformat": 4
 },
 "nbformat": 4,
 "nbformat_minor": 2
}
