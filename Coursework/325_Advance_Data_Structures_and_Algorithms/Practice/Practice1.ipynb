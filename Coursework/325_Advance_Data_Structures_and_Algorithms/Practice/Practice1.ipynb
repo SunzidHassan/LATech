{
 "cells": [
  {
   "cell_type": "code",
   "execution_count": 1,
   "metadata": {},
   "outputs": [
    {
     "name": "stdout",
     "output_type": "stream",
     "text": [
      "Hello world\n"
     ]
    }
   ],
   "source": [
    "print('Hello world')"
   ]
  },
  {
   "cell_type": "code",
   "execution_count": 2,
   "metadata": {},
   "outputs": [
    {
     "name": "stdout",
     "output_type": "stream",
     "text": [
      "[11, 7, 38, 65, 94, 47, 16, 48, 22, 76, 55, 18, 71, 59, 11, 96, 41, 87, 77, 95]\n",
      "The smallest value is at index: 1\n",
      "The smallest value is: 7\n"
     ]
    }
   ],
   "source": [
    "from random import randint\n",
    "\n",
    "numbers = []\n",
    "while(len(numbers) < 20):\n",
    "    numbers.append(randint(1, 99))\n",
    "\n",
    "print(numbers)\n",
    "\n",
    "minIndex = 0\n",
    "\n",
    "for index in range(1,len(numbers)):\n",
    "    if(numbers[index] < numbers[minIndex]):\n",
    "        minIndex = index\n",
    "\n",
    "print(\"The smallest value is at index: {}\".format(minIndex))\n",
    "print(\"The smallest value is: {}\".format(numbers[minIndex]))"
   ]
  },
  {
   "cell_type": "code",
   "execution_count": 12,
   "metadata": {},
   "outputs": [],
   "source": [
    "num = int(input(\"What integer would you like to search for?\"))\n",
    "\n",
    "for index in range(len(numbers)):\n",
    "    if(numbers[index] == num):\n",
    "        print(\"The value {} was found at index {}!\".format(num, index))\n",
    "        break"
   ]
  },
  {
   "cell_type": "code",
   "execution_count": 20,
   "metadata": {},
   "outputs": [
    {
     "name": "stdout",
     "output_type": "stream",
     "text": [
      "i=0\n",
      "j=0\n",
      "j=1\n",
      "\n",
      "i=1\n",
      "j=0\n",
      "j=1\n",
      "\n"
     ]
    }
   ],
   "source": [
    "for i in range(2):\n",
    "    print(\"i={}\".format(i))\n",
    "    for j in range(5):\n",
    "        if(j>1):\n",
    "            break\n",
    "        print(\"j={}\".format(j))\n",
    "        \n",
    "    print()"
   ]
  },
  {
   "cell_type": "code",
   "execution_count": 7,
   "metadata": {},
   "outputs": [
    {
     "data": {
      "text/plain": [
       "[11, 7, 38, 65, 94, 47, 16, 48, 22, 76, 55, 18, 71, 59, 11, 96, 41, 87, 77, 95]"
      ]
     },
     "execution_count": 7,
     "metadata": {},
     "output_type": "execute_result"
    }
   ],
   "source": [
    "numbers"
   ]
  },
  {
   "cell_type": "code",
   "execution_count": 5,
   "metadata": {},
   "outputs": [
    {
     "name": "stdout",
     "output_type": "stream",
     "text": [
      "[7, 11, 11, 16, 18, 22, 38, 41, 47, 48, 55, 59, 65, 71, 76, 77, 87, 94, 95, 96]\n",
      "11 was found at index1\n"
     ]
    }
   ],
   "source": [
    "numbers = [11, 7, 38, 65, 94, 47, 16, 48, 22, 76, 55, 18, 71, 59, 11, 96, 41, 87, 77, 95]\n",
    "    \n",
    "## Sorting list\n",
    "n = len(numbers)\n",
    "for i in range(0, n-1):\n",
    "    minPosition = i\n",
    "    for j in range(i+1, n):\n",
    "        if(numbers[j] < numbers[minPosition]):\n",
    "            minPosition = j\n",
    "    temp = numbers[i]\n",
    "    numbers[i] = numbers[minPosition]\n",
    "    numbers[minPosition] = temp\n",
    "\n",
    "\n",
    "## Binary search\n",
    "# take an integer input\n",
    "num = int(input(\"What integer would you like to search for?\"))\n",
    "\n",
    "# We haven't found anything yet\n",
    "found = False\n",
    "\n",
    "#first and last index\n",
    "first = 0\n",
    "last = len(numbers) - 1\n",
    "\n",
    "while(first <= last and found != True):\n",
    "    mid = (first + last) // 2 #floor division\n",
    "    if(num == numbers[mid]):\n",
    "        found = True\n",
    "    elif(num > numbers[mid]):\n",
    "        first = mid + 1\n",
    "    else:\n",
    "        last = mid - 1\n",
    "\n",
    "print(numbers)\n",
    "if(found):\n",
    "    print(\"{} was found at index{}\".format(num, mid))\n",
    "else:\n",
    "    print(\"{} wasn't found\".format(num))"
   ]
  },
  {
   "cell_type": "code",
   "execution_count": 28,
   "metadata": {},
   "outputs": [
    {
     "name": "stdout",
     "output_type": "stream",
     "text": [
      "Please, enter correct value for the number of nodes: \n",
      "Please, enter correct value for the number of nodes: \n",
      "3\n"
     ]
    }
   ],
   "source": []
  },
  {
   "cell_type": "code",
   "execution_count": null,
   "metadata": {},
   "outputs": [],
   "source": [
    "# A single node of a singly linked list\n",
    "class Node:\n",
    "  # constructor\n",
    "  def __init__(self, data = None, next=None): \n",
    "    self.data = data\n",
    "    self.nextNode = next\n",
    "\n",
    "# A Linked List class with a single head node\n",
    "class LinkedList:\n",
    "  def __init__(self):  \n",
    "    self.head = None\n",
    "    self.tail = None\n",
    "    self.count = 0\n",
    "  \n",
    "  # insertion method for the linked list\n",
    "  def insert(self, data):\n",
    "    newNode = Node(data)\n",
    "    if(self.head):\n",
    "      current = self.head\n",
    "      while(current.next):\n",
    "        current = current.next\n",
    "      current.next = newNode\n",
    "    else:\n",
    "      self.head = newNode\n",
    "  \n",
    "      def insert(self, data): # Insert a node at the end\n",
    "        node = Node(data) # Create a new node\n",
    "        if self.tail: # If the list is not empty\n",
    "            self.tail.nextNode = node # Link the last node to the new node\n",
    "            self.tail = node # Update the tail pointer\n",
    "        else: # If the list is empty\n",
    "            self.head = node # Set the head and tail to the new node\n",
    "            self.tail = node\n",
    "        self.count += 1 # Increment the node count\n",
    "        \n",
    "  # print method for the linked list\n",
    "  def printLL(self):\n",
    "    current = self.head\n",
    "    while(current):\n",
    "      print(current.data)\n",
    "      current = current.next"
   ]
  },
  {
   "cell_type": "code",
   "execution_count": 47,
   "metadata": {},
   "outputs": [
    {
     "name": "stdout",
     "output_type": "stream",
     "text": [
      "Unsorted list: 12  23  99  6  45  95  42  \n",
      "Head data: 12\n",
      "Tail data: 42\n",
      "\n",
      "Sorted list: 6  12  23  42  45  95  99  \n",
      "Head data: 6\n",
      "Tail data: 99\n"
     ]
    }
   ],
   "source": [
    "def inputNodeNumber():\n",
    "    while True:\n",
    "        value = input(\"Please, enter the number of nodes: \")\n",
    "        try:\n",
    "            userInput = int(value)\n",
    "            if userInput < 1:  # if not a positive int print message and ask for input again\n",
    "                print(\"Please, enter correct value for the number of nodes: \")\n",
    "                continue\n",
    "            break\n",
    "        except ValueError:\n",
    "            print(\"Please, enter correct value for the number of nodes: \")\n",
    "            continue\n",
    "    # else all is good, val is >=  0 and an integer\n",
    "    return userInput\n",
    "\n",
    "\n",
    "class Node: # Singly linked node\n",
    "    def __init__(self, data=None, next = None):\n",
    "        self.data = data\n",
    "        self.nextNode = next\n",
    "\n",
    "class LinkedList: # Singly linked list\n",
    "    def __init__(self):\n",
    "        self.head = None # First node\n",
    "        self.tail = None # Last node\n",
    "        self.count = 0 # Number of nodes\n",
    "\n",
    "    def insert(self): # Insert a node at the end\n",
    "        node = Node(randint(1, 99)) # Create a new node\n",
    "        if self.tail: # If the list is not empty\n",
    "            self.tail.nextNode = node # Link the last node to the new node\n",
    "            self.tail = node # Update the tail pointer\n",
    "        else: # If the list is empty\n",
    "            self.head = node # Set the head and tail to the new node\n",
    "            self.tail = node\n",
    "        self.count += 1 # Increment the node count\n",
    "\n",
    "    def print(self, printMessage): # Print the list\n",
    "        current = self.head # Start from the head\n",
    "        print(printMessage, end='')\n",
    "        while current: # While there is a node\n",
    "            print(current.data, \" \", end='')\n",
    "            current = current.nextNode # Move to the next node\n",
    "        print('')\n",
    "        print(\"Head data: {}\".format(self.head.data))\n",
    "        print(\"Tail data: {}\".format(self.tail.data))\n",
    "\n",
    "    # Sort the list using selection sort\n",
    "    def selectionSort(self):\n",
    "        current = self.head\n",
    "        while current: # While there is a node\n",
    "            min = current # Assuming current node is min\n",
    "            temp = current.nextNode # Strong the next node in temp\n",
    "            while temp: # Inside the first pass, loop over all nodes (till there is a next node)\n",
    "                if temp.data < min.data: # If there is a node data less than the current min, udpate the min\n",
    "                    min = temp\n",
    "                temp = temp.nextNode # Move to the next node for the inner while loop\n",
    "            if min != current: # If the min is updated in the inner while loop, then bring new min to front\n",
    "                current.data, min.data = min.data, current.data\n",
    "            current = current.nextNode # Start proceeding from the next node again\n",
    "\n",
    "\n",
    "list = LinkedList() # Create an empty list\n",
    "for i in range(inputNodeNumber()): # Loop over number of input times\n",
    "    list.insert() # Insert input number of random variables into the list\n",
    "list.print(\"Unsorted list: \") # Print the unsorted list\n",
    "list.selectionSort() # Sort the list\n",
    "list.print(\"\\nSorted list: \") # Print the sorted list"
   ]
  }
 ],
 "metadata": {
  "kernelspec": {
   "display_name": "Python 3",
   "language": "python",
   "name": "python3"
  },
  "language_info": {
   "codemirror_mode": {
    "name": "ipython",
    "version": 3
   },
   "file_extension": ".py",
   "mimetype": "text/x-python",
   "name": "python",
   "nbconvert_exporter": "python",
   "pygments_lexer": "ipython3",
   "version": "3.11.2"
  },
  "orig_nbformat": 4
 },
 "nbformat": 4,
 "nbformat_minor": 2
}
