{
 "cells": [
  {
   "cell_type": "code",
   "execution_count": 1,
   "metadata": {},
   "outputs": [
    {
     "name": "stdout",
     "output_type": "stream",
     "text": [
      "Hello world\n"
     ]
    }
   ],
   "source": [
    "print('Hello world')"
   ]
  },
  {
   "attachments": {},
   "cell_type": "markdown",
   "metadata": {},
   "source": [
    "## Min max"
   ]
  },
  {
   "cell_type": "code",
   "execution_count": 2,
   "metadata": {},
   "outputs": [
    {
     "name": "stdout",
     "output_type": "stream",
     "text": [
      "[11, 7, 38, 65, 94, 47, 16, 48, 22, 76, 55, 18, 71, 59, 11, 96, 41, 87, 77, 95]\n",
      "The smallest value is at index: 1\n",
      "The smallest value is: 7\n"
     ]
    }
   ],
   "source": [
    "from random import randint\n",
    "\n",
    "numbers = []\n",
    "while(len(numbers) < 20):\n",
    "    numbers.append(randint(1, 99))\n",
    "\n",
    "print(numbers)\n",
    "\n",
    "minIndex = 0\n",
    "\n",
    "for index in range(1,len(numbers)):\n",
    "    if(numbers[index] < numbers[minIndex]):\n",
    "        minIndex = index\n",
    "\n",
    "print(\"The smallest value is at index: {}\".format(minIndex))\n",
    "print(\"The smallest value is: {}\".format(numbers[minIndex]))"
   ]
  },
  {
   "attachments": {},
   "cell_type": "markdown",
   "metadata": {},
   "source": [
    "## User input search"
   ]
  },
  {
   "cell_type": "code",
   "execution_count": 12,
   "metadata": {},
   "outputs": [],
   "source": [
    "num = int(input(\"What integer would you like to search for?\"))\n",
    "\n",
    "for index in range(len(numbers)):\n",
    "    if(numbers[index] == num):\n",
    "        print(\"The value {} was found at index {}!\".format(num, index))\n",
    "        break"
   ]
  },
  {
   "attachments": {},
   "cell_type": "markdown",
   "metadata": {},
   "source": [
    "## Breal from loop"
   ]
  },
  {
   "cell_type": "code",
   "execution_count": 20,
   "metadata": {},
   "outputs": [
    {
     "name": "stdout",
     "output_type": "stream",
     "text": [
      "i=0\n",
      "j=0\n",
      "j=1\n",
      "\n",
      "i=1\n",
      "j=0\n",
      "j=1\n",
      "\n"
     ]
    }
   ],
   "source": [
    "for i in range(2):\n",
    "    print(\"i={}\".format(i))\n",
    "    for j in range(5):\n",
    "        if(j>1):\n",
    "            break\n",
    "        print(\"j={}\".format(j))\n",
    "        \n",
    "    print()"
   ]
  },
  {
   "attachments": {},
   "cell_type": "markdown",
   "metadata": {},
   "source": [
    "## Binary search"
   ]
  },
  {
   "cell_type": "code",
   "execution_count": 5,
   "metadata": {},
   "outputs": [
    {
     "name": "stdout",
     "output_type": "stream",
     "text": [
      "[7, 11, 11, 16, 18, 22, 38, 41, 47, 48, 55, 59, 65, 71, 76, 77, 87, 94, 95, 96]\n",
      "11 was found at index1\n"
     ]
    }
   ],
   "source": [
    "numbers = [11, 7, 38, 65, 94, 47, 16, 48, 22, 76, 55, 18, 71, 59, 11, 96, 41, 87, 77, 95]\n",
    "    \n",
    "## Sorting list\n",
    "n = len(numbers)\n",
    "for i in range(0, n-1):\n",
    "    minPosition = i\n",
    "    for j in range(i+1, n):\n",
    "        if(numbers[j] < numbers[minPosition]):\n",
    "            minPosition = j\n",
    "    temp = numbers[i]\n",
    "    numbers[i] = numbers[minPosition]\n",
    "    numbers[minPosition] = temp\n",
    "\n",
    "\n",
    "## Binary search\n",
    "# take an integer input\n",
    "num = int(input(\"What integer would you like to search for?\"))\n",
    "\n",
    "# We haven't found anything yet\n",
    "found = False\n",
    "\n",
    "#first and last index\n",
    "first = 0\n",
    "last = len(numbers) - 1\n",
    "\n",
    "while(first <= last and found != True):\n",
    "    mid = (first + last) // 2 #floor division\n",
    "    if(num == numbers[mid]):\n",
    "        found = True\n",
    "    elif(num > numbers[mid]):\n",
    "        first = mid + 1\n",
    "    else:\n",
    "        last = mid - 1\n",
    "\n",
    "print(numbers)\n",
    "if(found):\n",
    "    print(\"{} was found at index{}\".format(num, mid))\n",
    "else:\n",
    "    print(\"{} wasn't found\".format(num))"
   ]
  },
  {
   "attachments": {},
   "cell_type": "markdown",
   "metadata": {},
   "source": [
    "## P0: singly linked list sort"
   ]
  },
  {
   "cell_type": "code",
   "execution_count": 61,
   "metadata": {},
   "outputs": [
    {
     "name": "stdout",
     "output_type": "stream",
     "text": [
      "Unsorted list: 25  50  69  26  46  76  69  79  \n",
      "Head data: 25\n",
      "Tail data: 79\n",
      "\n",
      "Sorted list: 25  26  46  50  69  69  76  79  \n",
      "Head data: 25\n",
      "Tail data: 79\n"
     ]
    }
   ],
   "source": [
    "# used idea and code from: <https://www.101computing.net/number-only/>\n",
    "\n",
    "def inputNodeNumber():\n",
    "    while True:\n",
    "        value = input(\"Please, enter the number of nodes: \")\n",
    "        try:\n",
    "            userInput = int(value)\n",
    "            if userInput < 1:  # if not a positive int print message and ask for input again\n",
    "                print(\"Please, enter correct value for the number of nodes: \")\n",
    "                continue\n",
    "            break\n",
    "        except ValueError:\n",
    "            print(\"Please, enter correct value for the number of nodes: \")\n",
    "            continue\n",
    "    # else all is good, val is >=  0 and an integer\n",
    "    return userInput\n",
    "\n",
    "\n",
    "# used idea and code from: <Bing chat> and <https://www.educative.io/answers/how-to-create-a-linked-list-in-python>\n",
    "\n",
    "class Node: # Singly linked node\n",
    "    def __init__(self, data=None, next=None):\n",
    "        self.data = data\n",
    "        self.nextNode = next\n",
    "\n",
    "class LinkedList: # Singly linked list\n",
    "    def __init__(self):\n",
    "        self.head = None # First node\n",
    "        self.tail = None # Last node\n",
    "        self.count = 0 # Number of nodes\n",
    "\n",
    "    def insert(self): # Insert a node at the end\n",
    "        node = Node(randint(1, 99)) # Create a new node\n",
    "        if self.tail: # If the list is not empty\n",
    "            self.tail.nextNode = node # add the new node after tail\n",
    "            self.tail = node # new tail\n",
    "        else: # If the list is empty\n",
    "            self.head = node # Set the head (and tail) to the new node\n",
    "            self.tail = node\n",
    "        self.count += 1 # Increment the node count\n",
    "\n",
    "    def print(self, printMessage): # Print the list\n",
    "        current = self.head # Start from the head\n",
    "        print(printMessage, end='')\n",
    "        while current: # While there is a node\n",
    "            print(current.data, \" \", end='')\n",
    "            current = current.nextNode # Move to the next node\n",
    "        print(\"\\nHead data: {}\\nTail data: {}\".format(self.head.data, self.tail.data))\n",
    "        \n",
    "    # Sort the list using selection sort\n",
    "    def selectionSort(self):\n",
    "        current = self.head\n",
    "        while current: # While there is a node\n",
    "            min = current # Assuming current node is min\n",
    "            temp = current.nextNode # Strong the next node in temp\n",
    "            while temp: # Inside the first pass, loop over all nodes (till there is a next node)\n",
    "                if temp.data < min.data: # If there is a node data less than the current min, udpate the min\n",
    "                    min = temp\n",
    "                temp = temp.nextNode # Move to the next node for the inner while loop\n",
    "            if min != current: # If the min is updated in the inner while loop, then bring new min to front\n",
    "                current.data, min.data = min.data, current.data\n",
    "            current = current.nextNode # Start proceeding from the next node again\n",
    "\n",
    "\n",
    "list = LinkedList() # Create an empty list\n",
    "for i in range(inputNodeNumber()): # Loop over number of input times\n",
    "    list.insert() # Insert input number of random variables into the list\n",
    "\n",
    "list.print(\"Unsorted list: \") # Print the unsorted list\n",
    "list.selectionSort() # Sort the list\n",
    "list.print(\"\\nSorted list: \") # Print the sorted list"
   ]
  }
 ],
 "metadata": {
  "kernelspec": {
   "display_name": "Python 3",
   "language": "python",
   "name": "python3"
  },
  "language_info": {
   "codemirror_mode": {
    "name": "ipython",
    "version": 3
   },
   "file_extension": ".py",
   "mimetype": "text/x-python",
   "name": "python",
   "nbconvert_exporter": "python",
   "pygments_lexer": "ipython3",
   "version": "3.11.2"
  },
  "orig_nbformat": 4
 },
 "nbformat": 4,
 "nbformat_minor": 2
}
