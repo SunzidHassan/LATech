{
 "cells": [
  {
   "cell_type": "code",
   "execution_count": 1,
   "metadata": {},
   "outputs": [
    {
     "name": "stdout",
     "output_type": "stream",
     "text": [
      "Hello world\n"
     ]
    }
   ],
   "source": [
    "print('Hello world')"
   ]
  },
  {
   "cell_type": "code",
   "execution_count": 4,
   "metadata": {},
   "outputs": [
    {
     "name": "stdout",
     "output_type": "stream",
     "text": [
      "[56, 7, 33, 36, 7, 89, 16, 84, 97, 93, 96, 66, 4, 30, 10, 36, 31, 85, 30, 30]\n",
      "The smallest value is at index: 12\n",
      "The smallest value is: 4\n"
     ]
    }
   ],
   "source": [
    "from random import randint\n",
    "\n",
    "numbers = []\n",
    "while(len(numbers) < 20):\n",
    "    numbers.append(randint(1, 99))\n",
    "\n",
    "print(numbers)\n",
    "\n",
    "minIndex = 0\n",
    "\n",
    "for index in range(1,len(numbers)):\n",
    "    if(numbers[index] < numbers[minIndex]):\n",
    "        minIndex = index\n",
    "\n",
    "print(\"The smallest value is at index: {}\".format(minIndex))\n",
    "print(\"The smallest value is: {}\".format(numbers[minIndex]))"
   ]
  },
  {
   "cell_type": "code",
   "execution_count": 12,
   "metadata": {},
   "outputs": [],
   "source": [
    "num = int(input(\"What integer would you like to search for?\"))\n",
    "\n",
    "for index in range(len(numbers)):\n",
    "    if(numbers[index] == num):\n",
    "        print(\"The value {} was found at index {}!\".format(num, index))\n",
    "        break"
   ]
  },
  {
   "cell_type": "code",
   "execution_count": 20,
   "metadata": {},
   "outputs": [
    {
     "name": "stdout",
     "output_type": "stream",
     "text": [
      "i=0\n",
      "j=0\n",
      "j=1\n",
      "\n",
      "i=1\n",
      "j=0\n",
      "j=1\n",
      "\n"
     ]
    }
   ],
   "source": [
    "for i in range(2):\n",
    "    print(\"i={}\".format(i))\n",
    "    for j in range(5):\n",
    "        if(j>1):\n",
    "            break\n",
    "        print(\"j={}\".format(j))\n",
    "        \n",
    "    print()"
   ]
  }
 ],
 "metadata": {
  "kernelspec": {
   "display_name": "Python 3",
   "language": "python",
   "name": "python3"
  },
  "language_info": {
   "codemirror_mode": {
    "name": "ipython",
    "version": 3
   },
   "file_extension": ".py",
   "mimetype": "text/x-python",
   "name": "python",
   "nbconvert_exporter": "python",
   "pygments_lexer": "ipython3",
   "version": "3.11.2"
  },
  "orig_nbformat": 4
 },
 "nbformat": 4,
 "nbformat_minor": 2
}
