{
 "cells": [
  {
   "cell_type": "code",
   "execution_count": 1,
   "metadata": {},
   "outputs": [
    {
     "name": "stdout",
     "output_type": "stream",
     "text": [
      "Hello world\n"
     ]
    }
   ],
   "source": [
    "print('Hello world')"
   ]
  },
  {
   "cell_type": "code",
   "execution_count": 2,
   "metadata": {},
   "outputs": [
    {
     "name": "stdout",
     "output_type": "stream",
     "text": [
      "[11, 7, 38, 65, 94, 47, 16, 48, 22, 76, 55, 18, 71, 59, 11, 96, 41, 87, 77, 95]\n",
      "The smallest value is at index: 1\n",
      "The smallest value is: 7\n"
     ]
    }
   ],
   "source": [
    "from random import randint\n",
    "\n",
    "numbers = []\n",
    "while(len(numbers) < 20):\n",
    "    numbers.append(randint(1, 99))\n",
    "\n",
    "print(numbers)\n",
    "\n",
    "minIndex = 0\n",
    "\n",
    "for index in range(1,len(numbers)):\n",
    "    if(numbers[index] < numbers[minIndex]):\n",
    "        minIndex = index\n",
    "\n",
    "print(\"The smallest value is at index: {}\".format(minIndex))\n",
    "print(\"The smallest value is: {}\".format(numbers[minIndex]))"
   ]
  },
  {
   "cell_type": "code",
   "execution_count": 12,
   "metadata": {},
   "outputs": [],
   "source": [
    "num = int(input(\"What integer would you like to search for?\"))\n",
    "\n",
    "for index in range(len(numbers)):\n",
    "    if(numbers[index] == num):\n",
    "        print(\"The value {} was found at index {}!\".format(num, index))\n",
    "        break"
   ]
  },
  {
   "cell_type": "code",
   "execution_count": 20,
   "metadata": {},
   "outputs": [
    {
     "name": "stdout",
     "output_type": "stream",
     "text": [
      "i=0\n",
      "j=0\n",
      "j=1\n",
      "\n",
      "i=1\n",
      "j=0\n",
      "j=1\n",
      "\n"
     ]
    }
   ],
   "source": [
    "for i in range(2):\n",
    "    print(\"i={}\".format(i))\n",
    "    for j in range(5):\n",
    "        if(j>1):\n",
    "            break\n",
    "        print(\"j={}\".format(j))\n",
    "        \n",
    "    print()"
   ]
  },
  {
   "cell_type": "code",
   "execution_count": 7,
   "metadata": {},
   "outputs": [
    {
     "data": {
      "text/plain": [
       "[11, 7, 38, 65, 94, 47, 16, 48, 22, 76, 55, 18, 71, 59, 11, 96, 41, 87, 77, 95]"
      ]
     },
     "execution_count": 7,
     "metadata": {},
     "output_type": "execute_result"
    }
   ],
   "source": [
    "numbers"
   ]
  },
  {
   "cell_type": "code",
   "execution_count": 5,
   "metadata": {},
   "outputs": [
    {
     "name": "stdout",
     "output_type": "stream",
     "text": [
      "[7, 11, 11, 16, 18, 22, 38, 41, 47, 48, 55, 59, 65, 71, 76, 77, 87, 94, 95, 96]\n",
      "11 was found at index1\n"
     ]
    }
   ],
   "source": [
    "numbers = [11, 7, 38, 65, 94, 47, 16, 48, 22, 76, 55, 18, 71, 59, 11, 96, 41, 87, 77, 95]\n",
    "    \n",
    "## Sorting list\n",
    "n = len(numbers)\n",
    "for i in range(0, n-1):\n",
    "    minPosition = i\n",
    "    for j in range(i+1, n):\n",
    "        if(numbers[j] < numbers[minPosition]):\n",
    "            minPosition = j\n",
    "    temp = numbers[i]\n",
    "    numbers[i] = numbers[minPosition]\n",
    "    numbers[minPosition] = temp\n",
    "\n",
    "\n",
    "## Binary search\n",
    "# take an integer input\n",
    "num = int(input(\"What integer would you like to search for?\"))\n",
    "\n",
    "# We haven't found anything yet\n",
    "found = False\n",
    "\n",
    "#first and last index\n",
    "first = 0\n",
    "last = len(numbers) - 1\n",
    "\n",
    "while(first <= last and found != True):\n",
    "    mid = (first + last) // 2 #floor division\n",
    "    if(num == numbers[mid]):\n",
    "        found = True\n",
    "    elif(num > numbers[mid]):\n",
    "        first = mid + 1\n",
    "    else:\n",
    "        last = mid - 1\n",
    "\n",
    "print(numbers)\n",
    "if(found):\n",
    "    print(\"{} was found at index{}\".format(num, mid))\n",
    "else:\n",
    "    print(\"{} wasn't found\".format(num))"
   ]
  }
 ],
 "metadata": {
  "kernelspec": {
   "display_name": "Python 3",
   "language": "python",
   "name": "python3"
  },
  "language_info": {
   "codemirror_mode": {
    "name": "ipython",
    "version": 3
   },
   "file_extension": ".py",
   "mimetype": "text/x-python",
   "name": "python",
   "nbconvert_exporter": "python",
   "pygments_lexer": "ipython3",
   "version": "3.11.2"
  },
  "orig_nbformat": 4
 },
 "nbformat": 4,
 "nbformat_minor": 2
}
