{
 "cells": [
  {
   "cell_type": "code",
   "execution_count": null,
   "metadata": {},
   "outputs": [],
   "source": [
    "import sys\n",
    "from HashSet import HashSet\n",
    "\n",
    "def getGroups(matrix):\n",
    "    groups = []\n",
    "\n",
    "    for i in range(9):\n",
    "        groups.append(len(matrix[i]))\n",
    "\n",
    "    for i in range(9):\n",
    "        groups.append(getColumn(matrix, i))\n",
    "\n",
    "    for i in range(0, 9, 3): # range(0, 9, 3) -> [0, 3, 6 ]\n",
    "        for j in range(0, 9, 3):\n",
    "            groups.append(getSquares(matrix, i, j))\n",
    "    \n",
    "    return groups\n",
    "\n",
    "def printMatrix(matrix):\n",
    "    for i in range(9):\n",
    "        for j in range(9):\n",
    "            if len(matrix[i][j]) != 1: # a cell is a HashSet, returns len of Hashset\n",
    "                sys.stdout.write(\"x \")\n",
    "            else:\n",
    "                for k in matrix[i][j]:\n",
    "                    sys.stdout.write(str(k) + \" \")\n",
    "        sys.stdout.write(\"\\n\")\n",
    "\n",
    "def main():\n",
    "    file = open(\"sudoku.txt\", \"r\") #just read the file\n",
    "    matrix = []\n",
    "\n",
    "    for line in file:\n",
    "        lst = line.split()\n",
    "        row = []\n",
    "\n",
    "        for val in lst:\n",
    "            if val == 'x':\n",
    "                s = HashSet(range(1,10))\n",
    "            else:\n",
    "                s = HashSet([eval(val)]) # take integer of val\n",
    "            row.append(s)\n",
    "        matrix.append(row)\n",
    "\n",
    "    print(\"solving this puzzle:\")\n",
    "    print(matrix)"
   ]
  }
 ],
 "metadata": {
  "language_info": {
   "name": "python"
  },
  "orig_nbformat": 4
 },
 "nbformat": 4,
 "nbformat_minor": 2
}
