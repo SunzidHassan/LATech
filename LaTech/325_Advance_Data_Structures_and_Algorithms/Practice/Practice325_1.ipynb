{
 "cells": [
  {
   "cell_type": "code",
   "execution_count": 1,
   "metadata": {},
   "outputs": [
    {
     "name": "stdout",
     "output_type": "stream",
     "text": [
      "Hello world\n"
     ]
    }
   ],
   "source": [
    "print('Hello world')"
   ]
  },
  {
   "attachments": {},
   "cell_type": "markdown",
   "metadata": {},
   "source": [
    "## Min max"
   ]
  },
  {
   "cell_type": "code",
   "execution_count": 2,
   "metadata": {},
   "outputs": [
    {
     "name": "stdout",
     "output_type": "stream",
     "text": [
      "[11, 7, 38, 65, 94, 47, 16, 48, 22, 76, 55, 18, 71, 59, 11, 96, 41, 87, 77, 95]\n",
      "The smallest value is at index: 1\n",
      "The smallest value is: 7\n"
     ]
    }
   ],
   "source": [
    "from random import randint\n",
    "\n",
    "numbers = []\n",
    "while(len(numbers) < 20):\n",
    "    numbers.append(randint(1, 99))\n",
    "\n",
    "print(numbers)\n",
    "\n",
    "minIndex = 0\n",
    "\n",
    "for index in range(1,len(numbers)):\n",
    "    if(numbers[index] < numbers[minIndex]):\n",
    "        minIndex = index\n",
    "\n",
    "print(\"The smallest value is at index: {}\".format(minIndex))\n",
    "print(\"The smallest value is: {}\".format(numbers[minIndex]))"
   ]
  },
  {
   "attachments": {},
   "cell_type": "markdown",
   "metadata": {},
   "source": [
    "## User input search"
   ]
  },
  {
   "cell_type": "code",
   "execution_count": 12,
   "metadata": {},
   "outputs": [],
   "source": [
    "num = int(input(\"What integer would you like to search for?\"))\n",
    "\n",
    "for index in range(len(numbers)):\n",
    "    if(numbers[index] == num):\n",
    "        print(\"The value {} was found at index {}!\".format(num, index))\n",
    "        break"
   ]
  },
  {
   "attachments": {},
   "cell_type": "markdown",
   "metadata": {},
   "source": [
    "## Breal from loop"
   ]
  },
  {
   "cell_type": "code",
   "execution_count": 20,
   "metadata": {},
   "outputs": [
    {
     "name": "stdout",
     "output_type": "stream",
     "text": [
      "i=0\n",
      "j=0\n",
      "j=1\n",
      "\n",
      "i=1\n",
      "j=0\n",
      "j=1\n",
      "\n"
     ]
    }
   ],
   "source": [
    "for i in range(2):\n",
    "    print(\"i={}\".format(i))\n",
    "    for j in range(5):\n",
    "        if(j>1):\n",
    "            break\n",
    "        print(\"j={}\".format(j))\n",
    "        \n",
    "    print()"
   ]
  },
  {
   "attachments": {},
   "cell_type": "markdown",
   "metadata": {},
   "source": [
    "## Binary search"
   ]
  },
  {
   "cell_type": "code",
   "execution_count": 5,
   "metadata": {},
   "outputs": [
    {
     "name": "stdout",
     "output_type": "stream",
     "text": [
      "[7, 11, 11, 16, 18, 22, 38, 41, 47, 48, 55, 59, 65, 71, 76, 77, 87, 94, 95, 96]\n",
      "11 was found at index1\n"
     ]
    }
   ],
   "source": [
    "numbers = [11, 7, 38, 65, 94, 47, 16, 48, 22, 76, 55, 18, 71, 59, 11, 96, 41, 87, 77, 95]\n",
    "    \n",
    "## Sorting list\n",
    "n = len(numbers)\n",
    "for i in range(0, n-1):\n",
    "    minPosition = i\n",
    "    for j in range(i+1, n):\n",
    "        if(numbers[j] < numbers[minPosition]):\n",
    "            minPosition = j\n",
    "    temp = numbers[i]\n",
    "    numbers[i] = numbers[minPosition]\n",
    "    numbers[minPosition] = temp\n",
    "\n",
    "\n",
    "## Binary search\n",
    "# take an integer input\n",
    "num = int(input(\"What integer would you like to search for?\"))\n",
    "\n",
    "# We haven't found anything yet\n",
    "found = False\n",
    "\n",
    "#first and last index\n",
    "first = 0\n",
    "last = len(numbers) - 1\n",
    "\n",
    "while(first <= last and found != True):\n",
    "    mid = (first + last) // 2 #floor division\n",
    "    if(num == numbers[mid]):\n",
    "        found = True\n",
    "    elif(num > numbers[mid]):\n",
    "        first = mid + 1\n",
    "    else:\n",
    "        last = mid - 1\n",
    "\n",
    "print(numbers)\n",
    "if(found):\n",
    "    print(\"{} was found at index{}\".format(num, mid))\n",
    "else:\n",
    "    print(\"{} wasn't found\".format(num))"
   ]
  },
  {
   "attachments": {},
   "cell_type": "markdown",
   "metadata": {},
   "source": [
    "## P0: singly linked list sort"
   ]
  },
  {
   "cell_type": "code",
   "execution_count": 2,
   "metadata": {},
   "outputs": [
    {
     "name": "stdout",
     "output_type": "stream",
     "text": [
      "Unsorted list: 88  46  46  14  65  6  \n",
      "Head data: 88\n",
      "Tail data: 6\n",
      "\n",
      "Sorted list: 6  14  46  46  65  88  \n",
      "Head data: 6\n",
      "Tail data: 88\n"
     ]
    }
   ],
   "source": [
    "import random # For generating random integers\n",
    "\n",
    "# Input validation function\n",
    "# used idea and code from: <https://www.101computing.net/number-only/>\n",
    "def inputNodeNumber():\n",
    "    while True:\n",
    "        value = input(\"Please, enter the number of nodes: \")\n",
    "        try:\n",
    "            userInput = int(value)\n",
    "            if userInput < 1:  # if not a positive int print message and ask for correct input again\n",
    "                print(\"Please, enter correct value for the number of nodes: \")\n",
    "                continue\n",
    "            break\n",
    "        except ValueError: # in case of a value error, ask for correct input again\n",
    "            print(\"Please, enter correct value for the number of nodes: \")\n",
    "            continue\n",
    "    return userInput\n",
    "\n",
    "\n",
    "# Class node and class linked list\n",
    "# used idea and code from: <https://www.educative.io/answers/how-to-create-a-linked-list-in-python>\n",
    "class Node: # Singly linked node\n",
    "    # each node has data and next attribute\n",
    "    def __init__(self, data=None, next=None):\n",
    "        self.data = data\n",
    "        self.nextNode = next\n",
    "\n",
    "class LinkedList: # Singly linked list\n",
    "    # each linked list has a head, a tail, and a count attribute\n",
    "    def __init__(self):\n",
    "        self.head = None # First node\n",
    "        self.tail = None # Last node\n",
    "        self.count = 0 # Number of nodes\n",
    "\n",
    "    def insert(self): # Insert a node at the end\n",
    "        node = Node(random.randint(1, 99)) # Create a new node with a random value\n",
    "        if self.tail: # If the list is not empty\n",
    "            self.tail.nextNode = node # add the new node after tail\n",
    "            self.tail = node # make the last node the new tail\n",
    "        else: # If the list is empty\n",
    "            self.head = node # Set the head (and tail) to the new node\n",
    "            self.tail = node\n",
    "        self.count += 1 # Increment the node count\n",
    "\n",
    "    def print(self, printMessage): # Print the list with given message\n",
    "        current = self.head # Start from the head\n",
    "        print(printMessage, end='') # Print message without printing a new line\n",
    "        while current: # While there is a node\n",
    "            print(current.data, \" \", end='') # Print node data without a new line\n",
    "            current = current.nextNode # Move to the next node\n",
    "        print(\"\\nHead data: {}\\nTail data: {}\".format(self.head.data, self.tail.data)) # Print the head and tail data\n",
    "        \n",
    "    # Sort the list using selection sort\n",
    "    def selectionSort(self):\n",
    "        current = self.head # Set current to head data\n",
    "        while current: # While there is a node\n",
    "            min = current # Assuming current node is min\n",
    "            temp = current.nextNode # Strong the next node in temp\n",
    "            while temp: # Inside the first pass, loop over all nodes (till there is a next node)\n",
    "                if temp.data < min.data: # If there is a node data less than the current min, udpate the min\n",
    "                    min = temp # new min\n",
    "                temp = temp.nextNode # Move to the next node for the inner while loop\n",
    "            if min != current: # If the min is updated in the inner while loop, then bring new min to start node\n",
    "                current.data, min.data = min.data, current.data\n",
    "            current = current.nextNode # Start proceeding from the next node and loop again\n",
    "\n",
    "\n",
    "list = LinkedList() # Create an empty list\n",
    "for i in range(inputNodeNumber()): # Loop over number of input times\n",
    "    list.insert() # Insert input number of random variables into the list\n",
    "\n",
    "list.print(\"Unsorted list: \") # Print the unsorted list\n",
    "list.selectionSort() # Sort the list\n",
    "list.print(\"\\nSorted list: \") # Print the sorted list"
   ]
  },
  {
   "cell_type": "code",
   "execution_count": 1,
   "metadata": {},
   "outputs": [],
   "source": [
    "def sumofprefix(X, Y):\n",
    "    n = len(X)\n",
    "    counter = 0\n",
    "    for i in range(n):\n",
    "        tot = 0\n",
    "        for j in range(n):\n",
    "            for k in range(1+j):\n",
    "                tot += X[k]\n",
    "                if Y[i] == tot:\n",
    "                    counter += 1\n",
    "    return counter\n"
   ]
  },
  {
   "cell_type": "code",
   "execution_count": 3,
   "metadata": {},
   "outputs": [
    {
     "data": {
      "text/plain": [
       "3"
      ]
     },
     "execution_count": 3,
     "metadata": {},
     "output_type": "execute_result"
    }
   ],
   "source": [
    "X = [1, 2, 3, 4, 5, 6]\n",
    "Y = [5, 6, 7, 8, 9, 10]\n",
    "sumofprefix(X, Y)"
   ]
  },
  {
   "cell_type": "code",
   "execution_count": 4,
   "metadata": {},
   "outputs": [
    {
     "name": "stdout",
     "output_type": "stream",
     "text": [
      "Outer iteration: 0\n",
      "\tinner iteration: 1\n",
      "\n",
      "Outer iteration: 1\n",
      "\tinner iteration: 2\n",
      "\tinner iteration: 1\n",
      "\n",
      "Outer iteration: 2\n",
      "\tinner iteration: 3\n",
      "\tinner iteration: 2\n",
      "\tinner iteration: 1\n",
      "\n",
      "Outer iteration: 3\n",
      "\tinner iteration: 4\n",
      "\tinner iteration: 3\n",
      "\tinner iteration: 2\n",
      "\tinner iteration: 1\n",
      "\n",
      "Outer iteration: 4\n",
      "\tinner iteration: 5\n",
      "\tinner iteration: 4\n",
      "\tinner iteration: 3\n",
      "\tinner iteration: 2\n",
      "\tinner iteration: 1\n",
      "\n",
      "Outer iteration: 5\n",
      "\tinner iteration: 6\n",
      "\tinner iteration: 5\n",
      "\tinner iteration: 4\n",
      "\tinner iteration: 3\n",
      "\tinner iteration: 2\n",
      "\tinner iteration: 1\n",
      "\n",
      "Outer iteration: 6\n",
      "\tinner iteration: 7\n",
      "\tinner iteration: 6\n",
      "\tinner iteration: 5\n",
      "\tinner iteration: 4\n",
      "\tinner iteration: 3\n",
      "\tinner iteration: 2\n",
      "\tinner iteration: 1\n",
      "\n",
      "Outer iteration: 7\n",
      "\tinner iteration: 8\n",
      "\tinner iteration: 7\n",
      "\tinner iteration: 6\n",
      "\tinner iteration: 5\n",
      "\tinner iteration: 4\n",
      "\tinner iteration: 3\n",
      "\tinner iteration: 2\n",
      "\tinner iteration: 1\n",
      "\n",
      "Outer iteration: 8\n",
      "\tinner iteration: 9\n",
      "\tinner iteration: 8\n",
      "\tinner iteration: 7\n",
      "\tinner iteration: 6\n",
      "\tinner iteration: 5\n",
      "\tinner iteration: 4\n",
      "\tinner iteration: 3\n",
      "\tinner iteration: 2\n",
      "\tinner iteration: 1\n",
      "\n",
      "Outer iteration: 9\n",
      "\tinner iteration: 10\n",
      "\tinner iteration: 9\n",
      "\tinner iteration: 8\n",
      "\tinner iteration: 7\n",
      "\tinner iteration: 6\n",
      "\tinner iteration: 5\n",
      "\tinner iteration: 4\n",
      "\tinner iteration: 3\n",
      "\tinner iteration: 2\n",
      "\tinner iteration: 1\n",
      "\n"
     ]
    }
   ],
   "source": [
    "n = 10\n",
    "for x in range(n):\n",
    "    print(\"Outer iteration: {}\".format(x))\n",
    "    for y in range(x+1, 0, -1):\n",
    "        print(\"\\tinner iteration: {}\".format(y))\n",
    "    print()"
   ]
  },
  {
   "cell_type": "code",
   "execution_count": null,
   "metadata": {},
   "outputs": [],
   "source": []
  }
 ],
 "metadata": {
  "kernelspec": {
   "display_name": "Python 3",
   "language": "python",
   "name": "python3"
  },
  "language_info": {
   "codemirror_mode": {
    "name": "ipython",
    "version": 3
   },
   "file_extension": ".py",
   "mimetype": "text/x-python",
   "name": "python",
   "nbconvert_exporter": "python",
   "pygments_lexer": "ipython3",
   "version": "3.11.2"
  },
  "orig_nbformat": 4
 },
 "nbformat": 4,
 "nbformat_minor": 2
}
