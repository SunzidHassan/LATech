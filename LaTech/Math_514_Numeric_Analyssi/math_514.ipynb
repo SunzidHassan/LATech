{
 "cells": [
  {
   "cell_type": "markdown",
   "metadata": {},
   "source": []
  },
  {
   "cell_type": "code",
   "execution_count": 5,
   "metadata": {},
   "outputs": [
    {
     "name": "stdout",
     "output_type": "stream",
     "text": [
      "-0.28398668443175157 0.0066009467376817454\n",
      "0.154829305372008 -0.13225152278803654\n"
     ]
    }
   ],
   "source": [
    "import math\n",
    "def numAnl_11_1a(x):\n",
    "    return (x*math.cos(x))-(2*x**2)+(3*x)-1\n",
    "\n",
    "print(numAnl_11_1a(0.2), numAnl_11_1a(0.3))\n",
    "print(numAnl_11_1a(1.2), numAnl_11_1a(1.3))"
   ]
  },
  {
   "cell_type": "code",
   "execution_count": 7,
   "metadata": {},
   "outputs": [
    {
     "name": "stdout",
     "output_type": "stream",
     "text": [
      "0.0 0.0\n"
     ]
    }
   ],
   "source": [
    "def numAnl_11_7a(x):\n",
    "    return 1-math.e**x+(math.e-1)*math.sin((math.pi/2)*x)\n",
    "\n",
    "print(numAnl_11_7a(0), numAnl_11_7a(1))"
   ]
  },
  {
   "cell_type": "code",
   "execution_count": 8,
   "metadata": {},
   "outputs": [
    {
     "name": "stdout",
     "output_type": "stream",
     "text": [
      "1.6990707845418864 -2.718281828459045\n"
     ]
    }
   ],
   "source": [
    "def numAnl_11_7a_der(x):\n",
    "    return -math.e**x+(math.pi/2)*(math.e-1)*math.cos((math.pi/2)*x)\n",
    "\n",
    "print(numAnl_11_7a_der(0), numAnl_11_7a_der(1))"
   ]
  },
  {
   "cell_type": "markdown",
   "metadata": {},
   "source": [
    "# Numerical Analysis: Burden, Faires\n",
    "## Chapter 2\n",
    "\n",
    "### Examples\n",
    "#### 1\n",
    "Show that $f(x)=x^3+4x^2-10=0$ has a root in $[1,2]$ and use the Bisection method to determine an approximation to the root that is accurate to at least within $10^{-4}$\n",
    "\n",
    "**Solution**:\n",
    "\n",
    "Because $f(1)=-5$ and $f(2)=14$, the Intermediate Value Theorem ensure that this continuous function has a root in $[1,2]$.\n",
    "\n",
    "For the first iteration of the Bisection method, we use the fact that at the midpoint of $[1,2]$, we have $f(1.5)=2.375 > 0$. This indicates we should select the interval $[1,1.5]$ for our second iteration. Then we find that $f(1.25)=-1.796875 < 0$. This indicates we should select the interval $[1.25,1.5]$ whose midpoint is $1.375$. Continuing in this manner gives us the following table.\n",
    "\n"
   ]
  },
  {
   "cell_type": "code",
   "execution_count": 8,
   "metadata": {},
   "outputs": [
    {
     "data": {
      "text/plain": [
       "-0.0019980468750020464"
      ]
     },
     "execution_count": 8,
     "metadata": {},
     "output_type": "execute_result"
    }
   ],
   "source": [
    "def numAnl_21_3(a,b):\n",
    "    x=(a+b)/2\n",
    "    return x**3-7*x**2+14*x-6\n",
    "\n",
    "# print(numAnl_21_3(3.2), numAnl_21_3(4))\n",
    "numAnl_21_3(3.4,3.425)"
   ]
  },
  {
   "cell_type": "code",
   "execution_count": 9,
   "metadata": {},
   "outputs": [
    {
     "data": {
      "text/plain": [
       "3.4124999999999996"
      ]
     },
     "execution_count": 9,
     "metadata": {},
     "output_type": "execute_result"
    }
   ],
   "source": [
    "(3.4+3.425)/2"
   ]
  },
  {
   "cell_type": "markdown",
   "metadata": {},
   "source": [
    "### Exercise 2.1\n",
    "#### 3(c)\n",
    "$f(x)=x^3-7x^2+14x-6=0$\n",
    "Interval: $[3.2, 4]$\n",
    "\n",
    "$f(3.2)=-0.11$ and $f(4)=2$, the Intermediate Value Theorem ensure that this continuous function has a root in $[3.2,4]$.\n",
    "\n",
    "The following table is generated for the bisection method:\n",
    "\n",
    "|  $n$  |  $a_n$  |  $b_n$  |  $p_n$   |  $f(p_n)$  |\n",
    "|-------|---------|---------|----------|------------|\n",
    "| $1$   | $3.2$   | $4$     | $3.6$    | $0.336$    |\n",
    "| $2$   | $3.2$   | $3.6$   | $3.4$    | $-0.016$   |\n",
    "| $3$   | $3.4$   | $3.6$   | $3.5$    | $0.125$    |\n",
    "| $4$   | $3.4$   | $3.5$   | $3.45$   | $0.046$    |\n",
    "| $5$   | $3.4$   | $3.45$  | $3.425$  | $0.013$    |\n",
    "| $6$   | $3.4$   | $3.425$ | $3.4125$ | $-0.002$   |\n",
    "\n",
    "The Solution is 3.4125."
   ]
  },
  {
   "cell_type": "markdown",
   "metadata": {},
   "source": [
    "### Exercise 2.2\n",
    "#### 7\n"
   ]
  },
  {
   "cell_type": "code",
   "execution_count": 8,
   "metadata": {},
   "outputs": [],
   "source": [
    "def numAnl_22_7_fpi(x):\n",
    "    return (3*x**2+3)**(1/4)\n",
    "\n",
    "def numAnl_22_7_val(x):\n",
    "    return x**4-3*x**2-3\n",
    "\n",
    "i = 0\n",
    "point = 1"
   ]
  },
  {
   "cell_type": "code",
   "execution_count": 9,
   "metadata": {},
   "outputs": [
    {
     "name": "stdout",
     "output_type": "stream",
     "text": [
      "iter:0, val:1.565, diff:0.565\n",
      "iter:1, val:1.794, diff:0.228\n",
      "iter:2, val:1.886, diff:0.092\n",
      "iter:3, val:1.923, diff:0.037\n",
      "iter:4, val:1.938, diff:0.015\n",
      "iter:5, val:1.943, diff:0.006\n",
      "iter:6, val:1.946, diff:0.002\n",
      "iter:7, val:1.947, diff:0.001\n",
      "iter:8, val:1.947, diff:0.0\n",
      "iter:9, val:1.947, diff:0.0\n",
      "val:-0.00166\n"
     ]
    }
   ],
   "source": [
    "while i<10:\n",
    "    point1 = numAnl_22_7_fpi(point)\n",
    "    print(f'iter:{i}, val:{round(point1,3)}, diff:{round(point1-point,3)}')\n",
    "    point=point1\n",
    "    i+=1\n",
    "\n",
    "val = numAnl_22_7_val(point)\n",
    "print(f'val:{round(val,5)}')"
   ]
  },
  {
   "cell_type": "markdown",
   "metadata": {},
   "source": [
    "### 2.3\n",
    "#### 6a"
   ]
  },
  {
   "cell_type": "code",
   "execution_count": 12,
   "metadata": {},
   "outputs": [],
   "source": [
    "import numpy as np\n",
    "\n",
    "def numAnl_23_6a_Newton(x):\n",
    "    return (x - (np.exp(x) + 2**(-x) + 2 * np.cos(x) - 6)\n",
    "            /(np.exp(x) - np.log(2) * 2**(-x) - 2 * np.sin(x)))\n",
    "\n",
    "def numAnl_23_6a_val(x):\n",
    "    return np.exp(x) + 2**(-x) + 2 * np.cos(x) - 6\n",
    "\n",
    "i = 0\n",
    "point = 1.5"
   ]
  },
  {
   "cell_type": "code",
   "execution_count": 13,
   "metadata": {},
   "outputs": [
    {
     "name": "stdout",
     "output_type": "stream",
     "text": [
      "iter:0, val:1.5, gap:0.45649\n",
      "iter:1, val:1.95649, gap:-0.114957\n",
      "iter:2, val:1.84153, gap:-0.012027\n",
      "iter:3, val:1.82951, gap:-0.000122\n",
      "iter:4, val:1.82938, gap:-0.0\n",
      "iter:5, val:1.82938, gap:-0.0\n",
      "iter:6, val:1.82938, gap:0.0\n",
      "iter:7, val:1.82938, gap:0.0\n",
      "iter:8, val:1.82938, gap:0.0\n",
      "iter:9, val:1.82938, gap:0.0\n",
      "val:0.0\n"
     ]
    }
   ],
   "source": [
    "while i<10:\n",
    "    point1 = numAnl_23_6a_Newton(point)\n",
    "    print(f'iter:{i}, val:{round(point,5)}, gap:{round(point1-point, 6)}')\n",
    "    point=point1\n",
    "    i+=1\n",
    "\n",
    "val = numAnl_23_6a_val(point)\n",
    "print(f'val:{round(val,3)}')"
   ]
  },
  {
   "cell_type": "markdown",
   "metadata": {},
   "source": [
    "### 2.4\n",
    "#### 7\n"
   ]
  },
  {
   "cell_type": "markdown",
   "metadata": {},
   "source": [
    "### Exercise 2.1\n",
    "#### 3(c)\n",
    "$f(x)=x^3-7x^2+14x-6=0$\n",
    "Interval: $[3.2, 4]$\n",
    "\n",
    "$f(3.2)=-0.11$ and $f(4)=2$, the Intermediate Value Theorem ensure that this continuous function has a root in $[3.2,4]$.\n",
    "\n",
    "The following table is generated for the bisection method:\n",
    "\n",
    "|  $n$  |  $a_n$  |  $b_n$  |  $p_n$   |  $f(p_n)$  |\n",
    "|-------|---------|---------|----------|------------|\n",
    "| $1$   | $3.2$   | $4$     | $3.6$    | $0.336$    |\n",
    "| $2$   | $3.2$   | $3.6$   | $3.4$    | $-0.016$   |\n",
    "| $3$   | $3.4$   | $3.6$   | $3.5$    | $0.125$    |\n",
    "| $4$   | $3.4$   | $3.5$   | $3.45$   | $0.046$    |\n",
    "| $5$   | $3.4$   | $3.45$  | $3.425$  | $0.013$    |\n",
    "| $6$   | $3.4$   | $3.425$ | $3.4125$ | $-0.002$   |\n",
    "\n",
    "The Solution is 3.4125.\n",
    "\n",
    "### Exercise 2.2\n",
    "#### 7\n",
    "Use FPI method to determine a solution accurate within $10^{-2}$ for $x^4-3x^2-3=0$ on $[1,2]$. Use $p_0=1$.\n",
    "\n",
    "**Solution:**\n",
    "\n",
    "$f(x)=x^4-3x^2-3=0$  \n",
    "$\\Rightarrow x^4=3x^2+3$  \n",
    "$\\Rightarrow x=(3x^2+3)^{1/4}$  \n",
    "\n",
    "$x=g(x)=(3x^2+3)^{1/4}$  \n",
    "\n",
    "|   | $p_n$ | $g(p_n)$ | $p_{n+1}-p_n$ |\n",
    "|---|-------|----------|---------------|\n",
    "| 0 | 1     | 1.565    |               |\n",
    "| 1 | 1.565 | 1.794    | 0.565         |\n",
    "| 2 | 1.794 | 1.886    | 0.228         |\n",
    "| 3 | 1.886 | 1.923    | 0.092         |\n",
    "| 4 | 1.923 | 1.938    | 0.037         |\n",
    "| 5 | 1.938 | 1.943    | 0.015         |\n",
    "| 6 | 1.943 | 1.946    | 0.006         |\n",
    "\n",
    "Root=$1.943$\n",
    "\n",
    "### 2.3\n",
    "#### 6a\n",
    "Use Newton's method to find solution accurate within $10^{-5}$ for: $e^x+2^{-x}+2\\cos{x}-6=0$ for $1\\le x\\le2$\n",
    "\n",
    "Let's take $p_0=1$\n",
    "\n",
    "Newton's method: $$p_1=p_0-\\frac{f(p_0)}{f'(p_0)}=p_0-\\frac{e^{p_0}+2^{-p_0}+2\\cos{p_0}-6}{e^{p_0}-\\ln(2)2^{-p_0}-2\\sin{p_0}}$$\n",
    "\n",
    "\n",
    "$=1-\\frac{f(1)}{f'(1)}=1-\\frac{e^1+2^{-1}+2\\cos{1}-6}{f'(1)}$\n",
    "\n",
    "|   | $p_n$   | $p_n-\\frac{f(p_n)}{f(p_n)}$ | $p_{n+1}-p_n$ |\n",
    "|---|---------|-----------------------------|---------------|\n",
    "| 0 | 1.5     | 1.95649                     |               |\n",
    "| 1 | 1.95649 | 1.84153                     | 0.114957      |\n",
    "| 2 | 1.84153 | 1.82951                     | 0.012027      |\n",
    "| 3 | 1.82951 | 1.82938                     | 0.000122      |\n",
    "| 4 | 1.82938 | 1.82938                     | 0.0           |\n",
    "\n",
    "Root=$1.82938$\n",
    "\n",
    "### 2.4\n",
    "#### 7a\n",
    "Show that for any positive integer k, the sequence defined by $p_n=\\frac{1}{n^k}$ converges linearly to $p=0$.\n",
    "\n",
    "**Solution:**\n",
    "\n",
    "$\\lim_{n\\rightarrow\\infin}{\\frac{|p_{n+1}-p|}{|p_{n}-p|^{\\alpha=1}}}$  \n",
    "$=\\lim_{n\\rightarrow\\infin}{\\frac{|\\frac{1}{(n+1)^k}-0|}{|\\frac{1}{(n)^k}-0|}}$  \n",
    "$=\\lim_{n\\rightarrow\\infin}{(\\frac{n}{n+1})^k}$  \n",
    "$=\\lim_{n\\rightarrow\\infin}{(\\frac{n}{n(1+\\frac{1}{n})})^k}$  \n",
    "$=\\lim_{n\\rightarrow\\infin}{(\\frac{1}{1+\\frac{1}{n}})^k}$  \n",
    "$=1\\gt0$  \n",
    "So the sequence $p_n=\\frac{1}{n^k}$ converges linearly to $p=0$.\n",
    "\n",
    "#### 7b\n",
    "For each pair of integers $k$ and $m$, determine a number $N$ for which $\\frac{1}{N^k}\\lt10^{-m}$\n",
    "\n",
    "**Solution:**\n",
    "\n",
    "$\\frac{1}{N^k}\\lt10^{-m}$  \n",
    "$\\N^k\\gt10^{m}$  \n",
    "$\\N\\gt10^{m/k}$, which is the desired number.\n",
    "\n",
    "### 2.6\n",
    "#### 1b\n",
    "Find the approximations to within $10^{-4}$ to all the real zeros of the following polynomial using Netton's method.  \n",
    "$f(x)=x^3+3x^2-1$\n",
    "\n",
    "**Solution:**\n",
    "\n",
    "Choosing $x_0=1$\n",
    "\n",
    "| 1 | 3 | 0 | -1 |         |\n",
    "|---|---|---|----|---------|\n",
    "|   | 1 | 4 | 4  |         |\n",
    "| 1 | 4 | 4 | 3  | $f(1)$  |\n",
    "|   | 1 | 5 |    |         |\n",
    "| 1 | 5 | 9 |    | $f'(1)$ |\n",
    "\n",
    "$x_1=x_0-\\frac{f(x)}{f'(x)}=1-\\frac{3}{9}=0.6667$\n",
    "\n",
    "Choosing $x_1=0.6667$\n",
    "\n",
    "| 0.6667 | 1 | 3      | 0       | -1     |              |\n",
    "|--------|---|--------|---------|--------|--------------|\n",
    "|        |   | 0.6667 | 2.44444 | 1.6296 |              |\n",
    "|        | 1 | 3.6667 | 2.44444 | 0.6296 | $f(0.6667)$  |\n",
    "|        |   | 0.6667 | 2.8889  |        |              |\n",
    "|        | 1 | 4.3333 | 5.3333  |        | $f'(0.6667)$ |\n",
    "\n",
    "$x_2=0.6667-\\frac{f(0.6667)}{f'(0.6667)}=1-\\frac{0.6296}{5.3333}=0.54861$\n",
    "\n",
    "$x_3=0.54861-\\frac{f(0.54861)}{f'(0.54861)}=0.53239$\n",
    "\n",
    "$x_4=0.53239-\\frac{f(0.53239)}{f'(0.53239)}=0.53208$\n",
    "\n",
    "$x_5=0.53208-\\frac{f(0.53208)}{f'(0.53208)}=0.53208$\n",
    "\n",
    "$|x_5-x_4|\\lt10^{-4}$, $x_5=0.53208$ is a zero of the function $f(x)$.\n",
    "\n",
    "Choosing $x_0=-1$\n",
    "\n",
    "$x_1=-1-\\frac{f(-1)}{f'(-1)}=-0.66667$\n",
    "\n",
    "$x_2=0.66667-\\frac{f(0.66667)}{f'(0.66667)}=0.65277$\n",
    "\n",
    "$x_3=0.65277-\\frac{f(0.65277)}{f'(0.65277)}=0.65270$\n",
    "\n",
    "$|x_3-x_2|\\lt10^{-4}$, $x_5=0.65270$ is a zero of the function $f(x)$.\n",
    "\n",
    "Choosing $x_0=-3$\n",
    "\n",
    "$x_1=-3-\\frac{f(-3)}{f'(-3)}=-2.88889$\n",
    "\n",
    "$x_2=-2.88889-\\frac{f(-2.88889)}{f'(-2.88889)}=-2.87945$\n",
    "\n",
    "$x_3=-2.87945-\\frac{f(-2.87945)}{f'(-2.87945)}=-2.87938$\n",
    "\n",
    "$|x_3-x_2|\\lt10^{-4}$, $x_5=-2.87938$ is a zero of the function $f(x)$."
   ]
  },
  {
   "cell_type": "markdown",
   "metadata": {},
   "source": [
    "### 2.6\n",
    "#### 1b"
   ]
  },
  {
   "cell_type": "markdown",
   "metadata": {},
   "source": [
    "### 4.4"
   ]
  },
  {
   "cell_type": "markdown",
   "metadata": {},
   "source": [
    "#### Exercise\n",
    "##### 1(a)"
   ]
  },
  {
   "cell_type": "code",
   "execution_count": 3,
   "metadata": {},
   "outputs": [],
   "source": [
    "import numpy as np"
   ]
  },
  {
   "cell_type": "code",
   "execution_count": 4,
   "metadata": {},
   "outputs": [
    {
     "data": {
      "text/plain": [
       "0.639900477687986"
      ]
     },
     "execution_count": 4,
     "metadata": {},
     "output_type": "execute_result"
    }
   ],
   "source": [
    "# Define the function\n",
    "def f(x):\n",
    "    return x * np.log(x)\n",
    "\n",
    "# Given interval and number of intervals\n",
    "a = 1\n",
    "b = 2\n",
    "n = 4  # as given in the problem\n",
    "\n",
    "# Calculate the width of each interval\n",
    "h = (b - a) / n\n",
    "\n",
    "# Generate the x values at each point\n",
    "x_values = np.linspace(a, b, n + 1)\n",
    "\n",
    "# Apply the trapezoidal rule\n",
    "integral_approx = (h / 2) * (f(x_values[0]) + 2 * sum(f(x) for x in x_values[1:-1]) + f(x_values[-1]))\n",
    "integral_approx\n"
   ]
  },
  {
   "cell_type": "markdown",
   "metadata": {},
   "source": [
    "### 4.5\n",
    "#### Exercise\n",
    "##### 1(a) Use Romberg integration to compute $R_{3,3}$ for the integral: $\\int_{1}^{1.5}{x^2\\ln{x}dx}$"
   ]
  },
  {
   "cell_type": "code",
   "execution_count": 7,
   "metadata": {},
   "outputs": [
    {
     "data": {
      "text/plain": [
       "0.19225935770658403"
      ]
     },
     "execution_count": 7,
     "metadata": {},
     "output_type": "execute_result"
    }
   ],
   "source": [
    "import numpy as np\n",
    "\n",
    "# Define the function to integrate\n",
    "def f(x):\n",
    "    return x**2 * np.log(x)\n",
    "\n",
    "# Define the limits of integration\n",
    "a = 1\n",
    "b = 1.5\n",
    "\n",
    "# Romberg integration with R[3,3] target\n",
    "# Step 1: Initialize R matrix with trapezoidal rule approximations\n",
    "R = np.zeros((4, 4))  # We need up to R[3,3]\n",
    "\n",
    "# Compute R[k,0] using the trapezoidal rule with 2^k intervals\n",
    "for k in range(4):\n",
    "    n_intervals = 2 ** k\n",
    "    h = (b - a) / n_intervals\n",
    "    x_values = np.linspace(a, b, n_intervals + 1)\n",
    "    R[k, 0] = (h / 2) * (f(x_values[0]) + 2 * sum(f(x) for x in x_values[1:-1]) + f(x_values[-1]))\n",
    "\n",
    "# Step 2: Use Romberg extrapolation to fill in R[k,j] for j > 0\n",
    "for j in range(1, 4):\n",
    "    for k in range(j, 4):\n",
    "        R[k, j] = (4**j * R[k, j-1] - R[k-1, j-1]) / (4**j - 1)\n",
    "\n",
    "# Extract R[3,3]\n",
    "R_3_3 = R[3, 3]\n",
    "R_3_3\n"
   ]
  },
  {
   "cell_type": "code",
   "execution_count": 9,
   "metadata": {},
   "outputs": [
    {
     "data": {
      "text/plain": [
       "array([[0.22807412, 0.        , 0.        , 0.        ],\n",
       "       [0.20120251, 0.19224531, 0.        , 0.        ],\n",
       "       [0.19449447, 0.19225846, 0.19225934, 0.        ],\n",
       "       [0.19281809, 0.1922593 , 0.19225936, 0.19225936]])"
      ]
     },
     "execution_count": 9,
     "metadata": {},
     "output_type": "execute_result"
    }
   ],
   "source": [
    "R"
   ]
  },
  {
   "cell_type": "markdown",
   "metadata": {},
   "source": [
    "## 1. Modeling, Computers, and Error Analysis\n",
    "1.1.5 Introduction to Error Analysis\n",
    "Sources of Error\n",
    "- Modeling Error\n",
    "- Numerical Error\n",
    "    - Truncation Error\n",
    "    - Roundoff Error\n",
    "\n",
    "Accuracy Vs. Precision:\n",
    "- Accuracy is how close to the bulls eye you hit.\n",
    "- Precision is how narrowed or spreaded out your hits are.\n",
    "\n",
    "True Error = True value - Approximation\n",
    "\n",
    "Relateive error = (True Error / True Value) * 100\n",
    "\n",
    "Approximate Error = (Current Approximation - Previous Approximation) / Approximate Value"
   ]
  },
  {
   "cell_type": "markdown",
   "metadata": {},
   "source": [
    "\n",
    "### Mathematical Modelling and Engineering Problem Solving\n",
    "### Programming and Software\n",
    "### Approximations and Round-off Errors\n",
    "### Truncation Errors and the Taylor Series\n",
    "\n",
    "## 2. Roots of Equations\n",
    "### Bracketing Methods\n",
    "### Open Methods\n",
    "### Roots of Polynomials\n",
    "### Case Studies: Roots of Equations\n",
    "\n",
    "## 3. Linear Algebraic Equations\n",
    "### Gauss Elimination\n",
    "### LU Decomposition and Matrix Inversion\n",
    "### Special Matrices and Gauss-Sidel\n",
    "### Case Studies: Linear Algebraic Equations\n",
    "    \n",
    "## 4. Optimization\n",
    "### 1-D Unconstrained Optimization\n",
    "### Multidimensional Unconstrained Optimization\n",
    "### Constrained Optimization\n",
    "### Case Studies: Optimization\n",
    "\n",
    "## 5. Curve Fittinn\n",
    "### Least-Squares Regression\n",
    "### Interpolation\n",
    "### Fourier Approximation\n",
    "### Case Studies: Curve Fitting\n",
    "    \n",
    "## 6. Numeric Differentiation and Integration\n",
    "### Newton-Cotes Integration Formulas\n",
    "### Integration of Equations\n",
    "### Numerical Differentiation\n",
    "### Case Studies: Numerical Integration and Differentiation\n",
    "    \n",
    "## 7. Odrinary Differential Equations\n",
    "### Runge-Kutta Methods\n",
    "### Stiffness and Multistep Methods\n",
    "### Boundary-Value and Eigenvalue Problems\n",
    "### Case Studies: Ordinary Differential Equations\n",
    "    \n",
    "## 8. Partial Differential Equations\n",
    "### Finite Difference: Elliptic Equations\n",
    "### Finite Difference: Parabolic Equations\n",
    "### Finite-Eliment Method\n",
    "### Case Studies: \n"
   ]
  }
 ],
 "metadata": {
  "kernelspec": {
   "display_name": "base",
   "language": "python",
   "name": "python3"
  },
  "language_info": {
   "codemirror_mode": {
    "name": "ipython",
    "version": 3
   },
   "file_extension": ".py",
   "mimetype": "text/x-python",
   "name": "python",
   "nbconvert_exporter": "python",
   "pygments_lexer": "ipython3",
   "version": "3.12.4"
  }
 },
 "nbformat": 4,
 "nbformat_minor": 2
}
