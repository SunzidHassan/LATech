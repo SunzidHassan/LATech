{
 "cells": [
  {
   "cell_type": "markdown",
   "metadata": {},
   "source": []
  },
  {
   "cell_type": "code",
   "execution_count": 5,
   "metadata": {},
   "outputs": [
    {
     "name": "stdout",
     "output_type": "stream",
     "text": [
      "-0.28398668443175157 0.0066009467376817454\n",
      "0.154829305372008 -0.13225152278803654\n"
     ]
    }
   ],
   "source": [
    "import math\n",
    "def numAnl_11_1a(x):\n",
    "    return (x*math.cos(x))-(2*x**2)+(3*x)-1\n",
    "\n",
    "print(numAnl_11_1a(0.2), numAnl_11_1a(0.3))\n",
    "print(numAnl_11_1a(1.2), numAnl_11_1a(1.3))"
   ]
  },
  {
   "cell_type": "code",
   "execution_count": 7,
   "metadata": {},
   "outputs": [
    {
     "name": "stdout",
     "output_type": "stream",
     "text": [
      "0.0 0.0\n"
     ]
    }
   ],
   "source": [
    "def numAnl_11_7a(x):\n",
    "    return 1-math.e**x+(math.e-1)*math.sin((math.pi/2)*x)\n",
    "\n",
    "print(numAnl_11_7a(0), numAnl_11_7a(1))"
   ]
  },
  {
   "cell_type": "code",
   "execution_count": 8,
   "metadata": {},
   "outputs": [
    {
     "name": "stdout",
     "output_type": "stream",
     "text": [
      "1.6990707845418864 -2.718281828459045\n"
     ]
    }
   ],
   "source": [
    "def numAnl_11_7a_der(x):\n",
    "    return -math.e**x+(math.pi/2)*(math.e-1)*math.cos((math.pi/2)*x)\n",
    "\n",
    "print(numAnl_11_7a_der(0), numAnl_11_7a_der(1))"
   ]
  }
 ],
 "metadata": {
  "kernelspec": {
   "display_name": "base",
   "language": "python",
   "name": "python3"
  },
  "language_info": {
   "codemirror_mode": {
    "name": "ipython",
    "version": 3
   },
   "file_extension": ".py",
   "mimetype": "text/x-python",
   "name": "python",
   "nbconvert_exporter": "python",
   "pygments_lexer": "ipython3",
   "version": "3.12.4"
  }
 },
 "nbformat": 4,
 "nbformat_minor": 2
}
