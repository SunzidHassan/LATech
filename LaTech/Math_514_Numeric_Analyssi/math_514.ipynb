{
 "cells": [
  {
   "cell_type": "markdown",
   "metadata": {},
   "source": []
  },
  {
   "cell_type": "code",
   "execution_count": 5,
   "metadata": {},
   "outputs": [
    {
     "name": "stdout",
     "output_type": "stream",
     "text": [
      "-0.28398668443175157 0.0066009467376817454\n",
      "0.154829305372008 -0.13225152278803654\n"
     ]
    }
   ],
   "source": [
    "import math\n",
    "def numAnl_11_1a(x):\n",
    "    return (x*math.cos(x))-(2*x**2)+(3*x)-1\n",
    "\n",
    "print(numAnl_11_1a(0.2), numAnl_11_1a(0.3))\n",
    "print(numAnl_11_1a(1.2), numAnl_11_1a(1.3))"
   ]
  },
  {
   "cell_type": "code",
   "execution_count": 7,
   "metadata": {},
   "outputs": [
    {
     "name": "stdout",
     "output_type": "stream",
     "text": [
      "0.0 0.0\n"
     ]
    }
   ],
   "source": [
    "def numAnl_11_7a(x):\n",
    "    return 1-math.e**x+(math.e-1)*math.sin((math.pi/2)*x)\n",
    "\n",
    "print(numAnl_11_7a(0), numAnl_11_7a(1))"
   ]
  },
  {
   "cell_type": "code",
   "execution_count": 8,
   "metadata": {},
   "outputs": [
    {
     "name": "stdout",
     "output_type": "stream",
     "text": [
      "1.6990707845418864 -2.718281828459045\n"
     ]
    }
   ],
   "source": [
    "def numAnl_11_7a_der(x):\n",
    "    return -math.e**x+(math.pi/2)*(math.e-1)*math.cos((math.pi/2)*x)\n",
    "\n",
    "print(numAnl_11_7a_der(0), numAnl_11_7a_der(1))"
   ]
  },
  {
   "cell_type": "markdown",
   "metadata": {},
   "source": [
    "# Numerical Analysis: Burden, Faires\n",
    "## Chapter 2\n",
    "\n",
    "### Examples\n",
    "#### 1\n",
    "Show that $f(x)=x^3+4x^2-10=0$ has a root in $[1,2]$ and use the Bisection method to determine an approximation to the root that is accurate to at least within $10^{-4}$\n",
    "\n",
    "**Solution**:\n",
    "\n",
    "Because $f(1)=-5$ and $f(2)=14$, the Intermediate Value Theorem ensure that this continuous function has a root in $[1,2]$.\n",
    "\n",
    "For the first iteration of the Bisection method, we use the fact that at the midpoint of $[1,2]$, we have $f(1.5)=2.375 > 0$. This indicates we should select the interval $[1,1.5]$ for our second iteration. Then we find that $f(1.25)=-1.796875 < 0$. This indicates we should select the interval $[1.25,1.5]$ whose midpoint is $1.375$. Continuing in this manner gives us the following table.\n",
    "\n"
   ]
  },
  {
   "cell_type": "code",
   "execution_count": 8,
   "metadata": {},
   "outputs": [
    {
     "data": {
      "text/plain": [
       "-0.0019980468750020464"
      ]
     },
     "execution_count": 8,
     "metadata": {},
     "output_type": "execute_result"
    }
   ],
   "source": [
    "def numAnl_21_3(a,b):\n",
    "    x=(a+b)/2\n",
    "    return x**3-7*x**2+14*x-6\n",
    "\n",
    "# print(numAnl_21_3(3.2), numAnl_21_3(4))\n",
    "numAnl_21_3(3.4,3.425)"
   ]
  },
  {
   "cell_type": "code",
   "execution_count": 9,
   "metadata": {},
   "outputs": [
    {
     "data": {
      "text/plain": [
       "3.4124999999999996"
      ]
     },
     "execution_count": 9,
     "metadata": {},
     "output_type": "execute_result"
    }
   ],
   "source": [
    "(3.4+3.425)/2"
   ]
  },
  {
   "cell_type": "markdown",
   "metadata": {},
   "source": [
    "### Exercise 2.1\n",
    "#### 3(c)\n",
    "$f(x)=x^3-7x^2+14x-6=0$\n",
    "Interval: $[3.2, 4]$\n",
    "\n",
    "$f(3.2)=-0.11$ and $f(4)=2$, the Intermediate Value Theorem ensure that this continuous function has a root in $[3.2,4]$.\n",
    "\n",
    "The following table is generated for the bisection method:\n",
    "\n",
    "|  $n$  |  $a_n$  |  $b_n$  |  $p_n$   |  $f(p_n)$  |\n",
    "|-------|---------|---------|----------|------------|\n",
    "| $1$   | $3.2$   | $4$     | $3.6$    | $0.336$    |\n",
    "| $2$   | $3.2$   | $3.6$   | $3.4$    | $-0.016$   |\n",
    "| $3$   | $3.4$   | $3.6$   | $3.5$    | $0.125$    |\n",
    "| $4$   | $3.4$   | $3.5$   | $3.45$   | $0.046$    |\n",
    "| $5$   | $3.4$   | $3.45$  | $3.425$  | $0.013$    |\n",
    "| $6$   | $3.4$   | $3.425$ | $3.4125$ | $-0.002$   |\n",
    "\n",
    "The Solution is 3.4125."
   ]
  },
  {
   "cell_type": "markdown",
   "metadata": {},
   "source": [
    "### Exercise 2.2\n",
    "#### 7\n"
   ]
  },
  {
   "cell_type": "markdown",
   "metadata": {},
   "source": [
    "## 1. Modeling, Computers, and Error Analysis\n",
    "1.1.5 Introduction to Error Analysis\n",
    "Sources of Error\n",
    "- Modeling Error\n",
    "- Numerical Error\n",
    "    - Truncation Error\n",
    "    - Roundoff Error\n",
    "\n",
    "Accuracy Vs. Precision:\n",
    "- Accuracy is how close to the bulls eye you hit.\n",
    "- Precision is how narrowed or spreaded out your hits are.\n",
    "\n",
    "True Error = True value - Approximation\n",
    "\n",
    "Relateive error = (True Error / True Value) * 100\n",
    "\n",
    "Approximate Error = (Current Approximation - Previous Approximation) / Approximate Value"
   ]
  },
  {
   "cell_type": "markdown",
   "metadata": {},
   "source": [
    "\n",
    "### Mathematical Modelling and Engineering Problem Solving\n",
    "### Programming and Software\n",
    "### Approximations and Round-off Errors\n",
    "### Truncation Errors and the Taylor Series\n",
    "\n",
    "## 2. Roots of Equations\n",
    "### Bracketing Methods\n",
    "### Open Methods\n",
    "### Roots of Polynomials\n",
    "### Case Studies: Roots of Equations\n",
    "\n",
    "## 3. Linear Algebraic Equations\n",
    "### Gauss Elimination\n",
    "### LU Decomposition and Matrix Inversion\n",
    "### Special Matrices and Gauss-Sidel\n",
    "### Case Studies: Linear Algebraic Equations\n",
    "    \n",
    "## 4. Optimization\n",
    "### 1-D Unconstrained Optimization\n",
    "### Multidimensional Unconstrained Optimization\n",
    "### Constrained Optimization\n",
    "### Case Studies: Optimization\n",
    "\n",
    "## 5. Curve Fittinn\n",
    "### Least-Squares Regression\n",
    "### Interpolation\n",
    "### Fourier Approximation\n",
    "### Case Studies: Curve Fitting\n",
    "    \n",
    "## 6. Numeric Differentiation and Integration\n",
    "### Newton-Cotes Integration Formulas\n",
    "### Integration of Equations\n",
    "### Numerical Differentiation\n",
    "### Case Studies: Numerical Integration and Differentiation\n",
    "    \n",
    "## 7. Odrinary Differential Equations\n",
    "### Runge-Kutta Methods\n",
    "### Stiffness and Multistep Methods\n",
    "### Boundary-Value and Eigenvalue Problems\n",
    "### Case Studies: Ordinary Differential Equations\n",
    "    \n",
    "## 8. Partial Differential Equations\n",
    "### Finite Difference: Elliptic Equations\n",
    "### Finite Difference: Parabolic Equations\n",
    "### Finite-Eliment Method\n",
    "### Case Studies: \n"
   ]
  }
 ],
 "metadata": {
  "kernelspec": {
   "display_name": "base",
   "language": "python",
   "name": "python3"
  },
  "language_info": {
   "codemirror_mode": {
    "name": "ipython",
    "version": 3
   },
   "file_extension": ".py",
   "mimetype": "text/x-python",
   "name": "python",
   "nbconvert_exporter": "python",
   "pygments_lexer": "ipython3",
   "version": "3.12.4"
  }
 },
 "nbformat": 4,
 "nbformat_minor": 2
}
