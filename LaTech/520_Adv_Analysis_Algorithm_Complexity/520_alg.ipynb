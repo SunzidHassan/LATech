{
 "cells": [
  {
   "cell_type": "markdown",
   "metadata": {},
   "source": [
    "# 520"
   ]
  },
  {
   "cell_type": "markdown",
   "metadata": {},
   "source": [
    "**Problem**: a problem $Q$ is a binary relation on a set $I$ of instances and a set $S$ of solutions $Q\\subseteq I\\times S$\n",
    "\n",
    "Every problem can be expressed as deciding whether an object is a member of a set.\n",
    "\n",
    "There are three types of problems:\n",
    "\n",
    "1. **General problem**: a general problem $G$ is a total relation $G\\subseteq I\\times S$\n",
    "\n",
    "One or more solutions can be produced for each problem instance. It is also called search problem or optimal solution problem. It can be expressed as deciding whether an object is a member of a set.\n",
    "\n",
    "\n",
    "2. **Function problem**: a function problem $F$ is a function $F\\subseteq I\\times S$\n",
    "One solution is produced for each problem instance. It is also called computation problem or optimal value problem. It can be expressed as deciding whether an object, $(i,s)$ is a member of the set %F%, where $i\\in I$, $s\\in S$.\n",
    "\n",
    "\n",
    "3. Decision problem"
   ]
  },
  {
   "cell_type": "markdown",
   "metadata": {},
   "source": [
    "## Class 3"
   ]
  },
  {
   "cell_type": "code",
   "execution_count": 1,
   "metadata": {},
   "outputs": [
    {
     "data": {
      "text/plain": [
       "{0, 1, 2, 3, 4, 5, 6, 7, 8, 9}"
      ]
     },
     "execution_count": 1,
     "metadata": {},
     "output_type": "execute_result"
    }
   ],
   "source": [
    "I = set(range(10))\n",
    "S = {'no', 'yes'}\n",
    "\n",
    "IxS = {(i,s) for i in I for s in S}\n",
    "IxS\n"
   ]
  },
  {
   "cell_type": "code",
   "execution_count": 4,
   "metadata": {},
   "outputs": [
    {
     "data": {
      "text/plain": [
       "{(0, 'yes'),\n",
       " (1, 'no'),\n",
       " (2, 'yes'),\n",
       " (3, 'no'),\n",
       " (4, 'yes'),\n",
       " (5, 'no'),\n",
       " (6, 'yes'),\n",
       " (7, 'no'),\n",
       " (8, 'yes'),\n",
       " (9, 'no')}"
      ]
     },
     "execution_count": 4,
     "metadata": {},
     "output_type": "execute_result"
    }
   ],
   "source": [
    "Even = {(i,s) for (i,s) in IxS if (i%2==0 and s=='yes') or (i%2!=0 and s=='no')}\n",
    "Even"
   ]
  },
  {
   "cell_type": "code",
   "execution_count": 5,
   "metadata": {},
   "outputs": [
    {
     "data": {
      "text/plain": [
       "True"
      ]
     },
     "execution_count": 5,
     "metadata": {},
     "output_type": "execute_result"
    }
   ],
   "source": [
    "Even <= IxS"
   ]
  },
  {
   "cell_type": "code",
   "execution_count": 6,
   "metadata": {},
   "outputs": [
    {
     "data": {
      "text/plain": [
       "'no'"
      ]
     },
     "execution_count": 6,
     "metadata": {},
     "output_type": "execute_result"
    }
   ],
   "source": [
    "D = dict(Even) \n",
    "D[1]"
   ]
  },
  {
   "cell_type": "code",
   "execution_count": 7,
   "metadata": {},
   "outputs": [
    {
     "data": {
      "text/plain": [
       "'yes'"
      ]
     },
     "execution_count": 7,
     "metadata": {},
     "output_type": "execute_result"
    }
   ],
   "source": [
    "# In python lambda is annonymous function, i is input, : is start of output, D[i] is output\n",
    "P = lambda i:D[i]\n",
    "P(4)"
   ]
  },
  {
   "cell_type": "markdown",
   "metadata": {},
   "source": [
    "Every problem can be expressed as deciding whether an object is a member of a set.\n",
    "\n",
    "$\\{w\\in L\\}$"
   ]
  },
  {
   "cell_type": "code",
   "execution_count": 8,
   "metadata": {},
   "outputs": [
    {
     "data": {
      "text/plain": [
       "True"
      ]
     },
     "execution_count": 8,
     "metadata": {},
     "output_type": "execute_result"
    }
   ],
   "source": [
    "(2, 'yes') in Even"
   ]
  },
  {
   "cell_type": "code",
   "execution_count": 13,
   "metadata": {},
   "outputs": [
    {
     "name": "stdout",
     "output_type": "stream",
     "text": [
      "0\n",
      "1\n",
      "2\n",
      "3\n",
      "4\n",
      "5\n",
      "6\n",
      "7\n",
      "8\n",
      "9\n",
      "10\n",
      "11\n",
      "True\n",
      "201\n"
     ]
    }
   ],
   "source": [
    "# def natural number\n",
    "\n",
    "def N():\n",
    "    n = 0\n",
    "    while True:\n",
    "        yield n\n",
    "        n += 1\n",
    "\n",
    "# Testing\n",
    "myN = N()\n",
    "print(next(myN))\n",
    "print(next(myN))\n",
    "for _ in range(10):\n",
    "    print(next(myN))\n",
    "\n",
    "# check if an element is in an infinite set!\n",
    "print(200 in myN)\n",
    "\n",
    "#yeild remembers the last element returned\n",
    "print(next(myN))"
   ]
  },
  {
   "cell_type": "code",
   "execution_count": null,
   "metadata": {},
   "outputs": [],
   "source": [
    "# this will loop through infinit!\n",
    "print(235.5 in myN)"
   ]
  },
  {
   "cell_type": "code",
   "execution_count": 15,
   "metadata": {},
   "outputs": [
    {
     "name": "stdout",
     "output_type": "stream",
     "text": [
      "False\n",
      "False\n",
      "True\n",
      "True\n"
     ]
    }
   ],
   "source": [
    "# will start search from last pointer\n",
    "print(200 in myN)\n",
    "print(100 in myN)\n",
    "\n",
    "# use entire natural number every time starting from 0\n",
    "print(200 in N())\n",
    "print(100 in N())"
   ]
  },
  {
   "cell_type": "code",
   "execution_count": null,
   "metadata": {},
   "outputs": [],
   "source": [
    "# Homework: define a generator for all prime numbers!"
   ]
  },
  {
   "cell_type": "markdown",
   "metadata": {},
   "source": [
    "There are 3 types of problems:\n",
    "1. General problems: $G\\subseteq I\\times S$\n",
    "2. Functional problems: \n",
    "3. Decision problem: "
   ]
  },
  {
   "cell_type": "markdown",
   "metadata": {},
   "source": []
  },
  {
   "cell_type": "code",
   "execution_count": 2,
   "metadata": {},
   "outputs": [
    {
     "name": "stdout",
     "output_type": "stream",
     "text": [
      "2\n",
      "3\n",
      "5\n",
      "7\n",
      "11\n",
      "13\n",
      "17\n",
      "19\n",
      "23\n",
      "29\n"
     ]
    }
   ],
   "source": [
    "def primes():\n",
    "    prime = 2\n",
    "    while True:\n",
    "        if all(prime % i != 0 for i in range(2, int(prime ** 0.5) + 1)):\n",
    "            yield prime\n",
    "        prime += 1\n",
    "\n",
    "# Example usage:\n",
    "prime_gen = primes()\n",
    "for _ in range(10):\n",
    "    print(next(prime_gen))"
   ]
  },
  {
   "cell_type": "markdown",
   "metadata": {},
   "source": [
    "## Class 4"
   ]
  },
  {
   "cell_type": "markdown",
   "metadata": {},
   "source": [
    "### General Problem\n",
    "How to convert to decision problem\n",
    "A general problem G is a total relation"
   ]
  },
  {
   "cell_type": "code",
   "execution_count": 7,
   "metadata": {},
   "outputs": [
    {
     "name": "stdout",
     "output_type": "stream",
     "text": [
      "{0, 1, 2, 3, 4, 5, 6, 7, 8, 9, -2, -9, -8, -7, -6, -5, -4, -3, -1}\n",
      "{0, 1, 64, 4, 36, 9, 16, 49, 81, 25}\n",
      "{(64, 5), (4, 0), (36, -2), (36, -1), (4, 9), (36, 7), (1, -6), (0, -4), (25, -5), (9, 8), (0, 5), (49, -2), (49, -1), (49, 7), (81, 5), (64, -2), (64, -1), (4, -7), (36, -9), (64, 7), (4, 2), (36, 0), (36, 9), (9, -8), (9, 1), (0, -1), (0, -2), (25, -3), (0, 7), (49, -9), (49, 0), (81, -2), (81, -1), (1, 8), (49, 9), (64, -9), (16, 6), (81, 7), (64, 0), (4, -5), (36, -7), (64, 9), (36, 2), (9, -6), (0, -9), (9, 3), (0, 0), (0, 9), (49, -7), (81, -9), (49, 2), (81, 0), (64, -7), (16, 8), (81, 9), (64, 2), (36, -5), (36, 4), (9, -4), (0, -7), (9, 5), (0, 2), (49, -5), (16, -8), (81, -7), (1, 3), (49, 4), (25, 4), (16, 1), (81, 2), (64, -5), (64, 4), (36, -3), (36, 6), (9, -2), (0, -5), (9, -1), (9, 7), (1, -4), (49, -3), (16, -6), (81, -5), (1, 5), (25, 6), (16, 3), (81, 4), (64, -3), (64, 6), (9, -9), (4, 4), (9, 0), (0, -3), (9, 9), (1, -2), (1, -1), (16, -4), (81, -3), (1, 7), (25, 8), (16, 5), (81, 6), (36, -8), (64, 8), (4, -3), (9, -7), (4, 6), (9, 2), (1, -9), (49, -8), (25, -8), (1, 0), (25, 1), (16, -2), (16, -1), (1, 9), (64, -8), (16, 7), (81, 8), (64, 1), (36, -6), (9, -5), (4, 8), (1, -7), (25, -6), (16, -9), (81, -8), (1, 2), (0, 4), (25, 3), (16, 0), (81, 1), (64, -6), (16, 9), (49, 6), (4, -8), (4, 1), (36, 8), (1, -5), (25, -4), (16, -7), (81, -6), (1, 4), (0, 6), (25, 5), (16, 2), (81, 3), (64, -4), (49, 8), (4, -6), (4, 3), (36, 1), (1, -3), (25, -2), (16, -5), (81, -4), (1, 6), (0, 8), (25, 7), (16, 4), (25, -1), (49, 1), (4, -4), (4, 5), (36, 3), (0, -8), (25, -9), (9, 4), (0, 1), (25, 0), (16, -3), (49, -6), (25, 9), (49, 3), (64, 3), (4, -2), (4, -1), (36, -4), (4, 7), (36, 5), (1, -8), (0, -6), (9, -3), (25, -7), (1, 1), (0, 3), (9, 6), (25, 2), (49, -4), (49, 5), (4, -9)}\n"
     ]
    }
   ],
   "source": [
    "#square values\n",
    "# input\n",
    "I = {s*s for s in S}\n",
    "print(I)\n",
    "\n",
    "#output\n",
    "# S = {n for n in range(-9, 10)}\n",
    "print(S)\n",
    "\n",
    "# all combinations for input-output\n",
    "IxS = {(i, s) for i in I for s in S}\n",
    "print(IxS)\n",
    "\n",
    "# solution generator\n",
    "G = {(i,s) for (i,s) in IxS if s*s == i}\n",
    "print(G)\n",
    "\n",
    "# checking membership in G\n",
    "inG = lambda i,ss: all((i,s) in G for s in ss)\n",
    "# inG: membership function - whether it's in G or not\n",
    "# lambda is an anonymous function. Input is 1 number i, output is set.\n",
    "# Check whether i belongs to G. Check if all of them are True - return True in that case.\n",
    "\n",
    "print(inG(4, {2, -2}))\n",
    "print(inG(4, {2,-3}))"
   ]
  },
  {
   "cell_type": "code",
   "execution_count": 16,
   "metadata": {},
   "outputs": [
    {
     "name": "stdout",
     "output_type": "stream",
     "text": [
      "True\n",
      "False\n"
     ]
    }
   ],
   "source": [
    "# absolute values\n",
    "I = set(range(-9,10))\n",
    "S = set(range(10))\n",
    "IxS = {(i,s) for i in I for s in S}\n",
    "F={(i,s) for (i,s) in IxS if i==s or -i==s}\n",
    "print((-1,1) in F)\n",
    "print((-1,-1)in F)"
   ]
  },
  {
   "cell_type": "markdown",
   "metadata": {},
   "source": [
    "### Decision problem"
   ]
  },
  {
   "cell_type": "code",
   "execution_count": 31,
   "metadata": {},
   "outputs": [
    {
     "name": "stdout",
     "output_type": "stream",
     "text": [
      "{0, 1, 2, 3, 4, 5, 6, 7, 8, 9, 10, 11, 12, 13, 14, 15, 16, 17, 18, 19}\n",
      "{(2, 'no'), (13, 'no'), (12, 'yes'), (3, 'yes'), (4, 'no'), (17, 'no'), (8, 'no'), (19, 'no'), (10, 'no'), (1, 'no'), (18, 'yes'), (14, 'no'), (5, 'no'), (0, 'yes'), (9, 'yes'), (15, 'yes'), (16, 'no'), (6, 'yes'), (7, 'no'), (11, 'no')}\n"
     ]
    },
    {
     "data": {
      "text/plain": [
       "False"
      ]
     },
     "execution_count": 31,
     "metadata": {},
     "output_type": "execute_result"
    }
   ],
   "source": [
    "# numbers divisible by 3\n",
    "I= set(range(20))\n",
    "print(I)\n",
    "S = {'no', 'yes'} # or {0, 1}\n",
    "IxS = {(i,s) for i in I for s in S}\n",
    "Q = {(i,s) for (i,s) in IxS if (i%3==0 and s=='yes') or (i%3!=0 and s=='no')}\n",
    "print(Q)\n",
    "Y = {i for (i,s) in Q if s=='yes'}\n",
    "print(4 in Y)"
   ]
  },
  {
   "cell_type": "code",
   "execution_count": null,
   "metadata": {},
   "outputs": [],
   "source": [
    "#Homweork\n",
    "# Formally define sorting problem\n",
    "# input is a set of tuple (x,y,z) where each of x,y,z is in {'A', 'B', 'C'}"
   ]
  },
  {
   "cell_type": "code",
   "execution_count": 5,
   "metadata": {},
   "outputs": [
    {
     "data": {
      "text/plain": [
       "{(('A', 'A', 'A'), 'no'),\n",
       " (('A', 'A', 'A'), 'yes'),\n",
       " (('A', 'A', 'B'), 'no'),\n",
       " (('A', 'A', 'B'), 'yes'),\n",
       " (('A', 'A', 'C'), 'no'),\n",
       " (('A', 'A', 'C'), 'yes'),\n",
       " (('A', 'B', 'A'), 'no'),\n",
       " (('A', 'B', 'A'), 'yes'),\n",
       " (('A', 'B', 'B'), 'no'),\n",
       " (('A', 'B', 'B'), 'yes'),\n",
       " (('A', 'B', 'C'), 'no'),\n",
       " (('A', 'B', 'C'), 'yes'),\n",
       " (('A', 'C', 'A'), 'no'),\n",
       " (('A', 'C', 'A'), 'yes'),\n",
       " (('A', 'C', 'B'), 'no'),\n",
       " (('A', 'C', 'B'), 'yes'),\n",
       " (('A', 'C', 'C'), 'no'),\n",
       " (('A', 'C', 'C'), 'yes'),\n",
       " (('B', 'A', 'A'), 'no'),\n",
       " (('B', 'A', 'A'), 'yes'),\n",
       " (('B', 'A', 'B'), 'no'),\n",
       " (('B', 'A', 'B'), 'yes'),\n",
       " (('B', 'A', 'C'), 'no'),\n",
       " (('B', 'A', 'C'), 'yes'),\n",
       " (('B', 'B', 'A'), 'no'),\n",
       " (('B', 'B', 'A'), 'yes'),\n",
       " (('B', 'B', 'B'), 'no'),\n",
       " (('B', 'B', 'B'), 'yes'),\n",
       " (('B', 'B', 'C'), 'no'),\n",
       " (('B', 'B', 'C'), 'yes'),\n",
       " (('B', 'C', 'A'), 'no'),\n",
       " (('B', 'C', 'A'), 'yes'),\n",
       " (('B', 'C', 'B'), 'no'),\n",
       " (('B', 'C', 'B'), 'yes'),\n",
       " (('B', 'C', 'C'), 'no'),\n",
       " (('B', 'C', 'C'), 'yes'),\n",
       " (('C', 'A', 'A'), 'no'),\n",
       " (('C', 'A', 'A'), 'yes'),\n",
       " (('C', 'A', 'B'), 'no'),\n",
       " (('C', 'A', 'B'), 'yes'),\n",
       " (('C', 'A', 'C'), 'no'),\n",
       " (('C', 'A', 'C'), 'yes'),\n",
       " (('C', 'B', 'A'), 'no'),\n",
       " (('C', 'B', 'A'), 'yes'),\n",
       " (('C', 'B', 'B'), 'no'),\n",
       " (('C', 'B', 'B'), 'yes'),\n",
       " (('C', 'B', 'C'), 'no'),\n",
       " (('C', 'B', 'C'), 'yes'),\n",
       " (('C', 'C', 'A'), 'no'),\n",
       " (('C', 'C', 'A'), 'yes'),\n",
       " (('C', 'C', 'B'), 'no'),\n",
       " (('C', 'C', 'B'), 'yes'),\n",
       " (('C', 'C', 'C'), 'no'),\n",
       " (('C', 'C', 'C'), 'yes')}"
      ]
     },
     "execution_count": 5,
     "metadata": {},
     "output_type": "execute_result"
    }
   ],
   "source": [
    "I = {'A', 'B', 'C'}\n",
    "I = {(i,j,k) for i in I for j in I for k in I}\n",
    "\n",
    "S = {'no', 'yes'}\n",
    "\n",
    "IxS = {(i,s) for i in I for s in S}\n",
    "IxS\n",
    "\n",
    "Q = {(i,s) for (i,s) in IxS if (i[0] <= i[1] <= i[2] and s == 'yes') or (((i[0] > i[1]) or (i[1]> i[2]) or (i[0]> i[2])) and s == 'no')}\n",
    "print(Q)\n",
    "\n",
    "Y = {i for (i,s) in Q if s=='yes'}\n",
    "('A', 'C', 'B') in Y"
   ]
  },
  {
   "cell_type": "code",
   "execution_count": null,
   "metadata": {},
   "outputs": [],
   "source": []
  },
  {
   "cell_type": "markdown",
   "metadata": {},
   "source": [
    "## Class 5"
   ]
  },
  {
   "cell_type": "code",
   "execution_count": null,
   "metadata": {},
   "outputs": [],
   "source": [
    "# def Prod(Z:set, n:int)->str:\n",
    "# Where Z is a set of str (char) len >= 2\n",
    "# n is pos number include 0\n",
    "# output all str of len n based on Z\n",
    "\n",
    "# require recursion for solution?\n",
    "\n",
    "def Prod(Z: set, n: int) -> set:\n",
    "    output = {()}\n",
    "    Zs={()}\n",
    "    \n",
    "    for _ in range(n):\n",
    "        storeSet = set()\n",
    "        for element in Z:\n",
    "            for tuple_ in output:\n",
    "                storeSet.add(tuple_ + (element,)) # storing triples instead of singletons\n",
    "        output = storeSet\n",
    "        Zs= {''.join(x) for x in output}\n",
    "    \n",
    "    return Zs\n",
    "\n",
    "Prod({'1', '0'}, 4)"
   ]
  },
  {
   "cell_type": "markdown",
   "metadata": {},
   "source": [
    "### Formally define NAND operation using Turing Machine"
   ]
  },
  {
   "cell_type": "code",
   "execution_count": null,
   "metadata": {},
   "outputs": [],
   "source": []
  },
  {
   "cell_type": "markdown",
   "metadata": {},
   "source": [
    "## Class 6"
   ]
  },
  {
   "cell_type": "markdown",
   "metadata": {},
   "source": [
    "Sigma star is all possible string based on our alphabet.\n",
    "\n",
    "3 bit has 8 possible combinations\n",
    "There are 3 output cases.\n",
    "\n",
    "Exam: 3 bit number, 2 bit addition answer.\n",
    "First write the given number, put a blank symbol, write the 2 bit answer."
   ]
  },
  {
   "cell_type": "markdown",
   "metadata": {},
   "source": [
    "### Reverse string"
   ]
  },
  {
   "cell_type": "code",
   "execution_count": 76,
   "metadata": {},
   "outputs": [
    {
     "name": "stdout",
     "output_type": "stream",
     "text": [
      "Result Tape: BABBAA_AABBAB_\n",
      "Final Read-Write Head Position: 5\n"
     ]
    }
   ],
   "source": [
    "# in\n",
    "# T = \"AABBA\"\n",
    "# out\n",
    "# T = \"AABBA_ABBAA\"\n",
    "\n",
    "from bcom import *\n",
    "\n",
    "# Input \n",
    "T = \"AABBAB\"\n",
    "rwh = 0  # Read-write head at index 0\n",
    "q0 = 0  # Initial state\n",
    "\n",
    "# Turing Machine description\n",
    "df = {\n",
    "    (0, 'A'): (0, 'a', 1),  #lower the input\n",
    "    (0, 'B'): (0, 'b', 1),\n",
    "    (0, '_'): (1, '_', -1),\n",
    "    (1, 'a'): (1, 'a', -1), # go to the start of the input\n",
    "    (1, 'b'): (1, 'b', -1),\n",
    "    (1, '_'): (2, 'c', 1),\n",
    "    (2, 'A'): (2, 'A', 1),  # find letter for copying\n",
    "    (2, 'B'): (2, 'B', 1),\n",
    "    (2, 'a'): (3, 'A', -1),\n",
    "    (2, 'b'): (4, 'B', -1),\n",
    "    (2, '_'): (6, '_', -1),\n",
    "    (3, 'A'): (3, 'A', -1), # copy A\n",
    "    (3, 'B'): (3, 'B', -1),\n",
    "    (3, 'c'): (3, 'c', -1),\n",
    "    (3, '_'): (5, 'A', 1),\n",
    "    (4, 'A'): (4, 'A', -1), # copy B\n",
    "    (4, 'B'): (4, 'B', -1),\n",
    "    (4, 'c'): (4, 'c', -1),\n",
    "    (4, '_'): (5, 'B', 1),\n",
    "    (5, 'A'): (5, 'A', 1),  # find input after copying A/B\n",
    "    (5, 'B'): (5, 'B', 1),\n",
    "    (5, 'c'): (2, 'c', 1),\n",
    "    (6, 'A'): (6, 'A', -1), # replace c with '_'\n",
    "    (6, 'B'): (6, 'B', -1),\n",
    "    (6, 'c'): (h, '_', -1)\n",
    "}\n",
    "\n",
    "# Testing\n",
    "if __name__ == \"__main__\":\n",
    "    result_tape, result_rwh = Utm(T, df, rwh, q0)\n",
    "    print(\"Result Tape:\", result_tape)\n",
    "    print(\"Final Read-Write Head Position:\", result_rwh)"
   ]
  },
  {
   "cell_type": "markdown",
   "metadata": {},
   "source": [
    "### 3 bit number adder"
   ]
  },
  {
   "cell_type": "code",
   "execution_count": 45,
   "metadata": {},
   "outputs": [
    {
     "name": "stdout",
     "output_type": "stream",
     "text": [
      "Result Tape: 11_000_\n",
      "Final Read-Write Head Position: 5\n"
     ]
    }
   ],
   "source": [
    "from bcom import *\n",
    "\n",
    "# Input \n",
    "T = \"111\"\n",
    "rwh = 0  # Read-write head at index 0\n",
    "q0 = 0  # Initial state\n",
    "\n",
    "# Turing Machine description\n",
    "df = {\n",
    "    (0, '0'): (0, '0', 1),  # Read input\n",
    "    (0, '1'): (1, '0', -1),\n",
    "    (0, '_'): (h, '_', -1),\n",
    "    # (0, '_'): (4, '_', -1),\n",
    "    (1, '0'): (1, '0', -1),  # Find output\n",
    "    (1, '1'): (1, '1', -1),\n",
    "    (1, '_'): (2, '_', -1),\n",
    "    (2, '0'): (3, '1', 1),  # calculate output\n",
    "    (2, '1'): (2, '0', -1),\n",
    "    (2, '_'): (3, '1', 1),\n",
    "    (3, '0'): (3, '0', 1),  # find input\n",
    "    (3, '1'): (3, '1', 1),\n",
    "    (3, '_'): (0, '_', 1),\n",
    "    # (4, '0'): (4, '0', -1),  # output answer\n",
    "    # (4, '1'): (4, '1', -1),\n",
    "    # (4, '_'): (h, '_', -1),\n",
    "}\n",
    "\n",
    "# Testing\n",
    "if __name__ == \"__main__\":\n",
    "    result_tape, result_rwh = Utm(T, df, rwh, q0)\n",
    "    print(\"Result Tape:\", result_tape)\n",
    "    print(\"Final Read-Write Head Position:\", result_rwh)"
   ]
  },
  {
   "cell_type": "markdown",
   "metadata": {},
   "source": [
    "### 3 bit number adder: write the given number, put a blank symbol, write the 2 bit answer."
   ]
  },
  {
   "cell_type": "code",
   "execution_count": 38,
   "metadata": {},
   "outputs": [
    {
     "name": "stdout",
     "output_type": "stream",
     "text": [
      "Result Tape: _111_11\n",
      "Final Read-Write Head Position: 5\n"
     ]
    }
   ],
   "source": [
    "from bcom import *\n",
    "\n",
    "# Input \n",
    "T = \"111\"\n",
    "rwh = 0  # Read-write head at index 0\n",
    "q0 = 0  # Initial state\n",
    "\n",
    "# Turing Machine description\n",
    "df = {\n",
    "    (0, '0'): (0, 'a', 1),  # Read input\n",
    "    (0, '1'): (1, 'b', 1),\n",
    "    (0, 'a'): (0, 'a', 1),\n",
    "    (0, 'b'): (0, 'b', 1),\n",
    "    (0, '_'): (5, '_', -1),\n",
    "\n",
    "    (1, '0'): (1, '0', 1),  # Find output\n",
    "    (1, '1'): (1, '1', 1),\n",
    "    (1, '_'): (2, '_', 1),\n",
    "\n",
    "    (2, '0'): (3, '1', 1),  # calculate output\n",
    "    (2, '1'): (3, '1', 1),\n",
    "    (2, '_'): (3, '0', 1),\n",
    "\n",
    "    (3, '0'): (4, '1', -1),\n",
    "    (3, '1'): (4, '0', -1),\n",
    "    (3, '_'): (4, '1', -1),\n",
    "\n",
    "    (4, '_'): (4, '_', -1),  # find input after calculation\n",
    "    (4, '0'): (4, '0', -1),\n",
    "    (4, '1'): (4, '1', -1),\n",
    "    (4, 'a'): (0, 'a', 1),\n",
    "    (4, 'b'): (0, 'b', 1),\n",
    "\n",
    "    (5, 'a'): (5, 'a', -1),  # find first input for resetting input\n",
    "    (5, 'b'): (5, 'b', -1),  \n",
    "    (5, '_'): (6, '_', 1),\n",
    "\n",
    "    (6, 'a'): (6, '0', 1),  # output answer\n",
    "    (6, 'b'): (6, '1', 1),\n",
    "    (6, '_'): (h, '_', 1),\n",
    "}\n",
    "\n",
    "# Testing\n",
    "if __name__ == \"__main__\":\n",
    "    result_tape, result_rwh = Utm(T, df, rwh, q0)\n",
    "    print(\"Result Tape:\", result_tape)\n",
    "    print(\"Final Read-Write Head Position:\", result_rwh)"
   ]
  },
  {
   "cell_type": "markdown",
   "metadata": {},
   "source": [
    "## Class 7"
   ]
  },
  {
   "cell_type": "code",
   "execution_count": 2,
   "metadata": {},
   "outputs": [
    {
     "data": {
      "text/plain": [
       "[{0: 0, 1: 0}, {0: 0, 1: 1}, {0: 1, 1: 0}, {0: 1, 1: 1}]"
      ]
     },
     "execution_count": 2,
     "metadata": {},
     "output_type": "execute_result"
    }
   ],
   "source": [
    "Z = {0,1}\n",
    "AllFx = [{0:y0,1:y1} for y0 in Z for y1 in Z]\n",
    "nameAllFx = ['False', 'Identity', 'Not', 'True']"
   ]
  },
  {
   "cell_type": "code",
   "execution_count": 7,
   "metadata": {},
   "outputs": [
    {
     "data": {
      "text/plain": [
       "1"
      ]
     },
     "execution_count": 7,
     "metadata": {},
     "output_type": "execute_result"
    }
   ],
   "source": [
    "Z = {0,1}\n",
    "permutations = [(y3, y2, y1, y0) for y3 in Z for y2 in Z for y1 in Z for y0 in Z]\n",
    "functions = [{(a,b):y[2*a+b] for a in Z for b in Z} for y in permutations]\n",
    "# functions = list(enumerate(functions))\n",
    "\n",
    "# functions\n",
    "Zero = functions[0]     # return all zero/False\n",
    "And = functions[1]      # AND\n",
    "AgtB = functions[2]     # A > B\n",
    "EqA = functions[3]      # Return A\n",
    "AltB = functions[4]     # A < B\n",
    "EqB = functions[5]      # Return B\n",
    "Xor = functions[6]      # XOR\n",
    "Or = functions[7]       # OR\n",
    "Nor = functions[8]      # NOR\n",
    "AeqB = functions[9]     # A == B\n",
    "NotB = functions[10]    # Not B\n",
    "BthenA = functions[11]  # A >= B\n",
    "NotA = functions[12]    # Not A\n",
    "AthenB = functions[13]  # A <= B\n",
    "Nand = functions[14]    # NAND\n",
    "One = functions[15]     # Return all one/True\n",
    "\n",
    "One[0,0]"
   ]
  }
 ],
 "metadata": {
  "kernelspec": {
   "display_name": "Python 3",
   "language": "python",
   "name": "python3"
  },
  "language_info": {
   "codemirror_mode": {
    "name": "ipython",
    "version": 3
   },
   "file_extension": ".py",
   "mimetype": "text/x-python",
   "name": "python",
   "nbconvert_exporter": "python",
   "pygments_lexer": "ipython3",
   "version": "3.11.5"
  }
 },
 "nbformat": 4,
 "nbformat_minor": 2
}
