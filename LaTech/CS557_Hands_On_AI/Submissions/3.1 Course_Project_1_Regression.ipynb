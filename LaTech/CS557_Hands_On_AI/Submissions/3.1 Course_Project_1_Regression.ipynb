{
  "cells": [
    {
      "cell_type": "markdown",
      "metadata": {
        "id": "guE34D3Fj2R9"
      },
      "source": [
        "# **Course Project 1: COVID-19 Cases Prediction (Regression)**"
      ]
    },
    {
      "cell_type": "markdown",
      "source": [
        "Objectives:\n",
        "* Solve a regression problem with deep neural networks (DNN).\n",
        "* Understand basic DNN training tips.\n",
        "* Familiarize yourself with PyTorch.\n"
      ],
      "metadata": {
        "id": "V57zhcTp1Xxb"
      }
    },
    {
      "cell_type": "markdown",
      "metadata": {
        "id": "Tm2aXcb-j9Fc"
      },
      "source": [
        "# Download data"
      ]
    },
    {
      "cell_type": "code",
      "execution_count": 1,
      "metadata": {
        "id": "YPmfl-awlKZA",
        "outputId": "1ccf0125-0cd9-4642-b405-a45f4b969472",
        "colab": {
          "base_uri": "https://localhost:8080/"
        }
      },
      "outputs": [
        {
          "output_type": "stream",
          "name": "stdout",
          "text": [
            "/usr/local/lib/python3.10/dist-packages/gdown/cli.py:121: FutureWarning: Option `--id` was deprecated in version 4.3.1 and will be removed in 5.0. You don't need to pass it anymore to use a file ID.\n",
            "  warnings.warn(\n",
            "Downloading...\n",
            "From: https://drive.google.com/uc?id=1iMnGEit5-Z_kgQia8pZ5FIlC0LoW7fki\n",
            "To: /content/covid.train.csv\n",
            "100% 2.00M/2.00M [00:00<00:00, 170MB/s]\n",
            "/usr/local/lib/python3.10/dist-packages/gdown/cli.py:121: FutureWarning: Option `--id` was deprecated in version 4.3.1 and will be removed in 5.0. You don't need to pass it anymore to use a file ID.\n",
            "  warnings.warn(\n",
            "Downloading...\n",
            "From: https://drive.google.com/uc?id=1NOoy9gE1VnnbHluzaOoXG__PefYcvqXW\n",
            "To: /content/covid.test.csv\n",
            "100% 493k/493k [00:00<00:00, 174MB/s]\n"
          ]
        }
      ],
      "source": [
        "!gdown --id '1iMnGEit5-Z_kgQia8pZ5FIlC0LoW7fki' --output covid.train.csv\n",
        "!gdown --id '1NOoy9gE1VnnbHluzaOoXG__PefYcvqXW' --output covid.test.csv"
      ]
    },
    {
      "cell_type": "markdown",
      "metadata": {
        "id": "igqIMEgu64-F"
      },
      "source": [
        "# Import packages"
      ]
    },
    {
      "cell_type": "code",
      "execution_count": 2,
      "metadata": {
        "id": "xybQNYCXYu13"
      },
      "outputs": [],
      "source": [
        "# Numerical Operations\n",
        "import math\n",
        "import numpy as np\n",
        "\n",
        "# Reading/Writing Data\n",
        "import pandas as pd\n",
        "import os\n",
        "import csv\n",
        "\n",
        "# For Progress Bar\n",
        "from tqdm import tqdm\n",
        "\n",
        "# Pytorch\n",
        "import torch\n",
        "import torch.nn as nn\n",
        "from torch.utils.data import Dataset, DataLoader, random_split\n",
        "\n",
        "# For plotting learning curve\n",
        "from torch.utils.tensorboard import SummaryWriter"
      ]
    },
    {
      "cell_type": "markdown",
      "source": [
        "# Some Utility Functions\n",
        "\n",
        "* same_seed function: fix random number for reproducing the training result.\n",
        "    * **Input**: seed (a constant)\n",
        "    * **Output**: none\n",
        "\n",
        "* train_valid_split: split training data further into training_data + validation_data\n",
        "    * **Input**: data_set (training dataset); valid_ratio (a constant less than 1); seed (a constant)\n",
        "    * **Output**: train_set (training dataset); valid_set (validation dataset)\n",
        "\n",
        "* predict: make model prediction after the model is completed for the training\n",
        "    * **Input**: test_loader (testing data); model (deep neural network after the training); device (either GPU or CPU, the device where the model is running upon)\n",
        "    * **Output**: preds (a list of numerical variables, the length is identical to the testing dataset).\n",
        "\n"
      ],
      "metadata": {
        "id": "fTAVqRfc2KK3"
      }
    },
    {
      "cell_type": "code",
      "source": [
        "def same_seed(seed):\n",
        "    '''Fixes random number generator seeds for reproducibility.'''\n",
        "    torch.backends.cudnn.deterministic = True\n",
        "    torch.backends.cudnn.benchmark = False\n",
        "    np.random.seed(seed)\n",
        "    torch.manual_seed(seed)\n",
        "    if torch.cuda.is_available():\n",
        "        torch.cuda.manual_seed_all(seed)\n",
        "\n",
        "def train_valid_split(data_set, valid_ratio, seed):\n",
        "    '''Split provided training data into training set and validation set'''\n",
        "    valid_set_size = int(valid_ratio * len(data_set))\n",
        "    train_set_size = len(data_set) - valid_set_size\n",
        "    train_set, valid_set = random_split(data_set, [train_set_size, valid_set_size], generator=torch.Generator().manual_seed(seed))\n",
        "    return np.array(train_set), np.array(valid_set)\n",
        "\n",
        "def predict(test_loader, model, device):\n",
        "    ''' Make predictions after the model is completed from the training'''\n",
        "    # Set your model to evaluation mode, which will disable dropout and batch normalization.\n",
        "    # which is important for getting an accurate evaluation of the model's performance\n",
        "    model.eval()\n",
        "    preds = []  # a list for storing the prediction results\n",
        "    for x in tqdm(test_loader):\n",
        "        x = x.to(device)\n",
        "        # no_grad disables the gradient calculation to reduce memory consumption\n",
        "        with torch.no_grad():\n",
        "            pred = model(x)\n",
        "            preds.append(pred.detach().cpu())\n",
        "    # torch.cat: concatenates tensors to form a column\n",
        "    # .numpy(): convert tensors into normal numbers\n",
        "    preds = torch.cat(preds, dim=0).numpy()\n",
        "    return preds"
      ],
      "metadata": {
        "id": "RbrcpfYN2I-H"
      },
      "execution_count": 3,
      "outputs": []
    },
    {
      "cell_type": "markdown",
      "metadata": {
        "id": "IqO3lTm78nNO"
      },
      "source": [
        "# Dataset\n",
        "\n",
        "* A class for getting the dataset elements"
      ]
    },
    {
      "cell_type": "code",
      "execution_count": 4,
      "metadata": {
        "id": "-mjaJM0wprMs"
      },
      "outputs": [],
      "source": [
        "class COVID19Dataset(Dataset):\n",
        "    '''\n",
        "    x: Features.\n",
        "    y: Targets, if y=none, make prediction.\n",
        "    '''\n",
        "    def __init__(self, x, y=None):\n",
        "        if y is None:\n",
        "            self.y = y\n",
        "        else:\n",
        "            # convert the numerical y into Tensor to accelerate the training\n",
        "            self.y = torch.FloatTensor(y)\n",
        "        # convert the numerical x into Tensor to accelerate the training\n",
        "        self.x = torch.FloatTensor(x)\n",
        "\n",
        "    # return x, y values if you know the index\n",
        "    def __getitem__(self, idx):\n",
        "        if self.y is None:\n",
        "            return self.x[idx]\n",
        "        else:\n",
        "            return self.x[idx], self.y[idx]\n",
        "\n",
        "    # return the length of input x\n",
        "    def __len__(self):\n",
        "        return len(self.x)"
      ]
    },
    {
      "cell_type": "markdown",
      "source": [
        "# Neural Network Model\n",
        "* You can try out different model architectures by modifying the class below.\n",
        "* How to create nueral networks using Pytorch? [link](https://pytorch.org/tutorials/beginner/basics/buildmodel_tutorial.html)"
      ],
      "metadata": {
        "id": "m73ooU75CL_j"
      }
    },
    {
      "cell_type": "code",
      "execution_count": 5,
      "metadata": {
        "id": "Qn97_WvvrEkG"
      },
      "outputs": [],
      "source": [
        "class My_Model(nn.Module):\n",
        "    def __init__(self, input_dim):\n",
        "        super(My_Model, self).__init__()\n",
        "        # TODO: modify model's structure, be aware of dimensions.\n",
        "        self.layers = nn.Sequential(\n",
        "            nn.Linear(input_dim, 16),\n",
        "            nn.ReLU(),\n",
        "            nn.Linear(16, 8),\n",
        "            nn.ReLU(),\n",
        "            nn.Linear(8, 1)\n",
        "        )\n",
        "\n",
        "    def forward(self, x):\n",
        "        x = self.layers(x)\n",
        "        x = x.squeeze(1) # (B, 1) -> (B)\n",
        "        return x"
      ]
    },
    {
      "cell_type": "markdown",
      "metadata": {
        "id": "x5-LKF6R8xeq"
      },
      "source": [
        "# Feature Selection\n",
        "* Choose features that you think are useful.\n",
        "    * Here, train_data is a 2-D list:\n",
        "        * row -> training data peceies; column -> features.\n",
        "    * label `y` is the last column.\n",
        "    * features `x` is in all of the previous columns.\n",
        "    * `:` in index indicates selecting all elements"
      ]
    },
    {
      "cell_type": "code",
      "source": [
        "def select_feat(train_data, valid_data, test_data, select_all=True):\n",
        "    '''Selects useful features to perform regression'''\n",
        "    # y (i.e., labels) are in the last column\n",
        "    y_train, y_valid = train_data[:,-1], valid_data[:,-1]\n",
        "    # x (i.e., featuers) are in all previous columns\n",
        "    raw_x_train, raw_x_valid, raw_x_test = train_data[:,:-1], valid_data[:,:-1], test_data\n",
        "\n",
        "    if select_all:\n",
        "        feat_idx = list(range(raw_x_train.shape[1]))\n",
        "    else:\n",
        "        feat_idx = [0,1,2,3,4] # TODO: Select suitable feature columns.\n",
        "\n",
        "    return raw_x_train[:,feat_idx], raw_x_valid[:,feat_idx], raw_x_test[:,feat_idx], y_train, y_valid"
      ],
      "metadata": {
        "id": "0FEnKRaIIeKp"
      },
      "execution_count": 9,
      "outputs": []
    },
    {
      "cell_type": "markdown",
      "source": [
        "# Training Loop\n",
        "\n",
        "* Loss functions in Pytorch\n",
        "    * nn.MSELoss (mean square error)\n",
        "    * nn.L1Loss (mean absolute error)\n",
        "\n",
        "* Optimization in Pytorch\n",
        "    * torch.optim.SGD [link](https://pytorch.org/docs/stable/generated/torch.optim.SGD.html#torch.optim.SGD)"
      ],
      "metadata": {
        "id": "kADIPNQ2Ih5X"
      }
    },
    {
      "cell_type": "code",
      "execution_count": 6,
      "metadata": {
        "id": "k4Rq8_TztAhq"
      },
      "outputs": [],
      "source": [
        "def trainer(train_loader, valid_loader, model, config, device):\n",
        "\n",
        "    # Define your loss function, for regression, we use MSE\n",
        "    criterion = nn.MSELoss(reduction='mean')\n",
        "\n",
        "    # Define the optimization algorithm, here, we use the schocastic gradient decrease (SGD)\n",
        "    optimizer = torch.optim.SGD(model.parameters(), lr=config['learning_rate'], momentum=0.9)\n",
        "    # For more optimizers, please reference https://pytorch.org/docs/stable/optim.html\n",
        "\n",
        "    # Create directory of saving models.\n",
        "    if not os.path.isdir('./models'):\n",
        "        os.mkdir('./models')\n",
        "\n",
        "    # Initialize training parameters\n",
        "        # n_epochs: the number of training epochs (1 epoch sees all training data)\n",
        "        # best_loss: the smallest loss so far\n",
        "        # step: record the training steps\n",
        "        # early_stop_count: count the times of early stop\n",
        "    n_epochs, best_loss, step, early_stop_count = config['n_epochs'], math.inf, 0, 0\n",
        "\n",
        "    for epoch in range(n_epochs):\n",
        "        model.train() # Set your model to train mode.\n",
        "        loss_record = []\n",
        "\n",
        "        # tqdm is a package to visualize your training progress.\n",
        "        # train_loader is the iterable training data, which contains x and y\n",
        "        # The position parameter in tqdm is used to specify the position of the progress bar.\n",
        "        # for the use of tdqm, check:\n",
        "        # https://www.kaggle.com/code/nikhilkhetan/tqdm-tutorial#4.-Customizing-progress-bar-using-tqdm-parameters\n",
        "        train_pbar = tqdm(train_loader, position=0)\n",
        "\n",
        "        for x, y in train_pbar:\n",
        "            optimizer.zero_grad()               # Set gradient to zero.\n",
        "            x, y = x.to(device), y.to(device)   # Move your training data to GPU.\n",
        "            pred = model(x)                     # Compute the output from the model given x\n",
        "            loss = criterion(pred, y)           # Compute the loss value\n",
        "            loss.backward()                     # Compute gradient of dL/dtheta (backpropagation).\n",
        "            optimizer.step()                    # Update parameters.\n",
        "            step += 1                           # record the training step\n",
        "            loss_record.append(loss.detach().item())    # record the loss values\n",
        "\n",
        "            # Display current epoch number and loss on tqdm progress bar.\n",
        "            train_pbar.set_description(f'Epoch [{epoch+1}/{n_epochs}]')\n",
        "            train_pbar.set_postfix({'loss': loss.detach().item()})\n",
        "\n",
        "        # calculate the average value in training loss\n",
        "        mean_train_loss = sum(loss_record)/len(loss_record)\n",
        "\n",
        "        # Set your model to evaluation mode.\n",
        "        model.eval()\n",
        "        # empty the loss_record list\n",
        "        loss_record = []\n",
        "        # evaluate the model with the validation data\n",
        "        for x, y in valid_loader:\n",
        "            x, y = x.to(device), y.to(device)\n",
        "            with torch.no_grad():\n",
        "                pred = model(x)\n",
        "                loss = criterion(pred, y)\n",
        "\n",
        "            loss_record.append(loss.item())\n",
        "\n",
        "        # calculate the average value in validation loss\n",
        "        mean_valid_loss = sum(loss_record)/len(loss_record)\n",
        "        # print the training and validation loss values\n",
        "        print(f'Epoch [{epoch+1}/{n_epochs}]: Train loss: {mean_train_loss:.4f}, Valid loss: {mean_valid_loss:.4f}')\n",
        "\n",
        "        # if the test results on validation data is better than the history, save the model\n",
        "        if mean_valid_loss < best_loss:\n",
        "            best_loss = mean_valid_loss\n",
        "            torch.save(model.state_dict(), config['save_path']) # Save your best model\n",
        "            print('Saving model with loss {:.3f}...'.format(best_loss))\n",
        "            # reset the early_stop_count\n",
        "            early_stop_count = 0\n",
        "        else:\n",
        "            # increment early_stop_count if mean_valid_loss is not improved\n",
        "            early_stop_count += 1\n",
        "\n",
        "        # if the number of early stop is larger than a pre-define value, print that the model is not improving\n",
        "        if early_stop_count >= config['early_stop']:\n",
        "            print('\\nModel is not improving, so we halt the training session.')\n",
        "            return"
      ]
    },
    {
      "cell_type": "markdown",
      "metadata": {
        "id": "0pgkOh2e9UjE"
      },
      "source": [
        "# Configurations\n",
        "`config` contains hyper-parameters for training and the path to save your model."
      ]
    },
    {
      "cell_type": "code",
      "execution_count": 7,
      "metadata": {
        "id": "QoWPUahCtoT6"
      },
      "outputs": [],
      "source": [
        "device = 'cuda' if torch.cuda.is_available() else 'cpu'\n",
        "config = {\n",
        "    'seed': 5201314,      # Your seed number, you can pick your lucky number. :)\n",
        "    'select_all': True,   # Whether to use all features.\n",
        "    'valid_ratio': 0.2,   # validation_size = train_size * valid_ratio\n",
        "    'n_epochs': 3000,     # Number of epochs.\n",
        "    'batch_size': 256,\n",
        "    'learning_rate': 1e-5,\n",
        "    'early_stop': 400,    # If model has not improved for this many consecutive epochs, stop training.\n",
        "    'save_path': './models/model.ckpt'  # Your model will be saved here.\n",
        "}"
      ]
    },
    {
      "cell_type": "markdown",
      "metadata": {
        "id": "lrS-aJJh9XkW"
      },
      "source": [
        "# Dataloader\n",
        "Read data from files and set up training, validation, and testing sets. You do not need to modify this part."
      ]
    },
    {
      "cell_type": "code",
      "execution_count": 10,
      "metadata": {
        "id": "2jc7ZfDot2t9",
        "outputId": "ee001457-9bb2-449e-f66b-2322805edff8",
        "colab": {
          "base_uri": "https://localhost:8080/"
        }
      },
      "outputs": [
        {
          "output_type": "stream",
          "name": "stdout",
          "text": [
            "train_data size: (1728, 118)\n",
            "valid_data size: (432, 118)\n",
            "test_data size: (539, 117)\n",
            "number of features: 117\n"
          ]
        }
      ],
      "source": [
        "# Set seed for reproducibility\n",
        "same_seed(config['seed'])\n",
        "\n",
        "\n",
        "# train_data size: 1728 x 118 (118 = id + 37 states + 16 features x 5 days)\n",
        "# test_data size: 539 x 117 (without last day's positive numbers)\n",
        "train_data, test_data = pd.read_csv('./covid.train.csv').values, pd.read_csv('./covid.test.csv').values\n",
        "# further split the train_data into training and valid datasets\n",
        "train_data, valid_data = train_valid_split(train_data, config['valid_ratio'], config['seed'])\n",
        "\n",
        "\n",
        "\n",
        "# Print out the data size.\n",
        "print(f\"\"\"train_data size: {train_data.shape}\n",
        "valid_data size: {valid_data.shape}\n",
        "test_data size: {test_data.shape}\"\"\")\n",
        "\n",
        "# Select features\n",
        "x_train, x_valid, x_test, y_train, y_valid = select_feat(train_data, valid_data, test_data, config['select_all'])\n",
        "\n",
        "# Print out the number of features.\n",
        "print(f'number of features: {x_train.shape[1]}')\n",
        "\n",
        "train_dataset, valid_dataset, test_dataset = COVID19Dataset(x_train, y_train), \\\n",
        "                                            COVID19Dataset(x_valid, y_valid), \\\n",
        "                                            COVID19Dataset(x_test)\n",
        "\n",
        "# Pytorch data loader loads pytorch dataset into batches.\n",
        "train_loader = DataLoader(train_dataset, batch_size=config['batch_size'], shuffle=True, pin_memory=True)\n",
        "valid_loader = DataLoader(valid_dataset, batch_size=config['batch_size'], shuffle=True, pin_memory=True)\n",
        "test_loader = DataLoader(test_dataset, batch_size=config['batch_size'], shuffle=False, pin_memory=True)"
      ]
    },
    {
      "cell_type": "markdown",
      "metadata": {
        "id": "0OBYgjCA-YwD"
      },
      "source": [
        "# Start training!"
      ]
    },
    {
      "cell_type": "code",
      "execution_count": null,
      "metadata": {
        "id": "YdttVRkAfu2t",
        "outputId": "87e86807-79b7-4376-de22-eb65cd22cb8b",
        "colab": {
          "base_uri": "https://localhost:8080/"
        }
      },
      "outputs": [
        {
          "output_type": "stream",
          "name": "stderr",
          "text": [
            "Epoch [1/3000]: 100%|██████████| 7/7 [00:03<00:00,  2.24it/s, loss=47]\n"
          ]
        },
        {
          "output_type": "stream",
          "name": "stdout",
          "text": [
            "Epoch [1/3000]: Train loss: 139.8268, Valid loss: 136.4604\n",
            "Saving model with loss 136.460...\n"
          ]
        },
        {
          "output_type": "stream",
          "name": "stderr",
          "text": [
            "Epoch [2/3000]: 100%|██████████| 7/7 [00:00<00:00, 129.68it/s, loss=63.5]\n"
          ]
        },
        {
          "output_type": "stream",
          "name": "stdout",
          "text": [
            "Epoch [2/3000]: Train loss: 77.0922, Valid loss: 49.6951\n",
            "Saving model with loss 49.695...\n"
          ]
        },
        {
          "output_type": "stream",
          "name": "stderr",
          "text": [
            "Epoch [3/3000]: 100%|██████████| 7/7 [00:00<00:00, 127.26it/s, loss=45.9]\n"
          ]
        },
        {
          "output_type": "stream",
          "name": "stdout",
          "text": [
            "Epoch [3/3000]: Train loss: 48.7040, Valid loss: 40.9793\n",
            "Saving model with loss 40.979...\n"
          ]
        },
        {
          "output_type": "stream",
          "name": "stderr",
          "text": [
            "Epoch [4/3000]: 100%|██████████| 7/7 [00:00<00:00, 117.48it/s, loss=32.1]\n"
          ]
        },
        {
          "output_type": "stream",
          "name": "stdout",
          "text": [
            "Epoch [4/3000]: Train loss: 41.8599, Valid loss: 41.1397\n"
          ]
        },
        {
          "output_type": "stream",
          "name": "stderr",
          "text": [
            "Epoch [5/3000]: 100%|██████████| 7/7 [00:00<00:00, 136.34it/s, loss=37.5]\n"
          ]
        },
        {
          "output_type": "stream",
          "name": "stdout",
          "text": [
            "Epoch [5/3000]: Train loss: 39.6657, Valid loss: 42.1427\n"
          ]
        },
        {
          "output_type": "stream",
          "name": "stderr",
          "text": [
            "Epoch [6/3000]: 100%|██████████| 7/7 [00:00<00:00, 120.75it/s, loss=33.7]\n"
          ]
        },
        {
          "output_type": "stream",
          "name": "stdout",
          "text": [
            "Epoch [6/3000]: Train loss: 35.1550, Valid loss: 32.9502\n",
            "Saving model with loss 32.950...\n"
          ]
        },
        {
          "output_type": "stream",
          "name": "stderr",
          "text": [
            "Epoch [7/3000]: 100%|██████████| 7/7 [00:00<00:00, 123.73it/s, loss=31.2]\n"
          ]
        },
        {
          "output_type": "stream",
          "name": "stdout",
          "text": [
            "Epoch [7/3000]: Train loss: 31.6211, Valid loss: 32.9807\n"
          ]
        },
        {
          "output_type": "stream",
          "name": "stderr",
          "text": [
            "Epoch [8/3000]: 100%|██████████| 7/7 [00:00<00:00, 125.62it/s, loss=31.5]\n"
          ]
        },
        {
          "output_type": "stream",
          "name": "stdout",
          "text": [
            "Epoch [8/3000]: Train loss: 31.0049, Valid loss: 31.3574\n",
            "Saving model with loss 31.357...\n"
          ]
        },
        {
          "output_type": "stream",
          "name": "stderr",
          "text": [
            "Epoch [9/3000]: 100%|██████████| 7/7 [00:00<00:00, 137.45it/s, loss=27.8]\n"
          ]
        },
        {
          "output_type": "stream",
          "name": "stdout",
          "text": [
            "Epoch [9/3000]: Train loss: 31.9956, Valid loss: 34.1181\n"
          ]
        },
        {
          "output_type": "stream",
          "name": "stderr",
          "text": [
            "Epoch [10/3000]: 100%|██████████| 7/7 [00:00<00:00, 129.75it/s, loss=27.7]\n"
          ]
        },
        {
          "output_type": "stream",
          "name": "stdout",
          "text": [
            "Epoch [10/3000]: Train loss: 29.8207, Valid loss: 29.9424\n",
            "Saving model with loss 29.942...\n"
          ]
        },
        {
          "output_type": "stream",
          "name": "stderr",
          "text": [
            "Epoch [11/3000]: 100%|██████████| 7/7 [00:00<00:00, 138.10it/s, loss=29.4]\n"
          ]
        },
        {
          "output_type": "stream",
          "name": "stdout",
          "text": [
            "Epoch [11/3000]: Train loss: 29.1807, Valid loss: 29.5184\n",
            "Saving model with loss 29.518...\n"
          ]
        },
        {
          "output_type": "stream",
          "name": "stderr",
          "text": [
            "Epoch [12/3000]: 100%|██████████| 7/7 [00:00<00:00, 135.42it/s, loss=32.9]\n"
          ]
        },
        {
          "output_type": "stream",
          "name": "stdout",
          "text": [
            "Epoch [12/3000]: Train loss: 28.0444, Valid loss: 30.4722\n"
          ]
        },
        {
          "output_type": "stream",
          "name": "stderr",
          "text": [
            "Epoch [13/3000]: 100%|██████████| 7/7 [00:00<00:00, 136.88it/s, loss=26.1]\n"
          ]
        },
        {
          "output_type": "stream",
          "name": "stdout",
          "text": [
            "Epoch [13/3000]: Train loss: 27.0793, Valid loss: 26.6544\n",
            "Saving model with loss 26.654...\n"
          ]
        },
        {
          "output_type": "stream",
          "name": "stderr",
          "text": [
            "Epoch [14/3000]: 100%|██████████| 7/7 [00:00<00:00, 121.42it/s, loss=24.6]\n"
          ]
        },
        {
          "output_type": "stream",
          "name": "stdout",
          "text": [
            "Epoch [14/3000]: Train loss: 25.1270, Valid loss: 26.2626\n",
            "Saving model with loss 26.263...\n"
          ]
        },
        {
          "output_type": "stream",
          "name": "stderr",
          "text": [
            "Epoch [15/3000]: 100%|██████████| 7/7 [00:00<00:00, 101.18it/s, loss=24.1]\n"
          ]
        },
        {
          "output_type": "stream",
          "name": "stdout",
          "text": [
            "Epoch [15/3000]: Train loss: 24.6449, Valid loss: 23.1677\n",
            "Saving model with loss 23.168...\n"
          ]
        },
        {
          "output_type": "stream",
          "name": "stderr",
          "text": [
            "Epoch [16/3000]: 100%|██████████| 7/7 [00:00<00:00, 116.06it/s, loss=20.7]\n"
          ]
        },
        {
          "output_type": "stream",
          "name": "stdout",
          "text": [
            "Epoch [16/3000]: Train loss: 23.2496, Valid loss: 21.9515\n",
            "Saving model with loss 21.952...\n"
          ]
        },
        {
          "output_type": "stream",
          "name": "stderr",
          "text": [
            "Epoch [17/3000]: 100%|██████████| 7/7 [00:00<00:00, 119.86it/s, loss=20.8]\n"
          ]
        },
        {
          "output_type": "stream",
          "name": "stdout",
          "text": [
            "Epoch [17/3000]: Train loss: 20.7037, Valid loss: 19.9472\n",
            "Saving model with loss 19.947...\n"
          ]
        },
        {
          "output_type": "stream",
          "name": "stderr",
          "text": [
            "Epoch [18/3000]: 100%|██████████| 7/7 [00:00<00:00, 126.39it/s, loss=19.7]\n"
          ]
        },
        {
          "output_type": "stream",
          "name": "stdout",
          "text": [
            "Epoch [18/3000]: Train loss: 22.9517, Valid loss: 20.7413\n"
          ]
        },
        {
          "output_type": "stream",
          "name": "stderr",
          "text": [
            "Epoch [19/3000]: 100%|██████████| 7/7 [00:00<00:00, 137.97it/s, loss=20.3]\n"
          ]
        },
        {
          "output_type": "stream",
          "name": "stdout",
          "text": [
            "Epoch [19/3000]: Train loss: 19.3851, Valid loss: 16.2528\n",
            "Saving model with loss 16.253...\n"
          ]
        },
        {
          "output_type": "stream",
          "name": "stderr",
          "text": [
            "Epoch [20/3000]: 100%|██████████| 7/7 [00:00<00:00, 116.37it/s, loss=14.3]\n"
          ]
        },
        {
          "output_type": "stream",
          "name": "stdout",
          "text": [
            "Epoch [20/3000]: Train loss: 18.1021, Valid loss: 19.9997\n"
          ]
        },
        {
          "output_type": "stream",
          "name": "stderr",
          "text": [
            "Epoch [21/3000]: 100%|██████████| 7/7 [00:00<00:00, 132.86it/s, loss=14.5]\n"
          ]
        },
        {
          "output_type": "stream",
          "name": "stdout",
          "text": [
            "Epoch [21/3000]: Train loss: 16.3615, Valid loss: 13.9128\n",
            "Saving model with loss 13.913...\n"
          ]
        },
        {
          "output_type": "stream",
          "name": "stderr",
          "text": [
            "Epoch [22/3000]: 100%|██████████| 7/7 [00:00<00:00, 135.64it/s, loss=14.5]\n"
          ]
        },
        {
          "output_type": "stream",
          "name": "stdout",
          "text": [
            "Epoch [22/3000]: Train loss: 13.5896, Valid loss: 18.6086\n"
          ]
        },
        {
          "output_type": "stream",
          "name": "stderr",
          "text": [
            "Epoch [23/3000]: 100%|██████████| 7/7 [00:00<00:00, 124.70it/s, loss=17.3]\n"
          ]
        },
        {
          "output_type": "stream",
          "name": "stdout",
          "text": [
            "Epoch [23/3000]: Train loss: 16.9794, Valid loss: 18.6682\n"
          ]
        },
        {
          "output_type": "stream",
          "name": "stderr",
          "text": [
            "Epoch [24/3000]: 100%|██████████| 7/7 [00:00<00:00, 121.89it/s, loss=10.8]\n"
          ]
        },
        {
          "output_type": "stream",
          "name": "stdout",
          "text": [
            "Epoch [24/3000]: Train loss: 11.2041, Valid loss: 10.7514\n",
            "Saving model with loss 10.751...\n"
          ]
        },
        {
          "output_type": "stream",
          "name": "stderr",
          "text": [
            "Epoch [25/3000]: 100%|██████████| 7/7 [00:00<00:00, 120.88it/s, loss=10.9]\n"
          ]
        },
        {
          "output_type": "stream",
          "name": "stdout",
          "text": [
            "Epoch [25/3000]: Train loss: 11.3179, Valid loss: 8.7410\n",
            "Saving model with loss 8.741...\n"
          ]
        },
        {
          "output_type": "stream",
          "name": "stderr",
          "text": [
            "Epoch [26/3000]: 100%|██████████| 7/7 [00:00<00:00, 102.53it/s, loss=31.5]\n"
          ]
        },
        {
          "output_type": "stream",
          "name": "stdout",
          "text": [
            "Epoch [26/3000]: Train loss: 21.8212, Valid loss: 23.1787\n"
          ]
        },
        {
          "output_type": "stream",
          "name": "stderr",
          "text": [
            "Epoch [27/3000]: 100%|██████████| 7/7 [00:00<00:00, 121.73it/s, loss=10.9]\n"
          ]
        },
        {
          "output_type": "stream",
          "name": "stdout",
          "text": [
            "Epoch [27/3000]: Train loss: 25.3570, Valid loss: 34.2386\n"
          ]
        },
        {
          "output_type": "stream",
          "name": "stderr",
          "text": [
            "Epoch [28/3000]: 100%|██████████| 7/7 [00:00<00:00, 118.17it/s, loss=35.1]\n"
          ]
        },
        {
          "output_type": "stream",
          "name": "stdout",
          "text": [
            "Epoch [28/3000]: Train loss: 47.4928, Valid loss: 26.3465\n"
          ]
        },
        {
          "output_type": "stream",
          "name": "stderr",
          "text": [
            "Epoch [29/3000]: 100%|██████████| 7/7 [00:00<00:00, 114.82it/s, loss=31.6]\n"
          ]
        },
        {
          "output_type": "stream",
          "name": "stdout",
          "text": [
            "Epoch [29/3000]: Train loss: 34.3243, Valid loss: 40.4608\n"
          ]
        },
        {
          "output_type": "stream",
          "name": "stderr",
          "text": [
            "Epoch [30/3000]: 100%|██████████| 7/7 [00:00<00:00, 108.70it/s, loss=18.1]\n"
          ]
        },
        {
          "output_type": "stream",
          "name": "stdout",
          "text": [
            "Epoch [30/3000]: Train loss: 28.6235, Valid loss: 35.9569\n"
          ]
        },
        {
          "output_type": "stream",
          "name": "stderr",
          "text": [
            "Epoch [31/3000]: 100%|██████████| 7/7 [00:00<00:00, 133.06it/s, loss=17.2]\n"
          ]
        },
        {
          "output_type": "stream",
          "name": "stdout",
          "text": [
            "Epoch [31/3000]: Train loss: 21.1785, Valid loss: 17.4397\n"
          ]
        },
        {
          "output_type": "stream",
          "name": "stderr",
          "text": [
            "Epoch [32/3000]: 100%|██████████| 7/7 [00:00<00:00, 133.82it/s, loss=15.3]\n"
          ]
        },
        {
          "output_type": "stream",
          "name": "stdout",
          "text": [
            "Epoch [32/3000]: Train loss: 14.7761, Valid loss: 14.7858\n"
          ]
        },
        {
          "output_type": "stream",
          "name": "stderr",
          "text": [
            "Epoch [33/3000]: 100%|██████████| 7/7 [00:00<00:00, 118.01it/s, loss=12.1]\n"
          ]
        },
        {
          "output_type": "stream",
          "name": "stdout",
          "text": [
            "Epoch [33/3000]: Train loss: 13.7784, Valid loss: 17.5778\n"
          ]
        },
        {
          "output_type": "stream",
          "name": "stderr",
          "text": [
            "Epoch [34/3000]: 100%|██████████| 7/7 [00:00<00:00, 106.43it/s, loss=16.3]\n"
          ]
        },
        {
          "output_type": "stream",
          "name": "stdout",
          "text": [
            "Epoch [34/3000]: Train loss: 15.3703, Valid loss: 11.4734\n"
          ]
        },
        {
          "output_type": "stream",
          "name": "stderr",
          "text": [
            "Epoch [35/3000]: 100%|██████████| 7/7 [00:00<00:00, 126.44it/s, loss=12.4]\n"
          ]
        },
        {
          "output_type": "stream",
          "name": "stdout",
          "text": [
            "Epoch [35/3000]: Train loss: 12.0010, Valid loss: 9.8157\n"
          ]
        },
        {
          "output_type": "stream",
          "name": "stderr",
          "text": [
            "Epoch [36/3000]: 100%|██████████| 7/7 [00:00<00:00, 102.83it/s, loss=10.1]\n"
          ]
        },
        {
          "output_type": "stream",
          "name": "stdout",
          "text": [
            "Epoch [36/3000]: Train loss: 10.2905, Valid loss: 11.6251\n"
          ]
        },
        {
          "output_type": "stream",
          "name": "stderr",
          "text": [
            "Epoch [37/3000]: 100%|██████████| 7/7 [00:00<00:00, 99.57it/s, loss=13.4]\n"
          ]
        },
        {
          "output_type": "stream",
          "name": "stdout",
          "text": [
            "Epoch [37/3000]: Train loss: 11.3117, Valid loss: 8.0215\n",
            "Saving model with loss 8.021...\n"
          ]
        },
        {
          "output_type": "stream",
          "name": "stderr",
          "text": [
            "Epoch [38/3000]: 100%|██████████| 7/7 [00:00<00:00, 99.64it/s, loss=16]\n"
          ]
        },
        {
          "output_type": "stream",
          "name": "stdout",
          "text": [
            "Epoch [38/3000]: Train loss: 11.2228, Valid loss: 12.3677\n"
          ]
        },
        {
          "output_type": "stream",
          "name": "stderr",
          "text": [
            "Epoch [39/3000]: 100%|██████████| 7/7 [00:00<00:00, 105.06it/s, loss=48.2]\n"
          ]
        },
        {
          "output_type": "stream",
          "name": "stdout",
          "text": [
            "Epoch [39/3000]: Train loss: 26.0991, Valid loss: 51.7099\n"
          ]
        },
        {
          "output_type": "stream",
          "name": "stderr",
          "text": [
            "Epoch [40/3000]: 100%|██████████| 7/7 [00:00<00:00, 98.44it/s, loss=19.4]\n"
          ]
        },
        {
          "output_type": "stream",
          "name": "stdout",
          "text": [
            "Epoch [40/3000]: Train loss: 31.1523, Valid loss: 30.5345\n"
          ]
        },
        {
          "output_type": "stream",
          "name": "stderr",
          "text": [
            "Epoch [41/3000]: 100%|██████████| 7/7 [00:00<00:00, 136.82it/s, loss=26.8]\n"
          ]
        },
        {
          "output_type": "stream",
          "name": "stdout",
          "text": [
            "Epoch [41/3000]: Train loss: 27.2831, Valid loss: 24.5041\n"
          ]
        },
        {
          "output_type": "stream",
          "name": "stderr",
          "text": [
            "Epoch [42/3000]: 100%|██████████| 7/7 [00:00<00:00, 112.03it/s, loss=24]\n"
          ]
        },
        {
          "output_type": "stream",
          "name": "stdout",
          "text": [
            "Epoch [42/3000]: Train loss: 17.9880, Valid loss: 29.4288\n"
          ]
        },
        {
          "output_type": "stream",
          "name": "stderr",
          "text": [
            "Epoch [43/3000]: 100%|██████████| 7/7 [00:00<00:00, 113.06it/s, loss=15.6]\n"
          ]
        },
        {
          "output_type": "stream",
          "name": "stdout",
          "text": [
            "Epoch [43/3000]: Train loss: 18.0238, Valid loss: 13.6519\n"
          ]
        },
        {
          "output_type": "stream",
          "name": "stderr",
          "text": [
            "Epoch [44/3000]: 100%|██████████| 7/7 [00:00<00:00, 110.67it/s, loss=20.4]\n"
          ]
        },
        {
          "output_type": "stream",
          "name": "stdout",
          "text": [
            "Epoch [44/3000]: Train loss: 13.1997, Valid loss: 11.8612\n"
          ]
        },
        {
          "output_type": "stream",
          "name": "stderr",
          "text": [
            "Epoch [45/3000]: 100%|██████████| 7/7 [00:00<00:00, 105.37it/s, loss=7.45]\n"
          ]
        },
        {
          "output_type": "stream",
          "name": "stdout",
          "text": [
            "Epoch [45/3000]: Train loss: 14.4697, Valid loss: 16.2612\n"
          ]
        },
        {
          "output_type": "stream",
          "name": "stderr",
          "text": [
            "Epoch [46/3000]: 100%|██████████| 7/7 [00:00<00:00, 124.02it/s, loss=9.19]\n"
          ]
        },
        {
          "output_type": "stream",
          "name": "stdout",
          "text": [
            "Epoch [46/3000]: Train loss: 11.2664, Valid loss: 7.0484\n",
            "Saving model with loss 7.048...\n"
          ]
        },
        {
          "output_type": "stream",
          "name": "stderr",
          "text": [
            "Epoch [47/3000]: 100%|██████████| 7/7 [00:00<00:00, 133.32it/s, loss=6.41]\n"
          ]
        },
        {
          "output_type": "stream",
          "name": "stdout",
          "text": [
            "Epoch [47/3000]: Train loss: 7.6463, Valid loss: 7.5523\n"
          ]
        },
        {
          "output_type": "stream",
          "name": "stderr",
          "text": [
            "Epoch [48/3000]: 100%|██████████| 7/7 [00:00<00:00, 116.60it/s, loss=6.16]\n"
          ]
        },
        {
          "output_type": "stream",
          "name": "stdout",
          "text": [
            "Epoch [48/3000]: Train loss: 6.4072, Valid loss: 5.7980\n",
            "Saving model with loss 5.798...\n"
          ]
        },
        {
          "output_type": "stream",
          "name": "stderr",
          "text": [
            "Epoch [49/3000]: 100%|██████████| 7/7 [00:00<00:00, 92.72it/s, loss=6.05]\n"
          ]
        },
        {
          "output_type": "stream",
          "name": "stdout",
          "text": [
            "Epoch [49/3000]: Train loss: 6.7803, Valid loss: 8.8585\n"
          ]
        },
        {
          "output_type": "stream",
          "name": "stderr",
          "text": [
            "Epoch [50/3000]: 100%|██████████| 7/7 [00:00<00:00, 103.08it/s, loss=6.68]\n"
          ]
        },
        {
          "output_type": "stream",
          "name": "stdout",
          "text": [
            "Epoch [50/3000]: Train loss: 6.8361, Valid loss: 6.0978\n"
          ]
        },
        {
          "output_type": "stream",
          "name": "stderr",
          "text": [
            "Epoch [51/3000]: 100%|██████████| 7/7 [00:00<00:00, 110.32it/s, loss=6.98]\n"
          ]
        },
        {
          "output_type": "stream",
          "name": "stdout",
          "text": [
            "Epoch [51/3000]: Train loss: 6.5408, Valid loss: 5.8493\n"
          ]
        },
        {
          "output_type": "stream",
          "name": "stderr",
          "text": [
            "Epoch [52/3000]: 100%|██████████| 7/7 [00:00<00:00, 104.27it/s, loss=6.35]\n"
          ]
        },
        {
          "output_type": "stream",
          "name": "stdout",
          "text": [
            "Epoch [52/3000]: Train loss: 6.0724, Valid loss: 6.3395\n"
          ]
        },
        {
          "output_type": "stream",
          "name": "stderr",
          "text": [
            "Epoch [53/3000]: 100%|██████████| 7/7 [00:00<00:00, 110.17it/s, loss=9.01]\n"
          ]
        },
        {
          "output_type": "stream",
          "name": "stdout",
          "text": [
            "Epoch [53/3000]: Train loss: 7.1911, Valid loss: 7.2438\n"
          ]
        },
        {
          "output_type": "stream",
          "name": "stderr",
          "text": [
            "Epoch [54/3000]: 100%|██████████| 7/7 [00:00<00:00, 113.47it/s, loss=6.96]\n"
          ]
        },
        {
          "output_type": "stream",
          "name": "stdout",
          "text": [
            "Epoch [54/3000]: Train loss: 8.7244, Valid loss: 9.1922\n"
          ]
        },
        {
          "output_type": "stream",
          "name": "stderr",
          "text": [
            "Epoch [55/3000]: 100%|██████████| 7/7 [00:00<00:00, 101.24it/s, loss=9]\n"
          ]
        },
        {
          "output_type": "stream",
          "name": "stdout",
          "text": [
            "Epoch [55/3000]: Train loss: 7.6230, Valid loss: 8.9760\n"
          ]
        },
        {
          "output_type": "stream",
          "name": "stderr",
          "text": [
            "Epoch [56/3000]: 100%|██████████| 7/7 [00:00<00:00, 115.50it/s, loss=5.64]\n"
          ]
        },
        {
          "output_type": "stream",
          "name": "stdout",
          "text": [
            "Epoch [56/3000]: Train loss: 6.4470, Valid loss: 5.4700\n",
            "Saving model with loss 5.470...\n"
          ]
        },
        {
          "output_type": "stream",
          "name": "stderr",
          "text": [
            "Epoch [57/3000]: 100%|██████████| 7/7 [00:00<00:00, 108.10it/s, loss=6.63]\n"
          ]
        },
        {
          "output_type": "stream",
          "name": "stdout",
          "text": [
            "Epoch [57/3000]: Train loss: 6.8770, Valid loss: 8.2083\n"
          ]
        },
        {
          "output_type": "stream",
          "name": "stderr",
          "text": [
            "Epoch [58/3000]: 100%|██████████| 7/7 [00:00<00:00, 122.90it/s, loss=5.52]\n"
          ]
        },
        {
          "output_type": "stream",
          "name": "stdout",
          "text": [
            "Epoch [58/3000]: Train loss: 7.7309, Valid loss: 7.0382\n"
          ]
        },
        {
          "output_type": "stream",
          "name": "stderr",
          "text": [
            "Epoch [59/3000]: 100%|██████████| 7/7 [00:00<00:00, 105.58it/s, loss=6.45]\n"
          ]
        },
        {
          "output_type": "stream",
          "name": "stdout",
          "text": [
            "Epoch [59/3000]: Train loss: 6.6302, Valid loss: 5.8801\n"
          ]
        },
        {
          "output_type": "stream",
          "name": "stderr",
          "text": [
            "Epoch [60/3000]: 100%|██████████| 7/7 [00:00<00:00, 103.18it/s, loss=10.7]\n"
          ]
        },
        {
          "output_type": "stream",
          "name": "stdout",
          "text": [
            "Epoch [60/3000]: Train loss: 7.4404, Valid loss: 8.4828\n"
          ]
        },
        {
          "output_type": "stream",
          "name": "stderr",
          "text": [
            "Epoch [61/3000]: 100%|██████████| 7/7 [00:00<00:00, 121.15it/s, loss=4.46]\n"
          ]
        },
        {
          "output_type": "stream",
          "name": "stdout",
          "text": [
            "Epoch [61/3000]: Train loss: 7.3072, Valid loss: 13.5563\n"
          ]
        },
        {
          "output_type": "stream",
          "name": "stderr",
          "text": [
            "Epoch [62/3000]: 100%|██████████| 7/7 [00:00<00:00, 109.04it/s, loss=22.9]\n"
          ]
        },
        {
          "output_type": "stream",
          "name": "stdout",
          "text": [
            "Epoch [62/3000]: Train loss: 16.8078, Valid loss: 10.2259\n"
          ]
        },
        {
          "output_type": "stream",
          "name": "stderr",
          "text": [
            "Epoch [63/3000]: 100%|██████████| 7/7 [00:00<00:00, 112.87it/s, loss=13.6]\n"
          ]
        },
        {
          "output_type": "stream",
          "name": "stdout",
          "text": [
            "Epoch [63/3000]: Train loss: 12.9964, Valid loss: 9.0140\n"
          ]
        },
        {
          "output_type": "stream",
          "name": "stderr",
          "text": [
            "Epoch [64/3000]: 100%|██████████| 7/7 [00:00<00:00, 104.30it/s, loss=7.22]\n"
          ]
        },
        {
          "output_type": "stream",
          "name": "stdout",
          "text": [
            "Epoch [64/3000]: Train loss: 9.0013, Valid loss: 7.6421\n"
          ]
        },
        {
          "output_type": "stream",
          "name": "stderr",
          "text": [
            "Epoch [65/3000]: 100%|██████████| 7/7 [00:00<00:00, 102.46it/s, loss=6.03]\n"
          ]
        },
        {
          "output_type": "stream",
          "name": "stdout",
          "text": [
            "Epoch [65/3000]: Train loss: 6.9341, Valid loss: 7.5934\n"
          ]
        },
        {
          "output_type": "stream",
          "name": "stderr",
          "text": [
            "Epoch [66/3000]: 100%|██████████| 7/7 [00:00<00:00, 111.62it/s, loss=6.31]\n"
          ]
        },
        {
          "output_type": "stream",
          "name": "stdout",
          "text": [
            "Epoch [66/3000]: Train loss: 6.4005, Valid loss: 5.6990\n"
          ]
        },
        {
          "output_type": "stream",
          "name": "stderr",
          "text": [
            "Epoch [67/3000]: 100%|██████████| 7/7 [00:00<00:00, 107.86it/s, loss=7.03]\n"
          ]
        },
        {
          "output_type": "stream",
          "name": "stdout",
          "text": [
            "Epoch [67/3000]: Train loss: 5.8944, Valid loss: 5.8832\n"
          ]
        },
        {
          "output_type": "stream",
          "name": "stderr",
          "text": [
            "Epoch [68/3000]: 100%|██████████| 7/7 [00:00<00:00, 111.24it/s, loss=6.65]\n"
          ]
        },
        {
          "output_type": "stream",
          "name": "stdout",
          "text": [
            "Epoch [68/3000]: Train loss: 6.0633, Valid loss: 7.7903\n"
          ]
        },
        {
          "output_type": "stream",
          "name": "stderr",
          "text": [
            "Epoch [69/3000]: 100%|██████████| 7/7 [00:00<00:00, 110.31it/s, loss=5.79]\n"
          ]
        },
        {
          "output_type": "stream",
          "name": "stdout",
          "text": [
            "Epoch [69/3000]: Train loss: 6.5906, Valid loss: 5.3596\n",
            "Saving model with loss 5.360...\n"
          ]
        },
        {
          "output_type": "stream",
          "name": "stderr",
          "text": [
            "Epoch [70/3000]: 100%|██████████| 7/7 [00:00<00:00, 112.03it/s, loss=5.4]\n"
          ]
        },
        {
          "output_type": "stream",
          "name": "stdout",
          "text": [
            "Epoch [70/3000]: Train loss: 5.3959, Valid loss: 5.4174\n"
          ]
        },
        {
          "output_type": "stream",
          "name": "stderr",
          "text": [
            "Epoch [71/3000]: 100%|██████████| 7/7 [00:00<00:00, 118.74it/s, loss=6.23]\n"
          ]
        },
        {
          "output_type": "stream",
          "name": "stdout",
          "text": [
            "Epoch [71/3000]: Train loss: 5.8062, Valid loss: 7.0163\n"
          ]
        },
        {
          "output_type": "stream",
          "name": "stderr",
          "text": [
            "Epoch [72/3000]: 100%|██████████| 7/7 [00:00<00:00, 112.46it/s, loss=5.76]\n"
          ]
        },
        {
          "output_type": "stream",
          "name": "stdout",
          "text": [
            "Epoch [72/3000]: Train loss: 7.5743, Valid loss: 6.1547\n"
          ]
        },
        {
          "output_type": "stream",
          "name": "stderr",
          "text": [
            "Epoch [73/3000]: 100%|██████████| 7/7 [00:00<00:00, 103.61it/s, loss=6.19]\n"
          ]
        },
        {
          "output_type": "stream",
          "name": "stdout",
          "text": [
            "Epoch [73/3000]: Train loss: 5.7111, Valid loss: 6.1707\n"
          ]
        },
        {
          "output_type": "stream",
          "name": "stderr",
          "text": [
            "Epoch [74/3000]: 100%|██████████| 7/7 [00:00<00:00, 104.02it/s, loss=8.47]\n"
          ]
        },
        {
          "output_type": "stream",
          "name": "stdout",
          "text": [
            "Epoch [74/3000]: Train loss: 6.1161, Valid loss: 6.6772\n"
          ]
        },
        {
          "output_type": "stream",
          "name": "stderr",
          "text": [
            "Epoch [75/3000]: 100%|██████████| 7/7 [00:00<00:00, 118.34it/s, loss=11.4]\n"
          ]
        },
        {
          "output_type": "stream",
          "name": "stdout",
          "text": [
            "Epoch [75/3000]: Train loss: 9.4044, Valid loss: 5.7017\n"
          ]
        },
        {
          "output_type": "stream",
          "name": "stderr",
          "text": [
            "Epoch [76/3000]: 100%|██████████| 7/7 [00:00<00:00, 122.49it/s, loss=7.41]\n"
          ]
        },
        {
          "output_type": "stream",
          "name": "stdout",
          "text": [
            "Epoch [76/3000]: Train loss: 8.7217, Valid loss: 12.9092\n"
          ]
        },
        {
          "output_type": "stream",
          "name": "stderr",
          "text": [
            "Epoch [77/3000]: 100%|██████████| 7/7 [00:00<00:00, 111.41it/s, loss=5.71]\n"
          ]
        },
        {
          "output_type": "stream",
          "name": "stdout",
          "text": [
            "Epoch [77/3000]: Train loss: 7.4236, Valid loss: 5.9655\n"
          ]
        },
        {
          "output_type": "stream",
          "name": "stderr",
          "text": [
            "Epoch [78/3000]: 100%|██████████| 7/7 [00:00<00:00, 121.22it/s, loss=6.65]\n"
          ]
        },
        {
          "output_type": "stream",
          "name": "stdout",
          "text": [
            "Epoch [78/3000]: Train loss: 6.1810, Valid loss: 5.5785\n"
          ]
        },
        {
          "output_type": "stream",
          "name": "stderr",
          "text": [
            "Epoch [79/3000]: 100%|██████████| 7/7 [00:00<00:00, 98.49it/s, loss=5.24]\n"
          ]
        },
        {
          "output_type": "stream",
          "name": "stdout",
          "text": [
            "Epoch [79/3000]: Train loss: 5.6131, Valid loss: 6.4376\n"
          ]
        },
        {
          "output_type": "stream",
          "name": "stderr",
          "text": [
            "Epoch [80/3000]: 100%|██████████| 7/7 [00:00<00:00, 119.74it/s, loss=5.8]\n"
          ]
        },
        {
          "output_type": "stream",
          "name": "stdout",
          "text": [
            "Epoch [80/3000]: Train loss: 5.7132, Valid loss: 6.6068\n"
          ]
        },
        {
          "output_type": "stream",
          "name": "stderr",
          "text": [
            "Epoch [81/3000]: 100%|██████████| 7/7 [00:00<00:00, 116.65it/s, loss=5.49]\n"
          ]
        },
        {
          "output_type": "stream",
          "name": "stdout",
          "text": [
            "Epoch [81/3000]: Train loss: 6.1410, Valid loss: 5.5746\n"
          ]
        },
        {
          "output_type": "stream",
          "name": "stderr",
          "text": [
            "Epoch [82/3000]: 100%|██████████| 7/7 [00:00<00:00, 118.23it/s, loss=4.83]\n"
          ]
        },
        {
          "output_type": "stream",
          "name": "stdout",
          "text": [
            "Epoch [82/3000]: Train loss: 5.6267, Valid loss: 5.0197\n",
            "Saving model with loss 5.020...\n"
          ]
        },
        {
          "output_type": "stream",
          "name": "stderr",
          "text": [
            "Epoch [83/3000]: 100%|██████████| 7/7 [00:00<00:00, 115.05it/s, loss=5.51]\n"
          ]
        },
        {
          "output_type": "stream",
          "name": "stdout",
          "text": [
            "Epoch [83/3000]: Train loss: 5.3075, Valid loss: 5.4679\n"
          ]
        },
        {
          "output_type": "stream",
          "name": "stderr",
          "text": [
            "Epoch [84/3000]: 100%|██████████| 7/7 [00:00<00:00, 106.63it/s, loss=6.97]\n"
          ]
        },
        {
          "output_type": "stream",
          "name": "stdout",
          "text": [
            "Epoch [84/3000]: Train loss: 5.5446, Valid loss: 4.9091\n",
            "Saving model with loss 4.909...\n"
          ]
        },
        {
          "output_type": "stream",
          "name": "stderr",
          "text": [
            "Epoch [85/3000]: 100%|██████████| 7/7 [00:00<00:00, 91.65it/s, loss=5.56]\n"
          ]
        },
        {
          "output_type": "stream",
          "name": "stdout",
          "text": [
            "Epoch [85/3000]: Train loss: 5.1274, Valid loss: 5.1222\n"
          ]
        },
        {
          "output_type": "stream",
          "name": "stderr",
          "text": [
            "Epoch [86/3000]: 100%|██████████| 7/7 [00:00<00:00, 108.78it/s, loss=6.19]\n"
          ]
        },
        {
          "output_type": "stream",
          "name": "stdout",
          "text": [
            "Epoch [86/3000]: Train loss: 5.5952, Valid loss: 7.6910\n"
          ]
        },
        {
          "output_type": "stream",
          "name": "stderr",
          "text": [
            "Epoch [87/3000]: 100%|██████████| 7/7 [00:00<00:00, 97.67it/s, loss=6.05]\n"
          ]
        },
        {
          "output_type": "stream",
          "name": "stdout",
          "text": [
            "Epoch [87/3000]: Train loss: 6.7324, Valid loss: 6.2959\n"
          ]
        },
        {
          "output_type": "stream",
          "name": "stderr",
          "text": [
            "Epoch [88/3000]: 100%|██████████| 7/7 [00:00<00:00, 112.16it/s, loss=5.69]\n"
          ]
        },
        {
          "output_type": "stream",
          "name": "stdout",
          "text": [
            "Epoch [88/3000]: Train loss: 5.7670, Valid loss: 5.0851\n"
          ]
        },
        {
          "output_type": "stream",
          "name": "stderr",
          "text": [
            "Epoch [89/3000]: 100%|██████████| 7/7 [00:00<00:00, 96.10it/s, loss=5.19]\n"
          ]
        },
        {
          "output_type": "stream",
          "name": "stdout",
          "text": [
            "Epoch [89/3000]: Train loss: 5.1917, Valid loss: 5.0861\n"
          ]
        },
        {
          "output_type": "stream",
          "name": "stderr",
          "text": [
            "Epoch [90/3000]: 100%|██████████| 7/7 [00:00<00:00, 88.43it/s, loss=7.24]\n"
          ]
        },
        {
          "output_type": "stream",
          "name": "stdout",
          "text": [
            "Epoch [90/3000]: Train loss: 5.7233, Valid loss: 11.7528\n"
          ]
        },
        {
          "output_type": "stream",
          "name": "stderr",
          "text": [
            "Epoch [91/3000]: 100%|██████████| 7/7 [00:00<00:00, 113.59it/s, loss=4.9]\n"
          ]
        },
        {
          "output_type": "stream",
          "name": "stdout",
          "text": [
            "Epoch [91/3000]: Train loss: 9.8858, Valid loss: 10.9563\n"
          ]
        },
        {
          "output_type": "stream",
          "name": "stderr",
          "text": [
            "Epoch [92/3000]: 100%|██████████| 7/7 [00:00<00:00, 119.04it/s, loss=6.06]\n"
          ]
        },
        {
          "output_type": "stream",
          "name": "stdout",
          "text": [
            "Epoch [92/3000]: Train loss: 8.3744, Valid loss: 7.5269\n"
          ]
        },
        {
          "output_type": "stream",
          "name": "stderr",
          "text": [
            "Epoch [93/3000]: 100%|██████████| 7/7 [00:00<00:00, 99.16it/s, loss=7.54]\n"
          ]
        },
        {
          "output_type": "stream",
          "name": "stdout",
          "text": [
            "Epoch [93/3000]: Train loss: 7.0510, Valid loss: 5.1658\n"
          ]
        },
        {
          "output_type": "stream",
          "name": "stderr",
          "text": [
            "Epoch [94/3000]: 100%|██████████| 7/7 [00:00<00:00, 19.34it/s, loss=5.66]\n"
          ]
        },
        {
          "output_type": "stream",
          "name": "stdout",
          "text": [
            "Epoch [94/3000]: Train loss: 6.2207, Valid loss: 5.2644\n"
          ]
        },
        {
          "output_type": "stream",
          "name": "stderr",
          "text": [
            "Epoch [95/3000]: 100%|██████████| 7/7 [00:00<00:00, 101.25it/s, loss=7.4]\n"
          ]
        },
        {
          "output_type": "stream",
          "name": "stdout",
          "text": [
            "Epoch [95/3000]: Train loss: 6.0938, Valid loss: 5.4913\n"
          ]
        },
        {
          "output_type": "stream",
          "name": "stderr",
          "text": [
            "Epoch [96/3000]: 100%|██████████| 7/7 [00:00<00:00, 92.82it/s, loss=6.07]\n"
          ]
        },
        {
          "output_type": "stream",
          "name": "stdout",
          "text": [
            "Epoch [96/3000]: Train loss: 5.8855, Valid loss: 9.2289\n"
          ]
        },
        {
          "output_type": "stream",
          "name": "stderr",
          "text": [
            "Epoch [97/3000]: 100%|██████████| 7/7 [00:00<00:00, 121.32it/s, loss=5.23]\n"
          ]
        },
        {
          "output_type": "stream",
          "name": "stdout",
          "text": [
            "Epoch [97/3000]: Train loss: 6.3536, Valid loss: 5.3949\n"
          ]
        },
        {
          "output_type": "stream",
          "name": "stderr",
          "text": [
            "Epoch [98/3000]: 100%|██████████| 7/7 [00:00<00:00, 113.44it/s, loss=4.66]\n"
          ]
        },
        {
          "output_type": "stream",
          "name": "stdout",
          "text": [
            "Epoch [98/3000]: Train loss: 5.3515, Valid loss: 5.0128\n"
          ]
        },
        {
          "output_type": "stream",
          "name": "stderr",
          "text": [
            "Epoch [99/3000]: 100%|██████████| 7/7 [00:00<00:00, 116.29it/s, loss=8.06]\n"
          ]
        },
        {
          "output_type": "stream",
          "name": "stdout",
          "text": [
            "Epoch [99/3000]: Train loss: 6.1987, Valid loss: 5.0933\n"
          ]
        },
        {
          "output_type": "stream",
          "name": "stderr",
          "text": [
            "Epoch [100/3000]: 100%|██████████| 7/7 [00:00<00:00, 113.24it/s, loss=8.27]\n"
          ]
        },
        {
          "output_type": "stream",
          "name": "stdout",
          "text": [
            "Epoch [100/3000]: Train loss: 6.9470, Valid loss: 10.5305\n"
          ]
        },
        {
          "output_type": "stream",
          "name": "stderr",
          "text": [
            "Epoch [101/3000]: 100%|██████████| 7/7 [00:00<00:00, 118.55it/s, loss=5.8]\n"
          ]
        },
        {
          "output_type": "stream",
          "name": "stdout",
          "text": [
            "Epoch [101/3000]: Train loss: 8.4884, Valid loss: 13.6321\n"
          ]
        },
        {
          "output_type": "stream",
          "name": "stderr",
          "text": [
            "Epoch [102/3000]: 100%|██████████| 7/7 [00:00<00:00, 127.89it/s, loss=8.72]\n"
          ]
        },
        {
          "output_type": "stream",
          "name": "stdout",
          "text": [
            "Epoch [102/3000]: Train loss: 8.6850, Valid loss: 5.8024\n"
          ]
        },
        {
          "output_type": "stream",
          "name": "stderr",
          "text": [
            "Epoch [103/3000]: 100%|██████████| 7/7 [00:00<00:00, 116.64it/s, loss=6.75]\n"
          ]
        },
        {
          "output_type": "stream",
          "name": "stdout",
          "text": [
            "Epoch [103/3000]: Train loss: 7.4575, Valid loss: 8.2108\n"
          ]
        },
        {
          "output_type": "stream",
          "name": "stderr",
          "text": [
            "Epoch [104/3000]: 100%|██████████| 7/7 [00:00<00:00, 117.19it/s, loss=7.9]\n"
          ]
        },
        {
          "output_type": "stream",
          "name": "stdout",
          "text": [
            "Epoch [104/3000]: Train loss: 6.9130, Valid loss: 7.4989\n"
          ]
        },
        {
          "output_type": "stream",
          "name": "stderr",
          "text": [
            "Epoch [105/3000]: 100%|██████████| 7/7 [00:00<00:00, 115.35it/s, loss=6.34]\n"
          ]
        },
        {
          "output_type": "stream",
          "name": "stdout",
          "text": [
            "Epoch [105/3000]: Train loss: 6.5327, Valid loss: 8.4346\n"
          ]
        },
        {
          "output_type": "stream",
          "name": "stderr",
          "text": [
            "Epoch [106/3000]: 100%|██████████| 7/7 [00:00<00:00, 104.69it/s, loss=7.45]\n"
          ]
        },
        {
          "output_type": "stream",
          "name": "stdout",
          "text": [
            "Epoch [106/3000]: Train loss: 7.6384, Valid loss: 8.7765\n"
          ]
        },
        {
          "output_type": "stream",
          "name": "stderr",
          "text": [
            "Epoch [107/3000]: 100%|██████████| 7/7 [00:00<00:00, 97.54it/s, loss=4.79]\n"
          ]
        },
        {
          "output_type": "stream",
          "name": "stdout",
          "text": [
            "Epoch [107/3000]: Train loss: 6.1978, Valid loss: 5.1835\n"
          ]
        },
        {
          "output_type": "stream",
          "name": "stderr",
          "text": [
            "Epoch [108/3000]: 100%|██████████| 7/7 [00:00<00:00, 90.36it/s, loss=8.74]\n"
          ]
        },
        {
          "output_type": "stream",
          "name": "stdout",
          "text": [
            "Epoch [108/3000]: Train loss: 6.1675, Valid loss: 5.1500\n"
          ]
        },
        {
          "output_type": "stream",
          "name": "stderr",
          "text": [
            "Epoch [109/3000]: 100%|██████████| 7/7 [00:00<00:00, 119.47it/s, loss=11.7]\n"
          ]
        },
        {
          "output_type": "stream",
          "name": "stdout",
          "text": [
            "Epoch [109/3000]: Train loss: 9.9564, Valid loss: 18.1823\n"
          ]
        },
        {
          "output_type": "stream",
          "name": "stderr",
          "text": [
            "Epoch [110/3000]: 100%|██████████| 7/7 [00:00<00:00, 112.60it/s, loss=19.1]\n"
          ]
        },
        {
          "output_type": "stream",
          "name": "stdout",
          "text": [
            "Epoch [110/3000]: Train loss: 13.9346, Valid loss: 6.3992\n"
          ]
        },
        {
          "output_type": "stream",
          "name": "stderr",
          "text": [
            "Epoch [111/3000]: 100%|██████████| 7/7 [00:00<00:00, 116.87it/s, loss=12.7]\n"
          ]
        },
        {
          "output_type": "stream",
          "name": "stdout",
          "text": [
            "Epoch [111/3000]: Train loss: 9.9208, Valid loss: 7.6562\n"
          ]
        },
        {
          "output_type": "stream",
          "name": "stderr",
          "text": [
            "Epoch [112/3000]: 100%|██████████| 7/7 [00:00<00:00, 114.99it/s, loss=9.14]\n"
          ]
        },
        {
          "output_type": "stream",
          "name": "stdout",
          "text": [
            "Epoch [112/3000]: Train loss: 7.5519, Valid loss: 5.1493\n"
          ]
        },
        {
          "output_type": "stream",
          "name": "stderr",
          "text": [
            "Epoch [113/3000]: 100%|██████████| 7/7 [00:00<00:00, 120.63it/s, loss=7.53]\n"
          ]
        },
        {
          "output_type": "stream",
          "name": "stdout",
          "text": [
            "Epoch [113/3000]: Train loss: 6.3717, Valid loss: 5.1958\n"
          ]
        },
        {
          "output_type": "stream",
          "name": "stderr",
          "text": [
            "Epoch [114/3000]: 100%|██████████| 7/7 [00:00<00:00, 107.19it/s, loss=4.56]\n"
          ]
        },
        {
          "output_type": "stream",
          "name": "stdout",
          "text": [
            "Epoch [114/3000]: Train loss: 6.1780, Valid loss: 6.3467\n"
          ]
        },
        {
          "output_type": "stream",
          "name": "stderr",
          "text": [
            "Epoch [115/3000]: 100%|██████████| 7/7 [00:00<00:00, 96.69it/s, loss=6.95]\n"
          ]
        },
        {
          "output_type": "stream",
          "name": "stdout",
          "text": [
            "Epoch [115/3000]: Train loss: 6.5043, Valid loss: 4.8189\n",
            "Saving model with loss 4.819...\n"
          ]
        },
        {
          "output_type": "stream",
          "name": "stderr",
          "text": [
            "Epoch [116/3000]: 100%|██████████| 7/7 [00:00<00:00, 123.18it/s, loss=4.4]\n"
          ]
        },
        {
          "output_type": "stream",
          "name": "stdout",
          "text": [
            "Epoch [116/3000]: Train loss: 5.5830, Valid loss: 6.2813\n"
          ]
        },
        {
          "output_type": "stream",
          "name": "stderr",
          "text": [
            "Epoch [117/3000]: 100%|██████████| 7/7 [00:00<00:00, 108.43it/s, loss=5.19]\n"
          ]
        },
        {
          "output_type": "stream",
          "name": "stdout",
          "text": [
            "Epoch [117/3000]: Train loss: 5.9320, Valid loss: 5.7957\n"
          ]
        },
        {
          "output_type": "stream",
          "name": "stderr",
          "text": [
            "Epoch [118/3000]: 100%|██████████| 7/7 [00:00<00:00, 98.92it/s, loss=6.17]\n"
          ]
        },
        {
          "output_type": "stream",
          "name": "stdout",
          "text": [
            "Epoch [118/3000]: Train loss: 5.2845, Valid loss: 5.5374\n"
          ]
        },
        {
          "output_type": "stream",
          "name": "stderr",
          "text": [
            "Epoch [119/3000]: 100%|██████████| 7/7 [00:00<00:00, 93.79it/s, loss=7.07]\n"
          ]
        },
        {
          "output_type": "stream",
          "name": "stdout",
          "text": [
            "Epoch [119/3000]: Train loss: 6.1134, Valid loss: 4.6060\n",
            "Saving model with loss 4.606...\n"
          ]
        },
        {
          "output_type": "stream",
          "name": "stderr",
          "text": [
            "Epoch [120/3000]: 100%|██████████| 7/7 [00:00<00:00, 116.11it/s, loss=7.17]\n"
          ]
        },
        {
          "output_type": "stream",
          "name": "stdout",
          "text": [
            "Epoch [120/3000]: Train loss: 6.9156, Valid loss: 4.9193\n"
          ]
        },
        {
          "output_type": "stream",
          "name": "stderr",
          "text": [
            "Epoch [121/3000]: 100%|██████████| 7/7 [00:00<00:00, 122.62it/s, loss=6.26]\n"
          ]
        },
        {
          "output_type": "stream",
          "name": "stdout",
          "text": [
            "Epoch [121/3000]: Train loss: 5.3064, Valid loss: 5.3091\n"
          ]
        },
        {
          "output_type": "stream",
          "name": "stderr",
          "text": [
            "Epoch [122/3000]: 100%|██████████| 7/7 [00:00<00:00, 130.54it/s, loss=4.48]\n"
          ]
        },
        {
          "output_type": "stream",
          "name": "stdout",
          "text": [
            "Epoch [122/3000]: Train loss: 5.2647, Valid loss: 5.1818\n"
          ]
        },
        {
          "output_type": "stream",
          "name": "stderr",
          "text": [
            "Epoch [123/3000]: 100%|██████████| 7/7 [00:00<00:00, 101.19it/s, loss=5.27]\n"
          ]
        },
        {
          "output_type": "stream",
          "name": "stdout",
          "text": [
            "Epoch [123/3000]: Train loss: 5.2025, Valid loss: 4.6729\n"
          ]
        },
        {
          "output_type": "stream",
          "name": "stderr",
          "text": [
            "Epoch [124/3000]: 100%|██████████| 7/7 [00:00<00:00, 113.41it/s, loss=5.05]\n"
          ]
        },
        {
          "output_type": "stream",
          "name": "stdout",
          "text": [
            "Epoch [124/3000]: Train loss: 5.2684, Valid loss: 7.1332\n"
          ]
        },
        {
          "output_type": "stream",
          "name": "stderr",
          "text": [
            "Epoch [125/3000]: 100%|██████████| 7/7 [00:00<00:00, 122.30it/s, loss=4.07]\n"
          ]
        },
        {
          "output_type": "stream",
          "name": "stdout",
          "text": [
            "Epoch [125/3000]: Train loss: 5.4073, Valid loss: 4.5141\n",
            "Saving model with loss 4.514...\n"
          ]
        },
        {
          "output_type": "stream",
          "name": "stderr",
          "text": [
            "Epoch [126/3000]: 100%|██████████| 7/7 [00:00<00:00, 132.41it/s, loss=4.33]\n"
          ]
        },
        {
          "output_type": "stream",
          "name": "stdout",
          "text": [
            "Epoch [126/3000]: Train loss: 4.7750, Valid loss: 4.7669\n"
          ]
        },
        {
          "output_type": "stream",
          "name": "stderr",
          "text": [
            "Epoch [127/3000]: 100%|██████████| 7/7 [00:00<00:00, 126.40it/s, loss=6.21]\n"
          ]
        },
        {
          "output_type": "stream",
          "name": "stdout",
          "text": [
            "Epoch [127/3000]: Train loss: 4.9265, Valid loss: 6.0578\n"
          ]
        },
        {
          "output_type": "stream",
          "name": "stderr",
          "text": [
            "Epoch [128/3000]: 100%|██████████| 7/7 [00:00<00:00, 126.44it/s, loss=5.77]\n"
          ]
        },
        {
          "output_type": "stream",
          "name": "stdout",
          "text": [
            "Epoch [128/3000]: Train loss: 5.3269, Valid loss: 6.5819\n"
          ]
        },
        {
          "output_type": "stream",
          "name": "stderr",
          "text": [
            "Epoch [129/3000]: 100%|██████████| 7/7 [00:00<00:00, 127.22it/s, loss=4.32]\n"
          ]
        },
        {
          "output_type": "stream",
          "name": "stdout",
          "text": [
            "Epoch [129/3000]: Train loss: 5.7696, Valid loss: 5.1900\n"
          ]
        },
        {
          "output_type": "stream",
          "name": "stderr",
          "text": [
            "Epoch [130/3000]: 100%|██████████| 7/7 [00:00<00:00, 128.61it/s, loss=6.45]\n"
          ]
        },
        {
          "output_type": "stream",
          "name": "stdout",
          "text": [
            "Epoch [130/3000]: Train loss: 5.1344, Valid loss: 4.6439\n"
          ]
        },
        {
          "output_type": "stream",
          "name": "stderr",
          "text": [
            "Epoch [131/3000]: 100%|██████████| 7/7 [00:00<00:00, 128.92it/s, loss=4.43]\n"
          ]
        },
        {
          "output_type": "stream",
          "name": "stdout",
          "text": [
            "Epoch [131/3000]: Train loss: 4.7837, Valid loss: 5.5494\n"
          ]
        },
        {
          "output_type": "stream",
          "name": "stderr",
          "text": [
            "Epoch [132/3000]: 100%|██████████| 7/7 [00:00<00:00, 128.55it/s, loss=4.81]"
          ]
        },
        {
          "output_type": "stream",
          "name": "stdout",
          "text": [
            "Epoch [132/3000]: Train loss: 5.4118, Valid loss: 4.7634"
          ]
        },
        {
          "output_type": "stream",
          "name": "stderr",
          "text": [
            "\n"
          ]
        },
        {
          "output_type": "stream",
          "name": "stdout",
          "text": [
            "\n"
          ]
        },
        {
          "output_type": "stream",
          "name": "stderr",
          "text": [
            "Epoch [133/3000]: 100%|██████████| 7/7 [00:00<00:00, 130.09it/s, loss=5.22]"
          ]
        },
        {
          "output_type": "stream",
          "name": "stdout",
          "text": [
            "Epoch [133/3000]: Train loss: 4.9366, Valid loss: 4.5115"
          ]
        },
        {
          "output_type": "stream",
          "name": "stderr",
          "text": [
            "\n"
          ]
        },
        {
          "output_type": "stream",
          "name": "stdout",
          "text": [
            "\n",
            "Saving model with loss 4.511...\n"
          ]
        },
        {
          "output_type": "stream",
          "name": "stderr",
          "text": [
            "Epoch [134/3000]: 100%|██████████| 7/7 [00:00<00:00, 110.28it/s, loss=5.19]\n"
          ]
        },
        {
          "output_type": "stream",
          "name": "stdout",
          "text": [
            "Epoch [134/3000]: Train loss: 4.6781, Valid loss: 5.1941\n"
          ]
        },
        {
          "output_type": "stream",
          "name": "stderr",
          "text": [
            "Epoch [135/3000]: 100%|██████████| 7/7 [00:00<00:00, 128.26it/s, loss=3.92]\n"
          ]
        },
        {
          "output_type": "stream",
          "name": "stdout",
          "text": [
            "Epoch [135/3000]: Train loss: 4.8046, Valid loss: 5.0634\n"
          ]
        },
        {
          "output_type": "stream",
          "name": "stderr",
          "text": [
            "Epoch [136/3000]: 100%|██████████| 7/7 [00:00<00:00, 124.77it/s, loss=5.01]\n"
          ]
        },
        {
          "output_type": "stream",
          "name": "stdout",
          "text": [
            "Epoch [136/3000]: Train loss: 4.7960, Valid loss: 4.5850\n"
          ]
        },
        {
          "output_type": "stream",
          "name": "stderr",
          "text": [
            "Epoch [137/3000]: 100%|██████████| 7/7 [00:00<00:00, 112.94it/s, loss=3.73]\n"
          ]
        },
        {
          "output_type": "stream",
          "name": "stdout",
          "text": [
            "Epoch [137/3000]: Train loss: 4.8215, Valid loss: 4.5740\n"
          ]
        },
        {
          "output_type": "stream",
          "name": "stderr",
          "text": [
            "Epoch [138/3000]: 100%|██████████| 7/7 [00:00<00:00, 132.58it/s, loss=4.52]\n"
          ]
        },
        {
          "output_type": "stream",
          "name": "stdout",
          "text": [
            "Epoch [138/3000]: Train loss: 5.0901, Valid loss: 6.6275\n"
          ]
        },
        {
          "output_type": "stream",
          "name": "stderr",
          "text": [
            "Epoch [139/3000]: 100%|██████████| 7/7 [00:00<00:00, 126.93it/s, loss=5.09]\n"
          ]
        },
        {
          "output_type": "stream",
          "name": "stdout",
          "text": [
            "Epoch [139/3000]: Train loss: 5.2891, Valid loss: 4.4171\n",
            "Saving model with loss 4.417...\n"
          ]
        },
        {
          "output_type": "stream",
          "name": "stderr",
          "text": [
            "Epoch [140/3000]: 100%|██████████| 7/7 [00:00<00:00, 122.06it/s, loss=3.82]\n"
          ]
        },
        {
          "output_type": "stream",
          "name": "stdout",
          "text": [
            "Epoch [140/3000]: Train loss: 5.0994, Valid loss: 4.4234\n"
          ]
        },
        {
          "output_type": "stream",
          "name": "stderr",
          "text": [
            "Epoch [141/3000]: 100%|██████████| 7/7 [00:00<00:00, 113.56it/s, loss=3.09]\n"
          ]
        },
        {
          "output_type": "stream",
          "name": "stdout",
          "text": [
            "Epoch [141/3000]: Train loss: 4.4355, Valid loss: 4.6340\n"
          ]
        },
        {
          "output_type": "stream",
          "name": "stderr",
          "text": [
            "Epoch [142/3000]: 100%|██████████| 7/7 [00:00<00:00, 125.21it/s, loss=4.75]\n"
          ]
        },
        {
          "output_type": "stream",
          "name": "stdout",
          "text": [
            "Epoch [142/3000]: Train loss: 4.5031, Valid loss: 4.5084\n"
          ]
        },
        {
          "output_type": "stream",
          "name": "stderr",
          "text": [
            "Epoch [143/3000]: 100%|██████████| 7/7 [00:00<00:00, 131.62it/s, loss=4.84]\n"
          ]
        },
        {
          "output_type": "stream",
          "name": "stdout",
          "text": [
            "Epoch [143/3000]: Train loss: 4.8530, Valid loss: 5.0813\n"
          ]
        },
        {
          "output_type": "stream",
          "name": "stderr",
          "text": [
            "Epoch [144/3000]: 100%|██████████| 7/7 [00:00<00:00, 136.96it/s, loss=4.33]\n"
          ]
        },
        {
          "output_type": "stream",
          "name": "stdout",
          "text": [
            "Epoch [144/3000]: Train loss: 5.0763, Valid loss: 5.5373\n"
          ]
        },
        {
          "output_type": "stream",
          "name": "stderr",
          "text": [
            "Epoch [145/3000]: 100%|██████████| 7/7 [00:00<00:00, 121.14it/s, loss=5.68]\n"
          ]
        },
        {
          "output_type": "stream",
          "name": "stdout",
          "text": [
            "Epoch [145/3000]: Train loss: 5.0077, Valid loss: 4.6743\n"
          ]
        },
        {
          "output_type": "stream",
          "name": "stderr",
          "text": [
            "Epoch [146/3000]: 100%|██████████| 7/7 [00:00<00:00, 123.14it/s, loss=4.46]\n"
          ]
        },
        {
          "output_type": "stream",
          "name": "stdout",
          "text": [
            "Epoch [146/3000]: Train loss: 5.0648, Valid loss: 4.4994\n"
          ]
        },
        {
          "output_type": "stream",
          "name": "stderr",
          "text": [
            "Epoch [147/3000]: 100%|██████████| 7/7 [00:00<00:00, 126.97it/s, loss=7.35]\n"
          ]
        },
        {
          "output_type": "stream",
          "name": "stdout",
          "text": [
            "Epoch [147/3000]: Train loss: 5.3664, Valid loss: 4.3896\n",
            "Saving model with loss 4.390...\n"
          ]
        },
        {
          "output_type": "stream",
          "name": "stderr",
          "text": [
            "Epoch [148/3000]: 100%|██████████| 7/7 [00:00<00:00, 131.46it/s, loss=5.17]\n"
          ]
        },
        {
          "output_type": "stream",
          "name": "stdout",
          "text": [
            "Epoch [148/3000]: Train loss: 5.2163, Valid loss: 4.9091\n"
          ]
        },
        {
          "output_type": "stream",
          "name": "stderr",
          "text": [
            "Epoch [149/3000]: 100%|██████████| 7/7 [00:00<00:00, 116.08it/s, loss=4.44]\n"
          ]
        },
        {
          "output_type": "stream",
          "name": "stdout",
          "text": [
            "Epoch [149/3000]: Train loss: 4.6001, Valid loss: 4.5267\n"
          ]
        },
        {
          "output_type": "stream",
          "name": "stderr",
          "text": [
            "Epoch [150/3000]: 100%|██████████| 7/7 [00:00<00:00, 122.54it/s, loss=4.92]\n"
          ]
        },
        {
          "output_type": "stream",
          "name": "stdout",
          "text": [
            "Epoch [150/3000]: Train loss: 4.5525, Valid loss: 4.2779\n",
            "Saving model with loss 4.278...\n"
          ]
        },
        {
          "output_type": "stream",
          "name": "stderr",
          "text": [
            "Epoch [151/3000]: 100%|██████████| 7/7 [00:00<00:00, 128.25it/s, loss=4.62]\n"
          ]
        },
        {
          "output_type": "stream",
          "name": "stdout",
          "text": [
            "Epoch [151/3000]: Train loss: 4.4272, Valid loss: 5.0367\n"
          ]
        },
        {
          "output_type": "stream",
          "name": "stderr",
          "text": [
            "Epoch [152/3000]: 100%|██████████| 7/7 [00:00<00:00, 124.84it/s, loss=4.82]\n"
          ]
        },
        {
          "output_type": "stream",
          "name": "stdout",
          "text": [
            "Epoch [152/3000]: Train loss: 4.4565, Valid loss: 4.8516\n"
          ]
        },
        {
          "output_type": "stream",
          "name": "stderr",
          "text": [
            "Epoch [153/3000]: 100%|██████████| 7/7 [00:00<00:00, 133.85it/s, loss=4.24]\n"
          ]
        },
        {
          "output_type": "stream",
          "name": "stdout",
          "text": [
            "Epoch [153/3000]: Train loss: 4.9843, Valid loss: 4.5006\n"
          ]
        },
        {
          "output_type": "stream",
          "name": "stderr",
          "text": [
            "Epoch [154/3000]: 100%|██████████| 7/7 [00:00<00:00, 130.86it/s, loss=4.46]\n"
          ]
        },
        {
          "output_type": "stream",
          "name": "stdout",
          "text": [
            "Epoch [154/3000]: Train loss: 4.5962, Valid loss: 4.2683\n",
            "Saving model with loss 4.268...\n"
          ]
        },
        {
          "output_type": "stream",
          "name": "stderr",
          "text": [
            "Epoch [155/3000]: 100%|██████████| 7/7 [00:00<00:00, 121.70it/s, loss=6.1]\n"
          ]
        },
        {
          "output_type": "stream",
          "name": "stdout",
          "text": [
            "Epoch [155/3000]: Train loss: 4.7756, Valid loss: 5.9938\n"
          ]
        },
        {
          "output_type": "stream",
          "name": "stderr",
          "text": [
            "Epoch [156/3000]: 100%|██████████| 7/7 [00:00<00:00, 125.40it/s, loss=5.41]\n"
          ]
        },
        {
          "output_type": "stream",
          "name": "stdout",
          "text": [
            "Epoch [156/3000]: Train loss: 5.3005, Valid loss: 5.2678\n"
          ]
        },
        {
          "output_type": "stream",
          "name": "stderr",
          "text": [
            "Epoch [157/3000]: 100%|██████████| 7/7 [00:00<00:00, 105.37it/s, loss=4.53]\n"
          ]
        },
        {
          "output_type": "stream",
          "name": "stdout",
          "text": [
            "Epoch [157/3000]: Train loss: 5.8335, Valid loss: 7.8936\n"
          ]
        },
        {
          "output_type": "stream",
          "name": "stderr",
          "text": [
            "Epoch [158/3000]: 100%|██████████| 7/7 [00:00<00:00, 132.81it/s, loss=4.95]\n"
          ]
        },
        {
          "output_type": "stream",
          "name": "stdout",
          "text": [
            "Epoch [158/3000]: Train loss: 5.5071, Valid loss: 4.9360\n"
          ]
        },
        {
          "output_type": "stream",
          "name": "stderr",
          "text": [
            "Epoch [159/3000]: 100%|██████████| 7/7 [00:00<00:00, 123.58it/s, loss=6.98]\n"
          ]
        },
        {
          "output_type": "stream",
          "name": "stdout",
          "text": [
            "Epoch [159/3000]: Train loss: 5.6352, Valid loss: 4.2892\n"
          ]
        },
        {
          "output_type": "stream",
          "name": "stderr",
          "text": [
            "Epoch [160/3000]: 100%|██████████| 7/7 [00:00<00:00, 123.28it/s, loss=5.04]\n"
          ]
        },
        {
          "output_type": "stream",
          "name": "stdout",
          "text": [
            "Epoch [160/3000]: Train loss: 5.4801, Valid loss: 5.8123\n"
          ]
        },
        {
          "output_type": "stream",
          "name": "stderr",
          "text": [
            "Epoch [161/3000]: 100%|██████████| 7/7 [00:00<00:00, 127.59it/s, loss=5.97]\n"
          ]
        },
        {
          "output_type": "stream",
          "name": "stdout",
          "text": [
            "Epoch [161/3000]: Train loss: 6.7268, Valid loss: 7.2151\n"
          ]
        },
        {
          "output_type": "stream",
          "name": "stderr",
          "text": [
            "Epoch [162/3000]: 100%|██████████| 7/7 [00:00<00:00, 124.12it/s, loss=5.58]\n"
          ]
        },
        {
          "output_type": "stream",
          "name": "stdout",
          "text": [
            "Epoch [162/3000]: Train loss: 6.0123, Valid loss: 5.2961\n"
          ]
        },
        {
          "output_type": "stream",
          "name": "stderr",
          "text": [
            "Epoch [163/3000]: 100%|██████████| 7/7 [00:00<00:00, 127.25it/s, loss=6.4]\n"
          ]
        },
        {
          "output_type": "stream",
          "name": "stdout",
          "text": [
            "Epoch [163/3000]: Train loss: 5.8936, Valid loss: 6.5820\n"
          ]
        },
        {
          "output_type": "stream",
          "name": "stderr",
          "text": [
            "Epoch [164/3000]: 100%|██████████| 7/7 [00:00<00:00, 114.08it/s, loss=5.13]\n"
          ]
        },
        {
          "output_type": "stream",
          "name": "stdout",
          "text": [
            "Epoch [164/3000]: Train loss: 5.4384, Valid loss: 4.7687\n"
          ]
        },
        {
          "output_type": "stream",
          "name": "stderr",
          "text": [
            "Epoch [165/3000]: 100%|██████████| 7/7 [00:00<00:00, 133.38it/s, loss=4.08]\n"
          ]
        },
        {
          "output_type": "stream",
          "name": "stdout",
          "text": [
            "Epoch [165/3000]: Train loss: 5.0038, Valid loss: 4.8374\n"
          ]
        },
        {
          "output_type": "stream",
          "name": "stderr",
          "text": [
            "Epoch [166/3000]: 100%|██████████| 7/7 [00:00<00:00, 124.79it/s, loss=5.23]\n"
          ]
        },
        {
          "output_type": "stream",
          "name": "stdout",
          "text": [
            "Epoch [166/3000]: Train loss: 6.1106, Valid loss: 4.4937\n"
          ]
        },
        {
          "output_type": "stream",
          "name": "stderr",
          "text": [
            "Epoch [167/3000]: 100%|██████████| 7/7 [00:00<00:00, 126.37it/s, loss=4.3]\n"
          ]
        },
        {
          "output_type": "stream",
          "name": "stdout",
          "text": [
            "Epoch [167/3000]: Train loss: 4.9046, Valid loss: 5.7609\n"
          ]
        },
        {
          "output_type": "stream",
          "name": "stderr",
          "text": [
            "Epoch [168/3000]: 100%|██████████| 7/7 [00:00<00:00, 127.44it/s, loss=4.27]\n"
          ]
        },
        {
          "output_type": "stream",
          "name": "stdout",
          "text": [
            "Epoch [168/3000]: Train loss: 4.9271, Valid loss: 8.1941\n"
          ]
        },
        {
          "output_type": "stream",
          "name": "stderr",
          "text": [
            "Epoch [169/3000]: 100%|██████████| 7/7 [00:00<00:00, 121.07it/s, loss=4.37]\n"
          ]
        },
        {
          "output_type": "stream",
          "name": "stdout",
          "text": [
            "Epoch [169/3000]: Train loss: 6.3146, Valid loss: 6.2750\n"
          ]
        },
        {
          "output_type": "stream",
          "name": "stderr",
          "text": [
            "Epoch [170/3000]: 100%|██████████| 7/7 [00:00<00:00, 116.25it/s, loss=5.77]\n"
          ]
        },
        {
          "output_type": "stream",
          "name": "stdout",
          "text": [
            "Epoch [170/3000]: Train loss: 5.6047, Valid loss: 4.5363\n"
          ]
        },
        {
          "output_type": "stream",
          "name": "stderr",
          "text": [
            "Epoch [171/3000]: 100%|██████████| 7/7 [00:00<00:00, 124.61it/s, loss=4.3]\n"
          ]
        },
        {
          "output_type": "stream",
          "name": "stdout",
          "text": [
            "Epoch [171/3000]: Train loss: 5.0024, Valid loss: 5.1212\n"
          ]
        },
        {
          "output_type": "stream",
          "name": "stderr",
          "text": [
            "Epoch [172/3000]: 100%|██████████| 7/7 [00:00<00:00, 124.78it/s, loss=4.5]\n"
          ]
        },
        {
          "output_type": "stream",
          "name": "stdout",
          "text": [
            "Epoch [172/3000]: Train loss: 5.4704, Valid loss: 4.3658\n"
          ]
        },
        {
          "output_type": "stream",
          "name": "stderr",
          "text": [
            "Epoch [173/3000]: 100%|██████████| 7/7 [00:00<00:00, 127.53it/s, loss=5.41]\n"
          ]
        },
        {
          "output_type": "stream",
          "name": "stdout",
          "text": [
            "Epoch [173/3000]: Train loss: 5.4383, Valid loss: 4.1640\n",
            "Saving model with loss 4.164...\n"
          ]
        },
        {
          "output_type": "stream",
          "name": "stderr",
          "text": [
            "Epoch [174/3000]: 100%|██████████| 7/7 [00:00<00:00, 118.38it/s, loss=4.1]\n"
          ]
        },
        {
          "output_type": "stream",
          "name": "stdout",
          "text": [
            "Epoch [174/3000]: Train loss: 4.4356, Valid loss: 4.2132\n"
          ]
        },
        {
          "output_type": "stream",
          "name": "stderr",
          "text": [
            "Epoch [175/3000]: 100%|██████████| 7/7 [00:00<00:00, 117.25it/s, loss=4.32]\n"
          ]
        },
        {
          "output_type": "stream",
          "name": "stdout",
          "text": [
            "Epoch [175/3000]: Train loss: 4.4634, Valid loss: 4.5816\n"
          ]
        },
        {
          "output_type": "stream",
          "name": "stderr",
          "text": [
            "Epoch [176/3000]: 100%|██████████| 7/7 [00:00<00:00, 114.51it/s, loss=4.96]\n"
          ]
        },
        {
          "output_type": "stream",
          "name": "stdout",
          "text": [
            "Epoch [176/3000]: Train loss: 4.8956, Valid loss: 4.1906\n"
          ]
        },
        {
          "output_type": "stream",
          "name": "stderr",
          "text": [
            "Epoch [177/3000]: 100%|██████████| 7/7 [00:00<00:00, 115.28it/s, loss=4.41]\n"
          ]
        },
        {
          "output_type": "stream",
          "name": "stdout",
          "text": [
            "Epoch [177/3000]: Train loss: 4.5256, Valid loss: 4.5077\n"
          ]
        },
        {
          "output_type": "stream",
          "name": "stderr",
          "text": [
            "Epoch [178/3000]: 100%|██████████| 7/7 [00:00<00:00, 117.88it/s, loss=4.31]\n"
          ]
        },
        {
          "output_type": "stream",
          "name": "stdout",
          "text": [
            "Epoch [178/3000]: Train loss: 4.9146, Valid loss: 5.9046\n"
          ]
        },
        {
          "output_type": "stream",
          "name": "stderr",
          "text": [
            "Epoch [179/3000]: 100%|██████████| 7/7 [00:00<00:00, 108.24it/s, loss=3.94]\n"
          ]
        },
        {
          "output_type": "stream",
          "name": "stdout",
          "text": [
            "Epoch [179/3000]: Train loss: 5.3774, Valid loss: 7.4012\n"
          ]
        },
        {
          "output_type": "stream",
          "name": "stderr",
          "text": [
            "Epoch [180/3000]: 100%|██████████| 7/7 [00:00<00:00, 116.47it/s, loss=3.95]\n"
          ]
        },
        {
          "output_type": "stream",
          "name": "stdout",
          "text": [
            "Epoch [180/3000]: Train loss: 6.0895, Valid loss: 6.5765\n"
          ]
        },
        {
          "output_type": "stream",
          "name": "stderr",
          "text": [
            "Epoch [181/3000]: 100%|██████████| 7/7 [00:00<00:00, 126.97it/s, loss=4.16]\n"
          ]
        },
        {
          "output_type": "stream",
          "name": "stdout",
          "text": [
            "Epoch [181/3000]: Train loss: 5.7466, Valid loss: 5.7524\n"
          ]
        },
        {
          "output_type": "stream",
          "name": "stderr",
          "text": [
            "Epoch [182/3000]: 100%|██████████| 7/7 [00:00<00:00, 124.91it/s, loss=4.95]\n"
          ]
        },
        {
          "output_type": "stream",
          "name": "stdout",
          "text": [
            "Epoch [182/3000]: Train loss: 4.8688, Valid loss: 4.3421\n"
          ]
        },
        {
          "output_type": "stream",
          "name": "stderr",
          "text": [
            "Epoch [183/3000]: 100%|██████████| 7/7 [00:00<00:00, 108.84it/s, loss=3.77]\n"
          ]
        },
        {
          "output_type": "stream",
          "name": "stdout",
          "text": [
            "Epoch [183/3000]: Train loss: 4.3098, Valid loss: 4.4363\n"
          ]
        },
        {
          "output_type": "stream",
          "name": "stderr",
          "text": [
            "Epoch [184/3000]: 100%|██████████| 7/7 [00:00<00:00, 118.67it/s, loss=3.63]\n"
          ]
        },
        {
          "output_type": "stream",
          "name": "stdout",
          "text": [
            "Epoch [184/3000]: Train loss: 4.2047, Valid loss: 4.1308\n",
            "Saving model with loss 4.131...\n"
          ]
        },
        {
          "output_type": "stream",
          "name": "stderr",
          "text": [
            "Epoch [185/3000]: 100%|██████████| 7/7 [00:00<00:00, 124.11it/s, loss=4.07]\n"
          ]
        },
        {
          "output_type": "stream",
          "name": "stdout",
          "text": [
            "Epoch [185/3000]: Train loss: 4.3061, Valid loss: 4.9190\n"
          ]
        },
        {
          "output_type": "stream",
          "name": "stderr",
          "text": [
            "Epoch [186/3000]: 100%|██████████| 7/7 [00:00<00:00, 119.12it/s, loss=5.75]\n"
          ]
        },
        {
          "output_type": "stream",
          "name": "stdout",
          "text": [
            "Epoch [186/3000]: Train loss: 4.8152, Valid loss: 6.4343\n"
          ]
        },
        {
          "output_type": "stream",
          "name": "stderr",
          "text": [
            "Epoch [187/3000]: 100%|██████████| 7/7 [00:00<00:00, 103.69it/s, loss=4.54]\n"
          ]
        },
        {
          "output_type": "stream",
          "name": "stdout",
          "text": [
            "Epoch [187/3000]: Train loss: 4.6798, Valid loss: 4.0859\n",
            "Saving model with loss 4.086...\n"
          ]
        },
        {
          "output_type": "stream",
          "name": "stderr",
          "text": [
            "Epoch [188/3000]: 100%|██████████| 7/7 [00:00<00:00, 105.93it/s, loss=5.75]\n"
          ]
        },
        {
          "output_type": "stream",
          "name": "stdout",
          "text": [
            "Epoch [188/3000]: Train loss: 5.2510, Valid loss: 4.1965\n"
          ]
        },
        {
          "output_type": "stream",
          "name": "stderr",
          "text": [
            "Epoch [189/3000]: 100%|██████████| 7/7 [00:00<00:00, 108.68it/s, loss=7.55]\n"
          ]
        },
        {
          "output_type": "stream",
          "name": "stdout",
          "text": [
            "Epoch [189/3000]: Train loss: 6.0659, Valid loss: 4.0630\n",
            "Saving model with loss 4.063...\n"
          ]
        },
        {
          "output_type": "stream",
          "name": "stderr",
          "text": [
            "Epoch [190/3000]: 100%|██████████| 7/7 [00:00<00:00, 121.05it/s, loss=3.69]\n"
          ]
        },
        {
          "output_type": "stream",
          "name": "stdout",
          "text": [
            "Epoch [190/3000]: Train loss: 4.5149, Valid loss: 4.1396\n"
          ]
        },
        {
          "output_type": "stream",
          "name": "stderr",
          "text": [
            "Epoch [191/3000]: 100%|██████████| 7/7 [00:00<00:00, 114.54it/s, loss=4.4]\n"
          ]
        },
        {
          "output_type": "stream",
          "name": "stdout",
          "text": [
            "Epoch [191/3000]: Train loss: 4.7686, Valid loss: 8.4496\n"
          ]
        },
        {
          "output_type": "stream",
          "name": "stderr",
          "text": [
            "Epoch [192/3000]: 100%|██████████| 7/7 [00:00<00:00, 124.05it/s, loss=6.75]\n"
          ]
        },
        {
          "output_type": "stream",
          "name": "stdout",
          "text": [
            "Epoch [192/3000]: Train loss: 6.1406, Valid loss: 6.7288\n"
          ]
        },
        {
          "output_type": "stream",
          "name": "stderr",
          "text": [
            "Epoch [193/3000]: 100%|██████████| 7/7 [00:00<00:00, 122.91it/s, loss=6.43]\n"
          ]
        },
        {
          "output_type": "stream",
          "name": "stdout",
          "text": [
            "Epoch [193/3000]: Train loss: 5.5921, Valid loss: 6.3200\n"
          ]
        },
        {
          "output_type": "stream",
          "name": "stderr",
          "text": [
            "Epoch [194/3000]: 100%|██████████| 7/7 [00:00<00:00, 112.90it/s, loss=5.58]\n"
          ]
        },
        {
          "output_type": "stream",
          "name": "stdout",
          "text": [
            "Epoch [194/3000]: Train loss: 5.1263, Valid loss: 5.4927\n"
          ]
        },
        {
          "output_type": "stream",
          "name": "stderr",
          "text": [
            "Epoch [195/3000]: 100%|██████████| 7/7 [00:00<00:00, 111.30it/s, loss=5.44]\n"
          ]
        },
        {
          "output_type": "stream",
          "name": "stdout",
          "text": [
            "Epoch [195/3000]: Train loss: 4.7755, Valid loss: 4.7612\n"
          ]
        },
        {
          "output_type": "stream",
          "name": "stderr",
          "text": [
            "Epoch [196/3000]: 100%|██████████| 7/7 [00:00<00:00, 105.73it/s, loss=4.43]\n"
          ]
        },
        {
          "output_type": "stream",
          "name": "stdout",
          "text": [
            "Epoch [196/3000]: Train loss: 4.2318, Valid loss: 4.0139\n",
            "Saving model with loss 4.014...\n"
          ]
        },
        {
          "output_type": "stream",
          "name": "stderr",
          "text": [
            "Epoch [197/3000]: 100%|██████████| 7/7 [00:00<00:00, 110.67it/s, loss=5.03]\n"
          ]
        },
        {
          "output_type": "stream",
          "name": "stdout",
          "text": [
            "Epoch [197/3000]: Train loss: 4.4144, Valid loss: 4.1209\n"
          ]
        },
        {
          "output_type": "stream",
          "name": "stderr",
          "text": [
            "Epoch [198/3000]: 100%|██████████| 7/7 [00:00<00:00, 114.17it/s, loss=3.92]\n"
          ]
        },
        {
          "output_type": "stream",
          "name": "stdout",
          "text": [
            "Epoch [198/3000]: Train loss: 4.0576, Valid loss: 4.7644\n"
          ]
        },
        {
          "output_type": "stream",
          "name": "stderr",
          "text": [
            "Epoch [199/3000]: 100%|██████████| 7/7 [00:00<00:00, 118.46it/s, loss=4.73]\n"
          ]
        },
        {
          "output_type": "stream",
          "name": "stdout",
          "text": [
            "Epoch [199/3000]: Train loss: 4.3640, Valid loss: 4.1685\n"
          ]
        },
        {
          "output_type": "stream",
          "name": "stderr",
          "text": [
            "Epoch [200/3000]: 100%|██████████| 7/7 [00:00<00:00, 103.29it/s, loss=3.54]\n"
          ]
        },
        {
          "output_type": "stream",
          "name": "stdout",
          "text": [
            "Epoch [200/3000]: Train loss: 4.4647, Valid loss: 4.6044\n"
          ]
        },
        {
          "output_type": "stream",
          "name": "stderr",
          "text": [
            "Epoch [201/3000]: 100%|██████████| 7/7 [00:00<00:00, 110.52it/s, loss=3.61]\n"
          ]
        },
        {
          "output_type": "stream",
          "name": "stdout",
          "text": [
            "Epoch [201/3000]: Train loss: 4.4172, Valid loss: 3.9657\n",
            "Saving model with loss 3.966...\n"
          ]
        },
        {
          "output_type": "stream",
          "name": "stderr",
          "text": [
            "Epoch [202/3000]: 100%|██████████| 7/7 [00:00<00:00, 116.47it/s, loss=4.58]\n"
          ]
        },
        {
          "output_type": "stream",
          "name": "stdout",
          "text": [
            "Epoch [202/3000]: Train loss: 4.0927, Valid loss: 4.0202\n"
          ]
        },
        {
          "output_type": "stream",
          "name": "stderr",
          "text": [
            "Epoch [203/3000]: 100%|██████████| 7/7 [00:00<00:00, 100.02it/s, loss=4.08]\n"
          ]
        },
        {
          "output_type": "stream",
          "name": "stdout",
          "text": [
            "Epoch [203/3000]: Train loss: 4.4813, Valid loss: 4.3999\n"
          ]
        },
        {
          "output_type": "stream",
          "name": "stderr",
          "text": [
            "Epoch [204/3000]: 100%|██████████| 7/7 [00:00<00:00, 115.48it/s, loss=4.43]\n"
          ]
        },
        {
          "output_type": "stream",
          "name": "stdout",
          "text": [
            "Epoch [204/3000]: Train loss: 4.2303, Valid loss: 4.8190\n"
          ]
        },
        {
          "output_type": "stream",
          "name": "stderr",
          "text": [
            "Epoch [205/3000]: 100%|██████████| 7/7 [00:00<00:00, 116.56it/s, loss=3.95]\n"
          ]
        },
        {
          "output_type": "stream",
          "name": "stdout",
          "text": [
            "Epoch [205/3000]: Train loss: 4.2007, Valid loss: 4.0457\n"
          ]
        },
        {
          "output_type": "stream",
          "name": "stderr",
          "text": [
            "Epoch [206/3000]: 100%|██████████| 7/7 [00:00<00:00, 108.42it/s, loss=3.99]\n"
          ]
        },
        {
          "output_type": "stream",
          "name": "stdout",
          "text": [
            "Epoch [206/3000]: Train loss: 4.0278, Valid loss: 4.1696\n"
          ]
        },
        {
          "output_type": "stream",
          "name": "stderr",
          "text": [
            "Epoch [207/3000]: 100%|██████████| 7/7 [00:00<00:00, 99.52it/s, loss=2.81]\n"
          ]
        },
        {
          "output_type": "stream",
          "name": "stdout",
          "text": [
            "Epoch [207/3000]: Train loss: 3.8954, Valid loss: 3.8597\n",
            "Saving model with loss 3.860...\n"
          ]
        },
        {
          "output_type": "stream",
          "name": "stderr",
          "text": [
            "Epoch [208/3000]: 100%|██████████| 7/7 [00:00<00:00, 112.28it/s, loss=3.18]\n"
          ]
        },
        {
          "output_type": "stream",
          "name": "stdout",
          "text": [
            "Epoch [208/3000]: Train loss: 4.4663, Valid loss: 5.1157\n"
          ]
        },
        {
          "output_type": "stream",
          "name": "stderr",
          "text": [
            "Epoch [209/3000]: 100%|██████████| 7/7 [00:00<00:00, 109.66it/s, loss=4.04]\n"
          ]
        },
        {
          "output_type": "stream",
          "name": "stdout",
          "text": [
            "Epoch [209/3000]: Train loss: 4.6138, Valid loss: 6.5779\n"
          ]
        },
        {
          "output_type": "stream",
          "name": "stderr",
          "text": [
            "Epoch [210/3000]: 100%|██████████| 7/7 [00:00<00:00, 124.59it/s, loss=4.18]\n"
          ]
        },
        {
          "output_type": "stream",
          "name": "stdout",
          "text": [
            "Epoch [210/3000]: Train loss: 4.6227, Valid loss: 5.7624\n"
          ]
        },
        {
          "output_type": "stream",
          "name": "stderr",
          "text": [
            "Epoch [211/3000]: 100%|██████████| 7/7 [00:00<00:00, 113.90it/s, loss=4.99]\n"
          ]
        },
        {
          "output_type": "stream",
          "name": "stdout",
          "text": [
            "Epoch [211/3000]: Train loss: 4.6510, Valid loss: 4.6692\n"
          ]
        },
        {
          "output_type": "stream",
          "name": "stderr",
          "text": [
            "Epoch [212/3000]: 100%|██████████| 7/7 [00:00<00:00, 114.65it/s, loss=6.59]\n"
          ]
        },
        {
          "output_type": "stream",
          "name": "stdout",
          "text": [
            "Epoch [212/3000]: Train loss: 6.0122, Valid loss: 4.2016\n"
          ]
        },
        {
          "output_type": "stream",
          "name": "stderr",
          "text": [
            "Epoch [213/3000]: 100%|██████████| 7/7 [00:00<00:00, 117.00it/s, loss=7.48]\n"
          ]
        },
        {
          "output_type": "stream",
          "name": "stdout",
          "text": [
            "Epoch [213/3000]: Train loss: 6.3957, Valid loss: 3.9532\n"
          ]
        },
        {
          "output_type": "stream",
          "name": "stderr",
          "text": [
            "Epoch [214/3000]: 100%|██████████| 7/7 [00:00<00:00, 100.36it/s, loss=5.29]\n"
          ]
        },
        {
          "output_type": "stream",
          "name": "stdout",
          "text": [
            "Epoch [214/3000]: Train loss: 4.8009, Valid loss: 4.2191\n"
          ]
        },
        {
          "output_type": "stream",
          "name": "stderr",
          "text": [
            "Epoch [215/3000]: 100%|██████████| 7/7 [00:00<00:00, 94.89it/s, loss=4.56]\n"
          ]
        },
        {
          "output_type": "stream",
          "name": "stdout",
          "text": [
            "Epoch [215/3000]: Train loss: 4.4164, Valid loss: 3.9682\n"
          ]
        },
        {
          "output_type": "stream",
          "name": "stderr",
          "text": [
            "Epoch [216/3000]: 100%|██████████| 7/7 [00:00<00:00, 103.94it/s, loss=3.73]\n"
          ]
        },
        {
          "output_type": "stream",
          "name": "stdout",
          "text": [
            "Epoch [216/3000]: Train loss: 3.9045, Valid loss: 3.9999\n"
          ]
        },
        {
          "output_type": "stream",
          "name": "stderr",
          "text": [
            "Epoch [217/3000]: 100%|██████████| 7/7 [00:00<00:00, 123.54it/s, loss=3.43]\n"
          ]
        },
        {
          "output_type": "stream",
          "name": "stdout",
          "text": [
            "Epoch [217/3000]: Train loss: 4.1558, Valid loss: 4.0970\n"
          ]
        },
        {
          "output_type": "stream",
          "name": "stderr",
          "text": [
            "Epoch [218/3000]: 100%|██████████| 7/7 [00:00<00:00, 102.95it/s, loss=4.14]\n"
          ]
        },
        {
          "output_type": "stream",
          "name": "stdout",
          "text": [
            "Epoch [218/3000]: Train loss: 3.9366, Valid loss: 4.5358\n"
          ]
        },
        {
          "output_type": "stream",
          "name": "stderr",
          "text": [
            "Epoch [219/3000]: 100%|██████████| 7/7 [00:00<00:00, 94.86it/s, loss=3.44]\n"
          ]
        },
        {
          "output_type": "stream",
          "name": "stdout",
          "text": [
            "Epoch [219/3000]: Train loss: 4.1632, Valid loss: 4.4915\n"
          ]
        },
        {
          "output_type": "stream",
          "name": "stderr",
          "text": [
            "Epoch [220/3000]: 100%|██████████| 7/7 [00:00<00:00, 95.77it/s, loss=2.73]\n"
          ]
        },
        {
          "output_type": "stream",
          "name": "stdout",
          "text": [
            "Epoch [220/3000]: Train loss: 4.3334, Valid loss: 5.3365\n"
          ]
        },
        {
          "output_type": "stream",
          "name": "stderr",
          "text": [
            "Epoch [221/3000]: 100%|██████████| 7/7 [00:00<00:00, 107.81it/s, loss=4.92]\n"
          ]
        },
        {
          "output_type": "stream",
          "name": "stdout",
          "text": [
            "Epoch [221/3000]: Train loss: 4.2936, Valid loss: 3.9092\n"
          ]
        },
        {
          "output_type": "stream",
          "name": "stderr",
          "text": [
            "Epoch [222/3000]: 100%|██████████| 7/7 [00:00<00:00, 106.31it/s, loss=5.63]\n"
          ]
        },
        {
          "output_type": "stream",
          "name": "stdout",
          "text": [
            "Epoch [222/3000]: Train loss: 5.4444, Valid loss: 4.3452\n"
          ]
        },
        {
          "output_type": "stream",
          "name": "stderr",
          "text": [
            "Epoch [223/3000]: 100%|██████████| 7/7 [00:00<00:00, 101.57it/s, loss=3.14]\n"
          ]
        },
        {
          "output_type": "stream",
          "name": "stdout",
          "text": [
            "Epoch [223/3000]: Train loss: 4.1486, Valid loss: 3.9273\n"
          ]
        },
        {
          "output_type": "stream",
          "name": "stderr",
          "text": [
            "Epoch [224/3000]: 100%|██████████| 7/7 [00:00<00:00, 91.13it/s, loss=4.09]\n"
          ]
        },
        {
          "output_type": "stream",
          "name": "stdout",
          "text": [
            "Epoch [224/3000]: Train loss: 4.1076, Valid loss: 4.0321\n"
          ]
        },
        {
          "output_type": "stream",
          "name": "stderr",
          "text": [
            "Epoch [225/3000]: 100%|██████████| 7/7 [00:00<00:00, 118.48it/s, loss=4.18]\n"
          ]
        },
        {
          "output_type": "stream",
          "name": "stdout",
          "text": [
            "Epoch [225/3000]: Train loss: 4.0346, Valid loss: 3.8039\n",
            "Saving model with loss 3.804...\n"
          ]
        },
        {
          "output_type": "stream",
          "name": "stderr",
          "text": [
            "Epoch [226/3000]: 100%|██████████| 7/7 [00:00<00:00, 114.73it/s, loss=4.62]\n"
          ]
        },
        {
          "output_type": "stream",
          "name": "stdout",
          "text": [
            "Epoch [226/3000]: Train loss: 4.0143, Valid loss: 3.7744\n",
            "Saving model with loss 3.774...\n"
          ]
        },
        {
          "output_type": "stream",
          "name": "stderr",
          "text": [
            "Epoch [227/3000]: 100%|██████████| 7/7 [00:00<00:00, 119.04it/s, loss=3.78]\n"
          ]
        },
        {
          "output_type": "stream",
          "name": "stdout",
          "text": [
            "Epoch [227/3000]: Train loss: 3.8924, Valid loss: 3.6871\n",
            "Saving model with loss 3.687...\n"
          ]
        },
        {
          "output_type": "stream",
          "name": "stderr",
          "text": [
            "Epoch [228/3000]: 100%|██████████| 7/7 [00:00<00:00, 122.05it/s, loss=4.08]\n"
          ]
        },
        {
          "output_type": "stream",
          "name": "stdout",
          "text": [
            "Epoch [228/3000]: Train loss: 3.8017, Valid loss: 4.6180\n"
          ]
        },
        {
          "output_type": "stream",
          "name": "stderr",
          "text": [
            "Epoch [229/3000]: 100%|██████████| 7/7 [00:00<00:00, 108.54it/s, loss=7.92]\n"
          ]
        },
        {
          "output_type": "stream",
          "name": "stdout",
          "text": [
            "Epoch [229/3000]: Train loss: 5.6193, Valid loss: 4.5169\n"
          ]
        },
        {
          "output_type": "stream",
          "name": "stderr",
          "text": [
            "Epoch [230/3000]: 100%|██████████| 7/7 [00:00<00:00, 109.97it/s, loss=4.52]\n"
          ]
        },
        {
          "output_type": "stream",
          "name": "stdout",
          "text": [
            "Epoch [230/3000]: Train loss: 5.7244, Valid loss: 6.1731\n"
          ]
        },
        {
          "output_type": "stream",
          "name": "stderr",
          "text": [
            "Epoch [231/3000]: 100%|██████████| 7/7 [00:00<00:00, 105.97it/s, loss=3.8]\n"
          ]
        },
        {
          "output_type": "stream",
          "name": "stdout",
          "text": [
            "Epoch [231/3000]: Train loss: 4.7364, Valid loss: 4.1456\n"
          ]
        },
        {
          "output_type": "stream",
          "name": "stderr",
          "text": [
            "Epoch [232/3000]: 100%|██████████| 7/7 [00:00<00:00, 110.38it/s, loss=4.28]\n"
          ]
        },
        {
          "output_type": "stream",
          "name": "stdout",
          "text": [
            "Epoch [232/3000]: Train loss: 4.3039, Valid loss: 5.2431\n"
          ]
        },
        {
          "output_type": "stream",
          "name": "stderr",
          "text": [
            "Epoch [233/3000]: 100%|██████████| 7/7 [00:00<00:00, 125.08it/s, loss=4.88]\n"
          ]
        },
        {
          "output_type": "stream",
          "name": "stdout",
          "text": [
            "Epoch [233/3000]: Train loss: 4.7709, Valid loss: 4.1831\n"
          ]
        },
        {
          "output_type": "stream",
          "name": "stderr",
          "text": [
            "Epoch [234/3000]: 100%|██████████| 7/7 [00:00<00:00, 118.27it/s, loss=5.33]\n"
          ]
        },
        {
          "output_type": "stream",
          "name": "stdout",
          "text": [
            "Epoch [234/3000]: Train loss: 4.2058, Valid loss: 3.8596\n"
          ]
        },
        {
          "output_type": "stream",
          "name": "stderr",
          "text": [
            "Epoch [235/3000]: 100%|██████████| 7/7 [00:00<00:00, 113.48it/s, loss=3.93]\n"
          ]
        },
        {
          "output_type": "stream",
          "name": "stdout",
          "text": [
            "Epoch [235/3000]: Train loss: 3.9185, Valid loss: 3.8695\n"
          ]
        },
        {
          "output_type": "stream",
          "name": "stderr",
          "text": [
            "Epoch [236/3000]: 100%|██████████| 7/7 [00:00<00:00, 123.66it/s, loss=3.63]\n"
          ]
        },
        {
          "output_type": "stream",
          "name": "stdout",
          "text": [
            "Epoch [236/3000]: Train loss: 3.7246, Valid loss: 3.7334\n"
          ]
        },
        {
          "output_type": "stream",
          "name": "stderr",
          "text": [
            "Epoch [237/3000]: 100%|██████████| 7/7 [00:00<00:00, 116.77it/s, loss=5.34]\n"
          ]
        },
        {
          "output_type": "stream",
          "name": "stdout",
          "text": [
            "Epoch [237/3000]: Train loss: 4.0294, Valid loss: 3.6002\n",
            "Saving model with loss 3.600...\n"
          ]
        },
        {
          "output_type": "stream",
          "name": "stderr",
          "text": [
            "Epoch [238/3000]: 100%|██████████| 7/7 [00:00<00:00, 114.46it/s, loss=4.16]\n"
          ]
        },
        {
          "output_type": "stream",
          "name": "stdout",
          "text": [
            "Epoch [238/3000]: Train loss: 3.9852, Valid loss: 4.0060\n"
          ]
        },
        {
          "output_type": "stream",
          "name": "stderr",
          "text": [
            "Epoch [239/3000]: 100%|██████████| 7/7 [00:00<00:00, 92.85it/s, loss=3.78]\n"
          ]
        },
        {
          "output_type": "stream",
          "name": "stdout",
          "text": [
            "Epoch [239/3000]: Train loss: 3.7686, Valid loss: 3.6648\n"
          ]
        },
        {
          "output_type": "stream",
          "name": "stderr",
          "text": [
            "Epoch [240/3000]: 100%|██████████| 7/7 [00:00<00:00, 113.96it/s, loss=3.39]\n"
          ]
        },
        {
          "output_type": "stream",
          "name": "stdout",
          "text": [
            "Epoch [240/3000]: Train loss: 3.7296, Valid loss: 3.8178\n"
          ]
        },
        {
          "output_type": "stream",
          "name": "stderr",
          "text": [
            "Epoch [241/3000]: 100%|██████████| 7/7 [00:00<00:00, 118.56it/s, loss=2.95]\n"
          ]
        },
        {
          "output_type": "stream",
          "name": "stdout",
          "text": [
            "Epoch [241/3000]: Train loss: 3.7625, Valid loss: 3.8780\n"
          ]
        },
        {
          "output_type": "stream",
          "name": "stderr",
          "text": [
            "Epoch [242/3000]: 100%|██████████| 7/7 [00:00<00:00, 115.76it/s, loss=3.44]\n"
          ]
        },
        {
          "output_type": "stream",
          "name": "stdout",
          "text": [
            "Epoch [242/3000]: Train loss: 3.7221, Valid loss: 3.8196\n"
          ]
        },
        {
          "output_type": "stream",
          "name": "stderr",
          "text": [
            "Epoch [243/3000]: 100%|██████████| 7/7 [00:00<00:00, 111.09it/s, loss=3.9]\n"
          ]
        },
        {
          "output_type": "stream",
          "name": "stdout",
          "text": [
            "Epoch [243/3000]: Train loss: 3.7863, Valid loss: 3.6372\n"
          ]
        },
        {
          "output_type": "stream",
          "name": "stderr",
          "text": [
            "Epoch [244/3000]: 100%|██████████| 7/7 [00:00<00:00, 105.73it/s, loss=4.22]\n"
          ]
        },
        {
          "output_type": "stream",
          "name": "stdout",
          "text": [
            "Epoch [244/3000]: Train loss: 3.7116, Valid loss: 4.7628\n"
          ]
        },
        {
          "output_type": "stream",
          "name": "stderr",
          "text": [
            "Epoch [245/3000]: 100%|██████████| 7/7 [00:00<00:00, 112.22it/s, loss=5.62]\n"
          ]
        },
        {
          "output_type": "stream",
          "name": "stdout",
          "text": [
            "Epoch [245/3000]: Train loss: 4.6660, Valid loss: 4.0866\n"
          ]
        },
        {
          "output_type": "stream",
          "name": "stderr",
          "text": [
            "Epoch [246/3000]: 100%|██████████| 7/7 [00:00<00:00, 125.55it/s, loss=3.68]\n"
          ]
        },
        {
          "output_type": "stream",
          "name": "stdout",
          "text": [
            "Epoch [246/3000]: Train loss: 4.3106, Valid loss: 5.4117\n"
          ]
        },
        {
          "output_type": "stream",
          "name": "stderr",
          "text": [
            "Epoch [247/3000]: 100%|██████████| 7/7 [00:00<00:00, 105.10it/s, loss=5.77]\n"
          ]
        },
        {
          "output_type": "stream",
          "name": "stdout",
          "text": [
            "Epoch [247/3000]: Train loss: 4.8405, Valid loss: 4.5008\n"
          ]
        },
        {
          "output_type": "stream",
          "name": "stderr",
          "text": [
            "Epoch [248/3000]: 100%|██████████| 7/7 [00:00<00:00, 114.96it/s, loss=5.32]\n"
          ]
        },
        {
          "output_type": "stream",
          "name": "stdout",
          "text": [
            "Epoch [248/3000]: Train loss: 5.0320, Valid loss: 3.9375\n"
          ]
        },
        {
          "output_type": "stream",
          "name": "stderr",
          "text": [
            "Epoch [249/3000]: 100%|██████████| 7/7 [00:00<00:00, 118.84it/s, loss=5.87]\n"
          ]
        },
        {
          "output_type": "stream",
          "name": "stdout",
          "text": [
            "Epoch [249/3000]: Train loss: 5.1956, Valid loss: 4.3160\n"
          ]
        },
        {
          "output_type": "stream",
          "name": "stderr",
          "text": [
            "Epoch [250/3000]: 100%|██████████| 7/7 [00:00<00:00, 115.72it/s, loss=3.64]\n"
          ]
        },
        {
          "output_type": "stream",
          "name": "stdout",
          "text": [
            "Epoch [250/3000]: Train loss: 4.4618, Valid loss: 4.5222\n"
          ]
        },
        {
          "output_type": "stream",
          "name": "stderr",
          "text": [
            "Epoch [251/3000]: 100%|██████████| 7/7 [00:00<00:00, 116.79it/s, loss=5.18]\n"
          ]
        },
        {
          "output_type": "stream",
          "name": "stdout",
          "text": [
            "Epoch [251/3000]: Train loss: 4.4230, Valid loss: 3.6397\n"
          ]
        },
        {
          "output_type": "stream",
          "name": "stderr",
          "text": [
            "Epoch [252/3000]: 100%|██████████| 7/7 [00:00<00:00, 109.99it/s, loss=3.93]\n"
          ]
        },
        {
          "output_type": "stream",
          "name": "stdout",
          "text": [
            "Epoch [252/3000]: Train loss: 4.3767, Valid loss: 3.8709\n"
          ]
        },
        {
          "output_type": "stream",
          "name": "stderr",
          "text": [
            "Epoch [253/3000]: 100%|██████████| 7/7 [00:00<00:00, 113.01it/s, loss=4.05]\n"
          ]
        },
        {
          "output_type": "stream",
          "name": "stdout",
          "text": [
            "Epoch [253/3000]: Train loss: 3.8208, Valid loss: 3.6702\n"
          ]
        },
        {
          "output_type": "stream",
          "name": "stderr",
          "text": [
            "Epoch [254/3000]: 100%|██████████| 7/7 [00:00<00:00, 113.60it/s, loss=3.34]\n"
          ]
        },
        {
          "output_type": "stream",
          "name": "stdout",
          "text": [
            "Epoch [254/3000]: Train loss: 3.7451, Valid loss: 3.9242\n"
          ]
        },
        {
          "output_type": "stream",
          "name": "stderr",
          "text": [
            "Epoch [255/3000]: 100%|██████████| 7/7 [00:00<00:00, 137.38it/s, loss=3.53]\n"
          ]
        },
        {
          "output_type": "stream",
          "name": "stdout",
          "text": [
            "Epoch [255/3000]: Train loss: 3.9301, Valid loss: 3.5659\n",
            "Saving model with loss 3.566...\n"
          ]
        },
        {
          "output_type": "stream",
          "name": "stderr",
          "text": [
            "Epoch [256/3000]: 100%|██████████| 7/7 [00:00<00:00, 130.88it/s, loss=4.21]\n"
          ]
        },
        {
          "output_type": "stream",
          "name": "stdout",
          "text": [
            "Epoch [256/3000]: Train loss: 3.6696, Valid loss: 4.7955\n"
          ]
        },
        {
          "output_type": "stream",
          "name": "stderr",
          "text": [
            "Epoch [257/3000]: 100%|██████████| 7/7 [00:00<00:00, 109.34it/s, loss=3.62]\n"
          ]
        },
        {
          "output_type": "stream",
          "name": "stdout",
          "text": [
            "Epoch [257/3000]: Train loss: 4.0028, Valid loss: 4.5765\n"
          ]
        },
        {
          "output_type": "stream",
          "name": "stderr",
          "text": [
            "Epoch [258/3000]: 100%|██████████| 7/7 [00:00<00:00, 128.25it/s, loss=3.88]\n"
          ]
        },
        {
          "output_type": "stream",
          "name": "stdout",
          "text": [
            "Epoch [258/3000]: Train loss: 4.1302, Valid loss: 3.6208\n"
          ]
        },
        {
          "output_type": "stream",
          "name": "stderr",
          "text": [
            "Epoch [259/3000]: 100%|██████████| 7/7 [00:00<00:00, 126.48it/s, loss=3.86]\n"
          ]
        },
        {
          "output_type": "stream",
          "name": "stdout",
          "text": [
            "Epoch [259/3000]: Train loss: 3.8256, Valid loss: 3.5526\n",
            "Saving model with loss 3.553...\n"
          ]
        },
        {
          "output_type": "stream",
          "name": "stderr",
          "text": [
            "Epoch [260/3000]: 100%|██████████| 7/7 [00:00<00:00, 126.66it/s, loss=3.83]\n"
          ]
        },
        {
          "output_type": "stream",
          "name": "stdout",
          "text": [
            "Epoch [260/3000]: Train loss: 3.6362, Valid loss: 3.5502\n",
            "Saving model with loss 3.550...\n"
          ]
        },
        {
          "output_type": "stream",
          "name": "stderr",
          "text": [
            "Epoch [261/3000]: 100%|██████████| 7/7 [00:00<00:00, 130.48it/s, loss=3.25]\n"
          ]
        },
        {
          "output_type": "stream",
          "name": "stdout",
          "text": [
            "Epoch [261/3000]: Train loss: 3.6352, Valid loss: 3.5909\n"
          ]
        },
        {
          "output_type": "stream",
          "name": "stderr",
          "text": [
            "Epoch [262/3000]: 100%|██████████| 7/7 [00:00<00:00, 118.66it/s, loss=3.41]\n"
          ]
        },
        {
          "output_type": "stream",
          "name": "stdout",
          "text": [
            "Epoch [262/3000]: Train loss: 3.6289, Valid loss: 3.5886\n"
          ]
        },
        {
          "output_type": "stream",
          "name": "stderr",
          "text": [
            "Epoch [263/3000]: 100%|██████████| 7/7 [00:00<00:00, 105.43it/s, loss=3.2]\n"
          ]
        },
        {
          "output_type": "stream",
          "name": "stdout",
          "text": [
            "Epoch [263/3000]: Train loss: 3.6599, Valid loss: 3.7652\n"
          ]
        },
        {
          "output_type": "stream",
          "name": "stderr",
          "text": [
            "Epoch [264/3000]: 100%|██████████| 7/7 [00:00<00:00, 118.71it/s, loss=3.47]\n"
          ]
        },
        {
          "output_type": "stream",
          "name": "stdout",
          "text": [
            "Epoch [264/3000]: Train loss: 3.6952, Valid loss: 3.8105\n"
          ]
        },
        {
          "output_type": "stream",
          "name": "stderr",
          "text": [
            "Epoch [265/3000]: 100%|██████████| 7/7 [00:00<00:00, 102.23it/s, loss=3.14]\n"
          ]
        },
        {
          "output_type": "stream",
          "name": "stdout",
          "text": [
            "Epoch [265/3000]: Train loss: 3.6063, Valid loss: 3.5301\n",
            "Saving model with loss 3.530...\n"
          ]
        },
        {
          "output_type": "stream",
          "name": "stderr",
          "text": [
            "Epoch [266/3000]: 100%|██████████| 7/7 [00:00<00:00, 115.13it/s, loss=3.39]\n"
          ]
        },
        {
          "output_type": "stream",
          "name": "stdout",
          "text": [
            "Epoch [266/3000]: Train loss: 3.9419, Valid loss: 3.5899\n"
          ]
        },
        {
          "output_type": "stream",
          "name": "stderr",
          "text": [
            "Epoch [267/3000]: 100%|██████████| 7/7 [00:00<00:00, 122.34it/s, loss=4.42]\n"
          ]
        },
        {
          "output_type": "stream",
          "name": "stdout",
          "text": [
            "Epoch [267/3000]: Train loss: 4.1155, Valid loss: 3.7348\n"
          ]
        },
        {
          "output_type": "stream",
          "name": "stderr",
          "text": [
            "Epoch [268/3000]: 100%|██████████| 7/7 [00:00<00:00, 104.82it/s, loss=3.28]\n"
          ]
        },
        {
          "output_type": "stream",
          "name": "stdout",
          "text": [
            "Epoch [268/3000]: Train loss: 4.5580, Valid loss: 4.0957\n"
          ]
        },
        {
          "output_type": "stream",
          "name": "stderr",
          "text": [
            "Epoch [269/3000]: 100%|██████████| 7/7 [00:00<00:00, 122.36it/s, loss=2.95]\n"
          ]
        },
        {
          "output_type": "stream",
          "name": "stdout",
          "text": [
            "Epoch [269/3000]: Train loss: 3.9454, Valid loss: 3.6456\n"
          ]
        },
        {
          "output_type": "stream",
          "name": "stderr",
          "text": [
            "Epoch [270/3000]: 100%|██████████| 7/7 [00:00<00:00, 110.65it/s, loss=2.99]\n"
          ]
        },
        {
          "output_type": "stream",
          "name": "stdout",
          "text": [
            "Epoch [270/3000]: Train loss: 3.4413, Valid loss: 3.4874\n",
            "Saving model with loss 3.487...\n"
          ]
        },
        {
          "output_type": "stream",
          "name": "stderr",
          "text": [
            "Epoch [271/3000]: 100%|██████████| 7/7 [00:00<00:00, 119.95it/s, loss=3.37]\n"
          ]
        },
        {
          "output_type": "stream",
          "name": "stdout",
          "text": [
            "Epoch [271/3000]: Train loss: 3.5358, Valid loss: 3.5687\n"
          ]
        },
        {
          "output_type": "stream",
          "name": "stderr",
          "text": [
            "Epoch [272/3000]: 100%|██████████| 7/7 [00:00<00:00, 109.94it/s, loss=3.9]\n"
          ]
        },
        {
          "output_type": "stream",
          "name": "stdout",
          "text": [
            "Epoch [272/3000]: Train loss: 3.5232, Valid loss: 3.9614\n"
          ]
        },
        {
          "output_type": "stream",
          "name": "stderr",
          "text": [
            "Epoch [273/3000]: 100%|██████████| 7/7 [00:00<00:00, 126.62it/s, loss=2.81]\n"
          ]
        },
        {
          "output_type": "stream",
          "name": "stdout",
          "text": [
            "Epoch [273/3000]: Train loss: 3.6395, Valid loss: 4.4662\n"
          ]
        },
        {
          "output_type": "stream",
          "name": "stderr",
          "text": [
            "Epoch [274/3000]: 100%|██████████| 7/7 [00:00<00:00, 112.16it/s, loss=4.24]\n"
          ]
        },
        {
          "output_type": "stream",
          "name": "stdout",
          "text": [
            "Epoch [274/3000]: Train loss: 4.0414, Valid loss: 3.8324\n"
          ]
        },
        {
          "output_type": "stream",
          "name": "stderr",
          "text": [
            "Epoch [275/3000]: 100%|██████████| 7/7 [00:00<00:00, 111.70it/s, loss=3.46]\n"
          ]
        },
        {
          "output_type": "stream",
          "name": "stdout",
          "text": [
            "Epoch [275/3000]: Train loss: 4.3019, Valid loss: 4.1956\n"
          ]
        },
        {
          "output_type": "stream",
          "name": "stderr",
          "text": [
            "Epoch [276/3000]: 100%|██████████| 7/7 [00:00<00:00, 115.20it/s, loss=3.61]\n"
          ]
        },
        {
          "output_type": "stream",
          "name": "stdout",
          "text": [
            "Epoch [276/3000]: Train loss: 3.6778, Valid loss: 3.5321\n"
          ]
        },
        {
          "output_type": "stream",
          "name": "stderr",
          "text": [
            "Epoch [277/3000]: 100%|██████████| 7/7 [00:00<00:00, 108.44it/s, loss=4.21]\n"
          ]
        },
        {
          "output_type": "stream",
          "name": "stdout",
          "text": [
            "Epoch [277/3000]: Train loss: 3.7673, Valid loss: 5.4871\n"
          ]
        },
        {
          "output_type": "stream",
          "name": "stderr",
          "text": [
            "Epoch [278/3000]: 100%|██████████| 7/7 [00:00<00:00, 109.02it/s, loss=3.55]\n"
          ]
        },
        {
          "output_type": "stream",
          "name": "stdout",
          "text": [
            "Epoch [278/3000]: Train loss: 3.9608, Valid loss: 3.4945\n"
          ]
        },
        {
          "output_type": "stream",
          "name": "stderr",
          "text": [
            "Epoch [279/3000]: 100%|██████████| 7/7 [00:00<00:00, 110.76it/s, loss=3.28]\n"
          ]
        },
        {
          "output_type": "stream",
          "name": "stdout",
          "text": [
            "Epoch [279/3000]: Train loss: 3.4792, Valid loss: 3.3540\n",
            "Saving model with loss 3.354...\n"
          ]
        },
        {
          "output_type": "stream",
          "name": "stderr",
          "text": [
            "Epoch [280/3000]: 100%|██████████| 7/7 [00:00<00:00, 116.13it/s, loss=4.12]\n"
          ]
        },
        {
          "output_type": "stream",
          "name": "stdout",
          "text": [
            "Epoch [280/3000]: Train loss: 3.6742, Valid loss: 3.5619\n"
          ]
        },
        {
          "output_type": "stream",
          "name": "stderr",
          "text": [
            "Epoch [281/3000]: 100%|██████████| 7/7 [00:00<00:00, 115.93it/s, loss=4.23]\n"
          ]
        },
        {
          "output_type": "stream",
          "name": "stdout",
          "text": [
            "Epoch [281/3000]: Train loss: 4.3145, Valid loss: 5.5104\n"
          ]
        },
        {
          "output_type": "stream",
          "name": "stderr",
          "text": [
            "Epoch [282/3000]: 100%|██████████| 7/7 [00:00<00:00, 109.13it/s, loss=6.8]\n"
          ]
        },
        {
          "output_type": "stream",
          "name": "stdout",
          "text": [
            "Epoch [282/3000]: Train loss: 5.0648, Valid loss: 4.5971\n"
          ]
        },
        {
          "output_type": "stream",
          "name": "stderr",
          "text": [
            "Epoch [283/3000]: 100%|██████████| 7/7 [00:00<00:00, 114.86it/s, loss=4.44]\n"
          ]
        },
        {
          "output_type": "stream",
          "name": "stdout",
          "text": [
            "Epoch [283/3000]: Train loss: 4.2706, Valid loss: 3.4811\n"
          ]
        },
        {
          "output_type": "stream",
          "name": "stderr",
          "text": [
            "Epoch [284/3000]: 100%|██████████| 7/7 [00:00<00:00, 112.26it/s, loss=3.29]\n"
          ]
        },
        {
          "output_type": "stream",
          "name": "stdout",
          "text": [
            "Epoch [284/3000]: Train loss: 3.7746, Valid loss: 3.4689\n"
          ]
        },
        {
          "output_type": "stream",
          "name": "stderr",
          "text": [
            "Epoch [285/3000]: 100%|██████████| 7/7 [00:00<00:00, 115.61it/s, loss=3.11]\n"
          ]
        },
        {
          "output_type": "stream",
          "name": "stdout",
          "text": [
            "Epoch [285/3000]: Train loss: 3.7127, Valid loss: 3.5822\n"
          ]
        },
        {
          "output_type": "stream",
          "name": "stderr",
          "text": [
            "Epoch [286/3000]: 100%|██████████| 7/7 [00:00<00:00, 110.10it/s, loss=3.08]\n"
          ]
        },
        {
          "output_type": "stream",
          "name": "stdout",
          "text": [
            "Epoch [286/3000]: Train loss: 3.4611, Valid loss: 3.4980\n"
          ]
        },
        {
          "output_type": "stream",
          "name": "stderr",
          "text": [
            "Epoch [287/3000]: 100%|██████████| 7/7 [00:00<00:00, 115.19it/s, loss=3.67]\n"
          ]
        },
        {
          "output_type": "stream",
          "name": "stdout",
          "text": [
            "Epoch [287/3000]: Train loss: 3.5180, Valid loss: 3.5794\n"
          ]
        },
        {
          "output_type": "stream",
          "name": "stderr",
          "text": [
            "Epoch [288/3000]: 100%|██████████| 7/7 [00:00<00:00, 111.81it/s, loss=3.17]\n"
          ]
        },
        {
          "output_type": "stream",
          "name": "stdout",
          "text": [
            "Epoch [288/3000]: Train loss: 3.3461, Valid loss: 3.5527\n"
          ]
        },
        {
          "output_type": "stream",
          "name": "stderr",
          "text": [
            "Epoch [289/3000]: 100%|██████████| 7/7 [00:00<00:00, 115.16it/s, loss=3.06]\n"
          ]
        },
        {
          "output_type": "stream",
          "name": "stdout",
          "text": [
            "Epoch [289/3000]: Train loss: 3.3539, Valid loss: 3.3643\n"
          ]
        },
        {
          "output_type": "stream",
          "name": "stderr",
          "text": [
            "Epoch [290/3000]: 100%|██████████| 7/7 [00:00<00:00, 113.13it/s, loss=3.6]\n"
          ]
        },
        {
          "output_type": "stream",
          "name": "stdout",
          "text": [
            "Epoch [290/3000]: Train loss: 3.4399, Valid loss: 3.9011\n"
          ]
        },
        {
          "output_type": "stream",
          "name": "stderr",
          "text": [
            "Epoch [291/3000]: 100%|██████████| 7/7 [00:00<00:00, 19.11it/s, loss=3.83]\n"
          ]
        },
        {
          "output_type": "stream",
          "name": "stdout",
          "text": [
            "Epoch [291/3000]: Train loss: 3.6862, Valid loss: 5.5644\n"
          ]
        },
        {
          "output_type": "stream",
          "name": "stderr",
          "text": [
            "Epoch [292/3000]: 100%|██████████| 7/7 [00:00<00:00, 111.07it/s, loss=3.02]\n"
          ]
        },
        {
          "output_type": "stream",
          "name": "stdout",
          "text": [
            "Epoch [292/3000]: Train loss: 3.9752, Valid loss: 5.0196\n"
          ]
        },
        {
          "output_type": "stream",
          "name": "stderr",
          "text": [
            "Epoch [293/3000]: 100%|██████████| 7/7 [00:00<00:00, 97.01it/s, loss=2.94]\n"
          ]
        },
        {
          "output_type": "stream",
          "name": "stdout",
          "text": [
            "Epoch [293/3000]: Train loss: 3.7169, Valid loss: 3.4221\n"
          ]
        },
        {
          "output_type": "stream",
          "name": "stderr",
          "text": [
            "Epoch [294/3000]: 100%|██████████| 7/7 [00:00<00:00, 109.91it/s, loss=3.52]\n"
          ]
        },
        {
          "output_type": "stream",
          "name": "stdout",
          "text": [
            "Epoch [294/3000]: Train loss: 3.3945, Valid loss: 3.3744\n"
          ]
        },
        {
          "output_type": "stream",
          "name": "stderr",
          "text": [
            "Epoch [295/3000]: 100%|██████████| 7/7 [00:00<00:00, 105.34it/s, loss=3.3]\n"
          ]
        },
        {
          "output_type": "stream",
          "name": "stdout",
          "text": [
            "Epoch [295/3000]: Train loss: 3.3507, Valid loss: 3.8723\n"
          ]
        },
        {
          "output_type": "stream",
          "name": "stderr",
          "text": [
            "Epoch [296/3000]: 100%|██████████| 7/7 [00:00<00:00, 109.84it/s, loss=3.19]\n"
          ]
        },
        {
          "output_type": "stream",
          "name": "stdout",
          "text": [
            "Epoch [296/3000]: Train loss: 3.8136, Valid loss: 3.8178\n"
          ]
        },
        {
          "output_type": "stream",
          "name": "stderr",
          "text": [
            "Epoch [297/3000]: 100%|██████████| 7/7 [00:00<00:00, 117.41it/s, loss=2.86]\n"
          ]
        },
        {
          "output_type": "stream",
          "name": "stdout",
          "text": [
            "Epoch [297/3000]: Train loss: 4.0254, Valid loss: 5.2295\n"
          ]
        },
        {
          "output_type": "stream",
          "name": "stderr",
          "text": [
            "Epoch [298/3000]: 100%|██████████| 7/7 [00:00<00:00, 131.10it/s, loss=4.44]\n"
          ]
        },
        {
          "output_type": "stream",
          "name": "stdout",
          "text": [
            "Epoch [298/3000]: Train loss: 4.0570, Valid loss: 3.9346\n"
          ]
        },
        {
          "output_type": "stream",
          "name": "stderr",
          "text": [
            "Epoch [299/3000]: 100%|██████████| 7/7 [00:00<00:00, 105.16it/s, loss=3.43]\n"
          ]
        },
        {
          "output_type": "stream",
          "name": "stdout",
          "text": [
            "Epoch [299/3000]: Train loss: 3.7936, Valid loss: 3.2413\n",
            "Saving model with loss 3.241...\n"
          ]
        },
        {
          "output_type": "stream",
          "name": "stderr",
          "text": [
            "Epoch [300/3000]: 100%|██████████| 7/7 [00:00<00:00, 104.84it/s, loss=4.63]\n"
          ]
        },
        {
          "output_type": "stream",
          "name": "stdout",
          "text": [
            "Epoch [300/3000]: Train loss: 3.8664, Valid loss: 4.0571\n"
          ]
        },
        {
          "output_type": "stream",
          "name": "stderr",
          "text": [
            "Epoch [301/3000]: 100%|██████████| 7/7 [00:00<00:00, 128.79it/s, loss=3.6]\n"
          ]
        },
        {
          "output_type": "stream",
          "name": "stdout",
          "text": [
            "Epoch [301/3000]: Train loss: 4.8377, Valid loss: 11.0920\n"
          ]
        },
        {
          "output_type": "stream",
          "name": "stderr",
          "text": [
            "Epoch [302/3000]: 100%|██████████| 7/7 [00:00<00:00, 131.28it/s, loss=7.17]\n"
          ]
        },
        {
          "output_type": "stream",
          "name": "stdout",
          "text": [
            "Epoch [302/3000]: Train loss: 8.1661, Valid loss: 3.3491\n"
          ]
        },
        {
          "output_type": "stream",
          "name": "stderr",
          "text": [
            "Epoch [303/3000]: 100%|██████████| 7/7 [00:00<00:00, 124.31it/s, loss=3.2]\n"
          ]
        },
        {
          "output_type": "stream",
          "name": "stdout",
          "text": [
            "Epoch [303/3000]: Train loss: 3.5695, Valid loss: 3.3467\n"
          ]
        },
        {
          "output_type": "stream",
          "name": "stderr",
          "text": [
            "Epoch [304/3000]: 100%|██████████| 7/7 [00:00<00:00, 136.22it/s, loss=3.74]\n"
          ]
        },
        {
          "output_type": "stream",
          "name": "stdout",
          "text": [
            "Epoch [304/3000]: Train loss: 3.3683, Valid loss: 3.3622\n"
          ]
        },
        {
          "output_type": "stream",
          "name": "stderr",
          "text": [
            "Epoch [305/3000]: 100%|██████████| 7/7 [00:00<00:00, 123.96it/s, loss=6.34]\n"
          ]
        },
        {
          "output_type": "stream",
          "name": "stdout",
          "text": [
            "Epoch [305/3000]: Train loss: 3.8848, Valid loss: 4.8242\n"
          ]
        },
        {
          "output_type": "stream",
          "name": "stderr",
          "text": [
            "Epoch [306/3000]: 100%|██████████| 7/7 [00:00<00:00, 129.22it/s, loss=2.81]\n"
          ]
        },
        {
          "output_type": "stream",
          "name": "stdout",
          "text": [
            "Epoch [306/3000]: Train loss: 4.0418, Valid loss: 6.4113\n"
          ]
        },
        {
          "output_type": "stream",
          "name": "stderr",
          "text": [
            "Epoch [307/3000]: 100%|██████████| 7/7 [00:00<00:00, 129.12it/s, loss=8.64]\n"
          ]
        },
        {
          "output_type": "stream",
          "name": "stdout",
          "text": [
            "Epoch [307/3000]: Train loss: 5.9443, Valid loss: 3.9888\n"
          ]
        },
        {
          "output_type": "stream",
          "name": "stderr",
          "text": [
            "Epoch [308/3000]: 100%|██████████| 7/7 [00:00<00:00, 131.68it/s, loss=3.07]\n"
          ]
        },
        {
          "output_type": "stream",
          "name": "stdout",
          "text": [
            "Epoch [308/3000]: Train loss: 3.9141, Valid loss: 3.8059\n"
          ]
        },
        {
          "output_type": "stream",
          "name": "stderr",
          "text": [
            "Epoch [309/3000]: 100%|██████████| 7/7 [00:00<00:00, 129.65it/s, loss=2.9]\n"
          ]
        },
        {
          "output_type": "stream",
          "name": "stdout",
          "text": [
            "Epoch [309/3000]: Train loss: 3.3829, Valid loss: 4.5109\n"
          ]
        },
        {
          "output_type": "stream",
          "name": "stderr",
          "text": [
            "Epoch [310/3000]: 100%|██████████| 7/7 [00:00<00:00, 109.09it/s, loss=3.81]\n"
          ]
        },
        {
          "output_type": "stream",
          "name": "stdout",
          "text": [
            "Epoch [310/3000]: Train loss: 3.7242, Valid loss: 3.2255\n",
            "Saving model with loss 3.226...\n"
          ]
        },
        {
          "output_type": "stream",
          "name": "stderr",
          "text": [
            "Epoch [311/3000]: 100%|██████████| 7/7 [00:00<00:00, 127.78it/s, loss=2.8]\n"
          ]
        },
        {
          "output_type": "stream",
          "name": "stdout",
          "text": [
            "Epoch [311/3000]: Train loss: 4.5576, Valid loss: 6.3968\n"
          ]
        },
        {
          "output_type": "stream",
          "name": "stderr",
          "text": [
            "Epoch [312/3000]: 100%|██████████| 7/7 [00:00<00:00, 126.55it/s, loss=4.46]\n"
          ]
        },
        {
          "output_type": "stream",
          "name": "stdout",
          "text": [
            "Epoch [312/3000]: Train loss: 4.9110, Valid loss: 3.7245\n"
          ]
        },
        {
          "output_type": "stream",
          "name": "stderr",
          "text": [
            "Epoch [313/3000]: 100%|██████████| 7/7 [00:00<00:00, 132.32it/s, loss=3.52]\n"
          ]
        },
        {
          "output_type": "stream",
          "name": "stdout",
          "text": [
            "Epoch [313/3000]: Train loss: 3.6056, Valid loss: 3.8490\n"
          ]
        },
        {
          "output_type": "stream",
          "name": "stderr",
          "text": [
            "Epoch [314/3000]: 100%|██████████| 7/7 [00:00<00:00, 111.65it/s, loss=4.15]\n"
          ]
        },
        {
          "output_type": "stream",
          "name": "stdout",
          "text": [
            "Epoch [314/3000]: Train loss: 3.5421, Valid loss: 3.1925\n",
            "Saving model with loss 3.193...\n"
          ]
        },
        {
          "output_type": "stream",
          "name": "stderr",
          "text": [
            "Epoch [315/3000]: 100%|██████████| 7/7 [00:00<00:00, 122.17it/s, loss=3.73]\n"
          ]
        },
        {
          "output_type": "stream",
          "name": "stdout",
          "text": [
            "Epoch [315/3000]: Train loss: 4.1853, Valid loss: 5.0757\n"
          ]
        },
        {
          "output_type": "stream",
          "name": "stderr",
          "text": [
            "Epoch [316/3000]: 100%|██████████| 7/7 [00:00<00:00, 110.97it/s, loss=4.01]\n"
          ]
        },
        {
          "output_type": "stream",
          "name": "stdout",
          "text": [
            "Epoch [316/3000]: Train loss: 3.7890, Valid loss: 3.1722\n",
            "Saving model with loss 3.172...\n"
          ]
        },
        {
          "output_type": "stream",
          "name": "stderr",
          "text": [
            "Epoch [317/3000]: 100%|██████████| 7/7 [00:00<00:00, 123.97it/s, loss=3.21]\n"
          ]
        },
        {
          "output_type": "stream",
          "name": "stdout",
          "text": [
            "Epoch [317/3000]: Train loss: 3.5999, Valid loss: 5.2256\n"
          ]
        },
        {
          "output_type": "stream",
          "name": "stderr",
          "text": [
            "Epoch [318/3000]: 100%|██████████| 7/7 [00:00<00:00, 131.93it/s, loss=5.35]\n"
          ]
        },
        {
          "output_type": "stream",
          "name": "stdout",
          "text": [
            "Epoch [318/3000]: Train loss: 5.2091, Valid loss: 3.6497\n"
          ]
        },
        {
          "output_type": "stream",
          "name": "stderr",
          "text": [
            "Epoch [319/3000]: 100%|██████████| 7/7 [00:00<00:00, 133.69it/s, loss=4.02]\n"
          ]
        },
        {
          "output_type": "stream",
          "name": "stdout",
          "text": [
            "Epoch [319/3000]: Train loss: 5.1455, Valid loss: 4.9202\n"
          ]
        },
        {
          "output_type": "stream",
          "name": "stderr",
          "text": [
            "Epoch [320/3000]: 100%|██████████| 7/7 [00:00<00:00, 132.31it/s, loss=3.06]\n"
          ]
        },
        {
          "output_type": "stream",
          "name": "stdout",
          "text": [
            "Epoch [320/3000]: Train loss: 3.5657, Valid loss: 3.9007\n"
          ]
        },
        {
          "output_type": "stream",
          "name": "stderr",
          "text": [
            "Epoch [321/3000]: 100%|██████████| 7/7 [00:00<00:00, 126.01it/s, loss=3.37]\n"
          ]
        },
        {
          "output_type": "stream",
          "name": "stdout",
          "text": [
            "Epoch [321/3000]: Train loss: 3.6851, Valid loss: 3.3680\n"
          ]
        },
        {
          "output_type": "stream",
          "name": "stderr",
          "text": [
            "Epoch [322/3000]: 100%|██████████| 7/7 [00:00<00:00, 125.35it/s, loss=3.15]\n"
          ]
        },
        {
          "output_type": "stream",
          "name": "stdout",
          "text": [
            "Epoch [322/3000]: Train loss: 3.2597, Valid loss: 3.2259\n"
          ]
        },
        {
          "output_type": "stream",
          "name": "stderr",
          "text": [
            "Epoch [323/3000]: 100%|██████████| 7/7 [00:00<00:00, 130.11it/s, loss=3.76]"
          ]
        },
        {
          "output_type": "stream",
          "name": "stdout",
          "text": [
            "Epoch [323/3000]: Train loss: 3.1907, Valid loss: 3.4323"
          ]
        },
        {
          "output_type": "stream",
          "name": "stderr",
          "text": [
            "\n"
          ]
        },
        {
          "output_type": "stream",
          "name": "stdout",
          "text": [
            "\n"
          ]
        },
        {
          "output_type": "stream",
          "name": "stderr",
          "text": [
            "Epoch [324/3000]: 100%|██████████| 7/7 [00:00<00:00, 114.86it/s, loss=2.93]\n"
          ]
        },
        {
          "output_type": "stream",
          "name": "stdout",
          "text": [
            "Epoch [324/3000]: Train loss: 3.1966, Valid loss: 3.3379\n"
          ]
        },
        {
          "output_type": "stream",
          "name": "stderr",
          "text": [
            "Epoch [325/3000]: 100%|██████████| 7/7 [00:00<00:00, 106.47it/s, loss=3.29]\n"
          ]
        },
        {
          "output_type": "stream",
          "name": "stdout",
          "text": [
            "Epoch [325/3000]: Train loss: 3.1826, Valid loss: 3.4791\n"
          ]
        },
        {
          "output_type": "stream",
          "name": "stderr",
          "text": [
            "Epoch [326/3000]: 100%|██████████| 7/7 [00:00<00:00, 118.02it/s, loss=4.85]\n"
          ]
        },
        {
          "output_type": "stream",
          "name": "stdout",
          "text": [
            "Epoch [326/3000]: Train loss: 3.6738, Valid loss: 3.2212\n"
          ]
        },
        {
          "output_type": "stream",
          "name": "stderr",
          "text": [
            "Epoch [327/3000]: 100%|██████████| 7/7 [00:00<00:00, 114.63it/s, loss=3]\n"
          ]
        },
        {
          "output_type": "stream",
          "name": "stdout",
          "text": [
            "Epoch [327/3000]: Train loss: 3.4727, Valid loss: 3.4944\n"
          ]
        },
        {
          "output_type": "stream",
          "name": "stderr",
          "text": [
            "Epoch [328/3000]: 100%|██████████| 7/7 [00:00<00:00, 116.28it/s, loss=3.31]\n"
          ]
        },
        {
          "output_type": "stream",
          "name": "stdout",
          "text": [
            "Epoch [328/3000]: Train loss: 3.1431, Valid loss: 4.2371\n"
          ]
        },
        {
          "output_type": "stream",
          "name": "stderr",
          "text": [
            "Epoch [329/3000]: 100%|██████████| 7/7 [00:00<00:00, 106.17it/s, loss=6.1]\n"
          ]
        },
        {
          "output_type": "stream",
          "name": "stdout",
          "text": [
            "Epoch [329/3000]: Train loss: 4.4596, Valid loss: 3.7185\n"
          ]
        },
        {
          "output_type": "stream",
          "name": "stderr",
          "text": [
            "Epoch [330/3000]: 100%|██████████| 7/7 [00:00<00:00, 114.26it/s, loss=3.76]\n"
          ]
        },
        {
          "output_type": "stream",
          "name": "stdout",
          "text": [
            "Epoch [330/3000]: Train loss: 4.2693, Valid loss: 3.9662\n"
          ]
        },
        {
          "output_type": "stream",
          "name": "stderr",
          "text": [
            "Epoch [331/3000]: 100%|██████████| 7/7 [00:00<00:00, 117.40it/s, loss=3.36]\n"
          ]
        },
        {
          "output_type": "stream",
          "name": "stdout",
          "text": [
            "Epoch [331/3000]: Train loss: 3.3121, Valid loss: 3.2407\n"
          ]
        },
        {
          "output_type": "stream",
          "name": "stderr",
          "text": [
            "Epoch [332/3000]: 100%|██████████| 7/7 [00:00<00:00, 125.23it/s, loss=2.86]\n"
          ]
        },
        {
          "output_type": "stream",
          "name": "stdout",
          "text": [
            "Epoch [332/3000]: Train loss: 3.2590, Valid loss: 5.0832\n"
          ]
        },
        {
          "output_type": "stream",
          "name": "stderr",
          "text": [
            "Epoch [333/3000]: 100%|██████████| 7/7 [00:00<00:00, 123.91it/s, loss=4.64]\n"
          ]
        },
        {
          "output_type": "stream",
          "name": "stdout",
          "text": [
            "Epoch [333/3000]: Train loss: 4.3492, Valid loss: 3.1869\n"
          ]
        },
        {
          "output_type": "stream",
          "name": "stderr",
          "text": [
            "Epoch [334/3000]: 100%|██████████| 7/7 [00:00<00:00, 113.11it/s, loss=2.83]\n"
          ]
        },
        {
          "output_type": "stream",
          "name": "stdout",
          "text": [
            "Epoch [334/3000]: Train loss: 3.2166, Valid loss: 3.2698\n"
          ]
        },
        {
          "output_type": "stream",
          "name": "stderr",
          "text": [
            "Epoch [335/3000]: 100%|██████████| 7/7 [00:00<00:00, 120.57it/s, loss=4.28]\n"
          ]
        },
        {
          "output_type": "stream",
          "name": "stdout",
          "text": [
            "Epoch [335/3000]: Train loss: 3.2445, Valid loss: 3.7995\n"
          ]
        },
        {
          "output_type": "stream",
          "name": "stderr",
          "text": [
            "Epoch [336/3000]: 100%|██████████| 7/7 [00:00<00:00, 121.21it/s, loss=3.56]\n"
          ]
        },
        {
          "output_type": "stream",
          "name": "stdout",
          "text": [
            "Epoch [336/3000]: Train loss: 3.3581, Valid loss: 3.2153\n"
          ]
        },
        {
          "output_type": "stream",
          "name": "stderr",
          "text": [
            "Epoch [337/3000]: 100%|██████████| 7/7 [00:00<00:00, 119.14it/s, loss=3.2]\n"
          ]
        },
        {
          "output_type": "stream",
          "name": "stdout",
          "text": [
            "Epoch [337/3000]: Train loss: 3.4987, Valid loss: 3.7408\n"
          ]
        },
        {
          "output_type": "stream",
          "name": "stderr",
          "text": [
            "Epoch [338/3000]: 100%|██████████| 7/7 [00:00<00:00, 120.61it/s, loss=3.53]\n"
          ]
        },
        {
          "output_type": "stream",
          "name": "stdout",
          "text": [
            "Epoch [338/3000]: Train loss: 3.2803, Valid loss: 3.3241\n"
          ]
        },
        {
          "output_type": "stream",
          "name": "stderr",
          "text": [
            "Epoch [339/3000]: 100%|██████████| 7/7 [00:00<00:00, 114.46it/s, loss=3.12]\n"
          ]
        },
        {
          "output_type": "stream",
          "name": "stdout",
          "text": [
            "Epoch [339/3000]: Train loss: 3.2320, Valid loss: 3.7560\n"
          ]
        },
        {
          "output_type": "stream",
          "name": "stderr",
          "text": [
            "Epoch [340/3000]: 100%|██████████| 7/7 [00:00<00:00, 123.29it/s, loss=3.24]\n"
          ]
        },
        {
          "output_type": "stream",
          "name": "stdout",
          "text": [
            "Epoch [340/3000]: Train loss: 3.4877, Valid loss: 3.3127\n"
          ]
        },
        {
          "output_type": "stream",
          "name": "stderr",
          "text": [
            "Epoch [341/3000]: 100%|██████████| 7/7 [00:00<00:00, 128.77it/s, loss=3.04]\n"
          ]
        },
        {
          "output_type": "stream",
          "name": "stdout",
          "text": [
            "Epoch [341/3000]: Train loss: 3.1421, Valid loss: 3.2736\n"
          ]
        },
        {
          "output_type": "stream",
          "name": "stderr",
          "text": [
            "Epoch [342/3000]: 100%|██████████| 7/7 [00:00<00:00, 124.68it/s, loss=3.42]\n"
          ]
        },
        {
          "output_type": "stream",
          "name": "stdout",
          "text": [
            "Epoch [342/3000]: Train loss: 4.0958, Valid loss: 4.3961\n"
          ]
        },
        {
          "output_type": "stream",
          "name": "stderr",
          "text": [
            "Epoch [343/3000]: 100%|██████████| 7/7 [00:00<00:00, 125.43it/s, loss=3.73]\n"
          ]
        },
        {
          "output_type": "stream",
          "name": "stdout",
          "text": [
            "Epoch [343/3000]: Train loss: 3.6231, Valid loss: 3.1539\n",
            "Saving model with loss 3.154...\n"
          ]
        },
        {
          "output_type": "stream",
          "name": "stderr",
          "text": [
            "Epoch [344/3000]: 100%|██████████| 7/7 [00:00<00:00, 126.07it/s, loss=3.2]\n"
          ]
        },
        {
          "output_type": "stream",
          "name": "stdout",
          "text": [
            "Epoch [344/3000]: Train loss: 3.0917, Valid loss: 3.6615\n"
          ]
        },
        {
          "output_type": "stream",
          "name": "stderr",
          "text": [
            "Epoch [345/3000]: 100%|██████████| 7/7 [00:00<00:00, 108.98it/s, loss=2.94]\n"
          ]
        },
        {
          "output_type": "stream",
          "name": "stdout",
          "text": [
            "Epoch [345/3000]: Train loss: 3.1354, Valid loss: 3.2928\n"
          ]
        },
        {
          "output_type": "stream",
          "name": "stderr",
          "text": [
            "Epoch [346/3000]: 100%|██████████| 7/7 [00:00<00:00, 124.43it/s, loss=2.87]\n"
          ]
        },
        {
          "output_type": "stream",
          "name": "stdout",
          "text": [
            "Epoch [346/3000]: Train loss: 3.3179, Valid loss: 3.8630\n"
          ]
        },
        {
          "output_type": "stream",
          "name": "stderr",
          "text": [
            "Epoch [347/3000]: 100%|██████████| 7/7 [00:00<00:00, 132.13it/s, loss=13.2]\n"
          ]
        },
        {
          "output_type": "stream",
          "name": "stdout",
          "text": [
            "Epoch [347/3000]: Train loss: 5.7778, Valid loss: 9.3691\n"
          ]
        },
        {
          "output_type": "stream",
          "name": "stderr",
          "text": [
            "Epoch [348/3000]: 100%|██████████| 7/7 [00:00<00:00, 120.07it/s, loss=2.44]\n"
          ]
        },
        {
          "output_type": "stream",
          "name": "stdout",
          "text": [
            "Epoch [348/3000]: Train loss: 8.3099, Valid loss: 8.3333\n"
          ]
        },
        {
          "output_type": "stream",
          "name": "stderr",
          "text": [
            "Epoch [349/3000]: 100%|██████████| 7/7 [00:00<00:00, 127.25it/s, loss=6.53]\n"
          ]
        },
        {
          "output_type": "stream",
          "name": "stdout",
          "text": [
            "Epoch [349/3000]: Train loss: 6.3782, Valid loss: 4.6912\n"
          ]
        },
        {
          "output_type": "stream",
          "name": "stderr",
          "text": [
            "Epoch [350/3000]: 100%|██████████| 7/7 [00:00<00:00, 123.94it/s, loss=4.06]\n"
          ]
        },
        {
          "output_type": "stream",
          "name": "stdout",
          "text": [
            "Epoch [350/3000]: Train loss: 5.6456, Valid loss: 6.6453\n"
          ]
        },
        {
          "output_type": "stream",
          "name": "stderr",
          "text": [
            "Epoch [351/3000]: 100%|██████████| 7/7 [00:00<00:00, 122.96it/s, loss=3.97]\n"
          ]
        },
        {
          "output_type": "stream",
          "name": "stdout",
          "text": [
            "Epoch [351/3000]: Train loss: 4.5552, Valid loss: 3.3703\n"
          ]
        },
        {
          "output_type": "stream",
          "name": "stderr",
          "text": [
            "Epoch [352/3000]: 100%|██████████| 7/7 [00:00<00:00, 124.51it/s, loss=4.79]\n"
          ]
        },
        {
          "output_type": "stream",
          "name": "stdout",
          "text": [
            "Epoch [352/3000]: Train loss: 4.2142, Valid loss: 5.4956\n"
          ]
        },
        {
          "output_type": "stream",
          "name": "stderr",
          "text": [
            "Epoch [353/3000]: 100%|██████████| 7/7 [00:00<00:00, 118.36it/s, loss=2.93]\n"
          ]
        },
        {
          "output_type": "stream",
          "name": "stdout",
          "text": [
            "Epoch [353/3000]: Train loss: 3.9359, Valid loss: 3.1044\n",
            "Saving model with loss 3.104...\n"
          ]
        },
        {
          "output_type": "stream",
          "name": "stderr",
          "text": [
            "Epoch [354/3000]: 100%|██████████| 7/7 [00:00<00:00, 131.93it/s, loss=3.2]\n"
          ]
        },
        {
          "output_type": "stream",
          "name": "stdout",
          "text": [
            "Epoch [354/3000]: Train loss: 3.0525, Valid loss: 3.7246\n"
          ]
        },
        {
          "output_type": "stream",
          "name": "stderr",
          "text": [
            "Epoch [355/3000]: 100%|██████████| 7/7 [00:00<00:00, 128.68it/s, loss=4.36]\n"
          ]
        },
        {
          "output_type": "stream",
          "name": "stdout",
          "text": [
            "Epoch [355/3000]: Train loss: 3.4631, Valid loss: 3.6189\n"
          ]
        },
        {
          "output_type": "stream",
          "name": "stderr",
          "text": [
            "Epoch [356/3000]: 100%|██████████| 7/7 [00:00<00:00, 126.24it/s, loss=2.59]\n"
          ]
        },
        {
          "output_type": "stream",
          "name": "stdout",
          "text": [
            "Epoch [356/3000]: Train loss: 3.2844, Valid loss: 3.1181\n"
          ]
        },
        {
          "output_type": "stream",
          "name": "stderr",
          "text": [
            "Epoch [357/3000]: 100%|██████████| 7/7 [00:00<00:00, 121.54it/s, loss=2.77]\n"
          ]
        },
        {
          "output_type": "stream",
          "name": "stdout",
          "text": [
            "Epoch [357/3000]: Train loss: 4.6087, Valid loss: 8.4024\n"
          ]
        },
        {
          "output_type": "stream",
          "name": "stderr",
          "text": [
            "Epoch [358/3000]: 100%|██████████| 7/7 [00:00<00:00, 101.11it/s, loss=8.85]\n"
          ]
        },
        {
          "output_type": "stream",
          "name": "stdout",
          "text": [
            "Epoch [358/3000]: Train loss: 5.7280, Valid loss: 9.2072\n"
          ]
        },
        {
          "output_type": "stream",
          "name": "stderr",
          "text": [
            "Epoch [359/3000]: 100%|██████████| 7/7 [00:00<00:00, 125.98it/s, loss=3.01]\n"
          ]
        },
        {
          "output_type": "stream",
          "name": "stdout",
          "text": [
            "Epoch [359/3000]: Train loss: 6.4496, Valid loss: 6.3003\n"
          ]
        },
        {
          "output_type": "stream",
          "name": "stderr",
          "text": [
            "Epoch [360/3000]: 100%|██████████| 7/7 [00:00<00:00, 126.07it/s, loss=8.62]\n"
          ]
        },
        {
          "output_type": "stream",
          "name": "stdout",
          "text": [
            "Epoch [360/3000]: Train loss: 5.6695, Valid loss: 7.0842\n"
          ]
        },
        {
          "output_type": "stream",
          "name": "stderr",
          "text": [
            "Epoch [361/3000]: 100%|██████████| 7/7 [00:00<00:00, 132.71it/s, loss=3.82]\n"
          ]
        },
        {
          "output_type": "stream",
          "name": "stdout",
          "text": [
            "Epoch [361/3000]: Train loss: 5.2187, Valid loss: 4.4825\n"
          ]
        },
        {
          "output_type": "stream",
          "name": "stderr",
          "text": [
            "Epoch [362/3000]: 100%|██████████| 7/7 [00:00<00:00, 123.04it/s, loss=2.91]\n"
          ]
        },
        {
          "output_type": "stream",
          "name": "stdout",
          "text": [
            "Epoch [362/3000]: Train loss: 3.6243, Valid loss: 3.7405\n"
          ]
        },
        {
          "output_type": "stream",
          "name": "stderr",
          "text": [
            "Epoch [363/3000]: 100%|██████████| 7/7 [00:00<00:00, 119.91it/s, loss=4.4]\n"
          ]
        },
        {
          "output_type": "stream",
          "name": "stdout",
          "text": [
            "Epoch [363/3000]: Train loss: 3.8713, Valid loss: 4.4954\n"
          ]
        },
        {
          "output_type": "stream",
          "name": "stderr",
          "text": [
            "Epoch [364/3000]: 100%|██████████| 7/7 [00:00<00:00, 122.15it/s, loss=3.45]\n"
          ]
        },
        {
          "output_type": "stream",
          "name": "stdout",
          "text": [
            "Epoch [364/3000]: Train loss: 3.6724, Valid loss: 3.1354\n"
          ]
        },
        {
          "output_type": "stream",
          "name": "stderr",
          "text": [
            "Epoch [365/3000]: 100%|██████████| 7/7 [00:00<00:00, 126.59it/s, loss=2.93]\n"
          ]
        },
        {
          "output_type": "stream",
          "name": "stdout",
          "text": [
            "Epoch [365/3000]: Train loss: 3.0278, Valid loss: 3.1147\n"
          ]
        },
        {
          "output_type": "stream",
          "name": "stderr",
          "text": [
            "Epoch [366/3000]: 100%|██████████| 7/7 [00:00<00:00, 122.52it/s, loss=3.16]\n"
          ]
        },
        {
          "output_type": "stream",
          "name": "stdout",
          "text": [
            "Epoch [366/3000]: Train loss: 3.1277, Valid loss: 3.0589\n",
            "Saving model with loss 3.059...\n"
          ]
        },
        {
          "output_type": "stream",
          "name": "stderr",
          "text": [
            "Epoch [367/3000]: 100%|██████████| 7/7 [00:00<00:00, 115.18it/s, loss=2.86]\n"
          ]
        },
        {
          "output_type": "stream",
          "name": "stdout",
          "text": [
            "Epoch [367/3000]: Train loss: 3.1462, Valid loss: 3.5773\n"
          ]
        },
        {
          "output_type": "stream",
          "name": "stderr",
          "text": [
            "Epoch [368/3000]: 100%|██████████| 7/7 [00:00<00:00, 127.80it/s, loss=3.78]\n"
          ]
        },
        {
          "output_type": "stream",
          "name": "stdout",
          "text": [
            "Epoch [368/3000]: Train loss: 3.1855, Valid loss: 3.1347\n"
          ]
        },
        {
          "output_type": "stream",
          "name": "stderr",
          "text": [
            "Epoch [369/3000]: 100%|██████████| 7/7 [00:00<00:00, 126.79it/s, loss=3.75]\n"
          ]
        },
        {
          "output_type": "stream",
          "name": "stdout",
          "text": [
            "Epoch [369/3000]: Train loss: 3.1620, Valid loss: 3.5398\n"
          ]
        },
        {
          "output_type": "stream",
          "name": "stderr",
          "text": [
            "Epoch [370/3000]: 100%|██████████| 7/7 [00:00<00:00, 118.21it/s, loss=4.44]\n"
          ]
        },
        {
          "output_type": "stream",
          "name": "stdout",
          "text": [
            "Epoch [370/3000]: Train loss: 4.0275, Valid loss: 4.0570\n"
          ]
        },
        {
          "output_type": "stream",
          "name": "stderr",
          "text": [
            "Epoch [371/3000]: 100%|██████████| 7/7 [00:00<00:00, 101.39it/s, loss=3.96]\n"
          ]
        },
        {
          "output_type": "stream",
          "name": "stdout",
          "text": [
            "Epoch [371/3000]: Train loss: 6.2407, Valid loss: 3.9500\n"
          ]
        },
        {
          "output_type": "stream",
          "name": "stderr",
          "text": [
            "Epoch [372/3000]: 100%|██████████| 7/7 [00:00<00:00, 119.30it/s, loss=3.51]\n"
          ]
        },
        {
          "output_type": "stream",
          "name": "stdout",
          "text": [
            "Epoch [372/3000]: Train loss: 4.1190, Valid loss: 6.9678\n"
          ]
        },
        {
          "output_type": "stream",
          "name": "stderr",
          "text": [
            "Epoch [373/3000]: 100%|██████████| 7/7 [00:00<00:00, 112.15it/s, loss=3.49]\n"
          ]
        },
        {
          "output_type": "stream",
          "name": "stdout",
          "text": [
            "Epoch [373/3000]: Train loss: 4.7784, Valid loss: 3.1898\n"
          ]
        },
        {
          "output_type": "stream",
          "name": "stderr",
          "text": [
            "Epoch [374/3000]: 100%|██████████| 7/7 [00:00<00:00, 115.54it/s, loss=3.04]\n"
          ]
        },
        {
          "output_type": "stream",
          "name": "stdout",
          "text": [
            "Epoch [374/3000]: Train loss: 3.1472, Valid loss: 3.2953\n"
          ]
        },
        {
          "output_type": "stream",
          "name": "stderr",
          "text": [
            "Epoch [375/3000]: 100%|██████████| 7/7 [00:00<00:00, 117.22it/s, loss=4.52]\n"
          ]
        },
        {
          "output_type": "stream",
          "name": "stdout",
          "text": [
            "Epoch [375/3000]: Train loss: 3.4390, Valid loss: 3.2839\n"
          ]
        },
        {
          "output_type": "stream",
          "name": "stderr",
          "text": [
            "Epoch [376/3000]: 100%|██████████| 7/7 [00:00<00:00, 117.93it/s, loss=2.19]\n"
          ]
        },
        {
          "output_type": "stream",
          "name": "stdout",
          "text": [
            "Epoch [376/3000]: Train loss: 3.2575, Valid loss: 4.6243\n"
          ]
        },
        {
          "output_type": "stream",
          "name": "stderr",
          "text": [
            "Epoch [377/3000]: 100%|██████████| 7/7 [00:00<00:00, 120.60it/s, loss=5.29]\n"
          ]
        },
        {
          "output_type": "stream",
          "name": "stdout",
          "text": [
            "Epoch [377/3000]: Train loss: 4.4159, Valid loss: 4.7128\n"
          ]
        },
        {
          "output_type": "stream",
          "name": "stderr",
          "text": [
            "Epoch [378/3000]: 100%|██████████| 7/7 [00:00<00:00, 122.95it/s, loss=3.51]\n"
          ]
        },
        {
          "output_type": "stream",
          "name": "stdout",
          "text": [
            "Epoch [378/3000]: Train loss: 4.8673, Valid loss: 4.4327\n"
          ]
        },
        {
          "output_type": "stream",
          "name": "stderr",
          "text": [
            "Epoch [379/3000]: 100%|██████████| 7/7 [00:00<00:00, 109.79it/s, loss=3.53]\n"
          ]
        },
        {
          "output_type": "stream",
          "name": "stdout",
          "text": [
            "Epoch [379/3000]: Train loss: 3.6889, Valid loss: 5.6688\n"
          ]
        },
        {
          "output_type": "stream",
          "name": "stderr",
          "text": [
            "Epoch [380/3000]: 100%|██████████| 7/7 [00:00<00:00, 115.51it/s, loss=4.03]\n"
          ]
        },
        {
          "output_type": "stream",
          "name": "stdout",
          "text": [
            "Epoch [380/3000]: Train loss: 3.9957, Valid loss: 3.1828\n"
          ]
        },
        {
          "output_type": "stream",
          "name": "stderr",
          "text": [
            "Epoch [381/3000]: 100%|██████████| 7/7 [00:00<00:00, 128.12it/s, loss=5.55]\n"
          ]
        },
        {
          "output_type": "stream",
          "name": "stdout",
          "text": [
            "Epoch [381/3000]: Train loss: 4.1222, Valid loss: 4.3018\n"
          ]
        },
        {
          "output_type": "stream",
          "name": "stderr",
          "text": [
            "Epoch [382/3000]: 100%|██████████| 7/7 [00:00<00:00, 118.61it/s, loss=3.39]\n"
          ]
        },
        {
          "output_type": "stream",
          "name": "stdout",
          "text": [
            "Epoch [382/3000]: Train loss: 4.0766, Valid loss: 3.4167\n"
          ]
        },
        {
          "output_type": "stream",
          "name": "stderr",
          "text": [
            "Epoch [383/3000]: 100%|██████████| 7/7 [00:00<00:00, 126.40it/s, loss=2.92]\n"
          ]
        },
        {
          "output_type": "stream",
          "name": "stdout",
          "text": [
            "Epoch [383/3000]: Train loss: 4.3724, Valid loss: 5.7501\n"
          ]
        },
        {
          "output_type": "stream",
          "name": "stderr",
          "text": [
            "Epoch [384/3000]: 100%|██████████| 7/7 [00:00<00:00, 127.81it/s, loss=2.96]\n"
          ]
        },
        {
          "output_type": "stream",
          "name": "stdout",
          "text": [
            "Epoch [384/3000]: Train loss: 3.9048, Valid loss: 3.0193\n",
            "Saving model with loss 3.019...\n"
          ]
        },
        {
          "output_type": "stream",
          "name": "stderr",
          "text": [
            "Epoch [385/3000]: 100%|██████████| 7/7 [00:00<00:00, 125.64it/s, loss=2.58]\n"
          ]
        },
        {
          "output_type": "stream",
          "name": "stdout",
          "text": [
            "Epoch [385/3000]: Train loss: 2.9491, Valid loss: 3.1148\n"
          ]
        },
        {
          "output_type": "stream",
          "name": "stderr",
          "text": [
            "Epoch [386/3000]: 100%|██████████| 7/7 [00:00<00:00, 138.50it/s, loss=3.39]"
          ]
        },
        {
          "output_type": "stream",
          "name": "stdout",
          "text": [
            "Epoch [386/3000]: Train loss: 3.0269, Valid loss: 3.0401"
          ]
        },
        {
          "output_type": "stream",
          "name": "stderr",
          "text": [
            "\n"
          ]
        },
        {
          "output_type": "stream",
          "name": "stdout",
          "text": [
            "\n"
          ]
        },
        {
          "output_type": "stream",
          "name": "stderr",
          "text": [
            "Epoch [387/3000]: 100%|██████████| 7/7 [00:00<00:00, 134.66it/s, loss=3.48]\n"
          ]
        },
        {
          "output_type": "stream",
          "name": "stdout",
          "text": [
            "Epoch [387/3000]: Train loss: 3.0095, Valid loss: 4.8316\n"
          ]
        },
        {
          "output_type": "stream",
          "name": "stderr",
          "text": [
            "Epoch [388/3000]: 100%|██████████| 7/7 [00:00<00:00, 105.12it/s, loss=6.61]\n"
          ]
        },
        {
          "output_type": "stream",
          "name": "stdout",
          "text": [
            "Epoch [388/3000]: Train loss: 4.5487, Valid loss: 3.5553\n"
          ]
        },
        {
          "output_type": "stream",
          "name": "stderr",
          "text": [
            "Epoch [389/3000]: 100%|██████████| 7/7 [00:00<00:00, 121.71it/s, loss=3.68]\n"
          ]
        },
        {
          "output_type": "stream",
          "name": "stdout",
          "text": [
            "Epoch [389/3000]: Train loss: 4.2081, Valid loss: 7.4052\n"
          ]
        },
        {
          "output_type": "stream",
          "name": "stderr",
          "text": [
            "Epoch [390/3000]: 100%|██████████| 7/7 [00:00<00:00, 114.99it/s, loss=5.79]\n"
          ]
        },
        {
          "output_type": "stream",
          "name": "stdout",
          "text": [
            "Epoch [390/3000]: Train loss: 7.8846, Valid loss: 11.3178\n"
          ]
        },
        {
          "output_type": "stream",
          "name": "stderr",
          "text": [
            "Epoch [391/3000]: 100%|██████████| 7/7 [00:00<00:00, 125.20it/s, loss=8.39]\n"
          ]
        },
        {
          "output_type": "stream",
          "name": "stdout",
          "text": [
            "Epoch [391/3000]: Train loss: 7.1256, Valid loss: 6.2278\n"
          ]
        },
        {
          "output_type": "stream",
          "name": "stderr",
          "text": [
            "Epoch [392/3000]: 100%|██████████| 7/7 [00:00<00:00, 120.27it/s, loss=6.53]\n"
          ]
        },
        {
          "output_type": "stream",
          "name": "stdout",
          "text": [
            "Epoch [392/3000]: Train loss: 6.8307, Valid loss: 9.0555\n"
          ]
        },
        {
          "output_type": "stream",
          "name": "stderr",
          "text": [
            "Epoch [393/3000]: 100%|██████████| 7/7 [00:00<00:00, 114.51it/s, loss=6.47]\n"
          ]
        },
        {
          "output_type": "stream",
          "name": "stdout",
          "text": [
            "Epoch [393/3000]: Train loss: 6.1735, Valid loss: 7.9394\n"
          ]
        },
        {
          "output_type": "stream",
          "name": "stderr",
          "text": [
            "Epoch [394/3000]: 100%|██████████| 7/7 [00:00<00:00, 116.48it/s, loss=7.61]\n"
          ]
        },
        {
          "output_type": "stream",
          "name": "stdout",
          "text": [
            "Epoch [394/3000]: Train loss: 5.9052, Valid loss: 7.5329\n"
          ]
        },
        {
          "output_type": "stream",
          "name": "stderr",
          "text": [
            "Epoch [395/3000]: 100%|██████████| 7/7 [00:00<00:00, 119.28it/s, loss=4.89]\n"
          ]
        },
        {
          "output_type": "stream",
          "name": "stdout",
          "text": [
            "Epoch [395/3000]: Train loss: 7.1447, Valid loss: 6.6194\n"
          ]
        },
        {
          "output_type": "stream",
          "name": "stderr",
          "text": [
            "Epoch [396/3000]: 100%|██████████| 7/7 [00:00<00:00, 117.69it/s, loss=20]\n"
          ]
        },
        {
          "output_type": "stream",
          "name": "stdout",
          "text": [
            "Epoch [396/3000]: Train loss: 10.1474, Valid loss: 4.4113\n"
          ]
        },
        {
          "output_type": "stream",
          "name": "stderr",
          "text": [
            "Epoch [397/3000]: 100%|██████████| 7/7 [00:00<00:00, 120.69it/s, loss=19]\n"
          ]
        },
        {
          "output_type": "stream",
          "name": "stdout",
          "text": [
            "Epoch [397/3000]: Train loss: 13.3630, Valid loss: 7.8183\n"
          ]
        },
        {
          "output_type": "stream",
          "name": "stderr",
          "text": [
            "Epoch [398/3000]: 100%|██████████| 7/7 [00:00<00:00, 123.80it/s, loss=6.75]\n"
          ]
        },
        {
          "output_type": "stream",
          "name": "stdout",
          "text": [
            "Epoch [398/3000]: Train loss: 10.6537, Valid loss: 8.9139\n"
          ]
        },
        {
          "output_type": "stream",
          "name": "stderr",
          "text": [
            "Epoch [399/3000]: 100%|██████████| 7/7 [00:00<00:00, 116.78it/s, loss=2.93]\n"
          ]
        },
        {
          "output_type": "stream",
          "name": "stdout",
          "text": [
            "Epoch [399/3000]: Train loss: 6.4054, Valid loss: 6.4561\n"
          ]
        },
        {
          "output_type": "stream",
          "name": "stderr",
          "text": [
            "Epoch [400/3000]: 100%|██████████| 7/7 [00:00<00:00, 108.22it/s, loss=4.49]\n"
          ]
        },
        {
          "output_type": "stream",
          "name": "stdout",
          "text": [
            "Epoch [400/3000]: Train loss: 4.8405, Valid loss: 7.6080\n"
          ]
        },
        {
          "output_type": "stream",
          "name": "stderr",
          "text": [
            "Epoch [401/3000]: 100%|██████████| 7/7 [00:00<00:00, 110.40it/s, loss=3.72]\n"
          ]
        },
        {
          "output_type": "stream",
          "name": "stdout",
          "text": [
            "Epoch [401/3000]: Train loss: 4.6687, Valid loss: 5.8755\n"
          ]
        },
        {
          "output_type": "stream",
          "name": "stderr",
          "text": [
            "Epoch [402/3000]: 100%|██████████| 7/7 [00:00<00:00, 116.96it/s, loss=3.51]\n"
          ]
        },
        {
          "output_type": "stream",
          "name": "stdout",
          "text": [
            "Epoch [402/3000]: Train loss: 4.0207, Valid loss: 7.1107\n"
          ]
        },
        {
          "output_type": "stream",
          "name": "stderr",
          "text": [
            "Epoch [403/3000]: 100%|██████████| 7/7 [00:00<00:00, 121.13it/s, loss=2.6]\n"
          ]
        },
        {
          "output_type": "stream",
          "name": "stdout",
          "text": [
            "Epoch [403/3000]: Train loss: 4.6584, Valid loss: 5.9137\n"
          ]
        },
        {
          "output_type": "stream",
          "name": "stderr",
          "text": [
            "Epoch [404/3000]: 100%|██████████| 7/7 [00:00<00:00, 117.41it/s, loss=2.76]\n"
          ]
        },
        {
          "output_type": "stream",
          "name": "stdout",
          "text": [
            "Epoch [404/3000]: Train loss: 4.1694, Valid loss: 3.6366\n"
          ]
        },
        {
          "output_type": "stream",
          "name": "stderr",
          "text": [
            "Epoch [405/3000]: 100%|██████████| 7/7 [00:00<00:00, 110.97it/s, loss=4.34]\n"
          ]
        },
        {
          "output_type": "stream",
          "name": "stdout",
          "text": [
            "Epoch [405/3000]: Train loss: 3.7540, Valid loss: 3.2764\n"
          ]
        },
        {
          "output_type": "stream",
          "name": "stderr",
          "text": [
            "Epoch [406/3000]: 100%|██████████| 7/7 [00:00<00:00, 116.66it/s, loss=3.44]\n"
          ]
        },
        {
          "output_type": "stream",
          "name": "stdout",
          "text": [
            "Epoch [406/3000]: Train loss: 3.4660, Valid loss: 3.0223\n"
          ]
        },
        {
          "output_type": "stream",
          "name": "stderr",
          "text": [
            "Epoch [407/3000]: 100%|██████████| 7/7 [00:00<00:00, 110.79it/s, loss=2.95]\n"
          ]
        },
        {
          "output_type": "stream",
          "name": "stdout",
          "text": [
            "Epoch [407/3000]: Train loss: 3.2151, Valid loss: 3.1701\n"
          ]
        },
        {
          "output_type": "stream",
          "name": "stderr",
          "text": [
            "Epoch [408/3000]: 100%|██████████| 7/7 [00:00<00:00, 114.41it/s, loss=3.18]\n"
          ]
        },
        {
          "output_type": "stream",
          "name": "stdout",
          "text": [
            "Epoch [408/3000]: Train loss: 3.2054, Valid loss: 3.1640\n"
          ]
        },
        {
          "output_type": "stream",
          "name": "stderr",
          "text": [
            "Epoch [409/3000]: 100%|██████████| 7/7 [00:00<00:00, 118.01it/s, loss=3.38]\n"
          ]
        },
        {
          "output_type": "stream",
          "name": "stdout",
          "text": [
            "Epoch [409/3000]: Train loss: 3.1984, Valid loss: 3.3011\n"
          ]
        },
        {
          "output_type": "stream",
          "name": "stderr",
          "text": [
            "Epoch [410/3000]: 100%|██████████| 7/7 [00:00<00:00, 104.48it/s, loss=3.18]\n"
          ]
        },
        {
          "output_type": "stream",
          "name": "stdout",
          "text": [
            "Epoch [410/3000]: Train loss: 3.3379, Valid loss: 3.1874\n"
          ]
        },
        {
          "output_type": "stream",
          "name": "stderr",
          "text": [
            "Epoch [411/3000]: 100%|██████████| 7/7 [00:00<00:00, 126.00it/s, loss=3.28]\n"
          ]
        },
        {
          "output_type": "stream",
          "name": "stdout",
          "text": [
            "Epoch [411/3000]: Train loss: 3.0219, Valid loss: 3.0999\n"
          ]
        },
        {
          "output_type": "stream",
          "name": "stderr",
          "text": [
            "Epoch [412/3000]: 100%|██████████| 7/7 [00:00<00:00, 99.39it/s, loss=3.22]\n"
          ]
        },
        {
          "output_type": "stream",
          "name": "stdout",
          "text": [
            "Epoch [412/3000]: Train loss: 2.9311, Valid loss: 3.2367\n"
          ]
        },
        {
          "output_type": "stream",
          "name": "stderr",
          "text": [
            "Epoch [413/3000]: 100%|██████████| 7/7 [00:00<00:00, 135.74it/s, loss=4.27]\n"
          ]
        },
        {
          "output_type": "stream",
          "name": "stdout",
          "text": [
            "Epoch [413/3000]: Train loss: 3.1814, Valid loss: 3.3466\n"
          ]
        },
        {
          "output_type": "stream",
          "name": "stderr",
          "text": [
            "Epoch [414/3000]: 100%|██████████| 7/7 [00:00<00:00, 125.97it/s, loss=2.58]\n"
          ]
        },
        {
          "output_type": "stream",
          "name": "stdout",
          "text": [
            "Epoch [414/3000]: Train loss: 3.2636, Valid loss: 4.6897\n"
          ]
        },
        {
          "output_type": "stream",
          "name": "stderr",
          "text": [
            "Epoch [415/3000]: 100%|██████████| 7/7 [00:00<00:00, 131.80it/s, loss=3.55]\n"
          ]
        },
        {
          "output_type": "stream",
          "name": "stdout",
          "text": [
            "Epoch [415/3000]: Train loss: 3.6206, Valid loss: 3.9811\n"
          ]
        },
        {
          "output_type": "stream",
          "name": "stderr",
          "text": [
            "Epoch [416/3000]: 100%|██████████| 7/7 [00:00<00:00, 98.13it/s, loss=4.57]\n"
          ]
        },
        {
          "output_type": "stream",
          "name": "stdout",
          "text": [
            "Epoch [416/3000]: Train loss: 3.6405, Valid loss: 3.1163\n"
          ]
        },
        {
          "output_type": "stream",
          "name": "stderr",
          "text": [
            "Epoch [417/3000]: 100%|██████████| 7/7 [00:00<00:00, 123.82it/s, loss=2.86]\n"
          ]
        },
        {
          "output_type": "stream",
          "name": "stdout",
          "text": [
            "Epoch [417/3000]: Train loss: 3.1291, Valid loss: 3.1003\n"
          ]
        },
        {
          "output_type": "stream",
          "name": "stderr",
          "text": [
            "Epoch [418/3000]: 100%|██████████| 7/7 [00:00<00:00, 126.39it/s, loss=4.33]\n"
          ]
        },
        {
          "output_type": "stream",
          "name": "stdout",
          "text": [
            "Epoch [418/3000]: Train loss: 3.1939, Valid loss: 3.0519\n"
          ]
        },
        {
          "output_type": "stream",
          "name": "stderr",
          "text": [
            "Epoch [419/3000]: 100%|██████████| 7/7 [00:00<00:00, 130.51it/s, loss=2.61]\n"
          ]
        },
        {
          "output_type": "stream",
          "name": "stdout",
          "text": [
            "Epoch [419/3000]: Train loss: 3.1644, Valid loss: 3.9748\n"
          ]
        },
        {
          "output_type": "stream",
          "name": "stderr",
          "text": [
            "Epoch [420/3000]: 100%|██████████| 7/7 [00:00<00:00, 114.94it/s, loss=3.6]\n"
          ]
        },
        {
          "output_type": "stream",
          "name": "stdout",
          "text": [
            "Epoch [420/3000]: Train loss: 3.2719, Valid loss: 3.1284\n"
          ]
        },
        {
          "output_type": "stream",
          "name": "stderr",
          "text": [
            "Epoch [421/3000]: 100%|██████████| 7/7 [00:00<00:00, 97.94it/s, loss=2.55]\n"
          ]
        },
        {
          "output_type": "stream",
          "name": "stdout",
          "text": [
            "Epoch [421/3000]: Train loss: 3.1171, Valid loss: 2.9516\n",
            "Saving model with loss 2.952...\n"
          ]
        },
        {
          "output_type": "stream",
          "name": "stderr",
          "text": [
            "Epoch [422/3000]: 100%|██████████| 7/7 [00:00<00:00, 103.94it/s, loss=3.21]\n"
          ]
        },
        {
          "output_type": "stream",
          "name": "stdout",
          "text": [
            "Epoch [422/3000]: Train loss: 3.1347, Valid loss: 3.0974\n"
          ]
        },
        {
          "output_type": "stream",
          "name": "stderr",
          "text": [
            "Epoch [423/3000]: 100%|██████████| 7/7 [00:00<00:00, 99.64it/s, loss=2.88]\n"
          ]
        },
        {
          "output_type": "stream",
          "name": "stdout",
          "text": [
            "Epoch [423/3000]: Train loss: 3.1336, Valid loss: 4.1065\n"
          ]
        },
        {
          "output_type": "stream",
          "name": "stderr",
          "text": [
            "Epoch [424/3000]: 100%|██████████| 7/7 [00:00<00:00, 112.52it/s, loss=5.9]\n"
          ]
        },
        {
          "output_type": "stream",
          "name": "stdout",
          "text": [
            "Epoch [424/3000]: Train loss: 4.5516, Valid loss: 2.9682\n"
          ]
        },
        {
          "output_type": "stream",
          "name": "stderr",
          "text": [
            "Epoch [425/3000]: 100%|██████████| 7/7 [00:00<00:00, 119.56it/s, loss=6.49]\n"
          ]
        },
        {
          "output_type": "stream",
          "name": "stdout",
          "text": [
            "Epoch [425/3000]: Train loss: 4.2453, Valid loss: 5.3112\n"
          ]
        },
        {
          "output_type": "stream",
          "name": "stderr",
          "text": [
            "Epoch [426/3000]: 100%|██████████| 7/7 [00:00<00:00, 113.34it/s, loss=5.34]\n"
          ]
        },
        {
          "output_type": "stream",
          "name": "stdout",
          "text": [
            "Epoch [426/3000]: Train loss: 4.6556, Valid loss: 6.7199\n"
          ]
        },
        {
          "output_type": "stream",
          "name": "stderr",
          "text": [
            "Epoch [427/3000]: 100%|██████████| 7/7 [00:00<00:00, 109.71it/s, loss=5.81]\n"
          ]
        },
        {
          "output_type": "stream",
          "name": "stdout",
          "text": [
            "Epoch [427/3000]: Train loss: 5.2968, Valid loss: 3.0553\n"
          ]
        },
        {
          "output_type": "stream",
          "name": "stderr",
          "text": [
            "Epoch [428/3000]: 100%|██████████| 7/7 [00:00<00:00, 111.66it/s, loss=2.88]\n"
          ]
        },
        {
          "output_type": "stream",
          "name": "stdout",
          "text": [
            "Epoch [428/3000]: Train loss: 4.5030, Valid loss: 6.5736\n"
          ]
        },
        {
          "output_type": "stream",
          "name": "stderr",
          "text": [
            "Epoch [429/3000]: 100%|██████████| 7/7 [00:00<00:00, 92.82it/s, loss=2.64]\n"
          ]
        },
        {
          "output_type": "stream",
          "name": "stdout",
          "text": [
            "Epoch [429/3000]: Train loss: 4.9107, Valid loss: 4.9445\n"
          ]
        },
        {
          "output_type": "stream",
          "name": "stderr",
          "text": [
            "Epoch [430/3000]: 100%|██████████| 7/7 [00:00<00:00, 108.88it/s, loss=2.82]\n"
          ]
        },
        {
          "output_type": "stream",
          "name": "stdout",
          "text": [
            "Epoch [430/3000]: Train loss: 3.8383, Valid loss: 4.1578\n"
          ]
        },
        {
          "output_type": "stream",
          "name": "stderr",
          "text": [
            "Epoch [431/3000]: 100%|██████████| 7/7 [00:00<00:00, 107.84it/s, loss=3.94]\n"
          ]
        },
        {
          "output_type": "stream",
          "name": "stdout",
          "text": [
            "Epoch [431/3000]: Train loss: 4.2073, Valid loss: 3.0880\n"
          ]
        },
        {
          "output_type": "stream",
          "name": "stderr",
          "text": [
            "Epoch [432/3000]: 100%|██████████| 7/7 [00:00<00:00, 120.18it/s, loss=3.41]\n"
          ]
        },
        {
          "output_type": "stream",
          "name": "stdout",
          "text": [
            "Epoch [432/3000]: Train loss: 3.6359, Valid loss: 4.3153\n"
          ]
        },
        {
          "output_type": "stream",
          "name": "stderr",
          "text": [
            "Epoch [433/3000]: 100%|██████████| 7/7 [00:00<00:00, 119.87it/s, loss=2.39]\n"
          ]
        },
        {
          "output_type": "stream",
          "name": "stdout",
          "text": [
            "Epoch [433/3000]: Train loss: 4.1557, Valid loss: 5.4756\n"
          ]
        },
        {
          "output_type": "stream",
          "name": "stderr",
          "text": [
            "Epoch [434/3000]: 100%|██████████| 7/7 [00:00<00:00, 115.78it/s, loss=3.47]\n"
          ]
        },
        {
          "output_type": "stream",
          "name": "stdout",
          "text": [
            "Epoch [434/3000]: Train loss: 4.0955, Valid loss: 3.4056\n"
          ]
        },
        {
          "output_type": "stream",
          "name": "stderr",
          "text": [
            "Epoch [435/3000]: 100%|██████████| 7/7 [00:00<00:00, 118.34it/s, loss=2.22]\n"
          ]
        },
        {
          "output_type": "stream",
          "name": "stdout",
          "text": [
            "Epoch [435/3000]: Train loss: 3.0717, Valid loss: 3.0472\n"
          ]
        },
        {
          "output_type": "stream",
          "name": "stderr",
          "text": [
            "Epoch [436/3000]: 100%|██████████| 7/7 [00:00<00:00, 111.70it/s, loss=3.1]\n"
          ]
        },
        {
          "output_type": "stream",
          "name": "stdout",
          "text": [
            "Epoch [436/3000]: Train loss: 2.8953, Valid loss: 3.1304\n"
          ]
        },
        {
          "output_type": "stream",
          "name": "stderr",
          "text": [
            "Epoch [437/3000]: 100%|██████████| 7/7 [00:00<00:00, 99.30it/s, loss=3.06]\n"
          ]
        },
        {
          "output_type": "stream",
          "name": "stdout",
          "text": [
            "Epoch [437/3000]: Train loss: 2.9216, Valid loss: 3.3078\n"
          ]
        },
        {
          "output_type": "stream",
          "name": "stderr",
          "text": [
            "Epoch [438/3000]: 100%|██████████| 7/7 [00:00<00:00, 89.76it/s, loss=2.91]\n"
          ]
        },
        {
          "output_type": "stream",
          "name": "stdout",
          "text": [
            "Epoch [438/3000]: Train loss: 2.8907, Valid loss: 3.4186\n"
          ]
        },
        {
          "output_type": "stream",
          "name": "stderr",
          "text": [
            "Epoch [439/3000]: 100%|██████████| 7/7 [00:00<00:00, 99.79it/s, loss=2.56]\n"
          ]
        },
        {
          "output_type": "stream",
          "name": "stdout",
          "text": [
            "Epoch [439/3000]: Train loss: 3.2153, Valid loss: 2.9455\n",
            "Saving model with loss 2.945...\n"
          ]
        },
        {
          "output_type": "stream",
          "name": "stderr",
          "text": [
            "Epoch [440/3000]: 100%|██████████| 7/7 [00:00<00:00, 108.67it/s, loss=3.33]\n"
          ]
        },
        {
          "output_type": "stream",
          "name": "stdout",
          "text": [
            "Epoch [440/3000]: Train loss: 2.9714, Valid loss: 3.1073\n"
          ]
        },
        {
          "output_type": "stream",
          "name": "stderr",
          "text": [
            "Epoch [441/3000]: 100%|██████████| 7/7 [00:00<00:00, 107.04it/s, loss=2.81]\n"
          ]
        },
        {
          "output_type": "stream",
          "name": "stdout",
          "text": [
            "Epoch [441/3000]: Train loss: 2.9625, Valid loss: 2.8857\n",
            "Saving model with loss 2.886...\n"
          ]
        },
        {
          "output_type": "stream",
          "name": "stderr",
          "text": [
            "Epoch [442/3000]: 100%|██████████| 7/7 [00:00<00:00, 107.25it/s, loss=3.56]\n"
          ]
        },
        {
          "output_type": "stream",
          "name": "stdout",
          "text": [
            "Epoch [442/3000]: Train loss: 3.1027, Valid loss: 3.5251\n"
          ]
        },
        {
          "output_type": "stream",
          "name": "stderr",
          "text": [
            "Epoch [443/3000]: 100%|██████████| 7/7 [00:00<00:00, 113.50it/s, loss=3.03]\n"
          ]
        },
        {
          "output_type": "stream",
          "name": "stdout",
          "text": [
            "Epoch [443/3000]: Train loss: 3.0405, Valid loss: 2.9511\n"
          ]
        },
        {
          "output_type": "stream",
          "name": "stderr",
          "text": [
            "Epoch [444/3000]: 100%|██████████| 7/7 [00:00<00:00, 112.86it/s, loss=3.28]\n"
          ]
        },
        {
          "output_type": "stream",
          "name": "stdout",
          "text": [
            "Epoch [444/3000]: Train loss: 2.9965, Valid loss: 2.8860\n"
          ]
        },
        {
          "output_type": "stream",
          "name": "stderr",
          "text": [
            "Epoch [445/3000]: 100%|██████████| 7/7 [00:00<00:00, 110.45it/s, loss=3.34]\n"
          ]
        },
        {
          "output_type": "stream",
          "name": "stdout",
          "text": [
            "Epoch [445/3000]: Train loss: 3.0767, Valid loss: 3.9686\n"
          ]
        },
        {
          "output_type": "stream",
          "name": "stderr",
          "text": [
            "Epoch [446/3000]: 100%|██████████| 7/7 [00:00<00:00, 105.60it/s, loss=3.31]\n"
          ]
        },
        {
          "output_type": "stream",
          "name": "stdout",
          "text": [
            "Epoch [446/3000]: Train loss: 3.1372, Valid loss: 3.7564\n"
          ]
        },
        {
          "output_type": "stream",
          "name": "stderr",
          "text": [
            "Epoch [447/3000]: 100%|██████████| 7/7 [00:00<00:00, 115.81it/s, loss=2.5]\n"
          ]
        },
        {
          "output_type": "stream",
          "name": "stdout",
          "text": [
            "Epoch [447/3000]: Train loss: 3.1053, Valid loss: 3.4723\n"
          ]
        },
        {
          "output_type": "stream",
          "name": "stderr",
          "text": [
            "Epoch [448/3000]: 100%|██████████| 7/7 [00:00<00:00, 118.30it/s, loss=2.99]\n"
          ]
        },
        {
          "output_type": "stream",
          "name": "stdout",
          "text": [
            "Epoch [448/3000]: Train loss: 3.1122, Valid loss: 3.7051\n"
          ]
        },
        {
          "output_type": "stream",
          "name": "stderr",
          "text": [
            "Epoch [449/3000]: 100%|██████████| 7/7 [00:00<00:00, 115.75it/s, loss=2.1]\n"
          ]
        },
        {
          "output_type": "stream",
          "name": "stdout",
          "text": [
            "Epoch [449/3000]: Train loss: 3.1269, Valid loss: 3.0437\n"
          ]
        },
        {
          "output_type": "stream",
          "name": "stderr",
          "text": [
            "Epoch [450/3000]: 100%|██████████| 7/7 [00:00<00:00, 100.30it/s, loss=3.06]\n"
          ]
        },
        {
          "output_type": "stream",
          "name": "stdout",
          "text": [
            "Epoch [450/3000]: Train loss: 3.0036, Valid loss: 3.1591\n"
          ]
        },
        {
          "output_type": "stream",
          "name": "stderr",
          "text": [
            "Epoch [451/3000]: 100%|██████████| 7/7 [00:00<00:00, 116.44it/s, loss=4.24]\n"
          ]
        },
        {
          "output_type": "stream",
          "name": "stdout",
          "text": [
            "Epoch [451/3000]: Train loss: 3.1471, Valid loss: 5.6695\n"
          ]
        },
        {
          "output_type": "stream",
          "name": "stderr",
          "text": [
            "Epoch [452/3000]: 100%|██████████| 7/7 [00:00<00:00, 113.92it/s, loss=5.74]\n"
          ]
        },
        {
          "output_type": "stream",
          "name": "stdout",
          "text": [
            "Epoch [452/3000]: Train loss: 5.0166, Valid loss: 2.9044\n"
          ]
        },
        {
          "output_type": "stream",
          "name": "stderr",
          "text": [
            "Epoch [453/3000]: 100%|██████████| 7/7 [00:00<00:00, 118.93it/s, loss=6.77]\n"
          ]
        },
        {
          "output_type": "stream",
          "name": "stdout",
          "text": [
            "Epoch [453/3000]: Train loss: 4.3884, Valid loss: 6.8833\n"
          ]
        },
        {
          "output_type": "stream",
          "name": "stderr",
          "text": [
            "Epoch [454/3000]: 100%|██████████| 7/7 [00:00<00:00, 116.00it/s, loss=5.34]\n"
          ]
        },
        {
          "output_type": "stream",
          "name": "stdout",
          "text": [
            "Epoch [454/3000]: Train loss: 4.8725, Valid loss: 6.5202\n"
          ]
        },
        {
          "output_type": "stream",
          "name": "stderr",
          "text": [
            "Epoch [455/3000]: 100%|██████████| 7/7 [00:00<00:00, 110.98it/s, loss=3.49]\n"
          ]
        },
        {
          "output_type": "stream",
          "name": "stdout",
          "text": [
            "Epoch [455/3000]: Train loss: 5.0420, Valid loss: 3.4012\n"
          ]
        },
        {
          "output_type": "stream",
          "name": "stderr",
          "text": [
            "Epoch [456/3000]: 100%|██████████| 7/7 [00:00<00:00, 104.20it/s, loss=2.57]\n"
          ]
        },
        {
          "output_type": "stream",
          "name": "stdout",
          "text": [
            "Epoch [456/3000]: Train loss: 3.0242, Valid loss: 3.0126\n"
          ]
        },
        {
          "output_type": "stream",
          "name": "stderr",
          "text": [
            "Epoch [457/3000]: 100%|██████████| 7/7 [00:00<00:00, 98.26it/s, loss=2.79]\n"
          ]
        },
        {
          "output_type": "stream",
          "name": "stdout",
          "text": [
            "Epoch [457/3000]: Train loss: 2.8155, Valid loss: 3.3665\n"
          ]
        },
        {
          "output_type": "stream",
          "name": "stderr",
          "text": [
            "Epoch [458/3000]: 100%|██████████| 7/7 [00:00<00:00, 103.08it/s, loss=3.52]\n"
          ]
        },
        {
          "output_type": "stream",
          "name": "stdout",
          "text": [
            "Epoch [458/3000]: Train loss: 2.9175, Valid loss: 4.0675\n"
          ]
        },
        {
          "output_type": "stream",
          "name": "stderr",
          "text": [
            "Epoch [459/3000]: 100%|██████████| 7/7 [00:00<00:00, 109.04it/s, loss=3.79]\n"
          ]
        },
        {
          "output_type": "stream",
          "name": "stdout",
          "text": [
            "Epoch [459/3000]: Train loss: 3.6594, Valid loss: 2.7380\n",
            "Saving model with loss 2.738...\n"
          ]
        },
        {
          "output_type": "stream",
          "name": "stderr",
          "text": [
            "Epoch [460/3000]: 100%|██████████| 7/7 [00:00<00:00, 105.46it/s, loss=2.18]\n"
          ]
        },
        {
          "output_type": "stream",
          "name": "stdout",
          "text": [
            "Epoch [460/3000]: Train loss: 2.9215, Valid loss: 3.4183\n"
          ]
        },
        {
          "output_type": "stream",
          "name": "stderr",
          "text": [
            "Epoch [461/3000]: 100%|██████████| 7/7 [00:00<00:00, 103.67it/s, loss=3.29]\n"
          ]
        },
        {
          "output_type": "stream",
          "name": "stdout",
          "text": [
            "Epoch [461/3000]: Train loss: 3.3625, Valid loss: 3.3884\n"
          ]
        },
        {
          "output_type": "stream",
          "name": "stderr",
          "text": [
            "Epoch [462/3000]: 100%|██████████| 7/7 [00:00<00:00, 108.17it/s, loss=2.9]\n"
          ]
        },
        {
          "output_type": "stream",
          "name": "stdout",
          "text": [
            "Epoch [462/3000]: Train loss: 2.8004, Valid loss: 2.8199\n"
          ]
        },
        {
          "output_type": "stream",
          "name": "stderr",
          "text": [
            "Epoch [463/3000]: 100%|██████████| 7/7 [00:00<00:00, 117.75it/s, loss=2.3]\n"
          ]
        },
        {
          "output_type": "stream",
          "name": "stdout",
          "text": [
            "Epoch [463/3000]: Train loss: 2.7337, Valid loss: 2.8285\n"
          ]
        },
        {
          "output_type": "stream",
          "name": "stderr",
          "text": [
            "Epoch [464/3000]: 100%|██████████| 7/7 [00:00<00:00, 119.39it/s, loss=2.69]\n"
          ]
        },
        {
          "output_type": "stream",
          "name": "stdout",
          "text": [
            "Epoch [464/3000]: Train loss: 2.7274, Valid loss: 2.8852\n"
          ]
        },
        {
          "output_type": "stream",
          "name": "stderr",
          "text": [
            "Epoch [465/3000]: 100%|██████████| 7/7 [00:00<00:00, 120.42it/s, loss=3.45]\n"
          ]
        },
        {
          "output_type": "stream",
          "name": "stdout",
          "text": [
            "Epoch [465/3000]: Train loss: 2.8657, Valid loss: 3.2396\n"
          ]
        },
        {
          "output_type": "stream",
          "name": "stderr",
          "text": [
            "Epoch [466/3000]: 100%|██████████| 7/7 [00:00<00:00, 118.72it/s, loss=3.64]\n"
          ]
        },
        {
          "output_type": "stream",
          "name": "stdout",
          "text": [
            "Epoch [466/3000]: Train loss: 2.8437, Valid loss: 4.9050\n"
          ]
        },
        {
          "output_type": "stream",
          "name": "stderr",
          "text": [
            "Epoch [467/3000]: 100%|██████████| 7/7 [00:00<00:00, 115.70it/s, loss=5.08]\n"
          ]
        },
        {
          "output_type": "stream",
          "name": "stdout",
          "text": [
            "Epoch [467/3000]: Train loss: 4.1222, Valid loss: 3.0950\n"
          ]
        },
        {
          "output_type": "stream",
          "name": "stderr",
          "text": [
            "Epoch [468/3000]: 100%|██████████| 7/7 [00:00<00:00, 116.22it/s, loss=2.75]\n"
          ]
        },
        {
          "output_type": "stream",
          "name": "stdout",
          "text": [
            "Epoch [468/3000]: Train loss: 3.6577, Valid loss: 3.8063\n"
          ]
        },
        {
          "output_type": "stream",
          "name": "stderr",
          "text": [
            "Epoch [469/3000]: 100%|██████████| 7/7 [00:00<00:00, 107.54it/s, loss=3.17]\n"
          ]
        },
        {
          "output_type": "stream",
          "name": "stdout",
          "text": [
            "Epoch [469/3000]: Train loss: 3.0594, Valid loss: 2.9147\n"
          ]
        },
        {
          "output_type": "stream",
          "name": "stderr",
          "text": [
            "Epoch [470/3000]: 100%|██████████| 7/7 [00:00<00:00, 93.59it/s, loss=3.68]\n"
          ]
        },
        {
          "output_type": "stream",
          "name": "stdout",
          "text": [
            "Epoch [470/3000]: Train loss: 2.8842, Valid loss: 2.8477\n"
          ]
        },
        {
          "output_type": "stream",
          "name": "stderr",
          "text": [
            "Epoch [471/3000]: 100%|██████████| 7/7 [00:00<00:00, 93.82it/s, loss=2.96]\n"
          ]
        },
        {
          "output_type": "stream",
          "name": "stdout",
          "text": [
            "Epoch [471/3000]: Train loss: 2.9962, Valid loss: 3.7060\n"
          ]
        },
        {
          "output_type": "stream",
          "name": "stderr",
          "text": [
            "Epoch [472/3000]: 100%|██████████| 7/7 [00:00<00:00, 103.08it/s, loss=3.32]\n"
          ]
        },
        {
          "output_type": "stream",
          "name": "stdout",
          "text": [
            "Epoch [472/3000]: Train loss: 3.3666, Valid loss: 2.9655\n"
          ]
        },
        {
          "output_type": "stream",
          "name": "stderr",
          "text": [
            "Epoch [473/3000]: 100%|██████████| 7/7 [00:00<00:00, 106.10it/s, loss=2.21]\n"
          ]
        },
        {
          "output_type": "stream",
          "name": "stdout",
          "text": [
            "Epoch [473/3000]: Train loss: 2.8334, Valid loss: 2.8790\n"
          ]
        },
        {
          "output_type": "stream",
          "name": "stderr",
          "text": [
            "Epoch [474/3000]: 100%|██████████| 7/7 [00:00<00:00, 103.52it/s, loss=3.1]\n"
          ]
        },
        {
          "output_type": "stream",
          "name": "stdout",
          "text": [
            "Epoch [474/3000]: Train loss: 3.1574, Valid loss: 4.2347\n"
          ]
        },
        {
          "output_type": "stream",
          "name": "stderr",
          "text": [
            "Epoch [475/3000]: 100%|██████████| 7/7 [00:00<00:00, 111.22it/s, loss=3.32]\n"
          ]
        },
        {
          "output_type": "stream",
          "name": "stdout",
          "text": [
            "Epoch [475/3000]: Train loss: 3.4992, Valid loss: 2.9129\n"
          ]
        },
        {
          "output_type": "stream",
          "name": "stderr",
          "text": [
            "Epoch [476/3000]: 100%|██████████| 7/7 [00:00<00:00, 116.55it/s, loss=3.22]\n"
          ]
        },
        {
          "output_type": "stream",
          "name": "stdout",
          "text": [
            "Epoch [476/3000]: Train loss: 3.0826, Valid loss: 2.7817\n"
          ]
        },
        {
          "output_type": "stream",
          "name": "stderr",
          "text": [
            "Epoch [477/3000]: 100%|██████████| 7/7 [00:00<00:00, 110.68it/s, loss=3.12]\n"
          ]
        },
        {
          "output_type": "stream",
          "name": "stdout",
          "text": [
            "Epoch [477/3000]: Train loss: 2.7351, Valid loss: 2.8896\n"
          ]
        },
        {
          "output_type": "stream",
          "name": "stderr",
          "text": [
            "Epoch [478/3000]: 100%|██████████| 7/7 [00:00<00:00, 116.61it/s, loss=3.17]\n"
          ]
        },
        {
          "output_type": "stream",
          "name": "stdout",
          "text": [
            "Epoch [478/3000]: Train loss: 3.0359, Valid loss: 3.0875\n"
          ]
        },
        {
          "output_type": "stream",
          "name": "stderr",
          "text": [
            "Epoch [479/3000]: 100%|██████████| 7/7 [00:00<00:00, 101.98it/s, loss=3.07]\n"
          ]
        },
        {
          "output_type": "stream",
          "name": "stdout",
          "text": [
            "Epoch [479/3000]: Train loss: 3.2619, Valid loss: 2.7254\n",
            "Saving model with loss 2.725...\n"
          ]
        },
        {
          "output_type": "stream",
          "name": "stderr",
          "text": [
            "Epoch [480/3000]: 100%|██████████| 7/7 [00:00<00:00, 113.20it/s, loss=2.34]\n"
          ]
        },
        {
          "output_type": "stream",
          "name": "stdout",
          "text": [
            "Epoch [480/3000]: Train loss: 2.6361, Valid loss: 2.7424\n"
          ]
        },
        {
          "output_type": "stream",
          "name": "stderr",
          "text": [
            "Epoch [481/3000]: 100%|██████████| 7/7 [00:00<00:00, 114.81it/s, loss=2.41]\n"
          ]
        },
        {
          "output_type": "stream",
          "name": "stdout",
          "text": [
            "Epoch [481/3000]: Train loss: 2.8690, Valid loss: 3.3185\n"
          ]
        },
        {
          "output_type": "stream",
          "name": "stderr",
          "text": [
            "Epoch [482/3000]: 100%|██████████| 7/7 [00:00<00:00, 106.54it/s, loss=2.94]\n"
          ]
        },
        {
          "output_type": "stream",
          "name": "stdout",
          "text": [
            "Epoch [482/3000]: Train loss: 2.8496, Valid loss: 3.6299\n"
          ]
        },
        {
          "output_type": "stream",
          "name": "stderr",
          "text": [
            "Epoch [483/3000]: 100%|██████████| 7/7 [00:00<00:00, 97.93it/s, loss=2.78]\n"
          ]
        },
        {
          "output_type": "stream",
          "name": "stdout",
          "text": [
            "Epoch [483/3000]: Train loss: 3.3439, Valid loss: 3.9113\n"
          ]
        },
        {
          "output_type": "stream",
          "name": "stderr",
          "text": [
            "Epoch [484/3000]: 100%|██████████| 7/7 [00:00<00:00, 91.20it/s, loss=5.13]\n"
          ]
        },
        {
          "output_type": "stream",
          "name": "stdout",
          "text": [
            "Epoch [484/3000]: Train loss: 3.5790, Valid loss: 3.7073\n"
          ]
        },
        {
          "output_type": "stream",
          "name": "stderr",
          "text": [
            "Epoch [485/3000]: 100%|██████████| 7/7 [00:00<00:00, 110.59it/s, loss=3.66]\n"
          ]
        },
        {
          "output_type": "stream",
          "name": "stdout",
          "text": [
            "Epoch [485/3000]: Train loss: 3.9331, Valid loss: 5.0706\n"
          ]
        },
        {
          "output_type": "stream",
          "name": "stderr",
          "text": [
            "Epoch [486/3000]: 100%|██████████| 7/7 [00:00<00:00, 94.96it/s, loss=2.8]\n"
          ]
        },
        {
          "output_type": "stream",
          "name": "stdout",
          "text": [
            "Epoch [486/3000]: Train loss: 4.7586, Valid loss: 5.5857\n"
          ]
        },
        {
          "output_type": "stream",
          "name": "stderr",
          "text": [
            "Epoch [487/3000]: 100%|██████████| 7/7 [00:00<00:00, 103.54it/s, loss=3.89]\n"
          ]
        },
        {
          "output_type": "stream",
          "name": "stdout",
          "text": [
            "Epoch [487/3000]: Train loss: 4.2199, Valid loss: 5.4725\n"
          ]
        },
        {
          "output_type": "stream",
          "name": "stderr",
          "text": [
            "Epoch [488/3000]: 100%|██████████| 7/7 [00:00<00:00, 18.03it/s, loss=2.97]\n"
          ]
        },
        {
          "output_type": "stream",
          "name": "stdout",
          "text": [
            "Epoch [488/3000]: Train loss: 5.7999, Valid loss: 6.7622\n"
          ]
        },
        {
          "output_type": "stream",
          "name": "stderr",
          "text": [
            "Epoch [489/3000]: 100%|██████████| 7/7 [00:00<00:00, 119.68it/s, loss=4.95]\n"
          ]
        },
        {
          "output_type": "stream",
          "name": "stdout",
          "text": [
            "Epoch [489/3000]: Train loss: 5.0529, Valid loss: 4.4899\n"
          ]
        },
        {
          "output_type": "stream",
          "name": "stderr",
          "text": [
            "Epoch [490/3000]: 100%|██████████| 7/7 [00:00<00:00, 118.94it/s, loss=3.66]\n"
          ]
        },
        {
          "output_type": "stream",
          "name": "stdout",
          "text": [
            "Epoch [490/3000]: Train loss: 4.5549, Valid loss: 4.0368\n"
          ]
        },
        {
          "output_type": "stream",
          "name": "stderr",
          "text": [
            "Epoch [491/3000]: 100%|██████████| 7/7 [00:00<00:00, 117.78it/s, loss=2.93]\n"
          ]
        },
        {
          "output_type": "stream",
          "name": "stdout",
          "text": [
            "Epoch [491/3000]: Train loss: 3.6663, Valid loss: 2.9144\n"
          ]
        },
        {
          "output_type": "stream",
          "name": "stderr",
          "text": [
            "Epoch [492/3000]: 100%|██████████| 7/7 [00:00<00:00, 111.59it/s, loss=2.59]\n"
          ]
        },
        {
          "output_type": "stream",
          "name": "stdout",
          "text": [
            "Epoch [492/3000]: Train loss: 2.8095, Valid loss: 2.9425\n"
          ]
        },
        {
          "output_type": "stream",
          "name": "stderr",
          "text": [
            "Epoch [493/3000]: 100%|██████████| 7/7 [00:00<00:00, 115.23it/s, loss=2.46]\n"
          ]
        },
        {
          "output_type": "stream",
          "name": "stdout",
          "text": [
            "Epoch [493/3000]: Train loss: 2.6994, Valid loss: 3.1405\n"
          ]
        },
        {
          "output_type": "stream",
          "name": "stderr",
          "text": [
            "Epoch [494/3000]: 100%|██████████| 7/7 [00:00<00:00, 118.26it/s, loss=2.96]\n"
          ]
        },
        {
          "output_type": "stream",
          "name": "stdout",
          "text": [
            "Epoch [494/3000]: Train loss: 2.7597, Valid loss: 2.7867\n"
          ]
        },
        {
          "output_type": "stream",
          "name": "stderr",
          "text": [
            "Epoch [495/3000]: 100%|██████████| 7/7 [00:00<00:00, 124.30it/s, loss=2.54]\n"
          ]
        },
        {
          "output_type": "stream",
          "name": "stdout",
          "text": [
            "Epoch [495/3000]: Train loss: 2.7709, Valid loss: 2.7685\n"
          ]
        },
        {
          "output_type": "stream",
          "name": "stderr",
          "text": [
            "Epoch [496/3000]: 100%|██████████| 7/7 [00:00<00:00, 112.47it/s, loss=3.31]\n"
          ]
        },
        {
          "output_type": "stream",
          "name": "stdout",
          "text": [
            "Epoch [496/3000]: Train loss: 2.6646, Valid loss: 2.9032\n"
          ]
        },
        {
          "output_type": "stream",
          "name": "stderr",
          "text": [
            "Epoch [497/3000]: 100%|██████████| 7/7 [00:00<00:00, 119.41it/s, loss=4.02]\n"
          ]
        },
        {
          "output_type": "stream",
          "name": "stdout",
          "text": [
            "Epoch [497/3000]: Train loss: 3.0937, Valid loss: 2.6919\n",
            "Saving model with loss 2.692...\n"
          ]
        },
        {
          "output_type": "stream",
          "name": "stderr",
          "text": [
            "Epoch [498/3000]: 100%|██████████| 7/7 [00:00<00:00, 122.87it/s, loss=3.66]\n"
          ]
        },
        {
          "output_type": "stream",
          "name": "stdout",
          "text": [
            "Epoch [498/3000]: Train loss: 4.0985, Valid loss: 9.0794\n"
          ]
        },
        {
          "output_type": "stream",
          "name": "stderr",
          "text": [
            "Epoch [499/3000]: 100%|██████████| 7/7 [00:00<00:00, 120.18it/s, loss=3.95]\n"
          ]
        },
        {
          "output_type": "stream",
          "name": "stdout",
          "text": [
            "Epoch [499/3000]: Train loss: 5.9303, Valid loss: 2.9724\n"
          ]
        },
        {
          "output_type": "stream",
          "name": "stderr",
          "text": [
            "Epoch [500/3000]: 100%|██████████| 7/7 [00:00<00:00, 114.47it/s, loss=2.99]\n"
          ]
        },
        {
          "output_type": "stream",
          "name": "stdout",
          "text": [
            "Epoch [500/3000]: Train loss: 3.0608, Valid loss: 2.6550\n",
            "Saving model with loss 2.655...\n"
          ]
        },
        {
          "output_type": "stream",
          "name": "stderr",
          "text": [
            "Epoch [501/3000]: 100%|██████████| 7/7 [00:00<00:00, 110.93it/s, loss=3.26]\n"
          ]
        },
        {
          "output_type": "stream",
          "name": "stdout",
          "text": [
            "Epoch [501/3000]: Train loss: 2.8640, Valid loss: 2.7416\n"
          ]
        },
        {
          "output_type": "stream",
          "name": "stderr",
          "text": [
            "Epoch [502/3000]: 100%|██████████| 7/7 [00:00<00:00, 118.87it/s, loss=2.95]\n"
          ]
        },
        {
          "output_type": "stream",
          "name": "stdout",
          "text": [
            "Epoch [502/3000]: Train loss: 2.8411, Valid loss: 2.8065\n"
          ]
        },
        {
          "output_type": "stream",
          "name": "stderr",
          "text": [
            "Epoch [503/3000]: 100%|██████████| 7/7 [00:00<00:00, 120.65it/s, loss=3.62]\n"
          ]
        },
        {
          "output_type": "stream",
          "name": "stdout",
          "text": [
            "Epoch [503/3000]: Train loss: 2.9522, Valid loss: 3.3203\n"
          ]
        },
        {
          "output_type": "stream",
          "name": "stderr",
          "text": [
            "Epoch [504/3000]: 100%|██████████| 7/7 [00:00<00:00, 100.46it/s, loss=3.05]\n"
          ]
        },
        {
          "output_type": "stream",
          "name": "stdout",
          "text": [
            "Epoch [504/3000]: Train loss: 3.0148, Valid loss: 4.0236\n"
          ]
        },
        {
          "output_type": "stream",
          "name": "stderr",
          "text": [
            "Epoch [505/3000]: 100%|██████████| 7/7 [00:00<00:00, 90.84it/s, loss=3.09]\n"
          ]
        },
        {
          "output_type": "stream",
          "name": "stdout",
          "text": [
            "Epoch [505/3000]: Train loss: 3.1164, Valid loss: 2.9467\n"
          ]
        },
        {
          "output_type": "stream",
          "name": "stderr",
          "text": [
            "Epoch [506/3000]: 100%|██████████| 7/7 [00:00<00:00, 101.25it/s, loss=4.08]\n"
          ]
        },
        {
          "output_type": "stream",
          "name": "stdout",
          "text": [
            "Epoch [506/3000]: Train loss: 3.0047, Valid loss: 3.3586\n"
          ]
        },
        {
          "output_type": "stream",
          "name": "stderr",
          "text": [
            "Epoch [507/3000]: 100%|██████████| 7/7 [00:00<00:00, 115.15it/s, loss=2.55]\n"
          ]
        },
        {
          "output_type": "stream",
          "name": "stdout",
          "text": [
            "Epoch [507/3000]: Train loss: 2.6886, Valid loss: 2.7648\n"
          ]
        },
        {
          "output_type": "stream",
          "name": "stderr",
          "text": [
            "Epoch [508/3000]: 100%|██████████| 7/7 [00:00<00:00, 123.06it/s, loss=3.12]\n"
          ]
        },
        {
          "output_type": "stream",
          "name": "stdout",
          "text": [
            "Epoch [508/3000]: Train loss: 2.7568, Valid loss: 2.9483\n"
          ]
        },
        {
          "output_type": "stream",
          "name": "stderr",
          "text": [
            "Epoch [509/3000]: 100%|██████████| 7/7 [00:00<00:00, 116.28it/s, loss=3.4]\n"
          ]
        },
        {
          "output_type": "stream",
          "name": "stdout",
          "text": [
            "Epoch [509/3000]: Train loss: 2.8431, Valid loss: 2.7620\n"
          ]
        },
        {
          "output_type": "stream",
          "name": "stderr",
          "text": [
            "Epoch [510/3000]: 100%|██████████| 7/7 [00:00<00:00, 122.79it/s, loss=2.64]\n"
          ]
        },
        {
          "output_type": "stream",
          "name": "stdout",
          "text": [
            "Epoch [510/3000]: Train loss: 2.9289, Valid loss: 4.0019\n"
          ]
        },
        {
          "output_type": "stream",
          "name": "stderr",
          "text": [
            "Epoch [511/3000]: 100%|██████████| 7/7 [00:00<00:00, 133.60it/s, loss=2.8]\n"
          ]
        },
        {
          "output_type": "stream",
          "name": "stdout",
          "text": [
            "Epoch [511/3000]: Train loss: 2.9626, Valid loss: 2.8709\n"
          ]
        },
        {
          "output_type": "stream",
          "name": "stderr",
          "text": [
            "Epoch [512/3000]: 100%|██████████| 7/7 [00:00<00:00, 116.54it/s, loss=3.16]\n"
          ]
        },
        {
          "output_type": "stream",
          "name": "stdout",
          "text": [
            "Epoch [512/3000]: Train loss: 3.2616, Valid loss: 3.0121\n"
          ]
        },
        {
          "output_type": "stream",
          "name": "stderr",
          "text": [
            "Epoch [513/3000]: 100%|██████████| 7/7 [00:00<00:00, 128.84it/s, loss=5.72]\n"
          ]
        },
        {
          "output_type": "stream",
          "name": "stdout",
          "text": [
            "Epoch [513/3000]: Train loss: 3.5362, Valid loss: 4.0038\n"
          ]
        },
        {
          "output_type": "stream",
          "name": "stderr",
          "text": [
            "Epoch [514/3000]: 100%|██████████| 7/7 [00:00<00:00, 115.24it/s, loss=3.67]\n"
          ]
        },
        {
          "output_type": "stream",
          "name": "stdout",
          "text": [
            "Epoch [514/3000]: Train loss: 3.6022, Valid loss: 3.9355\n"
          ]
        },
        {
          "output_type": "stream",
          "name": "stderr",
          "text": [
            "Epoch [515/3000]: 100%|██████████| 7/7 [00:00<00:00, 98.68it/s, loss=2.64]\n"
          ]
        },
        {
          "output_type": "stream",
          "name": "stdout",
          "text": [
            "Epoch [515/3000]: Train loss: 3.1154, Valid loss: 2.7727\n"
          ]
        },
        {
          "output_type": "stream",
          "name": "stderr",
          "text": [
            "Epoch [516/3000]: 100%|██████████| 7/7 [00:00<00:00, 133.39it/s, loss=3.07]\n"
          ]
        },
        {
          "output_type": "stream",
          "name": "stdout",
          "text": [
            "Epoch [516/3000]: Train loss: 2.7177, Valid loss: 3.1574\n"
          ]
        },
        {
          "output_type": "stream",
          "name": "stderr",
          "text": [
            "Epoch [517/3000]: 100%|██████████| 7/7 [00:00<00:00, 125.56it/s, loss=2.48]\n"
          ]
        },
        {
          "output_type": "stream",
          "name": "stdout",
          "text": [
            "Epoch [517/3000]: Train loss: 2.7989, Valid loss: 2.8067\n"
          ]
        },
        {
          "output_type": "stream",
          "name": "stderr",
          "text": [
            "Epoch [518/3000]: 100%|██████████| 7/7 [00:00<00:00, 118.91it/s, loss=3.08]\n"
          ]
        },
        {
          "output_type": "stream",
          "name": "stdout",
          "text": [
            "Epoch [518/3000]: Train loss: 2.6136, Valid loss: 4.7845\n"
          ]
        },
        {
          "output_type": "stream",
          "name": "stderr",
          "text": [
            "Epoch [519/3000]: 100%|██████████| 7/7 [00:00<00:00, 109.20it/s, loss=2.78]\n"
          ]
        },
        {
          "output_type": "stream",
          "name": "stdout",
          "text": [
            "Epoch [519/3000]: Train loss: 3.0658, Valid loss: 2.7210\n"
          ]
        },
        {
          "output_type": "stream",
          "name": "stderr",
          "text": [
            "Epoch [520/3000]: 100%|██████████| 7/7 [00:00<00:00, 118.29it/s, loss=2.36]\n"
          ]
        },
        {
          "output_type": "stream",
          "name": "stdout",
          "text": [
            "Epoch [520/3000]: Train loss: 2.5137, Valid loss: 3.2408\n"
          ]
        },
        {
          "output_type": "stream",
          "name": "stderr",
          "text": [
            "Epoch [521/3000]: 100%|██████████| 7/7 [00:00<00:00, 127.67it/s, loss=2.81]\n"
          ]
        },
        {
          "output_type": "stream",
          "name": "stdout",
          "text": [
            "Epoch [521/3000]: Train loss: 2.8161, Valid loss: 4.6244\n"
          ]
        },
        {
          "output_type": "stream",
          "name": "stderr",
          "text": [
            "Epoch [522/3000]: 100%|██████████| 7/7 [00:00<00:00, 133.13it/s, loss=3.35]\n"
          ]
        },
        {
          "output_type": "stream",
          "name": "stdout",
          "text": [
            "Epoch [522/3000]: Train loss: 4.0767, Valid loss: 2.9355\n"
          ]
        },
        {
          "output_type": "stream",
          "name": "stderr",
          "text": [
            "Epoch [523/3000]: 100%|██████████| 7/7 [00:00<00:00, 115.78it/s, loss=2.49]\n"
          ]
        },
        {
          "output_type": "stream",
          "name": "stdout",
          "text": [
            "Epoch [523/3000]: Train loss: 2.6574, Valid loss: 2.9090\n"
          ]
        },
        {
          "output_type": "stream",
          "name": "stderr",
          "text": [
            "Epoch [524/3000]: 100%|██████████| 7/7 [00:00<00:00, 133.11it/s, loss=2.53]\n"
          ]
        },
        {
          "output_type": "stream",
          "name": "stdout",
          "text": [
            "Epoch [524/3000]: Train loss: 2.7819, Valid loss: 2.9384\n"
          ]
        },
        {
          "output_type": "stream",
          "name": "stderr",
          "text": [
            "Epoch [525/3000]: 100%|██████████| 7/7 [00:00<00:00, 125.47it/s, loss=3.53]\n"
          ]
        },
        {
          "output_type": "stream",
          "name": "stdout",
          "text": [
            "Epoch [525/3000]: Train loss: 3.2868, Valid loss: 3.0043\n"
          ]
        },
        {
          "output_type": "stream",
          "name": "stderr",
          "text": [
            "Epoch [526/3000]: 100%|██████████| 7/7 [00:00<00:00, 115.55it/s, loss=3.59]\n"
          ]
        },
        {
          "output_type": "stream",
          "name": "stdout",
          "text": [
            "Epoch [526/3000]: Train loss: 3.9053, Valid loss: 2.7481\n"
          ]
        },
        {
          "output_type": "stream",
          "name": "stderr",
          "text": [
            "Epoch [527/3000]: 100%|██████████| 7/7 [00:00<00:00, 136.39it/s, loss=6.46]\n"
          ]
        },
        {
          "output_type": "stream",
          "name": "stdout",
          "text": [
            "Epoch [527/3000]: Train loss: 4.8302, Valid loss: 3.9891\n"
          ]
        },
        {
          "output_type": "stream",
          "name": "stderr",
          "text": [
            "Epoch [528/3000]: 100%|██████████| 7/7 [00:00<00:00, 127.02it/s, loss=3.5]\n"
          ]
        },
        {
          "output_type": "stream",
          "name": "stdout",
          "text": [
            "Epoch [528/3000]: Train loss: 4.2579, Valid loss: 3.8761\n"
          ]
        },
        {
          "output_type": "stream",
          "name": "stderr",
          "text": [
            "Epoch [529/3000]: 100%|██████████| 7/7 [00:00<00:00, 111.05it/s, loss=2.12]\n"
          ]
        },
        {
          "output_type": "stream",
          "name": "stdout",
          "text": [
            "Epoch [529/3000]: Train loss: 3.5087, Valid loss: 2.7362\n"
          ]
        },
        {
          "output_type": "stream",
          "name": "stderr",
          "text": [
            "Epoch [530/3000]: 100%|██████████| 7/7 [00:00<00:00, 138.10it/s, loss=3.41]\n"
          ]
        },
        {
          "output_type": "stream",
          "name": "stdout",
          "text": [
            "Epoch [530/3000]: Train loss: 2.7615, Valid loss: 6.9211\n"
          ]
        },
        {
          "output_type": "stream",
          "name": "stderr",
          "text": [
            "Epoch [531/3000]: 100%|██████████| 7/7 [00:00<00:00, 132.56it/s, loss=2.7]\n"
          ]
        },
        {
          "output_type": "stream",
          "name": "stdout",
          "text": [
            "Epoch [531/3000]: Train loss: 3.8562, Valid loss: 2.6094\n",
            "Saving model with loss 2.609...\n"
          ]
        },
        {
          "output_type": "stream",
          "name": "stderr",
          "text": [
            "Epoch [532/3000]: 100%|██████████| 7/7 [00:00<00:00, 126.25it/s, loss=2.29]\n"
          ]
        },
        {
          "output_type": "stream",
          "name": "stdout",
          "text": [
            "Epoch [532/3000]: Train loss: 2.7018, Valid loss: 2.8551\n"
          ]
        },
        {
          "output_type": "stream",
          "name": "stderr",
          "text": [
            "Epoch [533/3000]: 100%|██████████| 7/7 [00:00<00:00, 125.71it/s, loss=2.97]\n"
          ]
        },
        {
          "output_type": "stream",
          "name": "stdout",
          "text": [
            "Epoch [533/3000]: Train loss: 2.5518, Valid loss: 2.6928\n"
          ]
        },
        {
          "output_type": "stream",
          "name": "stderr",
          "text": [
            "Epoch [534/3000]: 100%|██████████| 7/7 [00:00<00:00, 123.70it/s, loss=2.32]\n"
          ]
        },
        {
          "output_type": "stream",
          "name": "stdout",
          "text": [
            "Epoch [534/3000]: Train loss: 2.5030, Valid loss: 2.6360\n"
          ]
        },
        {
          "output_type": "stream",
          "name": "stderr",
          "text": [
            "Epoch [535/3000]: 100%|██████████| 7/7 [00:00<00:00, 109.74it/s, loss=2.74]\n"
          ]
        },
        {
          "output_type": "stream",
          "name": "stdout",
          "text": [
            "Epoch [535/3000]: Train loss: 2.9510, Valid loss: 5.6841\n"
          ]
        },
        {
          "output_type": "stream",
          "name": "stderr",
          "text": [
            "Epoch [536/3000]: 100%|██████████| 7/7 [00:00<00:00, 133.38it/s, loss=5.33]\n"
          ]
        },
        {
          "output_type": "stream",
          "name": "stdout",
          "text": [
            "Epoch [536/3000]: Train loss: 4.6740, Valid loss: 2.9061\n"
          ]
        },
        {
          "output_type": "stream",
          "name": "stderr",
          "text": [
            "Epoch [537/3000]: 100%|██████████| 7/7 [00:00<00:00, 124.57it/s, loss=3.04]\n"
          ]
        },
        {
          "output_type": "stream",
          "name": "stdout",
          "text": [
            "Epoch [537/3000]: Train loss: 2.9583, Valid loss: 3.5714\n"
          ]
        },
        {
          "output_type": "stream",
          "name": "stderr",
          "text": [
            "Epoch [538/3000]: 100%|██████████| 7/7 [00:00<00:00, 120.81it/s, loss=3]\n"
          ]
        },
        {
          "output_type": "stream",
          "name": "stdout",
          "text": [
            "Epoch [538/3000]: Train loss: 3.5042, Valid loss: 3.3001\n"
          ]
        },
        {
          "output_type": "stream",
          "name": "stderr",
          "text": [
            "Epoch [539/3000]: 100%|██████████| 7/7 [00:00<00:00, 126.15it/s, loss=4.46]\n"
          ]
        },
        {
          "output_type": "stream",
          "name": "stdout",
          "text": [
            "Epoch [539/3000]: Train loss: 3.1808, Valid loss: 2.6176\n"
          ]
        },
        {
          "output_type": "stream",
          "name": "stderr",
          "text": [
            "Epoch [540/3000]: 100%|██████████| 7/7 [00:00<00:00, 126.90it/s, loss=3.55]\n"
          ]
        },
        {
          "output_type": "stream",
          "name": "stdout",
          "text": [
            "Epoch [540/3000]: Train loss: 3.2515, Valid loss: 3.4524\n"
          ]
        },
        {
          "output_type": "stream",
          "name": "stderr",
          "text": [
            "Epoch [541/3000]: 100%|██████████| 7/7 [00:00<00:00, 106.11it/s, loss=2.52]\n"
          ]
        },
        {
          "output_type": "stream",
          "name": "stdout",
          "text": [
            "Epoch [541/3000]: Train loss: 3.1284, Valid loss: 3.7156\n"
          ]
        },
        {
          "output_type": "stream",
          "name": "stderr",
          "text": [
            "Epoch [542/3000]: 100%|██████████| 7/7 [00:00<00:00, 118.21it/s, loss=2.58]\n"
          ]
        },
        {
          "output_type": "stream",
          "name": "stdout",
          "text": [
            "Epoch [542/3000]: Train loss: 2.7985, Valid loss: 3.0086\n"
          ]
        },
        {
          "output_type": "stream",
          "name": "stderr",
          "text": [
            "Epoch [543/3000]: 100%|██████████| 7/7 [00:00<00:00, 116.28it/s, loss=2.78]\n"
          ]
        },
        {
          "output_type": "stream",
          "name": "stdout",
          "text": [
            "Epoch [543/3000]: Train loss: 2.7303, Valid loss: 3.2592\n"
          ]
        },
        {
          "output_type": "stream",
          "name": "stderr",
          "text": [
            "Epoch [544/3000]: 100%|██████████| 7/7 [00:00<00:00, 127.64it/s, loss=2.9]\n"
          ]
        },
        {
          "output_type": "stream",
          "name": "stdout",
          "text": [
            "Epoch [544/3000]: Train loss: 2.9721, Valid loss: 2.7600\n"
          ]
        },
        {
          "output_type": "stream",
          "name": "stderr",
          "text": [
            "Epoch [545/3000]: 100%|██████████| 7/7 [00:00<00:00, 124.45it/s, loss=2.3]\n"
          ]
        },
        {
          "output_type": "stream",
          "name": "stdout",
          "text": [
            "Epoch [545/3000]: Train loss: 2.7407, Valid loss: 2.8699\n"
          ]
        },
        {
          "output_type": "stream",
          "name": "stderr",
          "text": [
            "Epoch [546/3000]: 100%|██████████| 7/7 [00:00<00:00, 119.87it/s, loss=2.28]\n"
          ]
        },
        {
          "output_type": "stream",
          "name": "stdout",
          "text": [
            "Epoch [546/3000]: Train loss: 2.5779, Valid loss: 3.1072\n"
          ]
        },
        {
          "output_type": "stream",
          "name": "stderr",
          "text": [
            "Epoch [547/3000]: 100%|██████████| 7/7 [00:00<00:00, 124.36it/s, loss=2.24]\n"
          ]
        },
        {
          "output_type": "stream",
          "name": "stdout",
          "text": [
            "Epoch [547/3000]: Train loss: 3.2433, Valid loss: 4.1309\n"
          ]
        },
        {
          "output_type": "stream",
          "name": "stderr",
          "text": [
            "Epoch [548/3000]: 100%|██████████| 7/7 [00:00<00:00, 122.05it/s, loss=3.11]\n"
          ]
        },
        {
          "output_type": "stream",
          "name": "stdout",
          "text": [
            "Epoch [548/3000]: Train loss: 3.1504, Valid loss: 2.7275\n"
          ]
        },
        {
          "output_type": "stream",
          "name": "stderr",
          "text": [
            "Epoch [549/3000]: 100%|██████████| 7/7 [00:00<00:00, 114.98it/s, loss=1.93]\n"
          ]
        },
        {
          "output_type": "stream",
          "name": "stdout",
          "text": [
            "Epoch [549/3000]: Train loss: 2.7134, Valid loss: 3.3852\n"
          ]
        },
        {
          "output_type": "stream",
          "name": "stderr",
          "text": [
            "Epoch [550/3000]: 100%|██████████| 7/7 [00:00<00:00, 112.39it/s, loss=5.3]\n"
          ]
        },
        {
          "output_type": "stream",
          "name": "stdout",
          "text": [
            "Epoch [550/3000]: Train loss: 3.7309, Valid loss: 2.7133\n"
          ]
        },
        {
          "output_type": "stream",
          "name": "stderr",
          "text": [
            "Epoch [551/3000]: 100%|██████████| 7/7 [00:00<00:00, 121.84it/s, loss=2.41]\n"
          ]
        },
        {
          "output_type": "stream",
          "name": "stdout",
          "text": [
            "Epoch [551/3000]: Train loss: 3.1221, Valid loss: 3.5180\n"
          ]
        },
        {
          "output_type": "stream",
          "name": "stderr",
          "text": [
            "Epoch [552/3000]: 100%|██████████| 7/7 [00:00<00:00, 134.16it/s, loss=3.51]\n"
          ]
        },
        {
          "output_type": "stream",
          "name": "stdout",
          "text": [
            "Epoch [552/3000]: Train loss: 3.0301, Valid loss: 2.5370\n",
            "Saving model with loss 2.537...\n"
          ]
        },
        {
          "output_type": "stream",
          "name": "stderr",
          "text": [
            "Epoch [553/3000]: 100%|██████████| 7/7 [00:00<00:00, 136.32it/s, loss=4.9]\n"
          ]
        },
        {
          "output_type": "stream",
          "name": "stdout",
          "text": [
            "Epoch [553/3000]: Train loss: 2.9496, Valid loss: 3.9419\n"
          ]
        },
        {
          "output_type": "stream",
          "name": "stderr",
          "text": [
            "Epoch [554/3000]: 100%|██████████| 7/7 [00:00<00:00, 112.90it/s, loss=2.95]\n"
          ]
        },
        {
          "output_type": "stream",
          "name": "stdout",
          "text": [
            "Epoch [554/3000]: Train loss: 3.2928, Valid loss: 2.8842\n"
          ]
        },
        {
          "output_type": "stream",
          "name": "stderr",
          "text": [
            "Epoch [555/3000]: 100%|██████████| 7/7 [00:00<00:00, 131.54it/s, loss=3.62]\n"
          ]
        },
        {
          "output_type": "stream",
          "name": "stdout",
          "text": [
            "Epoch [555/3000]: Train loss: 3.0352, Valid loss: 2.7000\n"
          ]
        },
        {
          "output_type": "stream",
          "name": "stderr",
          "text": [
            "Epoch [556/3000]: 100%|██████████| 7/7 [00:00<00:00, 134.81it/s, loss=2.31]\n"
          ]
        },
        {
          "output_type": "stream",
          "name": "stdout",
          "text": [
            "Epoch [556/3000]: Train loss: 2.7671, Valid loss: 3.0219\n"
          ]
        },
        {
          "output_type": "stream",
          "name": "stderr",
          "text": [
            "Epoch [557/3000]: 100%|██████████| 7/7 [00:00<00:00, 129.62it/s, loss=2.56]\n"
          ]
        },
        {
          "output_type": "stream",
          "name": "stdout",
          "text": [
            "Epoch [557/3000]: Train loss: 2.7624, Valid loss: 2.9694\n"
          ]
        },
        {
          "output_type": "stream",
          "name": "stderr",
          "text": [
            "Epoch [558/3000]: 100%|██████████| 7/7 [00:00<00:00, 130.47it/s, loss=2.21]\n"
          ]
        },
        {
          "output_type": "stream",
          "name": "stdout",
          "text": [
            "Epoch [558/3000]: Train loss: 2.5211, Valid loss: 2.5034\n",
            "Saving model with loss 2.503...\n"
          ]
        },
        {
          "output_type": "stream",
          "name": "stderr",
          "text": [
            "Epoch [559/3000]: 100%|██████████| 7/7 [00:00<00:00, 134.59it/s, loss=3.42]\n"
          ]
        },
        {
          "output_type": "stream",
          "name": "stdout",
          "text": [
            "Epoch [559/3000]: Train loss: 2.6942, Valid loss: 2.8006\n"
          ]
        },
        {
          "output_type": "stream",
          "name": "stderr",
          "text": [
            "Epoch [560/3000]: 100%|██████████| 7/7 [00:00<00:00, 132.78it/s, loss=2.94]\n"
          ]
        },
        {
          "output_type": "stream",
          "name": "stdout",
          "text": [
            "Epoch [560/3000]: Train loss: 2.7843, Valid loss: 2.6954\n"
          ]
        },
        {
          "output_type": "stream",
          "name": "stderr",
          "text": [
            "Epoch [561/3000]: 100%|██████████| 7/7 [00:00<00:00, 131.72it/s, loss=3.23]\n"
          ]
        },
        {
          "output_type": "stream",
          "name": "stdout",
          "text": [
            "Epoch [561/3000]: Train loss: 2.7247, Valid loss: 3.3796\n"
          ]
        },
        {
          "output_type": "stream",
          "name": "stderr",
          "text": [
            "Epoch [562/3000]: 100%|██████████| 7/7 [00:00<00:00, 129.77it/s, loss=3.01]\n"
          ]
        },
        {
          "output_type": "stream",
          "name": "stdout",
          "text": [
            "Epoch [562/3000]: Train loss: 2.5978, Valid loss: 2.8714\n"
          ]
        },
        {
          "output_type": "stream",
          "name": "stderr",
          "text": [
            "Epoch [563/3000]: 100%|██████████| 7/7 [00:00<00:00, 127.28it/s, loss=2.98]\n"
          ]
        },
        {
          "output_type": "stream",
          "name": "stdout",
          "text": [
            "Epoch [563/3000]: Train loss: 2.5668, Valid loss: 2.5618\n"
          ]
        },
        {
          "output_type": "stream",
          "name": "stderr",
          "text": [
            "Epoch [564/3000]: 100%|██████████| 7/7 [00:00<00:00, 131.26it/s, loss=2.32]\n"
          ]
        },
        {
          "output_type": "stream",
          "name": "stdout",
          "text": [
            "Epoch [564/3000]: Train loss: 2.3696, Valid loss: 2.5256\n"
          ]
        },
        {
          "output_type": "stream",
          "name": "stderr",
          "text": [
            "Epoch [565/3000]: 100%|██████████| 7/7 [00:00<00:00, 111.13it/s, loss=2.77]\n"
          ]
        },
        {
          "output_type": "stream",
          "name": "stdout",
          "text": [
            "Epoch [565/3000]: Train loss: 2.4471, Valid loss: 2.7886\n"
          ]
        },
        {
          "output_type": "stream",
          "name": "stderr",
          "text": [
            "Epoch [566/3000]: 100%|██████████| 7/7 [00:00<00:00, 120.01it/s, loss=3.12]\n"
          ]
        },
        {
          "output_type": "stream",
          "name": "stdout",
          "text": [
            "Epoch [566/3000]: Train loss: 2.6858, Valid loss: 2.5557\n"
          ]
        },
        {
          "output_type": "stream",
          "name": "stderr",
          "text": [
            "Epoch [567/3000]: 100%|██████████| 7/7 [00:00<00:00, 127.49it/s, loss=3.07]\n"
          ]
        },
        {
          "output_type": "stream",
          "name": "stdout",
          "text": [
            "Epoch [567/3000]: Train loss: 2.5077, Valid loss: 3.8374\n"
          ]
        },
        {
          "output_type": "stream",
          "name": "stderr",
          "text": [
            "Epoch [568/3000]: 100%|██████████| 7/7 [00:00<00:00, 115.24it/s, loss=2.64]\n"
          ]
        },
        {
          "output_type": "stream",
          "name": "stdout",
          "text": [
            "Epoch [568/3000]: Train loss: 2.8232, Valid loss: 2.6728\n"
          ]
        },
        {
          "output_type": "stream",
          "name": "stderr",
          "text": [
            "Epoch [569/3000]: 100%|██████████| 7/7 [00:00<00:00, 132.49it/s, loss=1.92]\n"
          ]
        },
        {
          "output_type": "stream",
          "name": "stdout",
          "text": [
            "Epoch [569/3000]: Train loss: 2.4330, Valid loss: 2.5640\n"
          ]
        },
        {
          "output_type": "stream",
          "name": "stderr",
          "text": [
            "Epoch [570/3000]: 100%|██████████| 7/7 [00:00<00:00, 124.39it/s, loss=2.72]\n"
          ]
        },
        {
          "output_type": "stream",
          "name": "stdout",
          "text": [
            "Epoch [570/3000]: Train loss: 2.7702, Valid loss: 3.2975\n"
          ]
        },
        {
          "output_type": "stream",
          "name": "stderr",
          "text": [
            "Epoch [571/3000]: 100%|██████████| 7/7 [00:00<00:00, 130.52it/s, loss=2.27]"
          ]
        },
        {
          "output_type": "stream",
          "name": "stdout",
          "text": [
            "Epoch [571/3000]: Train loss: 2.5013, Valid loss: 2.7224"
          ]
        },
        {
          "output_type": "stream",
          "name": "stderr",
          "text": [
            "\n"
          ]
        },
        {
          "output_type": "stream",
          "name": "stdout",
          "text": [
            "\n"
          ]
        },
        {
          "output_type": "stream",
          "name": "stderr",
          "text": [
            "Epoch [572/3000]: 100%|██████████| 7/7 [00:00<00:00, 129.99it/s, loss=2.37]\n"
          ]
        },
        {
          "output_type": "stream",
          "name": "stdout",
          "text": [
            "Epoch [572/3000]: Train loss: 2.3831, Valid loss: 2.5038\n"
          ]
        },
        {
          "output_type": "stream",
          "name": "stderr",
          "text": [
            "Epoch [573/3000]: 100%|██████████| 7/7 [00:00<00:00, 133.52it/s, loss=2.11]\n"
          ]
        },
        {
          "output_type": "stream",
          "name": "stdout",
          "text": [
            "Epoch [573/3000]: Train loss: 2.3976, Valid loss: 2.5374\n"
          ]
        },
        {
          "output_type": "stream",
          "name": "stderr",
          "text": [
            "Epoch [574/3000]: 100%|██████████| 7/7 [00:00<00:00, 126.68it/s, loss=2.33]"
          ]
        },
        {
          "output_type": "stream",
          "name": "stdout",
          "text": [
            "Epoch [574/3000]: Train loss: 2.5189, Valid loss: 2.7306"
          ]
        },
        {
          "output_type": "stream",
          "name": "stderr",
          "text": [
            "\n"
          ]
        },
        {
          "output_type": "stream",
          "name": "stdout",
          "text": [
            "\n"
          ]
        },
        {
          "output_type": "stream",
          "name": "stderr",
          "text": [
            "Epoch [575/3000]: 100%|██████████| 7/7 [00:00<00:00, 123.89it/s, loss=2.34]\n"
          ]
        },
        {
          "output_type": "stream",
          "name": "stdout",
          "text": [
            "Epoch [575/3000]: Train loss: 2.5053, Valid loss: 2.5602\n"
          ]
        },
        {
          "output_type": "stream",
          "name": "stderr",
          "text": [
            "Epoch [576/3000]: 100%|██████████| 7/7 [00:00<00:00, 130.48it/s, loss=2.5]\n"
          ]
        },
        {
          "output_type": "stream",
          "name": "stdout",
          "text": [
            "Epoch [576/3000]: Train loss: 2.3558, Valid loss: 2.4985\n",
            "Saving model with loss 2.498...\n"
          ]
        },
        {
          "output_type": "stream",
          "name": "stderr",
          "text": [
            "Epoch [577/3000]: 100%|██████████| 7/7 [00:00<00:00, 128.59it/s, loss=2.53]\n"
          ]
        },
        {
          "output_type": "stream",
          "name": "stdout",
          "text": [
            "Epoch [577/3000]: Train loss: 2.3634, Valid loss: 2.5885\n"
          ]
        },
        {
          "output_type": "stream",
          "name": "stderr",
          "text": [
            "Epoch [578/3000]: 100%|██████████| 7/7 [00:00<00:00, 134.88it/s, loss=2.47]\n"
          ]
        },
        {
          "output_type": "stream",
          "name": "stdout",
          "text": [
            "Epoch [578/3000]: Train loss: 2.3471, Valid loss: 2.8449\n"
          ]
        },
        {
          "output_type": "stream",
          "name": "stderr",
          "text": [
            "Epoch [579/3000]: 100%|██████████| 7/7 [00:00<00:00, 133.74it/s, loss=2.62]\n"
          ]
        },
        {
          "output_type": "stream",
          "name": "stdout",
          "text": [
            "Epoch [579/3000]: Train loss: 2.6248, Valid loss: 3.3379\n"
          ]
        },
        {
          "output_type": "stream",
          "name": "stderr",
          "text": [
            "Epoch [580/3000]: 100%|██████████| 7/7 [00:00<00:00, 113.91it/s, loss=3.31]\n"
          ]
        },
        {
          "output_type": "stream",
          "name": "stdout",
          "text": [
            "Epoch [580/3000]: Train loss: 2.9837, Valid loss: 3.0687\n"
          ]
        },
        {
          "output_type": "stream",
          "name": "stderr",
          "text": [
            "Epoch [581/3000]: 100%|██████████| 7/7 [00:00<00:00, 96.46it/s, loss=2.35]\n"
          ]
        },
        {
          "output_type": "stream",
          "name": "stdout",
          "text": [
            "Epoch [581/3000]: Train loss: 2.6975, Valid loss: 2.4818\n",
            "Saving model with loss 2.482...\n"
          ]
        },
        {
          "output_type": "stream",
          "name": "stderr",
          "text": [
            "Epoch [582/3000]: 100%|██████████| 7/7 [00:00<00:00, 112.85it/s, loss=2.6]\n"
          ]
        },
        {
          "output_type": "stream",
          "name": "stdout",
          "text": [
            "Epoch [582/3000]: Train loss: 2.7985, Valid loss: 2.5705\n"
          ]
        },
        {
          "output_type": "stream",
          "name": "stderr",
          "text": [
            "Epoch [583/3000]: 100%|██████████| 7/7 [00:00<00:00, 118.84it/s, loss=1.97]\n"
          ]
        },
        {
          "output_type": "stream",
          "name": "stdout",
          "text": [
            "Epoch [583/3000]: Train loss: 3.5754, Valid loss: 4.1368\n"
          ]
        },
        {
          "output_type": "stream",
          "name": "stderr",
          "text": [
            "Epoch [584/3000]: 100%|██████████| 7/7 [00:00<00:00, 122.45it/s, loss=2.97]\n"
          ]
        },
        {
          "output_type": "stream",
          "name": "stdout",
          "text": [
            "Epoch [584/3000]: Train loss: 3.3289, Valid loss: 4.4583\n"
          ]
        },
        {
          "output_type": "stream",
          "name": "stderr",
          "text": [
            "Epoch [585/3000]: 100%|██████████| 7/7 [00:00<00:00, 117.81it/s, loss=3.44]\n"
          ]
        },
        {
          "output_type": "stream",
          "name": "stdout",
          "text": [
            "Epoch [585/3000]: Train loss: 3.2357, Valid loss: 2.5471\n"
          ]
        },
        {
          "output_type": "stream",
          "name": "stderr",
          "text": [
            "Epoch [586/3000]: 100%|██████████| 7/7 [00:00<00:00, 123.32it/s, loss=3.67]\n"
          ]
        },
        {
          "output_type": "stream",
          "name": "stdout",
          "text": [
            "Epoch [586/3000]: Train loss: 3.8130, Valid loss: 15.5227\n"
          ]
        },
        {
          "output_type": "stream",
          "name": "stderr",
          "text": [
            "Epoch [587/3000]: 100%|██████████| 7/7 [00:00<00:00, 116.65it/s, loss=3.65]\n"
          ]
        },
        {
          "output_type": "stream",
          "name": "stdout",
          "text": [
            "Epoch [587/3000]: Train loss: 9.5521, Valid loss: 6.3312\n"
          ]
        },
        {
          "output_type": "stream",
          "name": "stderr",
          "text": [
            "Epoch [588/3000]: 100%|██████████| 7/7 [00:00<00:00, 107.91it/s, loss=4.52]\n"
          ]
        },
        {
          "output_type": "stream",
          "name": "stdout",
          "text": [
            "Epoch [588/3000]: Train loss: 4.8833, Valid loss: 3.6069\n"
          ]
        },
        {
          "output_type": "stream",
          "name": "stderr",
          "text": [
            "Epoch [589/3000]: 100%|██████████| 7/7 [00:00<00:00, 124.55it/s, loss=2.99]\n"
          ]
        },
        {
          "output_type": "stream",
          "name": "stdout",
          "text": [
            "Epoch [589/3000]: Train loss: 3.5326, Valid loss: 2.8595\n"
          ]
        },
        {
          "output_type": "stream",
          "name": "stderr",
          "text": [
            "Epoch [590/3000]: 100%|██████████| 7/7 [00:00<00:00, 138.15it/s, loss=3.38]\n"
          ]
        },
        {
          "output_type": "stream",
          "name": "stdout",
          "text": [
            "Epoch [590/3000]: Train loss: 3.0933, Valid loss: 2.9879\n"
          ]
        },
        {
          "output_type": "stream",
          "name": "stderr",
          "text": [
            "Epoch [591/3000]: 100%|██████████| 7/7 [00:00<00:00, 130.22it/s, loss=2.37]\n"
          ]
        },
        {
          "output_type": "stream",
          "name": "stdout",
          "text": [
            "Epoch [591/3000]: Train loss: 2.7700, Valid loss: 2.9221\n"
          ]
        },
        {
          "output_type": "stream",
          "name": "stderr",
          "text": [
            "Epoch [592/3000]: 100%|██████████| 7/7 [00:00<00:00, 121.77it/s, loss=2.74]\n"
          ]
        },
        {
          "output_type": "stream",
          "name": "stdout",
          "text": [
            "Epoch [592/3000]: Train loss: 2.6739, Valid loss: 2.7529\n"
          ]
        },
        {
          "output_type": "stream",
          "name": "stderr",
          "text": [
            "Epoch [593/3000]: 100%|██████████| 7/7 [00:00<00:00, 113.91it/s, loss=3.82]\n"
          ]
        },
        {
          "output_type": "stream",
          "name": "stdout",
          "text": [
            "Epoch [593/3000]: Train loss: 2.6837, Valid loss: 4.9257\n"
          ]
        },
        {
          "output_type": "stream",
          "name": "stderr",
          "text": [
            "Epoch [594/3000]: 100%|██████████| 7/7 [00:00<00:00, 98.87it/s, loss=5.27]\n"
          ]
        },
        {
          "output_type": "stream",
          "name": "stdout",
          "text": [
            "Epoch [594/3000]: Train loss: 5.3201, Valid loss: 4.5733\n"
          ]
        },
        {
          "output_type": "stream",
          "name": "stderr",
          "text": [
            "Epoch [595/3000]: 100%|██████████| 7/7 [00:00<00:00, 132.44it/s, loss=4.1]\n"
          ]
        },
        {
          "output_type": "stream",
          "name": "stdout",
          "text": [
            "Epoch [595/3000]: Train loss: 4.6024, Valid loss: 2.6351\n"
          ]
        },
        {
          "output_type": "stream",
          "name": "stderr",
          "text": [
            "Epoch [596/3000]: 100%|██████████| 7/7 [00:00<00:00, 130.23it/s, loss=3.35]\n"
          ]
        },
        {
          "output_type": "stream",
          "name": "stdout",
          "text": [
            "Epoch [596/3000]: Train loss: 2.9694, Valid loss: 2.5078\n"
          ]
        },
        {
          "output_type": "stream",
          "name": "stderr",
          "text": [
            "Epoch [597/3000]: 100%|██████████| 7/7 [00:00<00:00, 132.86it/s, loss=2.43]\n"
          ]
        },
        {
          "output_type": "stream",
          "name": "stdout",
          "text": [
            "Epoch [597/3000]: Train loss: 2.6747, Valid loss: 3.4297\n"
          ]
        },
        {
          "output_type": "stream",
          "name": "stderr",
          "text": [
            "Epoch [598/3000]: 100%|██████████| 7/7 [00:00<00:00, 128.78it/s, loss=2.7]\n"
          ]
        },
        {
          "output_type": "stream",
          "name": "stdout",
          "text": [
            "Epoch [598/3000]: Train loss: 3.0872, Valid loss: 3.1975\n"
          ]
        },
        {
          "output_type": "stream",
          "name": "stderr",
          "text": [
            "Epoch [599/3000]: 100%|██████████| 7/7 [00:00<00:00, 131.33it/s, loss=3.85]\n"
          ]
        },
        {
          "output_type": "stream",
          "name": "stdout",
          "text": [
            "Epoch [599/3000]: Train loss: 3.3691, Valid loss: 2.6707\n"
          ]
        },
        {
          "output_type": "stream",
          "name": "stderr",
          "text": [
            "Epoch [600/3000]: 100%|██████████| 7/7 [00:00<00:00, 132.24it/s, loss=3.59]\n"
          ]
        },
        {
          "output_type": "stream",
          "name": "stdout",
          "text": [
            "Epoch [600/3000]: Train loss: 4.4036, Valid loss: 10.1159\n"
          ]
        },
        {
          "output_type": "stream",
          "name": "stderr",
          "text": [
            "Epoch [601/3000]: 100%|██████████| 7/7 [00:00<00:00, 130.79it/s, loss=4.92]\n"
          ]
        },
        {
          "output_type": "stream",
          "name": "stdout",
          "text": [
            "Epoch [601/3000]: Train loss: 5.5722, Valid loss: 2.8151\n"
          ]
        },
        {
          "output_type": "stream",
          "name": "stderr",
          "text": [
            "Epoch [602/3000]: 100%|██████████| 7/7 [00:00<00:00, 133.50it/s, loss=6.48]\n"
          ]
        },
        {
          "output_type": "stream",
          "name": "stdout",
          "text": [
            "Epoch [602/3000]: Train loss: 3.7979, Valid loss: 5.3130\n"
          ]
        },
        {
          "output_type": "stream",
          "name": "stderr",
          "text": [
            "Epoch [603/3000]: 100%|██████████| 7/7 [00:00<00:00, 132.39it/s, loss=3.06]\n"
          ]
        },
        {
          "output_type": "stream",
          "name": "stdout",
          "text": [
            "Epoch [603/3000]: Train loss: 4.3270, Valid loss: 4.4551\n"
          ]
        },
        {
          "output_type": "stream",
          "name": "stderr",
          "text": [
            "Epoch [604/3000]: 100%|██████████| 7/7 [00:00<00:00, 133.16it/s, loss=3.88]\n"
          ]
        },
        {
          "output_type": "stream",
          "name": "stdout",
          "text": [
            "Epoch [604/3000]: Train loss: 3.3815, Valid loss: 3.9210\n"
          ]
        },
        {
          "output_type": "stream",
          "name": "stderr",
          "text": [
            "Epoch [605/3000]: 100%|██████████| 7/7 [00:00<00:00, 127.59it/s, loss=2.61]\n"
          ]
        },
        {
          "output_type": "stream",
          "name": "stdout",
          "text": [
            "Epoch [605/3000]: Train loss: 3.5771, Valid loss: 4.3148\n"
          ]
        },
        {
          "output_type": "stream",
          "name": "stderr",
          "text": [
            "Epoch [606/3000]: 100%|██████████| 7/7 [00:00<00:00, 130.49it/s, loss=2.7]\n"
          ]
        },
        {
          "output_type": "stream",
          "name": "stdout",
          "text": [
            "Epoch [606/3000]: Train loss: 3.6490, Valid loss: 3.7735\n"
          ]
        },
        {
          "output_type": "stream",
          "name": "stderr",
          "text": [
            "Epoch [607/3000]: 100%|██████████| 7/7 [00:00<00:00, 129.89it/s, loss=2.56]"
          ]
        },
        {
          "output_type": "stream",
          "name": "stdout",
          "text": [
            "Epoch [607/3000]: Train loss: 2.9711, Valid loss: 2.6134"
          ]
        },
        {
          "output_type": "stream",
          "name": "stderr",
          "text": [
            "\n"
          ]
        },
        {
          "output_type": "stream",
          "name": "stdout",
          "text": [
            "\n"
          ]
        },
        {
          "output_type": "stream",
          "name": "stderr",
          "text": [
            "Epoch [608/3000]: 100%|██████████| 7/7 [00:00<00:00, 135.69it/s, loss=2.55]\n"
          ]
        },
        {
          "output_type": "stream",
          "name": "stdout",
          "text": [
            "Epoch [608/3000]: Train loss: 2.9655, Valid loss: 4.2917\n"
          ]
        },
        {
          "output_type": "stream",
          "name": "stderr",
          "text": [
            "Epoch [609/3000]: 100%|██████████| 7/7 [00:00<00:00, 132.88it/s, loss=7.85]\n"
          ]
        },
        {
          "output_type": "stream",
          "name": "stdout",
          "text": [
            "Epoch [609/3000]: Train loss: 4.7224, Valid loss: 5.7983\n"
          ]
        },
        {
          "output_type": "stream",
          "name": "stderr",
          "text": [
            "Epoch [610/3000]: 100%|██████████| 7/7 [00:00<00:00, 116.96it/s, loss=3.77]\n"
          ]
        },
        {
          "output_type": "stream",
          "name": "stdout",
          "text": [
            "Epoch [610/3000]: Train loss: 4.9197, Valid loss: 4.9882\n"
          ]
        },
        {
          "output_type": "stream",
          "name": "stderr",
          "text": [
            "Epoch [611/3000]: 100%|██████████| 7/7 [00:00<00:00, 125.22it/s, loss=3.09]\n"
          ]
        },
        {
          "output_type": "stream",
          "name": "stdout",
          "text": [
            "Epoch [611/3000]: Train loss: 5.0204, Valid loss: 6.3320\n"
          ]
        },
        {
          "output_type": "stream",
          "name": "stderr",
          "text": [
            "Epoch [612/3000]: 100%|██████████| 7/7 [00:00<00:00, 124.82it/s, loss=2.94]\n"
          ]
        },
        {
          "output_type": "stream",
          "name": "stdout",
          "text": [
            "Epoch [612/3000]: Train loss: 4.3919, Valid loss: 5.3739\n"
          ]
        },
        {
          "output_type": "stream",
          "name": "stderr",
          "text": [
            "Epoch [613/3000]: 100%|██████████| 7/7 [00:00<00:00, 135.66it/s, loss=2.77]\n"
          ]
        },
        {
          "output_type": "stream",
          "name": "stdout",
          "text": [
            "Epoch [613/3000]: Train loss: 3.6244, Valid loss: 3.1516\n"
          ]
        },
        {
          "output_type": "stream",
          "name": "stderr",
          "text": [
            "Epoch [614/3000]: 100%|██████████| 7/7 [00:00<00:00, 128.55it/s, loss=2.14]\n"
          ]
        },
        {
          "output_type": "stream",
          "name": "stdout",
          "text": [
            "Epoch [614/3000]: Train loss: 3.1466, Valid loss: 4.1102\n"
          ]
        },
        {
          "output_type": "stream",
          "name": "stderr",
          "text": [
            "Epoch [615/3000]: 100%|██████████| 7/7 [00:00<00:00, 140.10it/s, loss=2.76]\n"
          ]
        },
        {
          "output_type": "stream",
          "name": "stdout",
          "text": [
            "Epoch [615/3000]: Train loss: 3.5588, Valid loss: 3.8515\n"
          ]
        },
        {
          "output_type": "stream",
          "name": "stderr",
          "text": [
            "Epoch [616/3000]: 100%|██████████| 7/7 [00:00<00:00, 136.48it/s, loss=4.2]\n"
          ]
        },
        {
          "output_type": "stream",
          "name": "stdout",
          "text": [
            "Epoch [616/3000]: Train loss: 3.5533, Valid loss: 2.8254\n"
          ]
        },
        {
          "output_type": "stream",
          "name": "stderr",
          "text": [
            "Epoch [617/3000]: 100%|██████████| 7/7 [00:00<00:00, 136.61it/s, loss=3.71]\n"
          ]
        },
        {
          "output_type": "stream",
          "name": "stdout",
          "text": [
            "Epoch [617/3000]: Train loss: 3.8241, Valid loss: 2.7349\n"
          ]
        },
        {
          "output_type": "stream",
          "name": "stderr",
          "text": [
            "Epoch [618/3000]: 100%|██████████| 7/7 [00:00<00:00, 137.70it/s, loss=3.1]\n"
          ]
        },
        {
          "output_type": "stream",
          "name": "stdout",
          "text": [
            "Epoch [618/3000]: Train loss: 2.6473, Valid loss: 2.6422\n"
          ]
        },
        {
          "output_type": "stream",
          "name": "stderr",
          "text": [
            "Epoch [619/3000]: 100%|██████████| 7/7 [00:00<00:00, 125.65it/s, loss=3.43]\n"
          ]
        },
        {
          "output_type": "stream",
          "name": "stdout",
          "text": [
            "Epoch [619/3000]: Train loss: 3.0657, Valid loss: 3.0142\n"
          ]
        },
        {
          "output_type": "stream",
          "name": "stderr",
          "text": [
            "Epoch [620/3000]: 100%|██████████| 7/7 [00:00<00:00, 127.06it/s, loss=3.02]\n"
          ]
        },
        {
          "output_type": "stream",
          "name": "stdout",
          "text": [
            "Epoch [620/3000]: Train loss: 2.7691, Valid loss: 3.9060\n"
          ]
        },
        {
          "output_type": "stream",
          "name": "stderr",
          "text": [
            "Epoch [621/3000]: 100%|██████████| 7/7 [00:00<00:00, 129.89it/s, loss=3.41]\n"
          ]
        },
        {
          "output_type": "stream",
          "name": "stdout",
          "text": [
            "Epoch [621/3000]: Train loss: 3.5569, Valid loss: 2.6455\n"
          ]
        },
        {
          "output_type": "stream",
          "name": "stderr",
          "text": [
            "Epoch [622/3000]: 100%|██████████| 7/7 [00:00<00:00, 133.03it/s, loss=2.56]\n"
          ]
        },
        {
          "output_type": "stream",
          "name": "stdout",
          "text": [
            "Epoch [622/3000]: Train loss: 2.7910, Valid loss: 3.3701\n"
          ]
        },
        {
          "output_type": "stream",
          "name": "stderr",
          "text": [
            "Epoch [623/3000]: 100%|██████████| 7/7 [00:00<00:00, 139.58it/s, loss=2.28]\n"
          ]
        },
        {
          "output_type": "stream",
          "name": "stdout",
          "text": [
            "Epoch [623/3000]: Train loss: 2.6828, Valid loss: 3.1217\n"
          ]
        },
        {
          "output_type": "stream",
          "name": "stderr",
          "text": [
            "Epoch [624/3000]: 100%|██████████| 7/7 [00:00<00:00, 124.63it/s, loss=2.72]\n"
          ]
        },
        {
          "output_type": "stream",
          "name": "stdout",
          "text": [
            "Epoch [624/3000]: Train loss: 2.6049, Valid loss: 2.7061\n"
          ]
        },
        {
          "output_type": "stream",
          "name": "stderr",
          "text": [
            "Epoch [625/3000]: 100%|██████████| 7/7 [00:00<00:00, 132.76it/s, loss=3.1]\n"
          ]
        },
        {
          "output_type": "stream",
          "name": "stdout",
          "text": [
            "Epoch [625/3000]: Train loss: 2.5258, Valid loss: 2.5336\n"
          ]
        },
        {
          "output_type": "stream",
          "name": "stderr",
          "text": [
            "Epoch [626/3000]: 100%|██████████| 7/7 [00:00<00:00, 121.25it/s, loss=2.14]\n"
          ]
        },
        {
          "output_type": "stream",
          "name": "stdout",
          "text": [
            "Epoch [626/3000]: Train loss: 2.5044, Valid loss: 2.3703\n",
            "Saving model with loss 2.370...\n"
          ]
        },
        {
          "output_type": "stream",
          "name": "stderr",
          "text": [
            "Epoch [627/3000]: 100%|██████████| 7/7 [00:00<00:00, 130.15it/s, loss=2.32]\n"
          ]
        },
        {
          "output_type": "stream",
          "name": "stdout",
          "text": [
            "Epoch [627/3000]: Train loss: 2.3797, Valid loss: 2.4482\n"
          ]
        },
        {
          "output_type": "stream",
          "name": "stderr",
          "text": [
            "Epoch [628/3000]: 100%|██████████| 7/7 [00:00<00:00, 127.50it/s, loss=2.1]\n"
          ]
        },
        {
          "output_type": "stream",
          "name": "stdout",
          "text": [
            "Epoch [628/3000]: Train loss: 2.6310, Valid loss: 4.6014\n"
          ]
        },
        {
          "output_type": "stream",
          "name": "stderr",
          "text": [
            "Epoch [629/3000]: 100%|██████████| 7/7 [00:00<00:00, 127.50it/s, loss=3.55]\n"
          ]
        },
        {
          "output_type": "stream",
          "name": "stdout",
          "text": [
            "Epoch [629/3000]: Train loss: 3.0334, Valid loss: 3.2525\n"
          ]
        },
        {
          "output_type": "stream",
          "name": "stderr",
          "text": [
            "Epoch [630/3000]: 100%|██████████| 7/7 [00:00<00:00, 130.82it/s, loss=2.31]\n"
          ]
        },
        {
          "output_type": "stream",
          "name": "stdout",
          "text": [
            "Epoch [630/3000]: Train loss: 3.8106, Valid loss: 4.5253\n"
          ]
        },
        {
          "output_type": "stream",
          "name": "stderr",
          "text": [
            "Epoch [631/3000]: 100%|██████████| 7/7 [00:00<00:00, 118.72it/s, loss=4.48]\n"
          ]
        },
        {
          "output_type": "stream",
          "name": "stdout",
          "text": [
            "Epoch [631/3000]: Train loss: 3.8411, Valid loss: 2.5625\n"
          ]
        },
        {
          "output_type": "stream",
          "name": "stderr",
          "text": [
            "Epoch [632/3000]: 100%|██████████| 7/7 [00:00<00:00, 105.37it/s, loss=5.43]\n"
          ]
        },
        {
          "output_type": "stream",
          "name": "stdout",
          "text": [
            "Epoch [632/3000]: Train loss: 4.5153, Valid loss: 3.6908\n"
          ]
        },
        {
          "output_type": "stream",
          "name": "stderr",
          "text": [
            "Epoch [633/3000]: 100%|██████████| 7/7 [00:00<00:00, 115.67it/s, loss=2.64]\n"
          ]
        },
        {
          "output_type": "stream",
          "name": "stdout",
          "text": [
            "Epoch [633/3000]: Train loss: 3.4492, Valid loss: 3.5638\n"
          ]
        },
        {
          "output_type": "stream",
          "name": "stderr",
          "text": [
            "Epoch [634/3000]: 100%|██████████| 7/7 [00:00<00:00, 122.84it/s, loss=2.86]\n"
          ]
        },
        {
          "output_type": "stream",
          "name": "stdout",
          "text": [
            "Epoch [634/3000]: Train loss: 2.9009, Valid loss: 4.8412\n"
          ]
        },
        {
          "output_type": "stream",
          "name": "stderr",
          "text": [
            "Epoch [635/3000]: 100%|██████████| 7/7 [00:00<00:00, 124.43it/s, loss=2.43]\n"
          ]
        },
        {
          "output_type": "stream",
          "name": "stdout",
          "text": [
            "Epoch [635/3000]: Train loss: 3.6172, Valid loss: 2.6776\n"
          ]
        },
        {
          "output_type": "stream",
          "name": "stderr",
          "text": [
            "Epoch [636/3000]: 100%|██████████| 7/7 [00:00<00:00, 134.64it/s, loss=2.57]\n"
          ]
        },
        {
          "output_type": "stream",
          "name": "stdout",
          "text": [
            "Epoch [636/3000]: Train loss: 2.4457, Valid loss: 2.6791\n"
          ]
        },
        {
          "output_type": "stream",
          "name": "stderr",
          "text": [
            "Epoch [637/3000]: 100%|██████████| 7/7 [00:00<00:00, 103.29it/s, loss=3.48]\n"
          ]
        },
        {
          "output_type": "stream",
          "name": "stdout",
          "text": [
            "Epoch [637/3000]: Train loss: 2.8072, Valid loss: 4.1585\n"
          ]
        },
        {
          "output_type": "stream",
          "name": "stderr",
          "text": [
            "Epoch [638/3000]: 100%|██████████| 7/7 [00:00<00:00, 124.87it/s, loss=2.3]\n"
          ]
        },
        {
          "output_type": "stream",
          "name": "stdout",
          "text": [
            "Epoch [638/3000]: Train loss: 3.0088, Valid loss: 2.3952\n"
          ]
        },
        {
          "output_type": "stream",
          "name": "stderr",
          "text": [
            "Epoch [639/3000]: 100%|██████████| 7/7 [00:00<00:00, 114.00it/s, loss=2.95]\n"
          ]
        },
        {
          "output_type": "stream",
          "name": "stdout",
          "text": [
            "Epoch [639/3000]: Train loss: 2.4900, Valid loss: 2.6306\n"
          ]
        },
        {
          "output_type": "stream",
          "name": "stderr",
          "text": [
            "Epoch [640/3000]: 100%|██████████| 7/7 [00:00<00:00, 100.28it/s, loss=2.45]\n"
          ]
        },
        {
          "output_type": "stream",
          "name": "stdout",
          "text": [
            "Epoch [640/3000]: Train loss: 2.6621, Valid loss: 2.6817\n"
          ]
        },
        {
          "output_type": "stream",
          "name": "stderr",
          "text": [
            "Epoch [641/3000]: 100%|██████████| 7/7 [00:00<00:00, 120.76it/s, loss=2.7]\n"
          ]
        },
        {
          "output_type": "stream",
          "name": "stdout",
          "text": [
            "Epoch [641/3000]: Train loss: 2.3359, Valid loss: 2.4701\n"
          ]
        },
        {
          "output_type": "stream",
          "name": "stderr",
          "text": [
            "Epoch [642/3000]: 100%|██████████| 7/7 [00:00<00:00, 132.45it/s, loss=2.22]\n"
          ]
        },
        {
          "output_type": "stream",
          "name": "stdout",
          "text": [
            "Epoch [642/3000]: Train loss: 2.3349, Valid loss: 2.5545\n"
          ]
        },
        {
          "output_type": "stream",
          "name": "stderr",
          "text": [
            "Epoch [643/3000]: 100%|██████████| 7/7 [00:00<00:00, 117.55it/s, loss=2.79]\n"
          ]
        },
        {
          "output_type": "stream",
          "name": "stdout",
          "text": [
            "Epoch [643/3000]: Train loss: 2.3207, Valid loss: 2.4458\n"
          ]
        },
        {
          "output_type": "stream",
          "name": "stderr",
          "text": [
            "Epoch [644/3000]: 100%|██████████| 7/7 [00:00<00:00, 133.16it/s, loss=2.4]\n"
          ]
        },
        {
          "output_type": "stream",
          "name": "stdout",
          "text": [
            "Epoch [644/3000]: Train loss: 2.4300, Valid loss: 2.3872\n"
          ]
        },
        {
          "output_type": "stream",
          "name": "stderr",
          "text": [
            "Epoch [645/3000]: 100%|██████████| 7/7 [00:00<00:00, 130.40it/s, loss=2.07]\n"
          ]
        },
        {
          "output_type": "stream",
          "name": "stdout",
          "text": [
            "Epoch [645/3000]: Train loss: 2.5300, Valid loss: 3.1761\n"
          ]
        },
        {
          "output_type": "stream",
          "name": "stderr",
          "text": [
            "Epoch [646/3000]: 100%|██████████| 7/7 [00:00<00:00, 125.84it/s, loss=5.44]\n"
          ]
        },
        {
          "output_type": "stream",
          "name": "stdout",
          "text": [
            "Epoch [646/3000]: Train loss: 3.4444, Valid loss: 2.6906\n"
          ]
        },
        {
          "output_type": "stream",
          "name": "stderr",
          "text": [
            "Epoch [647/3000]: 100%|██████████| 7/7 [00:00<00:00, 124.78it/s, loss=2.18]\n"
          ]
        },
        {
          "output_type": "stream",
          "name": "stdout",
          "text": [
            "Epoch [647/3000]: Train loss: 2.9918, Valid loss: 2.4415\n"
          ]
        },
        {
          "output_type": "stream",
          "name": "stderr",
          "text": [
            "Epoch [648/3000]: 100%|██████████| 7/7 [00:00<00:00, 133.87it/s, loss=2.5]"
          ]
        },
        {
          "output_type": "stream",
          "name": "stdout",
          "text": [
            "Epoch [648/3000]: Train loss: 2.3533, Valid loss: 2.4896"
          ]
        },
        {
          "output_type": "stream",
          "name": "stderr",
          "text": [
            "\n"
          ]
        },
        {
          "output_type": "stream",
          "name": "stdout",
          "text": [
            "\n"
          ]
        },
        {
          "output_type": "stream",
          "name": "stderr",
          "text": [
            "Epoch [649/3000]: 100%|██████████| 7/7 [00:00<00:00, 113.78it/s, loss=3.15]\n"
          ]
        },
        {
          "output_type": "stream",
          "name": "stdout",
          "text": [
            "Epoch [649/3000]: Train loss: 2.4666, Valid loss: 5.0785\n"
          ]
        },
        {
          "output_type": "stream",
          "name": "stderr",
          "text": [
            "Epoch [650/3000]: 100%|██████████| 7/7 [00:00<00:00, 100.74it/s, loss=3.3]\n"
          ]
        },
        {
          "output_type": "stream",
          "name": "stdout",
          "text": [
            "Epoch [650/3000]: Train loss: 3.6548, Valid loss: 2.4294\n"
          ]
        },
        {
          "output_type": "stream",
          "name": "stderr",
          "text": [
            "Epoch [651/3000]: 100%|██████████| 7/7 [00:00<00:00, 107.92it/s, loss=3.1]\n"
          ]
        },
        {
          "output_type": "stream",
          "name": "stdout",
          "text": [
            "Epoch [651/3000]: Train loss: 2.7430, Valid loss: 3.9309\n"
          ]
        },
        {
          "output_type": "stream",
          "name": "stderr",
          "text": [
            "Epoch [652/3000]: 100%|██████████| 7/7 [00:00<00:00, 97.62it/s, loss=3.71]\n"
          ]
        },
        {
          "output_type": "stream",
          "name": "stdout",
          "text": [
            "Epoch [652/3000]: Train loss: 3.1152, Valid loss: 2.5682\n"
          ]
        },
        {
          "output_type": "stream",
          "name": "stderr",
          "text": [
            "Epoch [653/3000]: 100%|██████████| 7/7 [00:00<00:00, 98.28it/s, loss=3.69]\n"
          ]
        },
        {
          "output_type": "stream",
          "name": "stdout",
          "text": [
            "Epoch [653/3000]: Train loss: 4.1926, Valid loss: 5.2422\n"
          ]
        },
        {
          "output_type": "stream",
          "name": "stderr",
          "text": [
            "Epoch [654/3000]: 100%|██████████| 7/7 [00:00<00:00, 85.62it/s, loss=3.51]\n"
          ]
        },
        {
          "output_type": "stream",
          "name": "stdout",
          "text": [
            "Epoch [654/3000]: Train loss: 3.8505, Valid loss: 2.4690\n"
          ]
        },
        {
          "output_type": "stream",
          "name": "stderr",
          "text": [
            "Epoch [655/3000]: 100%|██████████| 7/7 [00:00<00:00, 115.37it/s, loss=3.65]\n"
          ]
        },
        {
          "output_type": "stream",
          "name": "stdout",
          "text": [
            "Epoch [655/3000]: Train loss: 3.1779, Valid loss: 4.3040\n"
          ]
        },
        {
          "output_type": "stream",
          "name": "stderr",
          "text": [
            "Epoch [656/3000]: 100%|██████████| 7/7 [00:00<00:00, 100.86it/s, loss=2.17]\n"
          ]
        },
        {
          "output_type": "stream",
          "name": "stdout",
          "text": [
            "Epoch [656/3000]: Train loss: 3.2918, Valid loss: 6.1842\n"
          ]
        },
        {
          "output_type": "stream",
          "name": "stderr",
          "text": [
            "Epoch [657/3000]: 100%|██████████| 7/7 [00:00<00:00, 101.02it/s, loss=2.46]\n"
          ]
        },
        {
          "output_type": "stream",
          "name": "stdout",
          "text": [
            "Epoch [657/3000]: Train loss: 4.1332, Valid loss: 4.2408\n"
          ]
        },
        {
          "output_type": "stream",
          "name": "stderr",
          "text": [
            "Epoch [658/3000]: 100%|██████████| 7/7 [00:00<00:00, 117.21it/s, loss=4.46]\n"
          ]
        },
        {
          "output_type": "stream",
          "name": "stdout",
          "text": [
            "Epoch [658/3000]: Train loss: 4.3262, Valid loss: 2.8514\n"
          ]
        },
        {
          "output_type": "stream",
          "name": "stderr",
          "text": [
            "Epoch [659/3000]: 100%|██████████| 7/7 [00:00<00:00, 104.82it/s, loss=2.53]\n"
          ]
        },
        {
          "output_type": "stream",
          "name": "stdout",
          "text": [
            "Epoch [659/3000]: Train loss: 2.6582, Valid loss: 2.9364\n"
          ]
        },
        {
          "output_type": "stream",
          "name": "stderr",
          "text": [
            "Epoch [660/3000]: 100%|██████████| 7/7 [00:00<00:00, 110.21it/s, loss=2.56]\n"
          ]
        },
        {
          "output_type": "stream",
          "name": "stdout",
          "text": [
            "Epoch [660/3000]: Train loss: 2.5947, Valid loss: 3.5846\n"
          ]
        },
        {
          "output_type": "stream",
          "name": "stderr",
          "text": [
            "Epoch [661/3000]: 100%|██████████| 7/7 [00:00<00:00, 112.33it/s, loss=3.18]\n"
          ]
        },
        {
          "output_type": "stream",
          "name": "stdout",
          "text": [
            "Epoch [661/3000]: Train loss: 2.8996, Valid loss: 2.4217\n"
          ]
        },
        {
          "output_type": "stream",
          "name": "stderr",
          "text": [
            "Epoch [662/3000]: 100%|██████████| 7/7 [00:00<00:00, 108.42it/s, loss=2.64]\n"
          ]
        },
        {
          "output_type": "stream",
          "name": "stdout",
          "text": [
            "Epoch [662/3000]: Train loss: 3.0417, Valid loss: 5.1510\n"
          ]
        },
        {
          "output_type": "stream",
          "name": "stderr",
          "text": [
            "Epoch [663/3000]: 100%|██████████| 7/7 [00:00<00:00, 108.38it/s, loss=3.88]\n"
          ]
        },
        {
          "output_type": "stream",
          "name": "stdout",
          "text": [
            "Epoch [663/3000]: Train loss: 3.9747, Valid loss: 2.9755\n"
          ]
        },
        {
          "output_type": "stream",
          "name": "stderr",
          "text": [
            "Epoch [664/3000]: 100%|██████████| 7/7 [00:00<00:00, 110.21it/s, loss=3.86]\n"
          ]
        },
        {
          "output_type": "stream",
          "name": "stdout",
          "text": [
            "Epoch [664/3000]: Train loss: 3.2070, Valid loss: 2.5507\n"
          ]
        },
        {
          "output_type": "stream",
          "name": "stderr",
          "text": [
            "Epoch [665/3000]: 100%|██████████| 7/7 [00:00<00:00, 113.58it/s, loss=4.64]\n"
          ]
        },
        {
          "output_type": "stream",
          "name": "stdout",
          "text": [
            "Epoch [665/3000]: Train loss: 3.3334, Valid loss: 3.2191\n"
          ]
        },
        {
          "output_type": "stream",
          "name": "stderr",
          "text": [
            "Epoch [666/3000]: 100%|██████████| 7/7 [00:00<00:00, 112.63it/s, loss=3.98]\n"
          ]
        },
        {
          "output_type": "stream",
          "name": "stdout",
          "text": [
            "Epoch [666/3000]: Train loss: 3.3373, Valid loss: 5.2152\n"
          ]
        },
        {
          "output_type": "stream",
          "name": "stderr",
          "text": [
            "Epoch [667/3000]: 100%|██████████| 7/7 [00:00<00:00, 121.08it/s, loss=2.54]\n"
          ]
        },
        {
          "output_type": "stream",
          "name": "stdout",
          "text": [
            "Epoch [667/3000]: Train loss: 3.6380, Valid loss: 4.4535\n"
          ]
        },
        {
          "output_type": "stream",
          "name": "stderr",
          "text": [
            "Epoch [668/3000]: 100%|██████████| 7/7 [00:00<00:00, 102.57it/s, loss=2.16]\n"
          ]
        },
        {
          "output_type": "stream",
          "name": "stdout",
          "text": [
            "Epoch [668/3000]: Train loss: 3.5997, Valid loss: 3.1122\n"
          ]
        },
        {
          "output_type": "stream",
          "name": "stderr",
          "text": [
            "Epoch [669/3000]: 100%|██████████| 7/7 [00:00<00:00, 123.12it/s, loss=2.77]\n"
          ]
        },
        {
          "output_type": "stream",
          "name": "stdout",
          "text": [
            "Epoch [669/3000]: Train loss: 2.4935, Valid loss: 2.8791\n"
          ]
        },
        {
          "output_type": "stream",
          "name": "stderr",
          "text": [
            "Epoch [670/3000]: 100%|██████████| 7/7 [00:00<00:00, 117.59it/s, loss=2.24]\n"
          ]
        },
        {
          "output_type": "stream",
          "name": "stdout",
          "text": [
            "Epoch [670/3000]: Train loss: 2.7226, Valid loss: 3.0430\n"
          ]
        },
        {
          "output_type": "stream",
          "name": "stderr",
          "text": [
            "Epoch [671/3000]: 100%|██████████| 7/7 [00:00<00:00, 122.71it/s, loss=2.07]\n"
          ]
        },
        {
          "output_type": "stream",
          "name": "stdout",
          "text": [
            "Epoch [671/3000]: Train loss: 2.4082, Valid loss: 2.3431\n",
            "Saving model with loss 2.343...\n"
          ]
        },
        {
          "output_type": "stream",
          "name": "stderr",
          "text": [
            "Epoch [672/3000]: 100%|██████████| 7/7 [00:00<00:00, 113.05it/s, loss=2.15]\n"
          ]
        },
        {
          "output_type": "stream",
          "name": "stdout",
          "text": [
            "Epoch [672/3000]: Train loss: 2.3368, Valid loss: 3.1438\n"
          ]
        },
        {
          "output_type": "stream",
          "name": "stderr",
          "text": [
            "Epoch [673/3000]: 100%|██████████| 7/7 [00:00<00:00, 113.98it/s, loss=3.71]\n"
          ]
        },
        {
          "output_type": "stream",
          "name": "stdout",
          "text": [
            "Epoch [673/3000]: Train loss: 2.7462, Valid loss: 2.4076\n"
          ]
        },
        {
          "output_type": "stream",
          "name": "stderr",
          "text": [
            "Epoch [674/3000]: 100%|██████████| 7/7 [00:00<00:00, 95.15it/s, loss=2.06]\n"
          ]
        },
        {
          "output_type": "stream",
          "name": "stdout",
          "text": [
            "Epoch [674/3000]: Train loss: 3.5651, Valid loss: 7.6336\n"
          ]
        },
        {
          "output_type": "stream",
          "name": "stderr",
          "text": [
            "Epoch [675/3000]: 100%|██████████| 7/7 [00:00<00:00, 95.43it/s, loss=4.17]\n"
          ]
        },
        {
          "output_type": "stream",
          "name": "stdout",
          "text": [
            "Epoch [675/3000]: Train loss: 4.1375, Valid loss: 2.5172\n"
          ]
        },
        {
          "output_type": "stream",
          "name": "stderr",
          "text": [
            "Epoch [676/3000]: 100%|██████████| 7/7 [00:00<00:00, 112.80it/s, loss=3.28]\n"
          ]
        },
        {
          "output_type": "stream",
          "name": "stdout",
          "text": [
            "Epoch [676/3000]: Train loss: 3.3136, Valid loss: 4.8697\n"
          ]
        },
        {
          "output_type": "stream",
          "name": "stderr",
          "text": [
            "Epoch [677/3000]: 100%|██████████| 7/7 [00:00<00:00, 117.45it/s, loss=3.08]\n"
          ]
        },
        {
          "output_type": "stream",
          "name": "stdout",
          "text": [
            "Epoch [677/3000]: Train loss: 3.9466, Valid loss: 3.3801\n"
          ]
        },
        {
          "output_type": "stream",
          "name": "stderr",
          "text": [
            "Epoch [678/3000]: 100%|██████████| 7/7 [00:00<00:00, 111.69it/s, loss=3.7]\n"
          ]
        },
        {
          "output_type": "stream",
          "name": "stdout",
          "text": [
            "Epoch [678/3000]: Train loss: 3.6652, Valid loss: 2.4895\n"
          ]
        },
        {
          "output_type": "stream",
          "name": "stderr",
          "text": [
            "Epoch [679/3000]: 100%|██████████| 7/7 [00:00<00:00, 109.09it/s, loss=3.02]\n"
          ]
        },
        {
          "output_type": "stream",
          "name": "stdout",
          "text": [
            "Epoch [679/3000]: Train loss: 2.9921, Valid loss: 4.3165\n"
          ]
        },
        {
          "output_type": "stream",
          "name": "stderr",
          "text": [
            "Epoch [680/3000]: 100%|██████████| 7/7 [00:00<00:00, 109.27it/s, loss=2.94]\n"
          ]
        },
        {
          "output_type": "stream",
          "name": "stdout",
          "text": [
            "Epoch [680/3000]: Train loss: 2.9556, Valid loss: 2.4400\n"
          ]
        },
        {
          "output_type": "stream",
          "name": "stderr",
          "text": [
            "Epoch [681/3000]: 100%|██████████| 7/7 [00:00<00:00, 112.26it/s, loss=2.93]\n"
          ]
        },
        {
          "output_type": "stream",
          "name": "stdout",
          "text": [
            "Epoch [681/3000]: Train loss: 2.6955, Valid loss: 2.5395\n"
          ]
        },
        {
          "output_type": "stream",
          "name": "stderr",
          "text": [
            "Epoch [682/3000]: 100%|██████████| 7/7 [00:00<00:00, 117.25it/s, loss=2.86]\n"
          ]
        },
        {
          "output_type": "stream",
          "name": "stdout",
          "text": [
            "Epoch [682/3000]: Train loss: 2.3821, Valid loss: 2.4032\n"
          ]
        },
        {
          "output_type": "stream",
          "name": "stderr",
          "text": [
            "Epoch [683/3000]: 100%|██████████| 7/7 [00:00<00:00, 105.11it/s, loss=1.99]\n"
          ]
        },
        {
          "output_type": "stream",
          "name": "stdout",
          "text": [
            "Epoch [683/3000]: Train loss: 2.8080, Valid loss: 4.1305\n"
          ]
        },
        {
          "output_type": "stream",
          "name": "stderr",
          "text": [
            "Epoch [684/3000]: 100%|██████████| 7/7 [00:00<00:00, 111.61it/s, loss=5.88]\n"
          ]
        },
        {
          "output_type": "stream",
          "name": "stdout",
          "text": [
            "Epoch [684/3000]: Train loss: 4.2054, Valid loss: 3.1300\n"
          ]
        },
        {
          "output_type": "stream",
          "name": "stderr",
          "text": [
            "Epoch [685/3000]: 100%|██████████| 7/7 [00:00<00:00, 17.82it/s, loss=3.57]\n"
          ]
        },
        {
          "output_type": "stream",
          "name": "stdout",
          "text": [
            "Epoch [685/3000]: Train loss: 2.8561, Valid loss: 3.7931\n"
          ]
        },
        {
          "output_type": "stream",
          "name": "stderr",
          "text": [
            "Epoch [686/3000]: 100%|██████████| 7/7 [00:00<00:00, 113.79it/s, loss=2.02]\n"
          ]
        },
        {
          "output_type": "stream",
          "name": "stdout",
          "text": [
            "Epoch [686/3000]: Train loss: 2.9484, Valid loss: 3.6854\n"
          ]
        },
        {
          "output_type": "stream",
          "name": "stderr",
          "text": [
            "Epoch [687/3000]: 100%|██████████| 7/7 [00:00<00:00, 116.92it/s, loss=5]\n"
          ]
        },
        {
          "output_type": "stream",
          "name": "stdout",
          "text": [
            "Epoch [687/3000]: Train loss: 3.3255, Valid loss: 2.4765\n"
          ]
        },
        {
          "output_type": "stream",
          "name": "stderr",
          "text": [
            "Epoch [688/3000]: 100%|██████████| 7/7 [00:00<00:00, 101.40it/s, loss=3.17]\n"
          ]
        },
        {
          "output_type": "stream",
          "name": "stdout",
          "text": [
            "Epoch [688/3000]: Train loss: 3.2713, Valid loss: 2.6460\n"
          ]
        },
        {
          "output_type": "stream",
          "name": "stderr",
          "text": [
            "Epoch [689/3000]: 100%|██████████| 7/7 [00:00<00:00, 103.07it/s, loss=2.45]\n"
          ]
        },
        {
          "output_type": "stream",
          "name": "stdout",
          "text": [
            "Epoch [689/3000]: Train loss: 2.7055, Valid loss: 3.5532\n"
          ]
        },
        {
          "output_type": "stream",
          "name": "stderr",
          "text": [
            "Epoch [690/3000]: 100%|██████████| 7/7 [00:00<00:00, 107.04it/s, loss=2.81]\n"
          ]
        },
        {
          "output_type": "stream",
          "name": "stdout",
          "text": [
            "Epoch [690/3000]: Train loss: 2.7802, Valid loss: 2.4661\n"
          ]
        },
        {
          "output_type": "stream",
          "name": "stderr",
          "text": [
            "Epoch [691/3000]: 100%|██████████| 7/7 [00:00<00:00, 114.82it/s, loss=1.67]\n"
          ]
        },
        {
          "output_type": "stream",
          "name": "stdout",
          "text": [
            "Epoch [691/3000]: Train loss: 2.4931, Valid loss: 2.5902\n"
          ]
        },
        {
          "output_type": "stream",
          "name": "stderr",
          "text": [
            "Epoch [692/3000]: 100%|██████████| 7/7 [00:00<00:00, 105.86it/s, loss=2.26]\n"
          ]
        },
        {
          "output_type": "stream",
          "name": "stdout",
          "text": [
            "Epoch [692/3000]: Train loss: 2.3261, Valid loss: 2.7128\n"
          ]
        },
        {
          "output_type": "stream",
          "name": "stderr",
          "text": [
            "Epoch [693/3000]: 100%|██████████| 7/7 [00:00<00:00, 103.49it/s, loss=3.89]\n"
          ]
        },
        {
          "output_type": "stream",
          "name": "stdout",
          "text": [
            "Epoch [693/3000]: Train loss: 2.8318, Valid loss: 3.2082\n"
          ]
        },
        {
          "output_type": "stream",
          "name": "stderr",
          "text": [
            "Epoch [694/3000]: 100%|██████████| 7/7 [00:00<00:00, 101.34it/s, loss=2.17]\n"
          ]
        },
        {
          "output_type": "stream",
          "name": "stdout",
          "text": [
            "Epoch [694/3000]: Train loss: 2.4416, Valid loss: 2.3852\n"
          ]
        },
        {
          "output_type": "stream",
          "name": "stderr",
          "text": [
            "Epoch [695/3000]: 100%|██████████| 7/7 [00:00<00:00, 111.71it/s, loss=2.15]\n"
          ]
        },
        {
          "output_type": "stream",
          "name": "stdout",
          "text": [
            "Epoch [695/3000]: Train loss: 2.3296, Valid loss: 3.1736\n"
          ]
        },
        {
          "output_type": "stream",
          "name": "stderr",
          "text": [
            "Epoch [696/3000]: 100%|██████████| 7/7 [00:00<00:00, 111.22it/s, loss=2.98]\n"
          ]
        },
        {
          "output_type": "stream",
          "name": "stdout",
          "text": [
            "Epoch [696/3000]: Train loss: 2.6699, Valid loss: 3.8464\n"
          ]
        },
        {
          "output_type": "stream",
          "name": "stderr",
          "text": [
            "Epoch [697/3000]: 100%|██████████| 7/7 [00:00<00:00, 114.26it/s, loss=2.13]\n"
          ]
        },
        {
          "output_type": "stream",
          "name": "stdout",
          "text": [
            "Epoch [697/3000]: Train loss: 2.5836, Valid loss: 2.3998\n"
          ]
        },
        {
          "output_type": "stream",
          "name": "stderr",
          "text": [
            "Epoch [698/3000]: 100%|██████████| 7/7 [00:00<00:00, 112.16it/s, loss=2.59]\n"
          ]
        },
        {
          "output_type": "stream",
          "name": "stdout",
          "text": [
            "Epoch [698/3000]: Train loss: 2.2787, Valid loss: 2.3532\n"
          ]
        },
        {
          "output_type": "stream",
          "name": "stderr",
          "text": [
            "Epoch [699/3000]: 100%|██████████| 7/7 [00:00<00:00, 97.25it/s, loss=2.06]\n"
          ]
        },
        {
          "output_type": "stream",
          "name": "stdout",
          "text": [
            "Epoch [699/3000]: Train loss: 2.2662, Valid loss: 2.3784\n"
          ]
        },
        {
          "output_type": "stream",
          "name": "stderr",
          "text": [
            "Epoch [700/3000]: 100%|██████████| 7/7 [00:00<00:00, 94.00it/s, loss=2.59]\n"
          ]
        },
        {
          "output_type": "stream",
          "name": "stdout",
          "text": [
            "Epoch [700/3000]: Train loss: 3.7910, Valid loss: 8.8684\n"
          ]
        },
        {
          "output_type": "stream",
          "name": "stderr",
          "text": [
            "Epoch [701/3000]: 100%|██████████| 7/7 [00:00<00:00, 113.33it/s, loss=4.52]\n"
          ]
        },
        {
          "output_type": "stream",
          "name": "stdout",
          "text": [
            "Epoch [701/3000]: Train loss: 7.1773, Valid loss: 3.5885\n"
          ]
        },
        {
          "output_type": "stream",
          "name": "stderr",
          "text": [
            "Epoch [702/3000]: 100%|██████████| 7/7 [00:00<00:00, 111.67it/s, loss=3.74]\n"
          ]
        },
        {
          "output_type": "stream",
          "name": "stdout",
          "text": [
            "Epoch [702/3000]: Train loss: 3.6976, Valid loss: 4.8881\n"
          ]
        },
        {
          "output_type": "stream",
          "name": "stderr",
          "text": [
            "Epoch [703/3000]: 100%|██████████| 7/7 [00:00<00:00, 116.74it/s, loss=2.99]\n"
          ]
        },
        {
          "output_type": "stream",
          "name": "stdout",
          "text": [
            "Epoch [703/3000]: Train loss: 3.1902, Valid loss: 3.2490\n"
          ]
        },
        {
          "output_type": "stream",
          "name": "stderr",
          "text": [
            "Epoch [704/3000]: 100%|██████████| 7/7 [00:00<00:00, 113.13it/s, loss=2.17]\n"
          ]
        },
        {
          "output_type": "stream",
          "name": "stdout",
          "text": [
            "Epoch [704/3000]: Train loss: 3.3284, Valid loss: 4.0977\n"
          ]
        },
        {
          "output_type": "stream",
          "name": "stderr",
          "text": [
            "Epoch [705/3000]: 100%|██████████| 7/7 [00:00<00:00, 98.78it/s, loss=2.09]\n"
          ]
        },
        {
          "output_type": "stream",
          "name": "stdout",
          "text": [
            "Epoch [705/3000]: Train loss: 2.7410, Valid loss: 3.3291\n"
          ]
        },
        {
          "output_type": "stream",
          "name": "stderr",
          "text": [
            "Epoch [706/3000]: 100%|██████████| 7/7 [00:00<00:00, 102.86it/s, loss=2.06]\n"
          ]
        },
        {
          "output_type": "stream",
          "name": "stdout",
          "text": [
            "Epoch [706/3000]: Train loss: 2.9455, Valid loss: 2.5809\n"
          ]
        },
        {
          "output_type": "stream",
          "name": "stderr",
          "text": [
            "Epoch [707/3000]: 100%|██████████| 7/7 [00:00<00:00, 98.56it/s, loss=3.37]\n"
          ]
        },
        {
          "output_type": "stream",
          "name": "stdout",
          "text": [
            "Epoch [707/3000]: Train loss: 2.6767, Valid loss: 2.2874\n",
            "Saving model with loss 2.287...\n"
          ]
        },
        {
          "output_type": "stream",
          "name": "stderr",
          "text": [
            "Epoch [708/3000]: 100%|██████████| 7/7 [00:00<00:00, 94.13it/s, loss=3.16]\n"
          ]
        },
        {
          "output_type": "stream",
          "name": "stdout",
          "text": [
            "Epoch [708/3000]: Train loss: 2.4843, Valid loss: 3.5370\n"
          ]
        },
        {
          "output_type": "stream",
          "name": "stderr",
          "text": [
            "Epoch [709/3000]: 100%|██████████| 7/7 [00:00<00:00, 114.05it/s, loss=4.88]\n"
          ]
        },
        {
          "output_type": "stream",
          "name": "stdout",
          "text": [
            "Epoch [709/3000]: Train loss: 3.6417, Valid loss: 2.3755\n"
          ]
        },
        {
          "output_type": "stream",
          "name": "stderr",
          "text": [
            "Epoch [710/3000]: 100%|██████████| 7/7 [00:00<00:00, 109.34it/s, loss=5.82]\n"
          ]
        },
        {
          "output_type": "stream",
          "name": "stdout",
          "text": [
            "Epoch [710/3000]: Train loss: 3.5837, Valid loss: 4.1201\n"
          ]
        },
        {
          "output_type": "stream",
          "name": "stderr",
          "text": [
            "Epoch [711/3000]: 100%|██████████| 7/7 [00:00<00:00, 111.42it/s, loss=2.84]\n"
          ]
        },
        {
          "output_type": "stream",
          "name": "stdout",
          "text": [
            "Epoch [711/3000]: Train loss: 3.5526, Valid loss: 4.2838\n"
          ]
        },
        {
          "output_type": "stream",
          "name": "stderr",
          "text": [
            "Epoch [712/3000]: 100%|██████████| 7/7 [00:00<00:00, 119.07it/s, loss=2.53]\n"
          ]
        },
        {
          "output_type": "stream",
          "name": "stdout",
          "text": [
            "Epoch [712/3000]: Train loss: 3.2143, Valid loss: 2.9270\n"
          ]
        },
        {
          "output_type": "stream",
          "name": "stderr",
          "text": [
            "Epoch [713/3000]: 100%|██████████| 7/7 [00:00<00:00, 107.09it/s, loss=1.77]\n"
          ]
        },
        {
          "output_type": "stream",
          "name": "stdout",
          "text": [
            "Epoch [713/3000]: Train loss: 2.8563, Valid loss: 2.5349\n"
          ]
        },
        {
          "output_type": "stream",
          "name": "stderr",
          "text": [
            "Epoch [714/3000]: 100%|██████████| 7/7 [00:00<00:00, 116.25it/s, loss=2.28]\n"
          ]
        },
        {
          "output_type": "stream",
          "name": "stdout",
          "text": [
            "Epoch [714/3000]: Train loss: 2.5464, Valid loss: 3.3282\n"
          ]
        },
        {
          "output_type": "stream",
          "name": "stderr",
          "text": [
            "Epoch [715/3000]: 100%|██████████| 7/7 [00:00<00:00, 115.97it/s, loss=2.27]\n"
          ]
        },
        {
          "output_type": "stream",
          "name": "stdout",
          "text": [
            "Epoch [715/3000]: Train loss: 2.6432, Valid loss: 2.3456\n"
          ]
        },
        {
          "output_type": "stream",
          "name": "stderr",
          "text": [
            "Epoch [716/3000]: 100%|██████████| 7/7 [00:00<00:00, 118.45it/s, loss=2.21]\n"
          ]
        },
        {
          "output_type": "stream",
          "name": "stdout",
          "text": [
            "Epoch [716/3000]: Train loss: 2.2455, Valid loss: 2.4047\n"
          ]
        },
        {
          "output_type": "stream",
          "name": "stderr",
          "text": [
            "Epoch [717/3000]: 100%|██████████| 7/7 [00:00<00:00, 104.20it/s, loss=2.07]\n"
          ]
        },
        {
          "output_type": "stream",
          "name": "stdout",
          "text": [
            "Epoch [717/3000]: Train loss: 2.4431, Valid loss: 2.8898\n"
          ]
        },
        {
          "output_type": "stream",
          "name": "stderr",
          "text": [
            "Epoch [718/3000]: 100%|██████████| 7/7 [00:00<00:00, 103.53it/s, loss=2.16]\n"
          ]
        },
        {
          "output_type": "stream",
          "name": "stdout",
          "text": [
            "Epoch [718/3000]: Train loss: 2.3813, Valid loss: 3.1330\n"
          ]
        },
        {
          "output_type": "stream",
          "name": "stderr",
          "text": [
            "Epoch [719/3000]: 100%|██████████| 7/7 [00:00<00:00, 106.20it/s, loss=3.6]\n"
          ]
        },
        {
          "output_type": "stream",
          "name": "stdout",
          "text": [
            "Epoch [719/3000]: Train loss: 3.2324, Valid loss: 3.0932\n"
          ]
        },
        {
          "output_type": "stream",
          "name": "stderr",
          "text": [
            "Epoch [720/3000]: 100%|██████████| 7/7 [00:00<00:00, 104.93it/s, loss=2.25]\n"
          ]
        },
        {
          "output_type": "stream",
          "name": "stdout",
          "text": [
            "Epoch [720/3000]: Train loss: 2.5412, Valid loss: 2.4644\n"
          ]
        },
        {
          "output_type": "stream",
          "name": "stderr",
          "text": [
            "Epoch [721/3000]: 100%|██████████| 7/7 [00:00<00:00, 104.65it/s, loss=2.3]\n"
          ]
        },
        {
          "output_type": "stream",
          "name": "stdout",
          "text": [
            "Epoch [721/3000]: Train loss: 2.3101, Valid loss: 2.2877\n"
          ]
        },
        {
          "output_type": "stream",
          "name": "stderr",
          "text": [
            "Epoch [722/3000]: 100%|██████████| 7/7 [00:00<00:00, 112.71it/s, loss=2.7]\n"
          ]
        },
        {
          "output_type": "stream",
          "name": "stdout",
          "text": [
            "Epoch [722/3000]: Train loss: 2.2266, Valid loss: 3.0698\n"
          ]
        },
        {
          "output_type": "stream",
          "name": "stderr",
          "text": [
            "Epoch [723/3000]: 100%|██████████| 7/7 [00:00<00:00, 112.69it/s, loss=2.3]\n"
          ]
        },
        {
          "output_type": "stream",
          "name": "stdout",
          "text": [
            "Epoch [723/3000]: Train loss: 2.4312, Valid loss: 2.2586\n",
            "Saving model with loss 2.259...\n"
          ]
        },
        {
          "output_type": "stream",
          "name": "stderr",
          "text": [
            "Epoch [724/3000]: 100%|██████████| 7/7 [00:00<00:00, 112.90it/s, loss=2.74]\n"
          ]
        },
        {
          "output_type": "stream",
          "name": "stdout",
          "text": [
            "Epoch [724/3000]: Train loss: 2.3812, Valid loss: 2.3615\n"
          ]
        },
        {
          "output_type": "stream",
          "name": "stderr",
          "text": [
            "Epoch [725/3000]: 100%|██████████| 7/7 [00:00<00:00, 96.80it/s, loss=2.37]\n"
          ]
        },
        {
          "output_type": "stream",
          "name": "stdout",
          "text": [
            "Epoch [725/3000]: Train loss: 2.5901, Valid loss: 2.5043\n"
          ]
        },
        {
          "output_type": "stream",
          "name": "stderr",
          "text": [
            "Epoch [726/3000]: 100%|██████████| 7/7 [00:00<00:00, 101.08it/s, loss=2.5]\n"
          ]
        },
        {
          "output_type": "stream",
          "name": "stdout",
          "text": [
            "Epoch [726/3000]: Train loss: 2.5527, Valid loss: 2.3847\n"
          ]
        },
        {
          "output_type": "stream",
          "name": "stderr",
          "text": [
            "Epoch [727/3000]: 100%|██████████| 7/7 [00:00<00:00, 115.25it/s, loss=2.33]\n"
          ]
        },
        {
          "output_type": "stream",
          "name": "stdout",
          "text": [
            "Epoch [727/3000]: Train loss: 2.3366, Valid loss: 2.9501\n"
          ]
        },
        {
          "output_type": "stream",
          "name": "stderr",
          "text": [
            "Epoch [728/3000]: 100%|██████████| 7/7 [00:00<00:00, 126.45it/s, loss=2.43]\n"
          ]
        },
        {
          "output_type": "stream",
          "name": "stdout",
          "text": [
            "Epoch [728/3000]: Train loss: 2.4545, Valid loss: 2.3690\n"
          ]
        },
        {
          "output_type": "stream",
          "name": "stderr",
          "text": [
            "Epoch [729/3000]: 100%|██████████| 7/7 [00:00<00:00, 117.19it/s, loss=2.65]\n"
          ]
        },
        {
          "output_type": "stream",
          "name": "stdout",
          "text": [
            "Epoch [729/3000]: Train loss: 2.5807, Valid loss: 4.2911\n"
          ]
        },
        {
          "output_type": "stream",
          "name": "stderr",
          "text": [
            "Epoch [730/3000]: 100%|██████████| 7/7 [00:00<00:00, 101.01it/s, loss=8.04]\n"
          ]
        },
        {
          "output_type": "stream",
          "name": "stdout",
          "text": [
            "Epoch [730/3000]: Train loss: 4.7112, Valid loss: 4.4991\n"
          ]
        },
        {
          "output_type": "stream",
          "name": "stderr",
          "text": [
            "Epoch [731/3000]: 100%|██████████| 7/7 [00:00<00:00, 113.21it/s, loss=3.34]\n"
          ]
        },
        {
          "output_type": "stream",
          "name": "stdout",
          "text": [
            "Epoch [731/3000]: Train loss: 3.7561, Valid loss: 4.5056\n"
          ]
        },
        {
          "output_type": "stream",
          "name": "stderr",
          "text": [
            "Epoch [732/3000]: 100%|██████████| 7/7 [00:00<00:00, 122.71it/s, loss=2.62]\n"
          ]
        },
        {
          "output_type": "stream",
          "name": "stdout",
          "text": [
            "Epoch [732/3000]: Train loss: 4.0857, Valid loss: 5.4812\n"
          ]
        },
        {
          "output_type": "stream",
          "name": "stderr",
          "text": [
            "Epoch [733/3000]: 100%|██████████| 7/7 [00:00<00:00, 113.17it/s, loss=3.67]\n"
          ]
        },
        {
          "output_type": "stream",
          "name": "stdout",
          "text": [
            "Epoch [733/3000]: Train loss: 3.9128, Valid loss: 5.5223\n"
          ]
        },
        {
          "output_type": "stream",
          "name": "stderr",
          "text": [
            "Epoch [734/3000]: 100%|██████████| 7/7 [00:00<00:00, 113.06it/s, loss=2.57]\n"
          ]
        },
        {
          "output_type": "stream",
          "name": "stdout",
          "text": [
            "Epoch [734/3000]: Train loss: 3.6800, Valid loss: 3.8922\n"
          ]
        },
        {
          "output_type": "stream",
          "name": "stderr",
          "text": [
            "Epoch [735/3000]: 100%|██████████| 7/7 [00:00<00:00, 121.28it/s, loss=2.53]\n"
          ]
        },
        {
          "output_type": "stream",
          "name": "stdout",
          "text": [
            "Epoch [735/3000]: Train loss: 2.8871, Valid loss: 2.9407\n"
          ]
        },
        {
          "output_type": "stream",
          "name": "stderr",
          "text": [
            "Epoch [736/3000]: 100%|██████████| 7/7 [00:00<00:00, 127.22it/s, loss=2.54]\n"
          ]
        },
        {
          "output_type": "stream",
          "name": "stdout",
          "text": [
            "Epoch [736/3000]: Train loss: 2.3363, Valid loss: 2.2663\n"
          ]
        },
        {
          "output_type": "stream",
          "name": "stderr",
          "text": [
            "Epoch [737/3000]: 100%|██████████| 7/7 [00:00<00:00, 128.64it/s, loss=1.83]\n"
          ]
        },
        {
          "output_type": "stream",
          "name": "stdout",
          "text": [
            "Epoch [737/3000]: Train loss: 2.2699, Valid loss: 2.6791\n"
          ]
        },
        {
          "output_type": "stream",
          "name": "stderr",
          "text": [
            "Epoch [738/3000]: 100%|██████████| 7/7 [00:00<00:00, 131.10it/s, loss=1.93]\n"
          ]
        },
        {
          "output_type": "stream",
          "name": "stdout",
          "text": [
            "Epoch [738/3000]: Train loss: 2.6966, Valid loss: 2.4601\n"
          ]
        },
        {
          "output_type": "stream",
          "name": "stderr",
          "text": [
            "Epoch [739/3000]: 100%|██████████| 7/7 [00:00<00:00, 139.89it/s, loss=1.85]\n"
          ]
        },
        {
          "output_type": "stream",
          "name": "stdout",
          "text": [
            "Epoch [739/3000]: Train loss: 2.3897, Valid loss: 2.3479\n"
          ]
        },
        {
          "output_type": "stream",
          "name": "stderr",
          "text": [
            "Epoch [740/3000]: 100%|██████████| 7/7 [00:00<00:00, 121.92it/s, loss=1.64]\n"
          ]
        },
        {
          "output_type": "stream",
          "name": "stdout",
          "text": [
            "Epoch [740/3000]: Train loss: 2.3634, Valid loss: 2.4952\n"
          ]
        },
        {
          "output_type": "stream",
          "name": "stderr",
          "text": [
            "Epoch [741/3000]: 100%|██████████| 7/7 [00:00<00:00, 129.56it/s, loss=2.55]\n"
          ]
        },
        {
          "output_type": "stream",
          "name": "stdout",
          "text": [
            "Epoch [741/3000]: Train loss: 2.3666, Valid loss: 2.8769\n"
          ]
        },
        {
          "output_type": "stream",
          "name": "stderr",
          "text": [
            "Epoch [742/3000]: 100%|██████████| 7/7 [00:00<00:00, 136.89it/s, loss=2.3]\n"
          ]
        },
        {
          "output_type": "stream",
          "name": "stdout",
          "text": [
            "Epoch [742/3000]: Train loss: 2.4772, Valid loss: 2.3446\n"
          ]
        },
        {
          "output_type": "stream",
          "name": "stderr",
          "text": [
            "Epoch [743/3000]: 100%|██████████| 7/7 [00:00<00:00, 128.89it/s, loss=2.44]\n"
          ]
        },
        {
          "output_type": "stream",
          "name": "stdout",
          "text": [
            "Epoch [743/3000]: Train loss: 2.7922, Valid loss: 4.8219\n"
          ]
        },
        {
          "output_type": "stream",
          "name": "stderr",
          "text": [
            "Epoch [744/3000]: 100%|██████████| 7/7 [00:00<00:00, 127.33it/s, loss=3.14]\n"
          ]
        },
        {
          "output_type": "stream",
          "name": "stdout",
          "text": [
            "Epoch [744/3000]: Train loss: 2.8413, Valid loss: 2.8743\n"
          ]
        },
        {
          "output_type": "stream",
          "name": "stderr",
          "text": [
            "Epoch [745/3000]: 100%|██████████| 7/7 [00:00<00:00, 96.99it/s, loss=7.53]\n"
          ]
        },
        {
          "output_type": "stream",
          "name": "stdout",
          "text": [
            "Epoch [745/3000]: Train loss: 3.9751, Valid loss: 5.2715\n"
          ]
        },
        {
          "output_type": "stream",
          "name": "stderr",
          "text": [
            "Epoch [746/3000]: 100%|██████████| 7/7 [00:00<00:00, 118.15it/s, loss=4.54]\n"
          ]
        },
        {
          "output_type": "stream",
          "name": "stdout",
          "text": [
            "Epoch [746/3000]: Train loss: 3.8719, Valid loss: 3.4445\n"
          ]
        },
        {
          "output_type": "stream",
          "name": "stderr",
          "text": [
            "Epoch [747/3000]: 100%|██████████| 7/7 [00:00<00:00, 122.00it/s, loss=3.75]\n"
          ]
        },
        {
          "output_type": "stream",
          "name": "stdout",
          "text": [
            "Epoch [747/3000]: Train loss: 3.3120, Valid loss: 2.3526\n"
          ]
        },
        {
          "output_type": "stream",
          "name": "stderr",
          "text": [
            "Epoch [748/3000]: 100%|██████████| 7/7 [00:00<00:00, 114.20it/s, loss=3.98]\n"
          ]
        },
        {
          "output_type": "stream",
          "name": "stdout",
          "text": [
            "Epoch [748/3000]: Train loss: 3.0748, Valid loss: 3.7342\n"
          ]
        },
        {
          "output_type": "stream",
          "name": "stderr",
          "text": [
            "Epoch [749/3000]: 100%|██████████| 7/7 [00:00<00:00, 115.24it/s, loss=2.27]\n"
          ]
        },
        {
          "output_type": "stream",
          "name": "stdout",
          "text": [
            "Epoch [749/3000]: Train loss: 3.1281, Valid loss: 4.1176\n"
          ]
        },
        {
          "output_type": "stream",
          "name": "stderr",
          "text": [
            "Epoch [750/3000]: 100%|██████████| 7/7 [00:00<00:00, 112.12it/s, loss=2.55]\n"
          ]
        },
        {
          "output_type": "stream",
          "name": "stdout",
          "text": [
            "Epoch [750/3000]: Train loss: 2.6753, Valid loss: 2.3323\n"
          ]
        },
        {
          "output_type": "stream",
          "name": "stderr",
          "text": [
            "Epoch [751/3000]: 100%|██████████| 7/7 [00:00<00:00, 110.92it/s, loss=2.3]\n"
          ]
        },
        {
          "output_type": "stream",
          "name": "stdout",
          "text": [
            "Epoch [751/3000]: Train loss: 2.7469, Valid loss: 2.9934\n"
          ]
        },
        {
          "output_type": "stream",
          "name": "stderr",
          "text": [
            "Epoch [752/3000]: 100%|██████████| 7/7 [00:00<00:00, 129.30it/s, loss=4.9]\n"
          ]
        },
        {
          "output_type": "stream",
          "name": "stdout",
          "text": [
            "Epoch [752/3000]: Train loss: 2.9995, Valid loss: 4.1252\n"
          ]
        },
        {
          "output_type": "stream",
          "name": "stderr",
          "text": [
            "Epoch [753/3000]: 100%|██████████| 7/7 [00:00<00:00, 131.89it/s, loss=2.69]\n"
          ]
        },
        {
          "output_type": "stream",
          "name": "stdout",
          "text": [
            "Epoch [753/3000]: Train loss: 4.0061, Valid loss: 3.8131\n"
          ]
        },
        {
          "output_type": "stream",
          "name": "stderr",
          "text": [
            "Epoch [754/3000]: 100%|██████████| 7/7 [00:00<00:00, 92.61it/s, loss=3.08]\n"
          ]
        },
        {
          "output_type": "stream",
          "name": "stdout",
          "text": [
            "Epoch [754/3000]: Train loss: 2.9593, Valid loss: 2.7944\n"
          ]
        },
        {
          "output_type": "stream",
          "name": "stderr",
          "text": [
            "Epoch [755/3000]: 100%|██████████| 7/7 [00:00<00:00, 109.31it/s, loss=2.42]\n"
          ]
        },
        {
          "output_type": "stream",
          "name": "stdout",
          "text": [
            "Epoch [755/3000]: Train loss: 2.5901, Valid loss: 2.7580\n"
          ]
        },
        {
          "output_type": "stream",
          "name": "stderr",
          "text": [
            "Epoch [756/3000]: 100%|██████████| 7/7 [00:00<00:00, 111.34it/s, loss=2.39]\n"
          ]
        },
        {
          "output_type": "stream",
          "name": "stdout",
          "text": [
            "Epoch [756/3000]: Train loss: 2.4335, Valid loss: 2.2452\n",
            "Saving model with loss 2.245...\n"
          ]
        },
        {
          "output_type": "stream",
          "name": "stderr",
          "text": [
            "Epoch [757/3000]: 100%|██████████| 7/7 [00:00<00:00, 111.92it/s, loss=2.6]\n"
          ]
        },
        {
          "output_type": "stream",
          "name": "stdout",
          "text": [
            "Epoch [757/3000]: Train loss: 2.4689, Valid loss: 2.8564\n"
          ]
        },
        {
          "output_type": "stream",
          "name": "stderr",
          "text": [
            "Epoch [758/3000]: 100%|██████████| 7/7 [00:00<00:00, 109.89it/s, loss=1.97]\n"
          ]
        },
        {
          "output_type": "stream",
          "name": "stdout",
          "text": [
            "Epoch [758/3000]: Train loss: 2.5766, Valid loss: 2.4245\n"
          ]
        },
        {
          "output_type": "stream",
          "name": "stderr",
          "text": [
            "Epoch [759/3000]: 100%|██████████| 7/7 [00:00<00:00, 106.01it/s, loss=2.92]\n"
          ]
        },
        {
          "output_type": "stream",
          "name": "stdout",
          "text": [
            "Epoch [759/3000]: Train loss: 2.5725, Valid loss: 2.3290\n"
          ]
        },
        {
          "output_type": "stream",
          "name": "stderr",
          "text": [
            "Epoch [760/3000]: 100%|██████████| 7/7 [00:00<00:00, 105.43it/s, loss=2.07]\n"
          ]
        },
        {
          "output_type": "stream",
          "name": "stdout",
          "text": [
            "Epoch [760/3000]: Train loss: 2.4285, Valid loss: 2.6559\n"
          ]
        },
        {
          "output_type": "stream",
          "name": "stderr",
          "text": [
            "Epoch [761/3000]: 100%|██████████| 7/7 [00:00<00:00, 108.82it/s, loss=2.02]\n"
          ]
        },
        {
          "output_type": "stream",
          "name": "stdout",
          "text": [
            "Epoch [761/3000]: Train loss: 2.3807, Valid loss: 2.5659\n"
          ]
        },
        {
          "output_type": "stream",
          "name": "stderr",
          "text": [
            "Epoch [762/3000]: 100%|██████████| 7/7 [00:00<00:00, 106.79it/s, loss=2.67]\n"
          ]
        },
        {
          "output_type": "stream",
          "name": "stdout",
          "text": [
            "Epoch [762/3000]: Train loss: 2.3312, Valid loss: 2.5017\n"
          ]
        },
        {
          "output_type": "stream",
          "name": "stderr",
          "text": [
            "Epoch [763/3000]: 100%|██████████| 7/7 [00:00<00:00, 115.54it/s, loss=2.14]\n"
          ]
        },
        {
          "output_type": "stream",
          "name": "stdout",
          "text": [
            "Epoch [763/3000]: Train loss: 2.6603, Valid loss: 2.7981\n"
          ]
        },
        {
          "output_type": "stream",
          "name": "stderr",
          "text": [
            "Epoch [764/3000]: 100%|██████████| 7/7 [00:00<00:00, 124.61it/s, loss=2.81]\n"
          ]
        },
        {
          "output_type": "stream",
          "name": "stdout",
          "text": [
            "Epoch [764/3000]: Train loss: 2.4425, Valid loss: 2.7137\n"
          ]
        },
        {
          "output_type": "stream",
          "name": "stderr",
          "text": [
            "Epoch [765/3000]: 100%|██████████| 7/7 [00:00<00:00, 120.77it/s, loss=2.98]\n"
          ]
        },
        {
          "output_type": "stream",
          "name": "stdout",
          "text": [
            "Epoch [765/3000]: Train loss: 2.7066, Valid loss: 2.6537\n"
          ]
        },
        {
          "output_type": "stream",
          "name": "stderr",
          "text": [
            "Epoch [766/3000]: 100%|██████████| 7/7 [00:00<00:00, 105.77it/s, loss=2.48]\n"
          ]
        },
        {
          "output_type": "stream",
          "name": "stdout",
          "text": [
            "Epoch [766/3000]: Train loss: 2.2255, Valid loss: 2.4000\n"
          ]
        },
        {
          "output_type": "stream",
          "name": "stderr",
          "text": [
            "Epoch [767/3000]: 100%|██████████| 7/7 [00:00<00:00, 104.54it/s, loss=2.16]\n"
          ]
        },
        {
          "output_type": "stream",
          "name": "stdout",
          "text": [
            "Epoch [767/3000]: Train loss: 2.1905, Valid loss: 2.3631\n"
          ]
        },
        {
          "output_type": "stream",
          "name": "stderr",
          "text": [
            "Epoch [768/3000]: 100%|██████████| 7/7 [00:00<00:00, 114.95it/s, loss=2.85]\n"
          ]
        },
        {
          "output_type": "stream",
          "name": "stdout",
          "text": [
            "Epoch [768/3000]: Train loss: 2.2869, Valid loss: 2.3602\n"
          ]
        },
        {
          "output_type": "stream",
          "name": "stderr",
          "text": [
            "Epoch [769/3000]: 100%|██████████| 7/7 [00:00<00:00, 102.31it/s, loss=2.46]\n"
          ]
        },
        {
          "output_type": "stream",
          "name": "stdout",
          "text": [
            "Epoch [769/3000]: Train loss: 2.5777, Valid loss: 3.2002\n"
          ]
        },
        {
          "output_type": "stream",
          "name": "stderr",
          "text": [
            "Epoch [770/3000]: 100%|██████████| 7/7 [00:00<00:00, 104.59it/s, loss=2.21]\n"
          ]
        },
        {
          "output_type": "stream",
          "name": "stdout",
          "text": [
            "Epoch [770/3000]: Train loss: 2.4571, Valid loss: 2.4690\n"
          ]
        },
        {
          "output_type": "stream",
          "name": "stderr",
          "text": [
            "Epoch [771/3000]: 100%|██████████| 7/7 [00:00<00:00, 102.67it/s, loss=2.29]\n"
          ]
        },
        {
          "output_type": "stream",
          "name": "stdout",
          "text": [
            "Epoch [771/3000]: Train loss: 2.3462, Valid loss: 3.2924\n"
          ]
        },
        {
          "output_type": "stream",
          "name": "stderr",
          "text": [
            "Epoch [772/3000]: 100%|██████████| 7/7 [00:00<00:00, 93.13it/s, loss=3.48]\n"
          ]
        },
        {
          "output_type": "stream",
          "name": "stdout",
          "text": [
            "Epoch [772/3000]: Train loss: 2.9127, Valid loss: 2.3010\n"
          ]
        },
        {
          "output_type": "stream",
          "name": "stderr",
          "text": [
            "Epoch [773/3000]: 100%|██████████| 7/7 [00:00<00:00, 93.04it/s, loss=3.31]\n"
          ]
        },
        {
          "output_type": "stream",
          "name": "stdout",
          "text": [
            "Epoch [773/3000]: Train loss: 2.5971, Valid loss: 2.9503\n"
          ]
        },
        {
          "output_type": "stream",
          "name": "stderr",
          "text": [
            "Epoch [774/3000]: 100%|██████████| 7/7 [00:00<00:00, 112.55it/s, loss=2.46]\n"
          ]
        },
        {
          "output_type": "stream",
          "name": "stdout",
          "text": [
            "Epoch [774/3000]: Train loss: 3.0193, Valid loss: 3.2584\n"
          ]
        },
        {
          "output_type": "stream",
          "name": "stderr",
          "text": [
            "Epoch [775/3000]: 100%|██████████| 7/7 [00:00<00:00, 109.02it/s, loss=1.94]\n"
          ]
        },
        {
          "output_type": "stream",
          "name": "stdout",
          "text": [
            "Epoch [775/3000]: Train loss: 2.5044, Valid loss: 2.2830\n"
          ]
        },
        {
          "output_type": "stream",
          "name": "stderr",
          "text": [
            "Epoch [776/3000]: 100%|██████████| 7/7 [00:00<00:00, 107.84it/s, loss=2.6]\n"
          ]
        },
        {
          "output_type": "stream",
          "name": "stdout",
          "text": [
            "Epoch [776/3000]: Train loss: 2.5745, Valid loss: 2.4836\n"
          ]
        },
        {
          "output_type": "stream",
          "name": "stderr",
          "text": [
            "Epoch [777/3000]: 100%|██████████| 7/7 [00:00<00:00, 107.34it/s, loss=2.03]\n"
          ]
        },
        {
          "output_type": "stream",
          "name": "stdout",
          "text": [
            "Epoch [777/3000]: Train loss: 2.2588, Valid loss: 2.3551\n"
          ]
        },
        {
          "output_type": "stream",
          "name": "stderr",
          "text": [
            "Epoch [778/3000]: 100%|██████████| 7/7 [00:00<00:00, 104.93it/s, loss=2.22]\n"
          ]
        },
        {
          "output_type": "stream",
          "name": "stdout",
          "text": [
            "Epoch [778/3000]: Train loss: 2.3448, Valid loss: 2.2326\n",
            "Saving model with loss 2.233...\n"
          ]
        },
        {
          "output_type": "stream",
          "name": "stderr",
          "text": [
            "Epoch [779/3000]: 100%|██████████| 7/7 [00:00<00:00, 113.70it/s, loss=2.27]\n"
          ]
        },
        {
          "output_type": "stream",
          "name": "stdout",
          "text": [
            "Epoch [779/3000]: Train loss: 2.2958, Valid loss: 2.2912\n"
          ]
        },
        {
          "output_type": "stream",
          "name": "stderr",
          "text": [
            "Epoch [780/3000]: 100%|██████████| 7/7 [00:00<00:00, 114.08it/s, loss=1.77]\n"
          ]
        },
        {
          "output_type": "stream",
          "name": "stdout",
          "text": [
            "Epoch [780/3000]: Train loss: 2.2079, Valid loss: 2.2684\n"
          ]
        },
        {
          "output_type": "stream",
          "name": "stderr",
          "text": [
            "Epoch [781/3000]: 100%|██████████| 7/7 [00:00<00:00, 110.90it/s, loss=2.34]\n"
          ]
        },
        {
          "output_type": "stream",
          "name": "stdout",
          "text": [
            "Epoch [781/3000]: Train loss: 2.1902, Valid loss: 4.0949\n"
          ]
        },
        {
          "output_type": "stream",
          "name": "stderr",
          "text": [
            "Epoch [782/3000]: 100%|██████████| 7/7 [00:00<00:00, 97.91it/s, loss=3.09]\n"
          ]
        },
        {
          "output_type": "stream",
          "name": "stdout",
          "text": [
            "Epoch [782/3000]: Train loss: 3.0114, Valid loss: 2.3182\n"
          ]
        },
        {
          "output_type": "stream",
          "name": "stderr",
          "text": [
            "Epoch [783/3000]: 100%|██████████| 7/7 [00:00<00:00, 100.31it/s, loss=2.95]\n"
          ]
        },
        {
          "output_type": "stream",
          "name": "stdout",
          "text": [
            "Epoch [783/3000]: Train loss: 2.9994, Valid loss: 3.7709\n"
          ]
        },
        {
          "output_type": "stream",
          "name": "stderr",
          "text": [
            "Epoch [784/3000]: 100%|██████████| 7/7 [00:00<00:00, 101.27it/s, loss=2.14]\n"
          ]
        },
        {
          "output_type": "stream",
          "name": "stdout",
          "text": [
            "Epoch [784/3000]: Train loss: 2.8344, Valid loss: 3.3270\n"
          ]
        },
        {
          "output_type": "stream",
          "name": "stderr",
          "text": [
            "Epoch [785/3000]: 100%|██████████| 7/7 [00:00<00:00, 113.03it/s, loss=2.29]\n"
          ]
        },
        {
          "output_type": "stream",
          "name": "stdout",
          "text": [
            "Epoch [785/3000]: Train loss: 2.5960, Valid loss: 2.9258\n"
          ]
        },
        {
          "output_type": "stream",
          "name": "stderr",
          "text": [
            "Epoch [786/3000]: 100%|██████████| 7/7 [00:00<00:00, 115.88it/s, loss=1.38]\n"
          ]
        },
        {
          "output_type": "stream",
          "name": "stdout",
          "text": [
            "Epoch [786/3000]: Train loss: 2.2797, Valid loss: 2.7095\n"
          ]
        },
        {
          "output_type": "stream",
          "name": "stderr",
          "text": [
            "Epoch [787/3000]: 100%|██████████| 7/7 [00:00<00:00, 118.56it/s, loss=2.38]\n"
          ]
        },
        {
          "output_type": "stream",
          "name": "stdout",
          "text": [
            "Epoch [787/3000]: Train loss: 2.4624, Valid loss: 2.5220\n"
          ]
        },
        {
          "output_type": "stream",
          "name": "stderr",
          "text": [
            "Epoch [788/3000]: 100%|██████████| 7/7 [00:00<00:00, 106.64it/s, loss=2.46]\n"
          ]
        },
        {
          "output_type": "stream",
          "name": "stdout",
          "text": [
            "Epoch [788/3000]: Train loss: 2.2162, Valid loss: 2.6876\n"
          ]
        },
        {
          "output_type": "stream",
          "name": "stderr",
          "text": [
            "Epoch [789/3000]: 100%|██████████| 7/7 [00:00<00:00, 113.01it/s, loss=2.52]\n"
          ]
        },
        {
          "output_type": "stream",
          "name": "stdout",
          "text": [
            "Epoch [789/3000]: Train loss: 2.2806, Valid loss: 2.2825\n"
          ]
        },
        {
          "output_type": "stream",
          "name": "stderr",
          "text": [
            "Epoch [790/3000]: 100%|██████████| 7/7 [00:00<00:00, 105.65it/s, loss=2.74]\n"
          ]
        },
        {
          "output_type": "stream",
          "name": "stdout",
          "text": [
            "Epoch [790/3000]: Train loss: 2.2013, Valid loss: 3.0551\n"
          ]
        },
        {
          "output_type": "stream",
          "name": "stderr",
          "text": [
            "Epoch [791/3000]: 100%|██████████| 7/7 [00:00<00:00, 114.87it/s, loss=1.8]\n"
          ]
        },
        {
          "output_type": "stream",
          "name": "stdout",
          "text": [
            "Epoch [791/3000]: Train loss: 2.6005, Valid loss: 2.5175\n"
          ]
        },
        {
          "output_type": "stream",
          "name": "stderr",
          "text": [
            "Epoch [792/3000]: 100%|██████████| 7/7 [00:00<00:00, 116.58it/s, loss=2.49]\n"
          ]
        },
        {
          "output_type": "stream",
          "name": "stdout",
          "text": [
            "Epoch [792/3000]: Train loss: 2.3387, Valid loss: 2.8867\n"
          ]
        },
        {
          "output_type": "stream",
          "name": "stderr",
          "text": [
            "Epoch [793/3000]: 100%|██████████| 7/7 [00:00<00:00, 119.76it/s, loss=2.53]\n"
          ]
        },
        {
          "output_type": "stream",
          "name": "stdout",
          "text": [
            "Epoch [793/3000]: Train loss: 2.3559, Valid loss: 2.2840\n"
          ]
        },
        {
          "output_type": "stream",
          "name": "stderr",
          "text": [
            "Epoch [794/3000]: 100%|██████████| 7/7 [00:00<00:00, 120.27it/s, loss=2.55]\n"
          ]
        },
        {
          "output_type": "stream",
          "name": "stdout",
          "text": [
            "Epoch [794/3000]: Train loss: 2.2178, Valid loss: 2.7684\n"
          ]
        },
        {
          "output_type": "stream",
          "name": "stderr",
          "text": [
            "Epoch [795/3000]: 100%|██████████| 7/7 [00:00<00:00, 108.47it/s, loss=1.71]\n"
          ]
        },
        {
          "output_type": "stream",
          "name": "stdout",
          "text": [
            "Epoch [795/3000]: Train loss: 2.3590, Valid loss: 2.7898\n"
          ]
        },
        {
          "output_type": "stream",
          "name": "stderr",
          "text": [
            "Epoch [796/3000]: 100%|██████████| 7/7 [00:00<00:00, 119.15it/s, loss=3.17]\n"
          ]
        },
        {
          "output_type": "stream",
          "name": "stdout",
          "text": [
            "Epoch [796/3000]: Train loss: 2.5138, Valid loss: 2.2401\n"
          ]
        },
        {
          "output_type": "stream",
          "name": "stderr",
          "text": [
            "Epoch [797/3000]: 100%|██████████| 7/7 [00:00<00:00, 116.17it/s, loss=2.73]\n"
          ]
        },
        {
          "output_type": "stream",
          "name": "stdout",
          "text": [
            "Epoch [797/3000]: Train loss: 3.2531, Valid loss: 3.6188\n"
          ]
        },
        {
          "output_type": "stream",
          "name": "stderr",
          "text": [
            "Epoch [798/3000]: 100%|██████████| 7/7 [00:00<00:00, 111.71it/s, loss=2.11]\n"
          ]
        },
        {
          "output_type": "stream",
          "name": "stdout",
          "text": [
            "Epoch [798/3000]: Train loss: 2.5611, Valid loss: 2.5885\n"
          ]
        },
        {
          "output_type": "stream",
          "name": "stderr",
          "text": [
            "Epoch [799/3000]: 100%|██████████| 7/7 [00:00<00:00, 116.96it/s, loss=2.14]\n"
          ]
        },
        {
          "output_type": "stream",
          "name": "stdout",
          "text": [
            "Epoch [799/3000]: Train loss: 2.3646, Valid loss: 2.1870\n",
            "Saving model with loss 2.187...\n"
          ]
        },
        {
          "output_type": "stream",
          "name": "stderr",
          "text": [
            "Epoch [800/3000]: 100%|██████████| 7/7 [00:00<00:00, 119.38it/s, loss=1.9]\n"
          ]
        },
        {
          "output_type": "stream",
          "name": "stdout",
          "text": [
            "Epoch [800/3000]: Train loss: 2.2277, Valid loss: 2.3664\n"
          ]
        },
        {
          "output_type": "stream",
          "name": "stderr",
          "text": [
            "Epoch [801/3000]: 100%|██████████| 7/7 [00:00<00:00, 109.85it/s, loss=2.24]\n"
          ]
        },
        {
          "output_type": "stream",
          "name": "stdout",
          "text": [
            "Epoch [801/3000]: Train loss: 2.1756, Valid loss: 2.6447\n"
          ]
        },
        {
          "output_type": "stream",
          "name": "stderr",
          "text": [
            "Epoch [802/3000]: 100%|██████████| 7/7 [00:00<00:00, 118.80it/s, loss=2.8]\n"
          ]
        },
        {
          "output_type": "stream",
          "name": "stdout",
          "text": [
            "Epoch [802/3000]: Train loss: 2.3589, Valid loss: 2.2813\n"
          ]
        },
        {
          "output_type": "stream",
          "name": "stderr",
          "text": [
            "Epoch [803/3000]: 100%|██████████| 7/7 [00:00<00:00, 120.53it/s, loss=2.34]\n"
          ]
        },
        {
          "output_type": "stream",
          "name": "stdout",
          "text": [
            "Epoch [803/3000]: Train loss: 2.2068, Valid loss: 2.2704\n"
          ]
        },
        {
          "output_type": "stream",
          "name": "stderr",
          "text": [
            "Epoch [804/3000]: 100%|██████████| 7/7 [00:00<00:00, 106.11it/s, loss=1.93]\n"
          ]
        },
        {
          "output_type": "stream",
          "name": "stdout",
          "text": [
            "Epoch [804/3000]: Train loss: 2.0978, Valid loss: 2.2898\n"
          ]
        },
        {
          "output_type": "stream",
          "name": "stderr",
          "text": [
            "Epoch [805/3000]: 100%|██████████| 7/7 [00:00<00:00, 113.95it/s, loss=1.98]\n"
          ]
        },
        {
          "output_type": "stream",
          "name": "stdout",
          "text": [
            "Epoch [805/3000]: Train loss: 2.1271, Valid loss: 2.5095\n"
          ]
        },
        {
          "output_type": "stream",
          "name": "stderr",
          "text": [
            "Epoch [806/3000]: 100%|██████████| 7/7 [00:00<00:00, 123.85it/s, loss=3.52]\n"
          ]
        },
        {
          "output_type": "stream",
          "name": "stdout",
          "text": [
            "Epoch [806/3000]: Train loss: 2.5905, Valid loss: 2.2616\n"
          ]
        },
        {
          "output_type": "stream",
          "name": "stderr",
          "text": [
            "Epoch [807/3000]: 100%|██████████| 7/7 [00:00<00:00, 111.81it/s, loss=2.15]\n"
          ]
        },
        {
          "output_type": "stream",
          "name": "stdout",
          "text": [
            "Epoch [807/3000]: Train loss: 3.1842, Valid loss: 3.4305\n"
          ]
        },
        {
          "output_type": "stream",
          "name": "stderr",
          "text": [
            "Epoch [808/3000]: 100%|██████████| 7/7 [00:00<00:00, 125.86it/s, loss=2.52]\n"
          ]
        },
        {
          "output_type": "stream",
          "name": "stdout",
          "text": [
            "Epoch [808/3000]: Train loss: 2.8483, Valid loss: 4.9773\n"
          ]
        },
        {
          "output_type": "stream",
          "name": "stderr",
          "text": [
            "Epoch [809/3000]: 100%|██████████| 7/7 [00:00<00:00, 112.63it/s, loss=2.9]\n"
          ]
        },
        {
          "output_type": "stream",
          "name": "stdout",
          "text": [
            "Epoch [809/3000]: Train loss: 3.3679, Valid loss: 2.5417\n"
          ]
        },
        {
          "output_type": "stream",
          "name": "stderr",
          "text": [
            "Epoch [810/3000]: 100%|██████████| 7/7 [00:00<00:00, 114.96it/s, loss=5.68]\n"
          ]
        },
        {
          "output_type": "stream",
          "name": "stdout",
          "text": [
            "Epoch [810/3000]: Train loss: 3.3082, Valid loss: 3.8006\n"
          ]
        },
        {
          "output_type": "stream",
          "name": "stderr",
          "text": [
            "Epoch [811/3000]: 100%|██████████| 7/7 [00:00<00:00, 121.46it/s, loss=1.9]\n"
          ]
        },
        {
          "output_type": "stream",
          "name": "stdout",
          "text": [
            "Epoch [811/3000]: Train loss: 3.1172, Valid loss: 3.0238\n"
          ]
        },
        {
          "output_type": "stream",
          "name": "stderr",
          "text": [
            "Epoch [812/3000]: 100%|██████████| 7/7 [00:00<00:00, 111.83it/s, loss=3]\n"
          ]
        },
        {
          "output_type": "stream",
          "name": "stdout",
          "text": [
            "Epoch [812/3000]: Train loss: 2.5131, Valid loss: 2.6758\n"
          ]
        },
        {
          "output_type": "stream",
          "name": "stderr",
          "text": [
            "Epoch [813/3000]: 100%|██████████| 7/7 [00:00<00:00, 122.28it/s, loss=1.97]\n"
          ]
        },
        {
          "output_type": "stream",
          "name": "stdout",
          "text": [
            "Epoch [813/3000]: Train loss: 2.4808, Valid loss: 2.4769\n"
          ]
        },
        {
          "output_type": "stream",
          "name": "stderr",
          "text": [
            "Epoch [814/3000]: 100%|██████████| 7/7 [00:00<00:00, 127.58it/s, loss=2.27]\n"
          ]
        },
        {
          "output_type": "stream",
          "name": "stdout",
          "text": [
            "Epoch [814/3000]: Train loss: 2.2484, Valid loss: 2.2959\n"
          ]
        },
        {
          "output_type": "stream",
          "name": "stderr",
          "text": [
            "Epoch [815/3000]: 100%|██████████| 7/7 [00:00<00:00, 96.76it/s, loss=2.28]\n"
          ]
        },
        {
          "output_type": "stream",
          "name": "stdout",
          "text": [
            "Epoch [815/3000]: Train loss: 2.2446, Valid loss: 2.2786\n"
          ]
        },
        {
          "output_type": "stream",
          "name": "stderr",
          "text": [
            "Epoch [816/3000]: 100%|██████████| 7/7 [00:00<00:00, 114.28it/s, loss=2.21]\n"
          ]
        },
        {
          "output_type": "stream",
          "name": "stdout",
          "text": [
            "Epoch [816/3000]: Train loss: 2.1727, Valid loss: 2.1823\n",
            "Saving model with loss 2.182...\n"
          ]
        },
        {
          "output_type": "stream",
          "name": "stderr",
          "text": [
            "Epoch [817/3000]: 100%|██████████| 7/7 [00:00<00:00, 116.22it/s, loss=2.18]\n"
          ]
        },
        {
          "output_type": "stream",
          "name": "stdout",
          "text": [
            "Epoch [817/3000]: Train loss: 2.2135, Valid loss: 2.2551\n"
          ]
        },
        {
          "output_type": "stream",
          "name": "stderr",
          "text": [
            "Epoch [818/3000]: 100%|██████████| 7/7 [00:00<00:00, 126.53it/s, loss=2.12]\n"
          ]
        },
        {
          "output_type": "stream",
          "name": "stdout",
          "text": [
            "Epoch [818/3000]: Train loss: 2.3022, Valid loss: 2.2289\n"
          ]
        },
        {
          "output_type": "stream",
          "name": "stderr",
          "text": [
            "Epoch [819/3000]: 100%|██████████| 7/7 [00:00<00:00, 114.76it/s, loss=3.13]\n"
          ]
        },
        {
          "output_type": "stream",
          "name": "stdout",
          "text": [
            "Epoch [819/3000]: Train loss: 2.3978, Valid loss: 2.2736\n"
          ]
        },
        {
          "output_type": "stream",
          "name": "stderr",
          "text": [
            "Epoch [820/3000]: 100%|██████████| 7/7 [00:00<00:00, 132.21it/s, loss=2.12]\n"
          ]
        },
        {
          "output_type": "stream",
          "name": "stdout",
          "text": [
            "Epoch [820/3000]: Train loss: 2.1406, Valid loss: 2.3109\n"
          ]
        },
        {
          "output_type": "stream",
          "name": "stderr",
          "text": [
            "Epoch [821/3000]: 100%|██████████| 7/7 [00:00<00:00, 133.81it/s, loss=2.56]\n"
          ]
        },
        {
          "output_type": "stream",
          "name": "stdout",
          "text": [
            "Epoch [821/3000]: Train loss: 2.1437, Valid loss: 2.1867\n"
          ]
        },
        {
          "output_type": "stream",
          "name": "stderr",
          "text": [
            "Epoch [822/3000]: 100%|██████████| 7/7 [00:00<00:00, 107.25it/s, loss=2.44]\n"
          ]
        },
        {
          "output_type": "stream",
          "name": "stdout",
          "text": [
            "Epoch [822/3000]: Train loss: 2.3376, Valid loss: 2.5268\n"
          ]
        },
        {
          "output_type": "stream",
          "name": "stderr",
          "text": [
            "Epoch [823/3000]: 100%|██████████| 7/7 [00:00<00:00, 130.54it/s, loss=2.74]\n"
          ]
        },
        {
          "output_type": "stream",
          "name": "stdout",
          "text": [
            "Epoch [823/3000]: Train loss: 2.3935, Valid loss: 2.3289\n"
          ]
        },
        {
          "output_type": "stream",
          "name": "stderr",
          "text": [
            "Epoch [824/3000]: 100%|██████████| 7/7 [00:00<00:00, 124.73it/s, loss=3.47]\n"
          ]
        },
        {
          "output_type": "stream",
          "name": "stdout",
          "text": [
            "Epoch [824/3000]: Train loss: 2.6349, Valid loss: 2.6073\n"
          ]
        },
        {
          "output_type": "stream",
          "name": "stderr",
          "text": [
            "Epoch [825/3000]: 100%|██████████| 7/7 [00:00<00:00, 111.74it/s, loss=2.97]\n"
          ]
        },
        {
          "output_type": "stream",
          "name": "stdout",
          "text": [
            "Epoch [825/3000]: Train loss: 2.8480, Valid loss: 2.6832\n"
          ]
        },
        {
          "output_type": "stream",
          "name": "stderr",
          "text": [
            "Epoch [826/3000]: 100%|██████████| 7/7 [00:00<00:00, 101.09it/s, loss=2.84]\n"
          ]
        },
        {
          "output_type": "stream",
          "name": "stdout",
          "text": [
            "Epoch [826/3000]: Train loss: 2.3791, Valid loss: 2.2408\n"
          ]
        },
        {
          "output_type": "stream",
          "name": "stderr",
          "text": [
            "Epoch [827/3000]: 100%|██████████| 7/7 [00:00<00:00, 124.56it/s, loss=2.27]\n"
          ]
        },
        {
          "output_type": "stream",
          "name": "stdout",
          "text": [
            "Epoch [827/3000]: Train loss: 2.2046, Valid loss: 2.3416\n"
          ]
        },
        {
          "output_type": "stream",
          "name": "stderr",
          "text": [
            "Epoch [828/3000]: 100%|██████████| 7/7 [00:00<00:00, 134.59it/s, loss=1.98]\n"
          ]
        },
        {
          "output_type": "stream",
          "name": "stdout",
          "text": [
            "Epoch [828/3000]: Train loss: 2.1241, Valid loss: 2.3183\n"
          ]
        },
        {
          "output_type": "stream",
          "name": "stderr",
          "text": [
            "Epoch [829/3000]: 100%|██████████| 7/7 [00:00<00:00, 97.97it/s, loss=2.26]\n"
          ]
        },
        {
          "output_type": "stream",
          "name": "stdout",
          "text": [
            "Epoch [829/3000]: Train loss: 2.1742, Valid loss: 2.2936\n"
          ]
        },
        {
          "output_type": "stream",
          "name": "stderr",
          "text": [
            "Epoch [830/3000]: 100%|██████████| 7/7 [00:00<00:00, 103.78it/s, loss=3.63]\n"
          ]
        },
        {
          "output_type": "stream",
          "name": "stdout",
          "text": [
            "Epoch [830/3000]: Train loss: 2.8747, Valid loss: 2.2186\n"
          ]
        },
        {
          "output_type": "stream",
          "name": "stderr",
          "text": [
            "Epoch [831/3000]: 100%|██████████| 7/7 [00:00<00:00, 110.32it/s, loss=2.72]\n"
          ]
        },
        {
          "output_type": "stream",
          "name": "stdout",
          "text": [
            "Epoch [831/3000]: Train loss: 3.1049, Valid loss: 5.7283\n"
          ]
        },
        {
          "output_type": "stream",
          "name": "stderr",
          "text": [
            "Epoch [832/3000]: 100%|██████████| 7/7 [00:00<00:00, 115.63it/s, loss=2.75]\n"
          ]
        },
        {
          "output_type": "stream",
          "name": "stdout",
          "text": [
            "Epoch [832/3000]: Train loss: 3.2469, Valid loss: 2.2765\n"
          ]
        },
        {
          "output_type": "stream",
          "name": "stderr",
          "text": [
            "Epoch [833/3000]: 100%|██████████| 7/7 [00:00<00:00, 109.83it/s, loss=2.66]\n"
          ]
        },
        {
          "output_type": "stream",
          "name": "stdout",
          "text": [
            "Epoch [833/3000]: Train loss: 2.4464, Valid loss: 2.8702\n"
          ]
        },
        {
          "output_type": "stream",
          "name": "stderr",
          "text": [
            "Epoch [834/3000]: 100%|██████████| 7/7 [00:00<00:00, 125.46it/s, loss=1.82]\n"
          ]
        },
        {
          "output_type": "stream",
          "name": "stdout",
          "text": [
            "Epoch [834/3000]: Train loss: 2.6955, Valid loss: 3.1809\n"
          ]
        },
        {
          "output_type": "stream",
          "name": "stderr",
          "text": [
            "Epoch [835/3000]: 100%|██████████| 7/7 [00:00<00:00, 110.04it/s, loss=3.71]\n"
          ]
        },
        {
          "output_type": "stream",
          "name": "stdout",
          "text": [
            "Epoch [835/3000]: Train loss: 2.9961, Valid loss: 4.4061\n"
          ]
        },
        {
          "output_type": "stream",
          "name": "stderr",
          "text": [
            "Epoch [836/3000]: 100%|██████████| 7/7 [00:00<00:00, 110.45it/s, loss=2.28]\n"
          ]
        },
        {
          "output_type": "stream",
          "name": "stdout",
          "text": [
            "Epoch [836/3000]: Train loss: 2.8367, Valid loss: 2.2789\n"
          ]
        },
        {
          "output_type": "stream",
          "name": "stderr",
          "text": [
            "Epoch [837/3000]: 100%|██████████| 7/7 [00:00<00:00, 108.63it/s, loss=1.7]\n"
          ]
        },
        {
          "output_type": "stream",
          "name": "stdout",
          "text": [
            "Epoch [837/3000]: Train loss: 2.0665, Valid loss: 2.2242\n"
          ]
        },
        {
          "output_type": "stream",
          "name": "stderr",
          "text": [
            "Epoch [838/3000]: 100%|██████████| 7/7 [00:00<00:00, 98.49it/s, loss=2.33]\n"
          ]
        },
        {
          "output_type": "stream",
          "name": "stdout",
          "text": [
            "Epoch [838/3000]: Train loss: 2.1870, Valid loss: 2.1590\n",
            "Saving model with loss 2.159...\n"
          ]
        },
        {
          "output_type": "stream",
          "name": "stderr",
          "text": [
            "Epoch [839/3000]: 100%|██████████| 7/7 [00:00<00:00, 103.78it/s, loss=1.84]\n"
          ]
        },
        {
          "output_type": "stream",
          "name": "stdout",
          "text": [
            "Epoch [839/3000]: Train loss: 2.3678, Valid loss: 2.2307\n"
          ]
        },
        {
          "output_type": "stream",
          "name": "stderr",
          "text": [
            "Epoch [840/3000]: 100%|██████████| 7/7 [00:00<00:00, 103.08it/s, loss=2.43]\n"
          ]
        },
        {
          "output_type": "stream",
          "name": "stdout",
          "text": [
            "Epoch [840/3000]: Train loss: 2.1823, Valid loss: 2.2914\n"
          ]
        },
        {
          "output_type": "stream",
          "name": "stderr",
          "text": [
            "Epoch [841/3000]: 100%|██████████| 7/7 [00:00<00:00, 102.24it/s, loss=2.3]\n"
          ]
        },
        {
          "output_type": "stream",
          "name": "stdout",
          "text": [
            "Epoch [841/3000]: Train loss: 2.3884, Valid loss: 2.6592\n"
          ]
        },
        {
          "output_type": "stream",
          "name": "stderr",
          "text": [
            "Epoch [842/3000]: 100%|██████████| 7/7 [00:00<00:00, 108.52it/s, loss=1.78]\n"
          ]
        },
        {
          "output_type": "stream",
          "name": "stdout",
          "text": [
            "Epoch [842/3000]: Train loss: 2.1704, Valid loss: 2.1530\n",
            "Saving model with loss 2.153...\n"
          ]
        },
        {
          "output_type": "stream",
          "name": "stderr",
          "text": [
            "Epoch [843/3000]: 100%|██████████| 7/7 [00:00<00:00, 108.80it/s, loss=2.16]\n"
          ]
        },
        {
          "output_type": "stream",
          "name": "stdout",
          "text": [
            "Epoch [843/3000]: Train loss: 2.0575, Valid loss: 2.2668\n"
          ]
        },
        {
          "output_type": "stream",
          "name": "stderr",
          "text": [
            "Epoch [844/3000]: 100%|██████████| 7/7 [00:00<00:00, 107.57it/s, loss=3.09]\n"
          ]
        },
        {
          "output_type": "stream",
          "name": "stdout",
          "text": [
            "Epoch [844/3000]: Train loss: 2.2904, Valid loss: 2.7981\n"
          ]
        },
        {
          "output_type": "stream",
          "name": "stderr",
          "text": [
            "Epoch [845/3000]: 100%|██████████| 7/7 [00:00<00:00, 105.06it/s, loss=2.27]\n"
          ]
        },
        {
          "output_type": "stream",
          "name": "stdout",
          "text": [
            "Epoch [845/3000]: Train loss: 2.6356, Valid loss: 2.4396\n"
          ]
        },
        {
          "output_type": "stream",
          "name": "stderr",
          "text": [
            "Epoch [846/3000]: 100%|██████████| 7/7 [00:00<00:00, 107.63it/s, loss=1.95]\n"
          ]
        },
        {
          "output_type": "stream",
          "name": "stdout",
          "text": [
            "Epoch [846/3000]: Train loss: 2.3236, Valid loss: 2.1891\n"
          ]
        },
        {
          "output_type": "stream",
          "name": "stderr",
          "text": [
            "Epoch [847/3000]: 100%|██████████| 7/7 [00:00<00:00, 106.00it/s, loss=2.78]\n"
          ]
        },
        {
          "output_type": "stream",
          "name": "stdout",
          "text": [
            "Epoch [847/3000]: Train loss: 2.3369, Valid loss: 3.1921\n"
          ]
        },
        {
          "output_type": "stream",
          "name": "stderr",
          "text": [
            "Epoch [848/3000]: 100%|██████████| 7/7 [00:00<00:00, 123.23it/s, loss=1.81]\n"
          ]
        },
        {
          "output_type": "stream",
          "name": "stdout",
          "text": [
            "Epoch [848/3000]: Train loss: 2.2489, Valid loss: 2.5214\n"
          ]
        },
        {
          "output_type": "stream",
          "name": "stderr",
          "text": [
            "Epoch [849/3000]: 100%|██████████| 7/7 [00:00<00:00, 111.67it/s, loss=1.92]\n"
          ]
        },
        {
          "output_type": "stream",
          "name": "stdout",
          "text": [
            "Epoch [849/3000]: Train loss: 2.8370, Valid loss: 3.5163\n"
          ]
        },
        {
          "output_type": "stream",
          "name": "stderr",
          "text": [
            "Epoch [850/3000]: 100%|██████████| 7/7 [00:00<00:00, 106.53it/s, loss=2.3]\n"
          ]
        },
        {
          "output_type": "stream",
          "name": "stdout",
          "text": [
            "Epoch [850/3000]: Train loss: 2.4708, Valid loss: 2.2291\n"
          ]
        },
        {
          "output_type": "stream",
          "name": "stderr",
          "text": [
            "Epoch [851/3000]: 100%|██████████| 7/7 [00:00<00:00, 100.93it/s, loss=2.5]\n"
          ]
        },
        {
          "output_type": "stream",
          "name": "stdout",
          "text": [
            "Epoch [851/3000]: Train loss: 2.1540, Valid loss: 2.3538\n"
          ]
        },
        {
          "output_type": "stream",
          "name": "stderr",
          "text": [
            "Epoch [852/3000]: 100%|██████████| 7/7 [00:00<00:00, 108.05it/s, loss=2.08]\n"
          ]
        },
        {
          "output_type": "stream",
          "name": "stdout",
          "text": [
            "Epoch [852/3000]: Train loss: 2.1337, Valid loss: 2.6408\n"
          ]
        },
        {
          "output_type": "stream",
          "name": "stderr",
          "text": [
            "Epoch [853/3000]: 100%|██████████| 7/7 [00:00<00:00, 114.90it/s, loss=2.77]\n"
          ]
        },
        {
          "output_type": "stream",
          "name": "stdout",
          "text": [
            "Epoch [853/3000]: Train loss: 2.4034, Valid loss: 2.5816\n"
          ]
        },
        {
          "output_type": "stream",
          "name": "stderr",
          "text": [
            "Epoch [854/3000]: 100%|██████████| 7/7 [00:00<00:00, 106.49it/s, loss=2.2]\n"
          ]
        },
        {
          "output_type": "stream",
          "name": "stdout",
          "text": [
            "Epoch [854/3000]: Train loss: 2.2589, Valid loss: 2.5270\n"
          ]
        },
        {
          "output_type": "stream",
          "name": "stderr",
          "text": [
            "Epoch [855/3000]: 100%|██████████| 7/7 [00:00<00:00, 104.52it/s, loss=2.62]\n"
          ]
        },
        {
          "output_type": "stream",
          "name": "stdout",
          "text": [
            "Epoch [855/3000]: Train loss: 2.5486, Valid loss: 4.4653\n"
          ]
        },
        {
          "output_type": "stream",
          "name": "stderr",
          "text": [
            "Epoch [856/3000]: 100%|██████████| 7/7 [00:00<00:00, 108.95it/s, loss=6.03]\n"
          ]
        },
        {
          "output_type": "stream",
          "name": "stdout",
          "text": [
            "Epoch [856/3000]: Train loss: 3.4826, Valid loss: 6.6231\n"
          ]
        },
        {
          "output_type": "stream",
          "name": "stderr",
          "text": [
            "Epoch [857/3000]: 100%|██████████| 7/7 [00:00<00:00, 108.01it/s, loss=4.85]\n"
          ]
        },
        {
          "output_type": "stream",
          "name": "stdout",
          "text": [
            "Epoch [857/3000]: Train loss: 5.2374, Valid loss: 4.3043\n"
          ]
        },
        {
          "output_type": "stream",
          "name": "stderr",
          "text": [
            "Epoch [858/3000]: 100%|██████████| 7/7 [00:00<00:00, 91.74it/s, loss=7.21]\n"
          ]
        },
        {
          "output_type": "stream",
          "name": "stdout",
          "text": [
            "Epoch [858/3000]: Train loss: 4.2196, Valid loss: 4.2547\n"
          ]
        },
        {
          "output_type": "stream",
          "name": "stderr",
          "text": [
            "Epoch [859/3000]: 100%|██████████| 7/7 [00:00<00:00, 95.37it/s, loss=3.18]\n"
          ]
        },
        {
          "output_type": "stream",
          "name": "stdout",
          "text": [
            "Epoch [859/3000]: Train loss: 3.3676, Valid loss: 4.4760\n"
          ]
        },
        {
          "output_type": "stream",
          "name": "stderr",
          "text": [
            "Epoch [860/3000]: 100%|██████████| 7/7 [00:00<00:00, 117.36it/s, loss=2.41]\n"
          ]
        },
        {
          "output_type": "stream",
          "name": "stdout",
          "text": [
            "Epoch [860/3000]: Train loss: 3.2582, Valid loss: 2.5788\n"
          ]
        },
        {
          "output_type": "stream",
          "name": "stderr",
          "text": [
            "Epoch [861/3000]: 100%|██████████| 7/7 [00:00<00:00, 136.71it/s, loss=2.34]\n"
          ]
        },
        {
          "output_type": "stream",
          "name": "stdout",
          "text": [
            "Epoch [861/3000]: Train loss: 2.3546, Valid loss: 2.2008\n"
          ]
        },
        {
          "output_type": "stream",
          "name": "stderr",
          "text": [
            "Epoch [862/3000]: 100%|██████████| 7/7 [00:00<00:00, 113.92it/s, loss=2.03]\n"
          ]
        },
        {
          "output_type": "stream",
          "name": "stdout",
          "text": [
            "Epoch [862/3000]: Train loss: 2.2451, Valid loss: 2.6318\n"
          ]
        },
        {
          "output_type": "stream",
          "name": "stderr",
          "text": [
            "Epoch [863/3000]: 100%|██████████| 7/7 [00:00<00:00, 120.29it/s, loss=2.43]\n"
          ]
        },
        {
          "output_type": "stream",
          "name": "stdout",
          "text": [
            "Epoch [863/3000]: Train loss: 2.1666, Valid loss: 3.5972\n"
          ]
        },
        {
          "output_type": "stream",
          "name": "stderr",
          "text": [
            "Epoch [864/3000]: 100%|██████████| 7/7 [00:00<00:00, 132.47it/s, loss=2.25]\n"
          ]
        },
        {
          "output_type": "stream",
          "name": "stdout",
          "text": [
            "Epoch [864/3000]: Train loss: 2.5849, Valid loss: 2.2363\n"
          ]
        },
        {
          "output_type": "stream",
          "name": "stderr",
          "text": [
            "Epoch [865/3000]: 100%|██████████| 7/7 [00:00<00:00, 131.84it/s, loss=2.3]\n"
          ]
        },
        {
          "output_type": "stream",
          "name": "stdout",
          "text": [
            "Epoch [865/3000]: Train loss: 2.3752, Valid loss: 2.2229\n"
          ]
        },
        {
          "output_type": "stream",
          "name": "stderr",
          "text": [
            "Epoch [866/3000]: 100%|██████████| 7/7 [00:00<00:00, 134.72it/s, loss=2.44]\n"
          ]
        },
        {
          "output_type": "stream",
          "name": "stdout",
          "text": [
            "Epoch [866/3000]: Train loss: 2.6806, Valid loss: 4.0048\n"
          ]
        },
        {
          "output_type": "stream",
          "name": "stderr",
          "text": [
            "Epoch [867/3000]: 100%|██████████| 7/7 [00:00<00:00, 107.39it/s, loss=1.87]\n"
          ]
        },
        {
          "output_type": "stream",
          "name": "stdout",
          "text": [
            "Epoch [867/3000]: Train loss: 2.5507, Valid loss: 2.3229\n"
          ]
        },
        {
          "output_type": "stream",
          "name": "stderr",
          "text": [
            "Epoch [868/3000]: 100%|██████████| 7/7 [00:00<00:00, 114.76it/s, loss=2.12]\n"
          ]
        },
        {
          "output_type": "stream",
          "name": "stdout",
          "text": [
            "Epoch [868/3000]: Train loss: 2.1407, Valid loss: 2.3575\n"
          ]
        },
        {
          "output_type": "stream",
          "name": "stderr",
          "text": [
            "Epoch [869/3000]: 100%|██████████| 7/7 [00:00<00:00, 119.81it/s, loss=1.77]\n"
          ]
        },
        {
          "output_type": "stream",
          "name": "stdout",
          "text": [
            "Epoch [869/3000]: Train loss: 2.4621, Valid loss: 2.9809\n"
          ]
        },
        {
          "output_type": "stream",
          "name": "stderr",
          "text": [
            "Epoch [870/3000]: 100%|██████████| 7/7 [00:00<00:00, 127.79it/s, loss=2.01]\n"
          ]
        },
        {
          "output_type": "stream",
          "name": "stdout",
          "text": [
            "Epoch [870/3000]: Train loss: 2.4163, Valid loss: 2.2406\n"
          ]
        },
        {
          "output_type": "stream",
          "name": "stderr",
          "text": [
            "Epoch [871/3000]: 100%|██████████| 7/7 [00:00<00:00, 128.34it/s, loss=2.12]\n"
          ]
        },
        {
          "output_type": "stream",
          "name": "stdout",
          "text": [
            "Epoch [871/3000]: Train loss: 2.0531, Valid loss: 2.1599\n"
          ]
        },
        {
          "output_type": "stream",
          "name": "stderr",
          "text": [
            "Epoch [872/3000]: 100%|██████████| 7/7 [00:00<00:00, 90.38it/s, loss=2.51]\n"
          ]
        },
        {
          "output_type": "stream",
          "name": "stdout",
          "text": [
            "Epoch [872/3000]: Train loss: 2.1694, Valid loss: 2.2956\n"
          ]
        },
        {
          "output_type": "stream",
          "name": "stderr",
          "text": [
            "Epoch [873/3000]: 100%|██████████| 7/7 [00:00<00:00, 97.35it/s, loss=2.28]\n"
          ]
        },
        {
          "output_type": "stream",
          "name": "stdout",
          "text": [
            "Epoch [873/3000]: Train loss: 2.1077, Valid loss: 2.2448\n"
          ]
        },
        {
          "output_type": "stream",
          "name": "stderr",
          "text": [
            "Epoch [874/3000]: 100%|██████████| 7/7 [00:00<00:00, 110.27it/s, loss=1.93]\n"
          ]
        },
        {
          "output_type": "stream",
          "name": "stdout",
          "text": [
            "Epoch [874/3000]: Train loss: 2.2308, Valid loss: 2.2728\n"
          ]
        },
        {
          "output_type": "stream",
          "name": "stderr",
          "text": [
            "Epoch [875/3000]: 100%|██████████| 7/7 [00:00<00:00, 111.21it/s, loss=2.33]\n"
          ]
        },
        {
          "output_type": "stream",
          "name": "stdout",
          "text": [
            "Epoch [875/3000]: Train loss: 2.1645, Valid loss: 2.1184\n",
            "Saving model with loss 2.118...\n"
          ]
        },
        {
          "output_type": "stream",
          "name": "stderr",
          "text": [
            "Epoch [876/3000]: 100%|██████████| 7/7 [00:00<00:00, 116.17it/s, loss=2.13]\n"
          ]
        },
        {
          "output_type": "stream",
          "name": "stdout",
          "text": [
            "Epoch [876/3000]: Train loss: 2.1254, Valid loss: 3.2597\n"
          ]
        },
        {
          "output_type": "stream",
          "name": "stderr",
          "text": [
            "Epoch [877/3000]: 100%|██████████| 7/7 [00:00<00:00, 99.86it/s, loss=3.24]\n"
          ]
        },
        {
          "output_type": "stream",
          "name": "stdout",
          "text": [
            "Epoch [877/3000]: Train loss: 2.8119, Valid loss: 2.1539\n"
          ]
        },
        {
          "output_type": "stream",
          "name": "stderr",
          "text": [
            "Epoch [878/3000]: 100%|██████████| 7/7 [00:00<00:00, 107.55it/s, loss=2]\n"
          ]
        },
        {
          "output_type": "stream",
          "name": "stdout",
          "text": [
            "Epoch [878/3000]: Train loss: 2.7238, Valid loss: 2.2230\n"
          ]
        },
        {
          "output_type": "stream",
          "name": "stderr",
          "text": [
            "Epoch [879/3000]: 100%|██████████| 7/7 [00:00<00:00, 104.40it/s, loss=2.2]\n"
          ]
        },
        {
          "output_type": "stream",
          "name": "stdout",
          "text": [
            "Epoch [879/3000]: Train loss: 2.1403, Valid loss: 2.2272\n"
          ]
        },
        {
          "output_type": "stream",
          "name": "stderr",
          "text": [
            "Epoch [880/3000]: 100%|██████████| 7/7 [00:00<00:00, 109.95it/s, loss=2.31]\n"
          ]
        },
        {
          "output_type": "stream",
          "name": "stdout",
          "text": [
            "Epoch [880/3000]: Train loss: 2.0374, Valid loss: 2.7190\n"
          ]
        },
        {
          "output_type": "stream",
          "name": "stderr",
          "text": [
            "Epoch [881/3000]: 100%|██████████| 7/7 [00:00<00:00, 18.08it/s, loss=1.78]\n"
          ]
        },
        {
          "output_type": "stream",
          "name": "stdout",
          "text": [
            "Epoch [881/3000]: Train loss: 2.3601, Valid loss: 2.1209\n"
          ]
        },
        {
          "output_type": "stream",
          "name": "stderr",
          "text": [
            "Epoch [882/3000]: 100%|██████████| 7/7 [00:00<00:00, 95.49it/s, loss=1.79]\n"
          ]
        },
        {
          "output_type": "stream",
          "name": "stdout",
          "text": [
            "Epoch [882/3000]: Train loss: 2.0937, Valid loss: 2.3018\n"
          ]
        },
        {
          "output_type": "stream",
          "name": "stderr",
          "text": [
            "Epoch [883/3000]: 100%|██████████| 7/7 [00:00<00:00, 130.49it/s, loss=1.92]\n"
          ]
        },
        {
          "output_type": "stream",
          "name": "stdout",
          "text": [
            "Epoch [883/3000]: Train loss: 2.2219, Valid loss: 3.1916\n"
          ]
        },
        {
          "output_type": "stream",
          "name": "stderr",
          "text": [
            "Epoch [884/3000]: 100%|██████████| 7/7 [00:00<00:00, 133.07it/s, loss=2.27]\n"
          ]
        },
        {
          "output_type": "stream",
          "name": "stdout",
          "text": [
            "Epoch [884/3000]: Train loss: 2.2722, Valid loss: 2.1490\n"
          ]
        },
        {
          "output_type": "stream",
          "name": "stderr",
          "text": [
            "Epoch [885/3000]: 100%|██████████| 7/7 [00:00<00:00, 115.06it/s, loss=2.78]\n"
          ]
        },
        {
          "output_type": "stream",
          "name": "stdout",
          "text": [
            "Epoch [885/3000]: Train loss: 2.3611, Valid loss: 2.1906\n"
          ]
        },
        {
          "output_type": "stream",
          "name": "stderr",
          "text": [
            "Epoch [886/3000]: 100%|██████████| 7/7 [00:00<00:00, 121.17it/s, loss=2.82]\n"
          ]
        },
        {
          "output_type": "stream",
          "name": "stdout",
          "text": [
            "Epoch [886/3000]: Train loss: 2.6206, Valid loss: 2.4944\n"
          ]
        },
        {
          "output_type": "stream",
          "name": "stderr",
          "text": [
            "Epoch [887/3000]: 100%|██████████| 7/7 [00:00<00:00, 94.32it/s, loss=2.29]\n"
          ]
        },
        {
          "output_type": "stream",
          "name": "stdout",
          "text": [
            "Epoch [887/3000]: Train loss: 2.1385, Valid loss: 2.3129\n"
          ]
        },
        {
          "output_type": "stream",
          "name": "stderr",
          "text": [
            "Epoch [888/3000]: 100%|██████████| 7/7 [00:00<00:00, 95.82it/s, loss=3.51]\n"
          ]
        },
        {
          "output_type": "stream",
          "name": "stdout",
          "text": [
            "Epoch [888/3000]: Train loss: 2.3653, Valid loss: 4.4802\n"
          ]
        },
        {
          "output_type": "stream",
          "name": "stderr",
          "text": [
            "Epoch [889/3000]: 100%|██████████| 7/7 [00:00<00:00, 109.74it/s, loss=5.12]\n"
          ]
        },
        {
          "output_type": "stream",
          "name": "stdout",
          "text": [
            "Epoch [889/3000]: Train loss: 3.9100, Valid loss: 3.3389\n"
          ]
        },
        {
          "output_type": "stream",
          "name": "stderr",
          "text": [
            "Epoch [890/3000]: 100%|██████████| 7/7 [00:00<00:00, 102.98it/s, loss=5.09]\n"
          ]
        },
        {
          "output_type": "stream",
          "name": "stdout",
          "text": [
            "Epoch [890/3000]: Train loss: 4.8414, Valid loss: 3.9647\n"
          ]
        },
        {
          "output_type": "stream",
          "name": "stderr",
          "text": [
            "Epoch [891/3000]: 100%|██████████| 7/7 [00:00<00:00, 95.23it/s, loss=3.64]\n"
          ]
        },
        {
          "output_type": "stream",
          "name": "stdout",
          "text": [
            "Epoch [891/3000]: Train loss: 3.5723, Valid loss: 2.8616\n"
          ]
        },
        {
          "output_type": "stream",
          "name": "stderr",
          "text": [
            "Epoch [892/3000]: 100%|██████████| 7/7 [00:00<00:00, 102.63it/s, loss=6.8]\n"
          ]
        },
        {
          "output_type": "stream",
          "name": "stdout",
          "text": [
            "Epoch [892/3000]: Train loss: 3.4482, Valid loss: 2.3064\n"
          ]
        },
        {
          "output_type": "stream",
          "name": "stderr",
          "text": [
            "Epoch [893/3000]: 100%|██████████| 7/7 [00:00<00:00, 98.25it/s, loss=3.1]\n"
          ]
        },
        {
          "output_type": "stream",
          "name": "stdout",
          "text": [
            "Epoch [893/3000]: Train loss: 3.3405, Valid loss: 5.9791\n"
          ]
        },
        {
          "output_type": "stream",
          "name": "stderr",
          "text": [
            "Epoch [894/3000]: 100%|██████████| 7/7 [00:00<00:00, 105.76it/s, loss=2.28]\n"
          ]
        },
        {
          "output_type": "stream",
          "name": "stdout",
          "text": [
            "Epoch [894/3000]: Train loss: 2.7734, Valid loss: 2.5533\n"
          ]
        },
        {
          "output_type": "stream",
          "name": "stderr",
          "text": [
            "Epoch [895/3000]: 100%|██████████| 7/7 [00:00<00:00, 109.27it/s, loss=2.05]\n"
          ]
        },
        {
          "output_type": "stream",
          "name": "stdout",
          "text": [
            "Epoch [895/3000]: Train loss: 2.1818, Valid loss: 3.5673\n"
          ]
        },
        {
          "output_type": "stream",
          "name": "stderr",
          "text": [
            "Epoch [896/3000]: 100%|██████████| 7/7 [00:00<00:00, 94.86it/s, loss=5.04]\n"
          ]
        },
        {
          "output_type": "stream",
          "name": "stdout",
          "text": [
            "Epoch [896/3000]: Train loss: 3.7364, Valid loss: 5.2119\n"
          ]
        },
        {
          "output_type": "stream",
          "name": "stderr",
          "text": [
            "Epoch [897/3000]: 100%|██████████| 7/7 [00:00<00:00, 99.12it/s, loss=1.84]\n"
          ]
        },
        {
          "output_type": "stream",
          "name": "stdout",
          "text": [
            "Epoch [897/3000]: Train loss: 3.6188, Valid loss: 3.9037\n"
          ]
        },
        {
          "output_type": "stream",
          "name": "stderr",
          "text": [
            "Epoch [898/3000]: 100%|██████████| 7/7 [00:00<00:00, 102.04it/s, loss=2.27]\n"
          ]
        },
        {
          "output_type": "stream",
          "name": "stdout",
          "text": [
            "Epoch [898/3000]: Train loss: 2.9917, Valid loss: 3.0908\n"
          ]
        },
        {
          "output_type": "stream",
          "name": "stderr",
          "text": [
            "Epoch [899/3000]: 100%|██████████| 7/7 [00:00<00:00, 104.91it/s, loss=2.11]\n"
          ]
        },
        {
          "output_type": "stream",
          "name": "stdout",
          "text": [
            "Epoch [899/3000]: Train loss: 2.4830, Valid loss: 2.3530\n"
          ]
        },
        {
          "output_type": "stream",
          "name": "stderr",
          "text": [
            "Epoch [900/3000]: 100%|██████████| 7/7 [00:00<00:00, 102.83it/s, loss=2.21]\n"
          ]
        },
        {
          "output_type": "stream",
          "name": "stdout",
          "text": [
            "Epoch [900/3000]: Train loss: 2.2360, Valid loss: 2.4858\n"
          ]
        },
        {
          "output_type": "stream",
          "name": "stderr",
          "text": [
            "Epoch [901/3000]: 100%|██████████| 7/7 [00:00<00:00, 102.18it/s, loss=1.96]\n"
          ]
        },
        {
          "output_type": "stream",
          "name": "stdout",
          "text": [
            "Epoch [901/3000]: Train loss: 2.1428, Valid loss: 2.3253\n"
          ]
        },
        {
          "output_type": "stream",
          "name": "stderr",
          "text": [
            "Epoch [902/3000]: 100%|██████████| 7/7 [00:00<00:00, 105.60it/s, loss=3.17]\n"
          ]
        },
        {
          "output_type": "stream",
          "name": "stdout",
          "text": [
            "Epoch [902/3000]: Train loss: 2.3393, Valid loss: 3.0937\n"
          ]
        },
        {
          "output_type": "stream",
          "name": "stderr",
          "text": [
            "Epoch [903/3000]: 100%|██████████| 7/7 [00:00<00:00, 108.27it/s, loss=1.84]\n"
          ]
        },
        {
          "output_type": "stream",
          "name": "stdout",
          "text": [
            "Epoch [903/3000]: Train loss: 2.5529, Valid loss: 3.4527\n"
          ]
        },
        {
          "output_type": "stream",
          "name": "stderr",
          "text": [
            "Epoch [904/3000]: 100%|██████████| 7/7 [00:00<00:00, 120.65it/s, loss=2.7]\n"
          ]
        },
        {
          "output_type": "stream",
          "name": "stdout",
          "text": [
            "Epoch [904/3000]: Train loss: 2.5905, Valid loss: 4.3629\n"
          ]
        },
        {
          "output_type": "stream",
          "name": "stderr",
          "text": [
            "Epoch [905/3000]: 100%|██████████| 7/7 [00:00<00:00, 107.29it/s, loss=2.78]\n"
          ]
        },
        {
          "output_type": "stream",
          "name": "stdout",
          "text": [
            "Epoch [905/3000]: Train loss: 3.1889, Valid loss: 2.3700\n"
          ]
        },
        {
          "output_type": "stream",
          "name": "stderr",
          "text": [
            "Epoch [906/3000]: 100%|██████████| 7/7 [00:00<00:00, 98.87it/s, loss=3.51]\n"
          ]
        },
        {
          "output_type": "stream",
          "name": "stdout",
          "text": [
            "Epoch [906/3000]: Train loss: 3.2895, Valid loss: 2.3501\n"
          ]
        },
        {
          "output_type": "stream",
          "name": "stderr",
          "text": [
            "Epoch [907/3000]: 100%|██████████| 7/7 [00:00<00:00, 95.90it/s, loss=3.08]\n"
          ]
        },
        {
          "output_type": "stream",
          "name": "stdout",
          "text": [
            "Epoch [907/3000]: Train loss: 2.8291, Valid loss: 2.1834\n"
          ]
        },
        {
          "output_type": "stream",
          "name": "stderr",
          "text": [
            "Epoch [908/3000]: 100%|██████████| 7/7 [00:00<00:00, 97.14it/s, loss=3.02]\n"
          ]
        },
        {
          "output_type": "stream",
          "name": "stdout",
          "text": [
            "Epoch [908/3000]: Train loss: 2.8467, Valid loss: 2.5785\n"
          ]
        },
        {
          "output_type": "stream",
          "name": "stderr",
          "text": [
            "Epoch [909/3000]: 100%|██████████| 7/7 [00:00<00:00, 109.45it/s, loss=2.01]\n"
          ]
        },
        {
          "output_type": "stream",
          "name": "stdout",
          "text": [
            "Epoch [909/3000]: Train loss: 2.3053, Valid loss: 2.2520\n"
          ]
        },
        {
          "output_type": "stream",
          "name": "stderr",
          "text": [
            "Epoch [910/3000]: 100%|██████████| 7/7 [00:00<00:00, 105.22it/s, loss=2.48]\n"
          ]
        },
        {
          "output_type": "stream",
          "name": "stdout",
          "text": [
            "Epoch [910/3000]: Train loss: 2.1781, Valid loss: 2.2057\n"
          ]
        },
        {
          "output_type": "stream",
          "name": "stderr",
          "text": [
            "Epoch [911/3000]: 100%|██████████| 7/7 [00:00<00:00, 111.44it/s, loss=2.19]\n"
          ]
        },
        {
          "output_type": "stream",
          "name": "stdout",
          "text": [
            "Epoch [911/3000]: Train loss: 2.3093, Valid loss: 2.2440\n"
          ]
        },
        {
          "output_type": "stream",
          "name": "stderr",
          "text": [
            "Epoch [912/3000]: 100%|██████████| 7/7 [00:00<00:00, 101.41it/s, loss=2.21]\n"
          ]
        },
        {
          "output_type": "stream",
          "name": "stdout",
          "text": [
            "Epoch [912/3000]: Train loss: 2.0498, Valid loss: 2.1644\n"
          ]
        },
        {
          "output_type": "stream",
          "name": "stderr",
          "text": [
            "Epoch [913/3000]: 100%|██████████| 7/7 [00:00<00:00, 115.47it/s, loss=2.22]\n"
          ]
        },
        {
          "output_type": "stream",
          "name": "stdout",
          "text": [
            "Epoch [913/3000]: Train loss: 2.2980, Valid loss: 2.1814\n"
          ]
        },
        {
          "output_type": "stream",
          "name": "stderr",
          "text": [
            "Epoch [914/3000]: 100%|██████████| 7/7 [00:00<00:00, 123.80it/s, loss=1.42]\n"
          ]
        },
        {
          "output_type": "stream",
          "name": "stdout",
          "text": [
            "Epoch [914/3000]: Train loss: 2.0633, Valid loss: 2.6000\n"
          ]
        },
        {
          "output_type": "stream",
          "name": "stderr",
          "text": [
            "Epoch [915/3000]: 100%|██████████| 7/7 [00:00<00:00, 126.04it/s, loss=2.13]\n"
          ]
        },
        {
          "output_type": "stream",
          "name": "stdout",
          "text": [
            "Epoch [915/3000]: Train loss: 2.2818, Valid loss: 2.1211\n"
          ]
        },
        {
          "output_type": "stream",
          "name": "stderr",
          "text": [
            "Epoch [916/3000]: 100%|██████████| 7/7 [00:00<00:00, 124.22it/s, loss=2.32]\n"
          ]
        },
        {
          "output_type": "stream",
          "name": "stdout",
          "text": [
            "Epoch [916/3000]: Train loss: 2.0504, Valid loss: 2.1686\n"
          ]
        },
        {
          "output_type": "stream",
          "name": "stderr",
          "text": [
            "Epoch [917/3000]: 100%|██████████| 7/7 [00:00<00:00, 135.56it/s, loss=2.86]\n"
          ]
        },
        {
          "output_type": "stream",
          "name": "stdout",
          "text": [
            "Epoch [917/3000]: Train loss: 2.6071, Valid loss: 2.6199\n"
          ]
        },
        {
          "output_type": "stream",
          "name": "stderr",
          "text": [
            "Epoch [918/3000]: 100%|██████████| 7/7 [00:00<00:00, 133.16it/s, loss=2.6]\n"
          ]
        },
        {
          "output_type": "stream",
          "name": "stdout",
          "text": [
            "Epoch [918/3000]: Train loss: 2.5645, Valid loss: 2.2072\n"
          ]
        },
        {
          "output_type": "stream",
          "name": "stderr",
          "text": [
            "Epoch [919/3000]: 100%|██████████| 7/7 [00:00<00:00, 123.56it/s, loss=3.08]\n"
          ]
        },
        {
          "output_type": "stream",
          "name": "stdout",
          "text": [
            "Epoch [919/3000]: Train loss: 2.4107, Valid loss: 3.1424\n"
          ]
        },
        {
          "output_type": "stream",
          "name": "stderr",
          "text": [
            "Epoch [920/3000]: 100%|██████████| 7/7 [00:00<00:00, 133.93it/s, loss=1.59]\n"
          ]
        },
        {
          "output_type": "stream",
          "name": "stdout",
          "text": [
            "Epoch [920/3000]: Train loss: 2.4772, Valid loss: 2.1801\n"
          ]
        },
        {
          "output_type": "stream",
          "name": "stderr",
          "text": [
            "Epoch [921/3000]: 100%|██████████| 7/7 [00:00<00:00, 133.74it/s, loss=1.94]\n"
          ]
        },
        {
          "output_type": "stream",
          "name": "stdout",
          "text": [
            "Epoch [921/3000]: Train loss: 2.0614, Valid loss: 2.2170\n"
          ]
        },
        {
          "output_type": "stream",
          "name": "stderr",
          "text": [
            "Epoch [922/3000]: 100%|██████████| 7/7 [00:00<00:00, 130.67it/s, loss=2.29]\n"
          ]
        },
        {
          "output_type": "stream",
          "name": "stdout",
          "text": [
            "Epoch [922/3000]: Train loss: 2.0316, Valid loss: 2.4664\n"
          ]
        },
        {
          "output_type": "stream",
          "name": "stderr",
          "text": [
            "Epoch [923/3000]: 100%|██████████| 7/7 [00:00<00:00, 126.83it/s, loss=4.35]\n"
          ]
        },
        {
          "output_type": "stream",
          "name": "stdout",
          "text": [
            "Epoch [923/3000]: Train loss: 2.7216, Valid loss: 2.9688\n"
          ]
        },
        {
          "output_type": "stream",
          "name": "stderr",
          "text": [
            "Epoch [924/3000]: 100%|██████████| 7/7 [00:00<00:00, 131.30it/s, loss=2.48]\n"
          ]
        },
        {
          "output_type": "stream",
          "name": "stdout",
          "text": [
            "Epoch [924/3000]: Train loss: 3.0394, Valid loss: 4.6058\n"
          ]
        },
        {
          "output_type": "stream",
          "name": "stderr",
          "text": [
            "Epoch [925/3000]: 100%|██████████| 7/7 [00:00<00:00, 138.65it/s, loss=2.42]\n"
          ]
        },
        {
          "output_type": "stream",
          "name": "stdout",
          "text": [
            "Epoch [925/3000]: Train loss: 2.6877, Valid loss: 3.2056\n"
          ]
        },
        {
          "output_type": "stream",
          "name": "stderr",
          "text": [
            "Epoch [926/3000]: 100%|██████████| 7/7 [00:00<00:00, 128.35it/s, loss=1.83]\n"
          ]
        },
        {
          "output_type": "stream",
          "name": "stdout",
          "text": [
            "Epoch [926/3000]: Train loss: 2.6751, Valid loss: 3.7169\n"
          ]
        },
        {
          "output_type": "stream",
          "name": "stderr",
          "text": [
            "Epoch [927/3000]: 100%|██████████| 7/7 [00:00<00:00, 127.33it/s, loss=3.28]\n"
          ]
        },
        {
          "output_type": "stream",
          "name": "stdout",
          "text": [
            "Epoch [927/3000]: Train loss: 2.8907, Valid loss: 2.3030\n"
          ]
        },
        {
          "output_type": "stream",
          "name": "stderr",
          "text": [
            "Epoch [928/3000]: 100%|██████████| 7/7 [00:00<00:00, 134.51it/s, loss=2.2]\n"
          ]
        },
        {
          "output_type": "stream",
          "name": "stdout",
          "text": [
            "Epoch [928/3000]: Train loss: 2.3196, Valid loss: 3.7926\n"
          ]
        },
        {
          "output_type": "stream",
          "name": "stderr",
          "text": [
            "Epoch [929/3000]: 100%|██████████| 7/7 [00:00<00:00, 119.41it/s, loss=3.71]\n"
          ]
        },
        {
          "output_type": "stream",
          "name": "stdout",
          "text": [
            "Epoch [929/3000]: Train loss: 3.0605, Valid loss: 2.3062\n"
          ]
        },
        {
          "output_type": "stream",
          "name": "stderr",
          "text": [
            "Epoch [930/3000]: 100%|██████████| 7/7 [00:00<00:00, 112.29it/s, loss=3.22]\n"
          ]
        },
        {
          "output_type": "stream",
          "name": "stdout",
          "text": [
            "Epoch [930/3000]: Train loss: 3.1897, Valid loss: 2.6823\n"
          ]
        },
        {
          "output_type": "stream",
          "name": "stderr",
          "text": [
            "Epoch [931/3000]: 100%|██████████| 7/7 [00:00<00:00, 106.63it/s, loss=2.55]\n"
          ]
        },
        {
          "output_type": "stream",
          "name": "stdout",
          "text": [
            "Epoch [931/3000]: Train loss: 2.7986, Valid loss: 3.0569\n"
          ]
        },
        {
          "output_type": "stream",
          "name": "stderr",
          "text": [
            "Epoch [932/3000]: 100%|██████████| 7/7 [00:00<00:00, 106.39it/s, loss=2.4]\n"
          ]
        },
        {
          "output_type": "stream",
          "name": "stdout",
          "text": [
            "Epoch [932/3000]: Train loss: 2.3889, Valid loss: 2.1462\n"
          ]
        },
        {
          "output_type": "stream",
          "name": "stderr",
          "text": [
            "Epoch [933/3000]: 100%|██████████| 7/7 [00:00<00:00, 116.07it/s, loss=2.02]\n"
          ]
        },
        {
          "output_type": "stream",
          "name": "stdout",
          "text": [
            "Epoch [933/3000]: Train loss: 2.1028, Valid loss: 2.1500\n"
          ]
        },
        {
          "output_type": "stream",
          "name": "stderr",
          "text": [
            "Epoch [934/3000]: 100%|██████████| 7/7 [00:00<00:00, 129.32it/s, loss=2.42]\n"
          ]
        },
        {
          "output_type": "stream",
          "name": "stdout",
          "text": [
            "Epoch [934/3000]: Train loss: 2.1765, Valid loss: 2.5787\n"
          ]
        },
        {
          "output_type": "stream",
          "name": "stderr",
          "text": [
            "Epoch [935/3000]:   0%|          | 0/7 [00:00<?, ?it/s, loss=2.27]"
          ]
        }
      ],
      "source": [
        "model = My_Model(input_dim=x_train.shape[1]).to(device) # put your model and data on the same computation device.\n",
        "trainer(train_loader, valid_loader, model, config, device)"
      ]
    },
    {
      "cell_type": "markdown",
      "metadata": {
        "id": "yhAHGqC9-woK"
      },
      "source": [
        "# Testing\n",
        "The predictions of your model on testing set will be stored at `pred.csv`."
      ]
    },
    {
      "cell_type": "code",
      "execution_count": null,
      "metadata": {
        "id": "Q5eVdpbvAlAe"
      },
      "outputs": [],
      "source": [
        "def save_pred(preds, file):\n",
        "    ''' Save predictions to specified file '''\n",
        "    with open(file, 'w') as fp:\n",
        "        writer = csv.writer(fp)\n",
        "        writer.writerow(['tested_positive'])\n",
        "        writer.writerows(preds)\n",
        "\n",
        "model = My_Model(input_dim=x_train.shape[1]).to(device)\n",
        "model.load_state_dict(torch.load(config['save_path']))\n",
        "preds = predict(test_loader, model, device)\n",
        "save_pred(preds, 'pred.csv')"
      ]
    },
    {
      "cell_type": "markdown",
      "source": [
        "* Compare the prediction with true values\n"
      ],
      "metadata": {
        "id": "PDHaUfPzK98-"
      }
    },
    {
      "cell_type": "code",
      "source": [
        "!gdown --id '1c0HgE-5NhDjYIMiaNXMKrwVHU0R5zJXa' --output test_result.csv"
      ],
      "metadata": {
        "id": "7dZtiq5oLMJk"
      },
      "execution_count": null,
      "outputs": []
    },
    {
      "cell_type": "code",
      "source": [
        "test_result = pd.read_csv('./test_result.csv').values\n",
        "\n",
        "loss = preds - test_result\n",
        "square_loss = np.square(loss)\n",
        "mse = np.mean(square_loss)\n",
        "\n",
        "print(mse)"
      ],
      "metadata": {
        "id": "Ymah2hsMLV0G"
      },
      "execution_count": null,
      "outputs": []
    }
  ],
  "metadata": {
    "accelerator": "GPU",
    "colab": {
      "provenance": []
    },
    "kernelspec": {
      "display_name": "Python 3",
      "name": "python3"
    },
    "language_info": {
      "name": "python"
    }
  },
  "nbformat": 4,
  "nbformat_minor": 0
}