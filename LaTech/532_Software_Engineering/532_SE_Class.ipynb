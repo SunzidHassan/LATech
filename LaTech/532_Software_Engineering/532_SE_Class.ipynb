{
 "cells": [
  {
   "cell_type": "markdown",
   "metadata": {},
   "source": [
    "ACM membership "
   ]
  },
  {
   "cell_type": "markdown",
   "metadata": {},
   "source": [
    "## Lecture 2\n"
   ]
  },
  {
   "cell_type": "markdown",
   "metadata": {},
   "source": [
    "## Lecture 3\n",
    "\n",
    "First phase:\n",
    "Requirements\n",
    "Analysis: written by product owner that that can be understood by all. Understanding dependencies and doing prioritization. Checking of parties meant it.\n",
    "Prototyping and validation: success = maximizing feedback/minimizing cost. Engineers tend to build more and expend more. Prototypes shouldn't require coding. The goal is to keep/kill before you invest too much effort and grow emotions. Visual and interactive.\n",
    "\n",
    "Second: build and test should be seperate\n",
    "Build **: featuer driven development. When no more featuer needs to be added, alpha stage and start testing.\n",
    "Test (Bugs not usability): \n",
    "\n",
    "\n",
    "Deploy\n",
    "Document\n",
    "Maintain: KS - known shipable, new or unnoticed security threats, hardware/platform change\n",
    "\n",
    "Crunch: fix issues while developing new features\n",
    "Post-mortem: leadership member documents what needs to be stored as future reference.\n",
    "\n",
    "- Executive: sponsors the projejct, is responsible for the success/failure\n",
    "- Product owner: proxy of both customer and company, \"accurate empathy\". Communication between exec, marketer, dev, QA.\n",
    "- Marketer: \n",
    "- Technical lead: responsible for deciding approach, defines scope to management\n",
    "- Developer:\n",
    "- Customer: not necessarily the user\n",
    "- Project/product manager or Scrum master: fecilitate the process, tracks - making sure the train arrives and leaves on time.\n",
    "- QA: tries to break the software and finds bugs\n",
    "\n",
    "\n",
    "Product backlog: \n",
    "\n",
    "\n",
    "Waterfall: if every stage of development follows the previous one. Happens when the team, the need, the tools, etc. all stays same and risk is minimum. The requirements are known and won't change, the project has few unknows, \n",
    "\n",
    "Iterative development: steak example. The requirements are loose, many and changing unknowns, moving towards a target with each iteration.\n",
    "\n",
    "Incremental development: build baseball fields first, while it's in development build softball field, while they're in development build football field, and so on. Usually a large project, delivered components are fully functional, delivered over long period of time. Few unknowns and changing requirements.\n",
    "\n",
    "Iterative and incremental matrix:\n",
    "\n",
    "Agile: \n",
    "\n",
    "Agilemanifesto.org\n",
    "Individuals and interactions over processes and tools\n",
    "Working software over comprehensive documentation\n",
    "Customer collaboration over contract negotiation\n",
    "Responding to change over following a plan\n",
    "\n",
    "Face-to-face interaction\n",
    "Always have a workign build\n",
    "Embrace regular change\n",
    "Involve the customer"
   ]
  }
 ],
 "metadata": {
  "language_info": {
   "name": "python"
  },
  "orig_nbformat": 4
 },
 "nbformat": 4,
 "nbformat_minor": 2
}
