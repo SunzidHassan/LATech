{
 "cells": [
  {
   "cell_type": "markdown",
   "metadata": {},
   "source": [
    "Analog vs Digital Signals:\n",
    "- Analog signal is continuous and smooth.\n",
    "- Digital signal is discrete with high and low values.\n",
    "\n",
    "\n",
    "Advantage of Digital Control:\n",
    "- Robust: high and low\n",
    "- Flexibility\n",
    "\n",
    "Structure of Digital Control System:\n",
    "- Open loop: no feedback\n",
    "- Closed loop: with feedback\n",
    "\n",
    "Digital analog conversion: interpreter (driving car with analog control)\n",
    "Computer > DAC > Actuator and Process > Controlled variable > Sensor > ADC > Computer\n",
    "\n",
    "Examples:\n",
    "- Medicine dispenser"
   ]
  }
 ],
 "metadata": {
  "language_info": {
   "name": "python"
  }
 },
 "nbformat": 4,
 "nbformat_minor": 2
}
