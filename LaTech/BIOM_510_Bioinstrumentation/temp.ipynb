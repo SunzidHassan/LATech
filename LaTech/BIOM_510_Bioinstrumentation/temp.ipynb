{
 "cells": [
  {
   "cell_type": "markdown",
   "metadata": {},
   "source": [
    "### HW 4\n",
    "#### 1\n",
    "$$f\\left(a_1x_1+a_2x_2\\right)=m\\left(a_1x_1+a_2x_2\\right)+b=ma_1x_1+ma_2x_2+b$$\n",
    "$$f\\left(a_1x_1\\right)+f\\left(a_2x_2\\right)=m\\left(a_1x_1\\right)+b+m\\left(a_2x_2\\right)+b=ma_1x_1+ma_2x_2+2b$$\n",
    "\n",
    "If $b\\neq0$, then $b\\neq2b$ and characteristic $mx+b$ is not linear.\n",
    "\n",
    "Review: OK\n",
    "#### 2\n",
    "$$\\mathcal{L}\\{x_1+x_2\\}=\\int_0^{\\infin}(x_1(t)+x_2(t))e^{-st}\\text{dt}$$\n",
    "$$=\\int_0^{\\infin}x_1(t)e^{-st}\\text{dt}+\\int_0^{\\infin}x_2(t)e^{-st}\\text{dt}$$\n",
    "$$=\\mathcal{L}\\{x_1\\}+\\mathcal{L}\\{x_2\\}$$\n",
    "\n",
    "Laplace transform is linear.\n",
    "\n",
    "Review: OK\n",
    "\n",
    "#### 3\n",
    "Voltage $v_a$ and $v_b$ are determined by voltage dividers.\n",
    "$$v_a=V_s\\times\\frac{R_3}{R_1+R_3}$$\n",
    "$$v_b=V_s\\times\\frac{R_4}{R_2+R_4}$$\n",
    "$$v_a-v_b=V_s\\times\\left(\\frac{R_3}{R_1+R_3}-\\frac{R_4}{R_2+R_4}\\right)$$\n",
    "Review: OK\n",
    "\n",
    "#### 4\n",
    "$R_1=R_2+\\Delta R$ and replace $R_4$ with $R_3$\n",
    "\n",
    "$$v_a-v_b=V_s\\times\\left(\\frac{R_3}{R_2+\\Delta R+R_3}-\\frac{R_3}{R_2+R_3}\\right)$$\n",
    "Review: OK\n",
    "\n",
    "\n",
    "#### 5\n",
    "Review:\n",
    "$$v_a-v_b=V_s\\times\\left(\\frac{R_3}{R_2+\\Delta R+R_3}-\\frac{R_3}{R_2+R_3}\\right)$$\n",
    "$$v_a-v_b=V_s\\times\\left(\\frac{R_3/(R_2+R_3)}{1+\\Delta R/(R_2+R_3)}-\\frac{R_3}{R_2+R_3}\\right)$$\n",
    "$$v_a-v_b=V_s\\times\\left(\\frac{R_3}{(R_2+R_3)}(1-\\Delta R)/(R_2+R_3)-\\frac{R_3}{R_2+R_3}\\right)$$\n",
    "$$v_a-v_b\\approx -V_s(R_3/(R_2+R_3)^2)\\Delta R$$\n",
    "\n",
    "#### 6\n",
    "Review:\n",
    "\n",
    "$R_2=5$  \n",
    "$R_3=10$\n",
    "$\\Delta R=0.5$\n",
    "$V_S=20$\n",
    "\n",
    "$$v_a-v_b=20\\times\\left(\\frac{10}{5+0.5+10}-\\frac{10}{5+10}\\right)=-0.44$$\n",
    "\n",
    "$$v_a-v_b\\approx 20\\times\\left(\\frac{10}{(5+10)^2}\\times 0.5\\right)=-0.44$$"
   ]
  },
  {
   "cell_type": "markdown",
   "metadata": {},
   "source": []
  }
 ],
 "metadata": {
  "kernelspec": {
   "display_name": "base",
   "language": "python",
   "name": "python3"
  },
  "language_info": {
   "name": "python",
   "version": "3.12.7"
  }
 },
 "nbformat": 4,
 "nbformat_minor": 2
}
