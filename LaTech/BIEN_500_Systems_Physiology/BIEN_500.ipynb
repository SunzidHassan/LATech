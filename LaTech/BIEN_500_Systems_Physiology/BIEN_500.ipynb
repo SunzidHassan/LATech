{
 "cells": [
  {
   "cell_type": "markdown",
   "metadata": {},
   "source": [
    "## Chapter 1\n",
    "Homeostasis **\n",
    "\n",
    "Molar gradients *: Page 20\n",
    "\n",
    "Negative feedback **: page 21\n",
    "Example: Breath more if CO2 is high - reverse the initial condition.\n",
    "\n",
    "Positive feedback - the initiating condition causes more to occur: heart failure after some blood loss.\n",
    "\n",
    "+/- feedback good and bad.\n",
    "\n"
   ]
  },
  {
   "cell_type": "markdown",
   "metadata": {},
   "source": [
    "## Chapter 2: cell and functions\n",
    "\n",
    "Ions, proteins, carbs, lipids.\n",
    "\n",
    "Membrans: page 31 *\n",
    "\n",
    "Compare nano, microns with cell size.\n",
    "\n",
    "Second messenger: cells don't get the primary signals (e.g., light, chemicals), they sense by second messenger.\n",
    "\n",
    "Cytoplasm\n",
    "\n",
    "Granulated ER: Ribosomes are made of RNA and protein that makes proteins.\n",
    "Smooth ER makes lipids.\n",
    "\n",
    "Golgi: secretion\n",
    "\n",
    "Enzymes can build or destroy.\n",
    "\n",
    "Hydrogen peroxide kills outer\n",
    "\n",
    "Mitochondria. Power house. The foldings are to increase surface area.\n",
    "\n",
    "Filament and tubular: page 46\n",
    "\n",
    "Nucleus: page 47\n",
    "Nucleus has its own membrane - nuclear envolope. ER is continuous with membrane.\n",
    "\n",
    "Nucleoli page 48: clumps in nucleus.\n",
    "\n",
    "Scales page 49 ***: volume of cell can be a 1000 times in diameter and a billion times than that of a virus.\n",
    "\n",
    "\n",
    "\n",
    "Proteins are more like molecules than particles.\n",
    "\n",
    "Antibodies marks pathogens.\n",
    "\n",
    "Autolysis page 55: damange cells during exercise, that gets stronger. Also get rid of damanged cells.\n",
    "\n"
   ]
  }
 ],
 "metadata": {
  "language_info": {
   "name": "python"
  },
  "orig_nbformat": 4
 },
 "nbformat": 4,
 "nbformat_minor": 2
}
